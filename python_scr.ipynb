{
 "cells": [
  {
   "cell_type": "code",
   "execution_count": 1,
   "metadata": {},
   "outputs": [
    {
     "name": "stdout",
     "output_type": "stream",
     "text": [
      "Requirement already satisfied: yfinance in c:\\users\\mattb\\anaconda3\\lib\\site-packages (0.1.70)\n",
      "Requirement already satisfied: lxml>=4.5.1 in c:\\users\\mattb\\anaconda3\\lib\\site-packages (from yfinance) (4.6.3)\n",
      "Requirement already satisfied: numpy>=1.15 in c:\\users\\mattb\\anaconda3\\lib\\site-packages (from yfinance) (1.20.3)\n",
      "Requirement already satisfied: pandas>=0.24.0 in c:\\users\\mattb\\anaconda3\\lib\\site-packages (from yfinance) (1.3.4)\n",
      "Requirement already satisfied: multitasking>=0.0.7 in c:\\users\\mattb\\anaconda3\\lib\\site-packages (from yfinance) (0.0.10)\n",
      "Requirement already satisfied: requests>=2.26 in c:\\users\\mattb\\anaconda3\\lib\\site-packages (from yfinance) (2.26.0)\n",
      "Requirement already satisfied: pytz>=2017.3 in c:\\users\\mattb\\anaconda3\\lib\\site-packages (from pandas>=0.24.0->yfinance) (2021.3)\n",
      "Requirement already satisfied: python-dateutil>=2.7.3 in c:\\users\\mattb\\anaconda3\\lib\\site-packages (from pandas>=0.24.0->yfinance) (2.8.2)\n",
      "Requirement already satisfied: six>=1.5 in c:\\users\\mattb\\anaconda3\\lib\\site-packages (from python-dateutil>=2.7.3->pandas>=0.24.0->yfinance) (1.16.0)\n",
      "Requirement already satisfied: certifi>=2017.4.17 in c:\\users\\mattb\\anaconda3\\lib\\site-packages (from requests>=2.26->yfinance) (2021.10.8)\n",
      "Requirement already satisfied: charset-normalizer~=2.0.0 in c:\\users\\mattb\\anaconda3\\lib\\site-packages (from requests>=2.26->yfinance) (2.0.4)\n",
      "Requirement already satisfied: idna<4,>=2.5 in c:\\users\\mattb\\anaconda3\\lib\\site-packages (from requests>=2.26->yfinance) (3.2)\n",
      "Requirement already satisfied: urllib3<1.27,>=1.21.1 in c:\\users\\mattb\\anaconda3\\lib\\site-packages (from requests>=2.26->yfinance) (1.26.7)\n"
     ]
    }
   ],
   "source": [
    "!pip install yfinance\n",
    "import yfinance as yf\n",
    "import pandas as pd\n",
    "import numpy as np\n",
    "import random \n",
    "from tqdm import tqdm\n",
    "import plotly\n",
    "import plotly.graph_objects as go\n",
    "from plotly.subplots import make_subplots\n",
    "import plotly.express as px\n",
    "import plotly.figure_factory as ff"
   ]
  },
  {
   "cell_type": "code",
   "execution_count": 12,
   "metadata": {},
   "outputs": [
    {
     "name": "stdout",
     "output_type": "stream",
     "text": [
      "[*********************100%***********************]  1 of 1 completed\n",
      "[*********************100%***********************]  1 of 1 completed\n",
      "        Date      MSFT       WMT\n",
      "0 2015-01-02       NaN       NaN\n",
      "1 2015-01-05 -0.009196 -0.002910\n",
      "2 2015-01-06 -0.014677  0.007705\n",
      "3 2015-01-07  0.012705  0.026533\n",
      "4 2015-01-08  0.029418  0.021107\n"
     ]
    }
   ],
   "source": [
    "# asset_list = ['MSFT', 'WMT']\n",
    "asset_list = ['MSFT', 'WMT', 'JPM', 'TGT', 'AAPL', 'GOOGL', 'ABT', 'KO', 'AMZN', 'NVDA']\n",
    "# asset_list = ['MSFT', 'WMT', 'JPM']\n",
    "# asset_list = ['MSFT', 'AAPL', 'GOOGL', 'AMZN', 'NVDA']\n",
    "\n",
    "# set the risk-free rate\n",
    "risk_free_rate = 0.04\n",
    "\n",
    "#-- How many portfolios to generate, a standard PC might start to struggle at 100,000\n",
    "n_portfolios = 1000\n",
    "\n",
    "sd = \"2015-01-01\"\n",
    "ed = \"2022-12-31\"\n",
    "int = \"1d\"\n",
    "\n",
    "def create_dataframe(ticker):\n",
    "    df = yf.download(ticker, start=sd, end=ed, interval=int)\n",
    "    df = df.reset_index(level=0)\n",
    "    df = df[[\"Date\", \"Adj Close\"]]\n",
    "    df = df.rename({'Adj Close': \"price\"}, axis=1)  # new method\n",
    "    df[\"ret\"] = (df.price - (df.price.shift(1)))/df.price.shift(1)\n",
    "    df = df.drop('price', axis=1)\n",
    "    df = df.rename({'ret': ticker}, axis=1)  # new method\n",
    "    return df\n",
    "\n",
    "\n",
    "daily_returns = create_dataframe(asset_list[0])\n",
    "for i in asset_list[1:]:\n",
    "    df2 = create_dataframe(i)\n",
    "    daily_returns = daily_returns.merge(df2, how='inner', on='Date')\n",
    "print (daily_returns.head())\n",
    "daily_returns = daily_returns.drop('Date', axis=1)"
   ]
  },
  {
   "cell_type": "code",
   "execution_count": 15,
   "metadata": {},
   "outputs": [
    {
     "name": "stdout",
     "output_type": "stream",
     "text": [
      "       MSFT       WMT\n",
      "0       NaN       NaN\n",
      "1 -0.009196 -0.002910\n",
      "2 -0.014677  0.007705\n",
      "3  0.012705  0.026533\n",
      "4  0.029418  0.021107\n",
      "          MSFT       WMT\n",
      "MSFT  0.000415  0.000211\n",
      "WMT   0.000211  0.000177\n",
      "MSFT    0.000415\n",
      "WMT     0.000177\n",
      "dtype: float64\n"
     ]
    }
   ],
   "source": [
    "x = daily_returns.head()\n",
    "print (x)\n",
    "print (x.cov())\n",
    "print (x.var())"
   ]
  },
  {
   "cell_type": "code",
   "execution_count": 3,
   "metadata": {},
   "outputs": [],
   "source": [
    "#-- Get annualised mean returns\n",
    "mus = (1+daily_returns.mean())**252 - 1\n",
    "# mus = (daily_returns.mean())*252\n",
    "\n",
    "#-- Get covariances\n",
    "#- Multiply by 252 to annualise it (square root time for volatility but no square root for variance)\n",
    "#- Note: 252 trading days in a year\n",
    "#- https://quant.stackexchange.com/questions/4753/annualized-covariance\n",
    "cov = daily_returns.cov()*252\n",
    "var = daily_returns.var()*252\n"
   ]
  },
  {
   "cell_type": "code",
   "execution_count": 4,
   "metadata": {},
   "outputs": [
    {
     "data": {
      "application/vnd.plotly.v1+json": {
       "config": {
        "plotlyServerURL": "https://plot.ly"
       },
       "data": [
        {
         "mode": "markers",
         "text": [
          "MSFT",
          "WMT",
          "JPM",
          "TGT",
          "AAPL",
          "GOOGL",
          "ABT",
          "KO",
          "AMZN",
          "NVDA"
         ],
         "type": "scatter",
         "x": [
          0.07924591464152837,
          0.048743812086856964,
          0.08136266231113824,
          0.09823636779968277,
          0.08968854779288392,
          0.08001421372998525,
          0.060641071300758215,
          0.035232258760493525,
          0.11086569608121055,
          0.2314022764741444
         ],
         "y": [
          0.2985456682742704,
          0.11486844270054064,
          0.17737185542594536,
          0.17674441162764554,
          0.28805253272646536,
          0.20987853358076958,
          0.17495065848633407,
          0.10673301308940952,
          0.3063037407759519,
          0.7183866314201952
         ]
        }
       ],
       "layout": {
        "height": 500,
        "template": {
         "data": {
          "bar": [
           {
            "error_x": {
             "color": "#2a3f5f"
            },
            "error_y": {
             "color": "#2a3f5f"
            },
            "marker": {
             "line": {
              "color": "white",
              "width": 0.5
             }
            },
            "type": "bar"
           }
          ],
          "barpolar": [
           {
            "marker": {
             "line": {
              "color": "white",
              "width": 0.5
             }
            },
            "type": "barpolar"
           }
          ],
          "carpet": [
           {
            "aaxis": {
             "endlinecolor": "#2a3f5f",
             "gridcolor": "#C8D4E3",
             "linecolor": "#C8D4E3",
             "minorgridcolor": "#C8D4E3",
             "startlinecolor": "#2a3f5f"
            },
            "baxis": {
             "endlinecolor": "#2a3f5f",
             "gridcolor": "#C8D4E3",
             "linecolor": "#C8D4E3",
             "minorgridcolor": "#C8D4E3",
             "startlinecolor": "#2a3f5f"
            },
            "type": "carpet"
           }
          ],
          "choropleth": [
           {
            "colorbar": {
             "outlinewidth": 0,
             "ticks": ""
            },
            "type": "choropleth"
           }
          ],
          "contour": [
           {
            "colorbar": {
             "outlinewidth": 0,
             "ticks": ""
            },
            "colorscale": [
             [
              0,
              "#0d0887"
             ],
             [
              0.1111111111111111,
              "#46039f"
             ],
             [
              0.2222222222222222,
              "#7201a8"
             ],
             [
              0.3333333333333333,
              "#9c179e"
             ],
             [
              0.4444444444444444,
              "#bd3786"
             ],
             [
              0.5555555555555556,
              "#d8576b"
             ],
             [
              0.6666666666666666,
              "#ed7953"
             ],
             [
              0.7777777777777778,
              "#fb9f3a"
             ],
             [
              0.8888888888888888,
              "#fdca26"
             ],
             [
              1,
              "#f0f921"
             ]
            ],
            "type": "contour"
           }
          ],
          "contourcarpet": [
           {
            "colorbar": {
             "outlinewidth": 0,
             "ticks": ""
            },
            "type": "contourcarpet"
           }
          ],
          "heatmap": [
           {
            "colorbar": {
             "outlinewidth": 0,
             "ticks": ""
            },
            "colorscale": [
             [
              0,
              "#0d0887"
             ],
             [
              0.1111111111111111,
              "#46039f"
             ],
             [
              0.2222222222222222,
              "#7201a8"
             ],
             [
              0.3333333333333333,
              "#9c179e"
             ],
             [
              0.4444444444444444,
              "#bd3786"
             ],
             [
              0.5555555555555556,
              "#d8576b"
             ],
             [
              0.6666666666666666,
              "#ed7953"
             ],
             [
              0.7777777777777778,
              "#fb9f3a"
             ],
             [
              0.8888888888888888,
              "#fdca26"
             ],
             [
              1,
              "#f0f921"
             ]
            ],
            "type": "heatmap"
           }
          ],
          "heatmapgl": [
           {
            "colorbar": {
             "outlinewidth": 0,
             "ticks": ""
            },
            "colorscale": [
             [
              0,
              "#0d0887"
             ],
             [
              0.1111111111111111,
              "#46039f"
             ],
             [
              0.2222222222222222,
              "#7201a8"
             ],
             [
              0.3333333333333333,
              "#9c179e"
             ],
             [
              0.4444444444444444,
              "#bd3786"
             ],
             [
              0.5555555555555556,
              "#d8576b"
             ],
             [
              0.6666666666666666,
              "#ed7953"
             ],
             [
              0.7777777777777778,
              "#fb9f3a"
             ],
             [
              0.8888888888888888,
              "#fdca26"
             ],
             [
              1,
              "#f0f921"
             ]
            ],
            "type": "heatmapgl"
           }
          ],
          "histogram": [
           {
            "marker": {
             "colorbar": {
              "outlinewidth": 0,
              "ticks": ""
             }
            },
            "type": "histogram"
           }
          ],
          "histogram2d": [
           {
            "colorbar": {
             "outlinewidth": 0,
             "ticks": ""
            },
            "colorscale": [
             [
              0,
              "#0d0887"
             ],
             [
              0.1111111111111111,
              "#46039f"
             ],
             [
              0.2222222222222222,
              "#7201a8"
             ],
             [
              0.3333333333333333,
              "#9c179e"
             ],
             [
              0.4444444444444444,
              "#bd3786"
             ],
             [
              0.5555555555555556,
              "#d8576b"
             ],
             [
              0.6666666666666666,
              "#ed7953"
             ],
             [
              0.7777777777777778,
              "#fb9f3a"
             ],
             [
              0.8888888888888888,
              "#fdca26"
             ],
             [
              1,
              "#f0f921"
             ]
            ],
            "type": "histogram2d"
           }
          ],
          "histogram2dcontour": [
           {
            "colorbar": {
             "outlinewidth": 0,
             "ticks": ""
            },
            "colorscale": [
             [
              0,
              "#0d0887"
             ],
             [
              0.1111111111111111,
              "#46039f"
             ],
             [
              0.2222222222222222,
              "#7201a8"
             ],
             [
              0.3333333333333333,
              "#9c179e"
             ],
             [
              0.4444444444444444,
              "#bd3786"
             ],
             [
              0.5555555555555556,
              "#d8576b"
             ],
             [
              0.6666666666666666,
              "#ed7953"
             ],
             [
              0.7777777777777778,
              "#fb9f3a"
             ],
             [
              0.8888888888888888,
              "#fdca26"
             ],
             [
              1,
              "#f0f921"
             ]
            ],
            "type": "histogram2dcontour"
           }
          ],
          "mesh3d": [
           {
            "colorbar": {
             "outlinewidth": 0,
             "ticks": ""
            },
            "type": "mesh3d"
           }
          ],
          "parcoords": [
           {
            "line": {
             "colorbar": {
              "outlinewidth": 0,
              "ticks": ""
             }
            },
            "type": "parcoords"
           }
          ],
          "pie": [
           {
            "automargin": true,
            "type": "pie"
           }
          ],
          "scatter": [
           {
            "marker": {
             "colorbar": {
              "outlinewidth": 0,
              "ticks": ""
             }
            },
            "type": "scatter"
           }
          ],
          "scatter3d": [
           {
            "line": {
             "colorbar": {
              "outlinewidth": 0,
              "ticks": ""
             }
            },
            "marker": {
             "colorbar": {
              "outlinewidth": 0,
              "ticks": ""
             }
            },
            "type": "scatter3d"
           }
          ],
          "scattercarpet": [
           {
            "marker": {
             "colorbar": {
              "outlinewidth": 0,
              "ticks": ""
             }
            },
            "type": "scattercarpet"
           }
          ],
          "scattergeo": [
           {
            "marker": {
             "colorbar": {
              "outlinewidth": 0,
              "ticks": ""
             }
            },
            "type": "scattergeo"
           }
          ],
          "scattergl": [
           {
            "marker": {
             "colorbar": {
              "outlinewidth": 0,
              "ticks": ""
             }
            },
            "type": "scattergl"
           }
          ],
          "scattermapbox": [
           {
            "marker": {
             "colorbar": {
              "outlinewidth": 0,
              "ticks": ""
             }
            },
            "type": "scattermapbox"
           }
          ],
          "scatterpolar": [
           {
            "marker": {
             "colorbar": {
              "outlinewidth": 0,
              "ticks": ""
             }
            },
            "type": "scatterpolar"
           }
          ],
          "scatterpolargl": [
           {
            "marker": {
             "colorbar": {
              "outlinewidth": 0,
              "ticks": ""
             }
            },
            "type": "scatterpolargl"
           }
          ],
          "scatterternary": [
           {
            "marker": {
             "colorbar": {
              "outlinewidth": 0,
              "ticks": ""
             }
            },
            "type": "scatterternary"
           }
          ],
          "surface": [
           {
            "colorbar": {
             "outlinewidth": 0,
             "ticks": ""
            },
            "colorscale": [
             [
              0,
              "#0d0887"
             ],
             [
              0.1111111111111111,
              "#46039f"
             ],
             [
              0.2222222222222222,
              "#7201a8"
             ],
             [
              0.3333333333333333,
              "#9c179e"
             ],
             [
              0.4444444444444444,
              "#bd3786"
             ],
             [
              0.5555555555555556,
              "#d8576b"
             ],
             [
              0.6666666666666666,
              "#ed7953"
             ],
             [
              0.7777777777777778,
              "#fb9f3a"
             ],
             [
              0.8888888888888888,
              "#fdca26"
             ],
             [
              1,
              "#f0f921"
             ]
            ],
            "type": "surface"
           }
          ],
          "table": [
           {
            "cells": {
             "fill": {
              "color": "#EBF0F8"
             },
             "line": {
              "color": "white"
             }
            },
            "header": {
             "fill": {
              "color": "#C8D4E3"
             },
             "line": {
              "color": "white"
             }
            },
            "type": "table"
           }
          ]
         },
         "layout": {
          "annotationdefaults": {
           "arrowcolor": "#2a3f5f",
           "arrowhead": 0,
           "arrowwidth": 1
          },
          "autotypenumbers": "strict",
          "coloraxis": {
           "colorbar": {
            "outlinewidth": 0,
            "ticks": ""
           }
          },
          "colorscale": {
           "diverging": [
            [
             0,
             "#8e0152"
            ],
            [
             0.1,
             "#c51b7d"
            ],
            [
             0.2,
             "#de77ae"
            ],
            [
             0.3,
             "#f1b6da"
            ],
            [
             0.4,
             "#fde0ef"
            ],
            [
             0.5,
             "#f7f7f7"
            ],
            [
             0.6,
             "#e6f5d0"
            ],
            [
             0.7,
             "#b8e186"
            ],
            [
             0.8,
             "#7fbc41"
            ],
            [
             0.9,
             "#4d9221"
            ],
            [
             1,
             "#276419"
            ]
           ],
           "sequential": [
            [
             0,
             "#0d0887"
            ],
            [
             0.1111111111111111,
             "#46039f"
            ],
            [
             0.2222222222222222,
             "#7201a8"
            ],
            [
             0.3333333333333333,
             "#9c179e"
            ],
            [
             0.4444444444444444,
             "#bd3786"
            ],
            [
             0.5555555555555556,
             "#d8576b"
            ],
            [
             0.6666666666666666,
             "#ed7953"
            ],
            [
             0.7777777777777778,
             "#fb9f3a"
            ],
            [
             0.8888888888888888,
             "#fdca26"
            ],
            [
             1,
             "#f0f921"
            ]
           ],
           "sequentialminus": [
            [
             0,
             "#0d0887"
            ],
            [
             0.1111111111111111,
             "#46039f"
            ],
            [
             0.2222222222222222,
             "#7201a8"
            ],
            [
             0.3333333333333333,
             "#9c179e"
            ],
            [
             0.4444444444444444,
             "#bd3786"
            ],
            [
             0.5555555555555556,
             "#d8576b"
            ],
            [
             0.6666666666666666,
             "#ed7953"
            ],
            [
             0.7777777777777778,
             "#fb9f3a"
            ],
            [
             0.8888888888888888,
             "#fdca26"
            ],
            [
             1,
             "#f0f921"
            ]
           ]
          },
          "colorway": [
           "#636efa",
           "#EF553B",
           "#00cc96",
           "#ab63fa",
           "#FFA15A",
           "#19d3f3",
           "#FF6692",
           "#B6E880",
           "#FF97FF",
           "#FECB52"
          ],
          "font": {
           "color": "#2a3f5f"
          },
          "geo": {
           "bgcolor": "white",
           "lakecolor": "white",
           "landcolor": "white",
           "showlakes": true,
           "showland": true,
           "subunitcolor": "#C8D4E3"
          },
          "hoverlabel": {
           "align": "left"
          },
          "hovermode": "closest",
          "mapbox": {
           "style": "light"
          },
          "paper_bgcolor": "white",
          "plot_bgcolor": "white",
          "polar": {
           "angularaxis": {
            "gridcolor": "#EBF0F8",
            "linecolor": "#EBF0F8",
            "ticks": ""
           },
           "bgcolor": "white",
           "radialaxis": {
            "gridcolor": "#EBF0F8",
            "linecolor": "#EBF0F8",
            "ticks": ""
           }
          },
          "scene": {
           "xaxis": {
            "backgroundcolor": "white",
            "gridcolor": "#DFE8F3",
            "gridwidth": 2,
            "linecolor": "#EBF0F8",
            "showbackground": true,
            "ticks": "",
            "zerolinecolor": "#EBF0F8"
           },
           "yaxis": {
            "backgroundcolor": "white",
            "gridcolor": "#DFE8F3",
            "gridwidth": 2,
            "linecolor": "#EBF0F8",
            "showbackground": true,
            "ticks": "",
            "zerolinecolor": "#EBF0F8"
           },
           "zaxis": {
            "backgroundcolor": "white",
            "gridcolor": "#DFE8F3",
            "gridwidth": 2,
            "linecolor": "#EBF0F8",
            "showbackground": true,
            "ticks": "",
            "zerolinecolor": "#EBF0F8"
           }
          },
          "shapedefaults": {
           "line": {
            "color": "#2a3f5f"
           }
          },
          "ternary": {
           "aaxis": {
            "gridcolor": "#DFE8F3",
            "linecolor": "#A2B1C6",
            "ticks": ""
           },
           "baxis": {
            "gridcolor": "#DFE8F3",
            "linecolor": "#A2B1C6",
            "ticks": ""
           },
           "bgcolor": "white",
           "caxis": {
            "gridcolor": "#DFE8F3",
            "linecolor": "#A2B1C6",
            "ticks": ""
           }
          },
          "title": {
           "x": 0.05
          },
          "xaxis": {
           "automargin": true,
           "gridcolor": "#EBF0F8",
           "linecolor": "#EBF0F8",
           "ticks": "",
           "title": {
            "standoff": 15
           },
           "zerolinecolor": "#EBF0F8",
           "zerolinewidth": 2
          },
          "yaxis": {
           "automargin": true,
           "gridcolor": "#EBF0F8",
           "linecolor": "#EBF0F8",
           "ticks": "",
           "title": {
            "standoff": 15
           },
           "zerolinecolor": "#EBF0F8",
           "zerolinewidth": 2
          }
         }
        },
        "title": {
         "text": "Sample of Random Assets"
        },
        "width": 850,
        "xaxis": {
         "title": {
          "text": "Annualised Risk (Volatility)"
         }
        },
        "yaxis": {
         "title": {
          "text": "Annualised Return"
         }
        }
       }
      }
     },
     "metadata": {},
     "output_type": "display_data"
    }
   ],
   "source": [
    "fig = go.Figure()\n",
    "fig.add_trace(go.Scatter(x=var, y=mus, \n",
    "                      mode='markers',\n",
    "                      text = var.axes[0].tolist()))\n",
    "fig.update_layout(template='plotly_white',\n",
    "                  xaxis=dict(title='Annualised Risk (Volatility)'),\n",
    "                  yaxis=dict(title='Annualised Return'),\n",
    "                  title='Sample of Random Assets',\n",
    "                  width=850,\n",
    "                  height=500)\n",
    "# fig.update_xaxes(range=[0.18, 0.32])\n",
    "# fig.update_yaxes(range=[0.02,0.27])"
   ]
  },
  {
   "cell_type": "code",
   "execution_count": 5,
   "metadata": {},
   "outputs": [],
   "source": [
    "#- How many assests to include in each portfolio\n",
    "n_assets = len(asset_list)\n",
    "\n",
    "\n",
    "#-- Initialize empty list to store mean-variance pairs for plotting\n",
    "mean_variance_pairs = []\n",
    "\n",
    "np.random.seed(75)\n",
    "#-- Loop through and generate lots of random portfolios\n",
    "for i in range(n_portfolios):\n",
    "    #- Choose assets randomly without replacement\n",
    "    assets = np.random.choice(list(daily_returns.columns), n_assets, replace=False)\n",
    "    #- Choose weights randomly\n",
    "    weights = np.random.rand(n_assets)\n",
    "    #- Ensure weights sum to 1\n",
    "    weights = weights/sum(weights)\n",
    "\n",
    "    #-- Loop over asset pairs and compute portfolio return and variance\n",
    "    #- https://quant.stackexchange.com/questions/43442/portfolio-variance-explanation-for-equation-investments-by-zvi-bodie\n",
    "    portfolio_E_Variance = 0\n",
    "    portfolio_E_Return = 0\n",
    "    for i in range(len(assets)):\n",
    "        portfolio_E_Return += weights[i] * mus.loc[assets[i]]\n",
    "        for j in range(len(assets)):\n",
    "            #-- Add variance/covariance for each asset pair\n",
    "            #- Note that when i==j this adds the variance\n",
    "            portfolio_E_Variance += weights[i] * weights[j] * cov.loc[assets[i], assets[j]]\n",
    "            \n",
    "    #-- Add the mean/variance pairs to a list for plotting\n",
    "    mean_variance_pairs.append([portfolio_E_Return, portfolio_E_Variance])\n",
    "    "
   ]
  },
  {
   "cell_type": "code",
   "execution_count": 6,
   "metadata": {},
   "outputs": [
    {
     "data": {
      "application/vnd.plotly.v1+json": {
       "config": {
        "plotlyServerURL": "https://plot.ly"
       },
       "data": [
        {
         "marker": {
          "color": [
           1.0666777495131299,
           1.025248802813763,
           0.9151822343156494,
           1.077756094878852,
           1.107563069345308,
           0.9013342605879385,
           0.9885774274902525,
           1.0718288468765194,
           1.036514068539219,
           1.1066320465210282,
           0.9030828703373978,
           1.0161696136387228,
           0.9800573413096842,
           0.8216409470878641,
           0.938500681312993,
           0.837455772544228,
           1.022675893029811,
           1.007618667562228,
           0.9900407502484097,
           1.0302451693100838,
           1.0515235116154722,
           0.923388352302418,
           1.0656491117817442,
           1.0414991915355303,
           1.0648568447189313,
           1.1023284326916625,
           0.8874916172553116,
           0.9289939000303615,
           1.1617540299491735,
           1.0338408894231572,
           0.9454306052931032,
           0.9635394347319388,
           0.9806228103827777,
           0.9894456122269255,
           1.1254643720449382,
           1.0584459613809294,
           0.9868875244045144,
           1.1107983294277308,
           1.019266603518462,
           0.8999457553938714,
           0.8149815975607078,
           1.0898565253720152,
           1.0221012585006188,
           1.1254588135505288,
           0.8590187633591818,
           0.9211190395471581,
           1.005121815521952,
           0.9374804055247451,
           0.9115332377891358,
           1.0184542898704714,
           0.7982052727079229,
           0.8657316207521459,
           1.0975551966780988,
           0.9763881577777438,
           1.0724501883889457,
           1.0336948155417263,
           0.9052037247670724,
           1.1472881834765503,
           1.1003944619535457,
           1.067877438943098,
           1.0296167510915564,
           0.8711158203655658,
           0.9324235973835688,
           0.887033664420432,
           0.904254929179243,
           0.8759176441899871,
           0.8947873318418458,
           0.9266336555839937,
           1.0166572948265107,
           0.8149956618098015,
           1.143266994349787,
           0.9857923656245787,
           1.0065709329147436,
           1.0426079305535252,
           1.0321222213560297,
           0.9832789045203296,
           0.9173646845442809,
           0.9383219147138866,
           0.9251500391773324,
           1.0447042466691332,
           1.1105901702167347,
           1.008610674008402,
           0.9929354967108558,
           1.0010185859656069,
           0.9231771921380529,
           1.0636510809341473,
           1.0184862900084632,
           0.9987325447194285,
           1.0406996716469852,
           1.0910688377822888,
           0.9706134048748446,
           0.9442813842077553,
           1.0217494327181815,
           0.8567026075475762,
           1.0110073998682352,
           1.0231130232756114,
           1.04119264587193,
           0.8916319531976651,
           1.1151057997161828,
           1.0333331448826875,
           1.0718607270046923,
           1.1275043869505985,
           1.112448152370353,
           0.9224946994435157,
           1.1125401293986221,
           1.090885826680303,
           1.0845038477007647,
           1.000593197100701,
           1.049469239295977,
           1.0165807099431763,
           1.0015456585018474,
           0.921895190070378,
           1.000144939723957,
           1.0927729653978457,
           1.039161795086656,
           0.7724945834374943,
           0.9201611475078535,
           1.1009587397777516,
           1.0451852389083114,
           1.0746783816897052,
           1.1551510706948565,
           0.9084708792303726,
           0.8700922100703522,
           1.0015136904417377,
           0.7934862798734595,
           0.9536052276481806,
           0.7825822138416986,
           1.2089722287748477,
           0.9500197564763669,
           1.0709286314837159,
           1.004112898827383,
           0.9024852997188709,
           0.9975276320751629,
           1.001812298126322,
           0.9996605192982758,
           1.0449166173106552,
           0.8799942379860571,
           0.866207861465142,
           1.0322037672851658,
           0.9318542394360732,
           0.9141544617586133,
           1.152099594772207,
           1.1950919584405837,
           1.0736534482957092,
           1.054219296700701,
           0.9912255746552993,
           1.078010384598857,
           1.0479465357771882,
           1.0475723426200276,
           0.9341583399361497,
           0.9417507008995528,
           0.9981856556832263,
           0.983467574669284,
           1.0032106479690108,
           1.1321770588993914,
           0.9412366876379631,
           0.9746567733289048,
           0.8923919295892166,
           0.949383164954558,
           0.927792188719494,
           0.9492228359983589,
           1.0985789915289694,
           0.9797836033256805,
           0.9357060789742201,
           0.9957095970515808,
           0.8781474299478514,
           1.109469711566709,
           1.2076611077890167,
           1.1510735002238643,
           0.9153274001533808,
           1.0935436457200458,
           1.14944522234307,
           1.116683708992942,
           0.8397339994629336,
           1.0036191703521873,
           1.0801419806338493,
           0.8617304215513714,
           0.8871594360520636,
           1.1142766887654374,
           0.9797224550920878,
           1.0272050058976572,
           1.020474910559537,
           1.1066380003530514,
           1.0660427713011442,
           0.9936792072405393,
           0.8909422688370591,
           0.970326862909903,
           1.1691378101532919,
           0.9775917840588866,
           1.0793397470723491,
           0.963316463473311,
           0.9657205314531829,
           0.9731935056586567,
           1.1766796185912871,
           1.1259690920428418,
           1.0421819820808242,
           0.9989764845721635,
           0.9542593676721501,
           1.1103733988912687,
           1.1874908910355015,
           0.9830799121076041,
           1.007963189173843,
           0.9998758339411625,
           1.0421108596507351,
           0.9561095845723027,
           1.1078246568464964,
           1.054862227040996,
           0.8837837321023243,
           1.1231886292886524,
           1.103509193114283,
           1.053919607003848,
           0.8615230764726424,
           0.9671326114829625,
           0.9653679639513588,
           1.0690072010865768,
           0.9258158311083584,
           1.1088704294164609,
           0.844825711281588,
           0.8811028109497496,
           0.9164983545754873,
           0.9221029598571164,
           0.9005988067630993,
           1.0496400440020246,
           0.8887433167474577,
           1.0366609486578755,
           1.086854970802572,
           1.0670293597520717,
           0.957048351248509,
           1.0281416657092306,
           1.0350782908718559,
           0.8830240308878611,
           0.9087796619695129,
           1.106882062498278,
           0.852828186876798,
           0.9896538971879507,
           0.8583767393334139,
           0.9545441496747995,
           1.0106722006092113,
           0.9635826621400158,
           0.9540274828942902,
           1.103214753977995,
           0.9184956115887103,
           0.8972314446260726,
           1.0678876188387014,
           0.9976653960040985,
           0.9241009549238531,
           1.0289536344416128,
           1.1403391142086299,
           0.9125872927362578,
           1.0244859991725417,
           1.0187008556449728,
           1.0623415031043169,
           1.0829643702026541,
           1.0508122979555852,
           0.8253577643242886,
           1.0040741238406352,
           0.7671402224057767,
           1.1310383002424818,
           0.9166107663312628,
           0.9470923077497465,
           0.9943403573082481,
           1.0767390981882832,
           1.154790205802792,
           1.0584639744836468,
           0.9128721496365133,
           1.0253463936529936,
           1.162435452336141,
           1.0088177505733826,
           0.9345102734229711,
           1.0972879402736277,
           1.0104079869829463,
           1.1555847582603236,
           1.0216113893615562,
           1.0909126817769315,
           1.098433558516399,
           1.0217348873029501,
           1.1271936992129667,
           1.0168417577595705,
           1.1007905247022456,
           1.043227240055611,
           1.04779701916289,
           1.0444781673800374,
           1.0527443993094685,
           1.0773687346543037,
           0.9732781849531601,
           1.0591954126394818,
           0.965736538546809,
           1.0424463191754212,
           1.0581023318131748,
           1.003915998625323,
           1.1051740755812935,
           1.0495052688825162,
           1.1730945682076805,
           1.151213168901233,
           1.0541287866185267,
           1.0351937698504539,
           0.9199367328566282,
           1.1578428724305558,
           1.1140871717731324,
           1.077279142915273,
           1.0121263445568487,
           0.8913197431089113,
           0.915518588098742,
           1.0005204846975198,
           1.0306013356203856,
           1.0897065694439068,
           1.1518643254793595,
           0.9875048610928651,
           1.1346409167436315,
           1.1282491341541294,
           1.0983137988183729,
           1.108037284751226,
           1.1384040667262547,
           0.9848645929710023,
           1.0009246801964298,
           1.0137333274866502,
           1.0155604009518844,
           0.9890503836323488,
           1.1263789398892639,
           1.096201509039412,
           0.8666902107497761,
           1.040871527317653,
           1.1756150454941534,
           1.111324198419116,
           1.0504244385967516,
           1.0812058334873438,
           0.9177400734745643,
           0.8620272123009205,
           1.0383799147882766,
           1.071435955233664,
           0.855700728772347,
           0.9442160172976931,
           1.1609196277447758,
           1.030382608926756,
           0.9085838502218427,
           0.9147536006698666,
           0.9497441337537842,
           0.9008153911133728,
           1.1129482986311297,
           1.1281919271405543,
           0.9143041523212256,
           1.1344334507276372,
           0.9672810820098684,
           0.8904011174090497,
           0.9115620146170877,
           1.0072000453802414,
           1.1451049489892622,
           0.948815710647714,
           0.8938754959297371,
           1.0520463261300435,
           1.080410151186696,
           0.9852176895547484,
           0.8186349330966325,
           1.0701089559596428,
           1.0005555676757742,
           1.2160902139147145,
           1.0560985688935787,
           1.0948842509917993,
           0.9405698393707355,
           1.0641307380514196,
           0.9347139200364405,
           1.0267597248483886,
           0.88734499142231,
           1.1338601117413487,
           1.1238749812300652,
           0.8783518802112583,
           1.057363307106614,
           0.8423991577162575,
           1.0317459718686859,
           1.1366701241238226,
           0.995625488574064,
           1.0548897216633897,
           1.1246446698845447,
           1.1083826390989884,
           1.0705688921906997,
           0.9683987696259175,
           1.1670033952942442,
           1.0932478485383343,
           0.9884204841665563,
           1.0697830628927898,
           0.9225672555990161,
           1.073003225062176,
           0.9875627252410414,
           1.0064399381171822,
           1.1188186200994317,
           1.1451217552138975,
           0.9974154147405822,
           1.0898570624124881,
           1.0911262752388913,
           1.1244749847060136,
           0.9123601241969076,
           1.1334977633448862,
           1.0192746384940665,
           1.1051528168975449,
           1.1206535777439703,
           0.8755617263180914,
           0.9114974279482335,
           1.2167565212916616,
           1.091009213641214,
           0.9555235880451671,
           0.9621724829482219,
           1.123423802688229,
           0.841194035799977,
           0.9474779424550898,
           1.0197974675045562,
           0.895846729627964,
           1.0385129524122845,
           1.0759438618817685,
           1.1488440390072427,
           1.03864238489685,
           1.165114839838821,
           1.0486214187391338,
           0.9785089762518828,
           0.92464590170236,
           1.1680710331451745,
           1.1620874209165701,
           0.9096875367307993,
           0.9347984238632009,
           1.041756066214935,
           0.9673495493611854,
           1.1480139274173102,
           0.9931068286421452,
           1.0775333155325806,
           0.8990879701969919,
           1.0657321291829807,
           0.9359204299793152,
           1.0070630356330388,
           0.9088430586202454,
           0.954164350424303,
           1.0391793146695532,
           1.0479791719524651,
           0.9007163042662713,
           0.9249989182594065,
           0.975019473905232,
           1.0151112297762106,
           0.9679748095963986,
           0.916159592772056,
           0.9936361478993222,
           1.0952710291464935,
           0.9868003318676145,
           0.8667255553035597,
           1.098230782352883,
           1.0695041992857897,
           0.9784948396420989,
           0.9058107937265598,
           1.1057580441213175,
           1.1123139425381068,
           1.0267699478207637,
           1.1139131656354722,
           1.1975288197924066,
           1.0588384102335489,
           1.0602762511582786,
           1.019180896775314,
           0.9042183515762566,
           1.0784666449149403,
           0.9596870021180316,
           1.1540038856810535,
           0.9951094374762227,
           1.058133322534476,
           0.9264289295941627,
           0.9233335963480548,
           1.143571199520662,
           1.0845431653353497,
           1.0502829087180425,
           1.1064602075684373,
           0.8906395949224982,
           1.1988271188786017,
           1.0611328854735866,
           1.1182082168764178,
           1.1393408832449847,
           1.1154635812429496,
           1.0922741154474744,
           1.1146851428228657,
           1.1295013941590681,
           1.057642867713779,
           1.0874860905038262,
           1.0055320121898152,
           0.9538651708850746,
           0.8757385033514232,
           1.056422468929661,
           1.0524468152036577,
           1.0713760616981503,
           1.0045658541087872,
           1.083755931107723,
           1.110464438200822,
           0.8755008882408617,
           0.9347829913917773,
           0.8731102036270991,
           1.097493399031278,
           0.987878436043891,
           1.0806139162768913,
           0.8543661578906621,
           1.0360832877080712,
           0.9797880211397397,
           1.088555597784541,
           1.0854604331397397,
           1.0961382616354736,
           1.0253002420754607,
           0.9001834431545792,
           1.089963907826374,
           1.0874527260976072,
           1.0432379932493323,
           0.9040487019765368,
           1.1108634813391876,
           1.1337297035501661,
           0.8876061230509795,
           1.114598297077682,
           1.0806314365568166,
           0.9928011398975866,
           1.1295281531938992,
           1.164907536957011,
           0.9363137262625965,
           1.113631207224894,
           1.0459092502498835,
           1.0035188710134384,
           1.183535219782947,
           1.0985770359429523,
           0.9989311013451719,
           0.8935993679841336,
           1.0834005607260089,
           1.0317068712457789,
           1.0842697896448203,
           1.135321336907594,
           0.9510841149206406,
           0.8685119496854466,
           1.0129750159233135,
           1.0765942359514968,
           1.2485123942697935,
           0.9372943905109774,
           1.1097017165866854,
           1.0046298047965,
           0.9682683138635408,
           1.056340869486783,
           1.0320859646775926,
           0.9847688874814692,
           1.1129387342227322,
           1.064317849825366,
           0.9810202758482043,
           1.0422380966725955,
           1.0936253494797281,
           0.8504564619636205,
           1.0465860517610786,
           1.0862499195802144,
           1.1319911009471597,
           1.0680568784887856,
           1.140390486367464,
           1.0208319787720614,
           1.0741863931684656,
           1.0823684455811236,
           1.1413398992583375,
           1.1381451142305365,
           1.0269718566512231,
           1.0463411743632738,
           0.9769647658942441,
           0.8812407799731202,
           1.193446476834312,
           0.9505974719737496,
           1.127074283322142,
           1.1100019387607314,
           1.1186936871453406,
           1.1285245725543132,
           1.154585090287421,
           1.0103460305361773,
           1.0550260593082101,
           1.037678339935327,
           0.9981378695274602,
           0.9197954913101538,
           1.0362514752850782,
           0.9917589112377619,
           0.8308505907038597,
           1.1231357397234678,
           1.0996397561547055,
           0.9539988142564987,
           0.9368050421300859,
           1.0331272095961288,
           0.8749536472180881,
           0.9548505012040639,
           1.1527571497138938,
           0.9949706573104125,
           0.9178080022814264,
           1.1204350595085502,
           1.145906925485721,
           1.0429360573571036,
           0.9931754041130046,
           1.0615619834072783,
           1.0280112200918778,
           1.0379287903985346,
           0.8322169613483711,
           0.9716323997342672,
           1.0936636172576606,
           0.9093325978066128,
           1.0650978990719058,
           1.0797695626580741,
           1.0700652762420062,
           1.0728868271355403,
           0.8534996851206481,
           1.127962531299228,
           1.0471824389954467,
           1.155401799369188,
           1.1485163248406758,
           0.9183810989803939,
           1.1332161191428958,
           1.0265081877479798,
           1.0680167147938973,
           0.8785055559534941,
           1.0261509489303775,
           1.1175337305705961,
           0.9391504752727634,
           0.9068028775356121,
           1.0059290914056211,
           1.096416458747814,
           0.8502597011588389,
           1.0380555689202866,
           0.9688408464177836,
           0.932456992588609,
           1.1169192460039528,
           0.962920551577731,
           1.0856177202227484,
           1.1112383958479848,
           0.9216896795790038,
           1.018111597440492,
           0.7740418071255627,
           0.9451699134144235,
           0.9762584816493421,
           1.0506944809973533,
           0.8614304116182206,
           1.0105904376856893,
           1.1150536674264482,
           1.0972171467086216,
           1.0710289713546504,
           1.0973517537066138,
           0.9501056837465219,
           1.0432761148036784,
           1.038966595134625,
           0.849324351292599,
           1.1424861276608123,
           0.9299467069193746,
           0.9396881547617559,
           0.9797162283087065,
           1.1883309087378529,
           1.0766830204976021,
           0.9204639341227991,
           1.1771601771330722,
           1.126763342258652,
           0.9063725627305382,
           1.0071771941188794,
           0.9620875369319568,
           1.110228832624823,
           1.0722236515008214,
           1.1324310818482288,
           1.0605471051152442,
           1.0758012565432153,
           0.9728258199973302,
           1.0387237253647892,
           1.0479758613386185,
           1.01666399524319,
           0.8934711286099514,
           1.1037541844519159,
           1.1410747084867665,
           1.0182606571168484,
           1.0522204737016463,
           1.0647040340192377,
           1.0973652629726356,
           0.9756671975794565,
           1.035058086624489,
           1.017255446346376,
           0.9213302455618735,
           1.0535871136021644,
           0.9976938169909652,
           0.9709977214122413,
           1.054231353203473,
           1.088396732780534,
           1.0847533492159351,
           0.8618952900046344,
           1.1670982450482204,
           0.7705710813101764,
           0.9558961103233574,
           1.0741074988524673,
           1.053164549953373,
           1.0838520600544095,
           0.9752004500757979,
           1.123638261442873,
           1.0685713615624948,
           0.8687243395784364,
           1.0350176478360482,
           0.7653661174909197,
           0.9584356605957751,
           0.9317720755248355,
           0.9683052617424389,
           0.9877101635203491,
           1.0833687165075674,
           1.0011960577790044,
           1.0699405731261056,
           1.179535862084201,
           1.0654277405705719,
           1.1056766487534382,
           0.8773489794502026,
           1.0813612120623552,
           0.905519262623531,
           0.8540783350445931,
           1.0817877158829559,
           1.0669426553905283,
           0.8071780125836835,
           1.1676092479912605,
           0.9219481786534893,
           0.9840064671883363,
           0.8731675708224181,
           1.0200291995347048,
           0.9979217278998358,
           0.9499693360290727,
           0.9741448750890827,
           1.1064853760144968,
           1.076044235760688,
           0.85772414284983,
           1.088085916337728,
           0.9761297207432147,
           1.1025520212289208,
           0.9452112865930095,
           0.8630283744162629,
           0.8797439327825844,
           1.0744926190867232,
           1.2080900128296344,
           1.0538558875931583,
           1.0537422401940497,
           0.832389302354978,
           0.9705718544830289,
           1.0544960281241758,
           0.837994749173421,
           1.1260218421551955,
           1.1222226422011226,
           0.905986620120996,
           1.015149765320964,
           1.0008229939412625,
           1.1086959123127322,
           0.9929144079473263,
           1.0003125144009937,
           1.1238181397882137,
           1.197097891069281,
           0.8844293515400515,
           1.0995044953859965,
           1.1182263401832275,
           1.0920526097595578,
           1.1446248742544478,
           1.0696874072874694,
           0.8804536187752315,
           1.03851686951116,
           1.113167270857913,
           1.0998835319480325,
           1.004435068223771,
           1.0766179664675437,
           0.9611411999934499,
           0.9919983537966328,
           1.030661619467238,
           1.0117767366417925,
           1.098510460988546,
           1.102376256860701,
           0.9241454182610994,
           0.8606418565216116,
           1.0501000476599835,
           0.9506787229838868,
           0.9378005742686667,
           0.9120650402241177,
           1.0590683082787886,
           1.0476292524014712,
           0.9726374350904697,
           0.8305892706174276,
           1.0845892915565492,
           0.9032583664091283,
           0.960111131362185,
           0.995497295604421,
           0.8605425659632097,
           0.9429356542442349,
           0.9771956513482284,
           0.9487089143691763,
           1.12276421027866,
           0.9792678657619764,
           1.0389044948112327,
           0.7806374057448021,
           1.1499557468655857,
           0.9840250201148095,
           1.103844137856541,
           1.188761503060882,
           0.7988501929315126,
           0.926231639526217,
           0.8590260022278163,
           0.9966708832699583,
           0.9151049360230405,
           1.1636782755910695,
           1.1239205374516485,
           1.102459243061227,
           1.0355390261229862,
           1.11691261177523,
           1.0659252629623284,
           1.0044835816358115,
           0.8609482337301865,
           1.0553163002134,
           1.1195093115790062,
           1.1698364165496966,
           1.0268676756507276,
           1.1129097034799016,
           0.9186284040722409,
           1.0467688888708202,
           1.1315440619398547,
           0.9443914882190502,
           1.0569431235015838,
           1.0429765257422836,
           1.0438402261447144,
           0.9861519168916049,
           1.1367846502236048,
           1.08768256111294,
           0.9367506830913975,
           0.9317153240216125,
           1.0529756135933546,
           1.0553220934689296,
           0.9108623456225405,
           1.0801311661546555,
           0.8574206668205469,
           0.9709091432722062,
           1.0880369148298894,
           0.8986956071405142,
           1.092630798236921,
           0.9255944651948398,
           1.0239550097582888,
           0.9359204136022382,
           0.967836967164939,
           0.9137084505890481,
           0.9642460195410734,
           0.9149528901191463,
           1.0325353395427899,
           1.0735008974571354,
           1.1227678486908121,
           1.100519440665715,
           1.1135164941611981,
           1.1097272811899301,
           1.0019473446748,
           1.0245633480534337,
           0.9565849128549095,
           1.0355528377331846,
           0.9590777378509024,
           0.9843768971044918,
           1.0703474934774866,
           0.9319128907015134,
           1.0323264616084036,
           0.9824187899755843,
           1.0265290774954616,
           1.038750321552602,
           0.9463923771977113,
           1.1025621499323164,
           1.1339550518848194,
           1.1125713868577902,
           0.8668956735044264,
           0.843588557784348,
           0.8914008142498164,
           0.919673310599476,
           1.1416085398608322,
           1.1599501444105782,
           0.8997199079515183,
           0.8107530032310758,
           1.1189472529272086,
           1.0643054109054348,
           1.0696424056452558,
           1.093848191888245,
           0.8073646886432722,
           1.1857734866713134,
           0.87956661086454,
           1.0782651268137808,
           1.1331931061241514,
           1.1509462944470905,
           0.9957708419715243,
           1.0101666720739129,
           1.0456958869833333,
           0.9966994836854992,
           1.0970957655744626,
           0.9783598514796215,
           0.9977353841958214,
           0.9917395115765905,
           1.0241616393803297,
           0.9304225988535919,
           0.8753042872247121,
           1.0854319031050634,
           0.9385392874243154,
           0.9735676584115617,
           0.9356221650672845,
           1.1442040165698455,
           1.0433479946903603,
           1.0703410288781954,
           1.1004498375316913,
           1.0296349353018768,
           0.9419167216245783,
           1.0499776884715346,
           0.9303311822886308,
           1.048898084556775,
           1.2093735142041815,
           0.9189048901588172,
           1.046323382775815,
           0.9723882491533108,
           0.9258052803333549,
           0.9689473058081367,
           1.0002957815976903,
           0.8896543246547406,
           1.1256171274946032,
           0.9585601213553349,
           1.1344950341482176,
           1.0013059191107723,
           0.8939645114873558,
           1.0802223336317969,
           1.0219498851440323,
           1.177713409884814,
           0.9991794876090209,
           1.041444493594561,
           0.8000995491552052,
           1.143692853251053,
           1.1654290316978941,
           1.1582210463569471,
           1.0817494615989156,
           1.1092684595106124,
           1.0348186463767832,
           0.9893946011960272,
           0.9886092563180566,
           0.8755984558972799,
           1.105355228659097,
           0.9176192335862571,
           1.0219129503930082,
           1.088757116206038,
           1.066679041362852,
           1.1956294751386838,
           0.9053872724322628,
           0.8964114345415619,
           0.8722616914822895,
           1.0156854474189285,
           1.065367531748916,
           1.0432516644705583,
           1.0914122194403835,
           1.1493805950320286,
           1.0992016911561793,
           1.0962809286278203,
           0.93530107223533,
           0.9937011420095752,
           0.9930989286092782,
           1.1300101763417,
           1.0107715260652739,
           0.8873562594970078,
           1.028722394947528,
           1.078482578877836,
           0.8421122624612781,
           1.1222060717607807,
           0.9818287099647387,
           1.0513516684181563,
           1.0770421286131777,
           1.0530240484422635,
           0.9509356760203204,
           0.945319955169558,
           1.201867188486588,
           1.010980732051186,
           0.7854192055528046,
           0.9429285908016437,
           0.8866547527040932,
           1.0439180500416583,
           1.1478576112744758,
           0.8966696283202957,
           0.8331305313409407,
           1.1472453634046709,
           0.9704164007903245,
           1.0723834580586102,
           0.9410859961387037,
           1.1390390132259864,
           0.9549574464682556,
           1.0803136252228331,
           1.0539466491246978,
           1.006386415223257,
           0.8952736799092108,
           0.9196114535204447,
           1.0246410019208576,
           1.0191676042114233,
           0.8873616053464295,
           0.971813982787262,
           0.9781169121383833,
           1.146634054573549,
           0.9929635625888512,
           0.8485806036816445,
           1.1030399898321446,
           1.1140178463961072,
           1.1654968487643445,
           1.1216389467146104,
           0.9596855880700208,
           1.0847492659909774,
           0.994002841363557,
           0.9741050204290181,
           1.1272200748072145,
           0.9488303207652705,
           0.9147315715472807,
           1.0757466788365009,
           0.9080395239386443,
           1.0120892053402566,
           1.0363699034592373,
           0.9960640423919379,
           1.0680670303128785,
           0.9059034929921769,
           0.9510716852785697,
           1.0999939615161014
          ],
          "colorbar": {
           "title": {
            "text": "Sharpe<br>Ratio"
           }
          },
          "colorscale": [
           [
            0,
            "rgb(103,0,31)"
           ],
           [
            0.1,
            "rgb(178,24,43)"
           ],
           [
            0.2,
            "rgb(214,96,77)"
           ],
           [
            0.3,
            "rgb(244,165,130)"
           ],
           [
            0.4,
            "rgb(253,219,199)"
           ],
           [
            0.5,
            "rgb(247,247,247)"
           ],
           [
            0.6,
            "rgb(209,229,240)"
           ],
           [
            0.7,
            "rgb(146,197,222)"
           ],
           [
            0.8,
            "rgb(67,147,195)"
           ],
           [
            0.9,
            "rgb(33,102,172)"
           ],
           [
            1,
            "rgb(5,48,97)"
           ]
          ],
          "line": {
           "width": 1
          },
          "showscale": true,
          "size": 7
         },
         "mode": "markers",
         "type": "scatter",
         "x": [
          0.20183912898381104,
          0.20848462969870685,
          0.19771209613637167,
          0.22316442929562896,
          0.22037559638974313,
          0.19154574816584038,
          0.22247738800436262,
          0.21685768155597282,
          0.2101827888141199,
          0.226140296407119,
          0.20341116983473154,
          0.19940159558214748,
          0.21137745894665674,
          0.19354072840153397,
          0.19412581306858037,
          0.19494575384177323,
          0.2114246141790547,
          0.2044359062829826,
          0.2019295323035396,
          0.20275131072643765,
          0.2329477209045598,
          0.20797233031738604,
          0.21002045924358337,
          0.20053878587411372,
          0.22173073695074533,
          0.22375102206902484,
          0.20040131995761376,
          0.19698693708921458,
          0.23967334869752244,
          0.20122013850063086,
          0.21078196684607367,
          0.19699388006848767,
          0.2027361177156918,
          0.1951696658224959,
          0.21980396491724297,
          0.2136752825324251,
          0.21946266809419773,
          0.2077879884551079,
          0.2021191221297277,
          0.2047301081870623,
          0.1957125792970546,
          0.2267245509562503,
          0.20521191912298167,
          0.22503579406335705,
          0.20216598246144293,
          0.19603746115727286,
          0.20844765716317484,
          0.20440507897390556,
          0.20291284400813153,
          0.21834102555961019,
          0.17864175100017138,
          0.19448412365805945,
          0.213085737813578,
          0.206601611302731,
          0.21956358867540834,
          0.19962986234591504,
          0.1957711720999585,
          0.23018988392427764,
          0.2160871481019008,
          0.21647175452050615,
          0.21510298556635196,
          0.19022662619230268,
          0.20309898497549678,
          0.21443190727086442,
          0.19910720123641246,
          0.19084911606021115,
          0.2004710882604601,
          0.18398709679078132,
          0.2001681702655979,
          0.2024672831877142,
          0.23423980250238785,
          0.2194118706449031,
          0.2045931703072459,
          0.2127393575578865,
          0.21182880878008875,
          0.19483227037534112,
          0.20828965194917487,
          0.18996564268492458,
          0.19597061874978117,
          0.20649110804198803,
          0.21346186942173748,
          0.2032555562380024,
          0.20494443280260313,
          0.21573423684012227,
          0.20967420193990216,
          0.2206186590717313,
          0.21809870424450062,
          0.20715950456276036,
          0.2080483251451572,
          0.21633446738124942,
          0.20093005234881073,
          0.20656029532159598,
          0.20164978085034146,
          0.18988661299289697,
          0.20591715923520781,
          0.22616520166095994,
          0.20805430801951108,
          0.1988871598057847,
          0.23015930026115933,
          0.20136314012099185,
          0.22301157812655353,
          0.21230292945308898,
          0.22881386886922878,
          0.2038527993068614,
          0.2199217058508454,
          0.21403335748867844,
          0.22467485727127048,
          0.2215285653381115,
          0.23102463169675116,
          0.21980973131693762,
          0.21094846853862753,
          0.19957524809170352,
          0.23724507164302336,
          0.23125091361145547,
          0.2141399682122644,
          0.18418910011279094,
          0.20261408371106115,
          0.22182271807568874,
          0.2170811768754976,
          0.21706148245598883,
          0.22858533739750958,
          0.19553981949463417,
          0.20131569706924216,
          0.20460095091546648,
          0.18585942313366094,
          0.19735971618343123,
          0.20450129430887642,
          0.2381409864577807,
          0.19336094575460203,
          0.22382455929864617,
          0.2098847038062377,
          0.19642200212792368,
          0.2004902296748605,
          0.20898360080761094,
          0.21514838607111272,
          0.21406712712957676,
          0.19581042226520465,
          0.19318588445385723,
          0.20980161404413283,
          0.19201478476117675,
          0.20025058875031893,
          0.22046611692241205,
          0.22723238144892005,
          0.2263714665785372,
          0.20991486310204008,
          0.20213868116267378,
          0.2118640243179107,
          0.20297302269313916,
          0.22112132616726415,
          0.20718120611106905,
          0.20199300892160985,
          0.20144578169340416,
          0.2070707096234502,
          0.19819367111467207,
          0.21874055122398178,
          0.20253081709395732,
          0.18988794404874068,
          0.19373227991929415,
          0.20636658279745942,
          0.19823166204597684,
          0.204942851841355,
          0.219859772484576,
          0.20002871424137042,
          0.21118852622748044,
          0.1966662459430785,
          0.21113185496199444,
          0.22247589569692555,
          0.2568787211225783,
          0.23432036611638837,
          0.19522945291636024,
          0.20816943964275467,
          0.23086028070058645,
          0.22580990324775718,
          0.18677461523341038,
          0.21320008923083655,
          0.20861026706469502,
          0.1902574357017424,
          0.20859178921569058,
          0.2427571927947394,
          0.19735677075100977,
          0.21112734507106948,
          0.21882279814258598,
          0.21949514910155654,
          0.20741589094628218,
          0.21086469799274896,
          0.19819868244759095,
          0.2162815467768439,
          0.2259131486560222,
          0.20771399199205537,
          0.2126893279540286,
          0.20568170938524363,
          0.21939942890248348,
          0.20499727656041558,
          0.2335258693116803,
          0.22505596360799304,
          0.21028136853696938,
          0.20645311453546522,
          0.19783033418679943,
          0.22149100247456524,
          0.2266907279159722,
          0.20662087406457527,
          0.20254258322434224,
          0.1970785847110938,
          0.20754610305993204,
          0.20049649634946612,
          0.22206732110007896,
          0.2160213597041767,
          0.19873224149339985,
          0.22171500434838384,
          0.2302374774017264,
          0.21711478193452147,
          0.20022829339877504,
          0.20318392393475,
          0.19561409143743552,
          0.22041983926764117,
          0.19819046143340344,
          0.21928855491926835,
          0.1922505437072903,
          0.19438763796667052,
          0.2098554521334399,
          0.19657143961400833,
          0.19729053645387526,
          0.20841262791945944,
          0.2004018321258608,
          0.21804435435187158,
          0.219837891849286,
          0.2143281201638295,
          0.1920857600379448,
          0.23098333174346608,
          0.2081421154604315,
          0.19987269147855824,
          0.20255654751758448,
          0.20938173604285235,
          0.1895288172578623,
          0.20562165634366797,
          0.2056827835472392,
          0.21362178046622632,
          0.20537316178573303,
          0.21111058801813054,
          0.19412601059678444,
          0.2136450959833101,
          0.1991116818783837,
          0.20667913341874186,
          0.20781432059775087,
          0.19526319425107513,
          0.20449976202752543,
          0.22315296811955887,
          0.23153629686080524,
          0.20078795814532627,
          0.20791259797633582,
          0.21074980365665527,
          0.20759882783873634,
          0.21038976764077452,
          0.21174427886572297,
          0.18400255682476974,
          0.2008814233402622,
          0.1913625184222019,
          0.22384318098359474,
          0.19659992843576554,
          0.2232966947363761,
          0.21544641845696252,
          0.21301305094416942,
          0.25127076630695716,
          0.21834597747218437,
          0.19555606845058787,
          0.2211591041184931,
          0.24229561314563428,
          0.19632932131623493,
          0.19866898480746006,
          0.22170106525166905,
          0.2104975594083209,
          0.21275953894492425,
          0.20936498648843094,
          0.21597604126516465,
          0.22003178447117464,
          0.19763272920477626,
          0.22177808899354798,
          0.2114290515115622,
          0.21512192076043885,
          0.2091200434165355,
          0.21535685498245868,
          0.21423272821549752,
          0.20990245359822227,
          0.21822877416323128,
          0.2057160428913879,
          0.20423491201517516,
          0.19893218325090323,
          0.21829441287277188,
          0.21188998711363943,
          0.20201032842225977,
          0.21455087609781542,
          0.2129875973810812,
          0.2459258183444682,
          0.22077999691154382,
          0.21540191985586948,
          0.227356838389201,
          0.21016003542475717,
          0.22971687012000377,
          0.22577843209153736,
          0.2125920639642339,
          0.21168557509909008,
          0.19647099054879316,
          0.19256997705621073,
          0.22007614843449988,
          0.2059487073404701,
          0.22041173556644,
          0.22375031081625507,
          0.19661839941203363,
          0.21881043372252254,
          0.2120126318417866,
          0.22477507076426098,
          0.22231121270984544,
          0.22165160052694793,
          0.21432514032091515,
          0.20719195372446197,
          0.20510328925247462,
          0.22167540703424407,
          0.21169449064991797,
          0.22885949506397685,
          0.21411872212951213,
          0.18839293111429345,
          0.20638143353607422,
          0.236177528628642,
          0.23800131612617245,
          0.2070714702201108,
          0.21636269905992675,
          0.19023029258344762,
          0.1947682340915941,
          0.2199192976817904,
          0.21479330071547267,
          0.19080422011174486,
          0.21430056085796195,
          0.24698423900428243,
          0.2100958629472925,
          0.19596649124107846,
          0.19537397414877106,
          0.20655145459951968,
          0.20002913159620747,
          0.2153032650576716,
          0.2311747005710751,
          0.19227258834791255,
          0.22031233551134635,
          0.2123200385499756,
          0.20474226055491776,
          0.1854188719396238,
          0.20535365134293687,
          0.2388952769668046,
          0.21699389487971055,
          0.188759551677904,
          0.2159823852226039,
          0.21072723433471585,
          0.20279424643172964,
          0.18260366740816555,
          0.21912796860803632,
          0.21344900710511938,
          0.2585675996208334,
          0.2111417966255271,
          0.2163633625722625,
          0.19866338161333408,
          0.22902650069621178,
          0.2012152684598638,
          0.20056267758117924,
          0.1896936160944652,
          0.22105117907112043,
          0.2117023110074567,
          0.19974090832664257,
          0.21704856638314296,
          0.18873920785142764,
          0.21189818515329384,
          0.2183337863300389,
          0.19820621043470665,
          0.21029150887201287,
          0.2211515649052086,
          0.22784933512680136,
          0.2091357009465528,
          0.20054357667220077,
          0.21754657464771485,
          0.20463345735396582,
          0.22126905007362033,
          0.20503884507088269,
          0.18978824012381623,
          0.21256915742631707,
          0.20857520343687502,
          0.20568918217503235,
          0.2276511323763683,
          0.2142697554532513,
          0.2035387120460441,
          0.22753433584205576,
          0.21282573784459552,
          0.223391898983508,
          0.19085879478797138,
          0.22462272174465184,
          0.2175722848411808,
          0.23105299594368023,
          0.20959575570301547,
          0.20094650241244183,
          0.20322956197016992,
          0.244547551118891,
          0.21687888613667244,
          0.19993081231660925,
          0.20481363237267655,
          0.22828028921409865,
          0.19014049080895662,
          0.21313583616177112,
          0.21524179711988942,
          0.2044904626511101,
          0.22458166894659345,
          0.22609895402360353,
          0.2287112307965209,
          0.2338616753781044,
          0.22766003733927156,
          0.20602116185160393,
          0.21644561353916067,
          0.2084755169322716,
          0.22653620346242817,
          0.23225776679702967,
          0.20100875662382195,
          0.2031794720683702,
          0.21911044421464548,
          0.19680823081061827,
          0.22408519433325616,
          0.2010003708431349,
          0.23327642414868063,
          0.18641859221488152,
          0.2188154336658255,
          0.20813800078650718,
          0.21531985657509625,
          0.22113699948892862,
          0.19935186691515736,
          0.21149386339463447,
          0.2102787392133167,
          0.19573110749865574,
          0.20335690861051126,
          0.2394823029900722,
          0.22083814964562246,
          0.1984885514037117,
          0.1849905338046064,
          0.2079468869890882,
          0.23231435422859048,
          0.20626603644147412,
          0.1975377933174402,
          0.21075561966468095,
          0.21046338254134966,
          0.19974845617925277,
          0.20073840221669512,
          0.22378846279066505,
          0.2207877407825166,
          0.204138356863408,
          0.22031553929346015,
          0.25820814022906824,
          0.2258480579330749,
          0.20616969917105607,
          0.21564185550087922,
          0.19588078175321041,
          0.20549289220613748,
          0.20843399468753562,
          0.22704373273065476,
          0.21017484446649123,
          0.21748814901074873,
          0.2163356096952483,
          0.19250762285470355,
          0.2276806416038151,
          0.2213827875827031,
          0.2110035125816848,
          0.22492947463431825,
          0.19536436973439703,
          0.24478482469001997,
          0.21191146964338367,
          0.25183665707587616,
          0.22712932128426105,
          0.22329553027986693,
          0.21425497881226102,
          0.2157839016943651,
          0.2550299246306976,
          0.19961247360331263,
          0.22237841072457715,
          0.2043735442498303,
          0.20279300077561752,
          0.1976066973454839,
          0.20674404624647197,
          0.21028144267889595,
          0.21429866625161,
          0.20767371389211267,
          0.22372747865124293,
          0.22781158488584316,
          0.19674381351661435,
          0.20324004639729049,
          0.198398035471147,
          0.2184087333027364,
          0.20085756299431393,
          0.21021306108111326,
          0.19829913401455146,
          0.20430884043524805,
          0.196534139762823,
          0.21533429503507623,
          0.22970430137839262,
          0.21218406160979225,
          0.2035859904798212,
          0.19162697599975154,
          0.21502925795108008,
          0.222052687164931,
          0.23428126730053664,
          0.19247837124810413,
          0.21934240337010286,
          0.24918486922411773,
          0.19277231616743273,
          0.21661101015518933,
          0.2242864020613208,
          0.20569619531989625,
          0.23655322006414836,
          0.2287581522238982,
          0.19352283726406821,
          0.2088650001782272,
          0.21050955063578658,
          0.20936915312371432,
          0.24602171722909952,
          0.2132173446460222,
          0.2069498797485713,
          0.1934960125505068,
          0.21803395553666854,
          0.1970727949591717,
          0.21845625053060988,
          0.22112713653123475,
          0.19163179235428993,
          0.19400276075701336,
          0.21777656706038262,
          0.2223632783491004,
          0.258360873388002,
          0.19171355560615458,
          0.25807670758583634,
          0.19849193683092853,
          0.202180552865986,
          0.20622846211555645,
          0.20351318996996018,
          0.21454208858286075,
          0.2290239420864504,
          0.22388246636064776,
          0.20695490900338162,
          0.2053688072245666,
          0.22026424809299558,
          0.19383405433520098,
          0.2286201005847072,
          0.22179670181618882,
          0.2366090497861247,
          0.20331335941645926,
          0.23676300407202513,
          0.19307779774413414,
          0.2281966180723219,
          0.23204046270159953,
          0.22940762224802252,
          0.2256532446385076,
          0.20915814153831622,
          0.20618494640455387,
          0.19524106858396198,
          0.203316044942288,
          0.2491342050946128,
          0.20189797123906827,
          0.22039173074113175,
          0.21873697053186872,
          0.21092497751752498,
          0.2264409289427264,
          0.21664095374048356,
          0.21645146067798263,
          0.20754258611995502,
          0.2034699165190072,
          0.19515082629623723,
          0.20082456495235165,
          0.20892787371217098,
          0.21076846740629254,
          0.1876385651164888,
          0.24162866490363563,
          0.2248219135611329,
          0.20817121877451114,
          0.20720811625085403,
          0.2047660576164781,
          0.19169209194472114,
          0.1974237711933693,
          0.2367512569494056,
          0.20063737711272156,
          0.18790903272433354,
          0.23550539044496976,
          0.2161028939707579,
          0.206447861141015,
          0.2002097539101766,
          0.2082150169242024,
          0.2047728620829573,
          0.2166486593410662,
          0.19513079800067648,
          0.21001684709564813,
          0.21817723383976245,
          0.208433341645598,
          0.2129618981130235,
          0.21882750587747798,
          0.20949266804198835,
          0.20717199255023852,
          0.19493327905319546,
          0.22443330234163303,
          0.20965134949010378,
          0.22522522275666657,
          0.23070416363646135,
          0.2043353505444899,
          0.23984595770953365,
          0.21005180294487552,
          0.22088441808254317,
          0.2024002196980626,
          0.22369138656948417,
          0.23543348055630234,
          0.19861696583401778,
          0.20390035702684414,
          0.2055100571479795,
          0.2195951762475822,
          0.1895083133043675,
          0.21323967299683858,
          0.20055224677026373,
          0.20553978675921614,
          0.21097284506932437,
          0.20345750092050527,
          0.2120004747636254,
          0.21204954062581577,
          0.21486903022824558,
          0.21502031500823693,
          0.18790561009557688,
          0.20375338836087256,
          0.2052412807870804,
          0.2080920739519136,
          0.18970757944791514,
          0.20374127725000193,
          0.21430717679333483,
          0.21423761936262853,
          0.20502042127535633,
          0.22289910771018065,
          0.2087244595594297,
          0.2034148059355342,
          0.20901668786368569,
          0.19135067817883994,
          0.23943555643514908,
          0.2011431399604234,
          0.19014731838959822,
          0.21283534484616992,
          0.23983528479825963,
          0.22596837417354154,
          0.20500273514002793,
          0.21717186233538546,
          0.237613768260883,
          0.2138157186613943,
          0.21163881474021484,
          0.20463591636886563,
          0.20748014078159516,
          0.20876739282576984,
          0.22550752990138567,
          0.20274413298792468,
          0.21256459554332457,
          0.1948562603693589,
          0.20041650715271622,
          0.21137169829838456,
          0.2091840293044583,
          0.19564290170857584,
          0.22005034857033737,
          0.2227044194527259,
          0.22400222640118514,
          0.2130718695794944,
          0.21509978028496057,
          0.21442587090167942,
          0.19594313792703774,
          0.21006676950719919,
          0.2128888963150165,
          0.2110814824330941,
          0.21364909715360814,
          0.21018528087936347,
          0.2005888328581777,
          0.20593347576476884,
          0.21452605447566067,
          0.208642239863628,
          0.19106498474932168,
          0.22944149839096056,
          0.19149303977832635,
          0.20967212010764785,
          0.2146866494514309,
          0.21961652543994958,
          0.21605939057611834,
          0.22025116925523305,
          0.2352115551894932,
          0.2173769361572006,
          0.20401144553266987,
          0.20366249851523627,
          0.17445983676661528,
          0.1983464614882635,
          0.19786004748531305,
          0.21460658160408427,
          0.2049615983979782,
          0.21672061152894886,
          0.2022400483373645,
          0.22787515338020528,
          0.23823841365557932,
          0.2033511738137042,
          0.23010279974786393,
          0.19624047534078717,
          0.2009175049930115,
          0.20416469564777423,
          0.1901826678624031,
          0.21315611792473949,
          0.21108377644912835,
          0.19565463858654264,
          0.219397260747583,
          0.2015505862294469,
          0.19982595445482842,
          0.19357637504030592,
          0.21118210981744215,
          0.19353445868919575,
          0.22030188245196947,
          0.219129920513911,
          0.2096239068678377,
          0.22330499974121668,
          0.1981928574396799,
          0.21479392491464533,
          0.21724812860420095,
          0.22216432110531198,
          0.19126092873631212,
          0.18782314311410017,
          0.19107398447911317,
          0.22353169582565216,
          0.2357265383053112,
          0.2211100479220606,
          0.20987943264774012,
          0.18736863098956819,
          0.2100536114655376,
          0.2223093943413767,
          0.19410471708887117,
          0.21414364930421298,
          0.2122803650293026,
          0.20057433684668718,
          0.2089077948560823,
          0.20402568637966467,
          0.21637266312448,
          0.19783227239102605,
          0.21556734442097952,
          0.21683361460698655,
          0.24039723959156137,
          0.1926433307203757,
          0.22892755946330262,
          0.21786456224840756,
          0.21160970978099727,
          0.21324981538473978,
          0.22144112815659672,
          0.1929910181917574,
          0.21308464003499744,
          0.21123256625818562,
          0.22088711650637569,
          0.21226078037225582,
          0.2024673104409702,
          0.21372718644541558,
          0.1914768327764588,
          0.21342602698442664,
          0.21602589973381517,
          0.2207345392366046,
          0.22998968359559527,
          0.19520183492216422,
          0.19859354583566327,
          0.20761406862233056,
          0.19399084151178725,
          0.20555282586555415,
          0.21073696099926226,
          0.211606793845232,
          0.21883678642748955,
          0.20116797885902768,
          0.18501186835008404,
          0.22155373886920204,
          0.19789234299268207,
          0.19894944061027317,
          0.2081498392906787,
          0.18954343971479168,
          0.19930317765341102,
          0.19460437903078143,
          0.20710433173607987,
          0.2194321944527594,
          0.20746111391029326,
          0.2164757697029174,
          0.18249407657751807,
          0.22577832016582583,
          0.20017800612930567,
          0.23195640846953963,
          0.23842285925941842,
          0.19069138168328945,
          0.19674050299549095,
          0.19639839609499443,
          0.196213672706877,
          0.198690909251257,
          0.2218076248456306,
          0.23786516551514975,
          0.22268345010575297,
          0.21088732787958464,
          0.21887274822600816,
          0.23194902186859323,
          0.2140638036069343,
          0.1928937825026569,
          0.2096427376796384,
          0.230618553249531,
          0.23236121116786096,
          0.21390148738618495,
          0.2212553680459197,
          0.20550560717258057,
          0.21836199429290187,
          0.2321999988171539,
          0.22145704108205375,
          0.21484550503989808,
          0.20771511525514394,
          0.21049360336993522,
          0.19882781694796786,
          0.20939607822063913,
          0.22138692988329084,
          0.19174974315324675,
          0.19565334060179052,
          0.207962824979864,
          0.2046000300950831,
          0.20668956735943228,
          0.21711436495729847,
          0.19944537259703132,
          0.20683683820412146,
          0.2126827706383863,
          0.20091181158994834,
          0.20749900387887282,
          0.21518922668409476,
          0.2143459469666525,
          0.19644062450284622,
          0.19635333649613507,
          0.1969687554646672,
          0.20705370181355176,
          0.20067074720434314,
          0.21036263723914073,
          0.22873481503588114,
          0.2162963592644835,
          0.21910983478865953,
          0.21794791345168352,
          0.2198221926096125,
          0.21393822813261815,
          0.21456150582305855,
          0.19083672062092105,
          0.20051823316606432,
          0.20416648854339065,
          0.22515346484852872,
          0.18997023809605224,
          0.20043737368078116,
          0.20900358291967336,
          0.20670902606473604,
          0.21657161029262076,
          0.20445479886270862,
          0.19669337235298404,
          0.2172980533200769,
          0.2176040638944255,
          0.2013195779866253,
          0.18970058207340618,
          0.20444388297484253,
          0.21934682808769068,
          0.2064785856443907,
          0.22473176328684233,
          0.22530537796219072,
          0.19642794388656615,
          0.19176265316415322,
          0.23337830571382887,
          0.2057898235344248,
          0.2144894612510534,
          0.21857487877699844,
          0.18399777891391164,
          0.22031176519660697,
          0.1956843118080191,
          0.2237346833092283,
          0.22350359899050354,
          0.2209649325096712,
          0.19368093595613808,
          0.21600506556034538,
          0.2167438812145752,
          0.2083085587418371,
          0.2118416194935724,
          0.1964466096458437,
          0.21132913476331602,
          0.211312824971306,
          0.20167218131890122,
          0.20871709808121958,
          0.19953243509050977,
          0.20878922984979867,
          0.2010465131266732,
          0.21058016135448202,
          0.205872989338941,
          0.2376860807698965,
          0.21482797537855192,
          0.22389571058099572,
          0.2322163708057297,
          0.20781883652013697,
          0.22006762663134166,
          0.22230411915449488,
          0.19888379158704733,
          0.20534057403775424,
          0.22048156927810653,
          0.20044638778855775,
          0.20331167477008774,
          0.21007465733711242,
          0.21840558433707508,
          0.22085931150797036,
          0.2110692303159202,
          0.19192990935622778,
          0.24105088997786847,
          0.19777414735783003,
          0.21793202361742825,
          0.21228844690721307,
          0.18948299748519706,
          0.22188389782662166,
          0.21177562935348196,
          0.22738661638576757,
          0.2114737806418524,
          0.1951692608714032,
          0.18459664864105838,
          0.2351888883343235,
          0.23111542931847842,
          0.2449392397467609,
          0.2188689160657132,
          0.2270541864909984,
          0.19610898597627158,
          0.20297143244159987,
          0.2090796804133502,
          0.2091808659785316,
          0.21319386069591528,
          0.2028925506927851,
          0.21192480316806428,
          0.20506959736683236,
          0.2136877902399129,
          0.2245554672562962,
          0.19264247194289025,
          0.19168790047528206,
          0.1980116767238976,
          0.2186680118375771,
          0.23121070911231428,
          0.22023530020754986,
          0.22673213446835733,
          0.23092307803767248,
          0.21310128202505135,
          0.22135466738170254,
          0.20919615299583685,
          0.21207031515404257,
          0.20592042834919813,
          0.23102768454126205,
          0.20722952114685927,
          0.2054640400009195,
          0.2192105372759478,
          0.21975651559007645,
          0.18417276166593416,
          0.22241573136864015,
          0.21528432409965026,
          0.2124582136470583,
          0.22404416927323384,
          0.20498747317668556,
          0.1917206528180864,
          0.20489448569810578,
          0.255746711799573,
          0.20142577790811633,
          0.17687213134753677,
          0.2080264935380221,
          0.205599347256823,
          0.2028896713937895,
          0.22960316140735548,
          0.1930559572613182,
          0.19199609792235042,
          0.23568698326657833,
          0.19962733392946697,
          0.21008247961780638,
          0.22589517735118217,
          0.2464043684625091,
          0.20146411652549825,
          0.2191016307085083,
          0.20851117404136024,
          0.2018144092737239,
          0.18824663034923356,
          0.227346388641011,
          0.20747690336810512,
          0.19902187019426543,
          0.19157598568554135,
          0.20524561563290594,
          0.20245076440343482,
          0.23063363687066474,
          0.2106774547432482,
          0.1884399976686297,
          0.2312481777254684,
          0.2221293082632636,
          0.22156278587220574,
          0.21319882411176008,
          0.20229151226805375,
          0.22050988858554568,
          0.21565427384130859,
          0.19913306878228917,
          0.20922967883394022,
          0.21299109733110538,
          0.20075452404848138,
          0.22115532479968564,
          0.19871605059868913,
          0.2151542126138644,
          0.21269634314192828,
          0.20973245987255731,
          0.21551015076344515,
          0.2168788867225111,
          0.20270150198838144,
          0.21851577591303403
         ],
         "y": [
          0.2552973078681419,
          0.2537486170036699,
          0.2209425978933151,
          0.2805168238335248,
          0.2840798719462267,
          0.21264674529182123,
          0.25993612390810356,
          0.2724343187584538,
          0.25785741757064284,
          0.290254099013882,
          0.22369714311303726,
          0.24262584234165568,
          0.24716203042805734,
          0.19902098738391144,
          0.2221872078253014,
          0.2032584468877791,
          0.256218856114048,
          0.24599343549073546,
          0.23991846565910682,
          0.2488835584472002,
          0.2849500055083837,
          0.23203922741626531,
          0.2638081158489186,
          0.24886098335940626,
          0.276111492926574,
          0.28664711347050575,
          0.2178544915492818,
          0.22299966294154494,
          0.3184414787207602,
          0.24802960695734308,
          0.23927972250015425,
          0.22981137184684197,
          0.23880766152045535,
          0.2331097694878639,
          0.28738153134857247,
          0.2661637398433744,
          0.2565849692146924,
          0.2708105504510825,
          0.2460132711193008,
          0.22424599186427482,
          0.19950215053824027,
          0.28709723132170933,
          0.2497473607949268,
          0.29326851779294694,
          0.21366437224732276,
          0.2205738379364505,
          0.2495152876091477,
          0.23162575632777455,
          0.22496180168773397,
          0.26237035413590326,
          0.18259278757411265,
          0.2083710555850526,
          0.2738733588752794,
          0.24172336665378702,
          0.27547101203829466,
          0.24635635373428086,
          0.217212794186898,
          0.30409413378216243,
          0.2777811010706673,
          0.27116530282087714,
          0.26147363714892125,
          0.2057094235308816,
          0.2293742861958041,
          0.23020832047513715,
          0.22004366815310944,
          0.2071681081352016,
          0.21937899017600826,
          0.21048863607952778,
          0.24350243049259518,
          0.20500995745640366,
          0.3077986349639927,
          0.2562945470091531,
          0.24593753830414955,
          0.2618037413307145,
          0.25863322066530686,
          0.23157446137987409,
          0.23107757085419287,
          0.21824892557397246,
          0.22130222561396612,
          0.2557221374708797,
          0.2770686538958698,
          0.24500572357316427,
          0.24349660218297736,
          0.25595398070606856,
          0.23356644101066598,
          0.2746612751958891,
          0.2621305401416345,
          0.24689693915478172,
          0.2565158236652703,
          0.2760357958979103,
          0.23502540225195995,
          0.23505104158863938,
          0.24603554919158202,
          0.2026763564893923,
          0.24818377174664083,
          0.2713925632310831,
          0.25662461545188825,
          0.21733414676356796,
          0.2966519705798371,
          0.24807520684467776,
          0.2790373522611914,
          0.2793724843208213,
          0.2945435656602858,
          0.22805312682730244,
          0.28467172308486527,
          0.2734859561211978,
          0.283660747192313,
          0.2616599754407925,
          0.2824532444854227,
          0.2634543327145913,
          0.251274522832476,
          0.22398746127284386,
          0.27727945787821745,
          0.2927047466181512,
          0.2625260737672561,
          0.18228508216535738,
          0.22643760776882232,
          0.28421766014668576,
          0.2668900417151144,
          0.2732712826929704,
          0.3040505972398782,
          0.21764223174083866,
          0.21516321978483044,
          0.24491065341923768,
          0.18747690224175584,
          0.22820325707968125,
          0.20003907563373327,
          0.3279058391605039,
          0.22369671859782703,
          0.27970012898214497,
          0.25074793835840803,
          0.2172679694617999,
          0.23999454406176915,
          0.24936234139578659,
          0.2550753473460345,
          0.26368229835764734,
          0.21231204333099685,
          0.20733913183802768,
          0.2565580163988623,
          0.21892979121410766,
          0.2230599691758932,
          0.2939989239673129,
          0.3115635917669076,
          0.28304450568780337,
          0.2612962993464566,
          0.24036503039553564,
          0.2683916183376125,
          0.2527048759874998,
          0.2716405856562881,
          0.23354005156668556,
          0.2302270577287357,
          0.2410802896842507,
          0.24364732857842214,
          0.23883000122230721,
          0.28765303394679936,
          0.23062943542612654,
          0.2250755708406052,
          0.21288512310089716,
          0.23592095951710887,
          0.2239177876031399,
          0.23453643504244248,
          0.2815333271338942,
          0.23598485440801278,
          0.23761038780065996,
          0.23582246850162977,
          0.22540489581499795,
          0.28683026782941323,
          0.3502224409183188,
          0.30971996399932855,
          0.2186988675712989,
          0.26764236795443697,
          0.30536124668006914,
          0.29215824028604287,
          0.19684099464810226,
          0.2539716966728645,
          0.2653287070478159,
          0.20395062027054542,
          0.22505417408568298,
          0.3104986809613151,
          0.23335485996922564,
          0.25687106573888463,
          0.26330317536294306,
          0.2829016728889414,
          0.2611142111962706,
          0.24953186593645052,
          0.2165835838203725,
          0.2498637947892764,
          0.30412360390453685,
          0.2430594920055067,
          0.2695640454388891,
          0.23813657688613823,
          0.25187853308023117,
          0.239502018226308,
          0.3147851308328667,
          0.29340605900251876,
          0.259151453456527,
          0.24624180658761327,
          0.22878144960746538,
          0.28593771724151745,
          0.3091931744824242,
          0.24312483071499902,
          0.24415546813031652,
          0.23705411423994896,
          0.25628604787694587,
          0.23169662183289025,
          0.2860116537945157,
          0.2678727725859719,
          0.21563632207609731,
          0.28902777182678885,
          0.29406917291224705,
          0.268821525651157,
          0.21250129532577955,
          0.23650579896637036,
          0.22883957717115208,
          0.2756303954394542,
          0.22348786676971547,
          0.2831625940594443,
          0.20241820233178356,
          0.21127549422631567,
          0.2323321765789926,
          0.2212591062914515,
          0.21767962171601182,
          0.258758239939959,
          0.21810578896580474,
          0.26603806723190515,
          0.27893190552715474,
          0.2686943968352761,
          0.22383535994263182,
          0.277483587449795,
          0.2554433851292359,
          0.21649238969380236,
          0.224079270782742,
          0.27176088784058244,
          0.2016355175829267,
          0.24349427354675252,
          0.21655331707829953,
          0.2439114207871507,
          0.24756494536805837,
          0.24342250240845434,
          0.22520154925396058,
          0.2756964220038326,
          0.2228832060213428,
          0.22543901745136258,
          0.26192233998371467,
          0.2348073320175241,
          0.22897842537133697,
          0.26961405758305346,
          0.304029895669397,
          0.22323653913788435,
          0.2530035456783454,
          0.25469100531204475,
          0.2605408508088975,
          0.26784462221017413,
          0.2625034922538386,
          0.19186793893084483,
          0.24169983913623352,
          0.18680188494253752,
          0.2931752109405552,
          0.2202056110641785,
          0.2514825819307651,
          0.25422706870927847,
          0.2693594803759598,
          0.33016501993583625,
          0.2711113511277251,
          0.2185176885809533,
          0.2667646898314238,
          0.321653010666008,
          0.238060504301843,
          0.22565820731308361,
          0.2832699052464731,
          0.2526884152665847,
          0.2858616803792482,
          0.2538896547301094,
          0.275611002376146,
          0.2816902960033857,
          0.24192825430141654,
          0.2899868645370199,
          0.25498988838045566,
          0.2768041720288384,
          0.2581597257337419,
          0.265650270706915,
          0.2637614073593485,
          0.26097363242684407,
          0.2751128582854003,
          0.24021893684107645,
          0.25632468190730173,
          0.23211607805828677,
          0.2675602071957807,
          0.26420128945280547,
          0.24280140059066238,
          0.2771160661565598,
          0.2635316056580727,
          0.32849424168192437,
          0.2941648398745428,
          0.26706136441296885,
          0.2753583826333974,
          0.23333393636568436,
          0.30597604074550205,
          0.2915368548562331,
          0.26902099645797883,
          0.2542525473204563,
          0.21511847282430366,
          0.2163013935047092,
          0.26019069470204914,
          0.2522510128543804,
          0.28018411622928285,
          0.2977300008441627,
          0.23416162519968173,
          0.28827127111199463,
          0.27920306830523395,
          0.28687356185076407,
          0.2863291125007694,
          0.2923290834362608,
          0.25108124208561106,
          0.24738354002093058,
          0.24792003989236802,
          0.2651247652488691,
          0.24937651719015605,
          0.29778251543375445,
          0.27471726631196175,
          0.20327830917121506,
          0.25481655793470026,
          0.31765385606345764,
          0.3044966218666132,
          0.25751293285536386,
          0.2739326123726594,
          0.2145819626926211,
          0.20789551787875,
          0.26835978158711515,
          0.27013726532987414,
          0.2032713102024594,
          0.24234602207796674,
          0.32672885080367825,
          0.25647912338834944,
          0.2180519891262841,
          0.21871904632976977,
          0.23617103232420492,
          0.22018932041290595,
          0.27962140253566276,
          0.3008094309434218,
          0.21579562590404616,
          0.2899296830120016,
          0.24537315662099737,
          0.22230273757895358,
          0.20902080045331128,
          0.2468322069516043,
          0.3135601639448484,
          0.24588721657650792,
          0.2087275378675613,
          0.26722347488224424,
          0.26767184310672465,
          0.23979647892446496,
          0.18948574105188334,
          0.27449080170870316,
          0.2535675924738931,
          0.35444152753431357,
          0.2629865492498382,
          0.2768928381719987,
          0.22685678493290076,
          0.2837141392191938,
          0.22807871235330404,
          0.2459296796481077,
          0.2083236801462102,
          0.2906411146021375,
          0.27792693080986686,
          0.21544280238381108,
          0.2694991899536295,
          0.1989937497220763,
          0.2586250989781959,
          0.2881734920081895,
          0.23733915510246856,
          0.2618343512621719,
          0.2887169287072688,
          0.2925442473847939,
          0.2638941756798765,
          0.2342061529057401,
          0.293877591248516,
          0.2637150869911841,
          0.2587068616048418,
          0.2593470836919291,
          0.21509241583599623,
          0.26808739146718763,
          0.24598109632382492,
          0.24701380777961338,
          0.2947003257894014,
          0.2853649584538797,
          0.243012648891169,
          0.28797990285879943,
          0.2722197546093423,
          0.2911986021929275,
          0.21413195371682567,
          0.29460935269400357,
          0.2617659119778226,
          0.29534886931977516,
          0.27488423350853547,
          0.2159410665498201,
          0.22524322301885602,
          0.3375548275898166,
          0.2766168630193534,
          0.23103860714555138,
          0.23706604120166253,
          0.2964555105876714,
          0.19994504683257466,
          0.24194150351000002,
          0.25950303960399274,
          0.2231921122061063,
          0.27323097207540503,
          0.2832697817595844,
          0.3027535341545927,
          0.28289864825068733,
          0.30525008794224534,
          0.25603820303111363,
          0.2517939757184148,
          0.2327660323367059,
          0.3046103772231439,
          0.30990382920500237,
          0.22285516067444533,
          0.2299318502508697,
          0.26825963443165607,
          0.23038235338522375,
          0.29725292402259257,
          0.23961484084392082,
          0.2913631187485124,
          0.2076067136814586,
          0.2731986380187775,
          0.23480060719114287,
          0.25684066839458697,
          0.24097882698962153,
          0.23021444460097323,
          0.25978004801925236,
          0.26036773899998,
          0.21629819977613346,
          0.2281049204852999,
          0.2734999090709936,
          0.26417528566827064,
          0.2321319177520728,
          0.20948085211711348,
          0.24662354375549328,
          0.29444718184145136,
          0.24354339321346413,
          0.21121105360649817,
          0.2714583090696092,
          0.265091471423865,
          0.23545283359787478,
          0.22183101144330603,
          0.28745589291232204,
          0.2855852824138826,
          0.24960313002485787,
          0.28541237981306444,
          0.3492116894293083,
          0.2791365986161915,
          0.2585968357395174,
          0.2597780596716788,
          0.21711899758235642,
          0.26161723001142057,
          0.24003139550116678,
          0.30200934979070615,
          0.2491469712487027,
          0.2701314577246168,
          0.24041956732306943,
          0.21774875573484842,
          0.30036902442650876,
          0.2800991891957082,
          0.261613382944016,
          0.2888755131921473,
          0.21399924312253255,
          0.3334546861283402,
          0.2648662292476321,
          0.32160581925293336,
          0.2987777215228439,
          0.28907803188152387,
          0.2740251674623798,
          0.28053110927905855,
          0.328056655422655,
          0.2511187090132486,
          0.28183342849132453,
          0.24550414118789612,
          0.23343718033913147,
          0.21305179338555172,
          0.25840905577220596,
          0.26131003464383457,
          0.26959446107581625,
          0.24862192177197406,
          0.282465981940061,
          0.2929766636258967,
          0.21224938348969033,
          0.22998533854186282,
          0.21322334914942961,
          0.2797021430905361,
          0.23842285519841017,
          0.2671591591874152,
          0.20942006924105783,
          0.25168097510597554,
          0.2325617958846174,
          0.2744033522554201,
          0.2893349304682514,
          0.2725830684397119,
          0.24873676532213312,
          0.21249943105675625,
          0.27437413029336466,
          0.2814717999948034,
          0.2844111191545223,
          0.2140098216854065,
          0.2836594658130168,
          0.32250828791464586,
          0.21110588818493264,
          0.2814342630472505,
          0.28237093685968484,
          0.2442154171861896,
          0.3071935217911275,
          0.3064820956659782,
          0.22119808887562978,
          0.2725985822955069,
          0.2601738862759154,
          0.25010589616774953,
          0.3311753671721203,
          0.274235678492854,
          0.24672867130049123,
          0.21290791452258287,
          0.2762181096857364,
          0.24332135669498797,
          0.27686551280942057,
          0.2910503562731895,
          0.22225795362193582,
          0.20849371598943295,
          0.26060222148571566,
          0.2793950237579198,
          0.36256675261928933,
          0.21969204025456304,
          0.3263881654190426,
          0.23941091575213497,
          0.23576502301954674,
          0.25784755298406903,
          0.2500431069947605,
          0.2512743738916946,
          0.2948896162123944,
          0.27828210521056446,
          0.24302696191863746,
          0.25404319475765347,
          0.28088656529859185,
          0.2048474240579792,
          0.27927060842416934,
          0.28092664951099194,
          0.30783933876145664,
          0.25715023201341203,
          0.3100022773675186,
          0.2370999903280963,
          0.2851257021003494,
          0.2911532749262549,
          0.30183207246565275,
          0.29682613789558543,
          0.25479952494932395,
          0.2557397989569696,
          0.23074364486207247,
          0.21917039002599184,
          0.3373283393290825,
          0.2319237010564871,
          0.2883978519751876,
          0.28279846136902326,
          0.2759604408101281,
          0.2955441525438919,
          0.2901304151344092,
          0.2586908740997572,
          0.258962836772771,
          0.251136325200223,
          0.2347874299958497,
          0.2247175293874962,
          0.2565018173624117,
          0.24903150575811642,
          0.19589961266585937,
          0.3113817892949387,
          0.28722311420659846,
          0.2385950958732138,
          0.23411360807407705,
          0.25154938572531216,
          0.20772169498989887,
          0.2285101868735851,
          0.3129167041521785,
          0.23962830298688167,
          0.21246441393535576,
          0.30386849615779404,
          0.28763380281859796,
          0.255311918348217,
          0.23884340324710485,
          0.2610331463412363,
          0.2505087997916068,
          0.264865880931337,
          0.2023911597776058,
          0.24405917312816927,
          0.2786125027644651,
          0.2295352320281049,
          0.2668252702625466,
          0.27628328031888155,
          0.26417082969902517,
          0.2622721017585732,
          0.20637549229143776,
          0.29315235581711335,
          0.2595432114977337,
          0.3002256276363787,
          0.3049674981451904,
          0.22765772379359267,
          0.31179730538770883,
          0.25561989557413994,
          0.2759082505496795,
          0.21780971753095585,
          0.2695411285958281,
          0.30310485582730445,
          0.22653121786025202,
          0.22489743048248093,
          0.24672854506158431,
          0.2807677654994762,
          0.20113128183728712,
          0.26135463006910914,
          0.23430320851189052,
          0.23165701141880268,
          0.2756396310421385,
          0.23591340900899965,
          0.27015147209902735,
          0.2756375913653336,
          0.23804256762252296,
          0.2589146763951939,
          0.1854467980074117,
          0.23258157243494132,
          0.2403685411529614,
          0.2586411936405687,
          0.20341987825091384,
          0.24589898655072084,
          0.27896400343921623,
          0.27506518943471103,
          0.259582810905242,
          0.28459872674540615,
          0.23831029536433523,
          0.2522178084299684,
          0.2571613565160502,
          0.2025187906136421,
          0.31355180169590535,
          0.22705240062561863,
          0.21867918275041767,
          0.2485182413034725,
          0.3250036819317176,
          0.28329631164210106,
          0.22869762409292432,
          0.2956460679350415,
          0.3077344836923053,
          0.23379670087519971,
          0.25315778759669494,
          0.23687766474713584,
          0.27035043449278434,
          0.2638453362499533,
          0.29537173605114797,
          0.2550197033194436,
          0.2686772589821089,
          0.22956120127543486,
          0.24817738093426833,
          0.26151243758685616,
          0.2526698709737391,
          0.21480128419408706,
          0.2828814930246125,
          0.29412238050573375,
          0.26809265425090784,
          0.264198583541431,
          0.2690176037860492,
          0.27530350221015787,
          0.23117529226619785,
          0.2574313085095091,
          0.2565623892431195,
          0.23447575404364687,
          0.2650979355937784,
          0.24970055515585027,
          0.23477129964603147,
          0.2571015268253869,
          0.27348945678760794,
          0.266325368479985,
          0.20467801044024767,
          0.3077807701133241,
          0.18755899872535756,
          0.24042476405415242,
          0.27059654007929285,
          0.271292339177288,
          0.27417641557002614,
          0.25478903938742403,
          0.3042927029443965,
          0.27228276864178336,
          0.2172297082868108,
          0.25079428016565253,
          0.17352564792416394,
          0.2301023218433383,
          0.22436046710883267,
          0.2478046821717929,
          0.2424426538690592,
          0.27478833075285247,
          0.24248193912040467,
          0.28381287220881607,
          0.3210107526328062,
          0.2566559816587085,
          0.29441929249400167,
          0.2121713807670623,
          0.25726439672378726,
          0.22487506465673016,
          0.20243089632226008,
          0.2705896699362819,
          0.2652142849544937,
          0.19792812232706436,
          0.29617027063282786,
          0.22581919588078164,
          0.2366300314956331,
          0.2090246131625533,
          0.25541191843313565,
          0.23313224142328162,
          0.24928003299885226,
          0.25346428904730445,
          0.27194578741228725,
          0.28028605778807814,
          0.209994798766408,
          0.27371424461452903,
          0.2520623551064047,
          0.2849477212796127,
          0.22078198852582348,
          0.20209670187951498,
          0.20809617855809354,
          0.28018315729660176,
          0.32477887668554867,
          0.27301812580866897,
          0.26115882352888586,
          0.195963644032614,
          0.24387212322096447,
          0.27442437334767283,
          0.20265873371026644,
          0.28113042647536607,
          0.27822583213060276,
          0.22171766552274028,
          0.25207269892187206,
          0.24419359828341705,
          0.27989148714233086,
          0.23643051361400982,
          0.25563471232049506,
          0.28368154941117807,
          0.32777902853393476,
          0.21037941606753757,
          0.2917068807476462,
          0.28362189209865774,
          0.2710889358168007,
          0.284091043119542,
          0.2768727862446422,
          0.20991964035804936,
          0.2612919933100579,
          0.2751371792979378,
          0.28295010186484904,
          0.2532021714144377,
          0.2579799440431102,
          0.24542200445137055,
          0.22994470290444027,
          0.2599700146082276,
          0.25856997986278657,
          0.2824792004528969,
          0.29353516651868927,
          0.22039488137947755,
          0.210917917981215,
          0.25801554335519244,
          0.22442296547899548,
          0.23276755813926395,
          0.23220581481050045,
          0.26410604917796826,
          0.2692598189629713,
          0.23566350697977853,
          0.19366887278846384,
          0.2802948126818525,
          0.21874791445644493,
          0.2310135725082032,
          0.24721260209436552,
          0.20311019797365978,
          0.2279300722135741,
          0.23016655292220198,
          0.23648172572249007,
          0.28637061451446577,
          0.24316000224753517,
          0.26489765016208217,
          0.18246170250326696,
          0.2996350767923495,
          0.2369801665079325,
          0.2960437217273586,
          0.32342791653729935,
          0.1923338470480725,
          0.2222272786507262,
          0.20871132904143824,
          0.23556045448640564,
          0.22182303179873128,
          0.29811271439331427,
          0.3073415446668124,
          0.2854994278458509,
          0.258382058134104,
          0.2844617328675331,
          0.2872403221291351,
          0.25502357614567833,
          0.2060715613431972,
          0.26123939829468434,
          0.2981796177857288,
          0.3118246066177578,
          0.25964852317048515,
          0.28623724604532097,
          0.22878328794484457,
          0.2685745421375973,
          0.30274452984399175,
          0.24914214460406808,
          0.26707947916714514,
          0.25664198925296805,
          0.259721690543689,
          0.23607443281461163,
          0.27803824753824385,
          0.2807987028923886,
          0.21962170288140392,
          0.22229321563470816,
          0.2589797832377797,
          0.2559189320837491,
          0.2282657441407206,
          0.2745119922102543,
          0.21100858436641903,
          0.2408197773778955,
          0.27140670560286284,
          0.22055856249852923,
          0.2667198022415388,
          0.23917795718835586,
          0.2594806062178883,
          0.22385279053298582,
          0.2300380176871361,
          0.21997201637007419,
          0.23965070780496162,
          0.22360428011698236,
          0.2572068570688329,
          0.2855470292207103,
          0.2828505979710392,
          0.28113463282597284,
          0.2826885964964669,
          0.28394268414987445,
          0.25435483960190836,
          0.2598318547694592,
          0.22255152776468048,
          0.24764722537236228,
          0.2358115339771573,
          0.26163586909992,
          0.24333416818143086,
          0.22679017231147622,
          0.25575992921894497,
          0.2430748312635495,
          0.2623170553253906,
          0.25237748806161114,
          0.22614910824017515,
          0.2795846088446911,
          0.2867532275637508,
          0.2639824020822048,
          0.20445061386070718,
          0.21246652038657945,
          0.23552594116048198,
          0.22989284442747424,
          0.2965557001462422,
          0.301343005703723,
          0.2167301315927273,
          0.1954721469603964,
          0.3011380140712951,
          0.25902322269696293,
          0.2694270233181316,
          0.2790877359424121,
          0.1885533094838839,
          0.30123984997189235,
          0.21211738693633925,
          0.2812453066710662,
          0.2932727375699754,
          0.2943187702747575,
          0.23286182867087651,
          0.25820111822820146,
          0.2666481851148854,
          0.24762103294525953,
          0.27241054371883483,
          0.23219547583678282,
          0.25085055546484764,
          0.24956727782691257,
          0.24654491183697297,
          0.23419510482190836,
          0.2146515958751098,
          0.2666264911037075,
          0.22869005116905114,
          0.2450140345978119,
          0.23261933201417395,
          0.31196136829966026,
          0.26414033731460224,
          0.2796447652246776,
          0.2955424675253642,
          0.25397753429492254,
          0.2472853774122951,
          0.27341436516753714,
          0.22502779296522338,
          0.2553813347899891,
          0.3066445702551164,
          0.22419116595357633,
          0.25272975930325453,
          0.24427412823951647,
          0.24220104323355598,
          0.2540010348482879,
          0.2511316607100863,
          0.2107512738893604,
          0.3113310103569059,
          0.22957841069226945,
          0.28724279857584445,
          0.2525656784470254,
          0.20939107528201406,
          0.2796839419055924,
          0.25642408009409606,
          0.30779626734585247,
          0.25130026378446857,
          0.2432579520534433,
          0.18769569535327263,
          0.3089838507520257,
          0.3093486310010774,
          0.3236937825533685,
          0.2767613321148235,
          0.29186404767430507,
          0.24293723541028892,
          0.24081883945474308,
          0.2466981073646591,
          0.22315844325405815,
          0.27565494863824913,
          0.2261781068670743,
          0.2565687008669341,
          0.26327098345064576,
          0.2679362872440565,
          0.30848513545516726,
          0.21441604222698213,
          0.21183122584930775,
          0.21271800007243122,
          0.26209791743945704,
          0.28632438248090286,
          0.2697608435166995,
          0.28745822209856536,
          0.3054185048415676,
          0.27424128958948635,
          0.28266690031331515,
          0.23566138620451235,
          0.2507345143549026,
          0.2444993567723523,
          0.30106363454828616,
          0.24946169933538692,
          0.22231980199635953,
          0.2655067889042474,
          0.277003573658793,
          0.19509414101024158,
          0.28959628419700273,
          0.2513723302063903,
          0.26336829738697587,
          0.2813050089774149,
          0.2558567388844633,
          0.22231400859462414,
          0.233690846034623,
          0.34737358147524244,
          0.2436375804035271,
          0.17891876888741365,
          0.23615412840121444,
          0.2222956383981214,
          0.25180019013499755,
          0.303551736394115,
          0.2131074134425251,
          0.1999578110774351,
          0.3103907987674162,
          0.23372163889120157,
          0.26528897597007073,
          0.2525867880004664,
          0.3206641887081087,
          0.23238965827217292,
          0.27669847696294303,
          0.2597596531859483,
          0.2431032798893822,
          0.20853225348326726,
          0.24907034291078406,
          0.2525893421425322,
          0.24283664263156637,
          0.20999717420374658,
          0.23946055917783787,
          0.238020516538343,
          0.30445238216605386,
          0.24919503601900722,
          0.19990652697941347,
          0.2950759876070026,
          0.28745601361289796,
          0.298230728737505,
          0.2791321045175081,
          0.234136248912541,
          0.2791979397869229,
          0.25436096095045535,
          0.2339765220342649,
          0.27584789422708356,
          0.24209241120081967,
          0.22363650127809373,
          0.2779071061602695,
          0.22044202798460125,
          0.2577552560699746,
          0.26043208860813305,
          0.24890696180146435,
          0.2701792867281936,
          0.23647134103817746,
          0.2327836591045873,
          0.280366034000343
         ]
        }
       ],
       "layout": {
        "coloraxis": {
         "colorbar": {
          "title": {
           "text": "Sharpe Ratio"
          }
         }
        },
        "height": 500,
        "template": {
         "data": {
          "bar": [
           {
            "error_x": {
             "color": "#2a3f5f"
            },
            "error_y": {
             "color": "#2a3f5f"
            },
            "marker": {
             "line": {
              "color": "white",
              "width": 0.5
             }
            },
            "type": "bar"
           }
          ],
          "barpolar": [
           {
            "marker": {
             "line": {
              "color": "white",
              "width": 0.5
             }
            },
            "type": "barpolar"
           }
          ],
          "carpet": [
           {
            "aaxis": {
             "endlinecolor": "#2a3f5f",
             "gridcolor": "#C8D4E3",
             "linecolor": "#C8D4E3",
             "minorgridcolor": "#C8D4E3",
             "startlinecolor": "#2a3f5f"
            },
            "baxis": {
             "endlinecolor": "#2a3f5f",
             "gridcolor": "#C8D4E3",
             "linecolor": "#C8D4E3",
             "minorgridcolor": "#C8D4E3",
             "startlinecolor": "#2a3f5f"
            },
            "type": "carpet"
           }
          ],
          "choropleth": [
           {
            "colorbar": {
             "outlinewidth": 0,
             "ticks": ""
            },
            "type": "choropleth"
           }
          ],
          "contour": [
           {
            "colorbar": {
             "outlinewidth": 0,
             "ticks": ""
            },
            "colorscale": [
             [
              0,
              "#0d0887"
             ],
             [
              0.1111111111111111,
              "#46039f"
             ],
             [
              0.2222222222222222,
              "#7201a8"
             ],
             [
              0.3333333333333333,
              "#9c179e"
             ],
             [
              0.4444444444444444,
              "#bd3786"
             ],
             [
              0.5555555555555556,
              "#d8576b"
             ],
             [
              0.6666666666666666,
              "#ed7953"
             ],
             [
              0.7777777777777778,
              "#fb9f3a"
             ],
             [
              0.8888888888888888,
              "#fdca26"
             ],
             [
              1,
              "#f0f921"
             ]
            ],
            "type": "contour"
           }
          ],
          "contourcarpet": [
           {
            "colorbar": {
             "outlinewidth": 0,
             "ticks": ""
            },
            "type": "contourcarpet"
           }
          ],
          "heatmap": [
           {
            "colorbar": {
             "outlinewidth": 0,
             "ticks": ""
            },
            "colorscale": [
             [
              0,
              "#0d0887"
             ],
             [
              0.1111111111111111,
              "#46039f"
             ],
             [
              0.2222222222222222,
              "#7201a8"
             ],
             [
              0.3333333333333333,
              "#9c179e"
             ],
             [
              0.4444444444444444,
              "#bd3786"
             ],
             [
              0.5555555555555556,
              "#d8576b"
             ],
             [
              0.6666666666666666,
              "#ed7953"
             ],
             [
              0.7777777777777778,
              "#fb9f3a"
             ],
             [
              0.8888888888888888,
              "#fdca26"
             ],
             [
              1,
              "#f0f921"
             ]
            ],
            "type": "heatmap"
           }
          ],
          "heatmapgl": [
           {
            "colorbar": {
             "outlinewidth": 0,
             "ticks": ""
            },
            "colorscale": [
             [
              0,
              "#0d0887"
             ],
             [
              0.1111111111111111,
              "#46039f"
             ],
             [
              0.2222222222222222,
              "#7201a8"
             ],
             [
              0.3333333333333333,
              "#9c179e"
             ],
             [
              0.4444444444444444,
              "#bd3786"
             ],
             [
              0.5555555555555556,
              "#d8576b"
             ],
             [
              0.6666666666666666,
              "#ed7953"
             ],
             [
              0.7777777777777778,
              "#fb9f3a"
             ],
             [
              0.8888888888888888,
              "#fdca26"
             ],
             [
              1,
              "#f0f921"
             ]
            ],
            "type": "heatmapgl"
           }
          ],
          "histogram": [
           {
            "marker": {
             "colorbar": {
              "outlinewidth": 0,
              "ticks": ""
             }
            },
            "type": "histogram"
           }
          ],
          "histogram2d": [
           {
            "colorbar": {
             "outlinewidth": 0,
             "ticks": ""
            },
            "colorscale": [
             [
              0,
              "#0d0887"
             ],
             [
              0.1111111111111111,
              "#46039f"
             ],
             [
              0.2222222222222222,
              "#7201a8"
             ],
             [
              0.3333333333333333,
              "#9c179e"
             ],
             [
              0.4444444444444444,
              "#bd3786"
             ],
             [
              0.5555555555555556,
              "#d8576b"
             ],
             [
              0.6666666666666666,
              "#ed7953"
             ],
             [
              0.7777777777777778,
              "#fb9f3a"
             ],
             [
              0.8888888888888888,
              "#fdca26"
             ],
             [
              1,
              "#f0f921"
             ]
            ],
            "type": "histogram2d"
           }
          ],
          "histogram2dcontour": [
           {
            "colorbar": {
             "outlinewidth": 0,
             "ticks": ""
            },
            "colorscale": [
             [
              0,
              "#0d0887"
             ],
             [
              0.1111111111111111,
              "#46039f"
             ],
             [
              0.2222222222222222,
              "#7201a8"
             ],
             [
              0.3333333333333333,
              "#9c179e"
             ],
             [
              0.4444444444444444,
              "#bd3786"
             ],
             [
              0.5555555555555556,
              "#d8576b"
             ],
             [
              0.6666666666666666,
              "#ed7953"
             ],
             [
              0.7777777777777778,
              "#fb9f3a"
             ],
             [
              0.8888888888888888,
              "#fdca26"
             ],
             [
              1,
              "#f0f921"
             ]
            ],
            "type": "histogram2dcontour"
           }
          ],
          "mesh3d": [
           {
            "colorbar": {
             "outlinewidth": 0,
             "ticks": ""
            },
            "type": "mesh3d"
           }
          ],
          "parcoords": [
           {
            "line": {
             "colorbar": {
              "outlinewidth": 0,
              "ticks": ""
             }
            },
            "type": "parcoords"
           }
          ],
          "pie": [
           {
            "automargin": true,
            "type": "pie"
           }
          ],
          "scatter": [
           {
            "marker": {
             "colorbar": {
              "outlinewidth": 0,
              "ticks": ""
             }
            },
            "type": "scatter"
           }
          ],
          "scatter3d": [
           {
            "line": {
             "colorbar": {
              "outlinewidth": 0,
              "ticks": ""
             }
            },
            "marker": {
             "colorbar": {
              "outlinewidth": 0,
              "ticks": ""
             }
            },
            "type": "scatter3d"
           }
          ],
          "scattercarpet": [
           {
            "marker": {
             "colorbar": {
              "outlinewidth": 0,
              "ticks": ""
             }
            },
            "type": "scattercarpet"
           }
          ],
          "scattergeo": [
           {
            "marker": {
             "colorbar": {
              "outlinewidth": 0,
              "ticks": ""
             }
            },
            "type": "scattergeo"
           }
          ],
          "scattergl": [
           {
            "marker": {
             "colorbar": {
              "outlinewidth": 0,
              "ticks": ""
             }
            },
            "type": "scattergl"
           }
          ],
          "scattermapbox": [
           {
            "marker": {
             "colorbar": {
              "outlinewidth": 0,
              "ticks": ""
             }
            },
            "type": "scattermapbox"
           }
          ],
          "scatterpolar": [
           {
            "marker": {
             "colorbar": {
              "outlinewidth": 0,
              "ticks": ""
             }
            },
            "type": "scatterpolar"
           }
          ],
          "scatterpolargl": [
           {
            "marker": {
             "colorbar": {
              "outlinewidth": 0,
              "ticks": ""
             }
            },
            "type": "scatterpolargl"
           }
          ],
          "scatterternary": [
           {
            "marker": {
             "colorbar": {
              "outlinewidth": 0,
              "ticks": ""
             }
            },
            "type": "scatterternary"
           }
          ],
          "surface": [
           {
            "colorbar": {
             "outlinewidth": 0,
             "ticks": ""
            },
            "colorscale": [
             [
              0,
              "#0d0887"
             ],
             [
              0.1111111111111111,
              "#46039f"
             ],
             [
              0.2222222222222222,
              "#7201a8"
             ],
             [
              0.3333333333333333,
              "#9c179e"
             ],
             [
              0.4444444444444444,
              "#bd3786"
             ],
             [
              0.5555555555555556,
              "#d8576b"
             ],
             [
              0.6666666666666666,
              "#ed7953"
             ],
             [
              0.7777777777777778,
              "#fb9f3a"
             ],
             [
              0.8888888888888888,
              "#fdca26"
             ],
             [
              1,
              "#f0f921"
             ]
            ],
            "type": "surface"
           }
          ],
          "table": [
           {
            "cells": {
             "fill": {
              "color": "#EBF0F8"
             },
             "line": {
              "color": "white"
             }
            },
            "header": {
             "fill": {
              "color": "#C8D4E3"
             },
             "line": {
              "color": "white"
             }
            },
            "type": "table"
           }
          ]
         },
         "layout": {
          "annotationdefaults": {
           "arrowcolor": "#2a3f5f",
           "arrowhead": 0,
           "arrowwidth": 1
          },
          "autotypenumbers": "strict",
          "coloraxis": {
           "colorbar": {
            "outlinewidth": 0,
            "ticks": ""
           }
          },
          "colorscale": {
           "diverging": [
            [
             0,
             "#8e0152"
            ],
            [
             0.1,
             "#c51b7d"
            ],
            [
             0.2,
             "#de77ae"
            ],
            [
             0.3,
             "#f1b6da"
            ],
            [
             0.4,
             "#fde0ef"
            ],
            [
             0.5,
             "#f7f7f7"
            ],
            [
             0.6,
             "#e6f5d0"
            ],
            [
             0.7,
             "#b8e186"
            ],
            [
             0.8,
             "#7fbc41"
            ],
            [
             0.9,
             "#4d9221"
            ],
            [
             1,
             "#276419"
            ]
           ],
           "sequential": [
            [
             0,
             "#0d0887"
            ],
            [
             0.1111111111111111,
             "#46039f"
            ],
            [
             0.2222222222222222,
             "#7201a8"
            ],
            [
             0.3333333333333333,
             "#9c179e"
            ],
            [
             0.4444444444444444,
             "#bd3786"
            ],
            [
             0.5555555555555556,
             "#d8576b"
            ],
            [
             0.6666666666666666,
             "#ed7953"
            ],
            [
             0.7777777777777778,
             "#fb9f3a"
            ],
            [
             0.8888888888888888,
             "#fdca26"
            ],
            [
             1,
             "#f0f921"
            ]
           ],
           "sequentialminus": [
            [
             0,
             "#0d0887"
            ],
            [
             0.1111111111111111,
             "#46039f"
            ],
            [
             0.2222222222222222,
             "#7201a8"
            ],
            [
             0.3333333333333333,
             "#9c179e"
            ],
            [
             0.4444444444444444,
             "#bd3786"
            ],
            [
             0.5555555555555556,
             "#d8576b"
            ],
            [
             0.6666666666666666,
             "#ed7953"
            ],
            [
             0.7777777777777778,
             "#fb9f3a"
            ],
            [
             0.8888888888888888,
             "#fdca26"
            ],
            [
             1,
             "#f0f921"
            ]
           ]
          },
          "colorway": [
           "#636efa",
           "#EF553B",
           "#00cc96",
           "#ab63fa",
           "#FFA15A",
           "#19d3f3",
           "#FF6692",
           "#B6E880",
           "#FF97FF",
           "#FECB52"
          ],
          "font": {
           "color": "#2a3f5f"
          },
          "geo": {
           "bgcolor": "white",
           "lakecolor": "white",
           "landcolor": "white",
           "showlakes": true,
           "showland": true,
           "subunitcolor": "#C8D4E3"
          },
          "hoverlabel": {
           "align": "left"
          },
          "hovermode": "closest",
          "mapbox": {
           "style": "light"
          },
          "paper_bgcolor": "white",
          "plot_bgcolor": "white",
          "polar": {
           "angularaxis": {
            "gridcolor": "#EBF0F8",
            "linecolor": "#EBF0F8",
            "ticks": ""
           },
           "bgcolor": "white",
           "radialaxis": {
            "gridcolor": "#EBF0F8",
            "linecolor": "#EBF0F8",
            "ticks": ""
           }
          },
          "scene": {
           "xaxis": {
            "backgroundcolor": "white",
            "gridcolor": "#DFE8F3",
            "gridwidth": 2,
            "linecolor": "#EBF0F8",
            "showbackground": true,
            "ticks": "",
            "zerolinecolor": "#EBF0F8"
           },
           "yaxis": {
            "backgroundcolor": "white",
            "gridcolor": "#DFE8F3",
            "gridwidth": 2,
            "linecolor": "#EBF0F8",
            "showbackground": true,
            "ticks": "",
            "zerolinecolor": "#EBF0F8"
           },
           "zaxis": {
            "backgroundcolor": "white",
            "gridcolor": "#DFE8F3",
            "gridwidth": 2,
            "linecolor": "#EBF0F8",
            "showbackground": true,
            "ticks": "",
            "zerolinecolor": "#EBF0F8"
           }
          },
          "shapedefaults": {
           "line": {
            "color": "#2a3f5f"
           }
          },
          "ternary": {
           "aaxis": {
            "gridcolor": "#DFE8F3",
            "linecolor": "#A2B1C6",
            "ticks": ""
           },
           "baxis": {
            "gridcolor": "#DFE8F3",
            "linecolor": "#A2B1C6",
            "ticks": ""
           },
           "bgcolor": "white",
           "caxis": {
            "gridcolor": "#DFE8F3",
            "linecolor": "#A2B1C6",
            "ticks": ""
           }
          },
          "title": {
           "x": 0.05
          },
          "xaxis": {
           "automargin": true,
           "gridcolor": "#EBF0F8",
           "linecolor": "#EBF0F8",
           "ticks": "",
           "title": {
            "standoff": 15
           },
           "zerolinecolor": "#EBF0F8",
           "zerolinewidth": 2
          },
          "yaxis": {
           "automargin": true,
           "gridcolor": "#EBF0F8",
           "linecolor": "#EBF0F8",
           "ticks": "",
           "title": {
            "standoff": 15
           },
           "zerolinecolor": "#EBF0F8",
           "zerolinewidth": 2
          }
         }
        },
        "title": {
         "text": "Sample of Random Portfolios"
        },
        "width": 850,
        "xaxis": {
         "title": {
          "text": "Annualised Risk (Volatility)"
         }
        },
        "yaxis": {
         "title": {
          "text": "Annualised Return"
         }
        }
       }
      }
     },
     "metadata": {},
     "output_type": "display_data"
    }
   ],
   "source": [
    "#-- Plot the risk vs. return of randomly generated portfolios\n",
    "#-- Convert the list from before into an array for easy plotting\n",
    "mean_variance_pairs = np.array(mean_variance_pairs)\n",
    "\n",
    "fig = go.Figure()\n",
    "fig.add_trace(go.Scatter(x=mean_variance_pairs[:,1]**0.5, y=mean_variance_pairs[:,0], \n",
    "                      marker=dict(color=(mean_variance_pairs[:,0]-risk_free_rate)/(mean_variance_pairs[:,1]**0.5), \n",
    "                                  showscale=True, \n",
    "                                  size=7,\n",
    "                                  line=dict(width=1),\n",
    "                                  colorscale=\"RdBu\",\n",
    "                                  colorbar=dict(title=\"Sharpe<br>Ratio\")\n",
    "                                 ), \n",
    "                      mode='markers'))\n",
    "fig.update_layout(template='plotly_white',\n",
    "                  xaxis=dict(title='Annualised Risk (Volatility)'),\n",
    "                  yaxis=dict(title='Annualised Return'),\n",
    "                  title='Sample of Random Portfolios',\n",
    "                  width=850,\n",
    "                  height=500)\n",
    "# fig.update_xaxes(range=[0, 0.4])\n",
    "# fig.update_yaxes(range=[0,0.4])\n",
    "fig.update_layout(coloraxis_colorbar=dict(title=\"Sharpe Ratio\"))"
   ]
  },
  {
   "cell_type": "code",
   "execution_count": 7,
   "metadata": {},
   "outputs": [
    {
     "name": "stderr",
     "output_type": "stream",
     "text": [
      "100%|██████████| 10000/10000 [00:25<00:00, 391.58it/s]\n"
     ]
    }
   ],
   "source": [
    "#-- Create random portfolio weights and indexes\n",
    "\n",
    "mean_variance_pairs = []\n",
    "weights_list=[]\n",
    "tickers_list=[]\n",
    "\n",
    "for i in tqdm(range(10000)):\n",
    "    next_i = False\n",
    "    while True:\n",
    "        #- Choose assets randomly without replacement\n",
    "        assets = np.random.choice(list(daily_returns.columns), n_assets, replace=False)\n",
    "        #- Choose weights randomly ensuring they sum to one\n",
    "        weights = np.random.rand(n_assets)\n",
    "        weights = weights/sum(weights)\n",
    "\n",
    "        #-- Loop over asset pairs and compute portfolio return and variance\n",
    "        portfolio_E_Variance = 0\n",
    "        portfolio_E_Return = 0\n",
    "        for i in range(len(assets)):\n",
    "            portfolio_E_Return += weights[i] * mus.loc[assets[i]]\n",
    "            for j in range(len(assets)):\n",
    "                portfolio_E_Variance += weights[i] * weights[j] * cov.loc[assets[i], assets[j]]\n",
    "\n",
    "        #-- Skip over dominated portfolios\n",
    "        for R,V in mean_variance_pairs:\n",
    "            if (R > portfolio_E_Return) & (V < portfolio_E_Variance):\n",
    "                next_i = True\n",
    "                break\n",
    "        if next_i:\n",
    "            break\n",
    "\n",
    "        #-- Add the mean/variance pairs to a list for plotting\n",
    "        mean_variance_pairs.append([portfolio_E_Return, portfolio_E_Variance])\n",
    "        weights_list.append(weights)\n",
    "        tickers_list.append(assets)\n",
    "        break"
   ]
  },
  {
   "cell_type": "code",
   "execution_count": 66,
   "metadata": {},
   "outputs": [
    {
     "data": {
      "application/vnd.plotly.v1+json": {
       "config": {
        "plotlyServerURL": "https://plot.ly"
       },
       "data": [
        {
         "marker": {
          "color": [
           0.7069284044378256,
           0.5588163132666122,
           0.6684200459766442,
           0.5784226424469332,
           0.58433860241111,
           0.6934134286720649,
           0.6679544085292374,
           0.5470619431696686,
           0.6688186251714199,
           0.5131661550553894,
           0.6822414209504262,
           0.5887684729871783,
           0.6550830949664173,
           0.5642342019547032,
           0.6831896922681379,
           0.6802240673584676,
           0.6656033747538826,
           0.6120694904040683,
           0.6166251284067064,
           0.6984585693885018,
           0.6935349466416565,
           0.6021053862634687,
           0.7058818329905449,
           0.5984542642509302,
           0.697962956524245,
           0.726064624640281,
           0.6422175887663717,
           0.5315885613983022,
           0.6193422920292988,
           0.7230853114438887,
           0.679912306007231,
           0.7218127449734882,
           0.7379774829181789,
           0.6504173795983698,
           0.562354568965216,
           0.663879666740826,
           0.5951004921663734,
           0.5392754088343702,
           0.7040112090204622,
           0.6713544052625215,
           0.5974897535623513,
           0.7148619149258034,
           0.7004725975657276,
           0.7000017127889868,
           0.7236292645268934,
           0.7276403813811833,
           0.6956969589937926,
           0.6551962362111773,
           0.7449829884089774,
           0.6470117215614354,
           0.7198364288101278,
           0.6286635597438524,
           0.7029512512354398,
           0.6984760308172256,
           0.730879378746473,
           0.41456531686567183,
           0.6937276868291864,
           0.5536950576677434,
           0.5940690923399526,
           0.6688208826534983,
           0.6795612888868062,
           0.7362413528632692,
           0.7029789104464554,
           0.6160530955782219,
           0.6865537542896554,
           0.5921552033780331,
           0.5978105222172442,
           0.7020482197877794,
           0.5360060329101777,
           0.5488166911003405,
           0.5372362702523821,
           0.6091392458283943,
           0.617686409335687,
           0.7346380191295735,
           0.7052151768479608,
           0.6182805599307274,
           0.6171747455690427,
           0.6359674992643978,
           0.6013522054853404,
           0.6651462347592688,
           0.5924227987483089,
           0.7033014214064245,
           0.6986719703534375,
           0.7071368032772491,
           0.7147025978508124,
           0.622881672454755,
           0.7240957081929916,
           0.7502207704411566,
           0.6098308715465823,
           0.7078100364447899,
           0.5623776478026745,
           0.6441416222614342,
           0.7211867541450764,
           0.5484308559831821,
           0.7050878535731991,
           0.5605228764848973,
           0.6801664317817766,
           0.7042066164569785,
           0.7348402353328124,
           0.6665954047580598,
           0.6105109977110653,
           0.7447967907363083,
           0.7167699984061983,
           0.7318485436346436,
           0.7068111914845838,
           0.7339413967523185,
           0.606842736647943,
           0.6928156372772714,
           0.7257961250744789,
           0.6609290112938515,
           0.7364015164920926,
           0.7208263813960841,
           0.6930650547235369,
           0.7002520840674431,
           0.7277275439291674,
           0.5807539832178485,
           0.6169181644952381,
           0.7080629751441051,
           0.6755282346791537,
           0.6162685966406036,
           0.723671733315527,
           0.7100069259664554,
           0.7192961412640596,
           0.6683135734010215,
           0.6800491984539375,
           0.7428558641506326,
           0.757914696980464,
           0.7224262934515803,
           0.7257690567429759,
           0.7431495831588557,
           0.6661294396384858,
           0.6676447364281922,
           0.6162518966575504,
           0.6409643346776402,
           0.7280306731094915,
           0.6907450300397374,
           0.7281136980485419,
           0.6783842468924098,
           0.7269014950319822,
           0.5634785697228155,
           0.6892708673583958,
           0.7488057459111376,
           0.7140280222252309,
           0.7035254990068677,
           0.7493417494079196,
           0.7521289817942322,
           0.7441461740255393,
           0.5163377749868854,
           0.7023599002280368,
           0.5711320878420334,
           0.7122425126789,
           0.7234893491000558,
           0.6345585559904647,
           0.5435836895327116,
           0.6893821403642262,
           0.7037881222458738,
           0.6981590747678458,
           0.728889489407037,
           0.6070707378281907,
           0.7687520828425419,
           0.6138563079987548,
           0.7510340500284999,
           0.5820578093887884,
           0.7277757168268105,
           0.66916542313309,
           0.6444963372926722,
           0.7234601676295713,
           0.6181821950611323,
           0.7273772883808042,
           0.7280481785674306,
           0.7053554306542873,
           0.7728921204349117,
           0.7484812836921902,
           0.7299562049466122,
           0.728757559435701,
           0.6453379653135458,
           0.7144530887407348,
           0.5270960118395774,
           0.5905032258641247,
           0.6736393194840765,
           0.762067513802585,
           0.6738984294268004,
           0.6792363292430629,
           0.7097949923819149,
           0.715934689140432,
           0.6648549690237091,
           0.749385081605813,
           0.7348214317989624,
           0.7544540604748912,
           0.7351913148190551,
           0.5852678149464232,
           0.6122499763848593,
           0.7020753930517041,
           0.7194287465352552,
           0.6504387331935,
           0.7439622950824393,
           0.653368566358309,
           0.6786855517025416,
           0.7053956499380527,
           0.5995393114928438,
           0.7050034352196403,
           0.7582511858419156,
           0.7093954300732039,
           0.7616159665713721,
           0.6277564392489163,
           0.7333985672095074,
           0.6414069701013655,
           0.7179993491850303,
           0.5908458622463836,
           0.6823108980976899,
           0.7316716894499196,
           0.6753475743309832,
           0.6690639912709351,
           0.7166067673657532,
           0.7432404625732326,
           0.7429183203880012,
           0.7510800922581652,
           0.5483349229534716,
           0.6787705266570739,
           0.7571366608351994,
           0.676144742286633,
           0.6564555858975862,
           0.6241861791213563,
           0.7279453375920985,
           0.7036278003650879,
           0.5415917918347095,
           0.6394848221478804,
           0.7038137382121247,
           0.6726306454802027,
           0.5961164847441067,
           0.7357464437304965,
           0.6848682956530671,
           0.7513062699773027,
           0.7337379584171967,
           0.7458456762805155,
           0.6453734883547176,
           0.5513242993678705,
           0.7373803734165952,
           0.7414759642785924,
           0.6177113752780925,
           0.4951889871922239,
           0.5182311683911772,
           0.7154369093694185,
           0.6934091860050632,
           0.6483007811957638,
           0.6794307070978529,
           0.7566606370361082,
           0.6237113420156767,
           0.6279549291767539,
           0.7494388707251795,
           0.6403335027748626,
           0.5745000120357415,
           0.5569135004998973,
           0.42883665226568735,
           0.7576263065988568,
           0.7453931942296729,
           0.6167985782615052,
           0.5991737425018921,
           0.7488764485568232,
           0.7471572899610698,
           0.7517202935019273,
           0.6185720025614256,
           0.7213086628595937,
           0.6514663655218209,
           0.7047638441698013
          ],
          "colorbar": {
           "title": {
            "text": "Sharpe<br>Ratio"
           }
          },
          "colorscale": [
           [
            0,
            "rgb(103,0,31)"
           ],
           [
            0.1,
            "rgb(178,24,43)"
           ],
           [
            0.2,
            "rgb(214,96,77)"
           ],
           [
            0.3,
            "rgb(244,165,130)"
           ],
           [
            0.4,
            "rgb(253,219,199)"
           ],
           [
            0.5,
            "rgb(247,247,247)"
           ],
           [
            0.6,
            "rgb(209,229,240)"
           ],
           [
            0.7,
            "rgb(146,197,222)"
           ],
           [
            0.8,
            "rgb(67,147,195)"
           ],
           [
            0.9,
            "rgb(33,102,172)"
           ],
           [
            1,
            "rgb(5,48,97)"
           ]
          ],
          "line": {
           "width": 1
          },
          "showscale": true,
          "size": 7
         },
         "mode": "markers",
         "text": [
          "['AMZN' 'MSFT' 'ABT' 'JPM' 'AAPL' 'GOOGL' 'KO' 'NVDA' 'TGT' 'WMT']<br>[0.15 0.15 0.14 0.09 0.01 0.   0.05 0.17 0.12 0.12]",
          "['KO' 'MSFT' 'JPM' 'AMZN' 'WMT' 'TGT' 'ABT' 'GOOGL' 'AAPL' 'NVDA']<br>[0.19 0.16 0.17 0.05 0.05 0.08 0.04 0.09 0.16 0.  ]",
          "['NVDA' 'GOOGL' 'MSFT' 'TGT' 'AAPL' 'AMZN' 'KO' 'WMT' 'ABT' 'JPM']<br>[0.15 0.22 0.09 0.   0.02 0.27 0.02 0.11 0.02 0.12]",
          "['NVDA' 'MSFT' 'GOOGL' 'WMT' 'ABT' 'AMZN' 'KO' 'AAPL' 'TGT' 'JPM']<br>[0.04 0.08 0.04 0.09 0.04 0.11 0.16 0.12 0.17 0.15]",
          "['WMT' 'ABT' 'GOOGL' 'AMZN' 'TGT' 'AAPL' 'NVDA' 'KO' 'JPM' 'MSFT']<br>[0.08 0.17 0.07 0.05 0.14 0.12 0.03 0.14 0.07 0.13]",
          "['AMZN' 'JPM' 'MSFT' 'TGT' 'GOOGL' 'NVDA' 'KO' 'AAPL' 'WMT' 'ABT']<br>[0.07 0.08 0.16 0.1  0.06 0.17 0.14 0.01 0.04 0.17]",
          "['NVDA' 'MSFT' 'GOOGL' 'WMT' 'JPM' 'ABT' 'AAPL' 'KO' 'AMZN' 'TGT']<br>[0.16 0.06 0.17 0.17 0.06 0.09 0.07 0.12 0.06 0.05]",
          "['TGT' 'WMT' 'KO' 'AMZN' 'GOOGL' 'NVDA' 'MSFT' 'AAPL' 'ABT' 'JPM']<br>[0.16 0.08 0.25 0.07 0.11 0.02 0.16 0.01 0.13 0.01]",
          "['JPM' 'AMZN' 'TGT' 'ABT' 'KO' 'MSFT' 'GOOGL' 'AAPL' 'WMT' 'NVDA']<br>[0.03 0.09 0.   0.05 0.14 0.13 0.15 0.11 0.17 0.12]",
          "['WMT' 'JPM' 'TGT' 'KO' 'NVDA' 'AMZN' 'AAPL' 'GOOGL' 'MSFT' 'ABT']<br>[0.17 0.18 0.06 0.23 0.01 0.25 0.01 0.03 0.01 0.05]",
          "['AMZN' 'JPM' 'WMT' 'TGT' 'NVDA' 'GOOGL' 'ABT' 'MSFT' 'AAPL' 'KO']<br>[0.04 0.06 0.14 0.12 0.14 0.03 0.13 0.14 0.12 0.08]",
          "['NVDA' 'AAPL' 'AMZN' 'TGT' 'WMT' 'JPM' 'MSFT' 'GOOGL' 'KO' 'ABT']<br>[0.05 0.06 0.22 0.2  0.04 0.03 0.02 0.1  0.12 0.15]",
          "['AAPL' 'NVDA' 'TGT' 'GOOGL' 'AMZN' 'MSFT' 'ABT' 'KO' 'JPM' 'WMT']<br>[0.04 0.08 0.11 0.04 0.14 0.19 0.09 0.12 0.08 0.1 ]",
          "['ABT' 'NVDA' 'JPM' 'GOOGL' 'TGT' 'WMT' 'MSFT' 'AAPL' 'AMZN' 'KO']<br>[0.13 0.01 0.17 0.12 0.06 0.02 0.03 0.19 0.14 0.14]",
          "['AMZN' 'JPM' 'WMT' 'NVDA' 'ABT' 'AAPL' 'TGT' 'GOOGL' 'MSFT' 'KO']<br>[0.09 0.1  0.07 0.13 0.13 0.06 0.1  0.04 0.19 0.09]",
          "['NVDA' 'KO' 'ABT' 'JPM' 'MSFT' 'AAPL' 'GOOGL' 'AMZN' 'WMT' 'TGT']<br>[0.11 0.09 0.07 0.16 0.17 0.11 0.05 0.14 0.11 0.01]",
          "['MSFT' 'KO' 'JPM' 'ABT' 'WMT' 'TGT' 'GOOGL' 'AMZN' 'NVDA' 'AAPL']<br>[0.13 0.09 0.11 0.17 0.16 0.04 0.04 0.03 0.13 0.11]",
          "['KO' 'JPM' 'AMZN' 'AAPL' 'ABT' 'GOOGL' 'MSFT' 'WMT' 'NVDA' 'TGT']<br>[0.13 0.11 0.06 0.08 0.15 0.1  0.03 0.16 0.1  0.09]",
          "['KO' 'AAPL' 'JPM' 'AMZN' 'ABT' 'MSFT' 'GOOGL' 'WMT' 'NVDA' 'TGT']<br>[0.11 0.15 0.01 0.18 0.17 0.18 0.03 0.09 0.01 0.06]",
          "['GOOGL' 'AMZN' 'MSFT' 'TGT' 'AAPL' 'WMT' 'JPM' 'ABT' 'KO' 'NVDA']<br>[0.   0.09 0.12 0.1  0.14 0.08 0.13 0.07 0.13 0.15]",
          "['KO' 'TGT' 'AAPL' 'GOOGL' 'NVDA' 'MSFT' 'ABT' 'JPM' 'AMZN' 'WMT']<br>[0.01 0.09 0.17 0.17 0.15 0.1  0.14 0.03 0.12 0.01]",
          "['AAPL' 'AMZN' 'GOOGL' 'MSFT' 'TGT' 'KO' 'JPM' 'ABT' 'WMT' 'NVDA']<br>[0.2  0.15 0.13 0.04 0.01 0.18 0.14 0.01 0.1  0.04]",
          "['MSFT' 'WMT' 'ABT' 'AAPL' 'KO' 'JPM' 'GOOGL' 'AMZN' 'NVDA' 'TGT']<br>[0.14 0.04 0.15 0.07 0.03 0.04 0.02 0.16 0.18 0.2 ]",
          "['AAPL' 'TGT' 'JPM' 'MSFT' 'ABT' 'NVDA' 'GOOGL' 'WMT' 'KO' 'AMZN']<br>[0.04 0.1  0.   0.09 0.07 0.05 0.17 0.15 0.14 0.18]",
          "['JPM' 'ABT' 'WMT' 'AAPL' 'TGT' 'AMZN' 'MSFT' 'NVDA' 'GOOGL' 'KO']<br>[0.14 0.16 0.02 0.15 0.1  0.19 0.01 0.17 0.06 0.01]",
          "['AAPL' 'ABT' 'AMZN' 'MSFT' 'GOOGL' 'TGT' 'KO' 'WMT' 'NVDA' 'JPM']<br>[0.16 0.09 0.07 0.19 0.01 0.08 0.12 0.08 0.16 0.02]",
          "['GOOGL' 'AMZN' 'KO' 'AAPL' 'JPM' 'MSFT' 'ABT' 'WMT' 'TGT' 'NVDA']<br>[0.11 0.18 0.22 0.13 0.01 0.06 0.08 0.1  0.03 0.08]",
          "['MSFT' 'AAPL' 'TGT' 'WMT' 'NVDA' 'KO' 'ABT' 'AMZN' 'JPM' 'GOOGL']<br>[0.02 0.08 0.17 0.02 0.01 0.23 0.07 0.21 0.17 0.02]",
          "['ABT' 'MSFT' 'GOOGL' 'NVDA' 'AAPL' 'KO' 'AMZN' 'TGT' 'JPM' 'WMT']<br>[0.16 0.13 0.11 0.06 0.03 0.12 0.15 0.07 0.03 0.14]",
          "['MSFT' 'WMT' 'TGT' 'KO' 'NVDA' 'JPM' 'AAPL' 'AMZN' 'ABT' 'GOOGL']<br>[0.11 0.03 0.03 0.08 0.22 0.04 0.15 0.05 0.11 0.18]",
          "['GOOGL' 'MSFT' 'WMT' 'JPM' 'NVDA' 'KO' 'AAPL' 'ABT' 'AMZN' 'TGT']<br>[0.05 0.02 0.15 0.01 0.18 0.19 0.09 0.14 0.06 0.11]",
          "['MSFT' 'TGT' 'JPM' 'GOOGL' 'WMT' 'NVDA' 'ABT' 'KO' 'AAPL' 'AMZN']<br>[0.13 0.1  0.07 0.07 0.01 0.18 0.09 0.04 0.1  0.21]",
          "['MSFT' 'AAPL' 'KO' 'GOOGL' 'TGT' 'NVDA' 'WMT' 'ABT' 'JPM' 'AMZN']<br>[0.14 0.15 0.08 0.03 0.   0.22 0.   0.01 0.21 0.17]",
          "['TGT' 'WMT' 'ABT' 'NVDA' 'KO' 'JPM' 'GOOGL' 'AAPL' 'MSFT' 'AMZN']<br>[0.1  0.1  0.1  0.1  0.19 0.07 0.03 0.15 0.13 0.03]",
          "['KO' 'WMT' 'JPM' 'AAPL' 'NVDA' 'AMZN' 'GOOGL' 'MSFT' 'TGT' 'ABT']<br>[0.18 0.17 0.09 0.15 0.01 0.19 0.02 0.03 0.06 0.11]",
          "['GOOGL' 'AAPL' 'TGT' 'WMT' 'AMZN' 'ABT' 'NVDA' 'MSFT' 'KO' 'JPM']<br>[0.02 0.13 0.12 0.16 0.04 0.03 0.13 0.13 0.15 0.09]",
          "['ABT' 'GOOGL' 'JPM' 'WMT' 'NVDA' 'AMZN' 'AAPL' 'KO' 'MSFT' 'TGT']<br>[0.19 0.07 0.05 0.14 0.03 0.15 0.08 0.13 0.11 0.06]",
          "['ABT' 'WMT' 'JPM' 'KO' 'MSFT' 'NVDA' 'GOOGL' 'AAPL' 'TGT' 'AMZN']<br>[0.09 0.13 0.09 0.19 0.24 0.   0.05 0.05 0.14 0.02]",
          "['GOOGL' 'MSFT' 'WMT' 'KO' 'AAPL' 'AMZN' 'JPM' 'ABT' 'NVDA' 'TGT']<br>[0.03 0.07 0.03 0.21 0.13 0.13 0.1  0.08 0.16 0.06]",
          "['GOOGL' 'KO' 'AMZN' 'TGT' 'JPM' 'MSFT' 'AAPL' 'WMT' 'ABT' 'NVDA']<br>[0.01 0.1  0.08 0.17 0.09 0.09 0.1  0.16 0.05 0.15]",
          "['KO' 'WMT' 'ABT' 'TGT' 'AAPL' 'NVDA' 'JPM' 'MSFT' 'GOOGL' 'AMZN']<br>[0.16 0.15 0.06 0.11 0.14 0.09 0.19 0.01 0.03 0.05]",
          "['AAPL' 'MSFT' 'AMZN' 'WMT' 'TGT' 'GOOGL' 'NVDA' 'ABT' 'KO' 'JPM']<br>[0.14 0.09 0.15 0.12 0.03 0.09 0.17 0.13 0.   0.07]",
          "['WMT' 'AAPL' 'GOOGL' 'NVDA' 'TGT' 'JPM' 'AMZN' 'ABT' 'MSFT' 'KO']<br>[0.08 0.13 0.07 0.15 0.14 0.01 0.12 0.03 0.14 0.12]",
          "['GOOGL' 'AMZN' 'WMT' 'MSFT' 'AAPL' 'ABT' 'JPM' 'TGT' 'NVDA' 'KO']<br>[0.21 0.15 0.02 0.05 0.05 0.04 0.11 0.04 0.21 0.11]",
          "['KO' 'NVDA' 'ABT' 'AMZN' 'MSFT' 'GOOGL' 'JPM' 'WMT' 'TGT' 'AAPL']<br>[0.03 0.2  0.08 0.2  0.05 0.04 0.1  0.01 0.12 0.17]",
          "['NVDA' 'TGT' 'MSFT' 'ABT' 'JPM' 'AMZN' 'KO' 'GOOGL' 'WMT' 'AAPL']<br>[0.18 0.02 0.21 0.07 0.04 0.04 0.09 0.07 0.11 0.16]",
          "['MSFT' 'ABT' 'AAPL' 'GOOGL' 'NVDA' 'JPM' 'WMT' 'KO' 'TGT' 'AMZN']<br>[0.14 0.09 0.09 0.03 0.15 0.11 0.07 0.07 0.13 0.11]",
          "['TGT' 'MSFT' 'ABT' 'GOOGL' 'AAPL' 'NVDA' 'JPM' 'KO' 'AMZN' 'WMT']<br>[0.02 0.07 0.1  0.06 0.18 0.12 0.09 0.18 0.01 0.17]",
          "['KO' 'AMZN' 'AAPL' 'TGT' 'JPM' 'ABT' 'WMT' 'NVDA' 'GOOGL' 'MSFT']<br>[0.08 0.12 0.11 0.01 0.03 0.21 0.03 0.23 0.05 0.13]",
          "['KO' 'TGT' 'NVDA' 'ABT' 'WMT' 'GOOGL' 'MSFT' 'JPM' 'AAPL' 'AMZN']<br>[0.18 0.04 0.13 0.11 0.14 0.07 0.04 0.16 0.07 0.07]",
          "['NVDA' 'MSFT' 'WMT' 'GOOGL' 'AMZN' 'KO' 'TGT' 'JPM' 'AAPL' 'ABT']<br>[0.2  0.12 0.08 0.03 0.15 0.04 0.08 0.13 0.05 0.14]",
          "['WMT' 'MSFT' 'NVDA' 'TGT' 'KO' 'JPM' 'AMZN' 'GOOGL' 'AAPL' 'ABT']<br>[0.15 0.14 0.07 0.11 0.1  0.13 0.14 0.01 0.05 0.11]",
          "['WMT' 'JPM' 'AAPL' 'NVDA' 'AMZN' 'KO' 'GOOGL' 'MSFT' 'ABT' 'TGT']<br>[0.1  0.01 0.11 0.13 0.17 0.2  0.01 0.13 0.11 0.01]",
          "['JPM' 'KO' 'GOOGL' 'MSFT' 'AMZN' 'TGT' 'AAPL' 'ABT' 'NVDA' 'WMT']<br>[0.07 0.11 0.03 0.06 0.11 0.02 0.19 0.08 0.15 0.18]",
          "['TGT' 'MSFT' 'AAPL' 'NVDA' 'KO' 'AMZN' 'GOOGL' 'ABT' 'WMT' 'JPM']<br>[0.15 0.2  0.   0.2  0.11 0.18 0.03 0.11 0.   0.01]",
          "['AAPL' 'JPM' 'ABT' 'MSFT' 'TGT' 'KO' 'AMZN' 'WMT' 'NVDA' 'GOOGL']<br>[0.03 0.32 0.12 0.03 0.03 0.24 0.01 0.21 0.01 0.  ]",
          "['KO' 'TGT' 'AMZN' 'WMT' 'AAPL' 'GOOGL' 'JPM' 'MSFT' 'NVDA' 'ABT']<br>[0.11 0.12 0.13 0.08 0.06 0.03 0.04 0.17 0.14 0.13]",
          "['NVDA' 'ABT' 'MSFT' 'AMZN' 'JPM' 'AAPL' 'WMT' 'GOOGL' 'KO' 'TGT']<br>[0.04 0.14 0.05 0.14 0.12 0.01 0.15 0.18 0.17 0.01]",
          "['JPM' 'WMT' 'GOOGL' 'TGT' 'ABT' 'KO' 'NVDA' 'MSFT' 'AAPL' 'AMZN']<br>[0.17 0.16 0.   0.05 0.13 0.11 0.04 0.07 0.15 0.12]",
          "['WMT' 'NVDA' 'JPM' 'ABT' 'KO' 'MSFT' 'GOOGL' 'AMZN' 'TGT' 'AAPL']<br>[0.14 0.12 0.09 0.13 0.18 0.05 0.04 0.17 0.01 0.08]",
          "['NVDA' 'ABT' 'TGT' 'AMZN' 'AAPL' 'GOOGL' 'KO' 'MSFT' 'WMT' 'JPM']<br>[0.13 0.16 0.08 0.08 0.09 0.07 0.14 0.13 0.07 0.04]",
          "['KO' 'MSFT' 'JPM' 'NVDA' 'AMZN' 'AAPL' 'GOOGL' 'ABT' 'WMT' 'TGT']<br>[0.06 0.12 0.03 0.2  0.17 0.12 0.02 0.06 0.14 0.08]",
          "['GOOGL' 'AMZN' 'NVDA' 'WMT' 'MSFT' 'JPM' 'AAPL' 'KO' 'ABT' 'TGT']<br>[0.06 0.09 0.16 0.16 0.13 0.   0.12 0.13 0.04 0.09]",
          "['AAPL' 'AMZN' 'ABT' 'GOOGL' 'KO' 'WMT' 'MSFT' 'TGT' 'NVDA' 'JPM']<br>[0.02 0.07 0.12 0.11 0.16 0.13 0.13 0.16 0.09 0.01]",
          "['NVDA' 'TGT' 'KO' 'JPM' 'ABT' 'MSFT' 'AAPL' 'AMZN' 'WMT' 'GOOGL']<br>[0.14 0.08 0.13 0.04 0.13 0.11 0.2  0.02 0.13 0.02]",
          "['NVDA' 'JPM' 'KO' 'TGT' 'AMZN' 'WMT' 'ABT' 'MSFT' 'AAPL' 'GOOGL']<br>[0.06 0.03 0.21 0.1  0.08 0.18 0.13 0.   0.2  0.  ]",
          "['ABT' 'KO' 'JPM' 'TGT' 'AMZN' 'NVDA' 'MSFT' 'WMT' 'AAPL' 'GOOGL']<br>[0.09 0.2  0.07 0.11 0.01 0.09 0.01 0.13 0.16 0.14]",
          "['JPM' 'KO' 'GOOGL' 'TGT' 'MSFT' 'WMT' 'AMZN' 'NVDA' 'AAPL' 'ABT']<br>[0.01 0.13 0.1  0.05 0.01 0.19 0.21 0.21 0.01 0.1 ]",
          "['AMZN' 'JPM' 'TGT' 'GOOGL' 'AAPL' 'KO' 'NVDA' 'WMT' 'ABT' 'MSFT']<br>[0.04 0.15 0.11 0.03 0.08 0.16 0.02 0.2  0.09 0.11]",
          "['JPM' 'MSFT' 'GOOGL' 'AAPL' 'KO' 'NVDA' 'ABT' 'TGT' 'WMT' 'AMZN']<br>[0.02 0.03 0.08 0.01 0.24 0.08 0.17 0.1  0.23 0.03]",
          "['TGT' 'KO' 'AAPL' 'WMT' 'GOOGL' 'MSFT' 'JPM' 'NVDA' 'AMZN' 'ABT']<br>[0.05 0.16 0.02 0.15 0.14 0.08 0.14 0.05 0.   0.2 ]",
          "['MSFT' 'WMT' 'NVDA' 'AMZN' 'TGT' 'AAPL' 'ABT' 'KO' 'GOOGL' 'JPM']<br>[0.1  0.13 0.06 0.07 0.07 0.13 0.1  0.14 0.13 0.08]",
          "['JPM' 'AMZN' 'ABT' 'KO' 'AAPL' 'NVDA' 'MSFT' 'GOOGL' 'WMT' 'TGT']<br>[0.12 0.15 0.12 0.12 0.14 0.07 0.02 0.03 0.16 0.06]",
          "['JPM' 'WMT' 'AMZN' 'ABT' 'AAPL' 'MSFT' 'NVDA' 'KO' 'GOOGL' 'TGT']<br>[0.01 0.14 0.21 0.05 0.04 0.08 0.23 0.09 0.08 0.05]",
          "['AAPL' 'WMT' 'TGT' 'JPM' 'NVDA' 'ABT' 'MSFT' 'KO' 'GOOGL' 'AMZN']<br>[0.17 0.15 0.1  0.08 0.17 0.06 0.08 0.09 0.03 0.07]",
          "['GOOGL' 'MSFT' 'WMT' 'TGT' 'NVDA' 'AAPL' 'KO' 'JPM' 'AMZN' 'ABT']<br>[0.   0.15 0.15 0.03 0.06 0.02 0.16 0.18 0.19 0.05]",
          "['AMZN' 'NVDA' 'AAPL' 'ABT' 'WMT' 'JPM' 'TGT' 'GOOGL' 'KO' 'MSFT']<br>[0.18 0.07 0.07 0.18 0.14 0.   0.1  0.04 0.16 0.04]",
          "['AMZN' 'TGT' 'AAPL' 'JPM' 'ABT' 'GOOGL' 'MSFT' 'KO' 'NVDA' 'WMT']<br>[0.13 0.11 0.03 0.17 0.06 0.02 0.08 0.16 0.11 0.13]",
          "['ABT' 'NVDA' 'KO' 'MSFT' 'AMZN' 'GOOGL' 'AAPL' 'TGT' 'WMT' 'JPM']<br>[0.19 0.06 0.11 0.11 0.1  0.06 0.02 0.04 0.16 0.15]",
          "['AMZN' 'AAPL' 'TGT' 'WMT' 'JPM' 'MSFT' 'NVDA' 'GOOGL' 'ABT' 'KO']<br>[0.16 0.11 0.09 0.1  0.08 0.11 0.1  0.04 0.06 0.16]",
          "['GOOGL' 'JPM' 'KO' 'AAPL' 'AMZN' 'NVDA' 'WMT' 'TGT' 'MSFT' 'ABT']<br>[0.01 0.17 0.18 0.11 0.02 0.09 0.16 0.04 0.01 0.19]",
          "['TGT' 'WMT' 'JPM' 'AMZN' 'MSFT' 'KO' 'NVDA' 'ABT' 'AAPL' 'GOOGL']<br>[0.05 0.14 0.11 0.1  0.06 0.16 0.17 0.04 0.15 0.02]",
          "['JPM' 'ABT' 'NVDA' 'WMT' 'MSFT' 'TGT' 'AAPL' 'GOOGL' 'KO' 'AMZN']<br>[0.   0.17 0.14 0.17 0.12 0.01 0.07 0.   0.15 0.16]",
          "['MSFT' 'AAPL' 'KO' 'ABT' 'JPM' 'GOOGL' 'AMZN' 'NVDA' 'TGT' 'WMT']<br>[0.07 0.13 0.14 0.03 0.04 0.01 0.12 0.18 0.09 0.19]",
          "['GOOGL' 'NVDA' 'AMZN' 'ABT' 'JPM' 'AAPL' 'KO' 'WMT' 'TGT' 'MSFT']<br>[0.09 0.19 0.08 0.02 0.07 0.15 0.13 0.12 0.07 0.08]",
          "['WMT' 'MSFT' 'ABT' 'KO' 'AMZN' 'AAPL' 'GOOGL' 'JPM' 'TGT' 'NVDA']<br>[0.08 0.02 0.11 0.27 0.19 0.03 0.05 0.06 0.1  0.09]",
          "['JPM' 'MSFT' 'NVDA' 'TGT' 'AAPL' 'KO' 'AMZN' 'GOOGL' 'WMT' 'ABT']<br>[0.07 0.17 0.22 0.13 0.08 0.02 0.07 0.12 0.07 0.04]",
          "['JPM' 'WMT' 'KO' 'AMZN' 'TGT' 'AAPL' 'MSFT' 'GOOGL' 'NVDA' 'ABT']<br>[0.1  0.01 0.02 0.29 0.02 0.03 0.06 0.05 0.28 0.14]",
          "['TGT' 'AAPL' 'GOOGL' 'KO' 'ABT' 'WMT' 'NVDA' 'AMZN' 'JPM' 'MSFT']<br>[0.05 0.21 0.04 0.19 0.11 0.17 0.05 0.11 0.03 0.03]",
          "['WMT' 'NVDA' 'GOOGL' 'MSFT' 'KO' 'AAPL' 'AMZN' 'ABT' 'JPM' 'TGT']<br>[0.18 0.18 0.02 0.16 0.06 0.01 0.14 0.07 0.07 0.11]",
          "['JPM' 'AAPL' 'MSFT' 'NVDA' 'AMZN' 'KO' 'ABT' 'GOOGL' 'TGT' 'WMT']<br>[0.11 0.09 0.1  0.04 0.05 0.17 0.11 0.01 0.16 0.15]",
          "['MSFT' 'AMZN' 'WMT' 'NVDA' 'GOOGL' 'TGT' 'KO' 'AAPL' 'JPM' 'ABT']<br>[0.02 0.19 0.18 0.1  0.02 0.05 0.19 0.09 0.   0.17]",
          "['MSFT' 'AMZN' 'TGT' 'AAPL' 'NVDA' 'KO' 'GOOGL' 'WMT' 'ABT' 'JPM']<br>[0.04 0.09 0.02 0.16 0.21 0.18 0.03 0.21 0.   0.05]",
          "['KO' 'NVDA' 'MSFT' 'AMZN' 'ABT' 'JPM' 'WMT' 'AAPL' 'TGT' 'GOOGL']<br>[0.16 0.05 0.02 0.1  0.21 0.07 0.17 0.   0.11 0.09]",
          "['KO' 'GOOGL' 'MSFT' 'AMZN' 'AAPL' 'ABT' 'NVDA' 'WMT' 'TGT' 'JPM']<br>[0.12 0.07 0.09 0.04 0.16 0.16 0.18 0.07 0.01 0.11]",
          "['ABT' 'JPM' 'AAPL' 'GOOGL' 'KO' 'MSFT' 'AMZN' 'NVDA' 'TGT' 'WMT']<br>[0.15 0.12 0.01 0.07 0.2  0.01 0.09 0.07 0.11 0.16]",
          "['KO' 'AMZN' 'WMT' 'JPM' 'NVDA' 'AAPL' 'ABT' 'TGT' 'GOOGL' 'MSFT']<br>[0.13 0.12 0.13 0.07 0.15 0.08 0.09 0.12 0.04 0.05]",
          "['ABT' 'GOOGL' 'WMT' 'KO' 'AAPL' 'TGT' 'MSFT' 'AMZN' 'JPM' 'NVDA']<br>[0.08 0.02 0.12 0.11 0.1  0.05 0.14 0.15 0.09 0.14]",
          "['KO' 'NVDA' 'JPM' 'ABT' 'WMT' 'MSFT' 'AMZN' 'GOOGL' 'AAPL' 'TGT']<br>[0.05 0.21 0.03 0.27 0.03 0.26 0.03 0.03 0.03 0.06]",
          "['JPM' 'AAPL' 'KO' 'WMT' 'NVDA' 'AMZN' 'TGT' 'MSFT' 'ABT' 'GOOGL']<br>[0.08 0.2  0.25 0.14 0.12 0.04 0.01 0.08 0.06 0.02]",
          "['MSFT' 'NVDA' 'ABT' 'TGT' 'GOOGL' 'AMZN' 'WMT' 'AAPL' 'KO' 'JPM']<br>[0.12 0.07 0.21 0.07 0.02 0.1  0.11 0.02 0.18 0.09]",
          "['AAPL' 'JPM' 'MSFT' 'KO' 'GOOGL' 'NVDA' 'WMT' 'AMZN' 'ABT' 'TGT']<br>[0.12 0.01 0.28 0.22 0.02 0.2  0.03 0.02 0.08 0.03]",
          "['NVDA' 'TGT' 'JPM' 'KO' 'AMZN' 'GOOGL' 'AAPL' 'ABT' 'WMT' 'MSFT']<br>[0.17 0.17 0.   0.08 0.12 0.   0.14 0.05 0.08 0.18]",
          "['ABT' 'AAPL' 'WMT' 'JPM' 'TGT' 'KO' 'MSFT' 'NVDA' 'GOOGL' 'AMZN']<br>[0.05 0.   0.16 0.05 0.12 0.03 0.21 0.22 0.05 0.12]",
          "['TGT' 'MSFT' 'JPM' 'GOOGL' 'WMT' 'NVDA' 'AAPL' 'ABT' 'KO' 'AMZN']<br>[0.   0.17 0.03 0.07 0.13 0.14 0.18 0.1  0.09 0.08]",
          "['KO' 'NVDA' 'WMT' 'AAPL' 'AMZN' 'TGT' 'GOOGL' 'ABT' 'MSFT' 'JPM']<br>[0.15 0.24 0.18 0.08 0.14 0.   0.   0.14 0.   0.06]",
          "['AMZN' 'ABT' 'NVDA' 'JPM' 'GOOGL' 'WMT' 'TGT' 'AAPL' 'MSFT' 'KO']<br>[0.07 0.13 0.07 0.15 0.01 0.19 0.02 0.09 0.09 0.18]",
          "['GOOGL' 'ABT' 'AAPL' 'TGT' 'JPM' 'AMZN' 'MSFT' 'NVDA' 'WMT' 'KO']<br>[0.03 0.12 0.13 0.03 0.06 0.11 0.14 0.12 0.14 0.11]",
          "['TGT' 'GOOGL' 'AAPL' 'WMT' 'NVDA' 'JPM' 'AMZN' 'ABT' 'KO' 'MSFT']<br>[0.01 0.21 0.02 0.08 0.26 0.03 0.15 0.16 0.   0.06]",
          "['MSFT' 'KO' 'AAPL' 'JPM' 'ABT' 'TGT' 'AMZN' 'GOOGL' 'WMT' 'NVDA']<br>[0.05 0.31 0.21 0.04 0.07 0.02 0.   0.07 0.09 0.14]",
          "['ABT' 'JPM' 'WMT' 'AAPL' 'TGT' 'AMZN' 'NVDA' 'MSFT' 'GOOGL' 'KO']<br>[0.13 0.01 0.12 0.2  0.01 0.04 0.19 0.2  0.05 0.05]",
          "['TGT' 'JPM' 'AMZN' 'WMT' 'ABT' 'GOOGL' 'MSFT' 'NVDA' 'AAPL' 'KO']<br>[0.03 0.01 0.12 0.2  0.08 0.06 0.07 0.22 0.04 0.18]",
          "['GOOGL' 'MSFT' 'AAPL' 'JPM' 'ABT' 'AMZN' 'KO' 'TGT' 'NVDA' 'WMT']<br>[0.04 0.05 0.06 0.06 0.16 0.   0.21 0.01 0.21 0.21]",
          "['WMT' 'TGT' 'KO' 'MSFT' 'ABT' 'AAPL' 'NVDA' 'GOOGL' 'AMZN' 'JPM']<br>[0.23 0.02 0.16 0.04 0.08 0.12 0.19 0.04 0.06 0.06]",
          "['ABT' 'KO' 'AMZN' 'JPM' 'GOOGL' 'WMT' 'AAPL' 'TGT' 'MSFT' 'NVDA']<br>[0.07 0.1  0.08 0.17 0.   0.05 0.07 0.05 0.21 0.19]",
          "['GOOGL' 'TGT' 'KO' 'ABT' 'NVDA' 'JPM' 'AAPL' 'WMT' 'AMZN' 'MSFT']<br>[0.01 0.11 0.22 0.14 0.04 0.03 0.03 0.18 0.07 0.17]",
          "['ABT' 'TGT' 'NVDA' 'AAPL' 'KO' 'GOOGL' 'JPM' 'AMZN' 'MSFT' 'WMT']<br>[0.08 0.05 0.07 0.07 0.21 0.08 0.02 0.16 0.06 0.19]",
          "['MSFT' 'JPM' 'AAPL' 'TGT' 'GOOGL' 'ABT' 'WMT' 'KO' 'NVDA' 'AMZN']<br>[0.14 0.09 0.14 0.01 0.02 0.13 0.12 0.12 0.15 0.08]",
          "['JPM' 'NVDA' 'MSFT' 'KO' 'ABT' 'AAPL' 'WMT' 'AMZN' 'TGT' 'GOOGL']<br>[0.01 0.11 0.18 0.15 0.12 0.14 0.17 0.05 0.04 0.02]",
          "['JPM' 'WMT' 'TGT' 'MSFT' 'KO' 'ABT' 'AMZN' 'GOOGL' 'NVDA' 'AAPL']<br>[0.09 0.17 0.07 0.02 0.17 0.15 0.01 0.14 0.13 0.06]",
          "['NVDA' 'AAPL' 'ABT' 'JPM' 'AMZN' 'GOOGL' 'MSFT' 'WMT' 'TGT' 'KO']<br>[0.16 0.19 0.12 0.02 0.08 0.03 0.16 0.1  0.06 0.08]",
          "['GOOGL' 'MSFT' 'NVDA' 'WMT' 'TGT' 'AMZN' 'KO' 'AAPL' 'JPM' 'ABT']<br>[0.   0.19 0.18 0.03 0.15 0.07 0.15 0.04 0.1  0.09]",
          "['ABT' 'JPM' 'TGT' 'WMT' 'MSFT' 'AMZN' 'AAPL' 'NVDA' 'GOOGL' 'KO']<br>[0.05 0.16 0.02 0.04 0.17 0.11 0.06 0.19 0.06 0.14]",
          "['AAPL' 'JPM' 'TGT' 'KO' 'WMT' 'ABT' 'NVDA' 'MSFT' 'AMZN' 'GOOGL']<br>[0.04 0.07 0.03 0.15 0.21 0.   0.1  0.23 0.11 0.07]",
          "['GOOGL' 'AAPL' 'ABT' 'NVDA' 'WMT' 'TGT' 'MSFT' 'AMZN' 'KO' 'JPM']<br>[0.03 0.11 0.09 0.12 0.16 0.03 0.12 0.12 0.15 0.07]",
          "['GOOGL' 'ABT' 'WMT' 'NVDA' 'MSFT' 'AAPL' 'JPM' 'AMZN' 'KO' 'TGT']<br>[0.05 0.05 0.18 0.26 0.08 0.2  0.02 0.05 0.02 0.09]",
          "['MSFT' 'AAPL' 'GOOGL' 'AMZN' 'TGT' 'WMT' 'JPM' 'ABT' 'NVDA' 'KO']<br>[0.06 0.16 0.08 0.25 0.04 0.01 0.05 0.06 0.28 0.01]",
          "['KO' 'JPM' 'GOOGL' 'MSFT' 'ABT' 'AAPL' 'AMZN' 'NVDA' 'TGT' 'WMT']<br>[0.16 0.05 0.02 0.02 0.04 0.18 0.09 0.23 0.15 0.06]",
          "['WMT' 'NVDA' 'AMZN' 'KO' 'AAPL' 'ABT' 'GOOGL' 'TGT' 'JPM' 'MSFT']<br>[0.03 0.18 0.16 0.19 0.14 0.1  0.07 0.04 0.01 0.09]",
          "['WMT' 'AAPL' 'MSFT' 'GOOGL' 'ABT' 'JPM' 'AMZN' 'NVDA' 'TGT' 'KO']<br>[0.01 0.03 0.15 0.07 0.06 0.12 0.04 0.27 0.01 0.24]",
          "['JPM' 'AMZN' 'NVDA' 'WMT' 'GOOGL' 'ABT' 'MSFT' 'AAPL' 'KO' 'TGT']<br>[0.03 0.04 0.12 0.21 0.02 0.13 0.21 0.03 0.16 0.05]",
          "['GOOGL' 'TGT' 'NVDA' 'AAPL' 'ABT' 'JPM' 'WMT' 'KO' 'MSFT' 'AMZN']<br>[0.03 0.08 0.13 0.09 0.09 0.11 0.16 0.13 0.07 0.1 ]",
          "['TGT' 'ABT' 'JPM' 'WMT' 'KO' 'GOOGL' 'NVDA' 'MSFT' 'AAPL' 'AMZN']<br>[0.05 0.2  0.12 0.15 0.15 0.   0.08 0.18 0.01 0.06]",
          "['AAPL' 'NVDA' 'MSFT' 'TGT' 'AMZN' 'GOOGL' 'WMT' 'ABT' 'JPM' 'KO']<br>[0.11 0.09 0.1  0.03 0.09 0.09 0.18 0.12 0.03 0.16]",
          "['KO' 'AAPL' 'MSFT' 'NVDA' 'WMT' 'GOOGL' 'AMZN' 'JPM' 'ABT' 'TGT']<br>[0.06 0.09 0.19 0.2  0.01 0.04 0.15 0.04 0.06 0.18]",
          "['AAPL' 'KO' 'WMT' 'AMZN' 'GOOGL' 'MSFT' 'JPM' 'NVDA' 'ABT' 'TGT']<br>[0.04 0.15 0.14 0.18 0.04 0.04 0.   0.17 0.13 0.1 ]",
          "['MSFT' 'JPM' 'AAPL' 'KO' 'NVDA' 'WMT' 'ABT' 'AMZN' 'TGT' 'GOOGL']<br>[0.06 0.04 0.15 0.15 0.19 0.16 0.03 0.19 0.   0.03]",
          "['KO' 'JPM' 'AMZN' 'GOOGL' 'NVDA' 'WMT' 'TGT' 'ABT' 'AAPL' 'MSFT']<br>[0.17 0.06 0.22 0.02 0.13 0.16 0.02 0.13 0.03 0.06]",
          "['AAPL' 'KO' 'GOOGL' 'NVDA' 'JPM' 'TGT' 'AMZN' 'MSFT' 'WMT' 'ABT']<br>[0.15 0.03 0.16 0.19 0.01 0.01 0.18 0.18 0.04 0.05]",
          "['WMT' 'ABT' 'MSFT' 'JPM' 'KO' 'NVDA' 'AAPL' 'GOOGL' 'TGT' 'AMZN']<br>[0.21 0.15 0.18 0.12 0.2  0.05 0.03 0.02 0.04 0.  ]",
          "['AAPL' 'TGT' 'WMT' 'ABT' 'AMZN' 'GOOGL' 'NVDA' 'JPM' 'MSFT' 'KO']<br>[0.13 0.07 0.12 0.17 0.1  0.   0.15 0.04 0.04 0.18]",
          "['NVDA' 'KO' 'JPM' 'AMZN' 'WMT' 'ABT' 'TGT' 'GOOGL' 'AAPL' 'MSFT']<br>[0.21 0.05 0.05 0.16 0.08 0.09 0.06 0.01 0.14 0.15]",
          "['GOOGL' 'WMT' 'KO' 'MSFT' 'ABT' 'NVDA' 'JPM' 'AMZN' 'TGT' 'AAPL']<br>[0.02 0.15 0.14 0.08 0.06 0.19 0.07 0.09 0.09 0.1 ]",
          "['MSFT' 'NVDA' 'WMT' 'JPM' 'AAPL' 'KO' 'AMZN' 'TGT' 'GOOGL' 'ABT']<br>[0.18 0.18 0.13 0.07 0.   0.18 0.04 0.04 0.06 0.12]",
          "['GOOGL' 'TGT' 'NVDA' 'MSFT' 'AAPL' 'JPM' 'ABT' 'AMZN' 'KO' 'WMT']<br>[0.02 0.03 0.23 0.14 0.13 0.12 0.06 0.13 0.07 0.07]",
          "['AAPL' 'JPM' 'AMZN' 'KO' 'ABT' 'MSFT' 'GOOGL' 'NVDA' 'TGT' 'WMT']<br>[0.25 0.08 0.01 0.   0.06 0.2  0.07 0.24 0.05 0.05]",
          "['JPM' 'MSFT' 'AAPL' 'GOOGL' 'WMT' 'NVDA' 'KO' 'AMZN' 'TGT' 'ABT']<br>[0.01 0.15 0.12 0.06 0.13 0.21 0.11 0.15 0.01 0.05]",
          "['KO' 'MSFT' 'NVDA' 'JPM' 'GOOGL' 'ABT' 'AMZN' 'TGT' 'AAPL' 'WMT']<br>[0.19 0.   0.05 0.13 0.02 0.14 0.12 0.13 0.01 0.22]",
          "['AAPL' 'JPM' 'WMT' 'AMZN' 'KO' 'MSFT' 'GOOGL' 'NVDA' 'ABT' 'TGT']<br>[0.08 0.08 0.19 0.08 0.15 0.1  0.05 0.17 0.07 0.03]",
          "['AAPL' 'MSFT' 'ABT' 'TGT' 'GOOGL' 'JPM' 'KO' 'WMT' 'NVDA' 'AMZN']<br>[0.19 0.04 0.02 0.05 0.07 0.03 0.21 0.25 0.03 0.12]",
          "['MSFT' 'AAPL' 'GOOGL' 'AMZN' 'NVDA' 'WMT' 'TGT' 'JPM' 'ABT' 'KO']<br>[0.08 0.02 0.04 0.15 0.19 0.19 0.02 0.02 0.13 0.16]",
          "['MSFT' 'KO' 'TGT' 'JPM' 'GOOGL' 'WMT' 'ABT' 'AAPL' 'NVDA' 'AMZN']<br>[0.22 0.11 0.06 0.02 0.03 0.09 0.07 0.17 0.15 0.08]",
          "['AMZN' 'NVDA' 'AAPL' 'JPM' 'MSFT' 'TGT' 'KO' 'ABT' 'WMT' 'GOOGL']<br>[0.1  0.07 0.07 0.09 0.15 0.01 0.16 0.15 0.17 0.03]",
          "['ABT' 'TGT' 'AMZN' 'AAPL' 'GOOGL' 'NVDA' 'KO' 'WMT' 'JPM' 'MSFT']<br>[0.13 0.06 0.09 0.14 0.1  0.   0.23 0.16 0.02 0.07]",
          "['AAPL' 'KO' 'MSFT' 'GOOGL' 'TGT' 'NVDA' 'WMT' 'JPM' 'ABT' 'AMZN']<br>[0.05 0.12 0.12 0.05 0.05 0.16 0.17 0.08 0.15 0.05]",
          "['GOOGL' 'JPM' 'TGT' 'AMZN' 'AAPL' 'NVDA' 'WMT' 'KO' 'MSFT' 'ABT']<br>[0.06 0.02 0.06 0.05 0.05 0.18 0.13 0.18 0.12 0.13]",
          "['MSFT' 'AAPL' 'NVDA' 'ABT' 'TGT' 'GOOGL' 'KO' 'JPM' 'AMZN' 'WMT']<br>[0.05 0.09 0.2  0.07 0.05 0.03 0.18 0.04 0.06 0.23]",
          "['GOOGL' 'JPM' 'NVDA' 'KO' 'ABT' 'TGT' 'WMT' 'AAPL' 'AMZN' 'MSFT']<br>[0.   0.04 0.17 0.07 0.05 0.06 0.16 0.09 0.16 0.19]",
          "['MSFT' 'JPM' 'WMT' 'KO' 'AAPL' 'GOOGL' 'TGT' 'AMZN' 'NVDA' 'ABT']<br>[0.06 0.12 0.18 0.15 0.09 0.07 0.04 0.06 0.08 0.14]",
          "['TGT' 'ABT' 'AAPL' 'JPM' 'NVDA' 'MSFT' 'GOOGL' 'KO' 'AMZN' 'WMT']<br>[0.06 0.08 0.04 0.03 0.34 0.03 0.05 0.16 0.17 0.05]",
          "['TGT' 'WMT' 'AAPL' 'NVDA' 'JPM' 'GOOGL' 'KO' 'AMZN' 'MSFT' 'ABT']<br>[0.02 0.19 0.04 0.07 0.02 0.1  0.17 0.05 0.16 0.18]",
          "['NVDA' 'JPM' 'ABT' 'AMZN' 'GOOGL' 'WMT' 'TGT' 'KO' 'AAPL' 'MSFT']<br>[0.26 0.06 0.14 0.26 0.   0.03 0.09 0.03 0.02 0.11]",
          "['JPM' 'AAPL' 'NVDA' 'TGT' 'MSFT' 'ABT' 'GOOGL' 'KO' 'AMZN' 'WMT']<br>[0.17 0.1  0.05 0.05 0.05 0.05 0.   0.2  0.14 0.21]",
          "['NVDA' 'AAPL' 'KO' 'JPM' 'MSFT' 'GOOGL' 'ABT' 'WMT' 'AMZN' 'TGT']<br>[0.22 0.22 0.25 0.01 0.07 0.04 0.11 0.01 0.   0.08]",
          "['TGT' 'MSFT' 'WMT' 'JPM' 'NVDA' 'AAPL' 'AMZN' 'ABT' 'KO' 'GOOGL']<br>[0.05 0.12 0.15 0.01 0.09 0.2  0.1  0.07 0.2  0.01]",
          "['MSFT' 'JPM' 'TGT' 'WMT' 'KO' 'NVDA' 'ABT' 'AAPL' 'GOOGL' 'AMZN']<br>[0.   0.13 0.01 0.12 0.18 0.12 0.18 0.06 0.06 0.12]",
          "['ABT' 'TGT' 'JPM' 'NVDA' 'AMZN' 'AAPL' 'KO' 'GOOGL' 'WMT' 'MSFT']<br>[0.17 0.08 0.03 0.22 0.09 0.09 0.09 0.08 0.08 0.07]",
          "['GOOGL' 'AMZN' 'WMT' 'KO' 'MSFT' 'AAPL' 'NVDA' 'JPM' 'TGT' 'ABT']<br>[0.05 0.08 0.2  0.18 0.07 0.02 0.11 0.18 0.03 0.08]",
          "['AAPL' 'GOOGL' 'JPM' 'WMT' 'KO' 'TGT' 'MSFT' 'NVDA' 'AMZN' 'ABT']<br>[0.18 0.03 0.02 0.03 0.02 0.19 0.17 0.19 0.16 0.02]",
          "['AMZN' 'NVDA' 'AAPL' 'KO' 'JPM' 'MSFT' 'WMT' 'GOOGL' 'TGT' 'ABT']<br>[0.07 0.19 0.21 0.08 0.   0.12 0.21 0.02 0.04 0.05]",
          "['GOOGL' 'AAPL' 'NVDA' 'TGT' 'AMZN' 'WMT' 'JPM' 'KO' 'MSFT' 'ABT']<br>[0.02 0.06 0.19 0.06 0.03 0.16 0.08 0.19 0.12 0.08]",
          "['AMZN' 'KO' 'NVDA' 'MSFT' 'JPM' 'AAPL' 'GOOGL' 'TGT' 'WMT' 'ABT']<br>[0.17 0.05 0.29 0.18 0.1  0.05 0.02 0.03 0.08 0.04]",
          "['KO' 'AMZN' 'GOOGL' 'NVDA' 'ABT' 'MSFT' 'JPM' 'AAPL' 'TGT' 'WMT']<br>[0.15 0.03 0.03 0.29 0.05 0.17 0.11 0.02 0.12 0.03]",
          "['ABT' 'TGT' 'WMT' 'KO' 'GOOGL' 'AAPL' 'MSFT' 'NVDA' 'AMZN' 'JPM']<br>[0.11 0.02 0.13 0.12 0.04 0.09 0.17 0.18 0.14 0.  ]",
          "['GOOGL' 'ABT' 'MSFT' 'JPM' 'AAPL' 'AMZN' 'NVDA' 'WMT' 'TGT' 'KO']<br>[0.01 0.08 0.12 0.09 0.06 0.15 0.21 0.12 0.11 0.07]",
          "['ABT' 'GOOGL' 'NVDA' 'WMT' 'TGT' 'AMZN' 'MSFT' 'KO' 'AAPL' 'JPM']<br>[0.05 0.01 0.09 0.19 0.03 0.2  0.14 0.16 0.   0.12]",
          "['AAPL' 'NVDA' 'TGT' 'WMT' 'GOOGL' 'ABT' 'AMZN' 'MSFT' 'KO' 'JPM']<br>[0.21 0.18 0.05 0.05 0.   0.08 0.06 0.07 0.18 0.11]",
          "['WMT' 'NVDA' 'TGT' 'KO' 'ABT' 'JPM' 'MSFT' 'GOOGL' 'AAPL' 'AMZN']<br>[0.18 0.01 0.09 0.21 0.19 0.04 0.11 0.05 0.04 0.09]",
          "['TGT' 'WMT' 'AMZN' 'ABT' 'KO' 'JPM' 'MSFT' 'GOOGL' 'NVDA' 'AAPL']<br>[0.06 0.1  0.06 0.23 0.23 0.03 0.17 0.02 0.04 0.07]",
          "['ABT' 'JPM' 'GOOGL' 'AMZN' 'KO' 'MSFT' 'AAPL' 'WMT' 'NVDA' 'TGT']<br>[0.1  0.13 0.06 0.04 0.17 0.07 0.03 0.16 0.18 0.06]",
          "['GOOGL' 'JPM' 'MSFT' 'KO' 'ABT' 'AMZN' 'AAPL' 'TGT' 'WMT' 'NVDA']<br>[0.   0.09 0.15 0.13 0.1  0.17 0.07 0.01 0.02 0.25]",
          "['ABT' 'WMT' 'AAPL' 'MSFT' 'JPM' 'TGT' 'AMZN' 'NVDA' 'KO' 'GOOGL']<br>[0.12 0.15 0.07 0.14 0.14 0.   0.04 0.14 0.19 0.01]",
          "['AMZN' 'TGT' 'JPM' 'MSFT' 'NVDA' 'AAPL' 'KO' 'ABT' 'GOOGL' 'WMT']<br>[0.02 0.1  0.07 0.16 0.15 0.04 0.16 0.14 0.02 0.14]",
          "['MSFT' 'WMT' 'AMZN' 'NVDA' 'AAPL' 'JPM' 'KO' 'ABT' 'TGT' 'GOOGL']<br>[0.12 0.1  0.02 0.19 0.16 0.09 0.16 0.   0.1  0.04]",
          "['WMT' 'MSFT' 'AAPL' 'GOOGL' 'KO' 'ABT' 'NVDA' 'JPM' 'TGT' 'AMZN']<br>[0.1  0.12 0.14 0.01 0.14 0.08 0.16 0.01 0.08 0.16]",
          "['AAPL' 'ABT' 'WMT' 'NVDA' 'JPM' 'TGT' 'AMZN' 'GOOGL' 'MSFT' 'KO']<br>[0.07 0.08 0.14 0.09 0.07 0.07 0.13 0.01 0.18 0.16]",
          "['GOOGL' 'JPM' 'KO' 'AAPL' 'WMT' 'TGT' 'AMZN' 'MSFT' 'NVDA' 'ABT']<br>[0.02 0.1  0.11 0.03 0.15 0.   0.22 0.05 0.27 0.05]",
          "['GOOGL' 'JPM' 'KO' 'WMT' 'NVDA' 'AMZN' 'AAPL' 'MSFT' 'TGT' 'ABT']<br>[0.07 0.09 0.1  0.09 0.21 0.17 0.08 0.12 0.03 0.05]",
          "['AAPL' 'GOOGL' 'KO' 'WMT' 'AMZN' 'NVDA' 'MSFT' 'JPM' 'ABT' 'TGT']<br>[0.15 0.02 0.12 0.08 0.11 0.21 0.2  0.04 0.07 0.01]",
          "['JPM' 'AMZN' 'TGT' 'ABT' 'MSFT' 'WMT' 'GOOGL' 'KO' 'AAPL' 'NVDA']<br>[0.08 0.24 0.03 0.12 0.06 0.02 0.01 0.15 0.08 0.21]",
          "['JPM' 'TGT' 'KO' 'ABT' 'GOOGL' 'MSFT' 'AAPL' 'NVDA' 'AMZN' 'WMT']<br>[0.07 0.07 0.19 0.12 0.08 0.08 0.   0.06 0.14 0.18]",
          "['TGT' 'KO' 'AAPL' 'AMZN' 'WMT' 'JPM' 'ABT' 'MSFT' 'NVDA' 'GOOGL']<br>[0.09 0.17 0.13 0.06 0.17 0.02 0.18 0.11 0.06 0.  ]",
          "['AAPL' 'AMZN' 'GOOGL' 'MSFT' 'WMT' 'ABT' 'TGT' 'NVDA' 'KO' 'JPM']<br>[0.01 0.07 0.02 0.03 0.14 0.17 0.07 0.23 0.24 0.02]",
          "['NVDA' 'AAPL' 'WMT' 'ABT' 'JPM' 'AMZN' 'KO' 'MSFT' 'TGT' 'GOOGL']<br>[0.17 0.13 0.11 0.16 0.02 0.1  0.1  0.13 0.05 0.03]",
          "['ABT' 'AMZN' 'KO' 'WMT' 'GOOGL' 'TGT' 'MSFT' 'JPM' 'AAPL' 'NVDA']<br>[0.15 0.1  0.19 0.17 0.09 0.04 0.08 0.03 0.05 0.12]",
          "['JPM' 'NVDA' 'WMT' 'AMZN' 'ABT' 'MSFT' 'TGT' 'AAPL' 'GOOGL' 'KO']<br>[0.08 0.3  0.08 0.2  0.12 0.01 0.13 0.03 0.04 0.01]",
          "['GOOGL' 'ABT' 'MSFT' 'AMZN' 'KO' 'WMT' 'NVDA' 'AAPL' 'TGT' 'JPM']<br>[0.05 0.05 0.03 0.14 0.2  0.18 0.11 0.13 0.04 0.06]",
          "['AMZN' 'GOOGL' 'WMT' 'JPM' 'AAPL' 'NVDA' 'KO' 'TGT' 'MSFT' 'ABT']<br>[0.08 0.01 0.16 0.01 0.08 0.12 0.16 0.07 0.15 0.17]",
          "['AMZN' 'WMT' 'KO' 'GOOGL' 'ABT' 'MSFT' 'NVDA' 'AAPL' 'JPM' 'TGT']<br>[0.05 0.16 0.12 0.07 0.07 0.16 0.17 0.1  0.07 0.05]",
          "['KO' 'WMT' 'NVDA' 'TGT' 'AMZN' 'ABT' 'AAPL' 'GOOGL' 'MSFT' 'JPM']<br>[0.26 0.19 0.06 0.04 0.05 0.11 0.24 0.   0.05 0.01]",
          "['NVDA' 'TGT' 'ABT' 'AAPL' 'JPM' 'AMZN' 'MSFT' 'KO' 'GOOGL' 'WMT']<br>[0.17 0.08 0.09 0.12 0.1  0.12 0.07 0.16 0.   0.1 ]",
          "['AAPL' 'NVDA' 'MSFT' 'GOOGL' 'KO' 'ABT' 'WMT' 'JPM' 'AMZN' 'TGT']<br>[0.18 0.31 0.07 0.1  0.07 0.02 0.02 0.1  0.07 0.07]",
          "['MSFT' 'AMZN' 'NVDA' 'ABT' 'GOOGL' 'JPM' 'WMT' 'KO' 'TGT' 'AAPL']<br>[0.21 0.08 0.17 0.   0.01 0.06 0.21 0.21 0.03 0.03]",
          "['JPM' 'GOOGL' 'AMZN' 'KO' 'WMT' 'ABT' 'AAPL' 'MSFT' 'NVDA' 'TGT']<br>[0.06 0.01 0.04 0.03 0.08 0.09 0.18 0.19 0.25 0.06]",
          "['GOOGL' 'MSFT' 'AMZN' 'NVDA' 'AAPL' 'WMT' 'ABT' 'JPM' 'KO' 'TGT']<br>[0.07 0.13 0.08 0.07 0.08 0.14 0.13 0.02 0.19 0.09]",
          "['MSFT' 'WMT' 'NVDA' 'AMZN' 'TGT' 'GOOGL' 'KO' 'ABT' 'JPM' 'AAPL']<br>[0.05 0.07 0.24 0.05 0.   0.08 0.18 0.13 0.06 0.13]",
          "['MSFT' 'JPM' 'AMZN' 'AAPL' 'NVDA' 'GOOGL' 'KO' 'ABT' 'TGT' 'WMT']<br>[0.15 0.01 0.07 0.09 0.09 0.03 0.21 0.09 0.09 0.17]",
          "['AMZN' 'NVDA' 'JPM' 'AAPL' 'KO' 'WMT' 'GOOGL' 'ABT' 'TGT' 'MSFT']<br>[0.16 0.17 0.09 0.07 0.15 0.07 0.01 0.11 0.05 0.12]",
          "['ABT' 'MSFT' 'AAPL' 'AMZN' 'JPM' 'NVDA' 'GOOGL' 'WMT' 'KO' 'TGT']<br>[0.09 0.05 0.04 0.16 0.06 0.06 0.03 0.22 0.22 0.07]",
          "['TGT' 'KO' 'ABT' 'AMZN' 'MSFT' 'AAPL' 'JPM' 'WMT' 'NVDA' 'GOOGL']<br>[0.07 0.15 0.09 0.09 0.14 0.03 0.13 0.14 0.15 0.01]",
          "['NVDA' 'ABT' 'AAPL' 'MSFT' 'AMZN' 'GOOGL' 'WMT' 'KO' 'JPM' 'TGT']<br>[0.22 0.14 0.1  0.13 0.05 0.07 0.02 0.2  0.03 0.04]",
          "['AAPL' 'AMZN' 'WMT' 'JPM' 'NVDA' 'MSFT' 'TGT' 'GOOGL' 'KO' 'ABT']<br>[0.09 0.07 0.17 0.06 0.13 0.14 0.03 0.05 0.18 0.08]",
          "['AAPL' 'ABT' 'GOOGL' 'AMZN' 'TGT' 'NVDA' 'KO' 'JPM' 'WMT' 'MSFT']<br>[0.01 0.11 0.06 0.06 0.08 0.13 0.17 0.04 0.17 0.17]",
          "['NVDA' 'JPM' 'KO' 'AAPL' 'ABT' 'GOOGL' 'TGT' 'MSFT' 'AMZN' 'WMT']<br>[0.2  0.1  0.05 0.1  0.12 0.04 0.02 0.09 0.07 0.2 ]",
          "['WMT' 'MSFT' 'NVDA' 'JPM' 'GOOGL' 'AMZN' 'KO' 'AAPL' 'ABT' 'TGT']<br>[0.18 0.23 0.23 0.07 0.05 0.05 0.13 0.05 0.01 0.  ]",
          "['NVDA' 'KO' 'GOOGL' 'AMZN' 'MSFT' 'WMT' 'ABT' 'TGT' 'AAPL' 'JPM']<br>[0.22 0.09 0.08 0.04 0.15 0.09 0.   0.05 0.25 0.03]",
          "['AAPL' 'TGT' 'NVDA' 'WMT' 'GOOGL' 'JPM' 'AMZN' 'ABT' 'KO' 'MSFT']<br>[0.24 0.03 0.25 0.   0.01 0.09 0.3  0.05 0.01 0.02]",
          "['TGT' 'AMZN' 'GOOGL' 'JPM' 'WMT' 'MSFT' 'ABT' 'NVDA' 'AAPL' 'KO']<br>[0.11 0.14 0.01 0.05 0.21 0.05 0.2  0.03 0.06 0.14]",
          "['ABT' 'JPM' 'KO' 'TGT' 'AMZN' 'AAPL' 'NVDA' 'MSFT' 'WMT' 'GOOGL']<br>[0.14 0.03 0.23 0.04 0.06 0.16 0.15 0.01 0.12 0.05]",
          "['NVDA' 'JPM' 'WMT' 'AAPL' 'GOOGL' 'TGT' 'AMZN' 'ABT' 'KO' 'MSFT']<br>[0.25 0.01 0.18 0.1  0.01 0.07 0.1  0.03 0.1  0.16]",
          "['MSFT' 'ABT' 'JPM' 'AMZN' 'GOOGL' 'KO' 'NVDA' 'TGT' 'AAPL' 'WMT']<br>[0.04 0.17 0.11 0.15 0.03 0.17 0.15 0.02 0.02 0.13]",
          "['TGT' 'MSFT' 'NVDA' 'AMZN' 'GOOGL' 'WMT' 'AAPL' 'JPM' 'KO' 'ABT']<br>[0.06 0.14 0.1  0.08 0.03 0.16 0.09 0.06 0.14 0.13]",
          "['TGT' 'AMZN' 'ABT' 'WMT' 'NVDA' 'AAPL' 'GOOGL' 'KO' 'JPM' 'MSFT']<br>[0.04 0.07 0.02 0.23 0.08 0.15 0.03 0.18 0.1  0.11]",
          "['JPM' 'MSFT' 'TGT' 'WMT' 'KO' 'AAPL' 'GOOGL' 'ABT' 'NVDA' 'AMZN']<br>[0.03 0.09 0.01 0.11 0.2  0.15 0.02 0.12 0.2  0.06]",
          "['AMZN' 'WMT' 'MSFT' 'AAPL' 'TGT' 'GOOGL' 'NVDA' 'ABT' 'JPM' 'KO']<br>[0.18 0.12 0.1  0.1  0.03 0.02 0.14 0.12 0.03 0.16]",
          "['TGT' 'JPM' 'WMT' 'AMZN' 'NVDA' 'ABT' 'MSFT' 'AAPL' 'GOOGL' 'KO']<br>[0.06 0.06 0.17 0.02 0.04 0.17 0.04 0.1  0.14 0.2 ]",
          "['AMZN' 'JPM' 'KO' 'AAPL' 'NVDA' 'ABT' 'TGT' 'GOOGL' 'WMT' 'MSFT']<br>[0.05 0.09 0.18 0.07 0.12 0.14 0.06 0.06 0.16 0.06]",
          "['WMT' 'GOOGL' 'JPM' 'TGT' 'NVDA' 'AMZN' 'MSFT' 'ABT' 'KO' 'AAPL']<br>[0.15 0.05 0.06 0.03 0.16 0.09 0.13 0.09 0.15 0.08]",
          "['TGT' 'JPM' 'AAPL' 'KO' 'GOOGL' 'ABT' 'MSFT' 'AMZN' 'NVDA' 'WMT']<br>[0.01 0.   0.05 0.21 0.04 0.1  0.02 0.12 0.17 0.28]",
          "['GOOGL' 'TGT' 'NVDA' 'KO' 'AAPL' 'WMT' 'ABT' 'JPM' 'MSFT' 'AMZN']<br>[0.06 0.09 0.1  0.27 0.06 0.13 0.16 0.05 0.02 0.06]",
          "['GOOGL' 'AAPL' 'KO' 'MSFT' 'WMT' 'TGT' 'NVDA' 'JPM' 'AMZN' 'ABT']<br>[0.01 0.13 0.13 0.21 0.   0.07 0.2  0.09 0.03 0.11]",
          "['AAPL' 'NVDA' 'ABT' 'JPM' 'AMZN' 'MSFT' 'TGT' 'WMT' 'KO' 'GOOGL']<br>[0.04 0.15 0.02 0.02 0.19 0.09 0.   0.23 0.25 0.01]",
          "['AMZN' 'WMT' 'JPM' 'TGT' 'AAPL' 'NVDA' 'ABT' 'MSFT' 'KO' 'GOOGL']<br>[0.11 0.03 0.06 0.07 0.03 0.25 0.12 0.18 0.13 0.03]",
          "['GOOGL' 'AAPL' 'AMZN' 'NVDA' 'TGT' 'WMT' 'MSFT' 'ABT' 'JPM' 'KO']<br>[0.01 0.03 0.1  0.19 0.   0.18 0.24 0.05 0.01 0.19]",
          "['KO' 'NVDA' 'MSFT' 'ABT' 'WMT' 'TGT' 'JPM' 'AAPL' 'GOOGL' 'AMZN']<br>[0.1  0.22 0.13 0.08 0.01 0.01 0.11 0.13 0.03 0.18]",
          "['AAPL' 'TGT' 'AMZN' 'NVDA' 'GOOGL' 'MSFT' 'ABT' 'WMT' 'KO' 'JPM']<br>[0.04 0.06 0.05 0.11 0.01 0.15 0.14 0.13 0.18 0.14]",
          "['GOOGL' 'JPM' 'NVDA' 'ABT' 'KO' 'MSFT' 'AAPL' 'TGT' 'AMZN' 'WMT']<br>[0.   0.1  0.03 0.18 0.21 0.02 0.15 0.06 0.08 0.16]",
          "['KO' 'AAPL' 'AMZN' 'GOOGL' 'ABT' 'JPM' 'NVDA' 'TGT' 'MSFT' 'WMT']<br>[0.12 0.09 0.18 0.   0.06 0.04 0.19 0.01 0.15 0.16]",
          "['MSFT' 'KO' 'JPM' 'NVDA' 'WMT' 'AAPL' 'TGT' 'GOOGL' 'ABT' 'AMZN']<br>[0.17 0.18 0.04 0.2  0.07 0.17 0.07 0.01 0.04 0.05]",
          "['GOOGL' 'KO' 'JPM' 'ABT' 'AAPL' 'AMZN' 'WMT' 'MSFT' 'TGT' 'NVDA']<br>[0.01 0.22 0.14 0.1  0.   0.08 0.14 0.2  0.04 0.07]",
          "['WMT' 'JPM' 'KO' 'TGT' 'AMZN' 'ABT' 'GOOGL' 'MSFT' 'AAPL' 'NVDA']<br>[0.2  0.02 0.22 0.1  0.02 0.12 0.15 0.06 0.09 0.01]",
          "['JPM' 'WMT' 'TGT' 'MSFT' 'KO' 'NVDA' 'AAPL' 'AMZN' 'ABT' 'GOOGL']<br>[0.04 0.24 0.   0.05 0.22 0.02 0.13 0.02 0.23 0.04]",
          "['KO' 'MSFT' 'AMZN' 'TGT' 'JPM' 'GOOGL' 'WMT' 'ABT' 'AAPL' 'NVDA']<br>[0.18 0.15 0.06 0.05 0.04 0.01 0.1  0.16 0.08 0.18]",
          "['JPM' 'GOOGL' 'MSFT' 'NVDA' 'WMT' 'AAPL' 'ABT' 'TGT' 'KO' 'AMZN']<br>[0.06 0.02 0.09 0.16 0.17 0.07 0.18 0.01 0.16 0.07]",
          "['ABT' 'AAPL' 'AMZN' 'GOOGL' 'WMT' 'TGT' 'MSFT' 'NVDA' 'JPM' 'KO']<br>[0.11 0.1  0.09 0.07 0.23 0.01 0.02 0.13 0.03 0.21]",
          "['KO' 'WMT' 'MSFT' 'NVDA' 'JPM' 'ABT' 'TGT' 'AAPL' 'GOOGL' 'AMZN']<br>[0.23 0.19 0.   0.19 0.06 0.09 0.09 0.04 0.   0.11]",
          "['GOOGL' 'AAPL' 'ABT' 'NVDA' 'TGT' 'WMT' 'JPM' 'AMZN' 'KO' 'MSFT']<br>[0.07 0.09 0.02 0.26 0.02 0.01 0.12 0.13 0.12 0.16]",
          "['WMT' 'TGT' 'MSFT' 'AAPL' 'JPM' 'GOOGL' 'ABT' 'AMZN' 'NVDA' 'KO']<br>[0.18 0.11 0.08 0.   0.03 0.07 0.14 0.1  0.11 0.19]",
          "['NVDA' 'MSFT' 'GOOGL' 'AAPL' 'KO' 'JPM' 'AMZN' 'ABT' 'TGT' 'WMT']<br>[0.11 0.   0.04 0.15 0.24 0.13 0.07 0.07 0.06 0.14]",
          "['WMT' 'MSFT' 'JPM' 'AAPL' 'ABT' 'TGT' 'AMZN' 'KO' 'GOOGL' 'NVDA']<br>[0.   0.15 0.06 0.13 0.1  0.02 0.1  0.23 0.   0.22]",
          "['JPM' 'MSFT' 'WMT' 'NVDA' 'TGT' 'AMZN' 'KO' 'AAPL' 'ABT' 'GOOGL']<br>[0.12 0.11 0.2  0.11 0.04 0.13 0.22 0.   0.05 0.03]",
          "['MSFT' 'AAPL' 'NVDA' 'ABT' 'KO' 'WMT' 'AMZN' 'GOOGL' 'JPM' 'TGT']<br>[0.03 0.02 0.07 0.16 0.22 0.21 0.12 0.05 0.11 0.01]",
          "['AMZN' 'JPM' 'GOOGL' 'NVDA' 'ABT' 'MSFT' 'TGT' 'KO' 'WMT' 'AAPL']<br>[0.01 0.09 0.06 0.06 0.12 0.09 0.08 0.26 0.18 0.05]",
          "['JPM' 'AMZN' 'KO' 'NVDA' 'GOOGL' 'WMT' 'AAPL' 'TGT' 'ABT' 'MSFT']<br>[0.12 0.   0.19 0.01 0.08 0.27 0.02 0.12 0.18 0.01]",
          "['TGT' 'NVDA' 'AAPL' 'GOOGL' 'WMT' 'AMZN' 'ABT' 'MSFT' 'KO' 'JPM']<br>[0.02 0.23 0.15 0.04 0.04 0.17 0.06 0.13 0.16 0.  ]",
          "['MSFT' 'AAPL' 'ABT' 'AMZN' 'TGT' 'JPM' 'NVDA' 'WMT' 'GOOGL' 'KO']<br>[0.13 0.12 0.16 0.17 0.02 0.04 0.2  0.07 0.   0.09]",
          "['KO' 'AAPL' 'WMT' 'JPM' 'MSFT' 'NVDA' 'TGT' 'AMZN' 'GOOGL' 'ABT']<br>[0.22 0.03 0.2  0.06 0.02 0.14 0.12 0.05 0.08 0.09]",
          "['GOOGL' 'AAPL' 'JPM' 'ABT' 'KO' 'WMT' 'AMZN' 'MSFT' 'NVDA' 'TGT']<br>[0.   0.1  0.03 0.11 0.19 0.19 0.04 0.18 0.05 0.1 ]",
          "['WMT' 'KO' 'AAPL' 'NVDA' 'AMZN' 'ABT' 'TGT' 'MSFT' 'GOOGL' 'JPM']<br>[0.04 0.17 0.08 0.27 0.02 0.18 0.07 0.12 0.   0.04]",
          "['KO' 'AAPL' 'AMZN' 'JPM' 'GOOGL' 'MSFT' 'ABT' 'NVDA' 'WMT' 'TGT']<br>[0.12 0.18 0.   0.03 0.1  0.21 0.05 0.23 0.07 0.02]",
          "['TGT' 'WMT' 'JPM' 'AMZN' 'ABT' 'KO' 'AAPL' 'NVDA' 'GOOGL' 'MSFT']<br>[0.01 0.12 0.02 0.14 0.07 0.14 0.09 0.2  0.   0.2 ]",
          "['WMT' 'AMZN' 'NVDA' 'KO' 'TGT' 'AAPL' 'GOOGL' 'ABT' 'MSFT' 'JPM']<br>[0.19 0.09 0.08 0.2  0.07 0.18 0.02 0.04 0.05 0.09]",
          "['KO' 'JPM' 'MSFT' 'ABT' 'WMT' 'AMZN' 'GOOGL' 'AAPL' 'NVDA' 'TGT']<br>[0.15 0.03 0.16 0.02 0.11 0.1  0.02 0.17 0.16 0.07]",
          "['WMT' 'TGT' 'GOOGL' 'NVDA' 'AAPL' 'AMZN' 'JPM' 'ABT' 'MSFT' 'KO']<br>[0.23 0.01 0.1  0.13 0.   0.03 0.05 0.12 0.16 0.15]",
          "['TGT' 'KO' 'NVDA' 'MSFT' 'WMT' 'JPM' 'GOOGL' 'ABT' 'AMZN' 'AAPL']<br>[0.07 0.22 0.23 0.02 0.13 0.01 0.01 0.22 0.03 0.05]"
         ],
         "type": "scatter",
         "x": [
          0.22336934218335666,
          0.19705660713234652,
          0.2435313105326494,
          0.1961192226726441,
          0.19547675510746018,
          0.2185266618135144,
          0.21193139240854486,
          0.18726501228030348,
          0.21162766704540753,
          0.1830013932441234,
          0.212924213497312,
          0.2078718715481703,
          0.20730187172792316,
          0.20275709166814063,
          0.215838680448449,
          0.21757430652141965,
          0.20660414900437926,
          0.1949687032421554,
          0.20490712515220186,
          0.21791877314127367,
          0.24278200343969408,
          0.2046312937772561,
          0.23618716747227203,
          0.20221978870023755,
          0.23901743353266308,
          0.2265290134482118,
          0.20344231344367916,
          0.19302167240092688,
          0.199823845297227,
          0.24784964747585775,
          0.20710206645404164,
          0.24660835137423595,
          0.25432149125065256,
          0.20066973872663282,
          0.18703498191095252,
          0.20434796913550102,
          0.19435020717204823,
          0.18664532636556422,
          0.21823508023468857,
          0.2115291420824897,
          0.19462452592731866,
          0.2369433005716528,
          0.22586749878127638,
          0.24373778176971325,
          0.24795438904155245,
          0.23251993638476848,
          0.22269930705705335,
          0.20118977505620286,
          0.24634890438724008,
          0.19984350616965194,
          0.23239640326075403,
          0.19916542993032202,
          0.2133481431516603,
          0.21495271889745363,
          0.2415327598964221,
          0.1801289025949324,
          0.2172941581938597,
          0.19028623272170686,
          0.1934335382898368,
          0.2035913253558081,
          0.21158620169407566,
          0.2365208782668985,
          0.21797352704328934,
          0.19846616762785396,
          0.2116387404545625,
          0.18741064287664563,
          0.1946993381938102,
          0.22303533774198303,
          0.18292006029375846,
          0.1791017862079275,
          0.1864333939260612,
          0.19770315779632788,
          0.1966746558110167,
          0.2407358615243519,
          0.22101673144223236,
          0.19697954362193373,
          0.19590751748880186,
          0.19961997970940457,
          0.1941209915522593,
          0.20704967257231432,
          0.19020174791450767,
          0.2139789476394994,
          0.21046153531569387,
          0.21521789463518282,
          0.22613014734756387,
          0.19375600334840884,
          0.2460288316355495,
          0.2706967953545183,
          0.1918795719079104,
          0.22141927560899943,
          0.18736447994338723,
          0.19623836407682493,
          0.2189408229598225,
          0.18429165806771283,
          0.22476185620536368,
          0.18364150936440227,
          0.2099951197705307,
          0.21748769281669963,
          0.24277415827975754,
          0.20099525254479803,
          0.1916734578740809,
          0.23314375285750052,
          0.23203594942015654,
          0.23887928827725055,
          0.22423228890969604,
          0.22409118519924545,
          0.18850611250230856,
          0.21325695852572932,
          0.258606309513031,
          0.2032473919441708,
          0.23971462000740182,
          0.2177180890229913,
          0.2075482135199518,
          0.2099345262946234,
          0.23299871671194156,
          0.18354743912273971,
          0.1910260308754653,
          0.21733993501773782,
          0.20409625005366022,
          0.19587807937679194,
          0.2287154715515738,
          0.22328240312252806,
          0.23142344007882168,
          0.20642708603044418,
          0.20548529238127528,
          0.24619182806799217,
          0.27974146082085966,
          0.23245029072088869,
          0.23100189339211025,
          0.24102242704258864,
          0.19940109842657625,
          0.20403577929721664,
          0.1928122830476251,
          0.19758749028999825,
          0.24607665284846203,
          0.21303519574005744,
          0.2264261165218821,
          0.20671592177485457,
          0.26112797458544007,
          0.18297448156170087,
          0.2069728307854292,
          0.2440858881334021,
          0.2175261514129556,
          0.21371154166266026,
          0.24497181090648193,
          0.2632167964978886,
          0.2385438695842942,
          0.17825827474380362,
          0.21161644234756757,
          0.18672272071196128,
          0.21469542226734004,
          0.22845184170293373,
          0.1948399625893077,
          0.18254422007821555,
          0.20976689057676376,
          0.2122383562518132,
          0.20818375566939853,
          0.22859851059773595,
          0.19097301983969875,
          0.2602281768748336,
          0.19253258389369515,
          0.2595143499009031,
          0.185724666749088,
          0.23080808307778586,
          0.2030183853645864,
          0.19931118957586633,
          0.232354046646568,
          0.1923487790644441,
          0.2532033055035791,
          0.2285324852303934,
          0.2103823897312444,
          0.2628094234811252,
          0.24613590517281828,
          0.22724358598548972,
          0.23150552813711356,
          0.1990974895891031,
          0.22316745402914992,
          0.17807938702893442,
          0.1882641620581809,
          0.20535129156500354,
          0.25063144471445237,
          0.20285905136661386,
          0.20602115960930098,
          0.22250420232228924,
          0.2218035702104014,
          0.201957828802873,
          0.24229155473867783,
          0.23840133221698562,
          0.2410121347948622,
          0.23774189194614162,
          0.18670774755001743,
          0.1898780281017508,
          0.20975876621360176,
          0.22391788273513888,
          0.19729217874718102,
          0.25860292429063414,
          0.19792673694699472,
          0.20313406399225012,
          0.21708547388160163,
          0.18710939170414925,
          0.21416961102708723,
          0.268794809396801,
          0.20997697335388749,
          0.2530086950498897,
          0.19455802082690335,
          0.2321442129993179,
          0.1933863641867832,
          0.22186336722625805,
          0.18400600302607256,
          0.20682012328180527,
          0.23020114507488493,
          0.2019618154038838,
          0.2018758014365242,
          0.22325609958955178,
          0.23225669144155386,
          0.248380266969145,
          0.2787100218436521,
          0.18281251768893855,
          0.20395970949949943,
          0.239206187941493,
          0.20526909483623815,
          0.1993712274970638,
          0.19220705113401246,
          0.22018322238757654,
          0.21463204097062105,
          0.18252824767653664,
          0.19515397201267295,
          0.21262850637365868,
          0.1991654983913747,
          0.18520093200687557,
          0.2362291172631419,
          0.20227864085053235,
          0.2423385150315978,
          0.21947401498709326,
          0.24894388672661885,
          0.19692200566696277,
          0.18146604785854217,
          0.22831013680076376,
          0.23077925918408285,
          0.19098441594804313,
          0.1777465872888025,
          0.17727471482071028,
          0.2152474368471585,
          0.20658356222617677,
          0.19403909647095735,
          0.20180184047572577,
          0.25635849993421445,
          0.1923616159213641,
          0.1933172455452384,
          0.2349600906094662,
          0.19231199776974678,
          0.18123119275482094,
          0.1797947903879604,
          0.172882302723805,
          0.24818405203418742,
          0.23915833935190953,
          0.19147025397792727,
          0.18758861545845998,
          0.2371104154851953,
          0.24726713581151497,
          0.23357108174974728,
          0.1915937728505909,
          0.2238390502281292,
          0.19909590678922143,
          0.21404815481403605
         ],
         "y": [
          0.197906132670007,
          0.15011844670252508,
          0.20278120978298592,
          0.1534397990129493,
          0.1542246138833521,
          0.19152932182436982,
          0.1815605078650273,
          0.1424455615057547,
          0.18154052532154447,
          0.13391012134086613,
          0.18526571797115807,
          0.1623884043884031,
          0.17579995172385915,
          0.15440248580802993,
          0.18745876167513684,
          0.18799927973469804,
          0.17751641881546887,
          0.15933439483816808,
          0.16635088235842552,
          0.1922072345311515,
          0.2083778038011027,
          0.16320960418134814,
          0.20672023070417217,
          0.16101929486357924,
          0.20682531456929476,
          0.20447470311940907,
          0.17065423199285204,
          0.1426081131503031,
          0.1637593583484926,
          0.21921643953633863,
          0.18081124358163025,
          0.21800505103882376,
          0.22768353396515423,
          0.17051908562726603,
          0.14517997663395069,
          0.17566246164884103,
          0.15565790394072254,
          0.1406532346828141,
          0.19363994268670068,
          0.1820110213784813,
          0.1562861600335031,
          0.20938174157549194,
          0.19821399357699448,
          0.21061686471018756,
          0.2194270521783538,
          0.2091908951897414,
          0.19493123068961687,
          0.17181878338099751,
          0.22352574298168357,
          0.16930109096969984,
          0.20728739699153953,
          0.16520804815791104,
          0.18997334417721734,
          0.19013932190886426,
          0.21653131350001803,
          0.11467519558093389,
          0.1907429737253216,
          0.14536054660022313,
          0.15491288651994883,
          0.1761661299250671,
          0.1837857919338898,
          0.21413645139562995,
          0.19323079254706255,
          0.16226569693468573,
          0.18530137181221384,
          0.15097618734782803,
          0.15639331304099352,
          0.19658156181152533,
          0.138046255857748,
          0.13829404967679537,
          0.14015878120333022,
          0.16042875243794721,
          0.16148326195523902,
          0.2168537164437012,
          0.19586435335039215,
          0.16178862252546833,
          0.1609091722612141,
          0.16695181929899985,
          0.15673508640095227,
          0.17771831011961434,
          0.15267985182633298,
          0.19049169802591082,
          0.1870435755626254,
          0.19218849402038302,
          0.2016158037616909,
          0.160687063413806,
          0.21814842107903754,
          0.24308235836681882,
          0.15701408656858612,
          0.19672278553838488,
          0.1453695955123335,
          0.16640529818637598,
          0.19789722146024621,
          0.14107123178463565,
          0.1984768547569679,
          0.14293526707096296,
          0.18283163130590868,
          0.19315627227948276,
          0.21840021960302247,
          0.1739825117245481,
          0.157018754001435,
          0.2136447189084854,
          0.2063164070960663,
          0.214823459230186,
          0.1984898912935777,
          0.2044697974650167,
          0.15439356518576594,
          0.1877477556248158,
          0.22769545736436925,
          0.17433209780571474,
          0.21652620969877642,
          0.19693694227491335,
          0.18384441396097773,
          0.18700708955552148,
          0.2095595838514291,
          0.14659590637996667,
          0.15784742833850274,
          0.19389036100628593,
          0.17787277950338423,
          0.16071350909019233,
          0.20551492173380553,
          0.19853205266342905,
          0.20646198744675076,
          0.17795802351176623,
          0.17974010837795926,
          0.2228850431862723,
          0.2520201645109142,
          0.20792820193723388,
          0.20765402627303334,
          0.21911571618863546,
          0.17282694195819379,
          0.17622341409081102,
          0.15882093512697143,
          0.16664653425435344,
          0.2191513512097965,
          0.18715300268098733,
          0.20486395703551763,
          0.18023282491390502,
          0.22981431512082984,
          0.1431021991661609,
          0.18266034259509528,
          0.22277291553011463,
          0.19531976767565878,
          0.19035151899175007,
          0.22356760534028927,
          0.23797298114109658,
          0.21751150788839974,
          0.13204148095421647,
          0.1886309033338497,
          0.14664333732776735,
          0.19291520701634773,
          0.20528247425436452,
          0.16363736530990727,
          0.1392280606529877,
          0.18460954800335783,
          0.18937083421501444,
          0.18534537823984257,
          0.2066230516687929,
          0.15593413205936363,
          0.24005095298684576,
          0.15818734111844424,
          0.2349041132465885,
          0.14810249267743691,
          0.20797651811135764,
          0.1758528837462902,
          0.1684553316630913,
          0.20809889753633534,
          0.15890659045938682,
          0.22417433376624973,
          0.20638265961547617,
          0.18839436111096,
          0.24312333258460353,
          0.22422811826649025,
          0.20587786562442723,
          0.20871140368107588,
          0.16848516883046666,
          0.1994426768375321,
          0.1338649346937879,
          0.1511705950099622,
          0.17833270430502518,
          0.23099808195429275,
          0.17670639611097172,
          0.17993705619942077,
          0.19793236859229335,
          0.19879687008882171,
          0.17427266601282967,
          0.2215696765202434,
          0.2151824082824655,
          0.2218325837197056,
          0.2147857741274536,
          0.1492740354421671,
          0.1562528182213006,
          0.18726646823545498,
          0.20109296170296925,
          0.16832647481330199,
          0.23239082507029046,
          0.1693191083630361,
          0.17786415429015967,
          0.19313114894082256,
          0.15217943587615046,
          0.19099031149375065,
          0.24381398297327606,
          0.1889567053178507,
          0.2326954618313833,
          0.16213505038161335,
          0.21025423319967845,
          0.16403936191196383,
          0.19929775327645266,
          0.14871918551645052,
          0.1811156240610835,
          0.2084316607302471,
          0.17639442214049475,
          0.17506782945013966,
          0.19998683182155538,
          0.21262257078274907,
          0.22452625075424054,
          0.2493335489196055,
          0.1402424878018943,
          0.17844183943379904,
          0.22111177438913915,
          0.17879161922745868,
          0.17087835595770598,
          0.1599729848475224,
          0.2002813501530405,
          0.19102107087602752,
          0.13885580071958514,
          0.1647980030839766,
          0.1896508639213053,
          0.17396481774037664,
          0.150401328559271,
          0.2138047329319511,
          0.17853422800632296,
          0.22207044580022825,
          0.20103641568225505,
          0.22567372155151508,
          0.16708824173109524,
          0.14004664169466724,
          0.20835141392894113,
          0.21111727373901704,
          0.157973246231949,
          0.12801815253641632,
          0.13186928258774944,
          0.19399596096762017,
          0.18324693972527956,
          0.16579569782464185,
          0.1771103671680705,
          0.23397638586984382,
          0.15997812161861819,
          0.16139451723500534,
          0.2160882249718442,
          0.1631438151575335,
          0.14411732241889644,
          0.14013014608660432,
          0.11413826793605965,
          0.2280307666993999,
          0.21826699849618392,
          0.15809858043295485,
          0.15239817277499376,
          0.21756640586438583,
          0.2247474430893673,
          0.21558012212648267,
          0.15851454375048893,
          0.20145704601581332,
          0.16970428678624533,
          0.19085340042419283
         ]
        }
       ],
       "layout": {
        "coloraxis": {
         "colorbar": {
          "title": {
           "text": "Sharpe Ratio"
          }
         }
        },
        "height": 500,
        "template": {
         "data": {
          "bar": [
           {
            "error_x": {
             "color": "#2a3f5f"
            },
            "error_y": {
             "color": "#2a3f5f"
            },
            "marker": {
             "line": {
              "color": "white",
              "width": 0.5
             }
            },
            "type": "bar"
           }
          ],
          "barpolar": [
           {
            "marker": {
             "line": {
              "color": "white",
              "width": 0.5
             }
            },
            "type": "barpolar"
           }
          ],
          "carpet": [
           {
            "aaxis": {
             "endlinecolor": "#2a3f5f",
             "gridcolor": "#C8D4E3",
             "linecolor": "#C8D4E3",
             "minorgridcolor": "#C8D4E3",
             "startlinecolor": "#2a3f5f"
            },
            "baxis": {
             "endlinecolor": "#2a3f5f",
             "gridcolor": "#C8D4E3",
             "linecolor": "#C8D4E3",
             "minorgridcolor": "#C8D4E3",
             "startlinecolor": "#2a3f5f"
            },
            "type": "carpet"
           }
          ],
          "choropleth": [
           {
            "colorbar": {
             "outlinewidth": 0,
             "ticks": ""
            },
            "type": "choropleth"
           }
          ],
          "contour": [
           {
            "colorbar": {
             "outlinewidth": 0,
             "ticks": ""
            },
            "colorscale": [
             [
              0,
              "#0d0887"
             ],
             [
              0.1111111111111111,
              "#46039f"
             ],
             [
              0.2222222222222222,
              "#7201a8"
             ],
             [
              0.3333333333333333,
              "#9c179e"
             ],
             [
              0.4444444444444444,
              "#bd3786"
             ],
             [
              0.5555555555555556,
              "#d8576b"
             ],
             [
              0.6666666666666666,
              "#ed7953"
             ],
             [
              0.7777777777777778,
              "#fb9f3a"
             ],
             [
              0.8888888888888888,
              "#fdca26"
             ],
             [
              1,
              "#f0f921"
             ]
            ],
            "type": "contour"
           }
          ],
          "contourcarpet": [
           {
            "colorbar": {
             "outlinewidth": 0,
             "ticks": ""
            },
            "type": "contourcarpet"
           }
          ],
          "heatmap": [
           {
            "colorbar": {
             "outlinewidth": 0,
             "ticks": ""
            },
            "colorscale": [
             [
              0,
              "#0d0887"
             ],
             [
              0.1111111111111111,
              "#46039f"
             ],
             [
              0.2222222222222222,
              "#7201a8"
             ],
             [
              0.3333333333333333,
              "#9c179e"
             ],
             [
              0.4444444444444444,
              "#bd3786"
             ],
             [
              0.5555555555555556,
              "#d8576b"
             ],
             [
              0.6666666666666666,
              "#ed7953"
             ],
             [
              0.7777777777777778,
              "#fb9f3a"
             ],
             [
              0.8888888888888888,
              "#fdca26"
             ],
             [
              1,
              "#f0f921"
             ]
            ],
            "type": "heatmap"
           }
          ],
          "heatmapgl": [
           {
            "colorbar": {
             "outlinewidth": 0,
             "ticks": ""
            },
            "colorscale": [
             [
              0,
              "#0d0887"
             ],
             [
              0.1111111111111111,
              "#46039f"
             ],
             [
              0.2222222222222222,
              "#7201a8"
             ],
             [
              0.3333333333333333,
              "#9c179e"
             ],
             [
              0.4444444444444444,
              "#bd3786"
             ],
             [
              0.5555555555555556,
              "#d8576b"
             ],
             [
              0.6666666666666666,
              "#ed7953"
             ],
             [
              0.7777777777777778,
              "#fb9f3a"
             ],
             [
              0.8888888888888888,
              "#fdca26"
             ],
             [
              1,
              "#f0f921"
             ]
            ],
            "type": "heatmapgl"
           }
          ],
          "histogram": [
           {
            "marker": {
             "colorbar": {
              "outlinewidth": 0,
              "ticks": ""
             }
            },
            "type": "histogram"
           }
          ],
          "histogram2d": [
           {
            "colorbar": {
             "outlinewidth": 0,
             "ticks": ""
            },
            "colorscale": [
             [
              0,
              "#0d0887"
             ],
             [
              0.1111111111111111,
              "#46039f"
             ],
             [
              0.2222222222222222,
              "#7201a8"
             ],
             [
              0.3333333333333333,
              "#9c179e"
             ],
             [
              0.4444444444444444,
              "#bd3786"
             ],
             [
              0.5555555555555556,
              "#d8576b"
             ],
             [
              0.6666666666666666,
              "#ed7953"
             ],
             [
              0.7777777777777778,
              "#fb9f3a"
             ],
             [
              0.8888888888888888,
              "#fdca26"
             ],
             [
              1,
              "#f0f921"
             ]
            ],
            "type": "histogram2d"
           }
          ],
          "histogram2dcontour": [
           {
            "colorbar": {
             "outlinewidth": 0,
             "ticks": ""
            },
            "colorscale": [
             [
              0,
              "#0d0887"
             ],
             [
              0.1111111111111111,
              "#46039f"
             ],
             [
              0.2222222222222222,
              "#7201a8"
             ],
             [
              0.3333333333333333,
              "#9c179e"
             ],
             [
              0.4444444444444444,
              "#bd3786"
             ],
             [
              0.5555555555555556,
              "#d8576b"
             ],
             [
              0.6666666666666666,
              "#ed7953"
             ],
             [
              0.7777777777777778,
              "#fb9f3a"
             ],
             [
              0.8888888888888888,
              "#fdca26"
             ],
             [
              1,
              "#f0f921"
             ]
            ],
            "type": "histogram2dcontour"
           }
          ],
          "mesh3d": [
           {
            "colorbar": {
             "outlinewidth": 0,
             "ticks": ""
            },
            "type": "mesh3d"
           }
          ],
          "parcoords": [
           {
            "line": {
             "colorbar": {
              "outlinewidth": 0,
              "ticks": ""
             }
            },
            "type": "parcoords"
           }
          ],
          "pie": [
           {
            "automargin": true,
            "type": "pie"
           }
          ],
          "scatter": [
           {
            "marker": {
             "colorbar": {
              "outlinewidth": 0,
              "ticks": ""
             }
            },
            "type": "scatter"
           }
          ],
          "scatter3d": [
           {
            "line": {
             "colorbar": {
              "outlinewidth": 0,
              "ticks": ""
             }
            },
            "marker": {
             "colorbar": {
              "outlinewidth": 0,
              "ticks": ""
             }
            },
            "type": "scatter3d"
           }
          ],
          "scattercarpet": [
           {
            "marker": {
             "colorbar": {
              "outlinewidth": 0,
              "ticks": ""
             }
            },
            "type": "scattercarpet"
           }
          ],
          "scattergeo": [
           {
            "marker": {
             "colorbar": {
              "outlinewidth": 0,
              "ticks": ""
             }
            },
            "type": "scattergeo"
           }
          ],
          "scattergl": [
           {
            "marker": {
             "colorbar": {
              "outlinewidth": 0,
              "ticks": ""
             }
            },
            "type": "scattergl"
           }
          ],
          "scattermapbox": [
           {
            "marker": {
             "colorbar": {
              "outlinewidth": 0,
              "ticks": ""
             }
            },
            "type": "scattermapbox"
           }
          ],
          "scatterpolar": [
           {
            "marker": {
             "colorbar": {
              "outlinewidth": 0,
              "ticks": ""
             }
            },
            "type": "scatterpolar"
           }
          ],
          "scatterpolargl": [
           {
            "marker": {
             "colorbar": {
              "outlinewidth": 0,
              "ticks": ""
             }
            },
            "type": "scatterpolargl"
           }
          ],
          "scatterternary": [
           {
            "marker": {
             "colorbar": {
              "outlinewidth": 0,
              "ticks": ""
             }
            },
            "type": "scatterternary"
           }
          ],
          "surface": [
           {
            "colorbar": {
             "outlinewidth": 0,
             "ticks": ""
            },
            "colorscale": [
             [
              0,
              "#0d0887"
             ],
             [
              0.1111111111111111,
              "#46039f"
             ],
             [
              0.2222222222222222,
              "#7201a8"
             ],
             [
              0.3333333333333333,
              "#9c179e"
             ],
             [
              0.4444444444444444,
              "#bd3786"
             ],
             [
              0.5555555555555556,
              "#d8576b"
             ],
             [
              0.6666666666666666,
              "#ed7953"
             ],
             [
              0.7777777777777778,
              "#fb9f3a"
             ],
             [
              0.8888888888888888,
              "#fdca26"
             ],
             [
              1,
              "#f0f921"
             ]
            ],
            "type": "surface"
           }
          ],
          "table": [
           {
            "cells": {
             "fill": {
              "color": "#EBF0F8"
             },
             "line": {
              "color": "white"
             }
            },
            "header": {
             "fill": {
              "color": "#C8D4E3"
             },
             "line": {
              "color": "white"
             }
            },
            "type": "table"
           }
          ]
         },
         "layout": {
          "annotationdefaults": {
           "arrowcolor": "#2a3f5f",
           "arrowhead": 0,
           "arrowwidth": 1
          },
          "autotypenumbers": "strict",
          "coloraxis": {
           "colorbar": {
            "outlinewidth": 0,
            "ticks": ""
           }
          },
          "colorscale": {
           "diverging": [
            [
             0,
             "#8e0152"
            ],
            [
             0.1,
             "#c51b7d"
            ],
            [
             0.2,
             "#de77ae"
            ],
            [
             0.3,
             "#f1b6da"
            ],
            [
             0.4,
             "#fde0ef"
            ],
            [
             0.5,
             "#f7f7f7"
            ],
            [
             0.6,
             "#e6f5d0"
            ],
            [
             0.7,
             "#b8e186"
            ],
            [
             0.8,
             "#7fbc41"
            ],
            [
             0.9,
             "#4d9221"
            ],
            [
             1,
             "#276419"
            ]
           ],
           "sequential": [
            [
             0,
             "#0d0887"
            ],
            [
             0.1111111111111111,
             "#46039f"
            ],
            [
             0.2222222222222222,
             "#7201a8"
            ],
            [
             0.3333333333333333,
             "#9c179e"
            ],
            [
             0.4444444444444444,
             "#bd3786"
            ],
            [
             0.5555555555555556,
             "#d8576b"
            ],
            [
             0.6666666666666666,
             "#ed7953"
            ],
            [
             0.7777777777777778,
             "#fb9f3a"
            ],
            [
             0.8888888888888888,
             "#fdca26"
            ],
            [
             1,
             "#f0f921"
            ]
           ],
           "sequentialminus": [
            [
             0,
             "#0d0887"
            ],
            [
             0.1111111111111111,
             "#46039f"
            ],
            [
             0.2222222222222222,
             "#7201a8"
            ],
            [
             0.3333333333333333,
             "#9c179e"
            ],
            [
             0.4444444444444444,
             "#bd3786"
            ],
            [
             0.5555555555555556,
             "#d8576b"
            ],
            [
             0.6666666666666666,
             "#ed7953"
            ],
            [
             0.7777777777777778,
             "#fb9f3a"
            ],
            [
             0.8888888888888888,
             "#fdca26"
            ],
            [
             1,
             "#f0f921"
            ]
           ]
          },
          "colorway": [
           "#636efa",
           "#EF553B",
           "#00cc96",
           "#ab63fa",
           "#FFA15A",
           "#19d3f3",
           "#FF6692",
           "#B6E880",
           "#FF97FF",
           "#FECB52"
          ],
          "font": {
           "color": "#2a3f5f"
          },
          "geo": {
           "bgcolor": "white",
           "lakecolor": "white",
           "landcolor": "white",
           "showlakes": true,
           "showland": true,
           "subunitcolor": "#C8D4E3"
          },
          "hoverlabel": {
           "align": "left"
          },
          "hovermode": "closest",
          "mapbox": {
           "style": "light"
          },
          "paper_bgcolor": "white",
          "plot_bgcolor": "white",
          "polar": {
           "angularaxis": {
            "gridcolor": "#EBF0F8",
            "linecolor": "#EBF0F8",
            "ticks": ""
           },
           "bgcolor": "white",
           "radialaxis": {
            "gridcolor": "#EBF0F8",
            "linecolor": "#EBF0F8",
            "ticks": ""
           }
          },
          "scene": {
           "xaxis": {
            "backgroundcolor": "white",
            "gridcolor": "#DFE8F3",
            "gridwidth": 2,
            "linecolor": "#EBF0F8",
            "showbackground": true,
            "ticks": "",
            "zerolinecolor": "#EBF0F8"
           },
           "yaxis": {
            "backgroundcolor": "white",
            "gridcolor": "#DFE8F3",
            "gridwidth": 2,
            "linecolor": "#EBF0F8",
            "showbackground": true,
            "ticks": "",
            "zerolinecolor": "#EBF0F8"
           },
           "zaxis": {
            "backgroundcolor": "white",
            "gridcolor": "#DFE8F3",
            "gridwidth": 2,
            "linecolor": "#EBF0F8",
            "showbackground": true,
            "ticks": "",
            "zerolinecolor": "#EBF0F8"
           }
          },
          "shapedefaults": {
           "line": {
            "color": "#2a3f5f"
           }
          },
          "ternary": {
           "aaxis": {
            "gridcolor": "#DFE8F3",
            "linecolor": "#A2B1C6",
            "ticks": ""
           },
           "baxis": {
            "gridcolor": "#DFE8F3",
            "linecolor": "#A2B1C6",
            "ticks": ""
           },
           "bgcolor": "white",
           "caxis": {
            "gridcolor": "#DFE8F3",
            "linecolor": "#A2B1C6",
            "ticks": ""
           }
          },
          "title": {
           "x": 0.05
          },
          "xaxis": {
           "automargin": true,
           "gridcolor": "#EBF0F8",
           "linecolor": "#EBF0F8",
           "ticks": "",
           "title": {
            "standoff": 15
           },
           "zerolinecolor": "#EBF0F8",
           "zerolinewidth": 2
          },
          "yaxis": {
           "automargin": true,
           "gridcolor": "#EBF0F8",
           "linecolor": "#EBF0F8",
           "ticks": "",
           "title": {
            "standoff": 15
           },
           "zerolinecolor": "#EBF0F8",
           "zerolinewidth": 2
          }
         }
        },
        "title": {
         "text": "Sample of Random Portfolios"
        },
        "width": 850,
        "xaxis": {
         "title": {
          "text": "Annualised Risk (Volatility)"
         }
        },
        "yaxis": {
         "title": {
          "text": "Annualised Return"
         }
        }
       }
      }
     },
     "metadata": {},
     "output_type": "display_data"
    }
   ],
   "source": [
    "#-- Plot the risk vs. return of randomly generated portfolios\n",
    "#-- Convert the list from before into an array for easy plotting\n",
    "mean_variance_pairs = np.array(mean_variance_pairs)\n",
    "\n",
    "fig = go.Figure()\n",
    "fig.add_trace(go.Scatter(x=mean_variance_pairs[:,1]**0.5, y=mean_variance_pairs[:,0], \n",
    "                      marker=dict(color=(mean_variance_pairs[:,0]-risk_free_rate)/(mean_variance_pairs[:,1]**0.5), \n",
    "                                  showscale=True, \n",
    "                                  size=7,\n",
    "                                  line=dict(width=1),\n",
    "                                  colorscale=\"RdBu\",\n",
    "                                  colorbar=dict(title=\"Sharpe<br>Ratio\")\n",
    "                                 ), \n",
    "                      mode='markers',\n",
    "                      text=[str(np.array(tickers_list[i])) + \"<br>\" + str(np.array(weights_list[i]).round(2)) for i in range(len(tickers_list))]))\n",
    "fig.update_layout(template='plotly_white',\n",
    "                  xaxis=dict(title='Annualised Risk (Volatility)'),\n",
    "                  yaxis=dict(title='Annualised Return'),\n",
    "                  title='Sample of Random Portfolios',\n",
    "                  width=850,\n",
    "                  height=500)\n",
    "# fig.update_xaxes(range=[0, 0.4])\n",
    "# fig.update_yaxes(range=[0,0.4])\n",
    "fig.update_layout(coloraxis_colorbar=dict(title=\"Sharpe Ratio\"))"
   ]
  }
 ],
 "metadata": {
  "kernelspec": {
   "display_name": "base",
   "language": "python",
   "name": "python3"
  },
  "language_info": {
   "codemirror_mode": {
    "name": "ipython",
    "version": 3
   },
   "file_extension": ".py",
   "mimetype": "text/x-python",
   "name": "python",
   "nbconvert_exporter": "python",
   "pygments_lexer": "ipython3",
   "version": "3.9.7"
  },
  "orig_nbformat": 4,
  "vscode": {
   "interpreter": {
    "hash": "651add51c3cbc36662d3bed529119182c196c96833ac7d541c272038af8218b3"
   }
  }
 },
 "nbformat": 4,
 "nbformat_minor": 2
}
