{
 "cells": [
  {
   "cell_type": "code",
   "execution_count": 14,
   "metadata": {},
   "outputs": [
    {
     "name": "stdout",
     "output_type": "stream",
     "text": [
      "Requirement already satisfied: yfinance in c:\\users\\mattb\\anaconda3\\lib\\site-packages (0.1.70)\n",
      "Requirement already satisfied: numpy>=1.15 in c:\\users\\mattb\\anaconda3\\lib\\site-packages (from yfinance) (1.20.3)\n",
      "Requirement already satisfied: multitasking>=0.0.7 in c:\\users\\mattb\\anaconda3\\lib\\site-packages (from yfinance) (0.0.10)\n",
      "Requirement already satisfied: pandas>=0.24.0 in c:\\users\\mattb\\anaconda3\\lib\\site-packages (from yfinance) (1.3.4)\n",
      "Requirement already satisfied: requests>=2.26 in c:\\users\\mattb\\anaconda3\\lib\\site-packages (from yfinance) (2.26.0)\n",
      "Requirement already satisfied: lxml>=4.5.1 in c:\\users\\mattb\\anaconda3\\lib\\site-packages (from yfinance) (4.6.3)\n",
      "Requirement already satisfied: pytz>=2017.3 in c:\\users\\mattb\\anaconda3\\lib\\site-packages (from pandas>=0.24.0->yfinance) (2021.3)\n",
      "Requirement already satisfied: python-dateutil>=2.7.3 in c:\\users\\mattb\\anaconda3\\lib\\site-packages (from pandas>=0.24.0->yfinance) (2.8.2)\n",
      "Requirement already satisfied: six>=1.5 in c:\\users\\mattb\\anaconda3\\lib\\site-packages (from python-dateutil>=2.7.3->pandas>=0.24.0->yfinance) (1.16.0)\n",
      "Requirement already satisfied: charset-normalizer~=2.0.0 in c:\\users\\mattb\\anaconda3\\lib\\site-packages (from requests>=2.26->yfinance) (2.0.4)\n",
      "Requirement already satisfied: idna<4,>=2.5 in c:\\users\\mattb\\anaconda3\\lib\\site-packages (from requests>=2.26->yfinance) (3.2)\n",
      "Requirement already satisfied: urllib3<1.27,>=1.21.1 in c:\\users\\mattb\\anaconda3\\lib\\site-packages (from requests>=2.26->yfinance) (1.26.7)\n",
      "Requirement already satisfied: certifi>=2017.4.17 in c:\\users\\mattb\\anaconda3\\lib\\site-packages (from requests>=2.26->yfinance) (2021.10.8)\n",
      "Requirement already satisfied: pandas in c:\\users\\mattb\\anaconda3\\lib\\site-packages (1.3.4)\n",
      "Requirement already satisfied: python-dateutil>=2.7.3 in c:\\users\\mattb\\anaconda3\\lib\\site-packages (from pandas) (2.8.2)\n",
      "Requirement already satisfied: numpy>=1.17.3 in c:\\users\\mattb\\anaconda3\\lib\\site-packages (from pandas) (1.20.3)\n",
      "Requirement already satisfied: pytz>=2017.3 in c:\\users\\mattb\\anaconda3\\lib\\site-packages (from pandas) (2021.3)\n",
      "Requirement already satisfied: six>=1.5 in c:\\users\\mattb\\anaconda3\\lib\\site-packages (from python-dateutil>=2.7.3->pandas) (1.16.0)\n"
     ]
    }
   ],
   "source": [
    "!pip install yfinance\n",
    "import yfinance as yf\n",
    "import pandas as pd\n",
    "import numpy as np\n",
    "import random \n",
    "from tqdm import tqdm\n",
    "import plotly\n",
    "import plotly.graph_objects as go\n",
    "from plotly.subplots import make_subplots\n",
    "import plotly.express as px\n",
    "import plotly.figure_factory as ff"
   ]
  },
  {
   "cell_type": "code",
   "execution_count": 10,
   "metadata": {},
   "outputs": [
    {
     "name": "stdout",
     "output_type": "stream",
     "text": [
      "[*********************100%***********************]  1 of 1 completed\n",
      "[*********************100%***********************]  1 of 1 completed\n",
      "[*********************100%***********************]  1 of 1 completed\n",
      "[*********************100%***********************]  1 of 1 completed\n",
      "[*********************100%***********************]  1 of 1 completed\n",
      "[*********************100%***********************]  1 of 1 completed\n",
      "        Date      MSFT       WMT       JPM       TGT      AAPL     GOOGL\n",
      "0 2015-01-02       NaN       NaN       NaN       NaN       NaN       NaN\n",
      "1 2015-01-05 -0.009239 -0.002914 -0.031537 -0.018084 -0.028576 -0.019238\n",
      "2 2015-01-06 -0.014786  0.007676 -0.026271 -0.000135  0.000094 -0.024989\n",
      "3 2015-01-07  0.012625  0.026186  0.001525  0.037154  0.013925 -0.002945\n",
      "4 2015-01-08  0.028994  0.020887  0.022100  0.004679  0.037703  0.003478\n"
     ]
    }
   ],
   "source": [
    "asset_list = ['MSFT', 'WMT', 'JPM', 'TGT', 'AAPL', 'GOOGL']\n",
    "\n",
    "sd = \"2015-01-01\"\n",
    "ed = \"2022-12-31\"\n",
    "int = \"1d\"\n",
    "\n",
    "def create_dataframe(ticker):\n",
    "    df = yf.download(ticker, start=sd, end=ed, interval=int)\n",
    "    df = df.reset_index(level=0)\n",
    "    df = df[[\"Date\", \"Adj Close\"]]\n",
    "    df = df.rename({'Adj Close': \"price\"}, axis=1)  # new method\n",
    "    df[\"logret\"] = np.log(df.price) - np.log(df.price.shift(1))\n",
    "    df = df.drop('price', axis=1)\n",
    "    df = df.rename({'logret': ticker}, axis=1)  # new method\n",
    "    return df\n",
    "\n",
    "\n",
    "daily_returns = create_dataframe(asset_list[0])\n",
    "for i in asset_list[1:]:\n",
    "    df2 = create_dataframe(i)\n",
    "    daily_returns = daily_returns.merge(df2, how='inner', on='Date')\n",
    "print (daily_returns.head())\n",
    "daily_returns = daily_returns.drop('Date', axis=1)"
   ]
  },
  {
   "cell_type": "code",
   "execution_count": 26,
   "metadata": {},
   "outputs": [
    {
     "data": {
      "text/plain": [
       "MSFT     0.079206\n",
       "WMT      0.048729\n",
       "JPM      0.081124\n",
       "TGT      0.100251\n",
       "AAPL     0.089768\n",
       "GOOGL    0.079665\n",
       "dtype: float64"
      ]
     },
     "execution_count": 26,
     "metadata": {},
     "output_type": "execute_result"
    }
   ],
   "source": [
    "#-- Get annualised mean returns\n",
    "mus = (1+daily_returns.mean())**252 - 1\n",
    "\n",
    "#-- Get covariances\n",
    "#- Multiply by 252 to annualise it (square root time for volatility but no square root for variance)\n",
    "#- Note: 252 trading days in a year\n",
    "#- https://quant.stackexchange.com/questions/4753/annualized-covariance\n",
    "cov = daily_returns.cov()*252\n",
    "\n",
    "var = daily_returns.var()*252\n"
   ]
  },
  {
   "cell_type": "code",
   "execution_count": 29,
   "metadata": {},
   "outputs": [
    {
     "data": {
      "application/vnd.plotly.v1+json": {
       "config": {
        "plotlyServerURL": "https://plot.ly"
       },
       "data": [
        {
         "mode": "markers",
         "text": [
          "MSFT",
          "WMT",
          "JPM",
          "TGT",
          "AAPL",
          "GOOGL"
         ],
         "type": "scatter",
         "x": [
          0.07920626608405888,
          0.04872884314211348,
          0.08112431900959514,
          0.10025072555412959,
          0.08976758363645192,
          0.07966537398525358
         ],
         "y": [
          0.24806987751488552,
          0.08804586038757067,
          0.13055880183109192,
          0.11968615418477824,
          0.23150727920871117,
          0.16257301178280348
         ]
        }
       ],
       "layout": {
        "height": 500,
        "template": {
         "data": {
          "bar": [
           {
            "error_x": {
             "color": "#2a3f5f"
            },
            "error_y": {
             "color": "#2a3f5f"
            },
            "marker": {
             "line": {
              "color": "white",
              "width": 0.5
             }
            },
            "type": "bar"
           }
          ],
          "barpolar": [
           {
            "marker": {
             "line": {
              "color": "white",
              "width": 0.5
             }
            },
            "type": "barpolar"
           }
          ],
          "carpet": [
           {
            "aaxis": {
             "endlinecolor": "#2a3f5f",
             "gridcolor": "#C8D4E3",
             "linecolor": "#C8D4E3",
             "minorgridcolor": "#C8D4E3",
             "startlinecolor": "#2a3f5f"
            },
            "baxis": {
             "endlinecolor": "#2a3f5f",
             "gridcolor": "#C8D4E3",
             "linecolor": "#C8D4E3",
             "minorgridcolor": "#C8D4E3",
             "startlinecolor": "#2a3f5f"
            },
            "type": "carpet"
           }
          ],
          "choropleth": [
           {
            "colorbar": {
             "outlinewidth": 0,
             "ticks": ""
            },
            "type": "choropleth"
           }
          ],
          "contour": [
           {
            "colorbar": {
             "outlinewidth": 0,
             "ticks": ""
            },
            "colorscale": [
             [
              0,
              "#0d0887"
             ],
             [
              0.1111111111111111,
              "#46039f"
             ],
             [
              0.2222222222222222,
              "#7201a8"
             ],
             [
              0.3333333333333333,
              "#9c179e"
             ],
             [
              0.4444444444444444,
              "#bd3786"
             ],
             [
              0.5555555555555556,
              "#d8576b"
             ],
             [
              0.6666666666666666,
              "#ed7953"
             ],
             [
              0.7777777777777778,
              "#fb9f3a"
             ],
             [
              0.8888888888888888,
              "#fdca26"
             ],
             [
              1,
              "#f0f921"
             ]
            ],
            "type": "contour"
           }
          ],
          "contourcarpet": [
           {
            "colorbar": {
             "outlinewidth": 0,
             "ticks": ""
            },
            "type": "contourcarpet"
           }
          ],
          "heatmap": [
           {
            "colorbar": {
             "outlinewidth": 0,
             "ticks": ""
            },
            "colorscale": [
             [
              0,
              "#0d0887"
             ],
             [
              0.1111111111111111,
              "#46039f"
             ],
             [
              0.2222222222222222,
              "#7201a8"
             ],
             [
              0.3333333333333333,
              "#9c179e"
             ],
             [
              0.4444444444444444,
              "#bd3786"
             ],
             [
              0.5555555555555556,
              "#d8576b"
             ],
             [
              0.6666666666666666,
              "#ed7953"
             ],
             [
              0.7777777777777778,
              "#fb9f3a"
             ],
             [
              0.8888888888888888,
              "#fdca26"
             ],
             [
              1,
              "#f0f921"
             ]
            ],
            "type": "heatmap"
           }
          ],
          "heatmapgl": [
           {
            "colorbar": {
             "outlinewidth": 0,
             "ticks": ""
            },
            "colorscale": [
             [
              0,
              "#0d0887"
             ],
             [
              0.1111111111111111,
              "#46039f"
             ],
             [
              0.2222222222222222,
              "#7201a8"
             ],
             [
              0.3333333333333333,
              "#9c179e"
             ],
             [
              0.4444444444444444,
              "#bd3786"
             ],
             [
              0.5555555555555556,
              "#d8576b"
             ],
             [
              0.6666666666666666,
              "#ed7953"
             ],
             [
              0.7777777777777778,
              "#fb9f3a"
             ],
             [
              0.8888888888888888,
              "#fdca26"
             ],
             [
              1,
              "#f0f921"
             ]
            ],
            "type": "heatmapgl"
           }
          ],
          "histogram": [
           {
            "marker": {
             "colorbar": {
              "outlinewidth": 0,
              "ticks": ""
             }
            },
            "type": "histogram"
           }
          ],
          "histogram2d": [
           {
            "colorbar": {
             "outlinewidth": 0,
             "ticks": ""
            },
            "colorscale": [
             [
              0,
              "#0d0887"
             ],
             [
              0.1111111111111111,
              "#46039f"
             ],
             [
              0.2222222222222222,
              "#7201a8"
             ],
             [
              0.3333333333333333,
              "#9c179e"
             ],
             [
              0.4444444444444444,
              "#bd3786"
             ],
             [
              0.5555555555555556,
              "#d8576b"
             ],
             [
              0.6666666666666666,
              "#ed7953"
             ],
             [
              0.7777777777777778,
              "#fb9f3a"
             ],
             [
              0.8888888888888888,
              "#fdca26"
             ],
             [
              1,
              "#f0f921"
             ]
            ],
            "type": "histogram2d"
           }
          ],
          "histogram2dcontour": [
           {
            "colorbar": {
             "outlinewidth": 0,
             "ticks": ""
            },
            "colorscale": [
             [
              0,
              "#0d0887"
             ],
             [
              0.1111111111111111,
              "#46039f"
             ],
             [
              0.2222222222222222,
              "#7201a8"
             ],
             [
              0.3333333333333333,
              "#9c179e"
             ],
             [
              0.4444444444444444,
              "#bd3786"
             ],
             [
              0.5555555555555556,
              "#d8576b"
             ],
             [
              0.6666666666666666,
              "#ed7953"
             ],
             [
              0.7777777777777778,
              "#fb9f3a"
             ],
             [
              0.8888888888888888,
              "#fdca26"
             ],
             [
              1,
              "#f0f921"
             ]
            ],
            "type": "histogram2dcontour"
           }
          ],
          "mesh3d": [
           {
            "colorbar": {
             "outlinewidth": 0,
             "ticks": ""
            },
            "type": "mesh3d"
           }
          ],
          "parcoords": [
           {
            "line": {
             "colorbar": {
              "outlinewidth": 0,
              "ticks": ""
             }
            },
            "type": "parcoords"
           }
          ],
          "pie": [
           {
            "automargin": true,
            "type": "pie"
           }
          ],
          "scatter": [
           {
            "marker": {
             "colorbar": {
              "outlinewidth": 0,
              "ticks": ""
             }
            },
            "type": "scatter"
           }
          ],
          "scatter3d": [
           {
            "line": {
             "colorbar": {
              "outlinewidth": 0,
              "ticks": ""
             }
            },
            "marker": {
             "colorbar": {
              "outlinewidth": 0,
              "ticks": ""
             }
            },
            "type": "scatter3d"
           }
          ],
          "scattercarpet": [
           {
            "marker": {
             "colorbar": {
              "outlinewidth": 0,
              "ticks": ""
             }
            },
            "type": "scattercarpet"
           }
          ],
          "scattergeo": [
           {
            "marker": {
             "colorbar": {
              "outlinewidth": 0,
              "ticks": ""
             }
            },
            "type": "scattergeo"
           }
          ],
          "scattergl": [
           {
            "marker": {
             "colorbar": {
              "outlinewidth": 0,
              "ticks": ""
             }
            },
            "type": "scattergl"
           }
          ],
          "scattermapbox": [
           {
            "marker": {
             "colorbar": {
              "outlinewidth": 0,
              "ticks": ""
             }
            },
            "type": "scattermapbox"
           }
          ],
          "scatterpolar": [
           {
            "marker": {
             "colorbar": {
              "outlinewidth": 0,
              "ticks": ""
             }
            },
            "type": "scatterpolar"
           }
          ],
          "scatterpolargl": [
           {
            "marker": {
             "colorbar": {
              "outlinewidth": 0,
              "ticks": ""
             }
            },
            "type": "scatterpolargl"
           }
          ],
          "scatterternary": [
           {
            "marker": {
             "colorbar": {
              "outlinewidth": 0,
              "ticks": ""
             }
            },
            "type": "scatterternary"
           }
          ],
          "surface": [
           {
            "colorbar": {
             "outlinewidth": 0,
             "ticks": ""
            },
            "colorscale": [
             [
              0,
              "#0d0887"
             ],
             [
              0.1111111111111111,
              "#46039f"
             ],
             [
              0.2222222222222222,
              "#7201a8"
             ],
             [
              0.3333333333333333,
              "#9c179e"
             ],
             [
              0.4444444444444444,
              "#bd3786"
             ],
             [
              0.5555555555555556,
              "#d8576b"
             ],
             [
              0.6666666666666666,
              "#ed7953"
             ],
             [
              0.7777777777777778,
              "#fb9f3a"
             ],
             [
              0.8888888888888888,
              "#fdca26"
             ],
             [
              1,
              "#f0f921"
             ]
            ],
            "type": "surface"
           }
          ],
          "table": [
           {
            "cells": {
             "fill": {
              "color": "#EBF0F8"
             },
             "line": {
              "color": "white"
             }
            },
            "header": {
             "fill": {
              "color": "#C8D4E3"
             },
             "line": {
              "color": "white"
             }
            },
            "type": "table"
           }
          ]
         },
         "layout": {
          "annotationdefaults": {
           "arrowcolor": "#2a3f5f",
           "arrowhead": 0,
           "arrowwidth": 1
          },
          "autotypenumbers": "strict",
          "coloraxis": {
           "colorbar": {
            "outlinewidth": 0,
            "ticks": ""
           }
          },
          "colorscale": {
           "diverging": [
            [
             0,
             "#8e0152"
            ],
            [
             0.1,
             "#c51b7d"
            ],
            [
             0.2,
             "#de77ae"
            ],
            [
             0.3,
             "#f1b6da"
            ],
            [
             0.4,
             "#fde0ef"
            ],
            [
             0.5,
             "#f7f7f7"
            ],
            [
             0.6,
             "#e6f5d0"
            ],
            [
             0.7,
             "#b8e186"
            ],
            [
             0.8,
             "#7fbc41"
            ],
            [
             0.9,
             "#4d9221"
            ],
            [
             1,
             "#276419"
            ]
           ],
           "sequential": [
            [
             0,
             "#0d0887"
            ],
            [
             0.1111111111111111,
             "#46039f"
            ],
            [
             0.2222222222222222,
             "#7201a8"
            ],
            [
             0.3333333333333333,
             "#9c179e"
            ],
            [
             0.4444444444444444,
             "#bd3786"
            ],
            [
             0.5555555555555556,
             "#d8576b"
            ],
            [
             0.6666666666666666,
             "#ed7953"
            ],
            [
             0.7777777777777778,
             "#fb9f3a"
            ],
            [
             0.8888888888888888,
             "#fdca26"
            ],
            [
             1,
             "#f0f921"
            ]
           ],
           "sequentialminus": [
            [
             0,
             "#0d0887"
            ],
            [
             0.1111111111111111,
             "#46039f"
            ],
            [
             0.2222222222222222,
             "#7201a8"
            ],
            [
             0.3333333333333333,
             "#9c179e"
            ],
            [
             0.4444444444444444,
             "#bd3786"
            ],
            [
             0.5555555555555556,
             "#d8576b"
            ],
            [
             0.6666666666666666,
             "#ed7953"
            ],
            [
             0.7777777777777778,
             "#fb9f3a"
            ],
            [
             0.8888888888888888,
             "#fdca26"
            ],
            [
             1,
             "#f0f921"
            ]
           ]
          },
          "colorway": [
           "#636efa",
           "#EF553B",
           "#00cc96",
           "#ab63fa",
           "#FFA15A",
           "#19d3f3",
           "#FF6692",
           "#B6E880",
           "#FF97FF",
           "#FECB52"
          ],
          "font": {
           "color": "#2a3f5f"
          },
          "geo": {
           "bgcolor": "white",
           "lakecolor": "white",
           "landcolor": "white",
           "showlakes": true,
           "showland": true,
           "subunitcolor": "#C8D4E3"
          },
          "hoverlabel": {
           "align": "left"
          },
          "hovermode": "closest",
          "mapbox": {
           "style": "light"
          },
          "paper_bgcolor": "white",
          "plot_bgcolor": "white",
          "polar": {
           "angularaxis": {
            "gridcolor": "#EBF0F8",
            "linecolor": "#EBF0F8",
            "ticks": ""
           },
           "bgcolor": "white",
           "radialaxis": {
            "gridcolor": "#EBF0F8",
            "linecolor": "#EBF0F8",
            "ticks": ""
           }
          },
          "scene": {
           "xaxis": {
            "backgroundcolor": "white",
            "gridcolor": "#DFE8F3",
            "gridwidth": 2,
            "linecolor": "#EBF0F8",
            "showbackground": true,
            "ticks": "",
            "zerolinecolor": "#EBF0F8"
           },
           "yaxis": {
            "backgroundcolor": "white",
            "gridcolor": "#DFE8F3",
            "gridwidth": 2,
            "linecolor": "#EBF0F8",
            "showbackground": true,
            "ticks": "",
            "zerolinecolor": "#EBF0F8"
           },
           "zaxis": {
            "backgroundcolor": "white",
            "gridcolor": "#DFE8F3",
            "gridwidth": 2,
            "linecolor": "#EBF0F8",
            "showbackground": true,
            "ticks": "",
            "zerolinecolor": "#EBF0F8"
           }
          },
          "shapedefaults": {
           "line": {
            "color": "#2a3f5f"
           }
          },
          "ternary": {
           "aaxis": {
            "gridcolor": "#DFE8F3",
            "linecolor": "#A2B1C6",
            "ticks": ""
           },
           "baxis": {
            "gridcolor": "#DFE8F3",
            "linecolor": "#A2B1C6",
            "ticks": ""
           },
           "bgcolor": "white",
           "caxis": {
            "gridcolor": "#DFE8F3",
            "linecolor": "#A2B1C6",
            "ticks": ""
           }
          },
          "title": {
           "x": 0.05
          },
          "xaxis": {
           "automargin": true,
           "gridcolor": "#EBF0F8",
           "linecolor": "#EBF0F8",
           "ticks": "",
           "title": {
            "standoff": 15
           },
           "zerolinecolor": "#EBF0F8",
           "zerolinewidth": 2
          },
          "yaxis": {
           "automargin": true,
           "gridcolor": "#EBF0F8",
           "linecolor": "#EBF0F8",
           "ticks": "",
           "title": {
            "standoff": 15
           },
           "zerolinecolor": "#EBF0F8",
           "zerolinewidth": 2
          }
         }
        },
        "title": {
         "text": "Sample of Random Assets"
        },
        "width": 850,
        "xaxis": {
         "title": {
          "text": "Annualised Risk (Volatility)"
         }
        },
        "yaxis": {
         "title": {
          "text": "Annualised Return"
         }
        }
       }
      }
     },
     "metadata": {},
     "output_type": "display_data"
    }
   ],
   "source": [
    "fig = go.Figure()\n",
    "fig.add_trace(go.Scatter(x=var, y=mus, \n",
    "                      mode='markers',\n",
    "                      text = var.axes[0].tolist()))\n",
    "fig.update_layout(template='plotly_white',\n",
    "                  xaxis=dict(title='Annualised Risk (Volatility)'),\n",
    "                  yaxis=dict(title='Annualised Return'),\n",
    "                  title='Sample of Random Assets',\n",
    "                  width=850,\n",
    "                  height=500)\n",
    "# fig.update_xaxes(range=[0.18, 0.32])\n",
    "# fig.update_yaxes(range=[0.02,0.27])"
   ]
  },
  {
   "cell_type": "code",
   "execution_count": 12,
   "metadata": {},
   "outputs": [],
   "source": [
    "#- How many assests to include in each portfolio\n",
    "n_assets = len(asset_list)\n",
    "#-- How many portfolios to generate\n",
    "n_portfolios = 1000\n",
    "\n",
    "#-- Initialize empty list to store mean-variance pairs for plotting\n",
    "mean_variance_pairs = []\n",
    "\n",
    "np.random.seed(75)\n",
    "#-- Loop through and generate lots of random portfolios\n",
    "for i in range(n_portfolios):\n",
    "    #- Choose assets randomly without replacement\n",
    "    assets = np.random.choice(list(daily_returns.columns), n_assets, replace=False)\n",
    "    #- Choose weights randomly\n",
    "    weights = np.random.rand(n_assets)\n",
    "    #- Ensure weights sum to 1\n",
    "    weights = weights/sum(weights)\n",
    "\n",
    "    #-- Loop over asset pairs and compute portfolio return and variance\n",
    "    #- https://quant.stackexchange.com/questions/43442/portfolio-variance-explanation-for-equation-investments-by-zvi-bodie\n",
    "    portfolio_E_Variance = 0\n",
    "    portfolio_E_Return = 0\n",
    "    for i in range(len(assets)):\n",
    "        portfolio_E_Return += weights[i] * mus.loc[assets[i]]\n",
    "        for j in range(len(assets)):\n",
    "            #-- Add variance/covariance for each asset pair\n",
    "            #- Note that when i==j this adds the variance\n",
    "            portfolio_E_Variance += weights[i] * weights[j] * cov.loc[assets[i], assets[j]]\n",
    "            \n",
    "    #-- Add the mean/variance pairs to a list for plotting\n",
    "    mean_variance_pairs.append([portfolio_E_Return, portfolio_E_Variance])\n",
    "    "
   ]
  },
  {
   "cell_type": "code",
   "execution_count": 15,
   "metadata": {},
   "outputs": [
    {
     "data": {
      "application/vnd.plotly.v1+json": {
       "config": {
        "plotlyServerURL": "https://plot.ly"
       },
       "data": [
        {
         "marker": {
          "color": [
           0.7395493553077424,
           0.8473826890116763,
           0.7014060950649194,
           0.7005190112486498,
           0.8310609844638189,
           0.7319004275005238,
           0.7435719539891056,
           0.7728943045456473,
           0.6865775085107272,
           0.7693697982872173,
           0.7696992669655631,
           0.7010392589325232,
           0.8178790906116437,
           0.7779964268122894,
           0.7826643100698469,
           0.7538082058633013,
           0.7641016236450785,
           0.7256566138450061,
           0.7371305771827115,
           0.685673248648775,
           0.8175482308516899,
           0.7520372064406057,
           0.7344283426157657,
           0.7671546877276256,
           0.7933816717728452,
           0.7605112645959013,
           0.745615353745914,
           0.822483644102425,
           0.8047290666868079,
           0.7577461352938494,
           0.7844943844936055,
           0.7152350159422126,
           0.7946747100953397,
           0.7952570281024695,
           0.8075133269307987,
           0.8358760565618581,
           0.594133009195374,
           0.7352467596747723,
           0.7760441476178064,
           0.7536620640774376,
           0.7411588093782965,
           0.7854914658756824,
           0.7335627685116578,
           0.8107451325149743,
           0.6851621186402566,
           0.7724570232791109,
           0.8069928525240511,
           0.763979739391906,
           0.8501770574210098,
           0.696149166824144,
           0.7824594790878564,
           0.8163135109128141,
           0.7995669326044472,
           0.7189108123102457,
           0.7769634605110088,
           0.8029110037140211,
           0.8619888599121128,
           0.7803403281142128,
           0.718256204745299,
           0.7958945706679498,
           0.7628518474269765,
           0.6874222001014533,
           0.7388883409537463,
           0.6711448829713988,
           0.8016713370932097,
           0.71353590435484,
           0.7350853356580872,
           0.7655641162376878,
           0.7453484198889072,
           0.6993263478565024,
           0.8465696202574735,
           0.6294202103734623,
           0.7877373260355597,
           0.7417036823940155,
           0.7788133020034703,
           0.8429413892408243,
           0.8383554597220003,
           0.7358907116960555,
           0.7959433479147953,
           0.7398499777200046,
           0.8278149549142823,
           0.7256104544713072,
           0.7045456716682417,
           0.7161890678755637,
           0.831162109946276,
           0.7854280760471372,
           0.8033546737925288,
           0.8005182924586592,
           0.7669262627452048,
           0.8027746910464413,
           0.7521583943926629,
           0.7402041216509345,
           0.6786438042749298,
           0.8260762830674342,
           0.8496469964656347,
           0.8015633077965509,
           0.8281784339172849,
           0.7687659892586748,
           0.8472423108669832,
           0.8365337433080086,
           0.8318184263297534,
           0.7078262969057323,
           0.7707524801698297,
           0.7821706429966371,
           0.6963109516426287,
           0.777040493929419,
           0.6610399419956214,
           0.7989045097344997,
           0.8569723574728351,
           0.8180519322247245,
           0.7670497224298628,
           0.8085686472319317,
           0.7837137882551143,
           0.7263536934335622,
           0.6941637662694473,
           0.7231251808226432,
           0.7637668503689928,
           0.8006779973452962,
           0.7390121200654158,
           0.790954282418387,
           0.8248144325597422,
           0.7667538286259594,
           0.702137510657896,
           0.7999200285644551,
           0.786078263465697,
           0.850074299926916,
           0.7753052373291199,
           0.6942984720219734,
           0.6972023253548869,
           0.7522074302102765,
           0.8413692882449807,
           0.7154866170681621,
           0.757487361723194,
           0.7997460675697451,
           0.7715536368866205,
           0.7715948695635917,
           0.8486746689659003,
           0.7372131903568041,
           0.7340523173541178,
           0.8086288657971347,
           0.8011610243128275,
           0.7746950019054548,
           0.8001294136664464,
           0.8068905859896334,
           0.7386305959307107,
           0.6976363459282594,
           0.8231152230041754,
           0.7342133854793611,
           0.7900043265792254,
           0.7362946017204788,
           0.7500116763854889,
           0.821783243661452,
           0.7950522517791245,
           0.7844697626836178,
           0.7798063920660425,
           0.7883009526041176,
           0.7440771950618772,
           0.7407198682649196,
           0.617313428059498,
           0.8089488488377677,
           0.7911141800661438,
           0.8499217278067314,
           0.795370694580195,
           0.7554072935293005,
           0.7956031778363707,
           0.693819698881068,
           0.714565411601147,
           0.7902577475909458,
           0.7116204982474416,
           0.7528346795675648,
           0.6946384680914139,
           0.7964179530615965,
           0.742211362122625,
           0.6339928622646095,
           0.7993601508774,
           0.8215099356593203,
           0.7605584335721133,
           0.7767582606898051,
           0.8060473735006701,
           0.7366756969276101,
           0.8097329779094304,
           0.8009993722842935,
           0.8102029455095487,
           0.6804477994487205,
           0.8176263535819456,
           0.7648701206839346,
           0.7886202592368952,
           0.7772263698087484,
           0.760909487527366,
           0.8168783879131063,
           0.8127132010047053,
           0.6544541839958979,
           0.7914207256761123,
           0.7514134004160447,
           0.7641005365450688,
           0.7542790828314894,
           0.8251106497206872,
           0.7890110263903319,
           0.7028134994505413,
           0.7680175289381956,
           0.7566265827273462,
           0.7703460329681635,
           0.7741636506243467,
           0.7992561331999478,
           0.7806953865147662,
           0.7617170441296093,
           0.8043968140395503,
           0.6991716672572293,
           0.767971364814493,
           0.7996373107241899,
           0.7650897557202143,
           0.6561678652980306,
           0.7559247751181485,
           0.7487491714644775,
           0.7465163737172483,
           0.8179934974538989,
           0.758109851598152,
           0.7678127236288161,
           0.7476540942080613,
           0.801202153423682,
           0.7052931676379692,
           0.8357382822177285,
           0.6943283750029252,
           0.7529538062168728,
           0.7195462830490598,
           0.7852512246236347,
           0.7813580682341216,
           0.7885245500506022,
           0.7805090710083291,
           0.7510808619768053,
           0.7947097201268104,
           0.7978818987054759,
           0.7967435230607097,
           0.7600058985990085,
           0.8412676117970461,
           0.7568466143263073,
           0.7770318762876508,
           0.6696966531865826,
           0.717708063569562,
           0.7221136916192803,
           0.7316762579498935,
           0.8227931862318819,
           0.7997759926790666,
           0.7783046561634231,
           0.768195975761819,
           0.6689523103480786,
           0.7935910430513755,
           0.7286256702966165,
           0.776045398580234,
           0.8014889661136309,
           0.7513523645254159,
           0.8270314718223288,
           0.7631314680731035,
           0.8042151909799848,
           0.7789482866649916,
           0.7374738081664235,
           0.812788430891821,
           0.7658440249214261,
           0.8079325391533456,
           0.8064047591560469,
           0.767728977935936,
           0.8489191502971343,
           0.8262531351909126,
           0.8076703924805806,
           0.7807570765618416,
           0.8233292656591469,
           0.6587625795455303,
           0.8225229134879684,
           0.7631053416453036,
           0.6641135982859571,
           0.7282540046574724,
           0.8550900673950242,
           0.7980318485319768,
           0.8002277681367691,
           0.7945574873979695,
           0.7949147588050307,
           0.650295581240628,
           0.8201846807165569,
           0.846671003017756,
           0.8400518250282468,
           0.824212984004279,
           0.7725113026904156,
           0.7460074731953127,
           0.8063182577438361,
           0.8026766590402082,
           0.7607871271772577,
           0.8040288600623031,
           0.8547293039614835,
           0.8024800206076208,
           0.7286445509128189,
           0.8119160153636107,
           0.7248091318641279,
           0.7215739640658181,
           0.7920797490554817,
           0.8112525011480919,
           0.7674085333685825,
           0.7658126462869983,
           0.7857988340633637,
           0.7540546325624511,
           0.7256323537342401,
           0.770485674422655,
           0.8200979983544223,
           0.824449717810252,
           0.6272335002510729,
           0.7632404459564774,
           0.8221608328938822,
           0.7986379000721611,
           0.8044481283333442,
           0.6845738362026013,
           0.6901974880430076,
           0.8016446829609655,
           0.7720831528965183,
           0.7337082701367189,
           0.8588050812075476,
           0.7125632117836286,
           0.8356496855982327,
           0.7864230281993714,
           0.7759831084100459,
           0.7754465193850971,
           0.7625342917737127,
           0.7821474829020305,
           0.777658181938271,
           0.7899287539343164,
           0.7196810124626377,
           0.8314094588425264,
           0.8379246968070976,
           0.748596904391146,
           0.791038468221281,
           0.7942817197575012,
           0.7860096374762382,
           0.8314528555054933,
           0.7421602333830633,
           0.824566161184504,
           0.7370046160823542,
           0.8307066453520913,
           0.8327145396088318,
           0.8545323387303629,
           0.6908191414020276,
           0.8111379502385433,
           0.7753551550669718,
           0.8269314752135669,
           0.8212683484790617,
           0.7883057051421543,
           0.8127048298318058,
           0.6692526523187515,
           0.8163091817315455,
           0.7535205225185485,
           0.7204890644701085,
           0.7957254680829742,
           0.6397395930922162,
           0.6671477918169613,
           0.7446433449009482,
           0.7679341884312862,
           0.7377120331555158,
           0.7872919826147842,
           0.833110377732444,
           0.7564234411179975,
           0.7375729908453121,
           0.8282440543888694,
           0.8142467551601174,
           0.7488049419843106,
           0.8050420267516795,
           0.7763616749339356,
           0.7956070228757097,
           0.7394718404094983,
           0.7727241443309252,
           0.7785488689412671,
           0.786838249449577,
           0.8272766988059566,
           0.8136071030913424,
           0.6296582137907207,
           0.7829564580616467,
           0.8083393900137174,
           0.7916749073667793,
           0.7638576507745141,
           0.8006926010949605,
           0.78666353684704,
           0.7423190577405839,
           0.8052560475583433,
           0.7407303909625748,
           0.7816523264666029,
           0.7481398086443186,
           0.7544541765316768,
           0.7332371810642515,
           0.7959272789732875,
           0.6858960612273463,
           0.7628283748126307,
           0.7670825982623825,
           0.7872638144978124,
           0.8450405146347862,
           0.8531815407603718,
           0.7685672744774402,
           0.7577046670680068,
           0.7831122974700073,
           0.7598739644378172,
           0.7787269351094009,
           0.855821070678998,
           0.7554490811278393,
           0.8061109351828321,
           0.7537646739993312,
           0.7106701165332855,
           0.7875735775501458,
           0.6615877071769749,
           0.7759405769922098,
           0.7027052758340523,
           0.8338024084319747,
           0.7966209299929338,
           0.8207653935759253,
           0.8307949990303917,
           0.7674552580348409,
           0.7361898060703792,
           0.7532540974597034,
           0.7439978391669176,
           0.8032913566633111,
           0.7831500479433795,
           0.7535570830689309,
           0.718025528987112,
           0.8010546863346611,
           0.636267841412134,
           0.706576364163593,
           0.8538488236563649,
           0.8210227141609955,
           0.8146166090079447,
           0.7841842559786193,
           0.7570836253193396,
           0.8158253033679004,
           0.7400220862767207,
           0.7210518007965439,
           0.7999782220606522,
           0.7872647942892887,
           0.7964520703831841,
           0.7795482533433674,
           0.7485719185283985,
           0.8417554020467135,
           0.8278842230149455,
           0.7569567263259884,
           0.7586238895688348,
           0.5998058170183468,
           0.7647289265453653,
           0.7937283486869469,
           0.8168410941569069,
           0.7854660622053611,
           0.7958585788368743,
           0.7639555190363152,
           0.7587462045367976,
           0.8215022104678027,
           0.8115398642962575,
           0.8117396852311949,
           0.5831753180410258,
           0.6755870274504032,
           0.7446655769501007,
           0.8191955458377858,
           0.8069446715868716,
           0.7479014508608622,
           0.7696378770956396,
           0.8045728777934394,
           0.7988682217161911,
           0.8454732574584058,
           0.75325196949307,
           0.7382410920342357,
           0.767480759846946,
           0.8274475143337378,
           0.8013565756804998,
           0.7442888240901284,
           0.6830724848827351,
           0.7695153974428564,
           0.8142667460859137,
           0.7394581884804169,
           0.7333380122400507,
           0.7790478551005747,
           0.7460833824205974,
           0.8470795882330252,
           0.7859414062649336,
           0.7651248969340215,
           0.8093138216227849,
           0.8320142153106004,
           0.7898405633160628,
           0.6899844534498111,
           0.7970393205898828,
           0.8029037153882227,
           0.8379849522674423,
           0.7328703281458034,
           0.7686642685393597,
           0.7991073287118531,
           0.8019113501947117,
           0.7908727240181753,
           0.8253902899086757,
           0.7030369142375067,
           0.7515581546336767,
           0.7660555393778893,
           0.7576848787806535,
           0.7766215395809537,
           0.7799218756584506,
           0.8253283799496443,
           0.8273794034713053,
           0.763539581480039,
           0.7867133524642157,
           0.8108695741994788,
           0.7917976673570247,
           0.8343314659196631,
           0.8181009885184783,
           0.677394047971794,
           0.8060234677703424,
           0.7618068262606587,
           0.8546272643788694,
           0.7961140286860233,
           0.7943483502061801,
           0.8359008450094069,
           0.7466690316548829,
           0.8062474463096856,
           0.7975468178176378,
           0.7896442710753991,
           0.691809790383004,
           0.7200159116088043,
           0.853525610899686,
           0.7134025604545585,
           0.7189920357772226,
           0.8571631197314105,
           0.7764407453802071,
           0.7964417950919498,
           0.8579655812634917,
           0.7784934113213474,
           0.8553402892476403,
           0.7807430602207184,
           0.8307696121568272,
           0.7184614734273516,
           0.8553014916108602,
           0.7752708682908687,
           0.7540328194117021,
           0.7763628148148283,
           0.7300169671969363,
           0.7969424332605212,
           0.7832140175653045,
           0.822149266679937,
           0.7472702669292184,
           0.7953094844386219,
           0.725726175863039,
           0.7618393884021495,
           0.7328381546713493,
           0.7716955052604093,
           0.7117185821168528,
           0.7688156145702203,
           0.7962260989795981,
           0.7765809452306984,
           0.8092182446044047,
           0.802825424118356,
           0.7856693178529245,
           0.7685752275993207,
           0.7949252415730059,
           0.7574718394778344,
           0.7919025157424971,
           0.8119861279661155,
           0.7141718819001692,
           0.8124909347921415,
           0.8157829892943029,
           0.6984541477194981,
           0.7059967617715377,
           0.7799911645770299,
           0.6458829094400906,
           0.7897509101948245,
           0.7327312761162603,
           0.7923579580315361,
           0.774069196360734,
           0.7941414055766189,
           0.7493741747839774,
           0.8385799116322772,
           0.7977939069330953,
           0.7479893289558338,
           0.783045470292203,
           0.7932362291759538,
           0.8031861569801532,
           0.8190697692677025,
           0.7152516518806799,
           0.8371173367635576,
           0.7820577391848514,
           0.8531441585701403,
           0.8486283869095662,
           0.7418001107425909,
           0.6866821177973975,
           0.7719309607515247,
           0.809668658364833,
           0.7263556312887112,
           0.7147327978538653,
           0.7850639566701235,
           0.640232309663809,
           0.7649856263635644,
           0.777711401119079,
           0.7892505047973163,
           0.6996067306716901,
           0.8064041844520584,
           0.6953722676035311,
           0.7482858425798825,
           0.8164133601397582,
           0.7696096986535943,
           0.7899428085484301,
           0.8568610157703208,
           0.7254910355357369,
           0.824561502666374,
           0.7315262950027024,
           0.8340573974913174,
           0.7950258002692586,
           0.7593580813197793,
           0.8443932353234426,
           0.6703745912889703,
           0.8359036763359821,
           0.8000439617189267,
           0.7735358735259527,
           0.653445388107676,
           0.6618628730996481,
           0.7764643280238915,
           0.7700832653979742,
           0.749422138675305,
           0.7366297346677667,
           0.8366922072391566,
           0.7506500639637192,
           0.7665211348880279,
           0.7137676679318204,
           0.8092805781558838,
           0.7818864434568041,
           0.727815483893875,
           0.7715458406294621,
           0.8323239995603507,
           0.7528574435058321,
           0.7775383062543026,
           0.8205736434360759,
           0.8076323748692028,
           0.7381755189139688,
           0.6745687665123308,
           0.7621074904406594,
           0.8482081714774299,
           0.7374391975825388,
           0.84510856111111,
           0.8129897934208421,
           0.8714368390860749,
           0.7929429185674047,
           0.7783589484270679,
           0.751637878351607,
           0.8234578187685072,
           0.7282092725881854,
           0.7332293133744585,
           0.7330809850038321,
           0.8526876771389496,
           0.8044739389927382,
           0.6301062173834566,
           0.777537743614496,
           0.7761458308201101,
           0.710780167934135,
           0.8071810679900912,
           0.6580636976334342,
           0.7576943935259998,
           0.7603194680553088,
           0.7394540180131566,
           0.7759780292258776,
           0.7704505337878849,
           0.8225598065890252,
           0.7877040232493554,
           0.7844496737413482,
           0.7360300217751875,
           0.8082691364948972,
           0.7773932258126381,
           0.8010113626871711,
           0.704370705169634,
           0.6973125033036643,
           0.7152895142365593,
           0.7378286831616409,
           0.7984024519700943,
           0.8341015482045462,
           0.8209137266791788,
           0.7389560625395245,
           0.7975851901824442,
           0.7600220823679227,
           0.7661131438656567,
           0.7786485220224776,
           0.755496345726724,
           0.6869222999718091,
           0.7201016195601484,
           0.7925600535837382,
           0.8505796492040972,
           0.6096611412717511,
           0.817309170885347,
           0.8016183941706305,
           0.8116612774251568,
           0.7650918864678067,
           0.7679103057008572,
           0.7922707076256177,
           0.6911076090512948,
           0.6958633354887995,
           0.7667897302981402,
           0.8164428876090335,
           0.8016765852858768,
           0.7575096499353857,
           0.797301447645411,
           0.609259075772234,
           0.7687368773397594,
           0.7134518516010377,
           0.7463825974709548,
           0.7130008690049154,
           0.7982689589676446,
           0.78546649422332,
           0.7472421828439599,
           0.7394431984091115,
           0.7419441791557402,
           0.8634120051492303,
           0.770394117554389,
           0.7379740060911371,
           0.806378445947355,
           0.8650996443857994,
           0.7491283101971459,
           0.7757778964495965,
           0.7547087394879404,
           0.7572729021353276,
           0.7301359832888084,
           0.8104227138919844,
           0.7152140428133136,
           0.7588041237568733,
           0.7504414723399097,
           0.7901057205137652,
           0.7757149922439055,
           0.5817739588478519,
           0.6522395675714312,
           0.786632711266876,
           0.8096688074019393,
           0.8134999280090784,
           0.748858909527125,
           0.8135296308899794,
           0.6950904550647355,
           0.7862645480879713,
           0.7734903942309628,
           0.7776071263391802,
           0.8221916867686837,
           0.6802293291100634,
           0.8021610229713622,
           0.8026111225510912,
           0.8261851328073551,
           0.7890440318532627,
           0.7222527610432993,
           0.7047687267327413,
           0.7103873800014597,
           0.7750335264726156,
           0.7897109749333789,
           0.7187755545210209,
           0.8228709765826785,
           0.7180753815839451,
           0.8482041452723301,
           0.7617994951454674,
           0.8140973378190105,
           0.8230893557682255,
           0.7671145365322585,
           0.7866371671970512,
           0.7872990595851354,
           0.7743326134214586,
           0.7704816936629055,
           0.7480261581526856,
           0.7688293043991761,
           0.8001396838181117,
           0.7703400402229402,
           0.6821531599232817,
           0.7614020443306734,
           0.7790547972623694,
           0.753025233167384,
           0.7386210506051661,
           0.7563721932149025,
           0.769313994903604,
           0.6480392265712837,
           0.7632621946102525,
           0.7369600492896273,
           0.699653331191376,
           0.8495009635301254,
           0.7727049284401866,
           0.8606113649196482,
           0.7781786703845572,
           0.7675908541021135,
           0.7396369858997222,
           0.8272370404254058,
           0.7812060801289945,
           0.7888643645708685,
           0.733290664886272,
           0.8122904986394474,
           0.777847685636503,
           0.7940470511374367,
           0.6898769221335694,
           0.7502010358530304,
           0.819419419657144,
           0.7777025036575822,
           0.6699797619885195,
           0.7633233680951403,
           0.7362042405200673,
           0.7373369498637374,
           0.8720809353984634,
           0.809065837864995,
           0.8127663227386006,
           0.7516807648336739,
           0.7603191979905248,
           0.7609715361649318,
           0.7306845760084271,
           0.7492752964555677,
           0.7438219657037238,
           0.7771483097880618,
           0.837902775218961,
           0.7773413541750596,
           0.8360571560165972,
           0.7826355809505664,
           0.7779043226405352,
           0.7494517519699356,
           0.7975281615615654,
           0.7868452423842877,
           0.7748196217063504,
           0.7243260542355012,
           0.7471488035160714,
           0.8218607834593629,
           0.6586334084751784,
           0.7202273883924725,
           0.8294361337221381,
           0.7499963120009805,
           0.8193220191059434,
           0.7415521294701892,
           0.8066979081298562,
           0.6462584223356936,
           0.8302590708934694,
           0.7980155745471555,
           0.7752333938111076,
           0.7679822642239,
           0.7719238576736271,
           0.7957280670976619,
           0.7316454807237506,
           0.7714630324163464,
           0.7425935837935048,
           0.7631234589841694,
           0.7662812370514632,
           0.7041871728211859,
           0.7875215591521457,
           0.7809793127652326,
           0.7046673042888516,
           0.7294172364762328,
           0.7781830274835331,
           0.822024796402874,
           0.7328870072157195,
           0.7858815704160367,
           0.6897948753801081,
           0.721467381889575,
           0.8122544894884544,
           0.8172200592663362,
           0.7942043666719049,
           0.8526643614320895,
           0.734452891926341,
           0.8336479456330784,
           0.8009499504532873,
           0.765453303710329,
           0.7807308344916949,
           0.8014040366544009,
           0.7281405418772682,
           0.7830706921410953,
           0.7536460585647033,
           0.7692219730358032,
           0.7825814983264983,
           0.8000980951206139,
           0.7241789720868059,
           0.8246111366957922,
           0.7868290932665749,
           0.7453240525577569,
           0.7031614178674591,
           0.6949833485928671,
           0.7292583178449409,
           0.6852076081446555,
           0.7659089352262265,
           0.7990378394346623,
           0.7708107975955684,
           0.7887356294151313,
           0.791866666926799,
           0.8148511594427424,
           0.6791427027861182,
           0.8106833968267649,
           0.7411695376036759,
           0.8215043544216591,
           0.7318022700146285,
           0.6797777447009246,
           0.7896115744868031,
           0.7527122520705383,
           0.805168826320539,
           0.7005165361791115,
           0.7617214503216998,
           0.8132694740151192,
           0.6938495975790857,
           0.7935227943988886,
           0.8266612073300336,
           0.7364551932731579,
           0.8088403529097136,
           0.7481251577909248,
           0.7989587361262672,
           0.7660607318431436,
           0.6992980041925483,
           0.7818521621569285,
           0.8295269184269827,
           0.6862534438039838,
           0.8268198839909243,
           0.7610095972414137,
           0.8201989996220647,
           0.8168764153183569,
           0.7816264474802219,
           0.7999195810878044,
           0.8209173736742862,
           0.7239719521542171,
           0.6728765313988829,
           0.7133669651388969,
           0.8044524651393233,
           0.6638736870206551,
           0.8033649469532915,
           0.8022136024131611,
           0.6481759402564035,
           0.7488595802252482,
           0.7824742903345472,
           0.7862781571153038,
           0.8233722719531243,
           0.8061211713519515,
           0.7701713082579068,
           0.8278756908585907,
           0.7886739820513121,
           0.8028344071439267,
           0.7188290160169755,
           0.6495138846526395,
           0.769730034785055,
           0.7691769601897755,
           0.7778642465079675,
           0.7384411314487634,
           0.7427686647702685,
           0.7680646539618814,
           0.7387790757443239,
           0.8352574628715672,
           0.8419109565826506,
           0.7873051056133955,
           0.8502937271606898,
           0.7845219537666481,
           0.7354657527836383,
           0.7176573133972236,
           0.7760338290877048,
           0.7818497914525551,
           0.7532485109575403,
           0.8047306217753023,
           0.7375197196613014,
           0.7855828277681797,
           0.7572947347350735,
           0.7724119687813601,
           0.7931161473993551,
           0.8234792623073839,
           0.7612096525387751,
           0.736423266857707,
           0.7867660906028878,
           0.6690767650011572,
           0.7887093853307892,
           0.7774086743034081,
           0.7844143114090706,
           0.7773760742128338,
           0.7346865848950447,
           0.786824047223533,
           0.7956375797928115,
           0.7524025603045548,
           0.7404666342164155,
           0.796232475686865,
           0.8543357702872816,
           0.8271761403682574,
           0.7678128482640225,
           0.7561694956486226,
           0.7626307790885837,
           0.6817963690236091,
           0.763269645328033,
           0.7816877657297897,
           0.7919934148105856,
           0.8150002196236823,
           0.7957796993784049,
           0.7920921294872953,
           0.8049886921715971,
           0.8201671026908925,
           0.7717042414566136,
           0.8149285753378183,
           0.8243816890555621,
           0.7718525538845563,
           0.8307448718227283,
           0.8085673812095758,
           0.6893898105584625,
           0.8175022899178389,
           0.6494691575346183,
           0.7453133204152872,
           0.7793062331365441,
           0.6484251558967246,
           0.8120984897633334,
           0.8147238643483459,
           0.8213993779698866,
           0.8031223350358618,
           0.8573471257498297,
           0.8031270471212958,
           0.7991792561903095,
           0.7781321860166082,
           0.7545566011235606,
           0.7737951717468312,
           0.8368883901656369,
           0.8319210567043754,
           0.7806315337586625,
           0.664466761780387,
           0.7677499725353631,
           0.75612868612817
          ],
          "colorbar": {
           "title": {
            "text": "Sharpe<br>Ratio"
           }
          },
          "colorscale": [
           [
            0,
            "rgb(103,0,31)"
           ],
           [
            0.1,
            "rgb(178,24,43)"
           ],
           [
            0.2,
            "rgb(214,96,77)"
           ],
           [
            0.3,
            "rgb(244,165,130)"
           ],
           [
            0.4,
            "rgb(253,219,199)"
           ],
           [
            0.5,
            "rgb(247,247,247)"
           ],
           [
            0.6,
            "rgb(209,229,240)"
           ],
           [
            0.7,
            "rgb(146,197,222)"
           ],
           [
            0.8,
            "rgb(67,147,195)"
           ],
           [
            0.9,
            "rgb(33,102,172)"
           ],
           [
            1,
            "rgb(5,48,97)"
           ]
          ],
          "line": {
           "width": 1
          },
          "showscale": true,
          "size": 7
         },
         "mode": "markers",
         "type": "scatter",
         "x": [
          0.20572673084970963,
          0.22190730775820566,
          0.20150043154178815,
          0.20147947706353073,
          0.21176116619753202,
          0.22366455295871565,
          0.1997676318270226,
          0.20345840990296915,
          0.2164146588226784,
          0.21647484793470803,
          0.21124878942728717,
          0.22052932402374856,
          0.2167424040804665,
          0.22019454430822205,
          0.20141881666977574,
          0.22198465888755856,
          0.21091137025790851,
          0.22198746364118047,
          0.22191475063266722,
          0.20851466488299492,
          0.2257662379867338,
          0.20665441200441628,
          0.19524034092654963,
          0.2179874947799347,
          0.1988922868220919,
          0.20096660993968476,
          0.20784270955024173,
          0.2249626773847826,
          0.20628163427815138,
          0.20338729349006576,
          0.2029278648468622,
          0.21026925530539003,
          0.21066156287468507,
          0.21285807930088155,
          0.22521449789855608,
          0.22307746895968988,
          0.20920190099986727,
          0.22220214490279025,
          0.2107277958033917,
          0.2087762646010492,
          0.2043506983777286,
          0.21377016597116807,
          0.2018842012690726,
          0.20338872293348167,
          0.2088989466522479,
          0.19877425850441216,
          0.21990624541919485,
          0.21185091559111305,
          0.21369513214028246,
          0.19914348379363228,
          0.19646554077688735,
          0.2268693096725407,
          0.21591963931371966,
          0.20661140374189144,
          0.20755246753674628,
          0.2212418669219824,
          0.23289646181924667,
          0.20849346053290252,
          0.2052980672786196,
          0.20761424603764111,
          0.19794511012898883,
          0.20242546821973154,
          0.20617877391519587,
          0.19269483314874059,
          0.2016714762256458,
          0.2163701819381566,
          0.2003792787027583,
          0.20277473827129994,
          0.21009333250707357,
          0.2154935274754511,
          0.21020675172153275,
          0.21452460192498454,
          0.2018924685166824,
          0.20603213126708092,
          0.20142659350816633,
          0.2084211605116627,
          0.21953007835023175,
          0.20048351407751816,
          0.20129795173920992,
          0.214880509381334,
          0.21608361638547544,
          0.21682683682737097,
          0.2186757609144675,
          0.21062307321395038,
          0.22978139611539744,
          0.21217536860225386,
          0.20724272385640466,
          0.24080963653610807,
          0.2071143814008401,
          0.220858954873592,
          0.20253720469386408,
          0.20475023388719651,
          0.20980245824883467,
          0.21231371640902333,
          0.2152322793139392,
          0.20814218850699603,
          0.2260581436992231,
          0.20602311558409964,
          0.20737526595610348,
          0.20840872253304932,
          0.22727380952014897,
          0.19781758425920007,
          0.22679004125534039,
          0.20187863889232313,
          0.19666540989395698,
          0.2320680218302594,
          0.2243075043667369,
          0.21225155624785932,
          0.240038098125295,
          0.23408323193023065,
          0.22684319199301872,
          0.22689306870948286,
          0.21276826926629516,
          0.195539013356156,
          0.22647713674941017,
          0.22090181524875574,
          0.20819356883802906,
          0.22100256998925363,
          0.21113770950455676,
          0.20174434588376836,
          0.23739073772031122,
          0.2180729060516992,
          0.21850392805868196,
          0.21542128063024366,
          0.21014304235393702,
          0.21877436861099703,
          0.20902674179328207,
          0.1983248847672401,
          0.20236618161236147,
          0.21336488097183545,
          0.23406215217428752,
          0.21399058394725376,
          0.20252261237665728,
          0.21366808402344323,
          0.21196495717176356,
          0.21727466923481434,
          0.23884187114658298,
          0.2232996224663707,
          0.22366822377072854,
          0.22151073778231178,
          0.21691673638635162,
          0.21242221027561078,
          0.21579041920777128,
          0.22602457701604914,
          0.20142279377303726,
          0.21320572620941747,
          0.21800809741302665,
          0.2155432635759129,
          0.21953596725391017,
          0.2151387965169248,
          0.2049421697508362,
          0.20681688931680034,
          0.20412088657039126,
          0.2070262997798406,
          0.20145822587911907,
          0.22887048180002165,
          0.20339286460736034,
          0.20556030646129955,
          0.22162551312052614,
          0.21108917722407136,
          0.21339932875123588,
          0.21826312005803858,
          0.2057207990451437,
          0.22072165342186836,
          0.2052753445240166,
          0.20750808200877127,
          0.2071357185653064,
          0.23448999472792453,
          0.21498967619969442,
          0.2078537713827394,
          0.1980755818440815,
          0.20559562321240635,
          0.19739388259062526,
          0.20243129546351007,
          0.2064847053787696,
          0.21897779450693539,
          0.2292379082623364,
          0.20276556426518003,
          0.19988220215682678,
          0.20753711156209212,
          0.21180221496291216,
          0.2049587653045638,
          0.21764828455396285,
          0.20685937780043054,
          0.23492678021832625,
          0.20851312444370287,
          0.23651649541030137,
          0.22600510871876778,
          0.19885353982203,
          0.2098323726549838,
          0.21164803808320443,
          0.2091527117010621,
          0.22113806003277958,
          0.19940749473030855,
          0.20695285216745837,
          0.20575613882318589,
          0.2072460777845586,
          0.2193973494873633,
          0.22857135633959974,
          0.20253892370255364,
          0.2198308487116301,
          0.22954800935120026,
          0.20998553999401368,
          0.21972443857230944,
          0.20925793281357827,
          0.21000641786442253,
          0.2181425646997823,
          0.1993822509632373,
          0.21679869892290798,
          0.2229927946668962,
          0.21789181801235355,
          0.21976634919572544,
          0.22342674042198957,
          0.2058316881133328,
          0.20780390352015576,
          0.2211323644362149,
          0.21783592968236004,
          0.20672106775366922,
          0.20172904985173903,
          0.22124168042365774,
          0.21656175233421335,
          0.2138363549178012,
          0.2149789003784419,
          0.21430547300870104,
          0.22214876590638222,
          0.2252837692752109,
          0.2296404455170798,
          0.2039432410557394,
          0.21010060574965336,
          0.2006933659747169,
          0.23014094867389587,
          0.21370071512966834,
          0.22486730159029406,
          0.1998538026837438,
          0.2131303468663272,
          0.2289324778513465,
          0.23549577112604791,
          0.1956640734089167,
          0.20256533217929185,
          0.20706545277488336,
          0.20050861343481197,
          0.2154969168223223,
          0.21734484085048042,
          0.2197074378249653,
          0.20362227376701092,
          0.19584561454843905,
          0.21136193197925832,
          0.2022868291243169,
          0.21368645377761142,
          0.22806178588878526,
          0.20552443775806584,
          0.22377616485643784,
          0.20715955258690277,
          0.2106547059495356,
          0.20227601433917375,
          0.20793449812653803,
          0.22059301009681553,
          0.20263264164952527,
          0.209590824773919,
          0.22123143502630727,
          0.20012030639239606,
          0.2325338332101502,
          0.2146117938895511,
          0.22273506621367573,
          0.2029320413829565,
          0.22849684560751124,
          0.23190800218706298,
          0.21031166715611554,
          0.23366754097571804,
          0.22504555623078454,
          0.21955778702454834,
          0.21879464722866435,
          0.20296213177711817,
          0.20595117332098206,
          0.20291771783427803,
          0.21413922695522142,
          0.23014874151372722,
          0.21260798050069604,
          0.2161497483261533,
          0.23142624259686814,
          0.2160053091787681,
          0.2156294340784295,
          0.20575792098067708,
          0.21279708404276243,
          0.20173813681229877,
          0.20421696702096018,
          0.213389872858123,
          0.21430453143252645,
          0.21487934595135286,
          0.21705040335816697,
          0.20523314932684347,
          0.20907173412601265,
          0.2109598074392721,
          0.24022408543751567,
          0.23074838020979782,
          0.22286436108647245,
          0.2084872753303876,
          0.21513527044668165,
          0.21147768925436256,
          0.20311290145776434,
          0.20667308276075222,
          0.20031477528643557,
          0.20276728687626824,
          0.20565691893596552,
          0.20039806828447107,
          0.22854489099167657,
          0.2322439566222634,
          0.21270958361714232,
          0.22299355040835186,
          0.1907749891215807,
          0.21053317885381767,
          0.21151859692708697,
          0.21560588534599526,
          0.24668255574370151,
          0.20178695169570846,
          0.20931074352763474,
          0.2119745126192396,
          0.21437035297010723,
          0.2054609767721649,
          0.1978625367839071,
          0.20356296255668524,
          0.2166816904962171,
          0.21212885862900216,
          0.20461883876848755,
          0.2059466060364716,
          0.22054356595876007,
          0.22125685047514962,
          0.2379208328761213,
          0.205874468614676,
          0.20885001734414382,
          0.23208883404005273,
          0.21845270730070798,
          0.21258615320043792,
          0.19957659571487935,
          0.2215607816170605,
          0.21584424912059036,
          0.22451405744412492,
          0.19852738830517852,
          0.20242008238907402,
          0.20938732805800314,
          0.2102038655632764,
          0.21052116565273613,
          0.21983022672332822,
          0.21375547150945184,
          0.2024876592888004,
          0.2082129558845123,
          0.20581280662374582,
          0.20290468339688056,
          0.19882501721074275,
          0.19677321545142684,
          0.20796927422596007,
          0.21173226020592678,
          0.22200566573006683,
          0.215864257149567,
          0.21502804591033325,
          0.2118904260549573,
          0.2071847741946928,
          0.20235399593283726,
          0.21918726715355563,
          0.21430081698294176,
          0.2020576238755479,
          0.23248489687576868,
          0.21047680520982262,
          0.21642855980038062,
          0.2185617738078931,
          0.20200937712186853,
          0.20760709390538168,
          0.2110219632603651,
          0.22193245529120395,
          0.2165231566363792,
          0.20715168319725838,
          0.2046991610991885,
          0.22891966909674072,
          0.2077427045807988,
          0.19624974437977655,
          0.20717749213871497,
          0.22732926579239804,
          0.2009330743952536,
          0.20436930056083719,
          0.20273702992435474,
          0.21937654540968432,
          0.21529326559516113,
          0.22029231704664579,
          0.21657873954248252,
          0.20484390332091015,
          0.1921350294531955,
          0.20698548674384498,
          0.21663063395311527,
          0.20944759674846752,
          0.22138962342457275,
          0.2271178191966015,
          0.1977379901728404,
          0.20071581781867545,
          0.22437878130573125,
          0.20810157936073326,
          0.2068564052939536,
          0.22784391304402046,
          0.2032575549542778,
          0.22233204029200396,
          0.20389724718820249,
          0.20636290676509855,
          0.2064926119453037,
          0.19510083899419772,
          0.20557065673841513,
          0.19145975818149075,
          0.22932802527841586,
          0.20268361285996386,
          0.2270623510351326,
          0.20760719575950434,
          0.20211536327369592,
          0.1998150032398857,
          0.204236462075184,
          0.19966368309287494,
          0.21093968732508342,
          0.2002894108308859,
          0.21029032797684075,
          0.22058926012130783,
          0.2277718151450321,
          0.20017399900595678,
          0.21602194656444365,
          0.22309368411432653,
          0.21579459305341658,
          0.20890131172293808,
          0.20402479479377253,
          0.2001155051475508,
          0.201458709960013,
          0.21055560387261227,
          0.19610044109224511,
          0.20187124184324576,
          0.21446528679643556,
          0.2298184129205294,
          0.2064323679172944,
          0.20375718940927343,
          0.22533040894475218,
          0.22295354889076235,
          0.20243090180685874,
          0.21599025293243626,
          0.2049338866488303,
          0.2011907437121,
          0.2076880819910656,
          0.2200098814483926,
          0.20759232938866237,
          0.2073841910886926,
          0.20868836537440053,
          0.20021565932423974,
          0.2256721045290166,
          0.2085287510292024,
          0.2358867158412725,
          0.20949984977929637,
          0.20062249994760373,
          0.20039713191544628,
          0.20997167719257917,
          0.21079735830419413,
          0.22430798417238315,
          0.22929791165157853,
          0.21497103519403435,
          0.22494373644039206,
          0.216162314240878,
          0.2174993380424322,
          0.19389008049880593,
          0.20571830279123263,
          0.20412624913238478,
          0.2080333240509497,
          0.2098257589851057,
          0.20358133054963415,
          0.20669312242389054,
          0.2371784190242913,
          0.19186456815995834,
          0.19805932631252982,
          0.21508718948470396,
          0.20420872690382566,
          0.2142754497981271,
          0.21000754013814885,
          0.20774209748935574,
          0.2021429258033619,
          0.21548316138283335,
          0.23737045405310833,
          0.2011398365431924,
          0.2087044291602028,
          0.20938753026072368,
          0.21303474887004867,
          0.2234816947959829,
          0.21487932268603807,
          0.20731110830230803,
          0.2098005817682662,
          0.21214729608215785,
          0.22349918467687943,
          0.19801078296145477,
          0.216702610641847,
          0.21542792610252035,
          0.1960924479256241,
          0.20284109076794105,
          0.2017994803124311,
          0.21244214441200082,
          0.22745977184007157,
          0.19621134897922776,
          0.20664969148083392,
          0.2190928131409053,
          0.20359952353556263,
          0.20715221710949247,
          0.20162797042162148,
          0.2115727598860351,
          0.21320905523772063,
          0.20430734233818396,
          0.21105264124751472,
          0.2204083272718087,
          0.20914279400978664,
          0.2323025587316432,
          0.21336417149372278,
          0.21777471761184378,
          0.2015611449434227,
          0.22772798563672866,
          0.2104901098795024,
          0.20819958355633286,
          0.2093295657194543,
          0.19876604372921525,
          0.21528012734672342,
          0.2219331396332325,
          0.2020780702623503,
          0.21602350568064488,
          0.2209505812919889,
          0.2067711382188877,
          0.2203356505014929,
          0.20475051476855716,
          0.23311901049797357,
          0.20638625811960049,
          0.21536976346459122,
          0.20540559413267367,
          0.21796262742456446,
          0.21880476439356122,
          0.1943431967210414,
          0.2043697977296814,
          0.2064274124948148,
          0.21593562872987432,
          0.20615936885300157,
          0.2070788040261008,
          0.20540374468539283,
          0.2073306964988715,
          0.2034159580505512,
          0.2011181321671126,
          0.2039830057817424,
          0.200237903044404,
          0.20781242974700762,
          0.21736722076185444,
          0.21675954077058446,
          0.20412909820374975,
          0.22546043933076967,
          0.21873697784926147,
          0.20907705972715046,
          0.21775903419516374,
          0.2045204005874195,
          0.21144807306537056,
          0.20740047418688518,
          0.22674841577945373,
          0.2169728751664091,
          0.2138698261734199,
          0.19374658930391897,
          0.21549514756914465,
          0.22129818101982116,
          0.1972192752514699,
          0.21405972350608576,
          0.2005582323737703,
          0.21261503803252907,
          0.207650135447897,
          0.2100066105202019,
          0.21092779786724478,
          0.21173720257361767,
          0.21430667998620856,
          0.20311706187075784,
          0.20964378666811756,
          0.22657733029826324,
          0.20907542564241632,
          0.20322464423043218,
          0.2147630441928548,
          0.21207382388545948,
          0.21172524086624533,
          0.20568860578376166,
          0.20141619006088904,
          0.20648688706213777,
          0.222565703516448,
          0.2249156509653511,
          0.20062483765322922,
          0.19530266485339987,
          0.2106831963377128,
          0.190410885929654,
          0.20366112488129395,
          0.22255183309979906,
          0.20946295932820003,
          0.1985925203331282,
          0.20893857587518355,
          0.19718924321335798,
          0.2083164262995859,
          0.21273505249356484,
          0.21656588131312499,
          0.22144352108997278,
          0.21800009950332244,
          0.2090521584623297,
          0.20596305247444965,
          0.19666037779524637,
          0.20697021467136412,
          0.20782165854483056,
          0.1927508245192755,
          0.22617206756275618,
          0.2025899588090026,
          0.23781673433646472,
          0.21081208506356297,
          0.21189361068625454,
          0.21522586296985158,
          0.19015537606735078,
          0.2091984320947622,
          0.20551127065755218,
          0.20121744267411845,
          0.20353898664765194,
          0.22291945652395578,
          0.2051832905269942,
          0.20312223212436287,
          0.22611663876442084,
          0.22119181922769313,
          0.19899216304085793,
          0.19635489932391512,
          0.2157233757998152,
          0.2210914777463957,
          0.2018177450265341,
          0.20814976539307486,
          0.2344239699155099,
          0.22353931902282193,
          0.21448739375554407,
          0.21154040039448566,
          0.22275222012466833,
          0.21932895731932395,
          0.2212417375030082,
          0.2266233871965768,
          0.22107307641110277,
          0.23524394912801258,
          0.22932936979309174,
          0.20033995330635862,
          0.20204059526889073,
          0.21468434052238045,
          0.21443389657588782,
          0.20575623985200808,
          0.19976709905884607,
          0.22644030988159727,
          0.20183236340332422,
          0.19716068638842282,
          0.20075145048743598,
          0.21060533332397835,
          0.20860634107212786,
          0.22174377575688156,
          0.19440724550233326,
          0.19529889092144415,
          0.21309258644451476,
          0.2082938334319296,
          0.20658182512710987,
          0.20677569223332912,
          0.21695228742510236,
          0.24291195461134482,
          0.2063692163702928,
          0.20674386782109103,
          0.2076945678687046,
          0.21798498047390735,
          0.20306705562992933,
          0.22827127811956718,
          0.21151268017917513,
          0.20003741617981835,
          0.22525835074677497,
          0.2133802252531664,
          0.2333689395372834,
          0.22232032169881,
          0.21171828303493906,
          0.2006152109988391,
          0.21687508437875075,
          0.2128590739002549,
          0.21966590585707035,
          0.19818305809943698,
          0.19744090185069857,
          0.2273859208861244,
          0.20483061507125452,
          0.21254111559512637,
          0.21981513241332248,
          0.23782471418690143,
          0.21550562427443842,
          0.20701324229861004,
          0.21037386272412117,
          0.20567184137780467,
          0.20509226255120966,
          0.20322016859230627,
          0.19703861922507132,
          0.21289262124997604,
          0.20868420869289886,
          0.20492932949023426,
          0.21146786609931573,
          0.2026737095970783,
          0.2068180266208652,
          0.22945586666705162,
          0.20996575484009816,
          0.2131578510799168,
          0.21662282531696608,
          0.20416397262850663,
          0.21109728105636952,
          0.20398684186435942,
          0.22745665350182373,
          0.21842683291350357,
          0.21455474785207912,
          0.21900290917943693,
          0.21396567187069124,
          0.22422319622706458,
          0.23483078749022346,
          0.20435349589873728,
          0.2156084802961867,
          0.2045136222075084,
          0.202757991908403,
          0.235759135023049,
          0.2135255363701142,
          0.20286532714264915,
          0.21065082227863624,
          0.21615177491197635,
          0.20100242356247508,
          0.2067673801607965,
          0.2014452229957348,
          0.22417847429423224,
          0.20958228486362404,
          0.21378962758790082,
          0.21650851602586796,
          0.20028825190393557,
          0.21923309365067126,
          0.218273664945285,
          0.21109156354731945,
          0.2128450164427392,
          0.2172209565865016,
          0.22444521230965672,
          0.20290238496043828,
          0.2151640521452246,
          0.20231373658529653,
          0.22820921021568852,
          0.20944045324800073,
          0.1961655587484534,
          0.21876631382907769,
          0.1974245655749245,
          0.20264494615548775,
          0.21629193642386474,
          0.2130704608074884,
          0.22138034556593866,
          0.2164147874136222,
          0.2241394247109522,
          0.2027883142109499,
          0.21050964480411152,
          0.22141506262606428,
          0.2102665723018069,
          0.20166100298465228,
          0.23413245048866285,
          0.22918328569433213,
          0.2216986622918581,
          0.20493237577009088,
          0.2209405590607976,
          0.2041399541900654,
          0.20798668732869266,
          0.20283940858399793,
          0.20605341559253643,
          0.2106643911007726,
          0.21483930490525896,
          0.19780980286554514,
          0.20926973141272592,
          0.22528706978533009,
          0.19777584520270614,
          0.20184324855856764,
          0.2173694187389971,
          0.21140945792553992,
          0.24789120596155,
          0.20357086238470398,
          0.21188164319343514,
          0.23118793959849207,
          0.21552723312641908,
          0.20042115026423593,
          0.23873018971213283,
          0.21147924560413606,
          0.207231237135578,
          0.19586978712969536,
          0.20989751300085258,
          0.19735823452159115,
          0.2448715884742926,
          0.20161460860224772,
          0.20180716029182866,
          0.22520257858668502,
          0.20810609342590874,
          0.21976080837387799,
          0.2241415826948831,
          0.21668615440029274,
          0.19633647801227264,
          0.23986410213907883,
          0.2100796377402746,
          0.2293611508125777,
          0.19846846163307771,
          0.20445377654320743,
          0.19901247048130422,
          0.1995067626343211,
          0.2159151967389482,
          0.19982883560594755,
          0.2078924759385299,
          0.2145855947764914,
          0.20404379187064875,
          0.2152269760215652,
          0.21993292412979526,
          0.21235906279120662,
          0.20627700228917445,
          0.21505930801132941,
          0.20508192661403737,
          0.20985618876198037,
          0.20858772532224854,
          0.20840343901194677,
          0.20326388443398324,
          0.192403277840422,
          0.22299999656930097,
          0.22598302345628343,
          0.19923402033395424,
          0.22531547468197918,
          0.20747085643151816,
          0.21422557353015143,
          0.2175204086986956,
          0.218568235221343,
          0.24163792362949502,
          0.2064412893281099,
          0.19606127222455622,
          0.21695608220306664,
          0.21804698367157438,
          0.20306047843104522,
          0.20445474732459698,
          0.19513611312757695,
          0.20528478128317118,
          0.1999436164300072,
          0.2266523631649971,
          0.22457571392886952,
          0.21033152155954837,
          0.1978288706702565,
          0.19933344124258734,
          0.21283237828090382,
          0.20603211895221574,
          0.20763304852743525,
          0.20337365119821002,
          0.1977368172970344,
          0.1899273618654754,
          0.2130221881028345,
          0.22040720088387425,
          0.2034460606631535,
          0.22224532253467943,
          0.21091456715037804,
          0.21882060148590426,
          0.2083619155621795,
          0.21615324928497812,
          0.21328593077101038,
          0.2017449837779377,
          0.19750218559898017,
          0.21339479629131236,
          0.20564194597081695,
          0.2141332102558624,
          0.22727232441936424,
          0.20259210245284556,
          0.20951846918987793,
          0.21310256716509102,
          0.20353373362044064,
          0.20022093871680272,
          0.21807203546157236,
          0.19950675340361432,
          0.1996610260912782,
          0.22020542379401126,
          0.19862720788465124,
          0.2341689057549218,
          0.22291981733805166,
          0.20990443980497903,
          0.20489875840467683,
          0.20730159469888088,
          0.20870907117155493,
          0.21943979654681448,
          0.19928641155257823,
          0.20389469282720007,
          0.21394312225909046,
          0.2082939233482075,
          0.213907378694324,
          0.21630076142223592,
          0.20692358510526151,
          0.22468356248415958,
          0.22164997337935313,
          0.2291345423670107,
          0.21253167632994227,
          0.21336840139716867,
          0.22737088738509517,
          0.21524286928953107,
          0.2062247478787343,
          0.21406112272199,
          0.22252434281343014,
          0.1962265236344531,
          0.21770915665706037,
          0.2065658314332892,
          0.2155327124015114,
          0.19471978694647335,
          0.22891638968465386,
          0.1961033188515536,
          0.20617076196885867,
          0.20073500309062747,
          0.21637067123126769,
          0.2168814592594539,
          0.20535197173345682,
          0.20102403248335854,
          0.20284958121209698,
          0.19836796364289655,
          0.21055121991171633,
          0.19241929310637756,
          0.20441265540748033,
          0.2160488532199019,
          0.19062465871680856,
          0.19650156482661948,
          0.21466471275462623,
          0.20131352062684132,
          0.20831237566696065,
          0.22483684246037647,
          0.21427793942921142,
          0.20649103764151583,
          0.20410078793521477,
          0.23529216029225858,
          0.19769737740044735,
          0.21255747629516655,
          0.20313689654252123,
          0.23303364405741694,
          0.20963133165631712,
          0.20854099219555697,
          0.2127692013881625,
          0.20459671473013835,
          0.2155887834975851,
          0.21045303516402233,
          0.22297888034086827,
          0.2029143935374219,
          0.22001844452660768,
          0.1994676621230655,
          0.20009677744578927,
          0.19723182026022226,
          0.20372857929991867,
          0.20394806813698832,
          0.2201900732295677,
          0.20836247347703626,
          0.1971567274028659,
          0.22175239398433547,
          0.19830749072592024,
          0.19763681156375773,
          0.20475113155689204,
          0.23541502090378247,
          0.21675255204179697,
          0.23267832556900298,
          0.22295562651869869,
          0.2141812469599972,
          0.21974881143544134,
          0.22296707380248393,
          0.2182087881951843,
          0.21859487764255867,
          0.2045061619864256,
          0.21843780104314992,
          0.2087514229154757,
          0.206252501744188,
          0.2068833627708861,
          0.20596877776540307,
          0.2275209543524897,
          0.22487539902917786,
          0.20455843304863933,
          0.21810797513286873,
          0.20452035200335392,
          0.1922985112176467,
          0.21076003643522773,
          0.21795979929175444,
          0.1965218374005187,
          0.22509465233893974,
          0.20607644133355862,
          0.21328298877453364,
          0.2297639650493843,
          0.23602807981306717,
          0.2229102146345126,
          0.20499320529870266,
          0.21574909107581428,
          0.2017415999524545,
          0.2136431487339947,
          0.21386374358207505,
          0.20575436459369076,
          0.22349309916003918,
          0.20565696943390846,
          0.23461864686612,
          0.20524817243435672,
          0.2184688707814948,
          0.2073070426647269,
          0.21601908997471636,
          0.2072376463047138,
          0.2069383923240626,
          0.2165284676415511,
          0.20516632020453077,
          0.20207829503742453,
          0.21834031884986219,
          0.22185046744764308,
          0.20444534885265014,
          0.22975803587757992,
          0.2082269550992592,
          0.20184637525934485,
          0.21938040092965946,
          0.21653394745227672,
          0.20414207864820802
         ],
         "y": [
          0.15214507116947218,
          0.18804041115948994,
          0.14133363084162173,
          0.14114020405943956,
          0.17598644325132734,
          0.1637001819271975,
          0.14854160834139543,
          0.1572518462259186,
          0.1485854372596736,
          0.16654921008978235,
          0.16259803836954553,
          0.15459971388649896,
          0.17726908034631333,
          0.1713105686753571,
          0.157643319183935,
          0.16733385744520746,
          0.1611577204592762,
          0.16108667118190043,
          0.16358014821921546,
          0.14297292766123376,
          0.1845747884520958,
          0.15541180670242719,
          0.1433900399984229,
          0.16723012848642824,
          0.1577974950216355,
          0.1528373706667809,
          0.15497071540481275,
          0.18502812268247418,
          0.1660008270272862,
          0.15411593560997322,
          0.15919577042964073,
          0.1503919341705078,
          0.16740741640567156,
          0.16927688355241882,
          0.18186370847111238,
          0.1864651150618259,
          0.12429375497044387,
          0.16337340703256076,
          0.16353407267362227,
          0.157346750509604,
          0.1514563203052607,
          0.16791464102918074,
          0.14809473360170564,
          0.16489641712675698,
          0.1431296448699721,
          0.1535445720288307,
          0.1774627682786901,
          0.16184980728323523,
          0.1816786986282192,
          0.13863357032139453,
          0.15372632469499728,
          0.18519648269715816,
          0.17264220369512945,
          0.1485351720966433,
          0.1612606834149492,
          0.17763752943389277,
          0.20075415560113735,
          0.16269585540191284,
          0.1474566106450864,
          0.16523905121467847,
          0.15100279295103544,
          0.13915176072017466,
          0.15234309219807662,
          0.12932615124280472,
          0.1616742419993749,
          0.15438789344466386,
          0.1472958693441425,
          0.1552370632999962,
          0.15659273341334207,
          0.15070030155612207,
          0.177954649980455,
          0.13502612007390702,
          0.15903823329604982,
          0.1528147904522811,
          0.1568737104014058,
          0.1756868225888858,
          0.1840442397581153,
          0.147533955857831,
          0.16022176563569762,
          0.1589793400782432,
          0.1788772491558574,
          0.15733181961188464,
          0.15406706085104732,
          0.15084594247818572,
          0.19098559002167478,
          0.1666484915458604,
          0.16648941081953708,
          0.19277251904747558,
          0.15884145848853126,
          0.17729997926348773,
          0.1523400586873149,
          0.1515569670322957,
          0.14238113841222128,
          0.1753873256953993,
          0.182871459661541,
          0.166839141111681,
          0.18721647942307112,
          0.15838356426216466,
          0.17569709954530435,
          0.17434092879861185,
          0.18905054258101844,
          0.14002048812902726,
          0.1747989867753716,
          0.1579035447896943,
          0.13694027871844883,
          0.18032625030820795,
          0.14827621967577037,
          0.16956872548458063,
          0.20570601483372977,
          0.1914922401819335,
          0.1740000074533491,
          0.18345862163272827,
          0.16674942632717238,
          0.14203048456159856,
          0.15721222221989123,
          0.15973966509580662,
          0.15901134633850156,
          0.17695189514715925,
          0.1560333263267184,
          0.15957055433046285,
          0.19580330662771708,
          0.16720823563472953,
          0.15341980411609493,
          0.172319796955136,
          0.16518887781298122,
          0.18597446823894637,
          0.16205952765417322,
          0.13769666445782874,
          0.14109017239332777,
          0.16049464881294587,
          0.19693270637996865,
          0.15310739899286113,
          0.1534083193384832,
          0.1708802099629106,
          0.16354233359839093,
          0.1676480200677091,
          0.20269904593052251,
          0.16461942708390304,
          0.16418417797738266,
          0.17911997665479729,
          0.17378523471388505,
          0.1645624245942252,
          0.1726602615955507,
          0.1823771033965389,
          0.14877703819860716,
          0.14874006376371893,
          0.17944578371883943,
          0.1582547492673413,
          0.17343436397034417,
          0.15840553449605227,
          0.15370902029690411,
          0.16995865414673167,
          0.16228677050294082,
          0.16240587225755906,
          0.15709841227482169,
          0.18041881882592042,
          0.15133999219264482,
          0.1522626031225103,
          0.13681240524987723,
          0.17076034691752406,
          0.16882323499169943,
          0.1855065681162162,
          0.16362429482612867,
          0.16673474683472583,
          0.16331771643476345,
          0.14397319497471364,
          0.1480120199939175,
          0.1853075350663024,
          0.15299106049528266,
          0.15647952737583448,
          0.13759091873848825,
          0.1637400453972479,
          0.1465079824722615,
          0.1283399964228436,
          0.16505564524544875,
          0.17989243387621234,
          0.17434882442335037,
          0.15749982702640813,
          0.16111452405804022,
          0.1528875462983474,
          0.17150323824973218,
          0.16417184235311943,
          0.17633928123072112,
          0.14075700841963446,
          0.19208232666865724,
          0.1594854586574393,
          0.18652169992427378,
          0.1756571302077194,
          0.1513095450789835,
          0.17140753030638534,
          0.17200915451696686,
          0.1368808672668479,
          0.1750132439457501,
          0.14983746368374565,
          0.15813278538068726,
          0.15519755167850124,
          0.17100094589288123,
          0.17310692790634288,
          0.16064303482319076,
          0.15555344369583698,
          0.1663298638387329,
          0.176831398379436,
          0.16256317222009037,
          0.17561610514283352,
          0.16336670273917747,
          0.1599654678639355,
          0.17547318405092135,
          0.13940242082746596,
          0.166495192701832,
          0.17831335863830836,
          0.16670679781650496,
          0.14420361621610073,
          0.1688938085088734,
          0.15411630593599268,
          0.15512901650015562,
          0.1808848361854296,
          0.16514356432423946,
          0.1587230660634018,
          0.1508235500423548,
          0.17725931078250864,
          0.1527395242930267,
          0.1787112279347037,
          0.1492659505596793,
          0.16136212159500873,
          0.15984631879187303,
          0.17690435571118773,
          0.17943141489764852,
          0.1608142523893384,
          0.16398542861194915,
          0.15073694630931683,
          0.18289524891035042,
          0.1705079323423778,
          0.17916156609020603,
          0.15189006889708764,
          0.17929965790971114,
          0.17326677077112393,
          0.1829877208958802,
          0.13103557511080532,
          0.14538277230472463,
          0.14952479851008876,
          0.14670739196470498,
          0.1773093948153854,
          0.17382718584486673,
          0.17099932185290628,
          0.1564218112832892,
          0.13101137632371757,
          0.1677349360607735,
          0.14739137646288253,
          0.16583038919304322,
          0.18278900498203074,
          0.15442127227727942,
          0.18506993097997587,
          0.1580899734910104,
          0.16941171457603832,
          0.15756255480292267,
          0.15334624618255205,
          0.17929544654229432,
          0.15518499786133344,
          0.1693352472428363,
          0.17840208208013594,
          0.15363815829086058,
          0.19740242410409625,
          0.17732366755018752,
          0.1798965183479876,
          0.15844062737088377,
          0.1881281400994637,
          0.1527723137380001,
          0.17298616520976,
          0.1783129486876933,
          0.149455814126691,
          0.15989383765435974,
          0.18708912964442914,
          0.1619702452040843,
          0.16480784777179838,
          0.1612297920309341,
          0.17022243194580555,
          0.1496647096344683,
          0.17437780860475535,
          0.18300772421733974,
          0.19441003745292887,
          0.17803438043899933,
          0.16657617501832467,
          0.15349694672071573,
          0.17158217405832887,
          0.16193049365749243,
          0.15536563966072908,
          0.17157161622295644,
          0.1831723629871152,
          0.1724363819671937,
          0.15815259368035778,
          0.16663208082197564,
          0.151537102109203,
          0.15222310451251722,
          0.19027663331043002,
          0.18719520058106934,
          0.17102801248149602,
          0.15966219203793014,
          0.16905304468290888,
          0.15946573126585456,
          0.1473852927585883,
          0.15923864955592737,
          0.16427774625322172,
          0.16717143244628976,
          0.12899490911505682,
          0.15295191100625632,
          0.18790065793135832,
          0.18547882582125452,
          0.17111382641937511,
          0.15265555025148358,
          0.1316724182731471,
          0.1687728034150329,
          0.1633099452117131,
          0.15819182116850594,
          0.21185223231795497,
          0.14378595839632194,
          0.17491045702120028,
          0.16670163811510827,
          0.16634777284870253,
          0.15932399930743757,
          0.15087696935506678,
          0.15921625877579165,
          0.1685042894905993,
          0.16756668497031643,
          0.14726029305383434,
          0.17122595627523785,
          0.18479890063875015,
          0.16563219334103166,
          0.1882045311962584,
          0.16352232698542657,
          0.16415812641957656,
          0.1929709237935424,
          0.16212691223345543,
          0.17529134826546594,
          0.14708887230386788,
          0.1840520136386956,
          0.1797366445336664,
          0.19185452258557112,
          0.13714651993377036,
          0.16419061071619057,
          0.16234954421547193,
          0.17382419264583443,
          0.17289437003550956,
          0.1732934218886929,
          0.17372010409870647,
          0.13551540304084533,
          0.16996614764399262,
          0.15508417358813392,
          0.14619060551722204,
          0.15821012988662367,
          0.1258836167843428,
          0.13874624206562533,
          0.15766501846317924,
          0.1704857407395663,
          0.15924566002741217,
          0.1692898565825291,
          0.17652811288853398,
          0.15671941984360482,
          0.14925084198968291,
          0.18154055081767717,
          0.1744937448565225,
          0.15130174732361729,
          0.18716011257002402,
          0.1634061250274416,
          0.17219208212805834,
          0.1616202771208872,
          0.15609752308331903,
          0.16163226814421833,
          0.16604015216719864,
          0.18359954897120775,
          0.17616477822311746,
          0.13043475882572697,
          0.16027053014241105,
          0.18504478567980143,
          0.16446468640512807,
          0.149906868707035,
          0.16588548506887843,
          0.17883164425708867,
          0.1491564504540033,
          0.16456961521188287,
          0.15017347943845852,
          0.1714761870916861,
          0.1610694625247743,
          0.16620045865368221,
          0.15880358446057863,
          0.1630408505844792,
          0.13178465992574695,
          0.15789440246260858,
          0.16617358955598274,
          0.16489051395359813,
          0.18708320131350248,
          0.19377273091629202,
          0.1519749481677868,
          0.1520833119155822,
          0.17571378293185153,
          0.1581309721146114,
          0.16108465450230855,
          0.1949936216090261,
          0.15355073312250045,
          0.1792242889208944,
          0.1536905420561765,
          0.1466559509989001,
          0.1626281251274368,
          0.12907631673847542,
          0.15951061400227332,
          0.13453978218404541,
          0.19121425979809192,
          0.16146200817083217,
          0.1863649199136255,
          0.17247901999971973,
          0.1551144982740199,
          0.14710176848512366,
          0.15384195190880567,
          0.14854934878120718,
          0.1694460276055009,
          0.1568566616947595,
          0.1584657661478369,
          0.1583887201874777,
          0.1824576799368801,
          0.12736427825435478,
          0.15263600158304658,
          0.19048827974618238,
          0.17717226248998358,
          0.17017447817305142,
          0.15999303190654499,
          0.15150417211971873,
          0.16435511316923346,
          0.1558157972550653,
          0.1413985761865599,
          0.16149259713493566,
          0.16884096989198916,
          0.18303935078273315,
          0.16092399184346226,
          0.1525269101900541,
          0.18967308897464025,
          0.18457972559185346,
          0.1532314327389374,
          0.16385536578856122,
          0.12292053731614694,
          0.15385638146981792,
          0.1648479183607277,
          0.17971311228763637,
          0.1630567295089509,
          0.16504848759308166,
          0.15942862848644035,
          0.1519128716010994,
          0.18539013271150817,
          0.16922939431210698,
          0.19147860846721484,
          0.1221751415245883,
          0.13553795837927027,
          0.14922884585696125,
          0.17200786270825025,
          0.17010180506815803,
          0.16776026680220069,
          0.17647635794598443,
          0.17295986442829897,
          0.1797004027163316,
          0.18275945596098267,
          0.16383180474390108,
          0.14313762476204436,
          0.15788483934063932,
          0.16890375745486108,
          0.16670887218890082,
          0.156170967418843,
          0.13906080533427206,
          0.1590535402507251,
          0.19312649950071104,
          0.14187582600514026,
          0.14524443266363418,
          0.16756321362766952,
          0.1523567376882103,
          0.18150835978344376,
          0.1650536214224162,
          0.15894865093040075,
          0.16359706379592986,
          0.17928505343058557,
          0.18748481314389667,
          0.13878336018423895,
          0.16634563642194736,
          0.16811802600229894,
          0.17851991386317428,
          0.16378310299971227,
          0.1651700573966965,
          0.16566382596775103,
          0.16824146779742635,
          0.16778150994558655,
          0.18447405683480217,
          0.13920888983897384,
          0.16286461415828668,
          0.1650297561275263,
          0.1485762826363281,
          0.15753076020247836,
          0.15738782919217184,
          0.175334530880585,
          0.18819553033875763,
          0.14981513128123344,
          0.16257407157058273,
          0.17765569610173187,
          0.16120962781046014,
          0.17283361296947117,
          0.16495204191490304,
          0.14331812825976573,
          0.17185150206274608,
          0.15564272804840182,
          0.18037134142929842,
          0.17547016138030713,
          0.16613223337918498,
          0.19418190514162792,
          0.15931241931906434,
          0.17558030994536195,
          0.16075444974530642,
          0.17982409922158357,
          0.14561911879343403,
          0.14990701295088643,
          0.1786681454600632,
          0.1418002045278449,
          0.1547846970234004,
          0.1902329023398083,
          0.15690164749949315,
          0.17205014864634882,
          0.18956799390868764,
          0.16096996875481973,
          0.18846195903151391,
          0.1598575434821707,
          0.19366818993778484,
          0.14828057510376585,
          0.184206079939143,
          0.15924497331503967,
          0.16435097448332672,
          0.1698718827794805,
          0.1418738310656522,
          0.16287096388765282,
          0.16167684307567423,
          0.17753131881033732,
          0.15405676659274167,
          0.16469173686816466,
          0.14906687413847816,
          0.15795269101769194,
          0.14907097532847055,
          0.15520195861972974,
          0.14517849565091548,
          0.15394602648933564,
          0.16546568025693165,
          0.16880324176141082,
          0.17540577508362926,
          0.16388002984032293,
          0.17713734957182647,
          0.16811582253488372,
          0.16620063221097886,
          0.16494633619472732,
          0.1619602197458408,
          0.1716929021142465,
          0.14811958695703525,
          0.18423103229928553,
          0.17700278069903283,
          0.1493782671628732,
          0.13678446465284683,
          0.16808431111315605,
          0.14293271301088192,
          0.15575410213781196,
          0.15684825436970806,
          0.15891391147009495,
          0.16457875162404667,
          0.16490357043276824,
          0.15737353045775643,
          0.17687981409630496,
          0.16892265008429067,
          0.16029910975363676,
          0.15904989523695806,
          0.16629704680678567,
          0.18198377518108488,
          0.17124736064048063,
          0.1453567624886801,
          0.17978186758995685,
          0.1658539752481488,
          0.18063215246689315,
          0.17455318973195133,
          0.14941055209251822,
          0.1417908529052208,
          0.1718053573457907,
          0.18210715336236888,
          0.1457249806058065,
          0.13958922007898625,
          0.16539978372079328,
          0.12190720128387443,
          0.15579783318322477,
          0.17308109794166415,
          0.1653187463861216,
          0.13893666388611095,
          0.1684889418792019,
          0.13711993120029695,
          0.15588023257681563,
          0.1736797390257791,
          0.16667120265604418,
          0.1749277169846666,
          0.18679578669844787,
          0.15166546692381652,
          0.16982920404208543,
          0.1438622375423883,
          0.17262503860701722,
          0.16522358039788854,
          0.14636689627976252,
          0.19097816386910793,
          0.13581116083583444,
          0.19879188252606844,
          0.16865893571248028,
          0.16390730923676003,
          0.14063834755914417,
          0.12585678353928084,
          0.16243512000011123,
          0.15826079038405466,
          0.15079680622761343,
          0.14993286972880596,
          0.18651497211558177,
          0.15402085015837458,
          0.15569748388895605,
          0.16139474593146252,
          0.17900624334793924,
          0.15558927463579292,
          0.14291013606636838,
          0.16644047332489378,
          0.18401974302658836,
          0.15193999157478832,
          0.1618444160309619,
          0.192362131102319,
          0.18053759109904605,
          0.1583293431860035,
          0.14269854696163276,
          0.16976113546929633,
          0.18603661383987502,
          0.16315232937598506,
          0.19152136466782496,
          0.17973015472237247,
          0.2050002434422407,
          0.1818450997969578,
          0.15593639538346518,
          0.15186136436880476,
          0.17678349877031485,
          0.15615275184377744,
          0.15086650646919827,
          0.14644546174941697,
          0.1930828618435631,
          0.162368876403286,
          0.12423217431693506,
          0.1560918298393382,
          0.1634604514078854,
          0.14827325013937248,
          0.17898737773559495,
          0.12793235082199625,
          0.147976874713024,
          0.16201844197202336,
          0.1540237120586035,
          0.16030295753601959,
          0.1593104424555278,
          0.1784562315834388,
          0.19134272394272112,
          0.16188626445193388,
          0.15216969353424412,
          0.16787310902591868,
          0.16946004714931578,
          0.16265901894700127,
          0.16078760113905316,
          0.14749043649620797,
          0.14308466624839872,
          0.166202072302656,
          0.1703632950440591,
          0.1946533937709012,
          0.182505803802284,
          0.15645050879912717,
          0.16000772121800028,
          0.16482985324325708,
          0.16307413430605644,
          0.17104253293433652,
          0.14972657617907167,
          0.1356265584077901,
          0.16374096989527395,
          0.16234056325646354,
          0.18078314754435007,
          0.13401274449590728,
          0.19437631996814103,
          0.1727532724656146,
          0.16802463268801332,
          0.16095533549511726,
          0.15793752658648819,
          0.16248859197998586,
          0.1404470048268298,
          0.13711195079406563,
          0.16324387563073325,
          0.1703787379436365,
          0.16428704509065534,
          0.16018894922147567,
          0.16159204206141617,
          0.12600575975206563,
          0.17639118642891743,
          0.1498004565634776,
          0.15909731056035528,
          0.1544522626972968,
          0.16297776188885668,
          0.16580984129142143,
          0.1524275729861696,
          0.1681912753648216,
          0.16206051725159742,
          0.18524914505725115,
          0.16871855295913632,
          0.15790110403639573,
          0.18080875251892917,
          0.20315203074862956,
          0.15308698906550045,
          0.16726429330087,
          0.1543482180243415,
          0.1535431329636076,
          0.1721362278693728,
          0.17304594467030956,
          0.14509213077233954,
          0.15984271261780542,
          0.16220925621382828,
          0.15881316469384238,
          0.1603925566977249,
          0.11719558487321698,
          0.14621807113249324,
          0.16486428097577932,
          0.1730987928040004,
          0.176129662200396,
          0.1499876419118753,
          0.17835261775649888,
          0.15171994109546577,
          0.1659738128177164,
          0.1646335756783901,
          0.1689125638318773,
          0.184536987696032,
          0.13802015319647074,
          0.17259621617547688,
          0.16237925522823063,
          0.18854305664991022,
          0.16525773966397725,
          0.141681116427672,
          0.15417965644933437,
          0.140247919886697,
          0.157056627240741,
          0.17080811598351864,
          0.15314983861895193,
          0.1821674611520548,
          0.15540213105244513,
          0.190115989158785,
          0.15448403538730204,
          0.17137534142025268,
          0.18224438125426856,
          0.1612985441595272,
          0.15863404012196297,
          0.18433225808808754,
          0.177464092564209,
          0.17081476080543137,
          0.15329477772840358,
          0.1698655763362781,
          0.16334047840028273,
          0.1602204730826212,
          0.13836754352254382,
          0.1568894918734751,
          0.1641191044994129,
          0.16177941766980133,
          0.14610648441254975,
          0.15828580572213707,
          0.1733164956566793,
          0.1281665057596436,
          0.15405932086207502,
          0.16019257754794894,
          0.14791333148296704,
          0.2105838183149815,
          0.15730020865147976,
          0.18234775015012009,
          0.17990552344569988,
          0.16543673295777334,
          0.14823889549199476,
          0.19748645559766043,
          0.16520887248704402,
          0.1634773382021927,
          0.14362948643546689,
          0.17049775549864243,
          0.15351464596392586,
          0.19443956273535198,
          0.13908926563968294,
          0.1513959406934884,
          0.1845353662507938,
          0.16184462988372794,
          0.14723529408873542,
          0.17109250783283358,
          0.15952526573148154,
          0.14476613984455786,
          0.20918091056196045,
          0.1699682581267099,
          0.1864170191250324,
          0.1491849250357145,
          0.15545013140746544,
          0.15144282537813622,
          0.1457765142662728,
          0.16177992304583763,
          0.1486370773047022,
          0.16156328629328384,
          0.17980186538523352,
          0.1586116774837441,
          0.17994205347064218,
          0.17212733184647916,
          0.16519503289717247,
          0.1545946607567282,
          0.17151585454497797,
          0.16136773825525894,
          0.1626006927892941,
          0.15108552404462283,
          0.15570838010641058,
          0.16705461530990687,
          0.12672322668583388,
          0.16061070514063797,
          0.18743848526241896,
          0.14942478047559404,
          0.18460592965225325,
          0.1538504553897962,
          0.17281532203469185,
          0.1405743961514343,
          0.18146825990169752,
          0.19283082645757316,
          0.16004018134857143,
          0.15057157976963312,
          0.16747357591994777,
          0.17350610485345733,
          0.14856828135767686,
          0.15772927936295147,
          0.14490682557494214,
          0.15665763236962227,
          0.15321304173852918,
          0.1596056868304,
          0.17685821638096957,
          0.1642645671604418,
          0.1394035370057175,
          0.14539724784846558,
          0.16562254447715427,
          0.16936351063414784,
          0.15217156353434827,
          0.15982760438489257,
          0.13639784324546705,
          0.13702639651427845,
          0.17302822864718131,
          0.18012118576904698,
          0.16157774976087375,
          0.1895006660203012,
          0.1549068137929876,
          0.18241934489091863,
          0.16688746594587972,
          0.1654552187729088,
          0.1665189027161888,
          0.1616792443744159,
          0.1438093484439862,
          0.167103210831146,
          0.15498124205648187,
          0.16471597048550496,
          0.17785911617225206,
          0.162093555259002,
          0.15172886965112692,
          0.17572675014279712,
          0.1601462630737319,
          0.1492294814513257,
          0.15333984165240205,
          0.13865387154733527,
          0.14560446402652039,
          0.15088643173837468,
          0.15213035329789157,
          0.18710981651719177,
          0.171829002202202,
          0.16555911044661067,
          0.16225249687535087,
          0.16891994479471256,
          0.14174324269143013,
          0.17789619966354575,
          0.14770501750112025,
          0.1675003780010115,
          0.15656406252321958,
          0.14159357344855175,
          0.16890374208517,
          0.1628122332547034,
          0.1666084201572416,
          0.15739455092778643,
          0.16883553918628702,
          0.18634812874951384,
          0.14746501809433893,
          0.169312690113105,
          0.18795869227746387,
          0.15851672890329066,
          0.16680289785295216,
          0.1601445112132913,
          0.17778776769154636,
          0.15032143430244505,
          0.15224357874472516,
          0.16150394193386078,
          0.17879018673863487,
          0.13362712436879534,
          0.18927262276268672,
          0.14923650769692534,
          0.1691010527181767,
          0.16397568975359106,
          0.1691210390934068,
          0.17348772603653406,
          0.16857700131426562,
          0.14553576122688983,
          0.13649272260171183,
          0.14150915220471613,
          0.16937844789607198,
          0.12774210556843899,
          0.1642179620680119,
          0.17331732883876977,
          0.12355831739982341,
          0.14715207934966668,
          0.16796961877254557,
          0.15828842400086648,
          0.1715186340288581,
          0.18124573880723285,
          0.16503072094100427,
          0.17094891044357718,
          0.16096898116067623,
          0.1889006420138492,
          0.14211061126590022,
          0.13805903214043497,
          0.156360570441803,
          0.1792441099580301,
          0.16306471784330295,
          0.15399524623033484,
          0.1580382956193218,
          0.15714350490094148,
          0.15927248221318907,
          0.17578246820472201,
          0.18772836244550878,
          0.15975553803445805,
          0.18708030324062672,
          0.15648676000205297,
          0.14716432705374755,
          0.1415448582443952,
          0.158100269488714,
          0.1594567545400558,
          0.16585784478780363,
          0.16767566283581534,
          0.14540697432350128,
          0.17420487273057772,
          0.1501772185852638,
          0.1526570387236328,
          0.16239142863606074,
          0.19385938774992414,
          0.16499413482662906,
          0.1713497326425063,
          0.1754139266540341,
          0.14330369583990887,
          0.17331794999441844,
          0.1733365372580992,
          0.17116609633553323,
          0.16993042782480702,
          0.15024793373979983,
          0.1718721146833801,
          0.16609047690677473,
          0.1551849103815467,
          0.1531902273063317,
          0.16399902983434458,
          0.1943792897932317,
          0.1860115646327271,
          0.1570625931155011,
          0.16492659755316366,
          0.15597351538778917,
          0.13110842671683728,
          0.16086673825923958,
          0.17037650852728492,
          0.15564400108768747,
          0.1834521910923523,
          0.16399144853339076,
          0.16893977676183525,
          0.1849573937332644,
          0.19358246637397805,
          0.17202075809745748,
          0.16705482074800465,
          0.17785960011328206,
          0.15571476914805849,
          0.1774829502108265,
          0.17292324708383466,
          0.1418449624288213,
          0.18270612034416667,
          0.13356785867936327,
          0.1748644027271296,
          0.1599511801179784,
          0.14166071159507213,
          0.16835373626532765,
          0.17599590775721394,
          0.17022487376663528,
          0.16619684485186842,
          0.18564005937549885,
          0.16477462091460704,
          0.16149678152021485,
          0.1698976296022065,
          0.1673987346749667,
          0.15819882382827724,
          0.1922818327732065,
          0.17322838852051026,
          0.1575676455023289,
          0.14577098460381382,
          0.1662439322094592,
          0.15435768171174308
         ]
        }
       ],
       "layout": {
        "coloraxis": {
         "colorbar": {
          "title": {
           "text": "Sharpe Ratio"
          }
         }
        },
        "height": 500,
        "template": {
         "data": {
          "bar": [
           {
            "error_x": {
             "color": "#2a3f5f"
            },
            "error_y": {
             "color": "#2a3f5f"
            },
            "marker": {
             "line": {
              "color": "white",
              "width": 0.5
             }
            },
            "type": "bar"
           }
          ],
          "barpolar": [
           {
            "marker": {
             "line": {
              "color": "white",
              "width": 0.5
             }
            },
            "type": "barpolar"
           }
          ],
          "carpet": [
           {
            "aaxis": {
             "endlinecolor": "#2a3f5f",
             "gridcolor": "#C8D4E3",
             "linecolor": "#C8D4E3",
             "minorgridcolor": "#C8D4E3",
             "startlinecolor": "#2a3f5f"
            },
            "baxis": {
             "endlinecolor": "#2a3f5f",
             "gridcolor": "#C8D4E3",
             "linecolor": "#C8D4E3",
             "minorgridcolor": "#C8D4E3",
             "startlinecolor": "#2a3f5f"
            },
            "type": "carpet"
           }
          ],
          "choropleth": [
           {
            "colorbar": {
             "outlinewidth": 0,
             "ticks": ""
            },
            "type": "choropleth"
           }
          ],
          "contour": [
           {
            "colorbar": {
             "outlinewidth": 0,
             "ticks": ""
            },
            "colorscale": [
             [
              0,
              "#0d0887"
             ],
             [
              0.1111111111111111,
              "#46039f"
             ],
             [
              0.2222222222222222,
              "#7201a8"
             ],
             [
              0.3333333333333333,
              "#9c179e"
             ],
             [
              0.4444444444444444,
              "#bd3786"
             ],
             [
              0.5555555555555556,
              "#d8576b"
             ],
             [
              0.6666666666666666,
              "#ed7953"
             ],
             [
              0.7777777777777778,
              "#fb9f3a"
             ],
             [
              0.8888888888888888,
              "#fdca26"
             ],
             [
              1,
              "#f0f921"
             ]
            ],
            "type": "contour"
           }
          ],
          "contourcarpet": [
           {
            "colorbar": {
             "outlinewidth": 0,
             "ticks": ""
            },
            "type": "contourcarpet"
           }
          ],
          "heatmap": [
           {
            "colorbar": {
             "outlinewidth": 0,
             "ticks": ""
            },
            "colorscale": [
             [
              0,
              "#0d0887"
             ],
             [
              0.1111111111111111,
              "#46039f"
             ],
             [
              0.2222222222222222,
              "#7201a8"
             ],
             [
              0.3333333333333333,
              "#9c179e"
             ],
             [
              0.4444444444444444,
              "#bd3786"
             ],
             [
              0.5555555555555556,
              "#d8576b"
             ],
             [
              0.6666666666666666,
              "#ed7953"
             ],
             [
              0.7777777777777778,
              "#fb9f3a"
             ],
             [
              0.8888888888888888,
              "#fdca26"
             ],
             [
              1,
              "#f0f921"
             ]
            ],
            "type": "heatmap"
           }
          ],
          "heatmapgl": [
           {
            "colorbar": {
             "outlinewidth": 0,
             "ticks": ""
            },
            "colorscale": [
             [
              0,
              "#0d0887"
             ],
             [
              0.1111111111111111,
              "#46039f"
             ],
             [
              0.2222222222222222,
              "#7201a8"
             ],
             [
              0.3333333333333333,
              "#9c179e"
             ],
             [
              0.4444444444444444,
              "#bd3786"
             ],
             [
              0.5555555555555556,
              "#d8576b"
             ],
             [
              0.6666666666666666,
              "#ed7953"
             ],
             [
              0.7777777777777778,
              "#fb9f3a"
             ],
             [
              0.8888888888888888,
              "#fdca26"
             ],
             [
              1,
              "#f0f921"
             ]
            ],
            "type": "heatmapgl"
           }
          ],
          "histogram": [
           {
            "marker": {
             "colorbar": {
              "outlinewidth": 0,
              "ticks": ""
             }
            },
            "type": "histogram"
           }
          ],
          "histogram2d": [
           {
            "colorbar": {
             "outlinewidth": 0,
             "ticks": ""
            },
            "colorscale": [
             [
              0,
              "#0d0887"
             ],
             [
              0.1111111111111111,
              "#46039f"
             ],
             [
              0.2222222222222222,
              "#7201a8"
             ],
             [
              0.3333333333333333,
              "#9c179e"
             ],
             [
              0.4444444444444444,
              "#bd3786"
             ],
             [
              0.5555555555555556,
              "#d8576b"
             ],
             [
              0.6666666666666666,
              "#ed7953"
             ],
             [
              0.7777777777777778,
              "#fb9f3a"
             ],
             [
              0.8888888888888888,
              "#fdca26"
             ],
             [
              1,
              "#f0f921"
             ]
            ],
            "type": "histogram2d"
           }
          ],
          "histogram2dcontour": [
           {
            "colorbar": {
             "outlinewidth": 0,
             "ticks": ""
            },
            "colorscale": [
             [
              0,
              "#0d0887"
             ],
             [
              0.1111111111111111,
              "#46039f"
             ],
             [
              0.2222222222222222,
              "#7201a8"
             ],
             [
              0.3333333333333333,
              "#9c179e"
             ],
             [
              0.4444444444444444,
              "#bd3786"
             ],
             [
              0.5555555555555556,
              "#d8576b"
             ],
             [
              0.6666666666666666,
              "#ed7953"
             ],
             [
              0.7777777777777778,
              "#fb9f3a"
             ],
             [
              0.8888888888888888,
              "#fdca26"
             ],
             [
              1,
              "#f0f921"
             ]
            ],
            "type": "histogram2dcontour"
           }
          ],
          "mesh3d": [
           {
            "colorbar": {
             "outlinewidth": 0,
             "ticks": ""
            },
            "type": "mesh3d"
           }
          ],
          "parcoords": [
           {
            "line": {
             "colorbar": {
              "outlinewidth": 0,
              "ticks": ""
             }
            },
            "type": "parcoords"
           }
          ],
          "pie": [
           {
            "automargin": true,
            "type": "pie"
           }
          ],
          "scatter": [
           {
            "marker": {
             "colorbar": {
              "outlinewidth": 0,
              "ticks": ""
             }
            },
            "type": "scatter"
           }
          ],
          "scatter3d": [
           {
            "line": {
             "colorbar": {
              "outlinewidth": 0,
              "ticks": ""
             }
            },
            "marker": {
             "colorbar": {
              "outlinewidth": 0,
              "ticks": ""
             }
            },
            "type": "scatter3d"
           }
          ],
          "scattercarpet": [
           {
            "marker": {
             "colorbar": {
              "outlinewidth": 0,
              "ticks": ""
             }
            },
            "type": "scattercarpet"
           }
          ],
          "scattergeo": [
           {
            "marker": {
             "colorbar": {
              "outlinewidth": 0,
              "ticks": ""
             }
            },
            "type": "scattergeo"
           }
          ],
          "scattergl": [
           {
            "marker": {
             "colorbar": {
              "outlinewidth": 0,
              "ticks": ""
             }
            },
            "type": "scattergl"
           }
          ],
          "scattermapbox": [
           {
            "marker": {
             "colorbar": {
              "outlinewidth": 0,
              "ticks": ""
             }
            },
            "type": "scattermapbox"
           }
          ],
          "scatterpolar": [
           {
            "marker": {
             "colorbar": {
              "outlinewidth": 0,
              "ticks": ""
             }
            },
            "type": "scatterpolar"
           }
          ],
          "scatterpolargl": [
           {
            "marker": {
             "colorbar": {
              "outlinewidth": 0,
              "ticks": ""
             }
            },
            "type": "scatterpolargl"
           }
          ],
          "scatterternary": [
           {
            "marker": {
             "colorbar": {
              "outlinewidth": 0,
              "ticks": ""
             }
            },
            "type": "scatterternary"
           }
          ],
          "surface": [
           {
            "colorbar": {
             "outlinewidth": 0,
             "ticks": ""
            },
            "colorscale": [
             [
              0,
              "#0d0887"
             ],
             [
              0.1111111111111111,
              "#46039f"
             ],
             [
              0.2222222222222222,
              "#7201a8"
             ],
             [
              0.3333333333333333,
              "#9c179e"
             ],
             [
              0.4444444444444444,
              "#bd3786"
             ],
             [
              0.5555555555555556,
              "#d8576b"
             ],
             [
              0.6666666666666666,
              "#ed7953"
             ],
             [
              0.7777777777777778,
              "#fb9f3a"
             ],
             [
              0.8888888888888888,
              "#fdca26"
             ],
             [
              1,
              "#f0f921"
             ]
            ],
            "type": "surface"
           }
          ],
          "table": [
           {
            "cells": {
             "fill": {
              "color": "#EBF0F8"
             },
             "line": {
              "color": "white"
             }
            },
            "header": {
             "fill": {
              "color": "#C8D4E3"
             },
             "line": {
              "color": "white"
             }
            },
            "type": "table"
           }
          ]
         },
         "layout": {
          "annotationdefaults": {
           "arrowcolor": "#2a3f5f",
           "arrowhead": 0,
           "arrowwidth": 1
          },
          "autotypenumbers": "strict",
          "coloraxis": {
           "colorbar": {
            "outlinewidth": 0,
            "ticks": ""
           }
          },
          "colorscale": {
           "diverging": [
            [
             0,
             "#8e0152"
            ],
            [
             0.1,
             "#c51b7d"
            ],
            [
             0.2,
             "#de77ae"
            ],
            [
             0.3,
             "#f1b6da"
            ],
            [
             0.4,
             "#fde0ef"
            ],
            [
             0.5,
             "#f7f7f7"
            ],
            [
             0.6,
             "#e6f5d0"
            ],
            [
             0.7,
             "#b8e186"
            ],
            [
             0.8,
             "#7fbc41"
            ],
            [
             0.9,
             "#4d9221"
            ],
            [
             1,
             "#276419"
            ]
           ],
           "sequential": [
            [
             0,
             "#0d0887"
            ],
            [
             0.1111111111111111,
             "#46039f"
            ],
            [
             0.2222222222222222,
             "#7201a8"
            ],
            [
             0.3333333333333333,
             "#9c179e"
            ],
            [
             0.4444444444444444,
             "#bd3786"
            ],
            [
             0.5555555555555556,
             "#d8576b"
            ],
            [
             0.6666666666666666,
             "#ed7953"
            ],
            [
             0.7777777777777778,
             "#fb9f3a"
            ],
            [
             0.8888888888888888,
             "#fdca26"
            ],
            [
             1,
             "#f0f921"
            ]
           ],
           "sequentialminus": [
            [
             0,
             "#0d0887"
            ],
            [
             0.1111111111111111,
             "#46039f"
            ],
            [
             0.2222222222222222,
             "#7201a8"
            ],
            [
             0.3333333333333333,
             "#9c179e"
            ],
            [
             0.4444444444444444,
             "#bd3786"
            ],
            [
             0.5555555555555556,
             "#d8576b"
            ],
            [
             0.6666666666666666,
             "#ed7953"
            ],
            [
             0.7777777777777778,
             "#fb9f3a"
            ],
            [
             0.8888888888888888,
             "#fdca26"
            ],
            [
             1,
             "#f0f921"
            ]
           ]
          },
          "colorway": [
           "#636efa",
           "#EF553B",
           "#00cc96",
           "#ab63fa",
           "#FFA15A",
           "#19d3f3",
           "#FF6692",
           "#B6E880",
           "#FF97FF",
           "#FECB52"
          ],
          "font": {
           "color": "#2a3f5f"
          },
          "geo": {
           "bgcolor": "white",
           "lakecolor": "white",
           "landcolor": "white",
           "showlakes": true,
           "showland": true,
           "subunitcolor": "#C8D4E3"
          },
          "hoverlabel": {
           "align": "left"
          },
          "hovermode": "closest",
          "mapbox": {
           "style": "light"
          },
          "paper_bgcolor": "white",
          "plot_bgcolor": "white",
          "polar": {
           "angularaxis": {
            "gridcolor": "#EBF0F8",
            "linecolor": "#EBF0F8",
            "ticks": ""
           },
           "bgcolor": "white",
           "radialaxis": {
            "gridcolor": "#EBF0F8",
            "linecolor": "#EBF0F8",
            "ticks": ""
           }
          },
          "scene": {
           "xaxis": {
            "backgroundcolor": "white",
            "gridcolor": "#DFE8F3",
            "gridwidth": 2,
            "linecolor": "#EBF0F8",
            "showbackground": true,
            "ticks": "",
            "zerolinecolor": "#EBF0F8"
           },
           "yaxis": {
            "backgroundcolor": "white",
            "gridcolor": "#DFE8F3",
            "gridwidth": 2,
            "linecolor": "#EBF0F8",
            "showbackground": true,
            "ticks": "",
            "zerolinecolor": "#EBF0F8"
           },
           "zaxis": {
            "backgroundcolor": "white",
            "gridcolor": "#DFE8F3",
            "gridwidth": 2,
            "linecolor": "#EBF0F8",
            "showbackground": true,
            "ticks": "",
            "zerolinecolor": "#EBF0F8"
           }
          },
          "shapedefaults": {
           "line": {
            "color": "#2a3f5f"
           }
          },
          "ternary": {
           "aaxis": {
            "gridcolor": "#DFE8F3",
            "linecolor": "#A2B1C6",
            "ticks": ""
           },
           "baxis": {
            "gridcolor": "#DFE8F3",
            "linecolor": "#A2B1C6",
            "ticks": ""
           },
           "bgcolor": "white",
           "caxis": {
            "gridcolor": "#DFE8F3",
            "linecolor": "#A2B1C6",
            "ticks": ""
           }
          },
          "title": {
           "x": 0.05
          },
          "xaxis": {
           "automargin": true,
           "gridcolor": "#EBF0F8",
           "linecolor": "#EBF0F8",
           "ticks": "",
           "title": {
            "standoff": 15
           },
           "zerolinecolor": "#EBF0F8",
           "zerolinewidth": 2
          },
          "yaxis": {
           "automargin": true,
           "gridcolor": "#EBF0F8",
           "linecolor": "#EBF0F8",
           "ticks": "",
           "title": {
            "standoff": 15
           },
           "zerolinecolor": "#EBF0F8",
           "zerolinewidth": 2
          }
         }
        },
        "title": {
         "text": "Sample of Random Portfolios"
        },
        "width": 850,
        "xaxis": {
         "range": [
          0.18,
          0.32
         ],
         "title": {
          "text": "Annualised Risk (Volatility)"
         }
        },
        "yaxis": {
         "range": [
          0.02,
          0.27
         ],
         "title": {
          "text": "Annualised Return"
         }
        }
       }
      }
     },
     "metadata": {},
     "output_type": "display_data"
    }
   ],
   "source": [
    "#-- Plot the risk vs. return of randomly generated portfolios\n",
    "#-- Convert the list from before into an array for easy plotting\n",
    "mean_variance_pairs = np.array(mean_variance_pairs)\n",
    "\n",
    "risk_free_rate=0 #-- Include risk free rate here\n",
    "\n",
    "fig = go.Figure()\n",
    "fig.add_trace(go.Scatter(x=mean_variance_pairs[:,1]**0.5, y=mean_variance_pairs[:,0], \n",
    "                      marker=dict(color=(mean_variance_pairs[:,0]-risk_free_rate)/(mean_variance_pairs[:,1]**0.5), \n",
    "                                  showscale=True, \n",
    "                                  size=7,\n",
    "                                  line=dict(width=1),\n",
    "                                  colorscale=\"RdBu\",\n",
    "                                  colorbar=dict(title=\"Sharpe<br>Ratio\")\n",
    "                                 ), \n",
    "                      mode='markers'))\n",
    "fig.update_layout(template='plotly_white',\n",
    "                  xaxis=dict(title='Annualised Risk (Volatility)'),\n",
    "                  yaxis=dict(title='Annualised Return'),\n",
    "                  title='Sample of Random Portfolios',\n",
    "                  width=850,\n",
    "                  height=500)\n",
    "fig.update_xaxes(range=[0.18, 0.32])\n",
    "fig.update_yaxes(range=[0.02,0.27])\n",
    "fig.update_layout(coloraxis_colorbar=dict(title=\"Sharpe Ratio\"))"
   ]
  },
  {
   "cell_type": "code",
   "execution_count": 18,
   "metadata": {},
   "outputs": [
    {
     "name": "stderr",
     "output_type": "stream",
     "text": [
      "100%|██████████| 10000/10000 [00:08<00:00, 1146.35it/s]\n"
     ]
    }
   ],
   "source": [
    "#-- Create random portfolio weights and indexes\n",
    "#- How many assests in the portfolio\n",
    "n_assets = 5\n",
    "\n",
    "mean_variance_pairs = []\n",
    "weights_list=[]\n",
    "tickers_list=[]\n",
    "\n",
    "for i in tqdm(range(10000)):\n",
    "    next_i = False\n",
    "    while True:\n",
    "        #- Choose assets randomly without replacement\n",
    "        assets = np.random.choice(list(daily_returns.columns), n_assets, replace=False)\n",
    "        #- Choose weights randomly ensuring they sum to one\n",
    "        weights = np.random.rand(n_assets)\n",
    "        weights = weights/sum(weights)\n",
    "\n",
    "        #-- Loop over asset pairs and compute portfolio return and variance\n",
    "        portfolio_E_Variance = 0\n",
    "        portfolio_E_Return = 0\n",
    "        for i in range(len(assets)):\n",
    "            portfolio_E_Return += weights[i] * mus.loc[assets[i]]\n",
    "            for j in range(len(assets)):\n",
    "                portfolio_E_Variance += weights[i] * weights[j] * cov.loc[assets[i], assets[j]]\n",
    "\n",
    "        #-- Skip over dominated portfolios\n",
    "        for R,V in mean_variance_pairs:\n",
    "            if (R > portfolio_E_Return) & (V < portfolio_E_Variance):\n",
    "                next_i = True\n",
    "                break\n",
    "        if next_i:\n",
    "            break\n",
    "\n",
    "        #-- Add the mean/variance pairs to a list for plotting\n",
    "        mean_variance_pairs.append([portfolio_E_Return, portfolio_E_Variance])\n",
    "        weights_list.append(weights)\n",
    "        tickers_list.append(assets)\n",
    "        break"
   ]
  },
  {
   "cell_type": "code",
   "execution_count": 19,
   "metadata": {},
   "outputs": [
    {
     "data": {
      "application/vnd.plotly.v1+json": {
       "config": {
        "plotlyServerURL": "https://plot.ly"
       },
       "data": [
        {
         "marker": {
          "color": [
           0.7482969485976395,
           0.7657460337873173,
           0.7428660598519823,
           0.8268043719843018,
           0.7418572487129471,
           0.8124464036294615,
           0.8384206845514626,
           0.8445518467737013,
           0.797722762071791,
           0.8702083920744857,
           0.831962960170483,
           0.7972422653043245,
           0.6490870392443947,
           0.8860327267935237,
           0.7745807016985264,
           0.8479926775401413,
           0.7127667262201753,
           0.7833848252059133,
           0.8281113159922809,
           0.8695042926838493,
           0.7639236268861253,
           0.69220060588975,
           0.8688575665684282,
           0.8570635379817605,
           0.8241714943632279,
           0.798765894777034,
           0.8660267849841353,
           0.8325977903997712,
           0.8399850007612926,
           0.8616702406001739,
           0.8686622502133161,
           0.8065142686714823,
           0.7155284720737228,
           0.8654767415500374,
           0.8769970063141088,
           0.8599180996892158,
           0.7637048174457434,
           0.8780929677839792,
           0.7223738666056756,
           0.8503286421345472,
           0.8243436608719729,
           0.893079087618164,
           0.8755668997401771,
           0.8325928362077727,
           0.8217051253209308,
           0.8197291084995306,
           0.8424733757794166,
           0.8781938810752136,
           0.8623495150186253,
           0.7353569269061527,
           0.7653411091613932,
           0.6178018875495023,
           0.7677665825132853,
           0.8757118092436137,
           0.8989874832673886,
           0.7315006732437306,
           0.7344265214848481,
           0.8617231246337543,
           0.7588876141537713,
           0.7956434598660534,
           0.8638738115086517,
           0.8155225077215327,
           0.7781813901932811,
           0.8966277984750917,
           0.7113801883084433,
           0.8722978126023451,
           0.8513491161081489,
           0.7948752584512043,
           0.7763356516927857,
           0.8675249513951112,
           0.8761972310286384,
           0.8521602057525037,
           0.6647355947014766,
           0.8905666779858858,
           0.8755925102280337,
           0.8656596678027134,
           0.8501504255060275,
           0.7843048212783092,
           0.7267098232761146,
           0.8810257657811478,
           0.7852390986537539,
           0.753100848717772,
           0.7966775123091313,
           0.7978825930999816,
           0.8016997702618627,
           0.8524410203301815,
           0.829827079149111,
           0.8229049589556038,
           0.8837326102319727,
           0.8708451710095175,
           0.8700496536675376,
           0.8608218161446074,
           0.8786349384607454,
           0.7342369745487096,
           0.8663096580594204,
           0.8230267348835257,
           0.6753544942466468,
           0.876149939252457,
           0.8429423565850265,
           0.8384627668046464,
           0.815857330393864,
           0.7363145974704435,
           0.8618465335150535,
           0.8834546200120337,
           0.753873249561272,
           0.6858053124002466,
           0.8497028383894095,
           0.8810689535688008,
           0.6984629592290744,
           0.7926394079694928,
           0.7848664487280241,
           0.847991242756155,
           0.8183180363801901,
           0.8781971821946937,
           0.7786211978230251,
           0.8177279477296735,
           0.8056993475062066,
           0.859864004587861,
           0.8640321944990522,
           0.7820805965578109,
           0.685599854020355,
           0.8791477197594754,
           0.697194458700637,
           0.8917850383617991,
           0.8844610449588158,
           0.8897617227360585,
           0.6964438595011934,
           0.859896173483899,
           0.846199555654695,
           0.815924418399751,
           0.8619405919315484,
           0.8161076404555277,
           0.8813113266295214,
           0.8641959588390622,
           0.8903480150252291,
           0.8347683754115426,
           0.8178247095530036,
           0.8765996253723973,
           0.821861839930648,
           0.8463485207237514,
           0.8765554403158384,
           0.8120550203969238,
           0.7533759024405641,
           0.857118091317147,
           0.7980549936800555,
           0.7058198168673674,
           0.8227442357671223,
           0.799652680457435,
           0.8745389430338648,
           0.711783376819484,
           0.6450651632016183,
           0.8761297729133424,
           0.8672737974778866,
           0.8261477967838543,
           0.8881866648445774,
           0.7862273547847176,
           0.8618320582537657,
           0.8807419467922665,
           0.8228682910540321,
           0.7996385518860792,
           0.8774452054276829,
           0.8772293472612287,
           0.867035474983864,
           0.8821555082428555,
           0.8917412602457833,
           0.900686631919728,
           0.8310124557516745,
           0.8104593496105819,
           0.8867591301641006,
           0.7081181667261569,
           0.8204904510655853,
           0.8651816323725825,
           0.826168179430433,
           0.8482688727251014,
           0.747382759633239,
           0.8949196819906448,
           0.8667096589813602,
           0.8779894249836552,
           0.841343635007591,
           0.7528495688376491,
           0.8573682642557976,
           0.8952870336205326,
           0.7126230596506391,
           0.7569732006617564,
           0.8893252990178779,
           0.8435521615860825,
           0.8987315231753668,
           0.8928769004950239,
           0.8695958729983211,
           0.8123240361792684,
           0.8998930869616008,
           0.6653384331311372,
           0.7976799652701443,
           0.7741145919781869,
           0.8615208660889624,
           0.8241490127373224,
           0.9022174955502372,
           0.86367561945202,
           0.8848271359076725,
           0.8492634225803833,
           0.7718634634940249,
           0.7888563712065189,
           0.8922883603130928,
           0.6745020881601531,
           0.8005018531504049,
           0.8408241637620253,
           0.8245591488507049,
           0.8958992608856353,
           0.8820224232001015,
           0.8717818718459249,
           0.8636477362713226,
           0.8360602212121093,
           0.6986704772990986,
           0.7304272113429614,
           0.7895834364040688,
           0.8634407244070937,
           0.8919930963073283,
           0.7578404667117479,
           0.8962129590399388,
           0.8444532998118452,
           0.7716590217467464,
           0.8962860713237365,
           0.7890118595174972,
           0.8505784876462962,
           0.8887439492476181,
           0.8801498190120436,
           0.8463587995176424,
           0.8792197378352223,
           0.7964891218817334,
           0.8795832755608282,
           0.898331484032195
          ],
          "colorbar": {
           "title": {
            "text": "Sharpe<br>Ratio"
           }
          },
          "colorscale": [
           [
            0,
            "rgb(103,0,31)"
           ],
           [
            0.1,
            "rgb(178,24,43)"
           ],
           [
            0.2,
            "rgb(214,96,77)"
           ],
           [
            0.3,
            "rgb(244,165,130)"
           ],
           [
            0.4,
            "rgb(253,219,199)"
           ],
           [
            0.5,
            "rgb(247,247,247)"
           ],
           [
            0.6,
            "rgb(209,229,240)"
           ],
           [
            0.7,
            "rgb(146,197,222)"
           ],
           [
            0.8,
            "rgb(67,147,195)"
           ],
           [
            0.9,
            "rgb(33,102,172)"
           ],
           [
            1,
            "rgb(5,48,97)"
           ]
          ],
          "line": {
           "width": 1
          },
          "showscale": true,
          "size": 7
         },
         "mode": "markers",
         "text": [
          "['AAPL' 'GOOGL' 'MSFT' 'JPM' 'WMT']<br>[0.17 0.26 0.06 0.24 0.26]",
          "['WMT' 'JPM' 'GOOGL' 'MSFT' 'AAPL']<br>[0.28 0.32 0.11 0.22 0.06]",
          "['TGT' 'MSFT' 'AAPL' 'GOOGL' 'WMT']<br>[0.32 0.22 0.09 0.36 0.01]",
          "['AAPL' 'GOOGL' 'MSFT' 'JPM' 'WMT']<br>[0.28 0.26 0.21 0.03 0.22]",
          "['AAPL' 'MSFT' 'WMT' 'TGT' 'JPM']<br>[0.13 0.17 0.34 0.23 0.13]",
          "['AAPL' 'GOOGL' 'MSFT' 'JPM' 'WMT']<br>[0.31 0.13 0.14 0.23 0.2 ]",
          "['AAPL' 'TGT' 'MSFT' 'GOOGL' 'WMT']<br>[0.28 0.21 0.27 0.11 0.13]",
          "['GOOGL' 'TGT' 'MSFT' 'AAPL' 'JPM']<br>[0.22 0.02 0.46 0.14 0.17]",
          "['AAPL' 'MSFT' 'JPM' 'TGT' 'GOOGL']<br>[0.23 0.2  0.05 0.17 0.34]",
          "['GOOGL' 'TGT' 'AAPL' 'JPM' 'MSFT']<br>[0.08 0.08 0.38 0.12 0.34]",
          "['TGT' 'JPM' 'MSFT' 'WMT' 'GOOGL']<br>[0.25 0.05 0.54 0.04 0.12]",
          "['AAPL' 'JPM' 'GOOGL' 'WMT' 'MSFT']<br>[0.1  0.24 0.21 0.2  0.24]",
          "['WMT' 'JPM' 'GOOGL' 'TGT' 'MSFT']<br>[0.34 0.36 0.08 0.15 0.08]",
          "['WMT' 'TGT' 'MSFT' 'AAPL' 'JPM']<br>[0.17 0.13 0.53 0.16 0.01]",
          "['WMT' 'MSFT' 'AAPL' 'GOOGL' 'JPM']<br>[0.28 0.09 0.28 0.05 0.31]",
          "['TGT' 'JPM' 'WMT' 'MSFT' 'AAPL']<br>[0.   0.19 0.29 0.31 0.21]",
          "['WMT' 'JPM' 'MSFT' 'AAPL' 'TGT']<br>[0.36 0.29 0.14 0.08 0.13]",
          "['TGT' 'JPM' 'WMT' 'MSFT' 'AAPL']<br>[0.   0.35 0.28 0.27 0.1 ]",
          "['MSFT' 'WMT' 'AAPL' 'JPM' 'GOOGL']<br>[0.39 0.21 0.08 0.29 0.03]",
          "['WMT' 'AAPL' 'MSFT' 'GOOGL' 'JPM']<br>[0.22 0.22 0.38 0.1  0.08]",
          "['TGT' 'MSFT' 'GOOGL' 'WMT' 'JPM']<br>[0.16 0.33 0.02 0.41 0.08]",
          "['WMT' 'TGT' 'JPM' 'GOOGL' 'AAPL']<br>[0.34 0.13 0.23 0.17 0.12]",
          "['WMT' 'AAPL' 'MSFT' 'TGT' 'GOOGL']<br>[0.07 0.33 0.35 0.12 0.12]",
          "['GOOGL' 'JPM' 'TGT' 'AAPL' 'MSFT']<br>[0.05 0.15 0.01 0.52 0.28]",
          "['WMT' 'JPM' 'AAPL' 'MSFT' 'GOOGL']<br>[0.27 0.03 0.28 0.2  0.23]",
          "['JPM' 'WMT' 'AAPL' 'MSFT' 'GOOGL']<br>[0.21 0.25 0.15 0.19 0.19]",
          "['JPM' 'TGT' 'WMT' 'GOOGL' 'MSFT']<br>[0.08 0.01 0.12 0.11 0.67]",
          "['MSFT' 'JPM' 'GOOGL' 'AAPL' 'WMT']<br>[0.2  0.24 0.07 0.33 0.16]",
          "['TGT' 'AAPL' 'WMT' 'GOOGL' 'MSFT']<br>[0.04 0.23 0.28 0.17 0.27]",
          "['GOOGL' 'MSFT' 'WMT' 'JPM' 'AAPL']<br>[0.02 0.27 0.23 0.15 0.33]",
          "['AAPL' 'TGT' 'WMT' 'MSFT' 'GOOGL']<br>[0.29 0.1  0.16 0.34 0.1 ]",
          "['AAPL' 'WMT' 'JPM' 'GOOGL' 'MSFT']<br>[0.3  0.38 0.07 0.12 0.13]",
          "['AAPL' 'TGT' 'GOOGL' 'WMT' 'JPM']<br>[0.21 0.16 0.17 0.37 0.09]",
          "['GOOGL' 'MSFT' 'AAPL' 'TGT' 'WMT']<br>[0.09 0.34 0.25 0.09 0.23]",
          "['AAPL' 'MSFT' 'GOOGL' 'TGT' 'WMT']<br>[0.26 0.39 0.05 0.1  0.2 ]",
          "['AAPL' 'TGT' 'JPM' 'WMT' 'MSFT']<br>[0.15 0.02 0.06 0.36 0.42]",
          "['WMT' 'TGT' 'MSFT' 'JPM' 'GOOGL']<br>[0.37 0.14 0.27 0.05 0.17]",
          "['WMT' 'GOOGL' 'AAPL' 'TGT' 'MSFT']<br>[0.02 0.16 0.21 0.   0.61]",
          "['WMT' 'GOOGL' 'AAPL' 'JPM' 'TGT']<br>[0.31 0.29 0.16 0.14 0.09]",
          "['GOOGL' 'WMT' 'MSFT' 'TGT' 'AAPL']<br>[0.16 0.03 0.33 0.19 0.29]",
          "['MSFT' 'TGT' 'AAPL' 'JPM' 'WMT']<br>[0.3  0.   0.14 0.25 0.3 ]",
          "['JPM' 'AAPL' 'WMT' 'MSFT' 'GOOGL']<br>[0.07 0.31 0.08 0.49 0.05]",
          "['TGT' 'AAPL' 'MSFT' 'WMT' 'JPM']<br>[0.12 0.12 0.51 0.1  0.16]",
          "['TGT' 'GOOGL' 'WMT' 'AAPL' 'MSFT']<br>[0.03 0.2  0.27 0.29 0.22]",
          "['TGT' 'WMT' 'JPM' 'AAPL' 'MSFT']<br>[0.11 0.25 0.21 0.22 0.22]",
          "['WMT' 'MSFT' 'TGT' 'GOOGL' 'AAPL']<br>[0.43 0.3  0.02 0.08 0.17]",
          "['JPM' 'MSFT' 'GOOGL' 'AAPL' 'WMT']<br>[0.07 0.36 0.17 0.12 0.27]",
          "['TGT' 'MSFT' 'AAPL' 'WMT' 'JPM']<br>[0.09 0.47 0.17 0.26 0.01]",
          "['GOOGL' 'WMT' 'MSFT' 'AAPL' 'JPM']<br>[0.03 0.25 0.41 0.14 0.17]",
          "['AAPL' 'WMT' 'MSFT' 'TGT' 'GOOGL']<br>[0.03 0.42 0.22 0.15 0.17]",
          "['AAPL' 'MSFT' 'JPM' 'TGT' 'WMT']<br>[0.11 0.2  0.3  0.1  0.3 ]",
          "['TGT' 'JPM' 'WMT' 'GOOGL' 'MSFT']<br>[0.13 0.29 0.49 0.01 0.08]",
          "['GOOGL' 'JPM' 'WMT' 'AAPL' 'MSFT']<br>[0.29 0.09 0.36 0.02 0.25]",
          "['MSFT' 'AAPL' 'TGT' 'WMT' 'JPM']<br>[0.35 0.27 0.05 0.25 0.07]",
          "['GOOGL' 'AAPL' 'WMT' 'JPM' 'MSFT']<br>[0.05 0.31 0.03 0.01 0.61]",
          "['MSFT' 'JPM' 'AAPL' 'WMT' 'GOOGL']<br>[0.06 0.25 0.13 0.33 0.24]",
          "['JPM' 'WMT' 'TGT' 'MSFT' 'AAPL']<br>[0.22 0.32 0.2  0.18 0.08]",
          "['AAPL' 'TGT' 'WMT' 'MSFT' 'JPM']<br>[0.06 0.09 0.29 0.51 0.04]",
          "['JPM' 'WMT' 'TGT' 'MSFT' 'GOOGL']<br>[0.07 0.29 0.14 0.24 0.26]",
          "['TGT' 'WMT' 'JPM' 'MSFT' 'AAPL']<br>[0.19 0.31 0.12 0.31 0.07]",
          "['MSFT' 'JPM' 'TGT' 'GOOGL' 'AAPL']<br>[0.43 0.22 0.13 0.01 0.21]",
          "['GOOGL' 'AAPL' 'WMT' 'JPM' 'MSFT']<br>[0.13 0.17 0.33 0.15 0.22]",
          "['MSFT' 'TGT' 'GOOGL' 'WMT' 'AAPL']<br>[0.2  0.13 0.04 0.43 0.2 ]",
          "['JPM' 'GOOGL' 'WMT' 'AAPL' 'MSFT']<br>[0.08 0.01 0.01 0.37 0.53]",
          "['GOOGL' 'WMT' 'JPM' 'AAPL' 'TGT']<br>[0.13 0.33 0.23 0.18 0.13]",
          "['AAPL' 'MSFT' 'JPM' 'TGT' 'WMT']<br>[0.38 0.37 0.01 0.21 0.04]",
          "['MSFT' 'JPM' 'WMT' 'GOOGL' 'AAPL']<br>[0.36 0.09 0.28 0.12 0.15]",
          "['JPM' 'AAPL' 'WMT' 'MSFT' 'GOOGL']<br>[0.12 0.16 0.39 0.19 0.15]",
          "['JPM' 'GOOGL' 'MSFT' 'WMT' 'AAPL']<br>[0.26 0.04 0.25 0.38 0.07]",
          "['MSFT' 'GOOGL' 'WMT' 'AAPL' 'JPM']<br>[0.32 0.02 0.27 0.28 0.11]",
          "['JPM' 'AAPL' 'TGT' 'MSFT' 'GOOGL']<br>[0.15 0.28 0.08 0.43 0.06]",
          "['WMT' 'MSFT' 'TGT' 'JPM' 'AAPL']<br>[0.37 0.3  0.02 0.01 0.3 ]",
          "['MSFT' 'TGT' 'GOOGL' 'JPM' 'WMT']<br>[0.07 0.16 0.18 0.22 0.37]",
          "['TGT' 'MSFT' 'JPM' 'AAPL' 'WMT']<br>[0.11 0.47 0.08 0.23 0.11]",
          "['MSFT' 'TGT' 'WMT' 'GOOGL' 'AAPL']<br>[0.37 0.17 0.03 0.02 0.41]",
          "['WMT' 'JPM' 'AAPL' 'MSFT' 'GOOGL']<br>[0.1  0.06 0.37 0.32 0.14]",
          "['JPM' 'TGT' 'MSFT' 'AAPL' 'WMT']<br>[0.11 0.11 0.35 0.15 0.27]",
          "['JPM' 'TGT' 'WMT' 'GOOGL' 'MSFT']<br>[0.16 0.11 0.36 0.03 0.33]",
          "['MSFT' 'AAPL' 'TGT' 'JPM' 'WMT']<br>[0.11 0.15 0.11 0.22 0.42]",
          "['JPM' 'AAPL' 'GOOGL' 'MSFT' 'WMT']<br>[0.11 0.25 0.05 0.4  0.19]",
          "['AAPL' 'MSFT' 'GOOGL' 'WMT' 'TGT']<br>[0.06 0.31 0.12 0.47 0.03]",
          "['TGT' 'JPM' 'GOOGL' 'WMT' 'MSFT']<br>[0.03 0.1  0.21 0.42 0.24]",
          "['MSFT' 'GOOGL' 'JPM' 'WMT' 'AAPL']<br>[0.14 0.1  0.18 0.35 0.22]",
          "['TGT' 'AAPL' 'MSFT' 'WMT' 'GOOGL']<br>[0.09 0.2  0.2  0.39 0.12]",
          "['AAPL' 'TGT' 'JPM' 'MSFT' 'WMT']<br>[0.13 0.13 0.02 0.31 0.41]",
          "['MSFT' 'WMT' 'JPM' 'AAPL' 'TGT']<br>[0.28 0.25 0.07 0.28 0.13]",
          "['TGT' 'MSFT' 'AAPL' 'WMT' 'JPM']<br>[0.09 0.24 0.22 0.26 0.19]",
          "['WMT' 'JPM' 'TGT' 'AAPL' 'MSFT']<br>[0.26 0.21 0.11 0.15 0.28]",
          "['GOOGL' 'MSFT' 'WMT' 'JPM' 'AAPL']<br>[0.05 0.39 0.09 0.06 0.41]",
          "['WMT' 'TGT' 'MSFT' 'AAPL' 'JPM']<br>[0.02 0.03 0.39 0.33 0.23]",
          "['MSFT' 'GOOGL' 'WMT' 'TGT' 'AAPL']<br>[0.38 0.07 0.06 0.18 0.3 ]",
          "['AAPL' 'MSFT' 'WMT' 'JPM' 'TGT']<br>[0.17 0.37 0.21 0.14 0.12]",
          "['AAPL' 'JPM' 'WMT' 'TGT' 'MSFT']<br>[0.4  0.14 0.11 0.02 0.34]",
          "['JPM' 'WMT' 'GOOGL' 'TGT' 'AAPL']<br>[0.18 0.38 0.12 0.07 0.24]",
          "['JPM' 'AAPL' 'TGT' 'MSFT' 'WMT']<br>[0.15 0.27 0.04 0.32 0.23]",
          "['WMT' 'JPM' 'AAPL' 'GOOGL' 'MSFT']<br>[0.37 0.12 0.07 0.09 0.35]",
          "['AAPL' 'GOOGL' 'MSFT' 'WMT' 'JPM']<br>[0.07 0.11 0.07 0.52 0.23]",
          "['WMT' 'AAPL' 'JPM' 'MSFT' 'TGT']<br>[0.28 0.07 0.08 0.56 0.02]",
          "['JPM' 'AAPL' 'MSFT' 'WMT' 'TGT']<br>[0.07 0.15 0.35 0.34 0.09]",
          "['JPM' 'MSFT' 'AAPL' 'TGT' 'WMT']<br>[0.19 0.37 0.1  0.06 0.29]",
          "['JPM' 'WMT' 'AAPL' 'TGT' 'MSFT']<br>[0.16 0.31 0.08 0.12 0.33]",
          "['AAPL' 'GOOGL' 'MSFT' 'JPM' 'WMT']<br>[0.21 0.07 0.08 0.13 0.51]",
          "['AAPL' 'WMT' 'GOOGL' 'MSFT' 'JPM']<br>[0.21 0.33 0.01 0.36 0.1 ]",
          "['MSFT' 'GOOGL' 'AAPL' 'TGT' 'WMT']<br>[0.47 0.11 0.24 0.05 0.12]",
          "['JPM' 'AAPL' 'WMT' 'MSFT' 'TGT']<br>[0.08 0.16 0.43 0.18 0.16]",
          "['TGT' 'JPM' 'MSFT' 'WMT' 'GOOGL']<br>[0.11 0.13 0.09 0.42 0.26]",
          "['WMT' 'TGT' 'JPM' 'MSFT' 'AAPL']<br>[0.29 0.09 0.1  0.3  0.22]",
          "['WMT' 'AAPL' 'TGT' 'GOOGL' 'MSFT']<br>[0.08 0.29 0.17 0.04 0.43]",
          "['TGT' 'WMT' 'AAPL' 'JPM' 'MSFT']<br>[0.05 0.57 0.09 0.14 0.15]",
          "['GOOGL' 'AAPL' 'WMT' 'JPM' 'MSFT']<br>[0.14 0.23 0.38 0.12 0.13]",
          "['GOOGL' 'WMT' 'JPM' 'MSFT' 'TGT']<br>[0.11 0.39 0.12 0.32 0.07]",
          "['WMT' 'GOOGL' 'AAPL' 'JPM' 'MSFT']<br>[0.33 0.04 0.2  0.12 0.31]",
          "['AAPL' 'MSFT' 'WMT' 'GOOGL' 'JPM']<br>[0.15 0.34 0.47 0.03 0.01]",
          "['JPM' 'TGT' 'MSFT' 'WMT' 'AAPL']<br>[0.11 0.11 0.38 0.14 0.26]",
          "['WMT' 'JPM' 'GOOGL' 'MSFT' 'AAPL']<br>[0.45 0.14 0.08 0.23 0.1 ]",
          "['JPM' 'MSFT' 'AAPL' 'WMT' 'GOOGL']<br>[0.12 0.22 0.24 0.41 0.01]",
          "['JPM' 'WMT' 'GOOGL' 'MSFT' 'AAPL']<br>[0.22 0.35 0.02 0.2  0.21]",
          "['TGT' 'WMT' 'JPM' 'AAPL' 'MSFT']<br>[0.09 0.29 0.07 0.16 0.39]",
          "['MSFT' 'JPM' 'WMT' 'GOOGL' 'AAPL']<br>[0.36 0.08 0.33 0.01 0.21]",
          "['JPM' 'WMT' 'TGT' 'AAPL' 'MSFT']<br>[0.17 0.39 0.09 0.14 0.21]",
          "['JPM' 'AAPL' 'WMT' 'MSFT' 'TGT']<br>[0.23 0.09 0.46 0.1  0.12]",
          "['GOOGL' 'AAPL' 'WMT' 'MSFT' 'JPM']<br>[0.14 0.25 0.13 0.46 0.02]",
          "['AAPL' 'MSFT' 'JPM' 'WMT' 'GOOGL']<br>[0.05 0.11 0.19 0.5  0.16]",
          "['TGT' 'AAPL' 'WMT' 'MSFT' 'JPM']<br>[0.03 0.33 0.16 0.41 0.07]",
          "['GOOGL' 'AAPL' 'TGT' 'MSFT' 'WMT']<br>[0.01 0.33 0.14 0.41 0.12]",
          "['JPM' 'WMT' 'TGT' 'MSFT' 'AAPL']<br>[0.13 0.11 0.02 0.43 0.31]",
          "['WMT' 'MSFT' 'TGT' 'AAPL' 'JPM']<br>[0.43 0.14 0.1  0.05 0.28]",
          "['AAPL' 'MSFT' 'WMT' 'TGT' 'GOOGL']<br>[0.16 0.41 0.3  0.09 0.04]",
          "['TGT' 'MSFT' 'AAPL' 'JPM' 'WMT']<br>[0.1  0.29 0.22 0.1  0.29]",
          "['TGT' 'AAPL' 'MSFT' 'JPM' 'WMT']<br>[0.12 0.06 0.35 0.17 0.3 ]",
          "['WMT' 'MSFT' 'AAPL' 'TGT' 'JPM']<br>[0.3  0.34 0.26 0.09 0.01]",
          "['MSFT' 'AAPL' 'WMT' 'GOOGL' 'JPM']<br>[0.21 0.19 0.34 0.12 0.13]",
          "['MSFT' 'TGT' 'WMT' 'AAPL' 'JPM']<br>[0.37 0.03 0.26 0.34 0.  ]",
          "['AAPL' 'GOOGL' 'MSFT' 'JPM' 'WMT']<br>[0.08 0.18 0.64 0.08 0.03]",
          "['GOOGL' 'WMT' 'TGT' 'MSFT' 'AAPL']<br>[0.05 0.1  0.   0.44 0.41]",
          "['MSFT' 'WMT' 'GOOGL' 'AAPL' 'JPM']<br>[0.27 0.38 0.05 0.22 0.09]",
          "['TGT' 'AAPL' 'JPM' 'WMT' 'MSFT']<br>[0.1  0.11 0.19 0.3  0.3 ]",
          "['MSFT' 'TGT' 'WMT' 'JPM' 'AAPL']<br>[0.42 0.21 0.02 0.   0.35]",
          "['WMT' 'GOOGL' 'MSFT' 'JPM' 'AAPL']<br>[0.32 0.08 0.34 0.19 0.07]",
          "['MSFT' 'WMT' 'JPM' 'GOOGL' 'AAPL']<br>[0.35 0.32 0.17 0.01 0.14]",
          "['AAPL' 'MSFT' 'WMT' 'JPM' 'GOOGL']<br>[0.16 0.55 0.13 0.01 0.15]",
          "['AAPL' 'JPM' 'MSFT' 'WMT' 'TGT']<br>[0.21 0.14 0.21 0.33 0.1 ]",
          "['WMT' 'JPM' 'TGT' 'MSFT' 'GOOGL']<br>[0.4  0.15 0.09 0.25 0.11]",
          "['AAPL' 'TGT' 'MSFT' 'WMT' 'JPM']<br>[0.22 0.08 0.32 0.27 0.12]",
          "['TGT' 'AAPL' 'MSFT' 'JPM' 'WMT']<br>[0.14 0.1  0.27 0.21 0.29]",
          "['GOOGL' 'AAPL' 'WMT' 'JPM' 'MSFT']<br>[0.13 0.09 0.43 0.27 0.08]",
          "['JPM' 'WMT' 'AAPL' 'TGT' 'MSFT']<br>[0.19 0.31 0.26 0.04 0.2 ]",
          "['AAPL' 'GOOGL' 'JPM' 'WMT' 'MSFT']<br>[0.07 0.04 0.23 0.36 0.3 ]",
          "['JPM' 'WMT' 'AAPL' 'GOOGL' 'MSFT']<br>[0.04 0.1  0.17 0.16 0.53]",
          "['JPM' 'GOOGL' 'TGT' 'MSFT' 'WMT']<br>[0.11 0.09 0.12 0.21 0.48]",
          "['AAPL' 'JPM' 'TGT' 'WMT' 'GOOGL']<br>[0.05 0.14 0.11 0.48 0.22]",
          "['AAPL' 'TGT' 'GOOGL' 'JPM' 'MSFT']<br>[0.33 0.1  0.02 0.16 0.39]",
          "['WMT' 'TGT' 'MSFT' 'JPM' 'AAPL']<br>[0.21 0.03 0.36 0.18 0.22]",
          "['MSFT' 'WMT' 'JPM' 'AAPL' 'GOOGL']<br>[0.29 0.38 0.13 0.15 0.05]",
          "['GOOGL' 'TGT' 'MSFT' 'AAPL' 'WMT']<br>[0.07 0.02 0.51 0.21 0.2 ]",
          "['WMT' 'AAPL' 'TGT' 'MSFT' 'JPM']<br>[0.33 0.21 0.08 0.15 0.22]",
          "['AAPL' 'JPM' 'GOOGL' 'WMT' 'MSFT']<br>[0.21 0.09 0.09 0.27 0.34]",
          "['MSFT' 'TGT' 'AAPL' 'JPM' 'WMT']<br>[0.42 0.07 0.23 0.01 0.26]",
          "['WMT' 'TGT' 'MSFT' 'AAPL' 'JPM']<br>[0.28 0.14 0.31 0.12 0.15]",
          "['TGT' 'AAPL' 'JPM' 'MSFT' 'WMT']<br>[0.08 0.18 0.13 0.22 0.39]",
          "['JPM' 'TGT' 'WMT' 'AAPL' 'MSFT']<br>[0.09 0.13 0.14 0.27 0.37]",
          "['JPM' 'MSFT' 'AAPL' 'GOOGL' 'WMT']<br>[0.06 0.4  0.24 0.03 0.28]",
          "['MSFT' 'AAPL' 'WMT' 'GOOGL' 'JPM']<br>[0.4  0.18 0.25 0.   0.18]",
          "['AAPL' 'JPM' 'MSFT' 'TGT' 'GOOGL']<br>[0.29 0.   0.5  0.08 0.13]",
          "['JPM' 'TGT' 'AAPL' 'MSFT' 'WMT']<br>[0.13 0.06 0.3  0.47 0.04]",
          "['TGT' 'WMT' 'JPM' 'AAPL' 'MSFT']<br>[0.09 0.09 0.04 0.2  0.59]",
          "['JPM' 'WMT' 'MSFT' 'AAPL' 'GOOGL']<br>[0.1  0.38 0.32 0.13 0.07]",
          "['AAPL' 'GOOGL' 'MSFT' 'JPM' 'WMT']<br>[0.15 0.06 0.24 0.19 0.36]",
          "['MSFT' 'AAPL' 'TGT' 'WMT' 'JPM']<br>[0.45 0.21 0.01 0.21 0.11]",
          "['WMT' 'JPM' 'TGT' 'GOOGL' 'MSFT']<br>[0.46 0.22 0.04 0.11 0.17]",
          "['TGT' 'MSFT' 'AAPL' 'WMT' 'JPM']<br>[0.1  0.27 0.15 0.29 0.18]",
          "['MSFT' 'AAPL' 'WMT' 'JPM' 'TGT']<br>[0.35 0.21 0.2  0.16 0.08]",
          "['JPM' 'MSFT' 'WMT' 'AAPL' 'TGT']<br>[0.22 0.31 0.3  0.13 0.04]",
          "['WMT' 'MSFT' 'JPM' 'TGT' 'AAPL']<br>[0.27 0.32 0.12 0.11 0.18]",
          "['AAPL' 'JPM' 'GOOGL' 'WMT' 'MSFT']<br>[0.09 0.25 0.08 0.41 0.17]",
          "['WMT' 'GOOGL' 'AAPL' 'TGT' 'MSFT']<br>[0.15 0.01 0.12 0.08 0.65]",
          "['AAPL' 'JPM' 'GOOGL' 'WMT' 'MSFT']<br>[0.14 0.05 0.05 0.32 0.45]",
          "['WMT' 'GOOGL' 'JPM' 'AAPL' 'MSFT']<br>[0.26 0.   0.12 0.2  0.42]",
          "['MSFT' 'AAPL' 'GOOGL' 'JPM' 'WMT']<br>[0.27 0.22 0.03 0.17 0.31]",
          "['WMT' 'GOOGL' 'JPM' 'TGT' 'MSFT']<br>[0.37 0.16 0.15 0.09 0.23]",
          "['AAPL' 'TGT' 'WMT' 'MSFT' 'JPM']<br>[0.2  0.05 0.2  0.34 0.2 ]",
          "['WMT' 'MSFT' 'TGT' 'AAPL' 'JPM']<br>[0.04 0.53 0.15 0.27 0.01]",
          "['TGT' 'GOOGL' 'MSFT' 'JPM' 'WMT']<br>[0.12 0.09 0.17 0.21 0.4 ]",
          "['MSFT' 'AAPL' 'JPM' 'WMT' 'GOOGL']<br>[0.17 0.09 0.22 0.41 0.11]",
          "['JPM' 'WMT' 'MSFT' 'AAPL' 'TGT']<br>[0.08 0.09 0.39 0.37 0.07]",
          "['JPM' 'TGT' 'AAPL' 'MSFT' 'WMT']<br>[0.08 0.08 0.14 0.36 0.34]",
          "['TGT' 'AAPL' 'JPM' 'WMT' 'MSFT']<br>[0.03 0.21 0.04 0.19 0.53]",
          "['WMT' 'AAPL' 'MSFT' 'TGT' 'GOOGL']<br>[0.01 0.36 0.49 0.11 0.03]",
          "['JPM' 'MSFT' 'AAPL' 'WMT' 'TGT']<br>[0.04 0.33 0.3  0.29 0.05]",
          "['JPM' 'AAPL' 'TGT' 'MSFT' 'WMT']<br>[0.14 0.12 0.14 0.29 0.31]",
          "['JPM' 'MSFT' 'WMT' 'TGT' 'AAPL']<br>[0.02 0.57 0.11 0.09 0.21]",
          "['JPM' 'WMT' 'MSFT' 'GOOGL' 'TGT']<br>[0.19 0.49 0.11 0.11 0.1 ]",
          "['TGT' 'JPM' 'MSFT' 'AAPL' 'WMT']<br>[0.11 0.06 0.32 0.09 0.42]",
          "['AAPL' 'TGT' 'JPM' 'WMT' 'MSFT']<br>[0.05 0.09 0.25 0.34 0.26]",
          "['GOOGL' 'WMT' 'TGT' 'MSFT' 'AAPL']<br>[0.   0.34 0.06 0.37 0.22]",
          "['WMT' 'TGT' 'JPM' 'AAPL' 'MSFT']<br>[0.28 0.09 0.2  0.15 0.28]",
          "['JPM' 'WMT' 'TGT' 'MSFT' 'AAPL']<br>[0.02 0.09 0.05 0.51 0.33]",
          "['WMT' 'AAPL' 'JPM' 'MSFT' 'TGT']<br>[0.18 0.22 0.14 0.35 0.11]",
          "['GOOGL' 'WMT' 'MSFT' 'TGT' 'AAPL']<br>[0.02 0.2  0.38 0.05 0.34]",
          "['MSFT' 'TGT' 'AAPL' 'JPM' 'WMT']<br>[0.32 0.05 0.18 0.14 0.3 ]",
          "['AAPL' 'GOOGL' 'JPM' 'MSFT' 'WMT']<br>[0.1  0.04 0.17 0.23 0.46]",
          "['TGT' 'MSFT' 'AAPL' 'WMT' 'JPM']<br>[0.09 0.19 0.18 0.36 0.18]",
          "['TGT' 'WMT' 'MSFT' 'AAPL' 'JPM']<br>[0.02 0.03 0.47 0.36 0.13]",
          "['GOOGL' 'MSFT' 'TGT' 'JPM' 'WMT']<br>[0.14 0.12 0.03 0.22 0.5 ]",
          "['MSFT' 'GOOGL' 'AAPL' 'JPM' 'WMT']<br>[0.17 0.05 0.21 0.19 0.37]",
          "['JPM' 'TGT' 'AAPL' 'WMT' 'MSFT']<br>[0.07 0.08 0.24 0.33 0.27]",
          "['AAPL' 'JPM' 'TGT' 'WMT' 'MSFT']<br>[0.16 0.16 0.13 0.28 0.28]",
          "['TGT' 'WMT' 'JPM' 'MSFT' 'AAPL']<br>[0.06 0.17 0.05 0.47 0.25]",
          "['WMT' 'GOOGL' 'MSFT' 'AAPL' 'TGT']<br>[0.21 0.07 0.43 0.23 0.05]",
          "['MSFT' 'AAPL' 'WMT' 'JPM' 'GOOGL']<br>[0.36 0.24 0.27 0.12 0.02]",
          "['MSFT' 'AAPL' 'GOOGL' 'JPM' 'WMT']<br>[0.47 0.09 0.03 0.12 0.29]",
          "['AAPL' 'TGT' 'MSFT' 'JPM' 'WMT']<br>[0.16 0.08 0.31 0.12 0.33]",
          "['TGT' 'MSFT' 'GOOGL' 'JPM' 'WMT']<br>[0.09 0.18 0.06 0.18 0.48]",
          "['JPM' 'TGT' 'WMT' 'MSFT' 'AAPL']<br>[0.18 0.06 0.49 0.15 0.12]",
          "['MSFT' 'AAPL' 'TGT' 'WMT' 'JPM']<br>[0.25 0.13 0.11 0.39 0.12]",
          "['GOOGL' 'JPM' 'MSFT' 'AAPL' 'WMT']<br>[0.02 0.17 0.38 0.18 0.26]",
          "['WMT' 'JPM' 'TGT' 'AAPL' 'MSFT']<br>[0.22 0.06 0.01 0.12 0.59]",
          "['TGT' 'MSFT' 'AAPL' 'WMT' 'JPM']<br>[0.04 0.26 0.06 0.5  0.14]",
          "['WMT' 'TGT' 'AAPL' 'GOOGL' 'MSFT']<br>[0.09 0.01 0.2  0.07 0.64]",
          "['AAPL' 'TGT' 'JPM' 'WMT' 'MSFT']<br>[0.22 0.04 0.14 0.32 0.28]",
          "['MSFT' 'JPM' 'GOOGL' 'WMT' 'AAPL']<br>[0.2  0.22 0.05 0.42 0.12]",
          "['MSFT' 'GOOGL' 'WMT' 'TGT' 'AAPL']<br>[0.46 0.01 0.1  0.02 0.42]",
          "['JPM' 'MSFT' 'WMT' 'AAPL' 'TGT']<br>[0.17 0.33 0.44 0.04 0.02]",
          "['AAPL' 'GOOGL' 'JPM' 'WMT' 'MSFT']<br>[0.17 0.   0.17 0.31 0.34]",
          "['JPM' 'WMT' 'TGT' 'AAPL' 'MSFT']<br>[0.01 0.15 0.07 0.39 0.38]",
          "['MSFT' 'JPM' 'GOOGL' 'WMT' 'AAPL']<br>[0.4  0.07 0.08 0.19 0.26]",
          "['AAPL' 'JPM' 'TGT' 'MSFT' 'WMT']<br>[0.21 0.1  0.05 0.3  0.34]",
          "['TGT' 'WMT' 'AAPL' 'MSFT' 'JPM']<br>[0.04 0.23 0.29 0.36 0.08]",
          "['MSFT' 'JPM' 'AAPL' 'TGT' 'WMT']<br>[0.36 0.18 0.02 0.05 0.4 ]",
          "['WMT' 'JPM' 'MSFT' 'GOOGL' 'AAPL']<br>[0.25 0.07 0.36 0.01 0.31]",
          "['TGT' 'WMT' 'AAPL' 'MSFT' 'GOOGL']<br>[0.04 0.05 0.38 0.51 0.03]"
         ],
         "type": "scatter",
         "x": [
          0.20298069417694495,
          0.2016488007995301,
          0.23212293183081775,
          0.2210650637364527,
          0.19775888592718194,
          0.21327210251636955,
          0.22225409388622433,
          0.24287031126530828,
          0.23451680898508903,
          0.24276506252809646,
          0.23305948384158187,
          0.2108606457895248,
          0.1953528985164598,
          0.2256096560698046,
          0.20492605582908086,
          0.20694053524143938,
          0.19387417587138128,
          0.20442460557708386,
          0.21282314596323013,
          0.21921691287761969,
          0.19767016054206518,
          0.19171524494560646,
          0.23619712184856628,
          0.2536081012306847,
          0.21594996820280463,
          0.20503656833898165,
          0.2396559436054235,
          0.21916622921049056,
          0.2127686250503569,
          0.21710468631203964,
          0.22473602621451846,
          0.20371739745952483,
          0.1949680148536212,
          0.21805697792267126,
          0.22170735042978254,
          0.20828103199729495,
          0.198065111502515,
          0.2590335129327505,
          0.19672367098429966,
          0.23576137798979097,
          0.20379646735067983,
          0.24391348268748184,
          0.22467963101432922,
          0.21611553686894844,
          0.20352174309206056,
          0.20347354457739794,
          0.2126286676151947,
          0.21676426729787912,
          0.2123296967583686,
          0.1975630266280248,
          0.19770219859616653,
          0.19147795434879267,
          0.2025877724654066,
          0.2151132586170574,
          0.2594711672699311,
          0.19701110208891465,
          0.19631101035992723,
          0.21302716585706316,
          0.20157587676832756,
          0.20033915685261994,
          0.23275707539476104,
          0.20132114957603534,
          0.19946505842388312,
          0.25664635318644463,
          0.1934405217776937,
          0.2395562835609113,
          0.21089761493109058,
          0.19754653572399875,
          0.1959985964666528,
          0.21355877199709195,
          0.2398302785175633,
          0.21116659178455835,
          0.1909697584350044,
          0.22793544638622998,
          0.24365463210323143,
          0.23823183914820173,
          0.20579596834619304,
          0.19677930089039192,
          0.19173851500434602,
          0.22319915903876072,
          0.20024619807044594,
          0.19540560689274164,
          0.1988436983069865,
          0.20095166101644904,
          0.20086292731047115,
          0.2108498910253295,
          0.2034173659286884,
          0.20221159436827832,
          0.24369486177851268,
          0.23923909728267076,
          0.2344050373272124,
          0.21076924373305145,
          0.2337797532655789,
          0.19383170351728027,
          0.21302312064770856,
          0.20175713742409113,
          0.18836931812561367,
          0.2183953794400953,
          0.2035912945399141,
          0.2034311402422086,
          0.19990005722630544,
          0.19239305226416017,
          0.20876561401781865,
          0.2356067265571421,
          0.1954262339052953,
          0.19089125250811817,
          0.20548485351604598,
          0.23378585659387544,
          0.1907682355112351,
          0.1985441260557233,
          0.1965430926525971,
          0.2054605406250877,
          0.2034111274172314,
          0.22054037964420317,
          0.19379806851177464,
          0.1999124694181121,
          0.19949663838350074,
          0.2079174891891214,
          0.2097517753034438,
          0.19398262981766295,
          0.1903850149941399,
          0.23794008942296865,
          0.1889741669028167,
          0.2290855582459755,
          0.23179753134845518,
          0.23300541331230648,
          0.19138990622291965,
          0.21194351413671716,
          0.20508317333735263,
          0.20048822000950578,
          0.21209867055148005,
          0.20119385910644552,
          0.2234917580869332,
          0.25225298689951886,
          0.24757208381792234,
          0.20319994176217734,
          0.19969299828229584,
          0.2419363045916165,
          0.2027058817686577,
          0.20495192640711885,
          0.24005241156475624,
          0.19886904914644385,
          0.19277266862526257,
          0.20733327271771904,
          0.19877076045158643,
          0.19070595496660214,
          0.20232277861710826,
          0.19822047007361482,
          0.24121522139446083,
          0.19143814790232064,
          0.1882696774634857,
          0.2388746193134766,
          0.21434001220502277,
          0.20019785935121395,
          0.23012666393546524,
          0.1970985077719693,
          0.21273299600851883,
          0.21775372569440551,
          0.2017018934352501,
          0.1960084220382637,
          0.2211187436623289,
          0.2167422829678723,
          0.21304333344113027,
          0.25189386586705753,
          0.2389658568547212,
          0.2385186549023223,
          0.20177160118781257,
          0.19838128201685473,
          0.22037656578160764,
          0.18958661282446607,
          0.2000789669706855,
          0.21249058006252572,
          0.20167100332294427,
          0.205263034215325,
          0.19258550297926424,
          0.23589065878023344,
          0.2132785827008203,
          0.21530711993542775,
          0.20488998927152377,
          0.19357696262487836,
          0.21164901514721116,
          0.24179558072987622,
          0.1907158732310102,
          0.19280441279258567,
          0.23514779252591075,
          0.203359229211325,
          0.2292474361882448,
          0.2509982912627512,
          0.21447178682811494,
          0.19939246606383992,
          0.23552686893404984,
          0.18812156623645013,
          0.19782083809471018,
          0.19599041251239002,
          0.2112323040363572,
          0.20100930462689753,
          0.24304712679857055,
          0.2130221963746574,
          0.22756841270471737,
          0.20425199236454422,
          0.193082339299557,
          0.19543228966091203,
          0.2477763449790504,
          0.18833260312070874,
          0.19803524242667933,
          0.20415886126946706,
          0.20145490374334865,
          0.22736710384320152,
          0.2239367764397719,
          0.213625205714128,
          0.21243517068299836,
          0.20125161910957706,
          0.18947569109463777,
          0.19060962105669987,
          0.19532758339399128,
          0.21153677026467332,
          0.22723928004715696,
          0.19278966989006463,
          0.24990229064997832,
          0.20378778163028963,
          0.19364934063096303,
          0.24798061257237453,
          0.19584295612493463,
          0.20603963760351512,
          0.2339404572474291,
          0.2249810596810646,
          0.2035914461265702,
          0.21761011074643058,
          0.19719319769824692,
          0.22008607198013921,
          0.25222537009147455
         ],
         "y": [
          0.15188983407683856,
          0.15441176943020898,
          0.17243624777044986,
          0.18277756119028743,
          0.14670886302247674,
          0.17327215268391827,
          0.18634242954045324,
          0.20511656990561977,
          0.18707939661584785,
          0.21125619471443682,
          0.1938968580726473,
          0.16810701891277352,
          0.12680103450585958,
          0.19989753875847804,
          0.15873176812040085,
          0.17548405857097815,
          0.13818706163447894,
          0.1601431339077916,
          0.1762412554772278,
          0.19061004677599172,
          0.1510049059684571,
          0.1327054087096506,
          0.2052216565198118,
          0.21735825650160712,
          0.17797980800139704,
          0.16377621797129915,
          0.20754846634294416,
          0.18247731817090423,
          0.17872245367490322,
          0.18707264728992049,
          0.19521970223550242,
          0.16430098782772637,
          0.13950516577145847,
          0.18872324272476196,
          0.19443668260475233,
          0.17910462923642262,
          0.151263279822399,
          0.22745550612662865,
          0.1421080388617913,
          0.20047465241382867,
          0.1679983259686349,
          0.21783403057630513,
          0.19672204796198317,
          0.17993624779028325,
          0.1672348594129959,
          0.1667931872996699,
          0.1791339913932526,
          0.19036105317674945,
          0.18310241102363095,
          0.14527934013146274,
          0.15130961995723613,
          0.11829544162080154,
          0.15554012172474427,
          0.18837722089583273,
          0.23326133164444696,
          0.1441137538145304,
          0.14417601246781733,
          0.1835704349942215,
          0.1529734361916707,
          0.1593985399048665,
          0.20107274187687885,
          0.1641819287596301,
          0.15521999645928142,
          0.23011625464422267,
          0.13760975480869928,
          0.20896442214533004,
          0.1795474980609007,
          0.15702485363975358,
          0.15216069811881022,
          0.18526756329677682,
          0.2101386259539161,
          0.1799477663031842,
          0.12694439594329,
          0.2029917132834148,
          0.21334217095195646,
          0.20622769473706176,
          0.17495753005694098,
          0.15433495441610948,
          0.13933826235403293,
          0.19664421001383237,
          0.15724114408167802,
          0.14716012839513506,
          0.15841430290555744,
          0.16033583237955285,
          0.16103176267892994,
          0.17973709624213946,
          0.16880123861680937,
          0.16640092376397528,
          0.2153610962996448,
          0.20834021258529,
          0.2039440215444674,
          0.18143476317771076,
          0.20540705912387014,
          0.14231840356215034,
          0.18454398680706707,
          0.16605151805359653,
          0.12721606557430953,
          0.1913470984294568,
          0.17161572559967142,
          0.17056943670170627,
          0.1630899270342342,
          0.1416618128339951,
          0.17992392075839866,
          0.2081478510828191,
          0.1473266100037062,
          0.13091423506080432,
          0.1746010632786163,
          0.20598146002835155,
          0.13324454630208626,
          0.15737389853262887,
          0.1542600791522669,
          0.1742287391820196,
          0.16645499436594946,
          0.1936779399636872,
          0.15089528424042664,
          0.16347401334284392,
          0.1607343113752682,
          0.17878076487801123,
          0.18123228671550665,
          0.15171005084965083,
          0.1305279384876454,
          0.20918448705556855,
          0.13175174200221312,
          0.20429507334852143,
          0.20501588679532853,
          0.20731929795558515,
          0.13329232495946164,
          0.18224941680089374,
          0.17354129015032257,
          0.16358323430725732,
          0.18281645364303717,
          0.16419584562950315,
          0.19696581781035916,
          0.2179960118836471,
          0.2204253134029468,
          0.16962488526853284,
          0.16331386831998704,
          0.21208127396899323,
          0.1665962289551534,
          0.1734607597341482,
          0.21041924731802378,
          0.1614926097609323,
          0.145230283191433,
          0.17770909897834886,
          0.15862999797597063,
          0.13460404221004355,
          0.16645989987161341,
          0.15850753021589886,
          0.21095210476199147,
          0.1362624913659816,
          0.12144621021889944,
          0.20928516597387736,
          0.18589147633650666,
          0.16539302042384935,
          0.20439543413264977,
          0.15496423839757054,
          0.18334011580851192,
          0.19178484028935988,
          0.16597409235342675,
          0.15673589075615266,
          0.19401958145670334,
          0.19013269141181513,
          0.18471612780227611,
          0.2222095612672118,
          0.2130957143473425,
          0.21483056393399658,
          0.1676747138040316,
          0.1607799647982935,
          0.19542093178105008,
          0.1342497247090826,
          0.16416288185851408,
          0.18384294692229294,
          0.16661416565922565,
          0.17411824264596765,
          0.14393508468199787,
          0.2111031933401702,
          0.1848506076806558,
          0.1890373744269931,
          0.17238288835037013,
          0.1457343328490414,
          0.18146114874821345,
          0.21647644821420492,
          0.1359085291058259,
          0.14594777345331408,
          0.2091228809014995,
          0.1715441173796928,
          0.20603189750950895,
          0.22411057633223253,
          0.18650378070030443,
          0.16197129281671624,
          0.21194900114746246,
          0.12516450811793517,
          0.15779771926109926,
          0.15171903821366534,
          0.18198103751936948,
          0.1656616199592733,
          0.21928137004088727,
          0.18398207741091208,
          0.20135870683657026,
          0.17346374610437515,
          0.14903320315128454,
          0.15416800683848833,
          0.2210879485857281,
          0.12703073407355542,
          0.15852757855164648,
          0.17166170380150697,
          0.16611148396241626,
          0.20369802028283174,
          0.197517258199027,
          0.18623458171093327,
          0.18346915426478358,
          0.16825847319204817,
          0.13238107153366713,
          0.1392264539635839,
          0.15422742452072996,
          0.1826494621560665,
          0.2026958690119116,
          0.14610381340669037,
          0.2239656713742759,
          0.17208926465903382,
          0.1494312607531914,
          0.22226156900694713,
          0.1545224149855383,
          0.17525288334798883,
          0.2079131658628737,
          0.1980170389594268,
          0.17231141193574473,
          0.1913271045207704,
          0.15706223687572773,
          0.19358402809760705,
          0.22658199102484394
         ]
        }
       ],
       "layout": {
        "coloraxis": {
         "colorbar": {
          "title": {
           "text": "Sharpe Ratio"
          }
         }
        },
        "height": 500,
        "template": {
         "data": {
          "bar": [
           {
            "error_x": {
             "color": "#2a3f5f"
            },
            "error_y": {
             "color": "#2a3f5f"
            },
            "marker": {
             "line": {
              "color": "white",
              "width": 0.5
             }
            },
            "type": "bar"
           }
          ],
          "barpolar": [
           {
            "marker": {
             "line": {
              "color": "white",
              "width": 0.5
             }
            },
            "type": "barpolar"
           }
          ],
          "carpet": [
           {
            "aaxis": {
             "endlinecolor": "#2a3f5f",
             "gridcolor": "#C8D4E3",
             "linecolor": "#C8D4E3",
             "minorgridcolor": "#C8D4E3",
             "startlinecolor": "#2a3f5f"
            },
            "baxis": {
             "endlinecolor": "#2a3f5f",
             "gridcolor": "#C8D4E3",
             "linecolor": "#C8D4E3",
             "minorgridcolor": "#C8D4E3",
             "startlinecolor": "#2a3f5f"
            },
            "type": "carpet"
           }
          ],
          "choropleth": [
           {
            "colorbar": {
             "outlinewidth": 0,
             "ticks": ""
            },
            "type": "choropleth"
           }
          ],
          "contour": [
           {
            "colorbar": {
             "outlinewidth": 0,
             "ticks": ""
            },
            "colorscale": [
             [
              0,
              "#0d0887"
             ],
             [
              0.1111111111111111,
              "#46039f"
             ],
             [
              0.2222222222222222,
              "#7201a8"
             ],
             [
              0.3333333333333333,
              "#9c179e"
             ],
             [
              0.4444444444444444,
              "#bd3786"
             ],
             [
              0.5555555555555556,
              "#d8576b"
             ],
             [
              0.6666666666666666,
              "#ed7953"
             ],
             [
              0.7777777777777778,
              "#fb9f3a"
             ],
             [
              0.8888888888888888,
              "#fdca26"
             ],
             [
              1,
              "#f0f921"
             ]
            ],
            "type": "contour"
           }
          ],
          "contourcarpet": [
           {
            "colorbar": {
             "outlinewidth": 0,
             "ticks": ""
            },
            "type": "contourcarpet"
           }
          ],
          "heatmap": [
           {
            "colorbar": {
             "outlinewidth": 0,
             "ticks": ""
            },
            "colorscale": [
             [
              0,
              "#0d0887"
             ],
             [
              0.1111111111111111,
              "#46039f"
             ],
             [
              0.2222222222222222,
              "#7201a8"
             ],
             [
              0.3333333333333333,
              "#9c179e"
             ],
             [
              0.4444444444444444,
              "#bd3786"
             ],
             [
              0.5555555555555556,
              "#d8576b"
             ],
             [
              0.6666666666666666,
              "#ed7953"
             ],
             [
              0.7777777777777778,
              "#fb9f3a"
             ],
             [
              0.8888888888888888,
              "#fdca26"
             ],
             [
              1,
              "#f0f921"
             ]
            ],
            "type": "heatmap"
           }
          ],
          "heatmapgl": [
           {
            "colorbar": {
             "outlinewidth": 0,
             "ticks": ""
            },
            "colorscale": [
             [
              0,
              "#0d0887"
             ],
             [
              0.1111111111111111,
              "#46039f"
             ],
             [
              0.2222222222222222,
              "#7201a8"
             ],
             [
              0.3333333333333333,
              "#9c179e"
             ],
             [
              0.4444444444444444,
              "#bd3786"
             ],
             [
              0.5555555555555556,
              "#d8576b"
             ],
             [
              0.6666666666666666,
              "#ed7953"
             ],
             [
              0.7777777777777778,
              "#fb9f3a"
             ],
             [
              0.8888888888888888,
              "#fdca26"
             ],
             [
              1,
              "#f0f921"
             ]
            ],
            "type": "heatmapgl"
           }
          ],
          "histogram": [
           {
            "marker": {
             "colorbar": {
              "outlinewidth": 0,
              "ticks": ""
             }
            },
            "type": "histogram"
           }
          ],
          "histogram2d": [
           {
            "colorbar": {
             "outlinewidth": 0,
             "ticks": ""
            },
            "colorscale": [
             [
              0,
              "#0d0887"
             ],
             [
              0.1111111111111111,
              "#46039f"
             ],
             [
              0.2222222222222222,
              "#7201a8"
             ],
             [
              0.3333333333333333,
              "#9c179e"
             ],
             [
              0.4444444444444444,
              "#bd3786"
             ],
             [
              0.5555555555555556,
              "#d8576b"
             ],
             [
              0.6666666666666666,
              "#ed7953"
             ],
             [
              0.7777777777777778,
              "#fb9f3a"
             ],
             [
              0.8888888888888888,
              "#fdca26"
             ],
             [
              1,
              "#f0f921"
             ]
            ],
            "type": "histogram2d"
           }
          ],
          "histogram2dcontour": [
           {
            "colorbar": {
             "outlinewidth": 0,
             "ticks": ""
            },
            "colorscale": [
             [
              0,
              "#0d0887"
             ],
             [
              0.1111111111111111,
              "#46039f"
             ],
             [
              0.2222222222222222,
              "#7201a8"
             ],
             [
              0.3333333333333333,
              "#9c179e"
             ],
             [
              0.4444444444444444,
              "#bd3786"
             ],
             [
              0.5555555555555556,
              "#d8576b"
             ],
             [
              0.6666666666666666,
              "#ed7953"
             ],
             [
              0.7777777777777778,
              "#fb9f3a"
             ],
             [
              0.8888888888888888,
              "#fdca26"
             ],
             [
              1,
              "#f0f921"
             ]
            ],
            "type": "histogram2dcontour"
           }
          ],
          "mesh3d": [
           {
            "colorbar": {
             "outlinewidth": 0,
             "ticks": ""
            },
            "type": "mesh3d"
           }
          ],
          "parcoords": [
           {
            "line": {
             "colorbar": {
              "outlinewidth": 0,
              "ticks": ""
             }
            },
            "type": "parcoords"
           }
          ],
          "pie": [
           {
            "automargin": true,
            "type": "pie"
           }
          ],
          "scatter": [
           {
            "marker": {
             "colorbar": {
              "outlinewidth": 0,
              "ticks": ""
             }
            },
            "type": "scatter"
           }
          ],
          "scatter3d": [
           {
            "line": {
             "colorbar": {
              "outlinewidth": 0,
              "ticks": ""
             }
            },
            "marker": {
             "colorbar": {
              "outlinewidth": 0,
              "ticks": ""
             }
            },
            "type": "scatter3d"
           }
          ],
          "scattercarpet": [
           {
            "marker": {
             "colorbar": {
              "outlinewidth": 0,
              "ticks": ""
             }
            },
            "type": "scattercarpet"
           }
          ],
          "scattergeo": [
           {
            "marker": {
             "colorbar": {
              "outlinewidth": 0,
              "ticks": ""
             }
            },
            "type": "scattergeo"
           }
          ],
          "scattergl": [
           {
            "marker": {
             "colorbar": {
              "outlinewidth": 0,
              "ticks": ""
             }
            },
            "type": "scattergl"
           }
          ],
          "scattermapbox": [
           {
            "marker": {
             "colorbar": {
              "outlinewidth": 0,
              "ticks": ""
             }
            },
            "type": "scattermapbox"
           }
          ],
          "scatterpolar": [
           {
            "marker": {
             "colorbar": {
              "outlinewidth": 0,
              "ticks": ""
             }
            },
            "type": "scatterpolar"
           }
          ],
          "scatterpolargl": [
           {
            "marker": {
             "colorbar": {
              "outlinewidth": 0,
              "ticks": ""
             }
            },
            "type": "scatterpolargl"
           }
          ],
          "scatterternary": [
           {
            "marker": {
             "colorbar": {
              "outlinewidth": 0,
              "ticks": ""
             }
            },
            "type": "scatterternary"
           }
          ],
          "surface": [
           {
            "colorbar": {
             "outlinewidth": 0,
             "ticks": ""
            },
            "colorscale": [
             [
              0,
              "#0d0887"
             ],
             [
              0.1111111111111111,
              "#46039f"
             ],
             [
              0.2222222222222222,
              "#7201a8"
             ],
             [
              0.3333333333333333,
              "#9c179e"
             ],
             [
              0.4444444444444444,
              "#bd3786"
             ],
             [
              0.5555555555555556,
              "#d8576b"
             ],
             [
              0.6666666666666666,
              "#ed7953"
             ],
             [
              0.7777777777777778,
              "#fb9f3a"
             ],
             [
              0.8888888888888888,
              "#fdca26"
             ],
             [
              1,
              "#f0f921"
             ]
            ],
            "type": "surface"
           }
          ],
          "table": [
           {
            "cells": {
             "fill": {
              "color": "#EBF0F8"
             },
             "line": {
              "color": "white"
             }
            },
            "header": {
             "fill": {
              "color": "#C8D4E3"
             },
             "line": {
              "color": "white"
             }
            },
            "type": "table"
           }
          ]
         },
         "layout": {
          "annotationdefaults": {
           "arrowcolor": "#2a3f5f",
           "arrowhead": 0,
           "arrowwidth": 1
          },
          "autotypenumbers": "strict",
          "coloraxis": {
           "colorbar": {
            "outlinewidth": 0,
            "ticks": ""
           }
          },
          "colorscale": {
           "diverging": [
            [
             0,
             "#8e0152"
            ],
            [
             0.1,
             "#c51b7d"
            ],
            [
             0.2,
             "#de77ae"
            ],
            [
             0.3,
             "#f1b6da"
            ],
            [
             0.4,
             "#fde0ef"
            ],
            [
             0.5,
             "#f7f7f7"
            ],
            [
             0.6,
             "#e6f5d0"
            ],
            [
             0.7,
             "#b8e186"
            ],
            [
             0.8,
             "#7fbc41"
            ],
            [
             0.9,
             "#4d9221"
            ],
            [
             1,
             "#276419"
            ]
           ],
           "sequential": [
            [
             0,
             "#0d0887"
            ],
            [
             0.1111111111111111,
             "#46039f"
            ],
            [
             0.2222222222222222,
             "#7201a8"
            ],
            [
             0.3333333333333333,
             "#9c179e"
            ],
            [
             0.4444444444444444,
             "#bd3786"
            ],
            [
             0.5555555555555556,
             "#d8576b"
            ],
            [
             0.6666666666666666,
             "#ed7953"
            ],
            [
             0.7777777777777778,
             "#fb9f3a"
            ],
            [
             0.8888888888888888,
             "#fdca26"
            ],
            [
             1,
             "#f0f921"
            ]
           ],
           "sequentialminus": [
            [
             0,
             "#0d0887"
            ],
            [
             0.1111111111111111,
             "#46039f"
            ],
            [
             0.2222222222222222,
             "#7201a8"
            ],
            [
             0.3333333333333333,
             "#9c179e"
            ],
            [
             0.4444444444444444,
             "#bd3786"
            ],
            [
             0.5555555555555556,
             "#d8576b"
            ],
            [
             0.6666666666666666,
             "#ed7953"
            ],
            [
             0.7777777777777778,
             "#fb9f3a"
            ],
            [
             0.8888888888888888,
             "#fdca26"
            ],
            [
             1,
             "#f0f921"
            ]
           ]
          },
          "colorway": [
           "#636efa",
           "#EF553B",
           "#00cc96",
           "#ab63fa",
           "#FFA15A",
           "#19d3f3",
           "#FF6692",
           "#B6E880",
           "#FF97FF",
           "#FECB52"
          ],
          "font": {
           "color": "#2a3f5f"
          },
          "geo": {
           "bgcolor": "white",
           "lakecolor": "white",
           "landcolor": "white",
           "showlakes": true,
           "showland": true,
           "subunitcolor": "#C8D4E3"
          },
          "hoverlabel": {
           "align": "left"
          },
          "hovermode": "closest",
          "mapbox": {
           "style": "light"
          },
          "paper_bgcolor": "white",
          "plot_bgcolor": "white",
          "polar": {
           "angularaxis": {
            "gridcolor": "#EBF0F8",
            "linecolor": "#EBF0F8",
            "ticks": ""
           },
           "bgcolor": "white",
           "radialaxis": {
            "gridcolor": "#EBF0F8",
            "linecolor": "#EBF0F8",
            "ticks": ""
           }
          },
          "scene": {
           "xaxis": {
            "backgroundcolor": "white",
            "gridcolor": "#DFE8F3",
            "gridwidth": 2,
            "linecolor": "#EBF0F8",
            "showbackground": true,
            "ticks": "",
            "zerolinecolor": "#EBF0F8"
           },
           "yaxis": {
            "backgroundcolor": "white",
            "gridcolor": "#DFE8F3",
            "gridwidth": 2,
            "linecolor": "#EBF0F8",
            "showbackground": true,
            "ticks": "",
            "zerolinecolor": "#EBF0F8"
           },
           "zaxis": {
            "backgroundcolor": "white",
            "gridcolor": "#DFE8F3",
            "gridwidth": 2,
            "linecolor": "#EBF0F8",
            "showbackground": true,
            "ticks": "",
            "zerolinecolor": "#EBF0F8"
           }
          },
          "shapedefaults": {
           "line": {
            "color": "#2a3f5f"
           }
          },
          "ternary": {
           "aaxis": {
            "gridcolor": "#DFE8F3",
            "linecolor": "#A2B1C6",
            "ticks": ""
           },
           "baxis": {
            "gridcolor": "#DFE8F3",
            "linecolor": "#A2B1C6",
            "ticks": ""
           },
           "bgcolor": "white",
           "caxis": {
            "gridcolor": "#DFE8F3",
            "linecolor": "#A2B1C6",
            "ticks": ""
           }
          },
          "title": {
           "x": 0.05
          },
          "xaxis": {
           "automargin": true,
           "gridcolor": "#EBF0F8",
           "linecolor": "#EBF0F8",
           "ticks": "",
           "title": {
            "standoff": 15
           },
           "zerolinecolor": "#EBF0F8",
           "zerolinewidth": 2
          },
          "yaxis": {
           "automargin": true,
           "gridcolor": "#EBF0F8",
           "linecolor": "#EBF0F8",
           "ticks": "",
           "title": {
            "standoff": 15
           },
           "zerolinecolor": "#EBF0F8",
           "zerolinewidth": 2
          }
         }
        },
        "title": {
         "text": "Sample of Random Portfolios"
        },
        "width": 850,
        "xaxis": {
         "range": [
          0.18,
          0.35
         ],
         "title": {
          "text": "Annualised Risk (Volatility)"
         }
        },
        "yaxis": {
         "range": [
          0.05,
          0.29
         ],
         "title": {
          "text": "Annualised Return"
         }
        }
       }
      }
     },
     "metadata": {},
     "output_type": "display_data"
    }
   ],
   "source": [
    "#-- Plot the risk vs. return of randomly generated portfolios\n",
    "#-- Convert the list from before into an array for easy plotting\n",
    "mean_variance_pairs = np.array(mean_variance_pairs)\n",
    "\n",
    "risk_free_rate=0 #-- Include risk free rate here\n",
    "\n",
    "fig = go.Figure()\n",
    "fig.add_trace(go.Scatter(x=mean_variance_pairs[:,1]**0.5, y=mean_variance_pairs[:,0], \n",
    "                      marker=dict(color=(mean_variance_pairs[:,0]-risk_free_rate)/(mean_variance_pairs[:,1]**0.5), \n",
    "                                  showscale=True, \n",
    "                                  size=7,\n",
    "                                  line=dict(width=1),\n",
    "                                  colorscale=\"RdBu\",\n",
    "                                  colorbar=dict(title=\"Sharpe<br>Ratio\")\n",
    "                                 ), \n",
    "                      mode='markers',\n",
    "                      text=[str(np.array(tickers_list[i])) + \"<br>\" + str(np.array(weights_list[i]).round(2)) for i in range(len(tickers_list))]))\n",
    "fig.update_layout(template='plotly_white',\n",
    "                  xaxis=dict(title='Annualised Risk (Volatility)'),\n",
    "                  yaxis=dict(title='Annualised Return'),\n",
    "                  title='Sample of Random Portfolios',\n",
    "                  width=850,\n",
    "                  height=500)\n",
    "fig.update_xaxes(range=[0.18, 0.35])\n",
    "fig.update_yaxes(range=[0.05,0.29])\n",
    "fig.update_layout(coloraxis_colorbar=dict(title=\"Sharpe Ratio\"))"
   ]
  }
 ],
 "metadata": {
  "kernelspec": {
   "display_name": "base",
   "language": "python",
   "name": "python3"
  },
  "language_info": {
   "codemirror_mode": {
    "name": "ipython",
    "version": 3
   },
   "file_extension": ".py",
   "mimetype": "text/x-python",
   "name": "python",
   "nbconvert_exporter": "python",
   "pygments_lexer": "ipython3",
   "version": "3.9.7"
  },
  "orig_nbformat": 4,
  "vscode": {
   "interpreter": {
    "hash": "651add51c3cbc36662d3bed529119182c196c96833ac7d541c272038af8218b3"
   }
  }
 },
 "nbformat": 4,
 "nbformat_minor": 2
}
