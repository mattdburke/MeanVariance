{
 "cells": [
  {
   "cell_type": "code",
   "execution_count": 59,
   "metadata": {},
   "outputs": [
    {
     "name": "stdout",
     "output_type": "stream",
     "text": [
      "Requirement already satisfied: yfinance in c:\\users\\mattb\\anaconda3\\lib\\site-packages (0.1.70)\n",
      "Requirement already satisfied: pandas>=0.24.0 in c:\\users\\mattb\\anaconda3\\lib\\site-packages (from yfinance) (1.3.4)\n",
      "Requirement already satisfied: lxml>=4.5.1 in c:\\users\\mattb\\anaconda3\\lib\\site-packages (from yfinance) (4.6.3)\n",
      "Requirement already satisfied: multitasking>=0.0.7 in c:\\users\\mattb\\anaconda3\\lib\\site-packages (from yfinance) (0.0.10)\n",
      "Requirement already satisfied: numpy>=1.15 in c:\\users\\mattb\\anaconda3\\lib\\site-packages (from yfinance) (1.20.3)\n",
      "Requirement already satisfied: requests>=2.26 in c:\\users\\mattb\\anaconda3\\lib\\site-packages (from yfinance) (2.26.0)\n",
      "Requirement already satisfied: pytz>=2017.3 in c:\\users\\mattb\\anaconda3\\lib\\site-packages (from pandas>=0.24.0->yfinance) (2021.3)\n",
      "Requirement already satisfied: python-dateutil>=2.7.3 in c:\\users\\mattb\\anaconda3\\lib\\site-packages (from pandas>=0.24.0->yfinance) (2.8.2)\n",
      "Requirement already satisfied: six>=1.5 in c:\\users\\mattb\\anaconda3\\lib\\site-packages (from python-dateutil>=2.7.3->pandas>=0.24.0->yfinance) (1.16.0)\n",
      "Requirement already satisfied: urllib3<1.27,>=1.21.1 in c:\\users\\mattb\\anaconda3\\lib\\site-packages (from requests>=2.26->yfinance) (1.26.7)\n",
      "Requirement already satisfied: idna<4,>=2.5 in c:\\users\\mattb\\anaconda3\\lib\\site-packages (from requests>=2.26->yfinance) (3.2)\n",
      "Requirement already satisfied: charset-normalizer~=2.0.0 in c:\\users\\mattb\\anaconda3\\lib\\site-packages (from requests>=2.26->yfinance) (2.0.4)\n",
      "Requirement already satisfied: certifi>=2017.4.17 in c:\\users\\mattb\\anaconda3\\lib\\site-packages (from requests>=2.26->yfinance) (2021.10.8)\n"
     ]
    }
   ],
   "source": [
    "!pip install yfinance\n",
    "import yfinance as yf\n",
    "import pandas as pd\n",
    "import numpy as np\n",
    "import random \n",
    "from tqdm import tqdm\n",
    "import plotly\n",
    "import plotly.graph_objects as go\n",
    "from plotly.subplots import make_subplots\n",
    "import plotly.express as px\n",
    "import plotly.figure_factory as ff"
   ]
  },
  {
   "cell_type": "code",
   "execution_count": 60,
   "metadata": {},
   "outputs": [
    {
     "name": "stdout",
     "output_type": "stream",
     "text": [
      "[*********************100%***********************]  1 of 1 completed\n",
      "[*********************100%***********************]  1 of 1 completed\n",
      "[*********************100%***********************]  1 of 1 completed\n",
      "[*********************100%***********************]  1 of 1 completed\n",
      "[*********************100%***********************]  1 of 1 completed\n",
      "[*********************100%***********************]  1 of 1 completed\n",
      "[*********************100%***********************]  1 of 1 completed\n",
      "[*********************100%***********************]  1 of 1 completed\n",
      "[*********************100%***********************]  1 of 1 completed\n",
      "[*********************100%***********************]  1 of 1 completed\n",
      "        Date      MSFT       WMT       JPM       TGT      AAPL     GOOGL  \\\n",
      "0 2015-01-02       NaN       NaN       NaN       NaN       NaN       NaN   \n",
      "1 2015-01-05 -0.009239 -0.002914 -0.031537 -0.018084 -0.028576 -0.019238   \n",
      "2 2015-01-06 -0.014786  0.007676 -0.026271 -0.000135  0.000094 -0.024989   \n",
      "3 2015-01-07  0.012626  0.026187  0.001525  0.037154  0.013925 -0.002945   \n",
      "4 2015-01-08  0.028994  0.020886  0.022100  0.004678  0.037702  0.003478   \n",
      "\n",
      "        ABT        KO      AMZN      NVDA  \n",
      "0       NaN       NaN       NaN       NaN  \n",
      "1  0.000223  0.000000 -0.020731 -0.017034  \n",
      "2 -0.011421  0.007566 -0.023098 -0.030787  \n",
      "3  0.008075  0.012405  0.010544 -0.002609  \n",
      "4  0.020346  0.012023  0.006813  0.036927  \n"
     ]
    }
   ],
   "source": [
    "asset_list = ['MSFT', 'WMT', 'JPM', 'TGT', 'AAPL', 'GOOGL', 'ABT', 'KO', 'AMZN', 'NVDA']\n",
    "# asset_list = ['MSFT', 'WMT', 'JPM']\n",
    "# asset_list = ['MSFT', 'AAPL', 'GOOGL', 'AMZN', 'NVDA']\n",
    "\n",
    "risk_free_rate = 0.04\n",
    "\n",
    "#-- How many portfolios to generate\n",
    "n_portfolios = 1000\n",
    "\n",
    "sd = \"2015-01-01\"\n",
    "ed = \"2022-12-31\"\n",
    "int = \"1d\"\n",
    "\n",
    "def create_dataframe(ticker):\n",
    "    df = yf.download(ticker, start=sd, end=ed, interval=int)\n",
    "    df = df.reset_index(level=0)\n",
    "    df = df[[\"Date\", \"Adj Close\"]]\n",
    "    df = df.rename({'Adj Close': \"price\"}, axis=1)  # new method\n",
    "    df[\"logret\"] = np.log(df.price) - np.log(df.price.shift(1))\n",
    "    df = df.drop('price', axis=1)\n",
    "    df = df.rename({'logret': ticker}, axis=1)  # new method\n",
    "    return df\n",
    "\n",
    "\n",
    "daily_returns = create_dataframe(asset_list[0])\n",
    "for i in asset_list[1:]:\n",
    "    df2 = create_dataframe(i)\n",
    "    daily_returns = daily_returns.merge(df2, how='inner', on='Date')\n",
    "print (daily_returns.head())\n",
    "daily_returns = daily_returns.drop('Date', axis=1)"
   ]
  },
  {
   "cell_type": "code",
   "execution_count": 61,
   "metadata": {},
   "outputs": [],
   "source": [
    "#-- Get annualised mean returns\n",
    "# mus = (1+daily_returns.mean())**252 - 1\n",
    "mus = (daily_returns.mean())*252\n",
    "\n",
    "#-- Get covariances\n",
    "#- Multiply by 252 to annualise it (square root time for volatility but no square root for variance)\n",
    "#- Note: 252 trading days in a year\n",
    "#- https://quant.stackexchange.com/questions/4753/annualized-covariance\n",
    "cov = daily_returns.cov()*252\n",
    "var = daily_returns.var()*252\n"
   ]
  },
  {
   "cell_type": "code",
   "execution_count": 62,
   "metadata": {},
   "outputs": [
    {
     "data": {
      "application/vnd.plotly.v1+json": {
       "config": {
        "plotlyServerURL": "https://plot.ly"
       },
       "data": [
        {
         "mode": "markers",
         "text": [
          "MSFT",
          "WMT",
          "JPM",
          "TGT",
          "AAPL",
          "GOOGL",
          "ABT",
          "KO",
          "AMZN",
          "NVDA"
         ],
         "type": "scatter",
         "x": [
          0.07920620919675304,
          0.048728829983565695,
          0.08112430266782282,
          0.10025074565996413,
          0.08976757528750745,
          0.07966537398525358,
          0.06094673368840833,
          0.035574412378727216,
          0.10995160165123742,
          0.22926448210717995
         ],
         "y": [
          0.22169569726178975,
          0.08439741505293193,
          0.12274191726279247,
          0.11307379529626042,
          0.20832490193614395,
          0.1506806933432741,
          0.13083840273512493,
          0.08369914984650981,
          0.2121610188739929,
          0.42672182479290083
         ]
        }
       ],
       "layout": {
        "height": 500,
        "template": {
         "data": {
          "bar": [
           {
            "error_x": {
             "color": "#2a3f5f"
            },
            "error_y": {
             "color": "#2a3f5f"
            },
            "marker": {
             "line": {
              "color": "white",
              "width": 0.5
             }
            },
            "type": "bar"
           }
          ],
          "barpolar": [
           {
            "marker": {
             "line": {
              "color": "white",
              "width": 0.5
             }
            },
            "type": "barpolar"
           }
          ],
          "carpet": [
           {
            "aaxis": {
             "endlinecolor": "#2a3f5f",
             "gridcolor": "#C8D4E3",
             "linecolor": "#C8D4E3",
             "minorgridcolor": "#C8D4E3",
             "startlinecolor": "#2a3f5f"
            },
            "baxis": {
             "endlinecolor": "#2a3f5f",
             "gridcolor": "#C8D4E3",
             "linecolor": "#C8D4E3",
             "minorgridcolor": "#C8D4E3",
             "startlinecolor": "#2a3f5f"
            },
            "type": "carpet"
           }
          ],
          "choropleth": [
           {
            "colorbar": {
             "outlinewidth": 0,
             "ticks": ""
            },
            "type": "choropleth"
           }
          ],
          "contour": [
           {
            "colorbar": {
             "outlinewidth": 0,
             "ticks": ""
            },
            "colorscale": [
             [
              0,
              "#0d0887"
             ],
             [
              0.1111111111111111,
              "#46039f"
             ],
             [
              0.2222222222222222,
              "#7201a8"
             ],
             [
              0.3333333333333333,
              "#9c179e"
             ],
             [
              0.4444444444444444,
              "#bd3786"
             ],
             [
              0.5555555555555556,
              "#d8576b"
             ],
             [
              0.6666666666666666,
              "#ed7953"
             ],
             [
              0.7777777777777778,
              "#fb9f3a"
             ],
             [
              0.8888888888888888,
              "#fdca26"
             ],
             [
              1,
              "#f0f921"
             ]
            ],
            "type": "contour"
           }
          ],
          "contourcarpet": [
           {
            "colorbar": {
             "outlinewidth": 0,
             "ticks": ""
            },
            "type": "contourcarpet"
           }
          ],
          "heatmap": [
           {
            "colorbar": {
             "outlinewidth": 0,
             "ticks": ""
            },
            "colorscale": [
             [
              0,
              "#0d0887"
             ],
             [
              0.1111111111111111,
              "#46039f"
             ],
             [
              0.2222222222222222,
              "#7201a8"
             ],
             [
              0.3333333333333333,
              "#9c179e"
             ],
             [
              0.4444444444444444,
              "#bd3786"
             ],
             [
              0.5555555555555556,
              "#d8576b"
             ],
             [
              0.6666666666666666,
              "#ed7953"
             ],
             [
              0.7777777777777778,
              "#fb9f3a"
             ],
             [
              0.8888888888888888,
              "#fdca26"
             ],
             [
              1,
              "#f0f921"
             ]
            ],
            "type": "heatmap"
           }
          ],
          "heatmapgl": [
           {
            "colorbar": {
             "outlinewidth": 0,
             "ticks": ""
            },
            "colorscale": [
             [
              0,
              "#0d0887"
             ],
             [
              0.1111111111111111,
              "#46039f"
             ],
             [
              0.2222222222222222,
              "#7201a8"
             ],
             [
              0.3333333333333333,
              "#9c179e"
             ],
             [
              0.4444444444444444,
              "#bd3786"
             ],
             [
              0.5555555555555556,
              "#d8576b"
             ],
             [
              0.6666666666666666,
              "#ed7953"
             ],
             [
              0.7777777777777778,
              "#fb9f3a"
             ],
             [
              0.8888888888888888,
              "#fdca26"
             ],
             [
              1,
              "#f0f921"
             ]
            ],
            "type": "heatmapgl"
           }
          ],
          "histogram": [
           {
            "marker": {
             "colorbar": {
              "outlinewidth": 0,
              "ticks": ""
             }
            },
            "type": "histogram"
           }
          ],
          "histogram2d": [
           {
            "colorbar": {
             "outlinewidth": 0,
             "ticks": ""
            },
            "colorscale": [
             [
              0,
              "#0d0887"
             ],
             [
              0.1111111111111111,
              "#46039f"
             ],
             [
              0.2222222222222222,
              "#7201a8"
             ],
             [
              0.3333333333333333,
              "#9c179e"
             ],
             [
              0.4444444444444444,
              "#bd3786"
             ],
             [
              0.5555555555555556,
              "#d8576b"
             ],
             [
              0.6666666666666666,
              "#ed7953"
             ],
             [
              0.7777777777777778,
              "#fb9f3a"
             ],
             [
              0.8888888888888888,
              "#fdca26"
             ],
             [
              1,
              "#f0f921"
             ]
            ],
            "type": "histogram2d"
           }
          ],
          "histogram2dcontour": [
           {
            "colorbar": {
             "outlinewidth": 0,
             "ticks": ""
            },
            "colorscale": [
             [
              0,
              "#0d0887"
             ],
             [
              0.1111111111111111,
              "#46039f"
             ],
             [
              0.2222222222222222,
              "#7201a8"
             ],
             [
              0.3333333333333333,
              "#9c179e"
             ],
             [
              0.4444444444444444,
              "#bd3786"
             ],
             [
              0.5555555555555556,
              "#d8576b"
             ],
             [
              0.6666666666666666,
              "#ed7953"
             ],
             [
              0.7777777777777778,
              "#fb9f3a"
             ],
             [
              0.8888888888888888,
              "#fdca26"
             ],
             [
              1,
              "#f0f921"
             ]
            ],
            "type": "histogram2dcontour"
           }
          ],
          "mesh3d": [
           {
            "colorbar": {
             "outlinewidth": 0,
             "ticks": ""
            },
            "type": "mesh3d"
           }
          ],
          "parcoords": [
           {
            "line": {
             "colorbar": {
              "outlinewidth": 0,
              "ticks": ""
             }
            },
            "type": "parcoords"
           }
          ],
          "pie": [
           {
            "automargin": true,
            "type": "pie"
           }
          ],
          "scatter": [
           {
            "marker": {
             "colorbar": {
              "outlinewidth": 0,
              "ticks": ""
             }
            },
            "type": "scatter"
           }
          ],
          "scatter3d": [
           {
            "line": {
             "colorbar": {
              "outlinewidth": 0,
              "ticks": ""
             }
            },
            "marker": {
             "colorbar": {
              "outlinewidth": 0,
              "ticks": ""
             }
            },
            "type": "scatter3d"
           }
          ],
          "scattercarpet": [
           {
            "marker": {
             "colorbar": {
              "outlinewidth": 0,
              "ticks": ""
             }
            },
            "type": "scattercarpet"
           }
          ],
          "scattergeo": [
           {
            "marker": {
             "colorbar": {
              "outlinewidth": 0,
              "ticks": ""
             }
            },
            "type": "scattergeo"
           }
          ],
          "scattergl": [
           {
            "marker": {
             "colorbar": {
              "outlinewidth": 0,
              "ticks": ""
             }
            },
            "type": "scattergl"
           }
          ],
          "scattermapbox": [
           {
            "marker": {
             "colorbar": {
              "outlinewidth": 0,
              "ticks": ""
             }
            },
            "type": "scattermapbox"
           }
          ],
          "scatterpolar": [
           {
            "marker": {
             "colorbar": {
              "outlinewidth": 0,
              "ticks": ""
             }
            },
            "type": "scatterpolar"
           }
          ],
          "scatterpolargl": [
           {
            "marker": {
             "colorbar": {
              "outlinewidth": 0,
              "ticks": ""
             }
            },
            "type": "scatterpolargl"
           }
          ],
          "scatterternary": [
           {
            "marker": {
             "colorbar": {
              "outlinewidth": 0,
              "ticks": ""
             }
            },
            "type": "scatterternary"
           }
          ],
          "surface": [
           {
            "colorbar": {
             "outlinewidth": 0,
             "ticks": ""
            },
            "colorscale": [
             [
              0,
              "#0d0887"
             ],
             [
              0.1111111111111111,
              "#46039f"
             ],
             [
              0.2222222222222222,
              "#7201a8"
             ],
             [
              0.3333333333333333,
              "#9c179e"
             ],
             [
              0.4444444444444444,
              "#bd3786"
             ],
             [
              0.5555555555555556,
              "#d8576b"
             ],
             [
              0.6666666666666666,
              "#ed7953"
             ],
             [
              0.7777777777777778,
              "#fb9f3a"
             ],
             [
              0.8888888888888888,
              "#fdca26"
             ],
             [
              1,
              "#f0f921"
             ]
            ],
            "type": "surface"
           }
          ],
          "table": [
           {
            "cells": {
             "fill": {
              "color": "#EBF0F8"
             },
             "line": {
              "color": "white"
             }
            },
            "header": {
             "fill": {
              "color": "#C8D4E3"
             },
             "line": {
              "color": "white"
             }
            },
            "type": "table"
           }
          ]
         },
         "layout": {
          "annotationdefaults": {
           "arrowcolor": "#2a3f5f",
           "arrowhead": 0,
           "arrowwidth": 1
          },
          "autotypenumbers": "strict",
          "coloraxis": {
           "colorbar": {
            "outlinewidth": 0,
            "ticks": ""
           }
          },
          "colorscale": {
           "diverging": [
            [
             0,
             "#8e0152"
            ],
            [
             0.1,
             "#c51b7d"
            ],
            [
             0.2,
             "#de77ae"
            ],
            [
             0.3,
             "#f1b6da"
            ],
            [
             0.4,
             "#fde0ef"
            ],
            [
             0.5,
             "#f7f7f7"
            ],
            [
             0.6,
             "#e6f5d0"
            ],
            [
             0.7,
             "#b8e186"
            ],
            [
             0.8,
             "#7fbc41"
            ],
            [
             0.9,
             "#4d9221"
            ],
            [
             1,
             "#276419"
            ]
           ],
           "sequential": [
            [
             0,
             "#0d0887"
            ],
            [
             0.1111111111111111,
             "#46039f"
            ],
            [
             0.2222222222222222,
             "#7201a8"
            ],
            [
             0.3333333333333333,
             "#9c179e"
            ],
            [
             0.4444444444444444,
             "#bd3786"
            ],
            [
             0.5555555555555556,
             "#d8576b"
            ],
            [
             0.6666666666666666,
             "#ed7953"
            ],
            [
             0.7777777777777778,
             "#fb9f3a"
            ],
            [
             0.8888888888888888,
             "#fdca26"
            ],
            [
             1,
             "#f0f921"
            ]
           ],
           "sequentialminus": [
            [
             0,
             "#0d0887"
            ],
            [
             0.1111111111111111,
             "#46039f"
            ],
            [
             0.2222222222222222,
             "#7201a8"
            ],
            [
             0.3333333333333333,
             "#9c179e"
            ],
            [
             0.4444444444444444,
             "#bd3786"
            ],
            [
             0.5555555555555556,
             "#d8576b"
            ],
            [
             0.6666666666666666,
             "#ed7953"
            ],
            [
             0.7777777777777778,
             "#fb9f3a"
            ],
            [
             0.8888888888888888,
             "#fdca26"
            ],
            [
             1,
             "#f0f921"
            ]
           ]
          },
          "colorway": [
           "#636efa",
           "#EF553B",
           "#00cc96",
           "#ab63fa",
           "#FFA15A",
           "#19d3f3",
           "#FF6692",
           "#B6E880",
           "#FF97FF",
           "#FECB52"
          ],
          "font": {
           "color": "#2a3f5f"
          },
          "geo": {
           "bgcolor": "white",
           "lakecolor": "white",
           "landcolor": "white",
           "showlakes": true,
           "showland": true,
           "subunitcolor": "#C8D4E3"
          },
          "hoverlabel": {
           "align": "left"
          },
          "hovermode": "closest",
          "mapbox": {
           "style": "light"
          },
          "paper_bgcolor": "white",
          "plot_bgcolor": "white",
          "polar": {
           "angularaxis": {
            "gridcolor": "#EBF0F8",
            "linecolor": "#EBF0F8",
            "ticks": ""
           },
           "bgcolor": "white",
           "radialaxis": {
            "gridcolor": "#EBF0F8",
            "linecolor": "#EBF0F8",
            "ticks": ""
           }
          },
          "scene": {
           "xaxis": {
            "backgroundcolor": "white",
            "gridcolor": "#DFE8F3",
            "gridwidth": 2,
            "linecolor": "#EBF0F8",
            "showbackground": true,
            "ticks": "",
            "zerolinecolor": "#EBF0F8"
           },
           "yaxis": {
            "backgroundcolor": "white",
            "gridcolor": "#DFE8F3",
            "gridwidth": 2,
            "linecolor": "#EBF0F8",
            "showbackground": true,
            "ticks": "",
            "zerolinecolor": "#EBF0F8"
           },
           "zaxis": {
            "backgroundcolor": "white",
            "gridcolor": "#DFE8F3",
            "gridwidth": 2,
            "linecolor": "#EBF0F8",
            "showbackground": true,
            "ticks": "",
            "zerolinecolor": "#EBF0F8"
           }
          },
          "shapedefaults": {
           "line": {
            "color": "#2a3f5f"
           }
          },
          "ternary": {
           "aaxis": {
            "gridcolor": "#DFE8F3",
            "linecolor": "#A2B1C6",
            "ticks": ""
           },
           "baxis": {
            "gridcolor": "#DFE8F3",
            "linecolor": "#A2B1C6",
            "ticks": ""
           },
           "bgcolor": "white",
           "caxis": {
            "gridcolor": "#DFE8F3",
            "linecolor": "#A2B1C6",
            "ticks": ""
           }
          },
          "title": {
           "x": 0.05
          },
          "xaxis": {
           "automargin": true,
           "gridcolor": "#EBF0F8",
           "linecolor": "#EBF0F8",
           "ticks": "",
           "title": {
            "standoff": 15
           },
           "zerolinecolor": "#EBF0F8",
           "zerolinewidth": 2
          },
          "yaxis": {
           "automargin": true,
           "gridcolor": "#EBF0F8",
           "linecolor": "#EBF0F8",
           "ticks": "",
           "title": {
            "standoff": 15
           },
           "zerolinecolor": "#EBF0F8",
           "zerolinewidth": 2
          }
         }
        },
        "title": {
         "text": "Sample of Random Assets"
        },
        "width": 850,
        "xaxis": {
         "title": {
          "text": "Annualised Risk (Volatility)"
         }
        },
        "yaxis": {
         "title": {
          "text": "Annualised Return"
         }
        }
       }
      }
     },
     "metadata": {},
     "output_type": "display_data"
    }
   ],
   "source": [
    "fig = go.Figure()\n",
    "fig.add_trace(go.Scatter(x=var, y=mus, \n",
    "                      mode='markers',\n",
    "                      text = var.axes[0].tolist()))\n",
    "fig.update_layout(template='plotly_white',\n",
    "                  xaxis=dict(title='Annualised Risk (Volatility)'),\n",
    "                  yaxis=dict(title='Annualised Return'),\n",
    "                  title='Sample of Random Assets',\n",
    "                  width=850,\n",
    "                  height=500)\n",
    "# fig.update_xaxes(range=[0.18, 0.32])\n",
    "# fig.update_yaxes(range=[0.02,0.27])"
   ]
  },
  {
   "cell_type": "code",
   "execution_count": 63,
   "metadata": {},
   "outputs": [],
   "source": [
    "#- How many assests to include in each portfolio\n",
    "n_assets = len(asset_list)\n",
    "\n",
    "\n",
    "#-- Initialize empty list to store mean-variance pairs for plotting\n",
    "mean_variance_pairs = []\n",
    "\n",
    "np.random.seed(75)\n",
    "#-- Loop through and generate lots of random portfolios\n",
    "for i in range(n_portfolios):\n",
    "    #- Choose assets randomly without replacement\n",
    "    assets = np.random.choice(list(daily_returns.columns), n_assets, replace=False)\n",
    "    #- Choose weights randomly\n",
    "    weights = np.random.rand(n_assets)\n",
    "    #- Ensure weights sum to 1\n",
    "    weights = weights/sum(weights)\n",
    "\n",
    "    #-- Loop over asset pairs and compute portfolio return and variance\n",
    "    #- https://quant.stackexchange.com/questions/43442/portfolio-variance-explanation-for-equation-investments-by-zvi-bodie\n",
    "    portfolio_E_Variance = 0\n",
    "    portfolio_E_Return = 0\n",
    "    for i in range(len(assets)):\n",
    "        portfolio_E_Return += weights[i] * mus.loc[assets[i]]\n",
    "        for j in range(len(assets)):\n",
    "            #-- Add variance/covariance for each asset pair\n",
    "            #- Note that when i==j this adds the variance\n",
    "            portfolio_E_Variance += weights[i] * weights[j] * cov.loc[assets[i], assets[j]]\n",
    "            \n",
    "    #-- Add the mean/variance pairs to a list for plotting\n",
    "    mean_variance_pairs.append([portfolio_E_Return, portfolio_E_Variance])\n",
    "    "
   ]
  },
  {
   "cell_type": "code",
   "execution_count": 64,
   "metadata": {},
   "outputs": [
    {
     "data": {
      "application/vnd.plotly.v1+json": {
       "config": {
        "plotlyServerURL": "https://plot.ly"
       },
       "data": [
        {
         "marker": {
          "color": [
           0.6670077505463872,
           0.6347813232096723,
           0.5778684903286097,
           0.6659062403173239,
           0.688544923671864,
           0.5538469443603529,
           0.6347501081606156,
           0.665370599073772,
           0.6351590749476332,
           0.66884456247531,
           0.5901534028443474,
           0.6139863256713329,
           0.6035249640290704,
           0.5355234510958231,
           0.5807538518722434,
           0.5116893851145332,
           0.6511859646687717,
           0.6058997967770536,
           0.6185182465231466,
           0.635083839417677,
           0.6685886713122136,
           0.5956752420451749,
           0.6496713830985666,
           0.6417365219570889,
           0.6647405952400024,
           0.6684445880333795,
           0.5648773992261258,
           0.5933643883110157,
           0.688977707643447,
           0.6283166243946113,
           0.5980777981716375,
           0.5975660873068782,
           0.6036687405000748,
           0.6148815799337327,
           0.6822514211267602,
           0.6530946102512503,
           0.6316626991729539,
           0.6708774245554712,
           0.6162273808927061,
           0.5734708286040063,
           0.5201469718609748,
           0.6727318179500793,
           0.6250835897178333,
           0.6883342232051566,
           0.5652828002319967,
           0.5720504829565745,
           0.6178039013010644,
           0.5849243195836635,
           0.587287900322909,
           0.6373794564338182,
           0.48088577782907976,
           0.5595496903883191,
           0.6796823225786766,
           0.6129101998015039,
           0.6769664178121185,
           0.6372829393057678,
           0.5850204486203223,
           0.7171046908483972,
           0.6708457433186943,
           0.6624882810857311,
           0.6378020716706797,
           0.5559250743274291,
           0.6038573922365406,
           0.5853342279743022,
           0.5784268693389433,
           0.5585866279747418,
           0.5689962121022512,
           0.5852104937067414,
           0.6366780297035184,
           0.5198110153370736,
           0.6976819098209682,
           0.6526586606470496,
           0.6210055969636912,
           0.6341916249010257,
           0.6410853449802004,
           0.6144067589852698,
           0.5714510757720072,
           0.5912100879709961,
           0.5893435191946981,
           0.6380047593898546,
           0.679606919405001,
           0.6278323161921885,
           0.6243405684095479,
           0.6089063819403204,
           0.6101466461885674,
           0.6678040314739427,
           0.6345692824900192,
           0.6167516323342744,
           0.6443430135073084,
           0.6665516435981005,
           0.6110827644558813,
           0.6035422838742615,
           0.6086091696379108,
           0.5428770009140768,
           0.6326596929298675,
           0.6470199159437519,
           0.6381692180032419,
           0.5557472374648587,
           0.678195125748756,
           0.6336133391828521,
           0.6483419487719329,
           0.6889968885066686,
           0.6869916480584752,
           0.5810023104244225,
           0.6885710992175332,
           0.6644899021599613,
           0.6768139559974556,
           0.6190455935925019,
           0.6500449485004748,
           0.6343037274251796,
           0.6324532951551979,
           0.5803107022940287,
           0.633153682770123,
           0.6806714261949197,
           0.6487315086530654,
           0.49118398784685774,
           0.5941838849355042,
           0.680532112117643,
           0.6519674321351747,
           0.6687883020160618,
           0.7134302193283498,
           0.5481295585500077,
           0.5433828318800079,
           0.61838637671576,
           0.5059217086213379,
           0.604761071515997,
           0.48169848266700904,
           0.7465119773304242,
           0.5867873219160844,
           0.6612882362256954,
           0.6117803146784602,
           0.5771615484547951,
           0.613222115935783,
           0.6405242934638488,
           0.6346074320700478,
           0.6491855994515966,
           0.5563700356775517,
           0.5568930324161212,
           0.6262019031000554,
           0.5691760202730628,
           0.5865147726963148,
           0.6916500964384623,
           0.7362656086762237,
           0.678490187497731,
           0.6423210518830953,
           0.6227709436580188,
           0.6449568527168086,
           0.6429811821655841,
           0.6248454905380512,
           0.5982705295314377,
           0.5692714419168915,
           0.6337900777560982,
           0.6092958110760446,
           0.6140251104059475,
           0.6862305939467718,
           0.6109002271130758,
           0.6031368489778953,
           0.5780922243566058,
           0.5919453029481118,
           0.581413435396787,
           0.6121352397618535,
           0.6612435819972526,
           0.612530158909402,
           0.6018294329148621,
           0.6235289284420897,
           0.5714794721939027,
           0.6856497492088678,
           0.7412827527797826,
           0.7085667408786773,
           0.5914122889182517,
           0.6674645486967969,
           0.6969531049489601,
           0.6741337988986864,
           0.541054834482365,
           0.6242775837946517,
           0.6744874825472501,
           0.5454290272796437,
           0.5541232606683484,
           0.6768704658583343,
           0.6074055754254374,
           0.6368578206258823,
           0.6478563756243971,
           0.677576800876794,
           0.6593358276631497,
           0.612343885548686,
           0.5691797770935582,
           0.6299416931454612,
           0.7100025195421392,
           0.6133302443189554,
           0.6707137952316078,
           0.6017624386009068,
           0.6247442696523422,
           0.6109152172408303,
           0.720105043759349,
           0.6937613465435186,
           0.6475333842986464,
           0.6243071701354881,
           0.60903053656056,
           0.6911847890827824,
           0.7259985086445994,
           0.6236096427072962,
           0.6020037928658408,
           0.6159576734758864,
           0.6310050416768889,
           0.6191086826746551,
           0.6796401929102903,
           0.6449852610040233,
           0.5660729692885276,
           0.6876935351896601,
           0.676493254202997,
           0.6599106880695138,
           0.551176234936889,
           0.580372390298416,
           0.6188522155525777,
           0.6555894340274326,
           0.5946500814909613,
           0.6803914656080962,
           0.5382555008451058,
           0.5786463997578879,
           0.575341451945081,
           0.5827826904761176,
           0.5802000850594686,
           0.6630651172042983,
           0.560681671938192,
           0.6507617530757203,
           0.6680350371372026,
           0.6561662511826039,
           0.6063635362326952,
           0.6574255595532741,
           0.6556529415818554,
           0.5480406344774487,
           0.5904679146066568,
           0.6694541997438934,
           0.545643138087846,
           0.6304972788362665,
           0.5531985999332527,
           0.6019380966097614,
           0.6307678756178977,
           0.6216409902975857,
           0.6085114505590047,
           0.6584364417957476,
           0.5736637406128436,
           0.5816488946307192,
           0.6531461621053904,
           0.6322700680967589,
           0.5929498916484183,
           0.6485464533456509,
           0.7003239325931023,
           0.5807206262407724,
           0.6226439692621503,
           0.640666106423718,
           0.6521291918661899,
           0.664888478575625,
           0.6520989105650824,
           0.5222606298853522,
           0.6352294055568415,
           0.4858069947531023,
           0.6923833906955356,
           0.5708941541547927,
           0.6079561204582772,
           0.6199086441843998,
           0.6745478410815205,
           0.7082936611495321,
           0.6554021012273691,
           0.5684574911940528,
           0.658653819205693,
           0.6985109747575236,
           0.6338236430743917,
           0.5814223970918118,
           0.6767378392586837,
           0.6224234596672613,
           0.6889371104541443,
           0.6524348152738904,
           0.6830653531885031,
           0.6799452687617504,
           0.6327390587259984,
           0.6933698041362879,
           0.6387792845192762,
           0.680426511020207,
           0.6306460733370985,
           0.6379691709310403,
           0.6602094240167073,
           0.6453914732833086,
           0.6626112997621117,
           0.601184739636282,
           0.6419214752986284,
           0.6001932314786341,
           0.6328912622139039,
           0.6572341565321342,
           0.6353885966401455,
           0.6734434848046943,
           0.6308035994451899,
           0.72350936845942,
           0.6958272533071969,
           0.6638619958692823,
           0.6570720691996486,
           0.6005195333690028,
           0.7258937504325359,
           0.6951369540325424,
           0.6586050582877524,
           0.6266905372926316,
           0.560825849202358,
           0.5626019499195235,
           0.6383682123519915,
           0.6492289895506748,
           0.6773172418333567,
           0.709366331358531,
           0.6197887770761271,
           0.6792497924355463,
           0.6902878114271493,
           0.6823733211620815,
           0.6892278402462515,
           0.6896223604836967,
           0.6137218334535269,
           0.6163048385032315,
           0.6331933437262596,
           0.6477401407304986,
           0.6082626876691808,
           0.7111776815831495,
           0.6695080015759913,
           0.5602178200334827,
           0.6333788140819223,
           0.7076884948427306,
           0.7071415584745948,
           0.6565319522101831,
           0.6673614529403017,
           0.5765351069457426,
           0.5610679403532186,
           0.6424754003376897,
           0.6570698494001513,
           0.543316111067029,
           0.5978576654225576,
           0.7139961167389305,
           0.6535657274686357,
           0.5525368548839432,
           0.557035362391247,
           0.5949349952767804,
           0.5677748977943949,
           0.6790463755724191,
           0.699283050461854,
           0.5835092619818639,
           0.6974146694251034,
           0.6138062193732209,
           0.548386743854339,
           0.571854686793285,
           0.6378241560308369,
           0.707239891715199,
           0.5991521625306154,
           0.5531256006638419,
           0.6600006172768972,
           0.6629221466658161,
           0.6154136182416625,
           0.524991801294318,
           0.6638243156091281,
           0.6378550344022439,
           0.7435622105252327,
           0.6577924170640533,
           0.6737830257158216,
           0.5856776571814274,
           0.6610396944309701,
           0.5952382473571728,
           0.627875608591147,
           0.5642761799038738,
           0.6879195494767715,
           0.6877932514839711,
           0.5604195508155969,
           0.6465660390157657,
           0.535461976239327,
           0.6236487080199233,
           0.6765802652494701,
           0.6173205392780361,
           0.6489954099663723,
           0.7016755513196863,
           0.684822090779206,
           0.6505936396276428,
           0.6035343881632218,
           0.7076685266823627,
           0.6605243642135097,
           0.6194135387893209,
           0.6665113775826845,
           0.5818395197503691,
           0.6638316889598194,
           0.6136715752159203,
           0.6380399547012927,
           0.6781893461282414,
           0.6954303943398309,
           0.6323847331803466,
           0.6787595844038088,
           0.6794706159135836,
           0.6906114237281431,
           0.5836994777906142,
           0.71037156749369,
           0.6562893665547664,
           0.6835087818528133,
           0.6682542235647823,
           0.559003161622767,
           0.5824136098684395,
           0.7439177003406415,
           0.6717485116382743,
           0.6215335038951221,
           0.6083548942308643,
           0.6996001445842863,
           0.5405973889638293,
           0.6057717485343111,
           0.6462019798038007,
           0.5762375424400319,
           0.6431214610349625,
           0.6627121865024982,
           0.6813919992980105,
           0.6656243883113421,
           0.7138700592169214,
           0.6584708398534176,
           0.6192961285445855,
           0.5897090303270351,
           0.6989342394005444,
           0.707287359918294,
           0.5551807503878191,
           0.5913061316286512,
           0.6405128909581127,
           0.6034531521179414,
           0.6948566535660501,
           0.628523403900042,
           0.6661061031363107,
           0.588964609459428,
           0.652601443190527,
           0.6088108648735084,
           0.6513060289558071,
           0.5889352264794737,
           0.593679777096863,
           0.6277363639386002,
           0.656812945500411,
           0.5911800807203705,
           0.5925297035930159,
           0.6296517099522828,
           0.6435528765611789,
           0.5985510834144889,
           0.5792607969325642,
           0.6150389491314511,
           0.6787667280144843,
           0.6215681168860325,
           0.5416287474014521,
           0.6636126519693185,
           0.6483175131628913,
           0.6094512651455792,
           0.5689600578338505,
           0.6749963617482322,
           0.6856260233184168,
           0.6235445296834605,
           0.6839465594651072,
           0.7319801609139021,
           0.6633406851376525,
           0.6480637771532854,
           0.6230624022940864,
           0.5472665961501865,
           0.6500496196895369,
           0.6052489186017306,
           0.6891604551789703,
           0.6372623550481736,
           0.656737671336701,
           0.5814240293171072,
           0.5715269669221041,
           0.7004757936048414,
           0.6751638113436338,
           0.6594981811787081,
           0.7022142574846854,
           0.5586785418624081,
           0.731483440865157,
           0.6464229673821017,
           0.7004474713249513,
           0.7061137529718075,
           0.6916616143746361,
           0.6665778322369224,
           0.677121109571478,
           0.7070584238959627,
           0.6638685045767917,
           0.6726533887138547,
           0.6163675313553196,
           0.6136804629619862,
           0.5514734010708681,
           0.6406768934135793,
           0.638675727560994,
           0.6756885329152837,
           0.6397320626556439,
           0.6722488201315471,
           0.6889262713184992,
           0.5537524022778613,
           0.5909439936779048,
           0.5611585546463991,
           0.6793204527536315,
           0.6235845636305573,
           0.6734925317144033,
           0.5473761166886051,
           0.6278034887649132,
           0.5974567027589747,
           0.6797765906226861,
           0.6723296129899534,
           0.670962737568624,
           0.6320143239064762,
           0.575786658577046,
           0.6779271211754011,
           0.6653332147118556,
           0.6635650301454912,
           0.5781272656200591,
           0.6700595470192339,
           0.7101965080658122,
           0.5664389123342087,
           0.6817215967184831,
           0.6868663850033396,
           0.6140067579058637,
           0.6907273461067331,
           0.7053281139333476,
           0.5875861922221385,
           0.6781510791818095,
           0.6424785578746914,
           0.6137060998721726,
           0.7241624531824259,
           0.6810983877064024,
           0.6337161242028249,
           0.5446014261844981,
           0.6754876341177434,
           0.6504709929682577,
           0.6717236015597026,
           0.7054224072528689,
           0.5837454076929611,
           0.545567660307866,
           0.6302316533017032,
           0.6630231431296134,
           0.7381314935005235,
           0.591176783312788,
           0.69503299729642,
           0.628799195290026,
           0.6075944845261658,
           0.6328382935433361,
           0.6548360977912568,
           0.6124233537571809,
           0.6825465119594782,
           0.663484050482515,
           0.6183781552282972,
           0.6495923673699244,
           0.6627925272962318,
           0.5377354046506627,
           0.6546853061795029,
           0.6734282978272664,
           0.6934791332839152,
           0.6729198796662381,
           0.6962548205895683,
           0.6341215416078874,
           0.6672119135932482,
           0.6852339377456619,
           0.6959762776854194,
           0.7022764816607294,
           0.6197635246077028,
           0.6358653155341345,
           0.6015895299805814,
           0.5472712827350591,
           0.7323974450742543,
           0.5918272716687514,
           0.6847132510036038,
           0.6903081883676383,
           0.6765181080114773,
           0.6819535848339272,
           0.6888838409379201,
           0.634578478793143,
           0.643382577384362,
           0.6444482554931971,
           0.6170260588779184,
           0.582045343169958,
           0.6240778113852269,
           0.634383395924911,
           0.5224251825890585,
           0.6828216080078078,
           0.6849340393316684,
           0.595348412861428,
           0.5916259731701289,
           0.6317506232095279,
           0.5594530163424452,
           0.6019148034051633,
           0.7004959643361639,
           0.6382609919037968,
           0.5790598840368972,
           0.692700216178162,
           0.6981100851735598,
           0.6577020935315466,
           0.6085142812012282,
           0.6583081227170515,
           0.6299330914323577,
           0.635981932486802,
           0.5205174024588407,
           0.5924938514481973,
           0.6763793896673532,
           0.5687023485139322,
           0.6603415560571836,
           0.6523645697951449,
           0.669690393627483,
           0.6609011043151677,
           0.561583401693526,
           0.682255477342797,
           0.6327700209182452,
           0.7006414184520255,
           0.6924047701110948,
           0.5784264781939076,
           0.7033285905087722,
           0.6456359687672765,
           0.6764593200239372,
           0.5628673174819018,
           0.6253693419073386,
           0.6944271735559678,
           0.5573836679054939,
           0.5889726092326583,
           0.6310283426936221,
           0.6534355589965503,
           0.5421207449218035,
           0.6469200128766819,
           0.6150749055837438,
           0.5860353470155685,
           0.6885000698784529,
           0.6082395817211743,
           0.659980423976427,
           0.681597482424022,
           0.6027737481126332,
           0.6304828316672196,
           0.49091693570543615,
           0.5921080723546458,
           0.6077407072422824,
           0.6673182717879115,
           0.5480978601360557,
           0.6185068250670753,
           0.6803363992461627,
           0.662866320489095,
           0.6503982171376769,
           0.6627492303397153,
           0.5797035301464409,
           0.6546036971431005,
           0.655760867469551,
           0.5399663278579897,
           0.7050249218545708,
           0.5886815286416607,
           0.599442309648656,
           0.6167740533584519,
           0.7383820710092968,
           0.691922161334428,
           0.5734058659605391,
           0.708658748479284,
           0.6872058286312323,
           0.5789957636853942,
           0.6208738827190425,
           0.6099255305342959,
           0.6736118023009313,
           0.6685988905284084,
           0.6908371999418099,
           0.6525247063533005,
           0.6584409438169198,
           0.6121062869111558,
           0.6495511325004903,
           0.6666261403541055,
           0.6230878773396779,
           0.5654974618931302,
           0.6648160427325479,
           0.6926949089640255,
           0.644800926338479,
           0.6615021715241731,
           0.6581363061744614,
           0.6645039172677922,
           0.6075041333756172,
           0.6541765749716704,
           0.6349902278176897,
           0.5957206233271234,
           0.6467453563680882,
           0.6297768907543816,
           0.6040932732390437,
           0.6594003416611401,
           0.6652432840249191,
           0.6674124731329568,
           0.5449514550612927,
           0.6942674555982408,
           0.48695668266542314,
           0.6024874114100495,
           0.6539488892852593,
           0.6586066925200116,
           0.6723379303989918,
           0.6161289855759376,
           0.6780890264287335,
           0.6616279587168764,
           0.5538537688433995,
           0.6488486076589725,
           0.49247374726234333,
           0.6095829290176817,
           0.5950524529238574,
           0.6112311885528277,
           0.6119090499203792,
           0.6666736956921144,
           0.6377809179060966,
           0.6794639179123015,
           0.7140767566113153,
           0.6565753426426851,
           0.6931429247143871,
           0.5619108079067511,
           0.6619390840479284,
           0.5700555915866578,
           0.5409713707344048,
           0.6671887721428886,
           0.6629759592026484,
           0.5165353601331453,
           0.7092643686554532,
           0.5830678869284941,
           0.6072392626898128,
           0.5608699508771823,
           0.6378970751278603,
           0.6244750048379368,
           0.6189688877252705,
           0.6331761512262019,
           0.6683046147995276,
           0.6689394949523731,
           0.5521124668096944,
           0.672217344258344,
           0.6316867126218491,
           0.6679384802450631,
           0.575196778567558,
           0.544086516052544,
           0.5719111175137835,
           0.6591819732606176,
           0.7248863088708095,
           0.661706592286975,
           0.6452287253772752,
           0.5308545693661454,
           0.617160869528419,
           0.6653527301199967,
           0.5337957836699427,
           0.6845357444113626,
           0.6684601350438648,
           0.5925755802516258,
           0.6397677021493103,
           0.6187909473891018,
           0.6805847772184159,
           0.6246501202781383,
           0.6221829150878297,
           0.6842069971718422,
           0.72477705587925,
           0.5592614020347313,
           0.6822035265743538,
           0.6885503678596488,
           0.665795554839529,
           0.695873687662935,
           0.6483731675357196,
           0.5624205939773201,
           0.6421500055411199,
           0.665122726102651,
           0.6905298540202282,
           0.6351808940470232,
           0.6523244139609407,
           0.6179128225477927,
           0.61169253968015,
           0.6473034342942859,
           0.6421646967880031,
           0.6957247367602789,
           0.6792258856864084,
           0.5922493275677947,
           0.5500931528089881,
           0.6595659794269924,
           0.5988709238895479,
           0.5955326054564454,
           0.5789060990274036,
           0.6602711883026433,
           0.6580262817757904,
           0.6255439875945534,
           0.5313308705103043,
           0.6518143196373984,
           0.5735222036364996,
           0.6010722092094393,
           0.6109818855231608,
           0.5341868697064309,
           0.6078945773417275,
           0.6115909788218779,
           0.6020416901475059,
           0.6862354982332072,
           0.6207312297326212,
           0.6499318124083868,
           0.49594286900510526,
           0.7033855094327391,
           0.6053369137218394,
           0.6758767450530494,
           0.7177910487979161,
           0.50129026976129,
           0.5813839518398578,
           0.5488357096947668,
           0.6078530561972161,
           0.5758467441639125,
           0.7015495132672739,
           0.6984659271261746,
           0.6817381375336992,
           0.6342155162194921,
           0.6996606398840176,
           0.6703303922679194,
           0.626015770640555,
           0.5330811974606435,
           0.6521588915415257,
           0.6902659396886287,
           0.7276532249086172,
           0.635810892381756,
           0.6980452058362144,
           0.5725830892659841,
           0.6470047598304035,
           0.6828887234160674,
           0.5957345349093108,
           0.6527226855306806,
           0.6482523425996581,
           0.6573508841430481,
           0.6060077149551156,
           0.6940103574204641,
           0.6701681349526379,
           0.5708657362320467,
           0.5852731613717419,
           0.6600937479525013,
           0.6528120341034618,
           0.5802306914128462,
           0.6646417047589748,
           0.5300229982489909,
           0.6228275711976573,
           0.6622181282524193,
           0.5731947600734104,
           0.6800616095828405,
           0.6056964828216497,
           0.6429006048246522,
           0.5874577261022961,
           0.597839370340946,
           0.5675051946002744,
           0.6128400652578029,
           0.5695168894572857,
           0.6462251099532349,
           0.6803233049332594,
           0.689866101721928,
           0.6744191979531656,
           0.684338200417015,
           0.6947251466644795,
           0.639801824164068,
           0.6433738321547474,
           0.5915960820399409,
           0.6333714530797104,
           0.5939428937143894,
           0.6191344286914826,
           0.650505215397149,
           0.6055161912359399,
           0.6567508080398108,
           0.6050162758677106,
           0.6480116834529027,
           0.6511703454832807,
           0.5966069164009228,
           0.6853163765875733,
           0.6996690359160389,
           0.6782519294786595,
           0.5450303265646516,
           0.541401101329638,
           0.5901824412212816,
           0.5743192033991449,
           0.7015437247156796,
           0.7072725085622098,
           0.5666021441046722,
           0.515349283416174,
           0.6815767901392975,
           0.6639979341005703,
           0.6714804968691682,
           0.6807643067198229,
           0.4974662433937467,
           0.7047021061180815,
           0.5670290837734123,
           0.6746069197108232,
           0.7075692925907825,
           0.7022787242366959,
           0.6123813393133589,
           0.6396459293458882,
           0.6436433237197586,
           0.6205009529719893,
           0.6645060800582975,
           0.61806270791603,
           0.6260655215236608,
           0.619680110901007,
           0.6296413813644879,
           0.6054852216235918,
           0.5439656263683834,
           0.676183741148575,
           0.6113073311511211,
           0.6129835410151381,
           0.5839911908276564,
           0.6986968310681121,
           0.6313865734957854,
           0.658547788765691,
           0.6836564426686825,
           0.6416668842076816,
           0.6107704831424,
           0.6441090586080627,
           0.5969450669030827,
           0.6509222765263913,
           0.7298494802629438,
           0.5689819968846249,
           0.6397801000675152,
           0.6019231186787645,
           0.5989220495382189,
           0.6209319906749748,
           0.637063451697654,
           0.5637188515619804,
           0.6942803782321861,
           0.6039333421747473,
           0.6956337497866387,
           0.6130646422003054,
           0.5636489150374859,
           0.673836664957697,
           0.6277317267253284,
           0.7205776628725502,
           0.6300785033390839,
           0.6355673559354128,
           0.5079415602671711,
           0.710370093692678,
           0.7050712487932048,
           0.7087963118673097,
           0.660275623615187,
           0.6747489038649888,
           0.6277182374030353,
           0.6215745574005832,
           0.6194887659753463,
           0.5733070605121001,
           0.6726316923249165,
           0.5915355046093443,
           0.6428408565390796,
           0.6725959507852435,
           0.6482672190047921,
           0.7269994460390184,
           0.5706891336762947,
           0.5731599762349735,
           0.5549134540313939,
           0.6322598651698021,
           0.6664871556543338,
           0.6540600922596576,
           0.67703209742695,
           0.7074680034287452,
           0.6754159799524344,
           0.67899960044609,
           0.6126887828010648,
           0.6312956151673037,
           0.6258937234956948,
           0.6853621332307825,
           0.6251980678997394,
           0.580387277725365,
           0.636435235374293,
           0.663926977744479,
           0.5253470908089063,
           0.6862358990121703,
           0.6270483533518828,
           0.6473927001303349,
           0.6638849875934827,
           0.6437204988664309,
           0.5806681726811725,
           0.6038323176786986,
           0.7108747852606334,
           0.6374271343224256,
           0.5059462667195662,
           0.61279586091063,
           0.5788422802377124,
           0.6435855310064812,
           0.6918283736715127,
           0.5664542129097931,
           0.5351773936036238,
           0.7085214620144887,
           0.5924327610182338,
           0.6702495811520266,
           0.6209093834135386,
           0.7260485789025953,
           0.5959750190076334,
           0.6724609047605091,
           0.6547782644464589,
           0.6167992441319682,
           0.5662217940579537,
           0.5997165431738251,
           0.6323013982093857,
           0.6313658331951914,
           0.5529913675038116,
           0.5907733935493322,
           0.6254681066670876,
           0.7170103143126378,
           0.6252668282999949,
           0.5526662157733617,
           0.6847452454139478,
           0.6745536967479827,
           0.7175786283333238,
           0.6752733669283078,
           0.600710167332416,
           0.6665319283146849,
           0.629312685424779,
           0.6112352051411413,
           0.6868948662633998,
           0.5952097662841452,
           0.5837251086601829,
           0.6610358229594973,
           0.5776140502406353,
           0.6398387590815294,
           0.6365564219833223,
           0.6154012622539059,
           0.6624148478715869,
           0.5854317057475954,
           0.5964050895804153,
           0.6683593611838808
          ],
          "colorbar": {
           "title": {
            "text": "Sharpe<br>Ratio"
           }
          },
          "colorscale": [
           [
            0,
            "rgb(103,0,31)"
           ],
           [
            0.1,
            "rgb(178,24,43)"
           ],
           [
            0.2,
            "rgb(214,96,77)"
           ],
           [
            0.3,
            "rgb(244,165,130)"
           ],
           [
            0.4,
            "rgb(253,219,199)"
           ],
           [
            0.5,
            "rgb(247,247,247)"
           ],
           [
            0.6,
            "rgb(209,229,240)"
           ],
           [
            0.7,
            "rgb(146,197,222)"
           ],
           [
            0.8,
            "rgb(67,147,195)"
           ],
           [
            0.9,
            "rgb(33,102,172)"
           ],
           [
            1,
            "rgb(5,48,97)"
           ]
          ],
          "line": {
           "width": 1
          },
          "showscale": true,
          "size": 7
         },
         "mode": "markers",
         "type": "scatter",
         "x": [
          0.20236639648869315,
          0.20889902134926622,
          0.19817526452240763,
          0.22369658213865393,
          0.2208571176614278,
          0.19239738430892073,
          0.22293095386071488,
          0.21729202538385367,
          0.21077259005780555,
          0.2267348545539645,
          0.20374542520013464,
          0.20021735034035817,
          0.21227126034955568,
          0.1939899332526434,
          0.1948477556865154,
          0.1955754684630088,
          0.21184264271860667,
          0.2050822265101933,
          0.20227373566472492,
          0.20327733784375085,
          0.23336396499383702,
          0.20829819954725376,
          0.21061547975030437,
          0.20107082952958408,
          0.22234670865221207,
          0.22433951275796712,
          0.20078184044108802,
          0.19756441269205155,
          0.24033796153410264,
          0.20186815093013277,
          0.21130450763800557,
          0.19755419163484628,
          0.20343859650078355,
          0.19586493915791744,
          0.22015443686116262,
          0.2142097564287764,
          0.2198883670576369,
          0.2082063540913808,
          0.20263996842657614,
          0.20529056668856238,
          0.1961186647355936,
          0.2270615650924077,
          0.2057326042918364,
          0.2254806711247382,
          0.20256864067850872,
          0.19661058356881944,
          0.2089397327377555,
          0.20504790984340643,
          0.20318758486906932,
          0.21882441135065778,
          0.17959926574246246,
          0.19486739715905574,
          0.21349217430955636,
          0.20696870039970247,
          0.2199106157272793,
          0.20013622186767888,
          0.19618659182817832,
          0.2305207849178626,
          0.21650533645912456,
          0.21709822243152144,
          0.21561725970269552,
          0.1908980839619842,
          0.203513070851474,
          0.21472288285915156,
          0.19964101198052453,
          0.1912573039630703,
          0.20080010749714447,
          0.184459467651641,
          0.2008076882503826,
          0.20258693814396853,
          0.23473470858534456,
          0.21970529275893314,
          0.20514722645827585,
          0.21312220225030679,
          0.21237271453909676,
          0.1954934952774632,
          0.2091188347370893,
          0.1904758408646488,
          0.19624538621498694,
          0.20720330884825128,
          0.2138250325971239,
          0.2038115378257964,
          0.20550234860519465,
          0.21628568808295004,
          0.2098283112611249,
          0.22101537457602966,
          0.21856005686041127,
          0.2076790690367389,
          0.20847085320870484,
          0.2168122761927336,
          0.2015570033287794,
          0.20677832033170299,
          0.20235356082721512,
          0.1902150704614875,
          0.20644439433031264,
          0.22666525053686823,
          0.20858812405239757,
          0.1994047685461973,
          0.23075356595267865,
          0.20199034617362477,
          0.2237409601350391,
          0.21258927832551913,
          0.2294774408581756,
          0.2041921064046961,
          0.22030148472050595,
          0.21467810926242512,
          0.22504813638321672,
          0.22223199822408327,
          0.23170863316721682,
          0.22040357989954365,
          0.21134458883452462,
          0.20017762408304773,
          0.23752426766473597,
          0.23159629456914732,
          0.21467643251621912,
          0.18468263970135054,
          0.20296885104890436,
          0.22226314507647907,
          0.2177192536734439,
          0.21747967663875237,
          0.22901028127514467,
          0.19616611361139766,
          0.2017754508214835,
          0.2052758000385455,
          0.18664745543271477,
          0.1978536080355656,
          0.2051241252252937,
          0.2384775014474801,
          0.19388515322771221,
          0.22419214058341047,
          0.2105349753402123,
          0.196647349005761,
          0.20105925866106056,
          0.20925579242152206,
          0.21539271112688774,
          0.2146960979022693,
          0.1965774647234169,
          0.19368437455230006,
          0.21049765446786514,
          0.19275148305144604,
          0.2006898098682937,
          0.22092069177384924,
          0.22757803262302692,
          0.22679693558312758,
          0.21029517696415825,
          0.20254757774747367,
          0.2125500845318405,
          0.20358858635347232,
          0.22203759634667816,
          0.20762720415834454,
          0.20252221466189657,
          0.20175749644464197,
          0.20753529173406216,
          0.1989137640062487,
          0.21928398585727013,
          0.20295333090181644,
          0.1904348089736803,
          0.19409581974128326,
          0.207051195195146,
          0.19869825894295504,
          0.20530423920006022,
          0.22041521215757612,
          0.20043606184200347,
          0.2116075938483054,
          0.1971984149101434,
          0.21138738899141185,
          0.22284538461640382,
          0.2571153055178742,
          0.23461427191241857,
          0.195568252452719,
          0.20869909817357618,
          0.23128033755244443,
          0.22624432278772347,
          0.18718412532742415,
          0.21374724275100454,
          0.2089917290193416,
          0.19088756309852092,
          0.20917862951084323,
          0.24356648579638535,
          0.19796598516343447,
          0.21150281130165777,
          0.219284048342175,
          0.21987493288589788,
          0.20794429499342545,
          0.21151765275505496,
          0.1987302989177685,
          0.2165724320343874,
          0.2263627494377256,
          0.20822295117574055,
          0.21307728200468903,
          0.20622744900210024,
          0.21970224182521525,
          0.2056021301094753,
          0.23395863928455404,
          0.22541490387738575,
          0.21095167427887462,
          0.20692954004713715,
          0.1983129787978411,
          0.2218228368710091,
          0.22709808305630025,
          0.20699552677579022,
          0.2030701547030812,
          0.1976811331996135,
          0.20808503045331891,
          0.20104360277671526,
          0.22244526237992573,
          0.2166511312065338,
          0.19901390860638285,
          0.22195632508291105,
          0.23063561463350427,
          0.21748939129383033,
          0.2008194446266778,
          0.20371324720354306,
          0.19625779791994216,
          0.2211989872421342,
          0.19861424701083466,
          0.21962962421707882,
          0.19287528516107727,
          0.19476665042596944,
          0.2105146059031882,
          0.19693328524576917,
          0.19757667921134547,
          0.20879282181187478,
          0.2010983472050308,
          0.21860893155726008,
          0.22034040282932346,
          0.21485068236706395,
          0.1923917600250766,
          0.23146047772896483,
          0.20851075549000472,
          0.20044893518402498,
          0.20284849683425324,
          0.2099353552479328,
          0.18979565517850647,
          0.20592894479313403,
          0.20617697859224188,
          0.21396789550105724,
          0.20578963639349168,
          0.21145355225128287,
          0.19465778044199092,
          0.2143078715025107,
          0.19971528256541907,
          0.20710572855889833,
          0.20828567449467278,
          0.1956968308242192,
          0.20492309264079878,
          0.2235997869076984,
          0.23196922730310202,
          0.20142011936429485,
          0.20860234437806233,
          0.21116817432664853,
          0.2081859859556372,
          0.21093379259292785,
          0.2120972655998844,
          0.18450243884839596,
          0.2013180744590122,
          0.19160207762924378,
          0.22431806255091513,
          0.19714926528438698,
          0.2235377443392513,
          0.21615470405185938,
          0.21331371513617683,
          0.25155851288341746,
          0.21885742229250696,
          0.19619023311814707,
          0.22135661893335662,
          0.242760538950094,
          0.1967851690356321,
          0.19914567100729727,
          0.22231862285233822,
          0.21079887067394654,
          0.21310273475098346,
          0.20972588795307537,
          0.21635316005283292,
          0.22053795724539418,
          0.19793728041773012,
          0.22227884687967966,
          0.2120354518840669,
          0.21560111309871574,
          0.20978540633737855,
          0.2158976246676192,
          0.21465352991582148,
          0.21056173831425584,
          0.21875842039832832,
          0.20649615210569755,
          0.2047295755986372,
          0.19949437686160132,
          0.21885680502635832,
          0.21240931597007362,
          0.2023519880310872,
          0.21505165040882732,
          0.21352437411204497,
          0.24635187890851928,
          0.2213941123141565,
          0.21573484389092315,
          0.22794308437731603,
          0.21035983813073006,
          0.2301527035066601,
          0.22618515158407954,
          0.21292105733829114,
          0.21234533597585145,
          0.19677540657745296,
          0.19321714061687478,
          0.2205988535972597,
          0.20625239413190458,
          0.22072192749124261,
          0.22426590991627293,
          0.19700250583990958,
          0.21942662270115448,
          0.21235626292619858,
          0.2252149415838026,
          0.2225674492893777,
          0.22218646232738284,
          0.21495883922555248,
          0.20766389382257416,
          0.2054154060935324,
          0.22214685413118287,
          0.2124204690652804,
          0.22921338679346578,
          0.21453139906337731,
          0.1885150246428375,
          0.2069442306670029,
          0.23672212958051883,
          0.23840808456489546,
          0.2074471699467867,
          0.2167866137025427,
          0.19060768436060221,
          0.19527418267877153,
          0.22054008463284214,
          0.21535652427309665,
          0.19125165948588713,
          0.21488497662103126,
          0.247396339500587,
          0.21047878471340845,
          0.1965214020986784,
          0.1959205810231797,
          0.206875004031581,
          0.2006009095446248,
          0.21573925164455204,
          0.23166676050844154,
          0.1926924650785942,
          0.22072801589317587,
          0.21275911165475614,
          0.2054523260432234,
          0.1858607883383943,
          0.2058619962518295,
          0.2391391615425967,
          0.21745292920748657,
          0.18914362951102623,
          0.21642386198800054,
          0.21134136349058083,
          0.2035176522668745,
          0.1830921158070025,
          0.21978146379110375,
          0.21384474015553218,
          0.25880587419784,
          0.21154118785391782,
          0.21675157813720353,
          0.19934440404581613,
          0.2295526837543681,
          0.2016931256930418,
          0.20100142269955876,
          0.19008136198710698,
          0.22144188299368547,
          0.21214200101327724,
          0.20034241390954852,
          0.21763639661005363,
          0.18933178158608457,
          0.2127449696219878,
          0.21882976553609138,
          0.1987676819468484,
          0.21088802328933975,
          0.22158820070017474,
          0.2282734718382154,
          0.20973087885238728,
          0.20102866679747727,
          0.21779376040648937,
          0.2050465866586122,
          0.22197605761370517,
          0.2054549943604758,
          0.19035132101622432,
          0.21298347538594753,
          0.209001326366204,
          0.20614496873675658,
          0.2281674152203308,
          0.21477161851254667,
          0.20389259724364167,
          0.22784164910768254,
          0.2131552842677023,
          0.22396315914897602,
          0.19136013283087908,
          0.22513526494891284,
          0.21783462883151272,
          0.23159777108686008,
          0.21016043805012327,
          0.2014616279649867,
          0.20353115235634844,
          0.24491081738463039,
          0.21746618725409284,
          0.20028114390616808,
          0.20525840370427334,
          0.2286821148641495,
          0.19059793545032735,
          0.21357084828368977,
          0.21551858712095553,
          0.20492194247444515,
          0.22512447476417355,
          0.22657403952583216,
          0.2290628450567701,
          0.2343632009376116,
          0.2280204664530395,
          0.20645625560846317,
          0.21698014687998923,
          0.20911794382125892,
          0.22692367940888505,
          0.23267405025221438,
          0.20184297249748728,
          0.2037458770164369,
          0.21979510830514717,
          0.19737830993097852,
          0.2245839954742744,
          0.20153980709472052,
          0.23377258111683008,
          0.18677837606866485,
          0.21951665861293523,
          0.20841563799648544,
          0.21562338717788257,
          0.22123453265988047,
          0.19992404290637958,
          0.2120172797732275,
          0.2105803956493057,
          0.19620528575082238,
          0.20382199713694316,
          0.23967632506596415,
          0.2213435418083537,
          0.19904986172523656,
          0.18545612586774313,
          0.2084315876275779,
          0.2327796940625906,
          0.20691304489783838,
          0.1982774799991598,
          0.2112552994443972,
          0.21114440291860723,
          0.2003316909068168,
          0.20121441821447575,
          0.22444964681591964,
          0.22128313364133378,
          0.20464359593227371,
          0.22065932895877646,
          0.25886758340014754,
          0.2263350647312132,
          0.20683678179712478,
          0.21611915604730733,
          0.19661013629414534,
          0.206121620829224,
          0.20888845501582362,
          0.22741107201595634,
          0.21070097117236938,
          0.21796576489331354,
          0.21712296997315428,
          0.19325147118025715,
          0.2279253141319632,
          0.2219440769264946,
          0.21157901996470713,
          0.2253493724473667,
          0.19597103338148894,
          0.2453898824621869,
          0.21248625212709443,
          0.252230434465488,
          0.2277549017691619,
          0.22372511403079104,
          0.2147710696452273,
          0.2163975465969065,
          0.2555287428981086,
          0.19994742174277347,
          0.22294164625075127,
          0.20495432493265583,
          0.20318601648515497,
          0.19806066132687836,
          0.20719277541329809,
          0.21089978818742036,
          0.214676999261536,
          0.20801760209195752,
          0.224075381919511,
          0.2281553585347062,
          0.19703051285626347,
          0.20359478785568824,
          0.19876856459038242,
          0.21887811652033448,
          0.20124425281825295,
          0.21064213872490198,
          0.19878003568409244,
          0.2049159442195558,
          0.19728393862536256,
          0.21580799366404962,
          0.23012595354054835,
          0.21274514250401913,
          0.20422852586212442,
          0.19209443961796896,
          0.2154102196830332,
          0.22260204277036763,
          0.23454217279753145,
          0.19280885385112406,
          0.21985735021710845,
          0.2495740625870298,
          0.19313010749308937,
          0.21717744026463276,
          0.22457515253245613,
          0.20626303227426723,
          0.2372946689585827,
          0.22949130181891192,
          0.1939522252274594,
          0.2092575125208557,
          0.2110060083636471,
          0.20993429963880803,
          0.24635725683309273,
          0.2135797248727378,
          0.2073715494063315,
          0.19412275253573125,
          0.21844724449854644,
          0.1973982515342522,
          0.2188843759026792,
          0.22145073909942034,
          0.19203609036139657,
          0.19468105979673625,
          0.21840266653857623,
          0.2231471456262744,
          0.258536726414229,
          0.19228189477022758,
          0.258556073832885,
          0.1988970735197938,
          0.20265215555985633,
          0.2069428689376852,
          0.20397537728875736,
          0.21530526639412606,
          0.22957082908174628,
          0.22453208687806467,
          0.20751238694048044,
          0.20584825261565934,
          0.22078217566756742,
          0.1945692083395853,
          0.2290320685703298,
          0.22225695200101725,
          0.23722291833115602,
          0.20380204527157472,
          0.23722551803573408,
          0.19339423209870932,
          0.22856876069265766,
          0.23241612949085394,
          0.22974252545286525,
          0.22617847902772084,
          0.20985765022979813,
          0.20679687235320132,
          0.1958459025720045,
          0.2041934042506522,
          0.2493996412396175,
          0.20237911128351574,
          0.22067977859378557,
          0.21923743340530563,
          0.21136444704959453,
          0.22694678947162686,
          0.21701249415619864,
          0.217049040369159,
          0.2080424481508311,
          0.2038005350976275,
          0.19582714765556433,
          0.2013301044421076,
          0.2095174491228184,
          0.2113220567367831,
          0.18824822275097627,
          0.24229039894784682,
          0.22527306506379158,
          0.20857577405253766,
          0.2078158750467975,
          0.205233117400531,
          0.19202761479211658,
          0.1977591433003215,
          0.23717392834622658,
          0.20100546273792416,
          0.18841519995955963,
          0.23594066036232428,
          0.21653299407629856,
          0.20681775781364728,
          0.20066448768947642,
          0.20887863729790918,
          0.20533465625348254,
          0.2172441794091415,
          0.19584537296771348,
          0.21071646929776877,
          0.21864608138093825,
          0.20900195575226357,
          0.2134014517110002,
          0.2193827667938284,
          0.209976459205741,
          0.2076887367471042,
          0.1952899030377544,
          0.2250591998939425,
          0.2102045392148317,
          0.22582435451671207,
          0.23130378522043746,
          0.2048064248396959,
          0.2401907150260801,
          0.2106629036032045,
          0.22132225784057144,
          0.20292548423402107,
          0.22456564426382403,
          0.23587874179872112,
          0.19914428771889078,
          0.20435357317210656,
          0.20609953575045356,
          0.22007999635556563,
          0.18992799118240417,
          0.21366678077679077,
          0.2009977094272981,
          0.20610839392552324,
          0.2114240041754004,
          0.20405555420745378,
          0.21250489047645765,
          0.21246854346362123,
          0.21513168983002254,
          0.21567593054851514,
          0.18860137817050812,
          0.2040055927006255,
          0.20587995846557655,
          0.20861147616904072,
          0.19027687594454037,
          0.20435587605705405,
          0.21472406952064585,
          0.21449198388948762,
          0.20553617416274816,
          0.22335335395405262,
          0.2093390860937532,
          0.20392466383734467,
          0.20932973578500233,
          0.19178320661922182,
          0.23979295829007163,
          0.20160624262185994,
          0.19060599100884598,
          0.21328704488102224,
          0.24014036712358458,
          0.22621586281011022,
          0.20563437449517213,
          0.21764159543085174,
          0.23830956476629564,
          0.21434863198171916,
          0.21205610158730248,
          0.20505724611422066,
          0.2077822341090284,
          0.20924719355087767,
          0.22621280053465068,
          0.20317547570497657,
          0.2132655340094026,
          0.19519555311759856,
          0.2007615536513237,
          0.21164461736028112,
          0.2096871437556474,
          0.19621953487226448,
          0.2206763788926331,
          0.22335576867364523,
          0.22447114911867774,
          0.2134432821120831,
          0.21551047511715898,
          0.21501357301089327,
          0.19647911452534442,
          0.21055313789038407,
          0.21323939898988187,
          0.21152412226841302,
          0.21419210338606745,
          0.21054324670078717,
          0.20093404618794147,
          0.20629148861033578,
          0.214969589820467,
          0.2090107011499053,
          0.1914309619598914,
          0.23009524459983324,
          0.19210547561292476,
          0.21009480209262857,
          0.21521733405304014,
          0.22015164298497603,
          0.2166822198007166,
          0.22067898028865907,
          0.23567996481865663,
          0.2178823466469302,
          0.20463164451322918,
          0.20402470060337657,
          0.17472363590350684,
          0.19879675193642668,
          0.19812221332388097,
          0.2150819379240295,
          0.20553144964367254,
          0.2172950669704289,
          0.20249687372471983,
          0.2283346331128004,
          0.2388172620884725,
          0.2037797260779415,
          0.23056457607181566,
          0.19681828701173626,
          0.20126387352394057,
          0.2048156774329085,
          0.19069023904903332,
          0.2136634737098077,
          0.21174562931180485,
          0.19613657845973903,
          0.21970816831006187,
          0.20185079927930785,
          0.20032111469390543,
          0.19389843590283712,
          0.21155783651246843,
          0.1940708462422874,
          0.22059415694346213,
          0.219458264500956,
          0.21011825457694971,
          0.22367774960173478,
          0.1987986867442905,
          0.21521219816914613,
          0.21754762937727973,
          0.2227338119167149,
          0.1919563254664154,
          0.18823040421004603,
          0.1914110449720215,
          0.22404718406360652,
          0.23634580576636846,
          0.22144844163722108,
          0.21046794552502468,
          0.18795274917526356,
          0.21059016816033976,
          0.2227189174406155,
          0.19438984083187777,
          0.2145842031985826,
          0.21277489448417036,
          0.20097351488378015,
          0.2094304878444632,
          0.20465684964664776,
          0.21681864187195662,
          0.19811309212170342,
          0.21607664898006046,
          0.21740557388506196,
          0.24097789670487169,
          0.19327366506377297,
          0.2293235470180507,
          0.21834903777194656,
          0.21213696636530127,
          0.21371019102302413,
          0.2219675757871372,
          0.19352088194942188,
          0.2136895612064501,
          0.2115846114561465,
          0.22125780371976203,
          0.2127530526183798,
          0.20292388148996104,
          0.21416452485761378,
          0.19193307979334487,
          0.2141090351044607,
          0.21644738640004463,
          0.22115381886843788,
          0.2305363439378328,
          0.1956909754812001,
          0.19913794132558135,
          0.20809635520001948,
          0.19446655598034615,
          0.20611859826576787,
          0.2113454629660921,
          0.2122592331241021,
          0.21941477497954057,
          0.20154032642072384,
          0.18541470845853072,
          0.22223163378840613,
          0.19836536075289501,
          0.19940845779772337,
          0.20873105642743575,
          0.1902910778261754,
          0.19968739534403923,
          0.1951482003793989,
          0.20772616415501902,
          0.21995150398404512,
          0.20776214188461503,
          0.21692941663744625,
          0.182776130166452,
          0.22615379026574878,
          0.20083805565753696,
          0.23248109891327945,
          0.2386719958471332,
          0.19109078095981472,
          0.19733228895524613,
          0.19713597524130597,
          0.1968485215054215,
          0.19918015776891002,
          0.2221345494787614,
          0.23819181819048799,
          0.22324923109290035,
          0.21140073341209475,
          0.2192637710363877,
          0.23228784624799237,
          0.21461282269923254,
          0.193508585105495,
          0.2100637897479197,
          0.23098363745815695,
          0.23276327548139822,
          0.2144135600330814,
          0.2215499053901111,
          0.20613707160137304,
          0.21891959908223588,
          0.2328523435424588,
          0.22190449108614127,
          0.21538484759371734,
          0.20831401688458975,
          0.21077209679483808,
          0.1992789411057079,
          0.2096720697167238,
          0.22175782875727684,
          0.19246201053107748,
          0.19636930610962267,
          0.20832852160933213,
          0.20506005924769088,
          0.20717713123569395,
          0.21765603851807214,
          0.20003648897682674,
          0.2072007614779727,
          0.21304420087899836,
          0.20131126739815727,
          0.2079155504125926,
          0.21538379224787124,
          0.214969029405926,
          0.19678512102843015,
          0.19705279547539525,
          0.19759057364076,
          0.2075825699853943,
          0.2010630098277343,
          0.2107273292743755,
          0.22898782569331397,
          0.21691737473138364,
          0.21973714860626903,
          0.21848745873760808,
          0.22023114781433453,
          0.21449884117926393,
          0.21508894950819654,
          0.19128934039854334,
          0.20093737045967774,
          0.20496345017780576,
          0.2260039254341055,
          0.19033567510699545,
          0.20077472291837498,
          0.2094834935777971,
          0.20746491109848128,
          0.21700464137486714,
          0.20500430480223472,
          0.1973060647403361,
          0.21785652376864703,
          0.21798564171125628,
          0.2015909894179203,
          0.19025284267711107,
          0.20457681063952002,
          0.2195122660294772,
          0.20707165096803073,
          0.22516325977958487,
          0.22578191926473165,
          0.19693806368890418,
          0.19217304425939633,
          0.23373497266303075,
          0.2062203289024523,
          0.21503138420463727,
          0.21905919555505043,
          0.1848152249968033,
          0.2205694783615354,
          0.1962675578857407,
          0.2242044998933991,
          0.223956500318884,
          0.22130068863168792,
          0.19444417607625325,
          0.21626967099059394,
          0.21737198145336475,
          0.20888242238942328,
          0.21229271326126267,
          0.19684839925444406,
          0.21198255044107553,
          0.21183039683506952,
          0.20227130344370076,
          0.20901805883300964,
          0.20002938528033995,
          0.2093889113353145,
          0.20138036085695976,
          0.21115260125107085,
          0.20649741941870992,
          0.23822074963186698,
          0.2153295621549764,
          0.2245884336939615,
          0.23258784683121653,
          0.20827360367077194,
          0.22041150362143289,
          0.22303058356835798,
          0.1992482611968849,
          0.20583297881293988,
          0.22092560132047787,
          0.20104871875821956,
          0.20383839088782824,
          0.2105806242534316,
          0.2188054896850494,
          0.22147927792769234,
          0.2116190114587676,
          0.1925987226085309,
          0.2414198103069652,
          0.19843938001626277,
          0.21855634334219837,
          0.21254775871696363,
          0.19001144489743496,
          0.2223557274743203,
          0.21244116053182294,
          0.2277078467577196,
          0.21177780408127603,
          0.19575669853318695,
          0.18512129093142715,
          0.2355268728468274,
          0.2315789169067251,
          0.24560037840867305,
          0.21954095383140496,
          0.22787697044681376,
          0.19677931157461703,
          0.20340387462647516,
          0.20978845720082973,
          0.20948172145231772,
          0.21360410321823844,
          0.2031497135885467,
          0.21251604954850078,
          0.20535641373416144,
          0.214257353465448,
          0.22498625440333503,
          0.19316729789936993,
          0.19206615314502007,
          0.19837495364084345,
          0.218984983223336,
          0.2317690703797931,
          0.22064301137430414,
          0.22712057298728794,
          0.23153400207530253,
          0.21354204297991347,
          0.2218847357278435,
          0.20944626959655033,
          0.21248376493799653,
          0.20652513413946785,
          0.231611303974196,
          0.20773647870370288,
          0.20578648996817778,
          0.2197202502757031,
          0.22022816349035323,
          0.1847222411649744,
          0.22273036699574714,
          0.21604827670158414,
          0.2127367481913359,
          0.22459443357814224,
          0.20552717590636413,
          0.19235193717303412,
          0.2052212989953745,
          0.25596999150036265,
          0.20183270284705188,
          0.17714889330110242,
          0.2084465743958755,
          0.20581835363606982,
          0.20348911098928127,
          0.2301521798706638,
          0.1936744174497852,
          0.1923697537321951,
          0.23605575251801145,
          0.2003555294308577,
          0.21037061157678746,
          0.22607963172179532,
          0.2467021089955151,
          0.20203291048232755,
          0.21947828931911859,
          0.20900701751893402,
          0.20224694370136617,
          0.18882246685403326,
          0.2276222597884405,
          0.208051232419779,
          0.19950327904263943,
          0.19224494033119596,
          0.20587621028537656,
          0.20296132268682848,
          0.23103510980627903,
          0.21118752035328567,
          0.18873490311110114,
          0.23171391246610315,
          0.22276622067918792,
          0.22186290682469967,
          0.21374372070080147,
          0.2026653186534976,
          0.22118330673035874,
          0.2161991287528697,
          0.19950276184910493,
          0.20984302542743968,
          0.21352632609605254,
          0.2011702102998975,
          0.22175720379267078,
          0.1990916431011666,
          0.21570559247189178,
          0.21330524311333143,
          0.21019501195025306,
          0.2159959630831808,
          0.21722928953445456,
          0.20312991161965804,
          0.2190165258552702
         ],
         "y": [
          0.17497995490810153,
          0.1726051971892928,
          0.15451924093003658,
          0.18896094998378649,
          0.1920700472225757,
          0.14655870340242025,
          0.18150544707543798,
          0.184579725103608,
          0.1738741233254325,
          0.19165037459204945,
          0.1602410559958279,
          0.1629307152711265,
          0.16811100476687105,
          0.14388615853330397,
          0.15315858464360566,
          0.14007389120132377,
          0.17794895565669783,
          0.1642592793651118,
          0.16510999630103212,
          0.16909815218441354,
          0.19602450328737941,
          0.16407808043288452,
          0.1768308500313484,
          0.16903449480934202,
          0.18780288345912685,
          0.1899585331851084,
          0.15341712384019676,
          0.15722768688904423,
          0.205587497797465,
          0.16683711516520294,
          0.16637653467188035,
          0.1580516853263083,
          0.16280952131873094,
          0.1604337432430447,
          0.1902006774158898,
          0.17989923738686697,
          0.17889527945236017,
          0.17968094260891004,
          0.16487229700768968,
          0.1577281513834759,
          0.14201052958763677,
          0.1927515394712057,
          0.16860007481273961,
          0.19520606260642406,
          0.15450856844193658,
          0.1524711792849171,
          0.1690837820221871,
          0.1599375091472069,
          0.1593296100894386,
          0.1794741843611325,
          0.12636673260409567,
          0.14903799174712726,
          0.18510685688709094,
          0.16685322751463924,
          0.1888721017677536,
          0.1675433997333857,
          0.15477316796461296,
          0.20530753620265374,
          0.18524168336938543,
          0.18382502820542634,
          0.17752113492633417,
          0.14612503151552989,
          0.1628928722504214,
          0.16568465286677803,
          0.1554777255515533,
          0.14683377249627166,
          0.15425450055560005,
          0.14794761613329954,
          0.16784984330457195,
          0.1453069220106452,
          0.20377015978709162,
          0.18339256210911323,
          0.16739757583216713,
          0.1751603157476071,
          0.17614903496467849,
          0.1601125248361283,
          0.15950118307469827,
          0.15261123863393847,
          0.1556559465376631,
          0.1721966972065103,
          0.1853169716950053,
          0.1679594698598616,
          0.1683034531376643,
          0.1716977357960618,
          0.16802604039138616,
          0.18759495815959615,
          0.17869149846288898,
          0.1680864048300712,
          0.17432673778493663,
          0.1845165790485119,
          0.16316801078959378,
          0.16479945970867965,
          0.16315423262832587,
          0.14326338698079213,
          0.17060904712410807,
          0.18665693134973393,
          0.17311452001128178,
          0.1508186492568687,
          0.19649594367825077,
          0.16798377772177064,
          0.1850606501140546,
          0.18647335129616086,
          0.19764908528739933,
          0.15863608559155795,
          0.1916932354932534,
          0.18265143581967436,
          0.19231571947537984,
          0.17757173925587547,
          0.19062102651429888,
          0.17980281226813394,
          0.17366558162161555,
          0.1561652176151835,
          0.19038936481920402,
          0.19764098012584025,
          0.1792673659385048,
          0.13071315545459378,
          0.1606008204371337,
          0.1912572075648064,
          0.18194586274386193,
          0.18544786366223337,
          0.20338285519857355,
          0.14752444525628605,
          0.14964131587124296,
          0.16693975821326504,
          0.13442899956234408,
          0.15965415999889473,
          0.13880797987942153,
          0.21802631115437746,
          0.15376934982177892,
          0.18825562522206668,
          0.16880115346445693,
          0.15349728845169552,
          0.16329398402461548,
          0.17403341859401322,
          0.17668981529483985,
          0.17937761501660338,
          0.14936981106157013,
          0.1478614786760502,
          0.17181403182587504,
          0.14970952202495277,
          0.15770753821736894,
          0.19279981777063465,
          0.2075578787105304,
          0.19387949534770707,
          0.17507701927355981,
          0.1661407461294401,
          0.17708563356434748,
          0.17090362992897573,
          0.1787391908071299,
          0.1642172373769447,
          0.1552901131607801,
          0.16787189935952535,
          0.16645038390400893,
          0.16213804590519945,
          0.19047937985785,
          0.1639842359412749,
          0.15485825062009295,
          0.15220528417255724,
          0.16256298246555934,
          0.15552583733938385,
          0.16567395968685378,
          0.18574814441376003,
          0.1627731328112571,
          0.1673516782062041,
          0.16295891633940032,
          0.16080355348925926,
          0.19279388207459097,
          0.23059514145610463,
          0.20623987001260624,
          0.15566146782280504,
          0.17929924937585456,
          0.20119154937081973,
          0.19251894480014867,
          0.14127687594675575,
          0.173437612247366,
          0.1809623051794528,
          0.1441156178606079,
          0.15591074424668486,
          0.20486296070847673,
          0.16024564313285952,
          0.17469721946182099,
          0.18206456879120658,
          0.18898215361782647,
          0.17710512384732033,
          0.1695215413501681,
          0.15311326723975166,
          0.17642800452437232,
          0.20071812243127116,
          0.1677094335174309,
          0.18291387249100055,
          0.164099932617948,
          0.1772577166100764,
          0.16560546998100759,
          0.20847479617988154,
          0.19638414724495296,
          0.1765982515692654,
          0.16918759556426635,
          0.16077865988417214,
          0.19332057071643285,
          0.20487286961492135,
          0.1690844064946591,
          0.16224900334910797,
          0.16176321089571075,
          0.1713027033135332,
          0.16446784007525883,
          0.19118274103587288,
          0.1797367864080631,
          0.1526563941745308,
          0.19263792985397254,
          0.19602343747852766,
          0.1835235738565313,
          0.15068690539144936,
          0.1582295442149724,
          0.1614545730622263,
          0.18501571885351206,
          0.15810597817025876,
          0.18943412191201367,
          0.14381618321501824,
          0.15270102106189032,
          0.16111777901598684,
          0.1547693098198301,
          0.15463400608419,
          0.1784432368661069,
          0.15275215753492372,
          0.18226233153821272,
          0.1871951091869133,
          0.18097776681282074,
          0.15665934795083755,
          0.19216803408543284,
          0.1767106901884766,
          0.14985416161858203,
          0.15977552890681654,
          0.18054210524545483,
          0.143560696887039,
          0.16983763932569476,
          0.15405681589569642,
          0.16879542775350273,
          0.16980549177210236,
          0.17144819562342978,
          0.15845148833935216,
          0.18110811236093344,
          0.15456941605402935,
          0.160462818087973,
          0.17604098891772815,
          0.163733248551549,
          0.16150912557762043,
          0.1850148487678311,
          0.20245360150549166,
          0.15696881785472444,
          0.16988499170094673,
          0.17528829204645885,
          0.17576415877911566,
          0.18024744843729826,
          0.17830839583151756,
          0.13635835992834694,
          0.16788316076644627,
          0.13308162952151353,
          0.19531410074325586,
          0.15255136304676895,
          0.17590113982448544,
          0.17399616952286837,
          0.18389030601818657,
          0.21817730008352748,
          0.1834396144397147,
          0.15152580771511825,
          0.18579738246691455,
          0.20957090069469192,
          0.1647270927411743,
          0.1557877534075201,
          0.1904514244560576,
          0.1712061623788294,
          0.1868143823092185,
          0.17683247096481736,
          0.18778334768493707,
          0.18995374061138698,
          0.16524264849829856,
          0.19412144052460342,
          0.17544385424722567,
          0.1867007131578322,
          0.17230034275009545,
          0.17773602861518195,
          0.18171628334887757,
          0.17589475050773207,
          0.1849518012740428,
          0.1641423354395579,
          0.17142031120553927,
          0.15973517471038096,
          0.1785125595772342,
          0.17960265762115893,
          0.16857214570241602,
          0.18482513286432153,
          0.1746919437591593,
          0.2182378923278943,
          0.19405205706994458,
          0.18321816404397628,
          0.18977503411155314,
          0.16632519183384498,
          0.20706640912063695,
          0.19722965731954595,
          0.1802308853789751,
          0.17307481269429073,
          0.15035673449593934,
          0.14870434006892852,
          0.18082329581778137,
          0.17390503343466393,
          0.18949876714051062,
          0.19908668576608934,
          0.16209994217545015,
          0.1890454879245921,
          0.1865869399781739,
          0.19368066766386355,
          0.1933996823828349,
          0.19322475261773173,
          0.171924932926548,
          0.1679842625452738,
          0.17006766783725127,
          0.18389343455776994,
          0.16920744542959554,
          0.2030114450075987,
          0.18363048826222325,
          0.14560947614896871,
          0.17107409140096208,
          0.20752552757880321,
          0.20858826447216317,
          0.1761956954656415,
          0.1846750294985368,
          0.14989202168752017,
          0.1495620834797365,
          0.18169157916499323,
          0.18150427897146365,
          0.14391010786698788,
          0.16847063045703062,
          0.21664002569884522,
          0.17756172004793316,
          0.14858531743298653,
          0.14913469185015057,
          0.16307717954641257,
          0.15389616091416203,
          0.18649695689793913,
          0.20200063897895879,
          0.1524378380874766,
          0.19393895623699822,
          0.17059286596201084,
          0.1526673320961433,
          0.1462853629024055,
          0.17130375401814646,
          0.20912875471424958,
          0.17028739278328242,
          0.14462018368502555,
          0.18283988250553038,
          0.18010287036445638,
          0.16524753475760573,
          0.13612185968030613,
          0.18589627978470183,
          0.1764019440886459,
          0.23243826791546124,
          0.17915018926702958,
          0.18604353414596433,
          0.15675156353378145,
          0.19174343592479662,
          0.16005546264151616,
          0.16620389060517185,
          0.14725838481301015,
          0.19233420038430407,
          0.18590983665323785,
          0.1522758056125016,
          0.1807163029018266,
          0.14137996993299748,
          0.17267812544249053,
          0.18805590081088808,
          0.16270337261047363,
          0.17686535913166293,
          0.1954830228922324,
          0.19632671625367487,
          0.17644957581487888,
          0.16132771341888363,
          0.19412578954747184,
          0.17543826628683015,
          0.17749497537300732,
          0.1769380913224434,
          0.1507539212039283,
          0.18138518018598568,
          0.16825817317336508,
          0.17152872651469958,
          0.1947407101360471,
          0.18935871135518406,
          0.16893856570536822,
          0.19464970305820903,
          0.1848327522866107,
          0.19467151620252704,
          0.15169680960332668,
          0.19992969105986644,
          0.18296255056952615,
          0.19829911039540643,
          0.18044060035321965,
          0.15261768697809722,
          0.15853931316454425,
          0.22219349205732106,
          0.18608258761958713,
          0.16448144113612384,
          0.16486995447550926,
          0.19998604062279937,
          0.14303674624634344,
          0.16937518620076686,
          0.17926853768207937,
          0.15808371652351186,
          0.18478238112506384,
          0.19015337713886768,
          0.196081589958123,
          0.19599786226678587,
          0.20277698388950136,
          0.1759454240234966,
          0.17437496493381285,
          0.16331873987481801,
          0.19860472926962208,
          0.20456741472438517,
          0.15205933293166293,
          0.16047618637387623,
          0.18078160023898132,
          0.15910856328756096,
          0.19605368353974725,
          0.16667248557653158,
          0.1957173430278488,
          0.15000585331674737,
          0.18325688821516378,
          0.16688570482180434,
          0.18043681205282722,
          0.17029280959712723,
          0.15869086122896311,
          0.17309095629699878,
          0.17831192993106243,
          0.15599265666793455,
          0.16077058754928947,
          0.19091260791286352,
          0.1824462730390056,
          0.15914151038914456,
          0.1474274632661748,
          0.16819354462026548,
          0.19800311128707732,
          0.1686105516763045,
          0.1473927831298614,
          0.18019168950686892,
          0.17688861421845498,
          0.16209240247191264,
          0.15448296702431272,
          0.19150269499642145,
          0.19171747494594546,
          0.16760439477832176,
          0.19091918885523446,
          0.22948593535263295,
          0.19013725690947791,
          0.1740434260656746,
          0.17465572054860584,
          0.14759816005832116,
          0.17398928122982799,
          0.1664295115067135,
          0.19672271790325407,
          0.17427179710024146,
          0.1831463288671576,
          0.16624051205908866,
          0.1504484271768868,
          0.1996561652992197,
          0.18984860888283675,
          0.1795359788422979,
          0.1982435422477674,
          0.14948481117683954,
          0.21949863557693694,
          0.1773559936278978,
          0.2166741700125449,
          0.20082086844594826,
          0.1947420735466865,
          0.18316163403132069,
          0.18652734686024294,
          0.22067375021365337,
          0.17273879586636012,
          0.1899624538360133,
          0.16632719129933712,
          0.16469128866401167,
          0.14922518652027897,
          0.17274362368952925,
          0.17469657566306024,
          0.1850547866816827,
          0.17307552965496897,
          0.19063441111591709,
          0.19718222043665046,
          0.14910611981619493,
          0.16031311702744622,
          0.1515406804146784,
          0.18868838121245574,
          0.16549280957682783,
          0.18186590729557078,
          0.14880744400798088,
          0.16864694468459349,
          0.15786861147841305,
          0.1867012221620699,
          0.19472049328286087,
          0.18274406321892372,
          0.16907535369516685,
          0.15060541551886047,
          0.18603243010147943,
          0.18810453271783467,
          0.19563398396278298,
          0.15146805546428796,
          0.18731751649532474,
          0.21724662775310705,
          0.14939640802737436,
          0.18805455134843843,
          0.19425312318154175,
          0.16664689572255537,
          0.20390591693503762,
          0.20186666707604178,
          0.15396364949441346,
          0.18190820794291931,
          0.17556683595637107,
          0.16883796026072895,
          0.21840267546754538,
          0.18546880625759873,
          0.17141469455971503,
          0.14571952788581966,
          0.18755841236586338,
          0.16840183668568293,
          0.18702980130649546,
          0.19621631346344012,
          0.15210018585977578,
          0.14621169029956116,
          0.17764427361810747,
          0.18795172187353404,
          0.2308340999928711,
          0.15367259203955114,
          0.21970500296526452,
          0.1650663197747875,
          0.16313033199550728,
          0.17096137203948697,
          0.17357044010926923,
          0.17185797332667396,
          0.1966927686373915,
          0.18897345846515032,
          0.1683211270232749,
          0.1737174537355684,
          0.18633277619266764,
          0.144626751979046,
          0.18994392993689127,
          0.18967412086632152,
          0.20450914379937107,
          0.17714244777988128,
          0.20516941049923745,
          0.16263544859650714,
          0.19250380020938532,
          0.1992594196066235,
          0.1998953476907329,
          0.19883982647896287,
          0.1700621169723102,
          0.1714949584903405,
          0.1578188444769149,
          0.1517491862702929,
          0.2226596600463315,
          0.15977347727366975,
          0.19110236863170643,
          0.1913413954763873,
          0.18299187581888376,
          0.19476717664672652,
          0.18949640050584007,
          0.17773464986097243,
          0.17385088649663422,
          0.17133889931224613,
          0.16083045313921707,
          0.15718324973045003,
          0.17075519109558412,
          0.17405920398651717,
          0.13834561214274455,
          0.20544111981442204,
          0.19429719040676852,
          0.16417525604352212,
          0.16294926931476347,
          0.16965614982101968,
          0.14743042831649478,
          0.15903415586118655,
          0.20613937965228624,
          0.16829394602518916,
          0.14910368383937142,
          0.20343614643820035,
          0.1911638669374907,
          0.1760244722935362,
          0.16210720648897445,
          0.1775065035952825,
          0.16934709479195675,
          0.17816337304213534,
          0.14194092482073709,
          0.16484821245780085,
          0.18788770307759747,
          0.15885990308031725,
          0.1809178466877038,
          0.18311754427992447,
          0.18061921761799782,
          0.17726171546998332,
          0.14967156806434098,
          0.19354787185402972,
          0.17301113067607915,
          0.19822189606960222,
          0.20015584423138305,
          0.15846545903151055,
          0.20893299705258708,
          0.1760115478511823,
          0.18971550404499546,
          0.1542201229595194,
          0.18043646916826514,
          0.20380060796922383,
          0.15099977353118235,
          0.16035865719719256,
          0.17005464847453364,
          0.18380809544255777,
          0.14296390406130668,
          0.17822531657144067,
          0.16362864714854417,
          0.1607868041569655,
          0.1855654416487455,
          0.1641146649390241,
          0.1802490677137167,
          0.18481802431910313,
          0.16967573501664715,
          0.17597997141469043,
          0.132587610641288,
          0.16079335824353436,
          0.16512163156488122,
          0.17921024975224933,
          0.1442903485385763,
          0.16639550408384926,
          0.18608460028915894,
          0.1821795121352309,
          0.17368036123275046,
          0.1880272634268424,
          0.16135460720617847,
          0.17348983888658975,
          0.17727024912554504,
          0.14355647382301132,
          0.20906001167973412,
          0.15868187109033804,
          0.1542572954832136,
          0.17154991520011414,
          0.21731534160964522,
          0.19652376872370392,
          0.15791195657865797,
          0.19423362063506205,
          0.2037677219259705,
          0.164106949869175,
          0.17166009514677222,
          0.16506964962611773,
          0.17996456520429668,
          0.17990244145429996,
          0.19627621771235323,
          0.17257701762258199,
          0.18042275949677045,
          0.15948042524038253,
          0.17040489453677526,
          0.18108783439760573,
          0.17065351730812622,
          0.15096164894411612,
          0.18670919693994872,
          0.19471740384798064,
          0.18473920488798626,
          0.18119319461438968,
          0.1818352680355102,
          0.18287736153148304,
          0.159361874196128,
          0.1777389305946693,
          0.17540493454429232,
          0.16600928196646167,
          0.1785277482356526,
          0.17259527127655447,
          0.16138290566683877,
          0.17602867807144063,
          0.18300707589765727,
          0.17949634896571165,
          0.1443205812638258,
          0.19974764001358108,
          0.1335470451263332,
          0.16657947346349444,
          0.1807411365589202,
          0.18499334543918147,
          0.18568367521507326,
          0.17596671626318386,
          0.19981199789264104,
          0.1841570522524513,
          0.15333600753827475,
          0.17238114291453963,
          0.12604680370870133,
          0.16118310632460847,
          0.15789310901707912,
          0.17146478855355005,
          0.16576655408021793,
          0.18486490535284136,
          0.16914864199726676,
          0.1951451444098913,
          0.2105338559349309,
          0.17379674347325696,
          0.1998142045939511,
          0.15059432266558753,
          0.17322442409237535,
          0.15675632216523872,
          0.1431579600040269,
          0.18255387067623097,
          0.18038226169996224,
          0.1413114781899842,
          0.1958311752848821,
          0.15769271901061363,
          0.16164284598792855,
          0.14875180621998674,
          0.17495212513168168,
          0.16119239264605492,
          0.1765409199619885,
          0.17895573927149713,
          0.18042299918739746,
          0.18962688085066787,
          0.14975923333691793,
          0.18466937230526387,
          0.17742194684001023,
          0.18877248383084028,
          0.15041266003394785,
          0.14241362484180606,
          0.1494701046344299,
          0.18768786489453293,
          0.21132383875908012,
          0.18653389368302664,
          0.17579996422388547,
          0.13977557572461768,
          0.16996801129597128,
          0.18818663976848368,
          0.14376447742432763,
          0.18689055727546083,
          0.18223153470083261,
          0.15909199719746478,
          0.1739868619682613,
          0.16663980588251814,
          0.18756346707522512,
          0.16375136682249594,
          0.17443919934482377,
          0.18875041487631933,
          0.21465525050573092,
          0.14809050089995673,
          0.19644533250225382,
          0.19034431027967416,
          0.18123984922316028,
          0.18871529871834208,
          0.18391782020333106,
          0.14884012937300872,
          0.17722075291280143,
          0.18072973357308236,
          0.19278511890344358,
          0.17513667417337583,
          0.1723722020716182,
          0.17233500604437504,
          0.157404033027424,
          0.17859351373655324,
          0.17899487025814043,
          0.19386218241577435,
          0.19658625239408095,
          0.15589784863982656,
          0.14954441798768034,
          0.17725327633268814,
          0.1564603660455684,
          0.1627503458582431,
          0.162349177512841,
          0.1801486560830587,
          0.1843806885464588,
          0.16607233945032754,
          0.13851655845068542,
          0.18485376117969743,
          0.15376693882414957,
          0.15985888226352482,
          0.16753089442327598,
          0.14165099519702748,
          0.16138888479313518,
          0.15935087888536453,
          0.1650598109557459,
          0.19093852992363447,
          0.16896444982392042,
          0.18098932891986952,
          0.13064651838040078,
          0.19907329897621856,
          0.16157468876962844,
          0.19712856841986334,
          0.21131662221780562,
          0.1357919491362411,
          0.15472582597840573,
          0.14819526287793214,
          0.1596549754049739,
          0.15469724535328125,
          0.19583838506667023,
          0.20636886912628843,
          0.1921975150111043,
          0.17407362527013093,
          0.19341023034670174,
          0.19570960309448687,
          0.17435101159140487,
          0.14315578826695213,
          0.17699496827501543,
          0.19944013756275225,
          0.2093709480443323,
          0.17632647694338272,
          0.19465184931103394,
          0.15803060126975754,
          0.18164202262637025,
          0.19901223962614925,
          0.1721961687914897,
          0.18058657614398754,
          0.17504004944178006,
          0.17855122418077093,
          0.16076457573814512,
          0.18551458804519197,
          0.1886150305094107,
          0.14986996733852348,
          0.15492968458315418,
          0.1775163546345077,
          0.17386567439086148,
          0.16021053010181668,
          0.18466328049173655,
          0.14602393964669894,
          0.16905034702163085,
          0.18108173194112273,
          0.15539056361636094,
          0.18139538387088994,
          0.1704572054213245,
          0.17820371902363827,
          0.1556029397301267,
          0.15780591917093353,
          0.15213367694517935,
          0.16721491573623148,
          0.15450877994201093,
          0.17617729153048486,
          0.1957857543651565,
          0.1896439437016943,
          0.18819495152355553,
          0.18951931432618155,
          0.19300011646540022,
          0.17723674986757176,
          0.1783826016992274,
          0.15316602431578283,
          0.16726799430606218,
          0.16173658470429103,
          0.17992681125567736,
          0.16381434933323785,
          0.1615723455179856,
          0.17757845367822078,
          0.1655196478860288,
          0.1806215429744211,
          0.17349272398363097,
          0.15771416287193277,
          0.18930064348509373,
          0.19251780377965377,
          0.1767294775382165,
          0.14369356897415914,
          0.15075811058674096,
          0.16955228504329228,
          0.15892522563050518,
          0.19796187193489415,
          0.19968934442635708,
          0.1515855291419556,
          0.1390362406509846,
          0.19930833241096496,
          0.17692987236076846,
          0.18438938070819486,
          0.18912768139263603,
          0.1319393357011298,
          0.1954357759467406,
          0.15128941352239672,
          0.19124990705839157,
          0.19846474250174012,
          0.19541476528496407,
          0.15907398496725855,
          0.17833601469010793,
          0.17991002462619343,
          0.16961174215173475,
          0.1810697987141818,
          0.16166465469213753,
          0.17271496599580768,
          0.1712670838029602,
          0.16735838291068725,
          0.1665573456758378,
          0.14880910985610282,
          0.18158537742174025,
          0.16310529094171777,
          0.1694330692094389,
          0.16059267386917042,
          0.2064440828624556,
          0.1759561944213783,
          0.18790221639150836,
          0.1990101799725979,
          0.1736422743301298,
          0.1746208405570054,
          0.1836560192230219,
          0.15894026661049737,
          0.1739812711531273,
          0.20124243530052913,
          0.15439310147014712,
          0.17041174611981602,
          0.16675334608394662,
          0.17104743233238343,
          0.17752356893689802,
          0.1748147378847679,
          0.14857153072118548,
          0.20761303721266242,
          0.15984415799230633,
          0.19203516865878953,
          0.17030551564829216,
          0.14709974476114426,
          0.18983144183553857,
          0.1733560565281739,
          0.2040811880344184,
          0.17343664183596813,
          0.16441656729338333,
          0.13403079735438203,
          0.20731124673134427,
          0.2032796361376025,
          0.21408064240928312,
          0.18495754020010388,
          0.19375973602506202,
          0.16352196261900132,
          0.16643067334451503,
          0.16996159246721376,
          0.16009734995684283,
          0.18367688943522986,
          0.16017026833884476,
          0.17661399932005975,
          0.17812189234537615,
          0.17889601868237273,
          0.20356488231761824,
          0.15023847789278216,
          0.15008463177214248,
          0.1500809307181581,
          0.17845541596699782,
          0.19447110848607743,
          0.18431378837592605,
          0.19376791789839426,
          0.20380289817408123,
          0.18422970822032314,
          0.19065964690429202,
          0.1683253799813341,
          0.17414006909959728,
          0.1692627852019994,
          0.1987376173721182,
          0.1698764451178504,
          0.15943586070528884,
          0.17983770920071568,
          0.18621541900036723,
          0.1370432920037205,
          0.19284557363263716,
          0.1754727161502403,
          0.1777242178285361,
          0.18910487274959023,
          0.17230205620505343,
          0.15169264786994943,
          0.16391925260941018,
          0.22196261274098647,
          0.16865364138834596,
          0.12962782121919555,
          0.1677351980107922,
          0.15913636513347454,
          0.17096264755007337,
          0.1992258082968748,
          0.1497076896972808,
          0.14295194341056716,
          0.2072505668909918,
          0.15869717948599305,
          0.18100081429603748,
          0.18037496473473982,
          0.2191177156484669,
          0.16040656766487266,
          0.18759056901082327,
          0.17685325218817827,
          0.1647457620030034,
          0.1469153959405392,
          0.17650883478973792,
          0.17155108515821213,
          0.1659595539979288,
          0.14630979244943673,
          0.16162618740136786,
          0.16694583422757844,
          0.20565455669945493,
          0.17204855102783956,
          0.14430740468676434,
          0.19866499985742783,
          0.19026777766972314,
          0.19920408035731202,
          0.18433544193741405,
          0.16174311748081996,
          0.18742573594600445,
          0.176056854301966,
          0.16194311156506191,
          0.18414009688728838,
          0.16709295465114363,
          0.15742810286649953,
          0.18658945570628507,
          0.15499813034072787,
          0.17801679861416134,
          0.17578082234650497,
          0.16935427567366057,
          0.18307893302662212,
          0.16717291351049401,
          0.161147713135984,
          0.18638174530934132
         ]
        }
       ],
       "layout": {
        "coloraxis": {
         "colorbar": {
          "title": {
           "text": "Sharpe Ratio"
          }
         }
        },
        "height": 500,
        "template": {
         "data": {
          "bar": [
           {
            "error_x": {
             "color": "#2a3f5f"
            },
            "error_y": {
             "color": "#2a3f5f"
            },
            "marker": {
             "line": {
              "color": "white",
              "width": 0.5
             }
            },
            "type": "bar"
           }
          ],
          "barpolar": [
           {
            "marker": {
             "line": {
              "color": "white",
              "width": 0.5
             }
            },
            "type": "barpolar"
           }
          ],
          "carpet": [
           {
            "aaxis": {
             "endlinecolor": "#2a3f5f",
             "gridcolor": "#C8D4E3",
             "linecolor": "#C8D4E3",
             "minorgridcolor": "#C8D4E3",
             "startlinecolor": "#2a3f5f"
            },
            "baxis": {
             "endlinecolor": "#2a3f5f",
             "gridcolor": "#C8D4E3",
             "linecolor": "#C8D4E3",
             "minorgridcolor": "#C8D4E3",
             "startlinecolor": "#2a3f5f"
            },
            "type": "carpet"
           }
          ],
          "choropleth": [
           {
            "colorbar": {
             "outlinewidth": 0,
             "ticks": ""
            },
            "type": "choropleth"
           }
          ],
          "contour": [
           {
            "colorbar": {
             "outlinewidth": 0,
             "ticks": ""
            },
            "colorscale": [
             [
              0,
              "#0d0887"
             ],
             [
              0.1111111111111111,
              "#46039f"
             ],
             [
              0.2222222222222222,
              "#7201a8"
             ],
             [
              0.3333333333333333,
              "#9c179e"
             ],
             [
              0.4444444444444444,
              "#bd3786"
             ],
             [
              0.5555555555555556,
              "#d8576b"
             ],
             [
              0.6666666666666666,
              "#ed7953"
             ],
             [
              0.7777777777777778,
              "#fb9f3a"
             ],
             [
              0.8888888888888888,
              "#fdca26"
             ],
             [
              1,
              "#f0f921"
             ]
            ],
            "type": "contour"
           }
          ],
          "contourcarpet": [
           {
            "colorbar": {
             "outlinewidth": 0,
             "ticks": ""
            },
            "type": "contourcarpet"
           }
          ],
          "heatmap": [
           {
            "colorbar": {
             "outlinewidth": 0,
             "ticks": ""
            },
            "colorscale": [
             [
              0,
              "#0d0887"
             ],
             [
              0.1111111111111111,
              "#46039f"
             ],
             [
              0.2222222222222222,
              "#7201a8"
             ],
             [
              0.3333333333333333,
              "#9c179e"
             ],
             [
              0.4444444444444444,
              "#bd3786"
             ],
             [
              0.5555555555555556,
              "#d8576b"
             ],
             [
              0.6666666666666666,
              "#ed7953"
             ],
             [
              0.7777777777777778,
              "#fb9f3a"
             ],
             [
              0.8888888888888888,
              "#fdca26"
             ],
             [
              1,
              "#f0f921"
             ]
            ],
            "type": "heatmap"
           }
          ],
          "heatmapgl": [
           {
            "colorbar": {
             "outlinewidth": 0,
             "ticks": ""
            },
            "colorscale": [
             [
              0,
              "#0d0887"
             ],
             [
              0.1111111111111111,
              "#46039f"
             ],
             [
              0.2222222222222222,
              "#7201a8"
             ],
             [
              0.3333333333333333,
              "#9c179e"
             ],
             [
              0.4444444444444444,
              "#bd3786"
             ],
             [
              0.5555555555555556,
              "#d8576b"
             ],
             [
              0.6666666666666666,
              "#ed7953"
             ],
             [
              0.7777777777777778,
              "#fb9f3a"
             ],
             [
              0.8888888888888888,
              "#fdca26"
             ],
             [
              1,
              "#f0f921"
             ]
            ],
            "type": "heatmapgl"
           }
          ],
          "histogram": [
           {
            "marker": {
             "colorbar": {
              "outlinewidth": 0,
              "ticks": ""
             }
            },
            "type": "histogram"
           }
          ],
          "histogram2d": [
           {
            "colorbar": {
             "outlinewidth": 0,
             "ticks": ""
            },
            "colorscale": [
             [
              0,
              "#0d0887"
             ],
             [
              0.1111111111111111,
              "#46039f"
             ],
             [
              0.2222222222222222,
              "#7201a8"
             ],
             [
              0.3333333333333333,
              "#9c179e"
             ],
             [
              0.4444444444444444,
              "#bd3786"
             ],
             [
              0.5555555555555556,
              "#d8576b"
             ],
             [
              0.6666666666666666,
              "#ed7953"
             ],
             [
              0.7777777777777778,
              "#fb9f3a"
             ],
             [
              0.8888888888888888,
              "#fdca26"
             ],
             [
              1,
              "#f0f921"
             ]
            ],
            "type": "histogram2d"
           }
          ],
          "histogram2dcontour": [
           {
            "colorbar": {
             "outlinewidth": 0,
             "ticks": ""
            },
            "colorscale": [
             [
              0,
              "#0d0887"
             ],
             [
              0.1111111111111111,
              "#46039f"
             ],
             [
              0.2222222222222222,
              "#7201a8"
             ],
             [
              0.3333333333333333,
              "#9c179e"
             ],
             [
              0.4444444444444444,
              "#bd3786"
             ],
             [
              0.5555555555555556,
              "#d8576b"
             ],
             [
              0.6666666666666666,
              "#ed7953"
             ],
             [
              0.7777777777777778,
              "#fb9f3a"
             ],
             [
              0.8888888888888888,
              "#fdca26"
             ],
             [
              1,
              "#f0f921"
             ]
            ],
            "type": "histogram2dcontour"
           }
          ],
          "mesh3d": [
           {
            "colorbar": {
             "outlinewidth": 0,
             "ticks": ""
            },
            "type": "mesh3d"
           }
          ],
          "parcoords": [
           {
            "line": {
             "colorbar": {
              "outlinewidth": 0,
              "ticks": ""
             }
            },
            "type": "parcoords"
           }
          ],
          "pie": [
           {
            "automargin": true,
            "type": "pie"
           }
          ],
          "scatter": [
           {
            "marker": {
             "colorbar": {
              "outlinewidth": 0,
              "ticks": ""
             }
            },
            "type": "scatter"
           }
          ],
          "scatter3d": [
           {
            "line": {
             "colorbar": {
              "outlinewidth": 0,
              "ticks": ""
             }
            },
            "marker": {
             "colorbar": {
              "outlinewidth": 0,
              "ticks": ""
             }
            },
            "type": "scatter3d"
           }
          ],
          "scattercarpet": [
           {
            "marker": {
             "colorbar": {
              "outlinewidth": 0,
              "ticks": ""
             }
            },
            "type": "scattercarpet"
           }
          ],
          "scattergeo": [
           {
            "marker": {
             "colorbar": {
              "outlinewidth": 0,
              "ticks": ""
             }
            },
            "type": "scattergeo"
           }
          ],
          "scattergl": [
           {
            "marker": {
             "colorbar": {
              "outlinewidth": 0,
              "ticks": ""
             }
            },
            "type": "scattergl"
           }
          ],
          "scattermapbox": [
           {
            "marker": {
             "colorbar": {
              "outlinewidth": 0,
              "ticks": ""
             }
            },
            "type": "scattermapbox"
           }
          ],
          "scatterpolar": [
           {
            "marker": {
             "colorbar": {
              "outlinewidth": 0,
              "ticks": ""
             }
            },
            "type": "scatterpolar"
           }
          ],
          "scatterpolargl": [
           {
            "marker": {
             "colorbar": {
              "outlinewidth": 0,
              "ticks": ""
             }
            },
            "type": "scatterpolargl"
           }
          ],
          "scatterternary": [
           {
            "marker": {
             "colorbar": {
              "outlinewidth": 0,
              "ticks": ""
             }
            },
            "type": "scatterternary"
           }
          ],
          "surface": [
           {
            "colorbar": {
             "outlinewidth": 0,
             "ticks": ""
            },
            "colorscale": [
             [
              0,
              "#0d0887"
             ],
             [
              0.1111111111111111,
              "#46039f"
             ],
             [
              0.2222222222222222,
              "#7201a8"
             ],
             [
              0.3333333333333333,
              "#9c179e"
             ],
             [
              0.4444444444444444,
              "#bd3786"
             ],
             [
              0.5555555555555556,
              "#d8576b"
             ],
             [
              0.6666666666666666,
              "#ed7953"
             ],
             [
              0.7777777777777778,
              "#fb9f3a"
             ],
             [
              0.8888888888888888,
              "#fdca26"
             ],
             [
              1,
              "#f0f921"
             ]
            ],
            "type": "surface"
           }
          ],
          "table": [
           {
            "cells": {
             "fill": {
              "color": "#EBF0F8"
             },
             "line": {
              "color": "white"
             }
            },
            "header": {
             "fill": {
              "color": "#C8D4E3"
             },
             "line": {
              "color": "white"
             }
            },
            "type": "table"
           }
          ]
         },
         "layout": {
          "annotationdefaults": {
           "arrowcolor": "#2a3f5f",
           "arrowhead": 0,
           "arrowwidth": 1
          },
          "autotypenumbers": "strict",
          "coloraxis": {
           "colorbar": {
            "outlinewidth": 0,
            "ticks": ""
           }
          },
          "colorscale": {
           "diverging": [
            [
             0,
             "#8e0152"
            ],
            [
             0.1,
             "#c51b7d"
            ],
            [
             0.2,
             "#de77ae"
            ],
            [
             0.3,
             "#f1b6da"
            ],
            [
             0.4,
             "#fde0ef"
            ],
            [
             0.5,
             "#f7f7f7"
            ],
            [
             0.6,
             "#e6f5d0"
            ],
            [
             0.7,
             "#b8e186"
            ],
            [
             0.8,
             "#7fbc41"
            ],
            [
             0.9,
             "#4d9221"
            ],
            [
             1,
             "#276419"
            ]
           ],
           "sequential": [
            [
             0,
             "#0d0887"
            ],
            [
             0.1111111111111111,
             "#46039f"
            ],
            [
             0.2222222222222222,
             "#7201a8"
            ],
            [
             0.3333333333333333,
             "#9c179e"
            ],
            [
             0.4444444444444444,
             "#bd3786"
            ],
            [
             0.5555555555555556,
             "#d8576b"
            ],
            [
             0.6666666666666666,
             "#ed7953"
            ],
            [
             0.7777777777777778,
             "#fb9f3a"
            ],
            [
             0.8888888888888888,
             "#fdca26"
            ],
            [
             1,
             "#f0f921"
            ]
           ],
           "sequentialminus": [
            [
             0,
             "#0d0887"
            ],
            [
             0.1111111111111111,
             "#46039f"
            ],
            [
             0.2222222222222222,
             "#7201a8"
            ],
            [
             0.3333333333333333,
             "#9c179e"
            ],
            [
             0.4444444444444444,
             "#bd3786"
            ],
            [
             0.5555555555555556,
             "#d8576b"
            ],
            [
             0.6666666666666666,
             "#ed7953"
            ],
            [
             0.7777777777777778,
             "#fb9f3a"
            ],
            [
             0.8888888888888888,
             "#fdca26"
            ],
            [
             1,
             "#f0f921"
            ]
           ]
          },
          "colorway": [
           "#636efa",
           "#EF553B",
           "#00cc96",
           "#ab63fa",
           "#FFA15A",
           "#19d3f3",
           "#FF6692",
           "#B6E880",
           "#FF97FF",
           "#FECB52"
          ],
          "font": {
           "color": "#2a3f5f"
          },
          "geo": {
           "bgcolor": "white",
           "lakecolor": "white",
           "landcolor": "white",
           "showlakes": true,
           "showland": true,
           "subunitcolor": "#C8D4E3"
          },
          "hoverlabel": {
           "align": "left"
          },
          "hovermode": "closest",
          "mapbox": {
           "style": "light"
          },
          "paper_bgcolor": "white",
          "plot_bgcolor": "white",
          "polar": {
           "angularaxis": {
            "gridcolor": "#EBF0F8",
            "linecolor": "#EBF0F8",
            "ticks": ""
           },
           "bgcolor": "white",
           "radialaxis": {
            "gridcolor": "#EBF0F8",
            "linecolor": "#EBF0F8",
            "ticks": ""
           }
          },
          "scene": {
           "xaxis": {
            "backgroundcolor": "white",
            "gridcolor": "#DFE8F3",
            "gridwidth": 2,
            "linecolor": "#EBF0F8",
            "showbackground": true,
            "ticks": "",
            "zerolinecolor": "#EBF0F8"
           },
           "yaxis": {
            "backgroundcolor": "white",
            "gridcolor": "#DFE8F3",
            "gridwidth": 2,
            "linecolor": "#EBF0F8",
            "showbackground": true,
            "ticks": "",
            "zerolinecolor": "#EBF0F8"
           },
           "zaxis": {
            "backgroundcolor": "white",
            "gridcolor": "#DFE8F3",
            "gridwidth": 2,
            "linecolor": "#EBF0F8",
            "showbackground": true,
            "ticks": "",
            "zerolinecolor": "#EBF0F8"
           }
          },
          "shapedefaults": {
           "line": {
            "color": "#2a3f5f"
           }
          },
          "ternary": {
           "aaxis": {
            "gridcolor": "#DFE8F3",
            "linecolor": "#A2B1C6",
            "ticks": ""
           },
           "baxis": {
            "gridcolor": "#DFE8F3",
            "linecolor": "#A2B1C6",
            "ticks": ""
           },
           "bgcolor": "white",
           "caxis": {
            "gridcolor": "#DFE8F3",
            "linecolor": "#A2B1C6",
            "ticks": ""
           }
          },
          "title": {
           "x": 0.05
          },
          "xaxis": {
           "automargin": true,
           "gridcolor": "#EBF0F8",
           "linecolor": "#EBF0F8",
           "ticks": "",
           "title": {
            "standoff": 15
           },
           "zerolinecolor": "#EBF0F8",
           "zerolinewidth": 2
          },
          "yaxis": {
           "automargin": true,
           "gridcolor": "#EBF0F8",
           "linecolor": "#EBF0F8",
           "ticks": "",
           "title": {
            "standoff": 15
           },
           "zerolinecolor": "#EBF0F8",
           "zerolinewidth": 2
          }
         }
        },
        "title": {
         "text": "Sample of Random Portfolios"
        },
        "width": 850,
        "xaxis": {
         "title": {
          "text": "Annualised Risk (Volatility)"
         }
        },
        "yaxis": {
         "title": {
          "text": "Annualised Return"
         }
        }
       }
      }
     },
     "metadata": {},
     "output_type": "display_data"
    }
   ],
   "source": [
    "#-- Plot the risk vs. return of randomly generated portfolios\n",
    "#-- Convert the list from before into an array for easy plotting\n",
    "mean_variance_pairs = np.array(mean_variance_pairs)\n",
    "\n",
    "fig = go.Figure()\n",
    "fig.add_trace(go.Scatter(x=mean_variance_pairs[:,1]**0.5, y=mean_variance_pairs[:,0], \n",
    "                      marker=dict(color=(mean_variance_pairs[:,0]-risk_free_rate)/(mean_variance_pairs[:,1]**0.5), \n",
    "                                  showscale=True, \n",
    "                                  size=7,\n",
    "                                  line=dict(width=1),\n",
    "                                  colorscale=\"RdBu\",\n",
    "                                  colorbar=dict(title=\"Sharpe<br>Ratio\")\n",
    "                                 ), \n",
    "                      mode='markers'))\n",
    "fig.update_layout(template='plotly_white',\n",
    "                  xaxis=dict(title='Annualised Risk (Volatility)'),\n",
    "                  yaxis=dict(title='Annualised Return'),\n",
    "                  title='Sample of Random Portfolios',\n",
    "                  width=850,\n",
    "                  height=500)\n",
    "# fig.update_xaxes(range=[0, 0.4])\n",
    "# fig.update_yaxes(range=[0,0.4])\n",
    "fig.update_layout(coloraxis_colorbar=dict(title=\"Sharpe Ratio\"))"
   ]
  },
  {
   "cell_type": "code",
   "execution_count": 65,
   "metadata": {},
   "outputs": [
    {
     "name": "stderr",
     "output_type": "stream",
     "text": [
      "100%|██████████| 10000/10000 [00:18<00:00, 546.34it/s]\n"
     ]
    }
   ],
   "source": [
    "#-- Create random portfolio weights and indexes\n",
    "\n",
    "mean_variance_pairs = []\n",
    "weights_list=[]\n",
    "tickers_list=[]\n",
    "\n",
    "for i in tqdm(range(10000)):\n",
    "    next_i = False\n",
    "    while True:\n",
    "        #- Choose assets randomly without replacement\n",
    "        assets = np.random.choice(list(daily_returns.columns), n_assets, replace=False)\n",
    "        #- Choose weights randomly ensuring they sum to one\n",
    "        weights = np.random.rand(n_assets)\n",
    "        weights = weights/sum(weights)\n",
    "\n",
    "        #-- Loop over asset pairs and compute portfolio return and variance\n",
    "        portfolio_E_Variance = 0\n",
    "        portfolio_E_Return = 0\n",
    "        for i in range(len(assets)):\n",
    "            portfolio_E_Return += weights[i] * mus.loc[assets[i]]\n",
    "            for j in range(len(assets)):\n",
    "                portfolio_E_Variance += weights[i] * weights[j] * cov.loc[assets[i], assets[j]]\n",
    "\n",
    "        #-- Skip over dominated portfolios\n",
    "        for R,V in mean_variance_pairs:\n",
    "            if (R > portfolio_E_Return) & (V < portfolio_E_Variance):\n",
    "                next_i = True\n",
    "                break\n",
    "        if next_i:\n",
    "            break\n",
    "\n",
    "        #-- Add the mean/variance pairs to a list for plotting\n",
    "        mean_variance_pairs.append([portfolio_E_Return, portfolio_E_Variance])\n",
    "        weights_list.append(weights)\n",
    "        tickers_list.append(assets)\n",
    "        break"
   ]
  },
  {
   "cell_type": "code",
   "execution_count": 66,
   "metadata": {},
   "outputs": [
    {
     "data": {
      "application/vnd.plotly.v1+json": {
       "config": {
        "plotlyServerURL": "https://plot.ly"
       },
       "data": [
        {
         "marker": {
          "color": [
           0.7069284044378256,
           0.5588163132666122,
           0.6684200459766442,
           0.5784226424469332,
           0.58433860241111,
           0.6934134286720649,
           0.6679544085292374,
           0.5470619431696686,
           0.6688186251714199,
           0.5131661550553894,
           0.6822414209504262,
           0.5887684729871783,
           0.6550830949664173,
           0.5642342019547032,
           0.6831896922681379,
           0.6802240673584676,
           0.6656033747538826,
           0.6120694904040683,
           0.6166251284067064,
           0.6984585693885018,
           0.6935349466416565,
           0.6021053862634687,
           0.7058818329905449,
           0.5984542642509302,
           0.697962956524245,
           0.726064624640281,
           0.6422175887663717,
           0.5315885613983022,
           0.6193422920292988,
           0.7230853114438887,
           0.679912306007231,
           0.7218127449734882,
           0.7379774829181789,
           0.6504173795983698,
           0.562354568965216,
           0.663879666740826,
           0.5951004921663734,
           0.5392754088343702,
           0.7040112090204622,
           0.6713544052625215,
           0.5974897535623513,
           0.7148619149258034,
           0.7004725975657276,
           0.7000017127889868,
           0.7236292645268934,
           0.7276403813811833,
           0.6956969589937926,
           0.6551962362111773,
           0.7449829884089774,
           0.6470117215614354,
           0.7198364288101278,
           0.6286635597438524,
           0.7029512512354398,
           0.6984760308172256,
           0.730879378746473,
           0.41456531686567183,
           0.6937276868291864,
           0.5536950576677434,
           0.5940690923399526,
           0.6688208826534983,
           0.6795612888868062,
           0.7362413528632692,
           0.7029789104464554,
           0.6160530955782219,
           0.6865537542896554,
           0.5921552033780331,
           0.5978105222172442,
           0.7020482197877794,
           0.5360060329101777,
           0.5488166911003405,
           0.5372362702523821,
           0.6091392458283943,
           0.617686409335687,
           0.7346380191295735,
           0.7052151768479608,
           0.6182805599307274,
           0.6171747455690427,
           0.6359674992643978,
           0.6013522054853404,
           0.6651462347592688,
           0.5924227987483089,
           0.7033014214064245,
           0.6986719703534375,
           0.7071368032772491,
           0.7147025978508124,
           0.622881672454755,
           0.7240957081929916,
           0.7502207704411566,
           0.6098308715465823,
           0.7078100364447899,
           0.5623776478026745,
           0.6441416222614342,
           0.7211867541450764,
           0.5484308559831821,
           0.7050878535731991,
           0.5605228764848973,
           0.6801664317817766,
           0.7042066164569785,
           0.7348402353328124,
           0.6665954047580598,
           0.6105109977110653,
           0.7447967907363083,
           0.7167699984061983,
           0.7318485436346436,
           0.7068111914845838,
           0.7339413967523185,
           0.606842736647943,
           0.6928156372772714,
           0.7257961250744789,
           0.6609290112938515,
           0.7364015164920926,
           0.7208263813960841,
           0.6930650547235369,
           0.7002520840674431,
           0.7277275439291674,
           0.5807539832178485,
           0.6169181644952381,
           0.7080629751441051,
           0.6755282346791537,
           0.6162685966406036,
           0.723671733315527,
           0.7100069259664554,
           0.7192961412640596,
           0.6683135734010215,
           0.6800491984539375,
           0.7428558641506326,
           0.757914696980464,
           0.7224262934515803,
           0.7257690567429759,
           0.7431495831588557,
           0.6661294396384858,
           0.6676447364281922,
           0.6162518966575504,
           0.6409643346776402,
           0.7280306731094915,
           0.6907450300397374,
           0.7281136980485419,
           0.6783842468924098,
           0.7269014950319822,
           0.5634785697228155,
           0.6892708673583958,
           0.7488057459111376,
           0.7140280222252309,
           0.7035254990068677,
           0.7493417494079196,
           0.7521289817942322,
           0.7441461740255393,
           0.5163377749868854,
           0.7023599002280368,
           0.5711320878420334,
           0.7122425126789,
           0.7234893491000558,
           0.6345585559904647,
           0.5435836895327116,
           0.6893821403642262,
           0.7037881222458738,
           0.6981590747678458,
           0.728889489407037,
           0.6070707378281907,
           0.7687520828425419,
           0.6138563079987548,
           0.7510340500284999,
           0.5820578093887884,
           0.7277757168268105,
           0.66916542313309,
           0.6444963372926722,
           0.7234601676295713,
           0.6181821950611323,
           0.7273772883808042,
           0.7280481785674306,
           0.7053554306542873,
           0.7728921204349117,
           0.7484812836921902,
           0.7299562049466122,
           0.728757559435701,
           0.6453379653135458,
           0.7144530887407348,
           0.5270960118395774,
           0.5905032258641247,
           0.6736393194840765,
           0.762067513802585,
           0.6738984294268004,
           0.6792363292430629,
           0.7097949923819149,
           0.715934689140432,
           0.6648549690237091,
           0.749385081605813,
           0.7348214317989624,
           0.7544540604748912,
           0.7351913148190551,
           0.5852678149464232,
           0.6122499763848593,
           0.7020753930517041,
           0.7194287465352552,
           0.6504387331935,
           0.7439622950824393,
           0.653368566358309,
           0.6786855517025416,
           0.7053956499380527,
           0.5995393114928438,
           0.7050034352196403,
           0.7582511858419156,
           0.7093954300732039,
           0.7616159665713721,
           0.6277564392489163,
           0.7333985672095074,
           0.6414069701013655,
           0.7179993491850303,
           0.5908458622463836,
           0.6823108980976899,
           0.7316716894499196,
           0.6753475743309832,
           0.6690639912709351,
           0.7166067673657532,
           0.7432404625732326,
           0.7429183203880012,
           0.7510800922581652,
           0.5483349229534716,
           0.6787705266570739,
           0.7571366608351994,
           0.676144742286633,
           0.6564555858975862,
           0.6241861791213563,
           0.7279453375920985,
           0.7036278003650879,
           0.5415917918347095,
           0.6394848221478804,
           0.7038137382121247,
           0.6726306454802027,
           0.5961164847441067,
           0.7357464437304965,
           0.6848682956530671,
           0.7513062699773027,
           0.7337379584171967,
           0.7458456762805155,
           0.6453734883547176,
           0.5513242993678705,
           0.7373803734165952,
           0.7414759642785924,
           0.6177113752780925,
           0.4951889871922239,
           0.5182311683911772,
           0.7154369093694185,
           0.6934091860050632,
           0.6483007811957638,
           0.6794307070978529,
           0.7566606370361082,
           0.6237113420156767,
           0.6279549291767539,
           0.7494388707251795,
           0.6403335027748626,
           0.5745000120357415,
           0.5569135004998973,
           0.42883665226568735,
           0.7576263065988568,
           0.7453931942296729,
           0.6167985782615052,
           0.5991737425018921,
           0.7488764485568232,
           0.7471572899610698,
           0.7517202935019273,
           0.6185720025614256,
           0.7213086628595937,
           0.6514663655218209,
           0.7047638441698013
          ],
          "colorbar": {
           "title": {
            "text": "Sharpe<br>Ratio"
           }
          },
          "colorscale": [
           [
            0,
            "rgb(103,0,31)"
           ],
           [
            0.1,
            "rgb(178,24,43)"
           ],
           [
            0.2,
            "rgb(214,96,77)"
           ],
           [
            0.3,
            "rgb(244,165,130)"
           ],
           [
            0.4,
            "rgb(253,219,199)"
           ],
           [
            0.5,
            "rgb(247,247,247)"
           ],
           [
            0.6,
            "rgb(209,229,240)"
           ],
           [
            0.7,
            "rgb(146,197,222)"
           ],
           [
            0.8,
            "rgb(67,147,195)"
           ],
           [
            0.9,
            "rgb(33,102,172)"
           ],
           [
            1,
            "rgb(5,48,97)"
           ]
          ],
          "line": {
           "width": 1
          },
          "showscale": true,
          "size": 7
         },
         "mode": "markers",
         "text": [
          "['AMZN' 'MSFT' 'ABT' 'JPM' 'AAPL' 'GOOGL' 'KO' 'NVDA' 'TGT' 'WMT']<br>[0.15 0.15 0.14 0.09 0.01 0.   0.05 0.17 0.12 0.12]",
          "['KO' 'MSFT' 'JPM' 'AMZN' 'WMT' 'TGT' 'ABT' 'GOOGL' 'AAPL' 'NVDA']<br>[0.19 0.16 0.17 0.05 0.05 0.08 0.04 0.09 0.16 0.  ]",
          "['NVDA' 'GOOGL' 'MSFT' 'TGT' 'AAPL' 'AMZN' 'KO' 'WMT' 'ABT' 'JPM']<br>[0.15 0.22 0.09 0.   0.02 0.27 0.02 0.11 0.02 0.12]",
          "['NVDA' 'MSFT' 'GOOGL' 'WMT' 'ABT' 'AMZN' 'KO' 'AAPL' 'TGT' 'JPM']<br>[0.04 0.08 0.04 0.09 0.04 0.11 0.16 0.12 0.17 0.15]",
          "['WMT' 'ABT' 'GOOGL' 'AMZN' 'TGT' 'AAPL' 'NVDA' 'KO' 'JPM' 'MSFT']<br>[0.08 0.17 0.07 0.05 0.14 0.12 0.03 0.14 0.07 0.13]",
          "['AMZN' 'JPM' 'MSFT' 'TGT' 'GOOGL' 'NVDA' 'KO' 'AAPL' 'WMT' 'ABT']<br>[0.07 0.08 0.16 0.1  0.06 0.17 0.14 0.01 0.04 0.17]",
          "['NVDA' 'MSFT' 'GOOGL' 'WMT' 'JPM' 'ABT' 'AAPL' 'KO' 'AMZN' 'TGT']<br>[0.16 0.06 0.17 0.17 0.06 0.09 0.07 0.12 0.06 0.05]",
          "['TGT' 'WMT' 'KO' 'AMZN' 'GOOGL' 'NVDA' 'MSFT' 'AAPL' 'ABT' 'JPM']<br>[0.16 0.08 0.25 0.07 0.11 0.02 0.16 0.01 0.13 0.01]",
          "['JPM' 'AMZN' 'TGT' 'ABT' 'KO' 'MSFT' 'GOOGL' 'AAPL' 'WMT' 'NVDA']<br>[0.03 0.09 0.   0.05 0.14 0.13 0.15 0.11 0.17 0.12]",
          "['WMT' 'JPM' 'TGT' 'KO' 'NVDA' 'AMZN' 'AAPL' 'GOOGL' 'MSFT' 'ABT']<br>[0.17 0.18 0.06 0.23 0.01 0.25 0.01 0.03 0.01 0.05]",
          "['AMZN' 'JPM' 'WMT' 'TGT' 'NVDA' 'GOOGL' 'ABT' 'MSFT' 'AAPL' 'KO']<br>[0.04 0.06 0.14 0.12 0.14 0.03 0.13 0.14 0.12 0.08]",
          "['NVDA' 'AAPL' 'AMZN' 'TGT' 'WMT' 'JPM' 'MSFT' 'GOOGL' 'KO' 'ABT']<br>[0.05 0.06 0.22 0.2  0.04 0.03 0.02 0.1  0.12 0.15]",
          "['AAPL' 'NVDA' 'TGT' 'GOOGL' 'AMZN' 'MSFT' 'ABT' 'KO' 'JPM' 'WMT']<br>[0.04 0.08 0.11 0.04 0.14 0.19 0.09 0.12 0.08 0.1 ]",
          "['ABT' 'NVDA' 'JPM' 'GOOGL' 'TGT' 'WMT' 'MSFT' 'AAPL' 'AMZN' 'KO']<br>[0.13 0.01 0.17 0.12 0.06 0.02 0.03 0.19 0.14 0.14]",
          "['AMZN' 'JPM' 'WMT' 'NVDA' 'ABT' 'AAPL' 'TGT' 'GOOGL' 'MSFT' 'KO']<br>[0.09 0.1  0.07 0.13 0.13 0.06 0.1  0.04 0.19 0.09]",
          "['NVDA' 'KO' 'ABT' 'JPM' 'MSFT' 'AAPL' 'GOOGL' 'AMZN' 'WMT' 'TGT']<br>[0.11 0.09 0.07 0.16 0.17 0.11 0.05 0.14 0.11 0.01]",
          "['MSFT' 'KO' 'JPM' 'ABT' 'WMT' 'TGT' 'GOOGL' 'AMZN' 'NVDA' 'AAPL']<br>[0.13 0.09 0.11 0.17 0.16 0.04 0.04 0.03 0.13 0.11]",
          "['KO' 'JPM' 'AMZN' 'AAPL' 'ABT' 'GOOGL' 'MSFT' 'WMT' 'NVDA' 'TGT']<br>[0.13 0.11 0.06 0.08 0.15 0.1  0.03 0.16 0.1  0.09]",
          "['KO' 'AAPL' 'JPM' 'AMZN' 'ABT' 'MSFT' 'GOOGL' 'WMT' 'NVDA' 'TGT']<br>[0.11 0.15 0.01 0.18 0.17 0.18 0.03 0.09 0.01 0.06]",
          "['GOOGL' 'AMZN' 'MSFT' 'TGT' 'AAPL' 'WMT' 'JPM' 'ABT' 'KO' 'NVDA']<br>[0.   0.09 0.12 0.1  0.14 0.08 0.13 0.07 0.13 0.15]",
          "['KO' 'TGT' 'AAPL' 'GOOGL' 'NVDA' 'MSFT' 'ABT' 'JPM' 'AMZN' 'WMT']<br>[0.01 0.09 0.17 0.17 0.15 0.1  0.14 0.03 0.12 0.01]",
          "['AAPL' 'AMZN' 'GOOGL' 'MSFT' 'TGT' 'KO' 'JPM' 'ABT' 'WMT' 'NVDA']<br>[0.2  0.15 0.13 0.04 0.01 0.18 0.14 0.01 0.1  0.04]",
          "['MSFT' 'WMT' 'ABT' 'AAPL' 'KO' 'JPM' 'GOOGL' 'AMZN' 'NVDA' 'TGT']<br>[0.14 0.04 0.15 0.07 0.03 0.04 0.02 0.16 0.18 0.2 ]",
          "['AAPL' 'TGT' 'JPM' 'MSFT' 'ABT' 'NVDA' 'GOOGL' 'WMT' 'KO' 'AMZN']<br>[0.04 0.1  0.   0.09 0.07 0.05 0.17 0.15 0.14 0.18]",
          "['JPM' 'ABT' 'WMT' 'AAPL' 'TGT' 'AMZN' 'MSFT' 'NVDA' 'GOOGL' 'KO']<br>[0.14 0.16 0.02 0.15 0.1  0.19 0.01 0.17 0.06 0.01]",
          "['AAPL' 'ABT' 'AMZN' 'MSFT' 'GOOGL' 'TGT' 'KO' 'WMT' 'NVDA' 'JPM']<br>[0.16 0.09 0.07 0.19 0.01 0.08 0.12 0.08 0.16 0.02]",
          "['GOOGL' 'AMZN' 'KO' 'AAPL' 'JPM' 'MSFT' 'ABT' 'WMT' 'TGT' 'NVDA']<br>[0.11 0.18 0.22 0.13 0.01 0.06 0.08 0.1  0.03 0.08]",
          "['MSFT' 'AAPL' 'TGT' 'WMT' 'NVDA' 'KO' 'ABT' 'AMZN' 'JPM' 'GOOGL']<br>[0.02 0.08 0.17 0.02 0.01 0.23 0.07 0.21 0.17 0.02]",
          "['ABT' 'MSFT' 'GOOGL' 'NVDA' 'AAPL' 'KO' 'AMZN' 'TGT' 'JPM' 'WMT']<br>[0.16 0.13 0.11 0.06 0.03 0.12 0.15 0.07 0.03 0.14]",
          "['MSFT' 'WMT' 'TGT' 'KO' 'NVDA' 'JPM' 'AAPL' 'AMZN' 'ABT' 'GOOGL']<br>[0.11 0.03 0.03 0.08 0.22 0.04 0.15 0.05 0.11 0.18]",
          "['GOOGL' 'MSFT' 'WMT' 'JPM' 'NVDA' 'KO' 'AAPL' 'ABT' 'AMZN' 'TGT']<br>[0.05 0.02 0.15 0.01 0.18 0.19 0.09 0.14 0.06 0.11]",
          "['MSFT' 'TGT' 'JPM' 'GOOGL' 'WMT' 'NVDA' 'ABT' 'KO' 'AAPL' 'AMZN']<br>[0.13 0.1  0.07 0.07 0.01 0.18 0.09 0.04 0.1  0.21]",
          "['MSFT' 'AAPL' 'KO' 'GOOGL' 'TGT' 'NVDA' 'WMT' 'ABT' 'JPM' 'AMZN']<br>[0.14 0.15 0.08 0.03 0.   0.22 0.   0.01 0.21 0.17]",
          "['TGT' 'WMT' 'ABT' 'NVDA' 'KO' 'JPM' 'GOOGL' 'AAPL' 'MSFT' 'AMZN']<br>[0.1  0.1  0.1  0.1  0.19 0.07 0.03 0.15 0.13 0.03]",
          "['KO' 'WMT' 'JPM' 'AAPL' 'NVDA' 'AMZN' 'GOOGL' 'MSFT' 'TGT' 'ABT']<br>[0.18 0.17 0.09 0.15 0.01 0.19 0.02 0.03 0.06 0.11]",
          "['GOOGL' 'AAPL' 'TGT' 'WMT' 'AMZN' 'ABT' 'NVDA' 'MSFT' 'KO' 'JPM']<br>[0.02 0.13 0.12 0.16 0.04 0.03 0.13 0.13 0.15 0.09]",
          "['ABT' 'GOOGL' 'JPM' 'WMT' 'NVDA' 'AMZN' 'AAPL' 'KO' 'MSFT' 'TGT']<br>[0.19 0.07 0.05 0.14 0.03 0.15 0.08 0.13 0.11 0.06]",
          "['ABT' 'WMT' 'JPM' 'KO' 'MSFT' 'NVDA' 'GOOGL' 'AAPL' 'TGT' 'AMZN']<br>[0.09 0.13 0.09 0.19 0.24 0.   0.05 0.05 0.14 0.02]",
          "['GOOGL' 'MSFT' 'WMT' 'KO' 'AAPL' 'AMZN' 'JPM' 'ABT' 'NVDA' 'TGT']<br>[0.03 0.07 0.03 0.21 0.13 0.13 0.1  0.08 0.16 0.06]",
          "['GOOGL' 'KO' 'AMZN' 'TGT' 'JPM' 'MSFT' 'AAPL' 'WMT' 'ABT' 'NVDA']<br>[0.01 0.1  0.08 0.17 0.09 0.09 0.1  0.16 0.05 0.15]",
          "['KO' 'WMT' 'ABT' 'TGT' 'AAPL' 'NVDA' 'JPM' 'MSFT' 'GOOGL' 'AMZN']<br>[0.16 0.15 0.06 0.11 0.14 0.09 0.19 0.01 0.03 0.05]",
          "['AAPL' 'MSFT' 'AMZN' 'WMT' 'TGT' 'GOOGL' 'NVDA' 'ABT' 'KO' 'JPM']<br>[0.14 0.09 0.15 0.12 0.03 0.09 0.17 0.13 0.   0.07]",
          "['WMT' 'AAPL' 'GOOGL' 'NVDA' 'TGT' 'JPM' 'AMZN' 'ABT' 'MSFT' 'KO']<br>[0.08 0.13 0.07 0.15 0.14 0.01 0.12 0.03 0.14 0.12]",
          "['GOOGL' 'AMZN' 'WMT' 'MSFT' 'AAPL' 'ABT' 'JPM' 'TGT' 'NVDA' 'KO']<br>[0.21 0.15 0.02 0.05 0.05 0.04 0.11 0.04 0.21 0.11]",
          "['KO' 'NVDA' 'ABT' 'AMZN' 'MSFT' 'GOOGL' 'JPM' 'WMT' 'TGT' 'AAPL']<br>[0.03 0.2  0.08 0.2  0.05 0.04 0.1  0.01 0.12 0.17]",
          "['NVDA' 'TGT' 'MSFT' 'ABT' 'JPM' 'AMZN' 'KO' 'GOOGL' 'WMT' 'AAPL']<br>[0.18 0.02 0.21 0.07 0.04 0.04 0.09 0.07 0.11 0.16]",
          "['MSFT' 'ABT' 'AAPL' 'GOOGL' 'NVDA' 'JPM' 'WMT' 'KO' 'TGT' 'AMZN']<br>[0.14 0.09 0.09 0.03 0.15 0.11 0.07 0.07 0.13 0.11]",
          "['TGT' 'MSFT' 'ABT' 'GOOGL' 'AAPL' 'NVDA' 'JPM' 'KO' 'AMZN' 'WMT']<br>[0.02 0.07 0.1  0.06 0.18 0.12 0.09 0.18 0.01 0.17]",
          "['KO' 'AMZN' 'AAPL' 'TGT' 'JPM' 'ABT' 'WMT' 'NVDA' 'GOOGL' 'MSFT']<br>[0.08 0.12 0.11 0.01 0.03 0.21 0.03 0.23 0.05 0.13]",
          "['KO' 'TGT' 'NVDA' 'ABT' 'WMT' 'GOOGL' 'MSFT' 'JPM' 'AAPL' 'AMZN']<br>[0.18 0.04 0.13 0.11 0.14 0.07 0.04 0.16 0.07 0.07]",
          "['NVDA' 'MSFT' 'WMT' 'GOOGL' 'AMZN' 'KO' 'TGT' 'JPM' 'AAPL' 'ABT']<br>[0.2  0.12 0.08 0.03 0.15 0.04 0.08 0.13 0.05 0.14]",
          "['WMT' 'MSFT' 'NVDA' 'TGT' 'KO' 'JPM' 'AMZN' 'GOOGL' 'AAPL' 'ABT']<br>[0.15 0.14 0.07 0.11 0.1  0.13 0.14 0.01 0.05 0.11]",
          "['WMT' 'JPM' 'AAPL' 'NVDA' 'AMZN' 'KO' 'GOOGL' 'MSFT' 'ABT' 'TGT']<br>[0.1  0.01 0.11 0.13 0.17 0.2  0.01 0.13 0.11 0.01]",
          "['JPM' 'KO' 'GOOGL' 'MSFT' 'AMZN' 'TGT' 'AAPL' 'ABT' 'NVDA' 'WMT']<br>[0.07 0.11 0.03 0.06 0.11 0.02 0.19 0.08 0.15 0.18]",
          "['TGT' 'MSFT' 'AAPL' 'NVDA' 'KO' 'AMZN' 'GOOGL' 'ABT' 'WMT' 'JPM']<br>[0.15 0.2  0.   0.2  0.11 0.18 0.03 0.11 0.   0.01]",
          "['AAPL' 'JPM' 'ABT' 'MSFT' 'TGT' 'KO' 'AMZN' 'WMT' 'NVDA' 'GOOGL']<br>[0.03 0.32 0.12 0.03 0.03 0.24 0.01 0.21 0.01 0.  ]",
          "['KO' 'TGT' 'AMZN' 'WMT' 'AAPL' 'GOOGL' 'JPM' 'MSFT' 'NVDA' 'ABT']<br>[0.11 0.12 0.13 0.08 0.06 0.03 0.04 0.17 0.14 0.13]",
          "['NVDA' 'ABT' 'MSFT' 'AMZN' 'JPM' 'AAPL' 'WMT' 'GOOGL' 'KO' 'TGT']<br>[0.04 0.14 0.05 0.14 0.12 0.01 0.15 0.18 0.17 0.01]",
          "['JPM' 'WMT' 'GOOGL' 'TGT' 'ABT' 'KO' 'NVDA' 'MSFT' 'AAPL' 'AMZN']<br>[0.17 0.16 0.   0.05 0.13 0.11 0.04 0.07 0.15 0.12]",
          "['WMT' 'NVDA' 'JPM' 'ABT' 'KO' 'MSFT' 'GOOGL' 'AMZN' 'TGT' 'AAPL']<br>[0.14 0.12 0.09 0.13 0.18 0.05 0.04 0.17 0.01 0.08]",
          "['NVDA' 'ABT' 'TGT' 'AMZN' 'AAPL' 'GOOGL' 'KO' 'MSFT' 'WMT' 'JPM']<br>[0.13 0.16 0.08 0.08 0.09 0.07 0.14 0.13 0.07 0.04]",
          "['KO' 'MSFT' 'JPM' 'NVDA' 'AMZN' 'AAPL' 'GOOGL' 'ABT' 'WMT' 'TGT']<br>[0.06 0.12 0.03 0.2  0.17 0.12 0.02 0.06 0.14 0.08]",
          "['GOOGL' 'AMZN' 'NVDA' 'WMT' 'MSFT' 'JPM' 'AAPL' 'KO' 'ABT' 'TGT']<br>[0.06 0.09 0.16 0.16 0.13 0.   0.12 0.13 0.04 0.09]",
          "['AAPL' 'AMZN' 'ABT' 'GOOGL' 'KO' 'WMT' 'MSFT' 'TGT' 'NVDA' 'JPM']<br>[0.02 0.07 0.12 0.11 0.16 0.13 0.13 0.16 0.09 0.01]",
          "['NVDA' 'TGT' 'KO' 'JPM' 'ABT' 'MSFT' 'AAPL' 'AMZN' 'WMT' 'GOOGL']<br>[0.14 0.08 0.13 0.04 0.13 0.11 0.2  0.02 0.13 0.02]",
          "['NVDA' 'JPM' 'KO' 'TGT' 'AMZN' 'WMT' 'ABT' 'MSFT' 'AAPL' 'GOOGL']<br>[0.06 0.03 0.21 0.1  0.08 0.18 0.13 0.   0.2  0.  ]",
          "['ABT' 'KO' 'JPM' 'TGT' 'AMZN' 'NVDA' 'MSFT' 'WMT' 'AAPL' 'GOOGL']<br>[0.09 0.2  0.07 0.11 0.01 0.09 0.01 0.13 0.16 0.14]",
          "['JPM' 'KO' 'GOOGL' 'TGT' 'MSFT' 'WMT' 'AMZN' 'NVDA' 'AAPL' 'ABT']<br>[0.01 0.13 0.1  0.05 0.01 0.19 0.21 0.21 0.01 0.1 ]",
          "['AMZN' 'JPM' 'TGT' 'GOOGL' 'AAPL' 'KO' 'NVDA' 'WMT' 'ABT' 'MSFT']<br>[0.04 0.15 0.11 0.03 0.08 0.16 0.02 0.2  0.09 0.11]",
          "['JPM' 'MSFT' 'GOOGL' 'AAPL' 'KO' 'NVDA' 'ABT' 'TGT' 'WMT' 'AMZN']<br>[0.02 0.03 0.08 0.01 0.24 0.08 0.17 0.1  0.23 0.03]",
          "['TGT' 'KO' 'AAPL' 'WMT' 'GOOGL' 'MSFT' 'JPM' 'NVDA' 'AMZN' 'ABT']<br>[0.05 0.16 0.02 0.15 0.14 0.08 0.14 0.05 0.   0.2 ]",
          "['MSFT' 'WMT' 'NVDA' 'AMZN' 'TGT' 'AAPL' 'ABT' 'KO' 'GOOGL' 'JPM']<br>[0.1  0.13 0.06 0.07 0.07 0.13 0.1  0.14 0.13 0.08]",
          "['JPM' 'AMZN' 'ABT' 'KO' 'AAPL' 'NVDA' 'MSFT' 'GOOGL' 'WMT' 'TGT']<br>[0.12 0.15 0.12 0.12 0.14 0.07 0.02 0.03 0.16 0.06]",
          "['JPM' 'WMT' 'AMZN' 'ABT' 'AAPL' 'MSFT' 'NVDA' 'KO' 'GOOGL' 'TGT']<br>[0.01 0.14 0.21 0.05 0.04 0.08 0.23 0.09 0.08 0.05]",
          "['AAPL' 'WMT' 'TGT' 'JPM' 'NVDA' 'ABT' 'MSFT' 'KO' 'GOOGL' 'AMZN']<br>[0.17 0.15 0.1  0.08 0.17 0.06 0.08 0.09 0.03 0.07]",
          "['GOOGL' 'MSFT' 'WMT' 'TGT' 'NVDA' 'AAPL' 'KO' 'JPM' 'AMZN' 'ABT']<br>[0.   0.15 0.15 0.03 0.06 0.02 0.16 0.18 0.19 0.05]",
          "['AMZN' 'NVDA' 'AAPL' 'ABT' 'WMT' 'JPM' 'TGT' 'GOOGL' 'KO' 'MSFT']<br>[0.18 0.07 0.07 0.18 0.14 0.   0.1  0.04 0.16 0.04]",
          "['AMZN' 'TGT' 'AAPL' 'JPM' 'ABT' 'GOOGL' 'MSFT' 'KO' 'NVDA' 'WMT']<br>[0.13 0.11 0.03 0.17 0.06 0.02 0.08 0.16 0.11 0.13]",
          "['ABT' 'NVDA' 'KO' 'MSFT' 'AMZN' 'GOOGL' 'AAPL' 'TGT' 'WMT' 'JPM']<br>[0.19 0.06 0.11 0.11 0.1  0.06 0.02 0.04 0.16 0.15]",
          "['AMZN' 'AAPL' 'TGT' 'WMT' 'JPM' 'MSFT' 'NVDA' 'GOOGL' 'ABT' 'KO']<br>[0.16 0.11 0.09 0.1  0.08 0.11 0.1  0.04 0.06 0.16]",
          "['GOOGL' 'JPM' 'KO' 'AAPL' 'AMZN' 'NVDA' 'WMT' 'TGT' 'MSFT' 'ABT']<br>[0.01 0.17 0.18 0.11 0.02 0.09 0.16 0.04 0.01 0.19]",
          "['TGT' 'WMT' 'JPM' 'AMZN' 'MSFT' 'KO' 'NVDA' 'ABT' 'AAPL' 'GOOGL']<br>[0.05 0.14 0.11 0.1  0.06 0.16 0.17 0.04 0.15 0.02]",
          "['JPM' 'ABT' 'NVDA' 'WMT' 'MSFT' 'TGT' 'AAPL' 'GOOGL' 'KO' 'AMZN']<br>[0.   0.17 0.14 0.17 0.12 0.01 0.07 0.   0.15 0.16]",
          "['MSFT' 'AAPL' 'KO' 'ABT' 'JPM' 'GOOGL' 'AMZN' 'NVDA' 'TGT' 'WMT']<br>[0.07 0.13 0.14 0.03 0.04 0.01 0.12 0.18 0.09 0.19]",
          "['GOOGL' 'NVDA' 'AMZN' 'ABT' 'JPM' 'AAPL' 'KO' 'WMT' 'TGT' 'MSFT']<br>[0.09 0.19 0.08 0.02 0.07 0.15 0.13 0.12 0.07 0.08]",
          "['WMT' 'MSFT' 'ABT' 'KO' 'AMZN' 'AAPL' 'GOOGL' 'JPM' 'TGT' 'NVDA']<br>[0.08 0.02 0.11 0.27 0.19 0.03 0.05 0.06 0.1  0.09]",
          "['JPM' 'MSFT' 'NVDA' 'TGT' 'AAPL' 'KO' 'AMZN' 'GOOGL' 'WMT' 'ABT']<br>[0.07 0.17 0.22 0.13 0.08 0.02 0.07 0.12 0.07 0.04]",
          "['JPM' 'WMT' 'KO' 'AMZN' 'TGT' 'AAPL' 'MSFT' 'GOOGL' 'NVDA' 'ABT']<br>[0.1  0.01 0.02 0.29 0.02 0.03 0.06 0.05 0.28 0.14]",
          "['TGT' 'AAPL' 'GOOGL' 'KO' 'ABT' 'WMT' 'NVDA' 'AMZN' 'JPM' 'MSFT']<br>[0.05 0.21 0.04 0.19 0.11 0.17 0.05 0.11 0.03 0.03]",
          "['WMT' 'NVDA' 'GOOGL' 'MSFT' 'KO' 'AAPL' 'AMZN' 'ABT' 'JPM' 'TGT']<br>[0.18 0.18 0.02 0.16 0.06 0.01 0.14 0.07 0.07 0.11]",
          "['JPM' 'AAPL' 'MSFT' 'NVDA' 'AMZN' 'KO' 'ABT' 'GOOGL' 'TGT' 'WMT']<br>[0.11 0.09 0.1  0.04 0.05 0.17 0.11 0.01 0.16 0.15]",
          "['MSFT' 'AMZN' 'WMT' 'NVDA' 'GOOGL' 'TGT' 'KO' 'AAPL' 'JPM' 'ABT']<br>[0.02 0.19 0.18 0.1  0.02 0.05 0.19 0.09 0.   0.17]",
          "['MSFT' 'AMZN' 'TGT' 'AAPL' 'NVDA' 'KO' 'GOOGL' 'WMT' 'ABT' 'JPM']<br>[0.04 0.09 0.02 0.16 0.21 0.18 0.03 0.21 0.   0.05]",
          "['KO' 'NVDA' 'MSFT' 'AMZN' 'ABT' 'JPM' 'WMT' 'AAPL' 'TGT' 'GOOGL']<br>[0.16 0.05 0.02 0.1  0.21 0.07 0.17 0.   0.11 0.09]",
          "['KO' 'GOOGL' 'MSFT' 'AMZN' 'AAPL' 'ABT' 'NVDA' 'WMT' 'TGT' 'JPM']<br>[0.12 0.07 0.09 0.04 0.16 0.16 0.18 0.07 0.01 0.11]",
          "['ABT' 'JPM' 'AAPL' 'GOOGL' 'KO' 'MSFT' 'AMZN' 'NVDA' 'TGT' 'WMT']<br>[0.15 0.12 0.01 0.07 0.2  0.01 0.09 0.07 0.11 0.16]",
          "['KO' 'AMZN' 'WMT' 'JPM' 'NVDA' 'AAPL' 'ABT' 'TGT' 'GOOGL' 'MSFT']<br>[0.13 0.12 0.13 0.07 0.15 0.08 0.09 0.12 0.04 0.05]",
          "['ABT' 'GOOGL' 'WMT' 'KO' 'AAPL' 'TGT' 'MSFT' 'AMZN' 'JPM' 'NVDA']<br>[0.08 0.02 0.12 0.11 0.1  0.05 0.14 0.15 0.09 0.14]",
          "['KO' 'NVDA' 'JPM' 'ABT' 'WMT' 'MSFT' 'AMZN' 'GOOGL' 'AAPL' 'TGT']<br>[0.05 0.21 0.03 0.27 0.03 0.26 0.03 0.03 0.03 0.06]",
          "['JPM' 'AAPL' 'KO' 'WMT' 'NVDA' 'AMZN' 'TGT' 'MSFT' 'ABT' 'GOOGL']<br>[0.08 0.2  0.25 0.14 0.12 0.04 0.01 0.08 0.06 0.02]",
          "['MSFT' 'NVDA' 'ABT' 'TGT' 'GOOGL' 'AMZN' 'WMT' 'AAPL' 'KO' 'JPM']<br>[0.12 0.07 0.21 0.07 0.02 0.1  0.11 0.02 0.18 0.09]",
          "['AAPL' 'JPM' 'MSFT' 'KO' 'GOOGL' 'NVDA' 'WMT' 'AMZN' 'ABT' 'TGT']<br>[0.12 0.01 0.28 0.22 0.02 0.2  0.03 0.02 0.08 0.03]",
          "['NVDA' 'TGT' 'JPM' 'KO' 'AMZN' 'GOOGL' 'AAPL' 'ABT' 'WMT' 'MSFT']<br>[0.17 0.17 0.   0.08 0.12 0.   0.14 0.05 0.08 0.18]",
          "['ABT' 'AAPL' 'WMT' 'JPM' 'TGT' 'KO' 'MSFT' 'NVDA' 'GOOGL' 'AMZN']<br>[0.05 0.   0.16 0.05 0.12 0.03 0.21 0.22 0.05 0.12]",
          "['TGT' 'MSFT' 'JPM' 'GOOGL' 'WMT' 'NVDA' 'AAPL' 'ABT' 'KO' 'AMZN']<br>[0.   0.17 0.03 0.07 0.13 0.14 0.18 0.1  0.09 0.08]",
          "['KO' 'NVDA' 'WMT' 'AAPL' 'AMZN' 'TGT' 'GOOGL' 'ABT' 'MSFT' 'JPM']<br>[0.15 0.24 0.18 0.08 0.14 0.   0.   0.14 0.   0.06]",
          "['AMZN' 'ABT' 'NVDA' 'JPM' 'GOOGL' 'WMT' 'TGT' 'AAPL' 'MSFT' 'KO']<br>[0.07 0.13 0.07 0.15 0.01 0.19 0.02 0.09 0.09 0.18]",
          "['GOOGL' 'ABT' 'AAPL' 'TGT' 'JPM' 'AMZN' 'MSFT' 'NVDA' 'WMT' 'KO']<br>[0.03 0.12 0.13 0.03 0.06 0.11 0.14 0.12 0.14 0.11]",
          "['TGT' 'GOOGL' 'AAPL' 'WMT' 'NVDA' 'JPM' 'AMZN' 'ABT' 'KO' 'MSFT']<br>[0.01 0.21 0.02 0.08 0.26 0.03 0.15 0.16 0.   0.06]",
          "['MSFT' 'KO' 'AAPL' 'JPM' 'ABT' 'TGT' 'AMZN' 'GOOGL' 'WMT' 'NVDA']<br>[0.05 0.31 0.21 0.04 0.07 0.02 0.   0.07 0.09 0.14]",
          "['ABT' 'JPM' 'WMT' 'AAPL' 'TGT' 'AMZN' 'NVDA' 'MSFT' 'GOOGL' 'KO']<br>[0.13 0.01 0.12 0.2  0.01 0.04 0.19 0.2  0.05 0.05]",
          "['TGT' 'JPM' 'AMZN' 'WMT' 'ABT' 'GOOGL' 'MSFT' 'NVDA' 'AAPL' 'KO']<br>[0.03 0.01 0.12 0.2  0.08 0.06 0.07 0.22 0.04 0.18]",
          "['GOOGL' 'MSFT' 'AAPL' 'JPM' 'ABT' 'AMZN' 'KO' 'TGT' 'NVDA' 'WMT']<br>[0.04 0.05 0.06 0.06 0.16 0.   0.21 0.01 0.21 0.21]",
          "['WMT' 'TGT' 'KO' 'MSFT' 'ABT' 'AAPL' 'NVDA' 'GOOGL' 'AMZN' 'JPM']<br>[0.23 0.02 0.16 0.04 0.08 0.12 0.19 0.04 0.06 0.06]",
          "['ABT' 'KO' 'AMZN' 'JPM' 'GOOGL' 'WMT' 'AAPL' 'TGT' 'MSFT' 'NVDA']<br>[0.07 0.1  0.08 0.17 0.   0.05 0.07 0.05 0.21 0.19]",
          "['GOOGL' 'TGT' 'KO' 'ABT' 'NVDA' 'JPM' 'AAPL' 'WMT' 'AMZN' 'MSFT']<br>[0.01 0.11 0.22 0.14 0.04 0.03 0.03 0.18 0.07 0.17]",
          "['ABT' 'TGT' 'NVDA' 'AAPL' 'KO' 'GOOGL' 'JPM' 'AMZN' 'MSFT' 'WMT']<br>[0.08 0.05 0.07 0.07 0.21 0.08 0.02 0.16 0.06 0.19]",
          "['MSFT' 'JPM' 'AAPL' 'TGT' 'GOOGL' 'ABT' 'WMT' 'KO' 'NVDA' 'AMZN']<br>[0.14 0.09 0.14 0.01 0.02 0.13 0.12 0.12 0.15 0.08]",
          "['JPM' 'NVDA' 'MSFT' 'KO' 'ABT' 'AAPL' 'WMT' 'AMZN' 'TGT' 'GOOGL']<br>[0.01 0.11 0.18 0.15 0.12 0.14 0.17 0.05 0.04 0.02]",
          "['JPM' 'WMT' 'TGT' 'MSFT' 'KO' 'ABT' 'AMZN' 'GOOGL' 'NVDA' 'AAPL']<br>[0.09 0.17 0.07 0.02 0.17 0.15 0.01 0.14 0.13 0.06]",
          "['NVDA' 'AAPL' 'ABT' 'JPM' 'AMZN' 'GOOGL' 'MSFT' 'WMT' 'TGT' 'KO']<br>[0.16 0.19 0.12 0.02 0.08 0.03 0.16 0.1  0.06 0.08]",
          "['GOOGL' 'MSFT' 'NVDA' 'WMT' 'TGT' 'AMZN' 'KO' 'AAPL' 'JPM' 'ABT']<br>[0.   0.19 0.18 0.03 0.15 0.07 0.15 0.04 0.1  0.09]",
          "['ABT' 'JPM' 'TGT' 'WMT' 'MSFT' 'AMZN' 'AAPL' 'NVDA' 'GOOGL' 'KO']<br>[0.05 0.16 0.02 0.04 0.17 0.11 0.06 0.19 0.06 0.14]",
          "['AAPL' 'JPM' 'TGT' 'KO' 'WMT' 'ABT' 'NVDA' 'MSFT' 'AMZN' 'GOOGL']<br>[0.04 0.07 0.03 0.15 0.21 0.   0.1  0.23 0.11 0.07]",
          "['GOOGL' 'AAPL' 'ABT' 'NVDA' 'WMT' 'TGT' 'MSFT' 'AMZN' 'KO' 'JPM']<br>[0.03 0.11 0.09 0.12 0.16 0.03 0.12 0.12 0.15 0.07]",
          "['GOOGL' 'ABT' 'WMT' 'NVDA' 'MSFT' 'AAPL' 'JPM' 'AMZN' 'KO' 'TGT']<br>[0.05 0.05 0.18 0.26 0.08 0.2  0.02 0.05 0.02 0.09]",
          "['MSFT' 'AAPL' 'GOOGL' 'AMZN' 'TGT' 'WMT' 'JPM' 'ABT' 'NVDA' 'KO']<br>[0.06 0.16 0.08 0.25 0.04 0.01 0.05 0.06 0.28 0.01]",
          "['KO' 'JPM' 'GOOGL' 'MSFT' 'ABT' 'AAPL' 'AMZN' 'NVDA' 'TGT' 'WMT']<br>[0.16 0.05 0.02 0.02 0.04 0.18 0.09 0.23 0.15 0.06]",
          "['WMT' 'NVDA' 'AMZN' 'KO' 'AAPL' 'ABT' 'GOOGL' 'TGT' 'JPM' 'MSFT']<br>[0.03 0.18 0.16 0.19 0.14 0.1  0.07 0.04 0.01 0.09]",
          "['WMT' 'AAPL' 'MSFT' 'GOOGL' 'ABT' 'JPM' 'AMZN' 'NVDA' 'TGT' 'KO']<br>[0.01 0.03 0.15 0.07 0.06 0.12 0.04 0.27 0.01 0.24]",
          "['JPM' 'AMZN' 'NVDA' 'WMT' 'GOOGL' 'ABT' 'MSFT' 'AAPL' 'KO' 'TGT']<br>[0.03 0.04 0.12 0.21 0.02 0.13 0.21 0.03 0.16 0.05]",
          "['GOOGL' 'TGT' 'NVDA' 'AAPL' 'ABT' 'JPM' 'WMT' 'KO' 'MSFT' 'AMZN']<br>[0.03 0.08 0.13 0.09 0.09 0.11 0.16 0.13 0.07 0.1 ]",
          "['TGT' 'ABT' 'JPM' 'WMT' 'KO' 'GOOGL' 'NVDA' 'MSFT' 'AAPL' 'AMZN']<br>[0.05 0.2  0.12 0.15 0.15 0.   0.08 0.18 0.01 0.06]",
          "['AAPL' 'NVDA' 'MSFT' 'TGT' 'AMZN' 'GOOGL' 'WMT' 'ABT' 'JPM' 'KO']<br>[0.11 0.09 0.1  0.03 0.09 0.09 0.18 0.12 0.03 0.16]",
          "['KO' 'AAPL' 'MSFT' 'NVDA' 'WMT' 'GOOGL' 'AMZN' 'JPM' 'ABT' 'TGT']<br>[0.06 0.09 0.19 0.2  0.01 0.04 0.15 0.04 0.06 0.18]",
          "['AAPL' 'KO' 'WMT' 'AMZN' 'GOOGL' 'MSFT' 'JPM' 'NVDA' 'ABT' 'TGT']<br>[0.04 0.15 0.14 0.18 0.04 0.04 0.   0.17 0.13 0.1 ]",
          "['MSFT' 'JPM' 'AAPL' 'KO' 'NVDA' 'WMT' 'ABT' 'AMZN' 'TGT' 'GOOGL']<br>[0.06 0.04 0.15 0.15 0.19 0.16 0.03 0.19 0.   0.03]",
          "['KO' 'JPM' 'AMZN' 'GOOGL' 'NVDA' 'WMT' 'TGT' 'ABT' 'AAPL' 'MSFT']<br>[0.17 0.06 0.22 0.02 0.13 0.16 0.02 0.13 0.03 0.06]",
          "['AAPL' 'KO' 'GOOGL' 'NVDA' 'JPM' 'TGT' 'AMZN' 'MSFT' 'WMT' 'ABT']<br>[0.15 0.03 0.16 0.19 0.01 0.01 0.18 0.18 0.04 0.05]",
          "['WMT' 'ABT' 'MSFT' 'JPM' 'KO' 'NVDA' 'AAPL' 'GOOGL' 'TGT' 'AMZN']<br>[0.21 0.15 0.18 0.12 0.2  0.05 0.03 0.02 0.04 0.  ]",
          "['AAPL' 'TGT' 'WMT' 'ABT' 'AMZN' 'GOOGL' 'NVDA' 'JPM' 'MSFT' 'KO']<br>[0.13 0.07 0.12 0.17 0.1  0.   0.15 0.04 0.04 0.18]",
          "['NVDA' 'KO' 'JPM' 'AMZN' 'WMT' 'ABT' 'TGT' 'GOOGL' 'AAPL' 'MSFT']<br>[0.21 0.05 0.05 0.16 0.08 0.09 0.06 0.01 0.14 0.15]",
          "['GOOGL' 'WMT' 'KO' 'MSFT' 'ABT' 'NVDA' 'JPM' 'AMZN' 'TGT' 'AAPL']<br>[0.02 0.15 0.14 0.08 0.06 0.19 0.07 0.09 0.09 0.1 ]",
          "['MSFT' 'NVDA' 'WMT' 'JPM' 'AAPL' 'KO' 'AMZN' 'TGT' 'GOOGL' 'ABT']<br>[0.18 0.18 0.13 0.07 0.   0.18 0.04 0.04 0.06 0.12]",
          "['GOOGL' 'TGT' 'NVDA' 'MSFT' 'AAPL' 'JPM' 'ABT' 'AMZN' 'KO' 'WMT']<br>[0.02 0.03 0.23 0.14 0.13 0.12 0.06 0.13 0.07 0.07]",
          "['AAPL' 'JPM' 'AMZN' 'KO' 'ABT' 'MSFT' 'GOOGL' 'NVDA' 'TGT' 'WMT']<br>[0.25 0.08 0.01 0.   0.06 0.2  0.07 0.24 0.05 0.05]",
          "['JPM' 'MSFT' 'AAPL' 'GOOGL' 'WMT' 'NVDA' 'KO' 'AMZN' 'TGT' 'ABT']<br>[0.01 0.15 0.12 0.06 0.13 0.21 0.11 0.15 0.01 0.05]",
          "['KO' 'MSFT' 'NVDA' 'JPM' 'GOOGL' 'ABT' 'AMZN' 'TGT' 'AAPL' 'WMT']<br>[0.19 0.   0.05 0.13 0.02 0.14 0.12 0.13 0.01 0.22]",
          "['AAPL' 'JPM' 'WMT' 'AMZN' 'KO' 'MSFT' 'GOOGL' 'NVDA' 'ABT' 'TGT']<br>[0.08 0.08 0.19 0.08 0.15 0.1  0.05 0.17 0.07 0.03]",
          "['AAPL' 'MSFT' 'ABT' 'TGT' 'GOOGL' 'JPM' 'KO' 'WMT' 'NVDA' 'AMZN']<br>[0.19 0.04 0.02 0.05 0.07 0.03 0.21 0.25 0.03 0.12]",
          "['MSFT' 'AAPL' 'GOOGL' 'AMZN' 'NVDA' 'WMT' 'TGT' 'JPM' 'ABT' 'KO']<br>[0.08 0.02 0.04 0.15 0.19 0.19 0.02 0.02 0.13 0.16]",
          "['MSFT' 'KO' 'TGT' 'JPM' 'GOOGL' 'WMT' 'ABT' 'AAPL' 'NVDA' 'AMZN']<br>[0.22 0.11 0.06 0.02 0.03 0.09 0.07 0.17 0.15 0.08]",
          "['AMZN' 'NVDA' 'AAPL' 'JPM' 'MSFT' 'TGT' 'KO' 'ABT' 'WMT' 'GOOGL']<br>[0.1  0.07 0.07 0.09 0.15 0.01 0.16 0.15 0.17 0.03]",
          "['ABT' 'TGT' 'AMZN' 'AAPL' 'GOOGL' 'NVDA' 'KO' 'WMT' 'JPM' 'MSFT']<br>[0.13 0.06 0.09 0.14 0.1  0.   0.23 0.16 0.02 0.07]",
          "['AAPL' 'KO' 'MSFT' 'GOOGL' 'TGT' 'NVDA' 'WMT' 'JPM' 'ABT' 'AMZN']<br>[0.05 0.12 0.12 0.05 0.05 0.16 0.17 0.08 0.15 0.05]",
          "['GOOGL' 'JPM' 'TGT' 'AMZN' 'AAPL' 'NVDA' 'WMT' 'KO' 'MSFT' 'ABT']<br>[0.06 0.02 0.06 0.05 0.05 0.18 0.13 0.18 0.12 0.13]",
          "['MSFT' 'AAPL' 'NVDA' 'ABT' 'TGT' 'GOOGL' 'KO' 'JPM' 'AMZN' 'WMT']<br>[0.05 0.09 0.2  0.07 0.05 0.03 0.18 0.04 0.06 0.23]",
          "['GOOGL' 'JPM' 'NVDA' 'KO' 'ABT' 'TGT' 'WMT' 'AAPL' 'AMZN' 'MSFT']<br>[0.   0.04 0.17 0.07 0.05 0.06 0.16 0.09 0.16 0.19]",
          "['MSFT' 'JPM' 'WMT' 'KO' 'AAPL' 'GOOGL' 'TGT' 'AMZN' 'NVDA' 'ABT']<br>[0.06 0.12 0.18 0.15 0.09 0.07 0.04 0.06 0.08 0.14]",
          "['TGT' 'ABT' 'AAPL' 'JPM' 'NVDA' 'MSFT' 'GOOGL' 'KO' 'AMZN' 'WMT']<br>[0.06 0.08 0.04 0.03 0.34 0.03 0.05 0.16 0.17 0.05]",
          "['TGT' 'WMT' 'AAPL' 'NVDA' 'JPM' 'GOOGL' 'KO' 'AMZN' 'MSFT' 'ABT']<br>[0.02 0.19 0.04 0.07 0.02 0.1  0.17 0.05 0.16 0.18]",
          "['NVDA' 'JPM' 'ABT' 'AMZN' 'GOOGL' 'WMT' 'TGT' 'KO' 'AAPL' 'MSFT']<br>[0.26 0.06 0.14 0.26 0.   0.03 0.09 0.03 0.02 0.11]",
          "['JPM' 'AAPL' 'NVDA' 'TGT' 'MSFT' 'ABT' 'GOOGL' 'KO' 'AMZN' 'WMT']<br>[0.17 0.1  0.05 0.05 0.05 0.05 0.   0.2  0.14 0.21]",
          "['NVDA' 'AAPL' 'KO' 'JPM' 'MSFT' 'GOOGL' 'ABT' 'WMT' 'AMZN' 'TGT']<br>[0.22 0.22 0.25 0.01 0.07 0.04 0.11 0.01 0.   0.08]",
          "['TGT' 'MSFT' 'WMT' 'JPM' 'NVDA' 'AAPL' 'AMZN' 'ABT' 'KO' 'GOOGL']<br>[0.05 0.12 0.15 0.01 0.09 0.2  0.1  0.07 0.2  0.01]",
          "['MSFT' 'JPM' 'TGT' 'WMT' 'KO' 'NVDA' 'ABT' 'AAPL' 'GOOGL' 'AMZN']<br>[0.   0.13 0.01 0.12 0.18 0.12 0.18 0.06 0.06 0.12]",
          "['ABT' 'TGT' 'JPM' 'NVDA' 'AMZN' 'AAPL' 'KO' 'GOOGL' 'WMT' 'MSFT']<br>[0.17 0.08 0.03 0.22 0.09 0.09 0.09 0.08 0.08 0.07]",
          "['GOOGL' 'AMZN' 'WMT' 'KO' 'MSFT' 'AAPL' 'NVDA' 'JPM' 'TGT' 'ABT']<br>[0.05 0.08 0.2  0.18 0.07 0.02 0.11 0.18 0.03 0.08]",
          "['AAPL' 'GOOGL' 'JPM' 'WMT' 'KO' 'TGT' 'MSFT' 'NVDA' 'AMZN' 'ABT']<br>[0.18 0.03 0.02 0.03 0.02 0.19 0.17 0.19 0.16 0.02]",
          "['AMZN' 'NVDA' 'AAPL' 'KO' 'JPM' 'MSFT' 'WMT' 'GOOGL' 'TGT' 'ABT']<br>[0.07 0.19 0.21 0.08 0.   0.12 0.21 0.02 0.04 0.05]",
          "['GOOGL' 'AAPL' 'NVDA' 'TGT' 'AMZN' 'WMT' 'JPM' 'KO' 'MSFT' 'ABT']<br>[0.02 0.06 0.19 0.06 0.03 0.16 0.08 0.19 0.12 0.08]",
          "['AMZN' 'KO' 'NVDA' 'MSFT' 'JPM' 'AAPL' 'GOOGL' 'TGT' 'WMT' 'ABT']<br>[0.17 0.05 0.29 0.18 0.1  0.05 0.02 0.03 0.08 0.04]",
          "['KO' 'AMZN' 'GOOGL' 'NVDA' 'ABT' 'MSFT' 'JPM' 'AAPL' 'TGT' 'WMT']<br>[0.15 0.03 0.03 0.29 0.05 0.17 0.11 0.02 0.12 0.03]",
          "['ABT' 'TGT' 'WMT' 'KO' 'GOOGL' 'AAPL' 'MSFT' 'NVDA' 'AMZN' 'JPM']<br>[0.11 0.02 0.13 0.12 0.04 0.09 0.17 0.18 0.14 0.  ]",
          "['GOOGL' 'ABT' 'MSFT' 'JPM' 'AAPL' 'AMZN' 'NVDA' 'WMT' 'TGT' 'KO']<br>[0.01 0.08 0.12 0.09 0.06 0.15 0.21 0.12 0.11 0.07]",
          "['ABT' 'GOOGL' 'NVDA' 'WMT' 'TGT' 'AMZN' 'MSFT' 'KO' 'AAPL' 'JPM']<br>[0.05 0.01 0.09 0.19 0.03 0.2  0.14 0.16 0.   0.12]",
          "['AAPL' 'NVDA' 'TGT' 'WMT' 'GOOGL' 'ABT' 'AMZN' 'MSFT' 'KO' 'JPM']<br>[0.21 0.18 0.05 0.05 0.   0.08 0.06 0.07 0.18 0.11]",
          "['WMT' 'NVDA' 'TGT' 'KO' 'ABT' 'JPM' 'MSFT' 'GOOGL' 'AAPL' 'AMZN']<br>[0.18 0.01 0.09 0.21 0.19 0.04 0.11 0.05 0.04 0.09]",
          "['TGT' 'WMT' 'AMZN' 'ABT' 'KO' 'JPM' 'MSFT' 'GOOGL' 'NVDA' 'AAPL']<br>[0.06 0.1  0.06 0.23 0.23 0.03 0.17 0.02 0.04 0.07]",
          "['ABT' 'JPM' 'GOOGL' 'AMZN' 'KO' 'MSFT' 'AAPL' 'WMT' 'NVDA' 'TGT']<br>[0.1  0.13 0.06 0.04 0.17 0.07 0.03 0.16 0.18 0.06]",
          "['GOOGL' 'JPM' 'MSFT' 'KO' 'ABT' 'AMZN' 'AAPL' 'TGT' 'WMT' 'NVDA']<br>[0.   0.09 0.15 0.13 0.1  0.17 0.07 0.01 0.02 0.25]",
          "['ABT' 'WMT' 'AAPL' 'MSFT' 'JPM' 'TGT' 'AMZN' 'NVDA' 'KO' 'GOOGL']<br>[0.12 0.15 0.07 0.14 0.14 0.   0.04 0.14 0.19 0.01]",
          "['AMZN' 'TGT' 'JPM' 'MSFT' 'NVDA' 'AAPL' 'KO' 'ABT' 'GOOGL' 'WMT']<br>[0.02 0.1  0.07 0.16 0.15 0.04 0.16 0.14 0.02 0.14]",
          "['MSFT' 'WMT' 'AMZN' 'NVDA' 'AAPL' 'JPM' 'KO' 'ABT' 'TGT' 'GOOGL']<br>[0.12 0.1  0.02 0.19 0.16 0.09 0.16 0.   0.1  0.04]",
          "['WMT' 'MSFT' 'AAPL' 'GOOGL' 'KO' 'ABT' 'NVDA' 'JPM' 'TGT' 'AMZN']<br>[0.1  0.12 0.14 0.01 0.14 0.08 0.16 0.01 0.08 0.16]",
          "['AAPL' 'ABT' 'WMT' 'NVDA' 'JPM' 'TGT' 'AMZN' 'GOOGL' 'MSFT' 'KO']<br>[0.07 0.08 0.14 0.09 0.07 0.07 0.13 0.01 0.18 0.16]",
          "['GOOGL' 'JPM' 'KO' 'AAPL' 'WMT' 'TGT' 'AMZN' 'MSFT' 'NVDA' 'ABT']<br>[0.02 0.1  0.11 0.03 0.15 0.   0.22 0.05 0.27 0.05]",
          "['GOOGL' 'JPM' 'KO' 'WMT' 'NVDA' 'AMZN' 'AAPL' 'MSFT' 'TGT' 'ABT']<br>[0.07 0.09 0.1  0.09 0.21 0.17 0.08 0.12 0.03 0.05]",
          "['AAPL' 'GOOGL' 'KO' 'WMT' 'AMZN' 'NVDA' 'MSFT' 'JPM' 'ABT' 'TGT']<br>[0.15 0.02 0.12 0.08 0.11 0.21 0.2  0.04 0.07 0.01]",
          "['JPM' 'AMZN' 'TGT' 'ABT' 'MSFT' 'WMT' 'GOOGL' 'KO' 'AAPL' 'NVDA']<br>[0.08 0.24 0.03 0.12 0.06 0.02 0.01 0.15 0.08 0.21]",
          "['JPM' 'TGT' 'KO' 'ABT' 'GOOGL' 'MSFT' 'AAPL' 'NVDA' 'AMZN' 'WMT']<br>[0.07 0.07 0.19 0.12 0.08 0.08 0.   0.06 0.14 0.18]",
          "['TGT' 'KO' 'AAPL' 'AMZN' 'WMT' 'JPM' 'ABT' 'MSFT' 'NVDA' 'GOOGL']<br>[0.09 0.17 0.13 0.06 0.17 0.02 0.18 0.11 0.06 0.  ]",
          "['AAPL' 'AMZN' 'GOOGL' 'MSFT' 'WMT' 'ABT' 'TGT' 'NVDA' 'KO' 'JPM']<br>[0.01 0.07 0.02 0.03 0.14 0.17 0.07 0.23 0.24 0.02]",
          "['NVDA' 'AAPL' 'WMT' 'ABT' 'JPM' 'AMZN' 'KO' 'MSFT' 'TGT' 'GOOGL']<br>[0.17 0.13 0.11 0.16 0.02 0.1  0.1  0.13 0.05 0.03]",
          "['ABT' 'AMZN' 'KO' 'WMT' 'GOOGL' 'TGT' 'MSFT' 'JPM' 'AAPL' 'NVDA']<br>[0.15 0.1  0.19 0.17 0.09 0.04 0.08 0.03 0.05 0.12]",
          "['JPM' 'NVDA' 'WMT' 'AMZN' 'ABT' 'MSFT' 'TGT' 'AAPL' 'GOOGL' 'KO']<br>[0.08 0.3  0.08 0.2  0.12 0.01 0.13 0.03 0.04 0.01]",
          "['GOOGL' 'ABT' 'MSFT' 'AMZN' 'KO' 'WMT' 'NVDA' 'AAPL' 'TGT' 'JPM']<br>[0.05 0.05 0.03 0.14 0.2  0.18 0.11 0.13 0.04 0.06]",
          "['AMZN' 'GOOGL' 'WMT' 'JPM' 'AAPL' 'NVDA' 'KO' 'TGT' 'MSFT' 'ABT']<br>[0.08 0.01 0.16 0.01 0.08 0.12 0.16 0.07 0.15 0.17]",
          "['AMZN' 'WMT' 'KO' 'GOOGL' 'ABT' 'MSFT' 'NVDA' 'AAPL' 'JPM' 'TGT']<br>[0.05 0.16 0.12 0.07 0.07 0.16 0.17 0.1  0.07 0.05]",
          "['KO' 'WMT' 'NVDA' 'TGT' 'AMZN' 'ABT' 'AAPL' 'GOOGL' 'MSFT' 'JPM']<br>[0.26 0.19 0.06 0.04 0.05 0.11 0.24 0.   0.05 0.01]",
          "['NVDA' 'TGT' 'ABT' 'AAPL' 'JPM' 'AMZN' 'MSFT' 'KO' 'GOOGL' 'WMT']<br>[0.17 0.08 0.09 0.12 0.1  0.12 0.07 0.16 0.   0.1 ]",
          "['AAPL' 'NVDA' 'MSFT' 'GOOGL' 'KO' 'ABT' 'WMT' 'JPM' 'AMZN' 'TGT']<br>[0.18 0.31 0.07 0.1  0.07 0.02 0.02 0.1  0.07 0.07]",
          "['MSFT' 'AMZN' 'NVDA' 'ABT' 'GOOGL' 'JPM' 'WMT' 'KO' 'TGT' 'AAPL']<br>[0.21 0.08 0.17 0.   0.01 0.06 0.21 0.21 0.03 0.03]",
          "['JPM' 'GOOGL' 'AMZN' 'KO' 'WMT' 'ABT' 'AAPL' 'MSFT' 'NVDA' 'TGT']<br>[0.06 0.01 0.04 0.03 0.08 0.09 0.18 0.19 0.25 0.06]",
          "['GOOGL' 'MSFT' 'AMZN' 'NVDA' 'AAPL' 'WMT' 'ABT' 'JPM' 'KO' 'TGT']<br>[0.07 0.13 0.08 0.07 0.08 0.14 0.13 0.02 0.19 0.09]",
          "['MSFT' 'WMT' 'NVDA' 'AMZN' 'TGT' 'GOOGL' 'KO' 'ABT' 'JPM' 'AAPL']<br>[0.05 0.07 0.24 0.05 0.   0.08 0.18 0.13 0.06 0.13]",
          "['MSFT' 'JPM' 'AMZN' 'AAPL' 'NVDA' 'GOOGL' 'KO' 'ABT' 'TGT' 'WMT']<br>[0.15 0.01 0.07 0.09 0.09 0.03 0.21 0.09 0.09 0.17]",
          "['AMZN' 'NVDA' 'JPM' 'AAPL' 'KO' 'WMT' 'GOOGL' 'ABT' 'TGT' 'MSFT']<br>[0.16 0.17 0.09 0.07 0.15 0.07 0.01 0.11 0.05 0.12]",
          "['ABT' 'MSFT' 'AAPL' 'AMZN' 'JPM' 'NVDA' 'GOOGL' 'WMT' 'KO' 'TGT']<br>[0.09 0.05 0.04 0.16 0.06 0.06 0.03 0.22 0.22 0.07]",
          "['TGT' 'KO' 'ABT' 'AMZN' 'MSFT' 'AAPL' 'JPM' 'WMT' 'NVDA' 'GOOGL']<br>[0.07 0.15 0.09 0.09 0.14 0.03 0.13 0.14 0.15 0.01]",
          "['NVDA' 'ABT' 'AAPL' 'MSFT' 'AMZN' 'GOOGL' 'WMT' 'KO' 'JPM' 'TGT']<br>[0.22 0.14 0.1  0.13 0.05 0.07 0.02 0.2  0.03 0.04]",
          "['AAPL' 'AMZN' 'WMT' 'JPM' 'NVDA' 'MSFT' 'TGT' 'GOOGL' 'KO' 'ABT']<br>[0.09 0.07 0.17 0.06 0.13 0.14 0.03 0.05 0.18 0.08]",
          "['AAPL' 'ABT' 'GOOGL' 'AMZN' 'TGT' 'NVDA' 'KO' 'JPM' 'WMT' 'MSFT']<br>[0.01 0.11 0.06 0.06 0.08 0.13 0.17 0.04 0.17 0.17]",
          "['NVDA' 'JPM' 'KO' 'AAPL' 'ABT' 'GOOGL' 'TGT' 'MSFT' 'AMZN' 'WMT']<br>[0.2  0.1  0.05 0.1  0.12 0.04 0.02 0.09 0.07 0.2 ]",
          "['WMT' 'MSFT' 'NVDA' 'JPM' 'GOOGL' 'AMZN' 'KO' 'AAPL' 'ABT' 'TGT']<br>[0.18 0.23 0.23 0.07 0.05 0.05 0.13 0.05 0.01 0.  ]",
          "['NVDA' 'KO' 'GOOGL' 'AMZN' 'MSFT' 'WMT' 'ABT' 'TGT' 'AAPL' 'JPM']<br>[0.22 0.09 0.08 0.04 0.15 0.09 0.   0.05 0.25 0.03]",
          "['AAPL' 'TGT' 'NVDA' 'WMT' 'GOOGL' 'JPM' 'AMZN' 'ABT' 'KO' 'MSFT']<br>[0.24 0.03 0.25 0.   0.01 0.09 0.3  0.05 0.01 0.02]",
          "['TGT' 'AMZN' 'GOOGL' 'JPM' 'WMT' 'MSFT' 'ABT' 'NVDA' 'AAPL' 'KO']<br>[0.11 0.14 0.01 0.05 0.21 0.05 0.2  0.03 0.06 0.14]",
          "['ABT' 'JPM' 'KO' 'TGT' 'AMZN' 'AAPL' 'NVDA' 'MSFT' 'WMT' 'GOOGL']<br>[0.14 0.03 0.23 0.04 0.06 0.16 0.15 0.01 0.12 0.05]",
          "['NVDA' 'JPM' 'WMT' 'AAPL' 'GOOGL' 'TGT' 'AMZN' 'ABT' 'KO' 'MSFT']<br>[0.25 0.01 0.18 0.1  0.01 0.07 0.1  0.03 0.1  0.16]",
          "['MSFT' 'ABT' 'JPM' 'AMZN' 'GOOGL' 'KO' 'NVDA' 'TGT' 'AAPL' 'WMT']<br>[0.04 0.17 0.11 0.15 0.03 0.17 0.15 0.02 0.02 0.13]",
          "['TGT' 'MSFT' 'NVDA' 'AMZN' 'GOOGL' 'WMT' 'AAPL' 'JPM' 'KO' 'ABT']<br>[0.06 0.14 0.1  0.08 0.03 0.16 0.09 0.06 0.14 0.13]",
          "['TGT' 'AMZN' 'ABT' 'WMT' 'NVDA' 'AAPL' 'GOOGL' 'KO' 'JPM' 'MSFT']<br>[0.04 0.07 0.02 0.23 0.08 0.15 0.03 0.18 0.1  0.11]",
          "['JPM' 'MSFT' 'TGT' 'WMT' 'KO' 'AAPL' 'GOOGL' 'ABT' 'NVDA' 'AMZN']<br>[0.03 0.09 0.01 0.11 0.2  0.15 0.02 0.12 0.2  0.06]",
          "['AMZN' 'WMT' 'MSFT' 'AAPL' 'TGT' 'GOOGL' 'NVDA' 'ABT' 'JPM' 'KO']<br>[0.18 0.12 0.1  0.1  0.03 0.02 0.14 0.12 0.03 0.16]",
          "['TGT' 'JPM' 'WMT' 'AMZN' 'NVDA' 'ABT' 'MSFT' 'AAPL' 'GOOGL' 'KO']<br>[0.06 0.06 0.17 0.02 0.04 0.17 0.04 0.1  0.14 0.2 ]",
          "['AMZN' 'JPM' 'KO' 'AAPL' 'NVDA' 'ABT' 'TGT' 'GOOGL' 'WMT' 'MSFT']<br>[0.05 0.09 0.18 0.07 0.12 0.14 0.06 0.06 0.16 0.06]",
          "['WMT' 'GOOGL' 'JPM' 'TGT' 'NVDA' 'AMZN' 'MSFT' 'ABT' 'KO' 'AAPL']<br>[0.15 0.05 0.06 0.03 0.16 0.09 0.13 0.09 0.15 0.08]",
          "['TGT' 'JPM' 'AAPL' 'KO' 'GOOGL' 'ABT' 'MSFT' 'AMZN' 'NVDA' 'WMT']<br>[0.01 0.   0.05 0.21 0.04 0.1  0.02 0.12 0.17 0.28]",
          "['GOOGL' 'TGT' 'NVDA' 'KO' 'AAPL' 'WMT' 'ABT' 'JPM' 'MSFT' 'AMZN']<br>[0.06 0.09 0.1  0.27 0.06 0.13 0.16 0.05 0.02 0.06]",
          "['GOOGL' 'AAPL' 'KO' 'MSFT' 'WMT' 'TGT' 'NVDA' 'JPM' 'AMZN' 'ABT']<br>[0.01 0.13 0.13 0.21 0.   0.07 0.2  0.09 0.03 0.11]",
          "['AAPL' 'NVDA' 'ABT' 'JPM' 'AMZN' 'MSFT' 'TGT' 'WMT' 'KO' 'GOOGL']<br>[0.04 0.15 0.02 0.02 0.19 0.09 0.   0.23 0.25 0.01]",
          "['AMZN' 'WMT' 'JPM' 'TGT' 'AAPL' 'NVDA' 'ABT' 'MSFT' 'KO' 'GOOGL']<br>[0.11 0.03 0.06 0.07 0.03 0.25 0.12 0.18 0.13 0.03]",
          "['GOOGL' 'AAPL' 'AMZN' 'NVDA' 'TGT' 'WMT' 'MSFT' 'ABT' 'JPM' 'KO']<br>[0.01 0.03 0.1  0.19 0.   0.18 0.24 0.05 0.01 0.19]",
          "['KO' 'NVDA' 'MSFT' 'ABT' 'WMT' 'TGT' 'JPM' 'AAPL' 'GOOGL' 'AMZN']<br>[0.1  0.22 0.13 0.08 0.01 0.01 0.11 0.13 0.03 0.18]",
          "['AAPL' 'TGT' 'AMZN' 'NVDA' 'GOOGL' 'MSFT' 'ABT' 'WMT' 'KO' 'JPM']<br>[0.04 0.06 0.05 0.11 0.01 0.15 0.14 0.13 0.18 0.14]",
          "['GOOGL' 'JPM' 'NVDA' 'ABT' 'KO' 'MSFT' 'AAPL' 'TGT' 'AMZN' 'WMT']<br>[0.   0.1  0.03 0.18 0.21 0.02 0.15 0.06 0.08 0.16]",
          "['KO' 'AAPL' 'AMZN' 'GOOGL' 'ABT' 'JPM' 'NVDA' 'TGT' 'MSFT' 'WMT']<br>[0.12 0.09 0.18 0.   0.06 0.04 0.19 0.01 0.15 0.16]",
          "['MSFT' 'KO' 'JPM' 'NVDA' 'WMT' 'AAPL' 'TGT' 'GOOGL' 'ABT' 'AMZN']<br>[0.17 0.18 0.04 0.2  0.07 0.17 0.07 0.01 0.04 0.05]",
          "['GOOGL' 'KO' 'JPM' 'ABT' 'AAPL' 'AMZN' 'WMT' 'MSFT' 'TGT' 'NVDA']<br>[0.01 0.22 0.14 0.1  0.   0.08 0.14 0.2  0.04 0.07]",
          "['WMT' 'JPM' 'KO' 'TGT' 'AMZN' 'ABT' 'GOOGL' 'MSFT' 'AAPL' 'NVDA']<br>[0.2  0.02 0.22 0.1  0.02 0.12 0.15 0.06 0.09 0.01]",
          "['JPM' 'WMT' 'TGT' 'MSFT' 'KO' 'NVDA' 'AAPL' 'AMZN' 'ABT' 'GOOGL']<br>[0.04 0.24 0.   0.05 0.22 0.02 0.13 0.02 0.23 0.04]",
          "['KO' 'MSFT' 'AMZN' 'TGT' 'JPM' 'GOOGL' 'WMT' 'ABT' 'AAPL' 'NVDA']<br>[0.18 0.15 0.06 0.05 0.04 0.01 0.1  0.16 0.08 0.18]",
          "['JPM' 'GOOGL' 'MSFT' 'NVDA' 'WMT' 'AAPL' 'ABT' 'TGT' 'KO' 'AMZN']<br>[0.06 0.02 0.09 0.16 0.17 0.07 0.18 0.01 0.16 0.07]",
          "['ABT' 'AAPL' 'AMZN' 'GOOGL' 'WMT' 'TGT' 'MSFT' 'NVDA' 'JPM' 'KO']<br>[0.11 0.1  0.09 0.07 0.23 0.01 0.02 0.13 0.03 0.21]",
          "['KO' 'WMT' 'MSFT' 'NVDA' 'JPM' 'ABT' 'TGT' 'AAPL' 'GOOGL' 'AMZN']<br>[0.23 0.19 0.   0.19 0.06 0.09 0.09 0.04 0.   0.11]",
          "['GOOGL' 'AAPL' 'ABT' 'NVDA' 'TGT' 'WMT' 'JPM' 'AMZN' 'KO' 'MSFT']<br>[0.07 0.09 0.02 0.26 0.02 0.01 0.12 0.13 0.12 0.16]",
          "['WMT' 'TGT' 'MSFT' 'AAPL' 'JPM' 'GOOGL' 'ABT' 'AMZN' 'NVDA' 'KO']<br>[0.18 0.11 0.08 0.   0.03 0.07 0.14 0.1  0.11 0.19]",
          "['NVDA' 'MSFT' 'GOOGL' 'AAPL' 'KO' 'JPM' 'AMZN' 'ABT' 'TGT' 'WMT']<br>[0.11 0.   0.04 0.15 0.24 0.13 0.07 0.07 0.06 0.14]",
          "['WMT' 'MSFT' 'JPM' 'AAPL' 'ABT' 'TGT' 'AMZN' 'KO' 'GOOGL' 'NVDA']<br>[0.   0.15 0.06 0.13 0.1  0.02 0.1  0.23 0.   0.22]",
          "['JPM' 'MSFT' 'WMT' 'NVDA' 'TGT' 'AMZN' 'KO' 'AAPL' 'ABT' 'GOOGL']<br>[0.12 0.11 0.2  0.11 0.04 0.13 0.22 0.   0.05 0.03]",
          "['MSFT' 'AAPL' 'NVDA' 'ABT' 'KO' 'WMT' 'AMZN' 'GOOGL' 'JPM' 'TGT']<br>[0.03 0.02 0.07 0.16 0.22 0.21 0.12 0.05 0.11 0.01]",
          "['AMZN' 'JPM' 'GOOGL' 'NVDA' 'ABT' 'MSFT' 'TGT' 'KO' 'WMT' 'AAPL']<br>[0.01 0.09 0.06 0.06 0.12 0.09 0.08 0.26 0.18 0.05]",
          "['JPM' 'AMZN' 'KO' 'NVDA' 'GOOGL' 'WMT' 'AAPL' 'TGT' 'ABT' 'MSFT']<br>[0.12 0.   0.19 0.01 0.08 0.27 0.02 0.12 0.18 0.01]",
          "['TGT' 'NVDA' 'AAPL' 'GOOGL' 'WMT' 'AMZN' 'ABT' 'MSFT' 'KO' 'JPM']<br>[0.02 0.23 0.15 0.04 0.04 0.17 0.06 0.13 0.16 0.  ]",
          "['MSFT' 'AAPL' 'ABT' 'AMZN' 'TGT' 'JPM' 'NVDA' 'WMT' 'GOOGL' 'KO']<br>[0.13 0.12 0.16 0.17 0.02 0.04 0.2  0.07 0.   0.09]",
          "['KO' 'AAPL' 'WMT' 'JPM' 'MSFT' 'NVDA' 'TGT' 'AMZN' 'GOOGL' 'ABT']<br>[0.22 0.03 0.2  0.06 0.02 0.14 0.12 0.05 0.08 0.09]",
          "['GOOGL' 'AAPL' 'JPM' 'ABT' 'KO' 'WMT' 'AMZN' 'MSFT' 'NVDA' 'TGT']<br>[0.   0.1  0.03 0.11 0.19 0.19 0.04 0.18 0.05 0.1 ]",
          "['WMT' 'KO' 'AAPL' 'NVDA' 'AMZN' 'ABT' 'TGT' 'MSFT' 'GOOGL' 'JPM']<br>[0.04 0.17 0.08 0.27 0.02 0.18 0.07 0.12 0.   0.04]",
          "['KO' 'AAPL' 'AMZN' 'JPM' 'GOOGL' 'MSFT' 'ABT' 'NVDA' 'WMT' 'TGT']<br>[0.12 0.18 0.   0.03 0.1  0.21 0.05 0.23 0.07 0.02]",
          "['TGT' 'WMT' 'JPM' 'AMZN' 'ABT' 'KO' 'AAPL' 'NVDA' 'GOOGL' 'MSFT']<br>[0.01 0.12 0.02 0.14 0.07 0.14 0.09 0.2  0.   0.2 ]",
          "['WMT' 'AMZN' 'NVDA' 'KO' 'TGT' 'AAPL' 'GOOGL' 'ABT' 'MSFT' 'JPM']<br>[0.19 0.09 0.08 0.2  0.07 0.18 0.02 0.04 0.05 0.09]",
          "['KO' 'JPM' 'MSFT' 'ABT' 'WMT' 'AMZN' 'GOOGL' 'AAPL' 'NVDA' 'TGT']<br>[0.15 0.03 0.16 0.02 0.11 0.1  0.02 0.17 0.16 0.07]",
          "['WMT' 'TGT' 'GOOGL' 'NVDA' 'AAPL' 'AMZN' 'JPM' 'ABT' 'MSFT' 'KO']<br>[0.23 0.01 0.1  0.13 0.   0.03 0.05 0.12 0.16 0.15]",
          "['TGT' 'KO' 'NVDA' 'MSFT' 'WMT' 'JPM' 'GOOGL' 'ABT' 'AMZN' 'AAPL']<br>[0.07 0.22 0.23 0.02 0.13 0.01 0.01 0.22 0.03 0.05]"
         ],
         "type": "scatter",
         "x": [
          0.22336934218335666,
          0.19705660713234652,
          0.2435313105326494,
          0.1961192226726441,
          0.19547675510746018,
          0.2185266618135144,
          0.21193139240854486,
          0.18726501228030348,
          0.21162766704540753,
          0.1830013932441234,
          0.212924213497312,
          0.2078718715481703,
          0.20730187172792316,
          0.20275709166814063,
          0.215838680448449,
          0.21757430652141965,
          0.20660414900437926,
          0.1949687032421554,
          0.20490712515220186,
          0.21791877314127367,
          0.24278200343969408,
          0.2046312937772561,
          0.23618716747227203,
          0.20221978870023755,
          0.23901743353266308,
          0.2265290134482118,
          0.20344231344367916,
          0.19302167240092688,
          0.199823845297227,
          0.24784964747585775,
          0.20710206645404164,
          0.24660835137423595,
          0.25432149125065256,
          0.20066973872663282,
          0.18703498191095252,
          0.20434796913550102,
          0.19435020717204823,
          0.18664532636556422,
          0.21823508023468857,
          0.2115291420824897,
          0.19462452592731866,
          0.2369433005716528,
          0.22586749878127638,
          0.24373778176971325,
          0.24795438904155245,
          0.23251993638476848,
          0.22269930705705335,
          0.20118977505620286,
          0.24634890438724008,
          0.19984350616965194,
          0.23239640326075403,
          0.19916542993032202,
          0.2133481431516603,
          0.21495271889745363,
          0.2415327598964221,
          0.1801289025949324,
          0.2172941581938597,
          0.19028623272170686,
          0.1934335382898368,
          0.2035913253558081,
          0.21158620169407566,
          0.2365208782668985,
          0.21797352704328934,
          0.19846616762785396,
          0.2116387404545625,
          0.18741064287664563,
          0.1946993381938102,
          0.22303533774198303,
          0.18292006029375846,
          0.1791017862079275,
          0.1864333939260612,
          0.19770315779632788,
          0.1966746558110167,
          0.2407358615243519,
          0.22101673144223236,
          0.19697954362193373,
          0.19590751748880186,
          0.19961997970940457,
          0.1941209915522593,
          0.20704967257231432,
          0.19020174791450767,
          0.2139789476394994,
          0.21046153531569387,
          0.21521789463518282,
          0.22613014734756387,
          0.19375600334840884,
          0.2460288316355495,
          0.2706967953545183,
          0.1918795719079104,
          0.22141927560899943,
          0.18736447994338723,
          0.19623836407682493,
          0.2189408229598225,
          0.18429165806771283,
          0.22476185620536368,
          0.18364150936440227,
          0.2099951197705307,
          0.21748769281669963,
          0.24277415827975754,
          0.20099525254479803,
          0.1916734578740809,
          0.23314375285750052,
          0.23203594942015654,
          0.23887928827725055,
          0.22423228890969604,
          0.22409118519924545,
          0.18850611250230856,
          0.21325695852572932,
          0.258606309513031,
          0.2032473919441708,
          0.23971462000740182,
          0.2177180890229913,
          0.2075482135199518,
          0.2099345262946234,
          0.23299871671194156,
          0.18354743912273971,
          0.1910260308754653,
          0.21733993501773782,
          0.20409625005366022,
          0.19587807937679194,
          0.2287154715515738,
          0.22328240312252806,
          0.23142344007882168,
          0.20642708603044418,
          0.20548529238127528,
          0.24619182806799217,
          0.27974146082085966,
          0.23245029072088869,
          0.23100189339211025,
          0.24102242704258864,
          0.19940109842657625,
          0.20403577929721664,
          0.1928122830476251,
          0.19758749028999825,
          0.24607665284846203,
          0.21303519574005744,
          0.2264261165218821,
          0.20671592177485457,
          0.26112797458544007,
          0.18297448156170087,
          0.2069728307854292,
          0.2440858881334021,
          0.2175261514129556,
          0.21371154166266026,
          0.24497181090648193,
          0.2632167964978886,
          0.2385438695842942,
          0.17825827474380362,
          0.21161644234756757,
          0.18672272071196128,
          0.21469542226734004,
          0.22845184170293373,
          0.1948399625893077,
          0.18254422007821555,
          0.20976689057676376,
          0.2122383562518132,
          0.20818375566939853,
          0.22859851059773595,
          0.19097301983969875,
          0.2602281768748336,
          0.19253258389369515,
          0.2595143499009031,
          0.185724666749088,
          0.23080808307778586,
          0.2030183853645864,
          0.19931118957586633,
          0.232354046646568,
          0.1923487790644441,
          0.2532033055035791,
          0.2285324852303934,
          0.2103823897312444,
          0.2628094234811252,
          0.24613590517281828,
          0.22724358598548972,
          0.23150552813711356,
          0.1990974895891031,
          0.22316745402914992,
          0.17807938702893442,
          0.1882641620581809,
          0.20535129156500354,
          0.25063144471445237,
          0.20285905136661386,
          0.20602115960930098,
          0.22250420232228924,
          0.2218035702104014,
          0.201957828802873,
          0.24229155473867783,
          0.23840133221698562,
          0.2410121347948622,
          0.23774189194614162,
          0.18670774755001743,
          0.1898780281017508,
          0.20975876621360176,
          0.22391788273513888,
          0.19729217874718102,
          0.25860292429063414,
          0.19792673694699472,
          0.20313406399225012,
          0.21708547388160163,
          0.18710939170414925,
          0.21416961102708723,
          0.268794809396801,
          0.20997697335388749,
          0.2530086950498897,
          0.19455802082690335,
          0.2321442129993179,
          0.1933863641867832,
          0.22186336722625805,
          0.18400600302607256,
          0.20682012328180527,
          0.23020114507488493,
          0.2019618154038838,
          0.2018758014365242,
          0.22325609958955178,
          0.23225669144155386,
          0.248380266969145,
          0.2787100218436521,
          0.18281251768893855,
          0.20395970949949943,
          0.239206187941493,
          0.20526909483623815,
          0.1993712274970638,
          0.19220705113401246,
          0.22018322238757654,
          0.21463204097062105,
          0.18252824767653664,
          0.19515397201267295,
          0.21262850637365868,
          0.1991654983913747,
          0.18520093200687557,
          0.2362291172631419,
          0.20227864085053235,
          0.2423385150315978,
          0.21947401498709326,
          0.24894388672661885,
          0.19692200566696277,
          0.18146604785854217,
          0.22831013680076376,
          0.23077925918408285,
          0.19098441594804313,
          0.1777465872888025,
          0.17727471482071028,
          0.2152474368471585,
          0.20658356222617677,
          0.19403909647095735,
          0.20180184047572577,
          0.25635849993421445,
          0.1923616159213641,
          0.1933172455452384,
          0.2349600906094662,
          0.19231199776974678,
          0.18123119275482094,
          0.1797947903879604,
          0.172882302723805,
          0.24818405203418742,
          0.23915833935190953,
          0.19147025397792727,
          0.18758861545845998,
          0.2371104154851953,
          0.24726713581151497,
          0.23357108174974728,
          0.1915937728505909,
          0.2238390502281292,
          0.19909590678922143,
          0.21404815481403605
         ],
         "y": [
          0.197906132670007,
          0.15011844670252508,
          0.20278120978298592,
          0.1534397990129493,
          0.1542246138833521,
          0.19152932182436982,
          0.1815605078650273,
          0.1424455615057547,
          0.18154052532154447,
          0.13391012134086613,
          0.18526571797115807,
          0.1623884043884031,
          0.17579995172385915,
          0.15440248580802993,
          0.18745876167513684,
          0.18799927973469804,
          0.17751641881546887,
          0.15933439483816808,
          0.16635088235842552,
          0.1922072345311515,
          0.2083778038011027,
          0.16320960418134814,
          0.20672023070417217,
          0.16101929486357924,
          0.20682531456929476,
          0.20447470311940907,
          0.17065423199285204,
          0.1426081131503031,
          0.1637593583484926,
          0.21921643953633863,
          0.18081124358163025,
          0.21800505103882376,
          0.22768353396515423,
          0.17051908562726603,
          0.14517997663395069,
          0.17566246164884103,
          0.15565790394072254,
          0.1406532346828141,
          0.19363994268670068,
          0.1820110213784813,
          0.1562861600335031,
          0.20938174157549194,
          0.19821399357699448,
          0.21061686471018756,
          0.2194270521783538,
          0.2091908951897414,
          0.19493123068961687,
          0.17181878338099751,
          0.22352574298168357,
          0.16930109096969984,
          0.20728739699153953,
          0.16520804815791104,
          0.18997334417721734,
          0.19013932190886426,
          0.21653131350001803,
          0.11467519558093389,
          0.1907429737253216,
          0.14536054660022313,
          0.15491288651994883,
          0.1761661299250671,
          0.1837857919338898,
          0.21413645139562995,
          0.19323079254706255,
          0.16226569693468573,
          0.18530137181221384,
          0.15097618734782803,
          0.15639331304099352,
          0.19658156181152533,
          0.138046255857748,
          0.13829404967679537,
          0.14015878120333022,
          0.16042875243794721,
          0.16148326195523902,
          0.2168537164437012,
          0.19586435335039215,
          0.16178862252546833,
          0.1609091722612141,
          0.16695181929899985,
          0.15673508640095227,
          0.17771831011961434,
          0.15267985182633298,
          0.19049169802591082,
          0.1870435755626254,
          0.19218849402038302,
          0.2016158037616909,
          0.160687063413806,
          0.21814842107903754,
          0.24308235836681882,
          0.15701408656858612,
          0.19672278553838488,
          0.1453695955123335,
          0.16640529818637598,
          0.19789722146024621,
          0.14107123178463565,
          0.1984768547569679,
          0.14293526707096296,
          0.18283163130590868,
          0.19315627227948276,
          0.21840021960302247,
          0.1739825117245481,
          0.157018754001435,
          0.2136447189084854,
          0.2063164070960663,
          0.214823459230186,
          0.1984898912935777,
          0.2044697974650167,
          0.15439356518576594,
          0.1877477556248158,
          0.22769545736436925,
          0.17433209780571474,
          0.21652620969877642,
          0.19693694227491335,
          0.18384441396097773,
          0.18700708955552148,
          0.2095595838514291,
          0.14659590637996667,
          0.15784742833850274,
          0.19389036100628593,
          0.17787277950338423,
          0.16071350909019233,
          0.20551492173380553,
          0.19853205266342905,
          0.20646198744675076,
          0.17795802351176623,
          0.17974010837795926,
          0.2228850431862723,
          0.2520201645109142,
          0.20792820193723388,
          0.20765402627303334,
          0.21911571618863546,
          0.17282694195819379,
          0.17622341409081102,
          0.15882093512697143,
          0.16664653425435344,
          0.2191513512097965,
          0.18715300268098733,
          0.20486395703551763,
          0.18023282491390502,
          0.22981431512082984,
          0.1431021991661609,
          0.18266034259509528,
          0.22277291553011463,
          0.19531976767565878,
          0.19035151899175007,
          0.22356760534028927,
          0.23797298114109658,
          0.21751150788839974,
          0.13204148095421647,
          0.1886309033338497,
          0.14664333732776735,
          0.19291520701634773,
          0.20528247425436452,
          0.16363736530990727,
          0.1392280606529877,
          0.18460954800335783,
          0.18937083421501444,
          0.18534537823984257,
          0.2066230516687929,
          0.15593413205936363,
          0.24005095298684576,
          0.15818734111844424,
          0.2349041132465885,
          0.14810249267743691,
          0.20797651811135764,
          0.1758528837462902,
          0.1684553316630913,
          0.20809889753633534,
          0.15890659045938682,
          0.22417433376624973,
          0.20638265961547617,
          0.18839436111096,
          0.24312333258460353,
          0.22422811826649025,
          0.20587786562442723,
          0.20871140368107588,
          0.16848516883046666,
          0.1994426768375321,
          0.1338649346937879,
          0.1511705950099622,
          0.17833270430502518,
          0.23099808195429275,
          0.17670639611097172,
          0.17993705619942077,
          0.19793236859229335,
          0.19879687008882171,
          0.17427266601282967,
          0.2215696765202434,
          0.2151824082824655,
          0.2218325837197056,
          0.2147857741274536,
          0.1492740354421671,
          0.1562528182213006,
          0.18726646823545498,
          0.20109296170296925,
          0.16832647481330199,
          0.23239082507029046,
          0.1693191083630361,
          0.17786415429015967,
          0.19313114894082256,
          0.15217943587615046,
          0.19099031149375065,
          0.24381398297327606,
          0.1889567053178507,
          0.2326954618313833,
          0.16213505038161335,
          0.21025423319967845,
          0.16403936191196383,
          0.19929775327645266,
          0.14871918551645052,
          0.1811156240610835,
          0.2084316607302471,
          0.17639442214049475,
          0.17506782945013966,
          0.19998683182155538,
          0.21262257078274907,
          0.22452625075424054,
          0.2493335489196055,
          0.1402424878018943,
          0.17844183943379904,
          0.22111177438913915,
          0.17879161922745868,
          0.17087835595770598,
          0.1599729848475224,
          0.2002813501530405,
          0.19102107087602752,
          0.13885580071958514,
          0.1647980030839766,
          0.1896508639213053,
          0.17396481774037664,
          0.150401328559271,
          0.2138047329319511,
          0.17853422800632296,
          0.22207044580022825,
          0.20103641568225505,
          0.22567372155151508,
          0.16708824173109524,
          0.14004664169466724,
          0.20835141392894113,
          0.21111727373901704,
          0.157973246231949,
          0.12801815253641632,
          0.13186928258774944,
          0.19399596096762017,
          0.18324693972527956,
          0.16579569782464185,
          0.1771103671680705,
          0.23397638586984382,
          0.15997812161861819,
          0.16139451723500534,
          0.2160882249718442,
          0.1631438151575335,
          0.14411732241889644,
          0.14013014608660432,
          0.11413826793605965,
          0.2280307666993999,
          0.21826699849618392,
          0.15809858043295485,
          0.15239817277499376,
          0.21756640586438583,
          0.2247474430893673,
          0.21558012212648267,
          0.15851454375048893,
          0.20145704601581332,
          0.16970428678624533,
          0.19085340042419283
         ]
        }
       ],
       "layout": {
        "coloraxis": {
         "colorbar": {
          "title": {
           "text": "Sharpe Ratio"
          }
         }
        },
        "height": 500,
        "template": {
         "data": {
          "bar": [
           {
            "error_x": {
             "color": "#2a3f5f"
            },
            "error_y": {
             "color": "#2a3f5f"
            },
            "marker": {
             "line": {
              "color": "white",
              "width": 0.5
             }
            },
            "type": "bar"
           }
          ],
          "barpolar": [
           {
            "marker": {
             "line": {
              "color": "white",
              "width": 0.5
             }
            },
            "type": "barpolar"
           }
          ],
          "carpet": [
           {
            "aaxis": {
             "endlinecolor": "#2a3f5f",
             "gridcolor": "#C8D4E3",
             "linecolor": "#C8D4E3",
             "minorgridcolor": "#C8D4E3",
             "startlinecolor": "#2a3f5f"
            },
            "baxis": {
             "endlinecolor": "#2a3f5f",
             "gridcolor": "#C8D4E3",
             "linecolor": "#C8D4E3",
             "minorgridcolor": "#C8D4E3",
             "startlinecolor": "#2a3f5f"
            },
            "type": "carpet"
           }
          ],
          "choropleth": [
           {
            "colorbar": {
             "outlinewidth": 0,
             "ticks": ""
            },
            "type": "choropleth"
           }
          ],
          "contour": [
           {
            "colorbar": {
             "outlinewidth": 0,
             "ticks": ""
            },
            "colorscale": [
             [
              0,
              "#0d0887"
             ],
             [
              0.1111111111111111,
              "#46039f"
             ],
             [
              0.2222222222222222,
              "#7201a8"
             ],
             [
              0.3333333333333333,
              "#9c179e"
             ],
             [
              0.4444444444444444,
              "#bd3786"
             ],
             [
              0.5555555555555556,
              "#d8576b"
             ],
             [
              0.6666666666666666,
              "#ed7953"
             ],
             [
              0.7777777777777778,
              "#fb9f3a"
             ],
             [
              0.8888888888888888,
              "#fdca26"
             ],
             [
              1,
              "#f0f921"
             ]
            ],
            "type": "contour"
           }
          ],
          "contourcarpet": [
           {
            "colorbar": {
             "outlinewidth": 0,
             "ticks": ""
            },
            "type": "contourcarpet"
           }
          ],
          "heatmap": [
           {
            "colorbar": {
             "outlinewidth": 0,
             "ticks": ""
            },
            "colorscale": [
             [
              0,
              "#0d0887"
             ],
             [
              0.1111111111111111,
              "#46039f"
             ],
             [
              0.2222222222222222,
              "#7201a8"
             ],
             [
              0.3333333333333333,
              "#9c179e"
             ],
             [
              0.4444444444444444,
              "#bd3786"
             ],
             [
              0.5555555555555556,
              "#d8576b"
             ],
             [
              0.6666666666666666,
              "#ed7953"
             ],
             [
              0.7777777777777778,
              "#fb9f3a"
             ],
             [
              0.8888888888888888,
              "#fdca26"
             ],
             [
              1,
              "#f0f921"
             ]
            ],
            "type": "heatmap"
           }
          ],
          "heatmapgl": [
           {
            "colorbar": {
             "outlinewidth": 0,
             "ticks": ""
            },
            "colorscale": [
             [
              0,
              "#0d0887"
             ],
             [
              0.1111111111111111,
              "#46039f"
             ],
             [
              0.2222222222222222,
              "#7201a8"
             ],
             [
              0.3333333333333333,
              "#9c179e"
             ],
             [
              0.4444444444444444,
              "#bd3786"
             ],
             [
              0.5555555555555556,
              "#d8576b"
             ],
             [
              0.6666666666666666,
              "#ed7953"
             ],
             [
              0.7777777777777778,
              "#fb9f3a"
             ],
             [
              0.8888888888888888,
              "#fdca26"
             ],
             [
              1,
              "#f0f921"
             ]
            ],
            "type": "heatmapgl"
           }
          ],
          "histogram": [
           {
            "marker": {
             "colorbar": {
              "outlinewidth": 0,
              "ticks": ""
             }
            },
            "type": "histogram"
           }
          ],
          "histogram2d": [
           {
            "colorbar": {
             "outlinewidth": 0,
             "ticks": ""
            },
            "colorscale": [
             [
              0,
              "#0d0887"
             ],
             [
              0.1111111111111111,
              "#46039f"
             ],
             [
              0.2222222222222222,
              "#7201a8"
             ],
             [
              0.3333333333333333,
              "#9c179e"
             ],
             [
              0.4444444444444444,
              "#bd3786"
             ],
             [
              0.5555555555555556,
              "#d8576b"
             ],
             [
              0.6666666666666666,
              "#ed7953"
             ],
             [
              0.7777777777777778,
              "#fb9f3a"
             ],
             [
              0.8888888888888888,
              "#fdca26"
             ],
             [
              1,
              "#f0f921"
             ]
            ],
            "type": "histogram2d"
           }
          ],
          "histogram2dcontour": [
           {
            "colorbar": {
             "outlinewidth": 0,
             "ticks": ""
            },
            "colorscale": [
             [
              0,
              "#0d0887"
             ],
             [
              0.1111111111111111,
              "#46039f"
             ],
             [
              0.2222222222222222,
              "#7201a8"
             ],
             [
              0.3333333333333333,
              "#9c179e"
             ],
             [
              0.4444444444444444,
              "#bd3786"
             ],
             [
              0.5555555555555556,
              "#d8576b"
             ],
             [
              0.6666666666666666,
              "#ed7953"
             ],
             [
              0.7777777777777778,
              "#fb9f3a"
             ],
             [
              0.8888888888888888,
              "#fdca26"
             ],
             [
              1,
              "#f0f921"
             ]
            ],
            "type": "histogram2dcontour"
           }
          ],
          "mesh3d": [
           {
            "colorbar": {
             "outlinewidth": 0,
             "ticks": ""
            },
            "type": "mesh3d"
           }
          ],
          "parcoords": [
           {
            "line": {
             "colorbar": {
              "outlinewidth": 0,
              "ticks": ""
             }
            },
            "type": "parcoords"
           }
          ],
          "pie": [
           {
            "automargin": true,
            "type": "pie"
           }
          ],
          "scatter": [
           {
            "marker": {
             "colorbar": {
              "outlinewidth": 0,
              "ticks": ""
             }
            },
            "type": "scatter"
           }
          ],
          "scatter3d": [
           {
            "line": {
             "colorbar": {
              "outlinewidth": 0,
              "ticks": ""
             }
            },
            "marker": {
             "colorbar": {
              "outlinewidth": 0,
              "ticks": ""
             }
            },
            "type": "scatter3d"
           }
          ],
          "scattercarpet": [
           {
            "marker": {
             "colorbar": {
              "outlinewidth": 0,
              "ticks": ""
             }
            },
            "type": "scattercarpet"
           }
          ],
          "scattergeo": [
           {
            "marker": {
             "colorbar": {
              "outlinewidth": 0,
              "ticks": ""
             }
            },
            "type": "scattergeo"
           }
          ],
          "scattergl": [
           {
            "marker": {
             "colorbar": {
              "outlinewidth": 0,
              "ticks": ""
             }
            },
            "type": "scattergl"
           }
          ],
          "scattermapbox": [
           {
            "marker": {
             "colorbar": {
              "outlinewidth": 0,
              "ticks": ""
             }
            },
            "type": "scattermapbox"
           }
          ],
          "scatterpolar": [
           {
            "marker": {
             "colorbar": {
              "outlinewidth": 0,
              "ticks": ""
             }
            },
            "type": "scatterpolar"
           }
          ],
          "scatterpolargl": [
           {
            "marker": {
             "colorbar": {
              "outlinewidth": 0,
              "ticks": ""
             }
            },
            "type": "scatterpolargl"
           }
          ],
          "scatterternary": [
           {
            "marker": {
             "colorbar": {
              "outlinewidth": 0,
              "ticks": ""
             }
            },
            "type": "scatterternary"
           }
          ],
          "surface": [
           {
            "colorbar": {
             "outlinewidth": 0,
             "ticks": ""
            },
            "colorscale": [
             [
              0,
              "#0d0887"
             ],
             [
              0.1111111111111111,
              "#46039f"
             ],
             [
              0.2222222222222222,
              "#7201a8"
             ],
             [
              0.3333333333333333,
              "#9c179e"
             ],
             [
              0.4444444444444444,
              "#bd3786"
             ],
             [
              0.5555555555555556,
              "#d8576b"
             ],
             [
              0.6666666666666666,
              "#ed7953"
             ],
             [
              0.7777777777777778,
              "#fb9f3a"
             ],
             [
              0.8888888888888888,
              "#fdca26"
             ],
             [
              1,
              "#f0f921"
             ]
            ],
            "type": "surface"
           }
          ],
          "table": [
           {
            "cells": {
             "fill": {
              "color": "#EBF0F8"
             },
             "line": {
              "color": "white"
             }
            },
            "header": {
             "fill": {
              "color": "#C8D4E3"
             },
             "line": {
              "color": "white"
             }
            },
            "type": "table"
           }
          ]
         },
         "layout": {
          "annotationdefaults": {
           "arrowcolor": "#2a3f5f",
           "arrowhead": 0,
           "arrowwidth": 1
          },
          "autotypenumbers": "strict",
          "coloraxis": {
           "colorbar": {
            "outlinewidth": 0,
            "ticks": ""
           }
          },
          "colorscale": {
           "diverging": [
            [
             0,
             "#8e0152"
            ],
            [
             0.1,
             "#c51b7d"
            ],
            [
             0.2,
             "#de77ae"
            ],
            [
             0.3,
             "#f1b6da"
            ],
            [
             0.4,
             "#fde0ef"
            ],
            [
             0.5,
             "#f7f7f7"
            ],
            [
             0.6,
             "#e6f5d0"
            ],
            [
             0.7,
             "#b8e186"
            ],
            [
             0.8,
             "#7fbc41"
            ],
            [
             0.9,
             "#4d9221"
            ],
            [
             1,
             "#276419"
            ]
           ],
           "sequential": [
            [
             0,
             "#0d0887"
            ],
            [
             0.1111111111111111,
             "#46039f"
            ],
            [
             0.2222222222222222,
             "#7201a8"
            ],
            [
             0.3333333333333333,
             "#9c179e"
            ],
            [
             0.4444444444444444,
             "#bd3786"
            ],
            [
             0.5555555555555556,
             "#d8576b"
            ],
            [
             0.6666666666666666,
             "#ed7953"
            ],
            [
             0.7777777777777778,
             "#fb9f3a"
            ],
            [
             0.8888888888888888,
             "#fdca26"
            ],
            [
             1,
             "#f0f921"
            ]
           ],
           "sequentialminus": [
            [
             0,
             "#0d0887"
            ],
            [
             0.1111111111111111,
             "#46039f"
            ],
            [
             0.2222222222222222,
             "#7201a8"
            ],
            [
             0.3333333333333333,
             "#9c179e"
            ],
            [
             0.4444444444444444,
             "#bd3786"
            ],
            [
             0.5555555555555556,
             "#d8576b"
            ],
            [
             0.6666666666666666,
             "#ed7953"
            ],
            [
             0.7777777777777778,
             "#fb9f3a"
            ],
            [
             0.8888888888888888,
             "#fdca26"
            ],
            [
             1,
             "#f0f921"
            ]
           ]
          },
          "colorway": [
           "#636efa",
           "#EF553B",
           "#00cc96",
           "#ab63fa",
           "#FFA15A",
           "#19d3f3",
           "#FF6692",
           "#B6E880",
           "#FF97FF",
           "#FECB52"
          ],
          "font": {
           "color": "#2a3f5f"
          },
          "geo": {
           "bgcolor": "white",
           "lakecolor": "white",
           "landcolor": "white",
           "showlakes": true,
           "showland": true,
           "subunitcolor": "#C8D4E3"
          },
          "hoverlabel": {
           "align": "left"
          },
          "hovermode": "closest",
          "mapbox": {
           "style": "light"
          },
          "paper_bgcolor": "white",
          "plot_bgcolor": "white",
          "polar": {
           "angularaxis": {
            "gridcolor": "#EBF0F8",
            "linecolor": "#EBF0F8",
            "ticks": ""
           },
           "bgcolor": "white",
           "radialaxis": {
            "gridcolor": "#EBF0F8",
            "linecolor": "#EBF0F8",
            "ticks": ""
           }
          },
          "scene": {
           "xaxis": {
            "backgroundcolor": "white",
            "gridcolor": "#DFE8F3",
            "gridwidth": 2,
            "linecolor": "#EBF0F8",
            "showbackground": true,
            "ticks": "",
            "zerolinecolor": "#EBF0F8"
           },
           "yaxis": {
            "backgroundcolor": "white",
            "gridcolor": "#DFE8F3",
            "gridwidth": 2,
            "linecolor": "#EBF0F8",
            "showbackground": true,
            "ticks": "",
            "zerolinecolor": "#EBF0F8"
           },
           "zaxis": {
            "backgroundcolor": "white",
            "gridcolor": "#DFE8F3",
            "gridwidth": 2,
            "linecolor": "#EBF0F8",
            "showbackground": true,
            "ticks": "",
            "zerolinecolor": "#EBF0F8"
           }
          },
          "shapedefaults": {
           "line": {
            "color": "#2a3f5f"
           }
          },
          "ternary": {
           "aaxis": {
            "gridcolor": "#DFE8F3",
            "linecolor": "#A2B1C6",
            "ticks": ""
           },
           "baxis": {
            "gridcolor": "#DFE8F3",
            "linecolor": "#A2B1C6",
            "ticks": ""
           },
           "bgcolor": "white",
           "caxis": {
            "gridcolor": "#DFE8F3",
            "linecolor": "#A2B1C6",
            "ticks": ""
           }
          },
          "title": {
           "x": 0.05
          },
          "xaxis": {
           "automargin": true,
           "gridcolor": "#EBF0F8",
           "linecolor": "#EBF0F8",
           "ticks": "",
           "title": {
            "standoff": 15
           },
           "zerolinecolor": "#EBF0F8",
           "zerolinewidth": 2
          },
          "yaxis": {
           "automargin": true,
           "gridcolor": "#EBF0F8",
           "linecolor": "#EBF0F8",
           "ticks": "",
           "title": {
            "standoff": 15
           },
           "zerolinecolor": "#EBF0F8",
           "zerolinewidth": 2
          }
         }
        },
        "title": {
         "text": "Sample of Random Portfolios"
        },
        "width": 850,
        "xaxis": {
         "title": {
          "text": "Annualised Risk (Volatility)"
         }
        },
        "yaxis": {
         "title": {
          "text": "Annualised Return"
         }
        }
       }
      }
     },
     "metadata": {},
     "output_type": "display_data"
    }
   ],
   "source": [
    "#-- Plot the risk vs. return of randomly generated portfolios\n",
    "#-- Convert the list from before into an array for easy plotting\n",
    "mean_variance_pairs = np.array(mean_variance_pairs)\n",
    "\n",
    "fig = go.Figure()\n",
    "fig.add_trace(go.Scatter(x=mean_variance_pairs[:,1]**0.5, y=mean_variance_pairs[:,0], \n",
    "                      marker=dict(color=(mean_variance_pairs[:,0]-risk_free_rate)/(mean_variance_pairs[:,1]**0.5), \n",
    "                                  showscale=True, \n",
    "                                  size=7,\n",
    "                                  line=dict(width=1),\n",
    "                                  colorscale=\"RdBu\",\n",
    "                                  colorbar=dict(title=\"Sharpe<br>Ratio\")\n",
    "                                 ), \n",
    "                      mode='markers',\n",
    "                      text=[str(np.array(tickers_list[i])) + \"<br>\" + str(np.array(weights_list[i]).round(2)) for i in range(len(tickers_list))]))\n",
    "fig.update_layout(template='plotly_white',\n",
    "                  xaxis=dict(title='Annualised Risk (Volatility)'),\n",
    "                  yaxis=dict(title='Annualised Return'),\n",
    "                  title='Sample of Random Portfolios',\n",
    "                  width=850,\n",
    "                  height=500)\n",
    "# fig.update_xaxes(range=[0, 0.4])\n",
    "# fig.update_yaxes(range=[0,0.4])\n",
    "fig.update_layout(coloraxis_colorbar=dict(title=\"Sharpe Ratio\"))"
   ]
  }
 ],
 "metadata": {
  "kernelspec": {
   "display_name": "base",
   "language": "python",
   "name": "python3"
  },
  "language_info": {
   "codemirror_mode": {
    "name": "ipython",
    "version": 3
   },
   "file_extension": ".py",
   "mimetype": "text/x-python",
   "name": "python",
   "nbconvert_exporter": "python",
   "pygments_lexer": "ipython3",
   "version": "3.9.7"
  },
  "orig_nbformat": 4,
  "vscode": {
   "interpreter": {
    "hash": "651add51c3cbc36662d3bed529119182c196c96833ac7d541c272038af8218b3"
   }
  }
 },
 "nbformat": 4,
 "nbformat_minor": 2
}
