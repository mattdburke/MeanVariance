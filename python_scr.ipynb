{
 "cells": [
  {
   "cell_type": "code",
   "execution_count": 45,
   "metadata": {},
   "outputs": [
    {
     "name": "stdout",
     "output_type": "stream",
     "text": [
      "Requirement already satisfied: yfinance in c:\\users\\mattb\\anaconda3\\lib\\site-packages (0.1.70)\n",
      "Requirement already satisfied: requests>=2.26 in c:\\users\\mattb\\anaconda3\\lib\\site-packages (from yfinance) (2.26.0)\n",
      "Requirement already satisfied: multitasking>=0.0.7 in c:\\users\\mattb\\anaconda3\\lib\\site-packages (from yfinance) (0.0.10)\n",
      "Requirement already satisfied: numpy>=1.15 in c:\\users\\mattb\\anaconda3\\lib\\site-packages (from yfinance) (1.20.3)\n",
      "Requirement already satisfied: lxml>=4.5.1 in c:\\users\\mattb\\anaconda3\\lib\\site-packages (from yfinance) (4.6.3)\n",
      "Requirement already satisfied: pandas>=0.24.0 in c:\\users\\mattb\\anaconda3\\lib\\site-packages (from yfinance) (1.3.4)\n",
      "Requirement already satisfied: python-dateutil>=2.7.3 in c:\\users\\mattb\\anaconda3\\lib\\site-packages (from pandas>=0.24.0->yfinance) (2.8.2)\n",
      "Requirement already satisfied: pytz>=2017.3 in c:\\users\\mattb\\anaconda3\\lib\\site-packages (from pandas>=0.24.0->yfinance) (2021.3)\n",
      "Requirement already satisfied: six>=1.5 in c:\\users\\mattb\\anaconda3\\lib\\site-packages (from python-dateutil>=2.7.3->pandas>=0.24.0->yfinance) (1.16.0)\n",
      "Requirement already satisfied: certifi>=2017.4.17 in c:\\users\\mattb\\anaconda3\\lib\\site-packages (from requests>=2.26->yfinance) (2021.10.8)\n",
      "Requirement already satisfied: charset-normalizer~=2.0.0 in c:\\users\\mattb\\anaconda3\\lib\\site-packages (from requests>=2.26->yfinance) (2.0.4)\n",
      "Requirement already satisfied: urllib3<1.27,>=1.21.1 in c:\\users\\mattb\\anaconda3\\lib\\site-packages (from requests>=2.26->yfinance) (1.26.7)\n",
      "Requirement already satisfied: idna<4,>=2.5 in c:\\users\\mattb\\anaconda3\\lib\\site-packages (from requests>=2.26->yfinance) (3.2)\n"
     ]
    }
   ],
   "source": [
    "!pip install yfinance\n",
    "import yfinance as yf\n",
    "import pandas as pd\n",
    "import numpy as np\n",
    "import random \n",
    "from tqdm import tqdm\n",
    "import plotly\n",
    "import plotly.graph_objects as go\n",
    "from plotly.subplots import make_subplots\n",
    "import plotly.express as px\n",
    "import plotly.figure_factory as ff"
   ]
  },
  {
   "cell_type": "code",
   "execution_count": 51,
   "metadata": {},
   "outputs": [
    {
     "name": "stdout",
     "output_type": "stream",
     "text": [
      "[*********************100%***********************]  1 of 1 completed\n",
      "[*********************100%***********************]  1 of 1 completed\n",
      "[*********************100%***********************]  1 of 1 completed\n",
      "[*********************100%***********************]  1 of 1 completed\n",
      "[*********************100%***********************]  1 of 1 completed\n",
      "[*********************100%***********************]  1 of 1 completed\n",
      "[*********************100%***********************]  1 of 1 completed\n",
      "[*********************100%***********************]  1 of 1 completed\n",
      "[*********************100%***********************]  1 of 1 completed\n",
      "[*********************100%***********************]  1 of 1 completed\n",
      "        Date      MSFT       WMT       JPM       TGT      AAPL     GOOGL  \\\n",
      "0 2015-01-02       NaN       NaN       NaN       NaN       NaN       NaN   \n",
      "1 2015-01-05 -0.009238 -0.002915 -0.031537 -0.018084 -0.028576 -0.019238   \n",
      "2 2015-01-06 -0.014786  0.007676 -0.026271 -0.000135  0.000094 -0.024989   \n",
      "3 2015-01-07  0.012625  0.026186  0.001525  0.037154  0.013925 -0.002945   \n",
      "4 2015-01-08  0.028994  0.020887  0.022101  0.004678  0.037702  0.003478   \n",
      "\n",
      "        ABT       HTH        KO      AMZN  \n",
      "0       NaN       NaN       NaN       NaN  \n",
      "1  0.000223 -0.037701  0.000000 -0.020731  \n",
      "2 -0.011421 -0.070875  0.007565 -0.023098  \n",
      "3  0.008076  0.011795  0.012405  0.010544  \n",
      "4  0.020346  0.019901  0.012024  0.006813  \n"
     ]
    }
   ],
   "source": [
    "asset_list = ['MSFT', 'WMT', 'JPM', 'TGT', 'AAPL', 'GOOGL', 'ABT', 'HTH', 'KO', 'AMZN']\n",
    "\n",
    "risk_free_rate = 0\n",
    "\n",
    "sd = \"2015-01-01\"\n",
    "ed = \"2022-12-31\"\n",
    "int = \"1d\"\n",
    "\n",
    "def create_dataframe(ticker):\n",
    "    df = yf.download(ticker, start=sd, end=ed, interval=int)\n",
    "    df = df.reset_index(level=0)\n",
    "    df = df[[\"Date\", \"Adj Close\"]]\n",
    "    df = df.rename({'Adj Close': \"price\"}, axis=1)  # new method\n",
    "    df[\"logret\"] = np.log(df.price) - np.log(df.price.shift(1))\n",
    "    df = df.drop('price', axis=1)\n",
    "    df = df.rename({'logret': ticker}, axis=1)  # new method\n",
    "    return df\n",
    "\n",
    "\n",
    "daily_returns = create_dataframe(asset_list[0])\n",
    "for i in asset_list[1:]:\n",
    "    df2 = create_dataframe(i)\n",
    "    daily_returns = daily_returns.merge(df2, how='inner', on='Date')\n",
    "print (daily_returns.head())\n",
    "daily_returns = daily_returns.drop('Date', axis=1)"
   ]
  },
  {
   "cell_type": "code",
   "execution_count": 52,
   "metadata": {},
   "outputs": [
    {
     "name": "stdout",
     "output_type": "stream",
     "text": [
      "MSFT     0.248070\n",
      "WMT      0.088046\n",
      "JPM      0.130559\n",
      "TGT      0.119686\n",
      "AAPL     0.231507\n",
      "GOOGL    0.162573\n",
      "ABT      0.139745\n",
      "HTH      0.066167\n",
      "KO       0.087287\n",
      "AMZN     0.236237\n",
      "dtype: float64\n",
      "MSFT     0.221696\n",
      "WMT      0.084397\n",
      "JPM      0.122742\n",
      "TGT      0.113074\n",
      "AAPL     0.208325\n",
      "GOOGL    0.150681\n",
      "ABT      0.130838\n",
      "HTH      0.064078\n",
      "KO       0.083699\n",
      "AMZN     0.212161\n",
      "dtype: float64\n"
     ]
    }
   ],
   "source": [
    "#-- Get annualised mean returns\n",
    "mus = (1+daily_returns.mean())**252 - 1\n",
    "print (mus)\n",
    "mus = (daily_returns.mean())*252\n",
    "print (mus)\n",
    "#-- Get covariances\n",
    "#- Multiply by 252 to annualise it (square root time for volatility but no square root for variance)\n",
    "#- Note: 252 trading days in a year\n",
    "#- https://quant.stackexchange.com/questions/4753/annualized-covariance\n",
    "cov = daily_returns.cov()*252\n",
    "\n",
    "var = daily_returns.var()*252\n"
   ]
  },
  {
   "cell_type": "code",
   "execution_count": 53,
   "metadata": {},
   "outputs": [
    {
     "data": {
      "application/vnd.plotly.v1+json": {
       "config": {
        "plotlyServerURL": "https://plot.ly"
       },
       "data": [
        {
         "mode": "markers",
         "text": [
          "MSFT",
          "WMT",
          "JPM",
          "TGT",
          "AAPL",
          "GOOGL",
          "ABT",
          "HTH",
          "KO",
          "AMZN"
         ],
         "type": "scatter",
         "x": [
          0.07920618999160889,
          0.04872883602738618,
          0.08112433120124272,
          0.10025075693919142,
          0.08976760219046317,
          0.07966537398525358,
          0.060946661218183935,
          0.12735619840109824,
          0.03557442963683145,
          0.10995160165123742
         ],
         "y": [
          0.22169570896311339,
          0.08439734895902087,
          0.12274190769969263,
          0.11307379529626042,
          0.20832489223115191,
          0.1506806933432741,
          0.1308384275864032,
          0.0640778140692087,
          0.08369914984650981,
          0.2121610188739929
         ]
        }
       ],
       "layout": {
        "height": 500,
        "template": {
         "data": {
          "bar": [
           {
            "error_x": {
             "color": "#2a3f5f"
            },
            "error_y": {
             "color": "#2a3f5f"
            },
            "marker": {
             "line": {
              "color": "white",
              "width": 0.5
             }
            },
            "type": "bar"
           }
          ],
          "barpolar": [
           {
            "marker": {
             "line": {
              "color": "white",
              "width": 0.5
             }
            },
            "type": "barpolar"
           }
          ],
          "carpet": [
           {
            "aaxis": {
             "endlinecolor": "#2a3f5f",
             "gridcolor": "#C8D4E3",
             "linecolor": "#C8D4E3",
             "minorgridcolor": "#C8D4E3",
             "startlinecolor": "#2a3f5f"
            },
            "baxis": {
             "endlinecolor": "#2a3f5f",
             "gridcolor": "#C8D4E3",
             "linecolor": "#C8D4E3",
             "minorgridcolor": "#C8D4E3",
             "startlinecolor": "#2a3f5f"
            },
            "type": "carpet"
           }
          ],
          "choropleth": [
           {
            "colorbar": {
             "outlinewidth": 0,
             "ticks": ""
            },
            "type": "choropleth"
           }
          ],
          "contour": [
           {
            "colorbar": {
             "outlinewidth": 0,
             "ticks": ""
            },
            "colorscale": [
             [
              0,
              "#0d0887"
             ],
             [
              0.1111111111111111,
              "#46039f"
             ],
             [
              0.2222222222222222,
              "#7201a8"
             ],
             [
              0.3333333333333333,
              "#9c179e"
             ],
             [
              0.4444444444444444,
              "#bd3786"
             ],
             [
              0.5555555555555556,
              "#d8576b"
             ],
             [
              0.6666666666666666,
              "#ed7953"
             ],
             [
              0.7777777777777778,
              "#fb9f3a"
             ],
             [
              0.8888888888888888,
              "#fdca26"
             ],
             [
              1,
              "#f0f921"
             ]
            ],
            "type": "contour"
           }
          ],
          "contourcarpet": [
           {
            "colorbar": {
             "outlinewidth": 0,
             "ticks": ""
            },
            "type": "contourcarpet"
           }
          ],
          "heatmap": [
           {
            "colorbar": {
             "outlinewidth": 0,
             "ticks": ""
            },
            "colorscale": [
             [
              0,
              "#0d0887"
             ],
             [
              0.1111111111111111,
              "#46039f"
             ],
             [
              0.2222222222222222,
              "#7201a8"
             ],
             [
              0.3333333333333333,
              "#9c179e"
             ],
             [
              0.4444444444444444,
              "#bd3786"
             ],
             [
              0.5555555555555556,
              "#d8576b"
             ],
             [
              0.6666666666666666,
              "#ed7953"
             ],
             [
              0.7777777777777778,
              "#fb9f3a"
             ],
             [
              0.8888888888888888,
              "#fdca26"
             ],
             [
              1,
              "#f0f921"
             ]
            ],
            "type": "heatmap"
           }
          ],
          "heatmapgl": [
           {
            "colorbar": {
             "outlinewidth": 0,
             "ticks": ""
            },
            "colorscale": [
             [
              0,
              "#0d0887"
             ],
             [
              0.1111111111111111,
              "#46039f"
             ],
             [
              0.2222222222222222,
              "#7201a8"
             ],
             [
              0.3333333333333333,
              "#9c179e"
             ],
             [
              0.4444444444444444,
              "#bd3786"
             ],
             [
              0.5555555555555556,
              "#d8576b"
             ],
             [
              0.6666666666666666,
              "#ed7953"
             ],
             [
              0.7777777777777778,
              "#fb9f3a"
             ],
             [
              0.8888888888888888,
              "#fdca26"
             ],
             [
              1,
              "#f0f921"
             ]
            ],
            "type": "heatmapgl"
           }
          ],
          "histogram": [
           {
            "marker": {
             "colorbar": {
              "outlinewidth": 0,
              "ticks": ""
             }
            },
            "type": "histogram"
           }
          ],
          "histogram2d": [
           {
            "colorbar": {
             "outlinewidth": 0,
             "ticks": ""
            },
            "colorscale": [
             [
              0,
              "#0d0887"
             ],
             [
              0.1111111111111111,
              "#46039f"
             ],
             [
              0.2222222222222222,
              "#7201a8"
             ],
             [
              0.3333333333333333,
              "#9c179e"
             ],
             [
              0.4444444444444444,
              "#bd3786"
             ],
             [
              0.5555555555555556,
              "#d8576b"
             ],
             [
              0.6666666666666666,
              "#ed7953"
             ],
             [
              0.7777777777777778,
              "#fb9f3a"
             ],
             [
              0.8888888888888888,
              "#fdca26"
             ],
             [
              1,
              "#f0f921"
             ]
            ],
            "type": "histogram2d"
           }
          ],
          "histogram2dcontour": [
           {
            "colorbar": {
             "outlinewidth": 0,
             "ticks": ""
            },
            "colorscale": [
             [
              0,
              "#0d0887"
             ],
             [
              0.1111111111111111,
              "#46039f"
             ],
             [
              0.2222222222222222,
              "#7201a8"
             ],
             [
              0.3333333333333333,
              "#9c179e"
             ],
             [
              0.4444444444444444,
              "#bd3786"
             ],
             [
              0.5555555555555556,
              "#d8576b"
             ],
             [
              0.6666666666666666,
              "#ed7953"
             ],
             [
              0.7777777777777778,
              "#fb9f3a"
             ],
             [
              0.8888888888888888,
              "#fdca26"
             ],
             [
              1,
              "#f0f921"
             ]
            ],
            "type": "histogram2dcontour"
           }
          ],
          "mesh3d": [
           {
            "colorbar": {
             "outlinewidth": 0,
             "ticks": ""
            },
            "type": "mesh3d"
           }
          ],
          "parcoords": [
           {
            "line": {
             "colorbar": {
              "outlinewidth": 0,
              "ticks": ""
             }
            },
            "type": "parcoords"
           }
          ],
          "pie": [
           {
            "automargin": true,
            "type": "pie"
           }
          ],
          "scatter": [
           {
            "marker": {
             "colorbar": {
              "outlinewidth": 0,
              "ticks": ""
             }
            },
            "type": "scatter"
           }
          ],
          "scatter3d": [
           {
            "line": {
             "colorbar": {
              "outlinewidth": 0,
              "ticks": ""
             }
            },
            "marker": {
             "colorbar": {
              "outlinewidth": 0,
              "ticks": ""
             }
            },
            "type": "scatter3d"
           }
          ],
          "scattercarpet": [
           {
            "marker": {
             "colorbar": {
              "outlinewidth": 0,
              "ticks": ""
             }
            },
            "type": "scattercarpet"
           }
          ],
          "scattergeo": [
           {
            "marker": {
             "colorbar": {
              "outlinewidth": 0,
              "ticks": ""
             }
            },
            "type": "scattergeo"
           }
          ],
          "scattergl": [
           {
            "marker": {
             "colorbar": {
              "outlinewidth": 0,
              "ticks": ""
             }
            },
            "type": "scattergl"
           }
          ],
          "scattermapbox": [
           {
            "marker": {
             "colorbar": {
              "outlinewidth": 0,
              "ticks": ""
             }
            },
            "type": "scattermapbox"
           }
          ],
          "scatterpolar": [
           {
            "marker": {
             "colorbar": {
              "outlinewidth": 0,
              "ticks": ""
             }
            },
            "type": "scatterpolar"
           }
          ],
          "scatterpolargl": [
           {
            "marker": {
             "colorbar": {
              "outlinewidth": 0,
              "ticks": ""
             }
            },
            "type": "scatterpolargl"
           }
          ],
          "scatterternary": [
           {
            "marker": {
             "colorbar": {
              "outlinewidth": 0,
              "ticks": ""
             }
            },
            "type": "scatterternary"
           }
          ],
          "surface": [
           {
            "colorbar": {
             "outlinewidth": 0,
             "ticks": ""
            },
            "colorscale": [
             [
              0,
              "#0d0887"
             ],
             [
              0.1111111111111111,
              "#46039f"
             ],
             [
              0.2222222222222222,
              "#7201a8"
             ],
             [
              0.3333333333333333,
              "#9c179e"
             ],
             [
              0.4444444444444444,
              "#bd3786"
             ],
             [
              0.5555555555555556,
              "#d8576b"
             ],
             [
              0.6666666666666666,
              "#ed7953"
             ],
             [
              0.7777777777777778,
              "#fb9f3a"
             ],
             [
              0.8888888888888888,
              "#fdca26"
             ],
             [
              1,
              "#f0f921"
             ]
            ],
            "type": "surface"
           }
          ],
          "table": [
           {
            "cells": {
             "fill": {
              "color": "#EBF0F8"
             },
             "line": {
              "color": "white"
             }
            },
            "header": {
             "fill": {
              "color": "#C8D4E3"
             },
             "line": {
              "color": "white"
             }
            },
            "type": "table"
           }
          ]
         },
         "layout": {
          "annotationdefaults": {
           "arrowcolor": "#2a3f5f",
           "arrowhead": 0,
           "arrowwidth": 1
          },
          "autotypenumbers": "strict",
          "coloraxis": {
           "colorbar": {
            "outlinewidth": 0,
            "ticks": ""
           }
          },
          "colorscale": {
           "diverging": [
            [
             0,
             "#8e0152"
            ],
            [
             0.1,
             "#c51b7d"
            ],
            [
             0.2,
             "#de77ae"
            ],
            [
             0.3,
             "#f1b6da"
            ],
            [
             0.4,
             "#fde0ef"
            ],
            [
             0.5,
             "#f7f7f7"
            ],
            [
             0.6,
             "#e6f5d0"
            ],
            [
             0.7,
             "#b8e186"
            ],
            [
             0.8,
             "#7fbc41"
            ],
            [
             0.9,
             "#4d9221"
            ],
            [
             1,
             "#276419"
            ]
           ],
           "sequential": [
            [
             0,
             "#0d0887"
            ],
            [
             0.1111111111111111,
             "#46039f"
            ],
            [
             0.2222222222222222,
             "#7201a8"
            ],
            [
             0.3333333333333333,
             "#9c179e"
            ],
            [
             0.4444444444444444,
             "#bd3786"
            ],
            [
             0.5555555555555556,
             "#d8576b"
            ],
            [
             0.6666666666666666,
             "#ed7953"
            ],
            [
             0.7777777777777778,
             "#fb9f3a"
            ],
            [
             0.8888888888888888,
             "#fdca26"
            ],
            [
             1,
             "#f0f921"
            ]
           ],
           "sequentialminus": [
            [
             0,
             "#0d0887"
            ],
            [
             0.1111111111111111,
             "#46039f"
            ],
            [
             0.2222222222222222,
             "#7201a8"
            ],
            [
             0.3333333333333333,
             "#9c179e"
            ],
            [
             0.4444444444444444,
             "#bd3786"
            ],
            [
             0.5555555555555556,
             "#d8576b"
            ],
            [
             0.6666666666666666,
             "#ed7953"
            ],
            [
             0.7777777777777778,
             "#fb9f3a"
            ],
            [
             0.8888888888888888,
             "#fdca26"
            ],
            [
             1,
             "#f0f921"
            ]
           ]
          },
          "colorway": [
           "#636efa",
           "#EF553B",
           "#00cc96",
           "#ab63fa",
           "#FFA15A",
           "#19d3f3",
           "#FF6692",
           "#B6E880",
           "#FF97FF",
           "#FECB52"
          ],
          "font": {
           "color": "#2a3f5f"
          },
          "geo": {
           "bgcolor": "white",
           "lakecolor": "white",
           "landcolor": "white",
           "showlakes": true,
           "showland": true,
           "subunitcolor": "#C8D4E3"
          },
          "hoverlabel": {
           "align": "left"
          },
          "hovermode": "closest",
          "mapbox": {
           "style": "light"
          },
          "paper_bgcolor": "white",
          "plot_bgcolor": "white",
          "polar": {
           "angularaxis": {
            "gridcolor": "#EBF0F8",
            "linecolor": "#EBF0F8",
            "ticks": ""
           },
           "bgcolor": "white",
           "radialaxis": {
            "gridcolor": "#EBF0F8",
            "linecolor": "#EBF0F8",
            "ticks": ""
           }
          },
          "scene": {
           "xaxis": {
            "backgroundcolor": "white",
            "gridcolor": "#DFE8F3",
            "gridwidth": 2,
            "linecolor": "#EBF0F8",
            "showbackground": true,
            "ticks": "",
            "zerolinecolor": "#EBF0F8"
           },
           "yaxis": {
            "backgroundcolor": "white",
            "gridcolor": "#DFE8F3",
            "gridwidth": 2,
            "linecolor": "#EBF0F8",
            "showbackground": true,
            "ticks": "",
            "zerolinecolor": "#EBF0F8"
           },
           "zaxis": {
            "backgroundcolor": "white",
            "gridcolor": "#DFE8F3",
            "gridwidth": 2,
            "linecolor": "#EBF0F8",
            "showbackground": true,
            "ticks": "",
            "zerolinecolor": "#EBF0F8"
           }
          },
          "shapedefaults": {
           "line": {
            "color": "#2a3f5f"
           }
          },
          "ternary": {
           "aaxis": {
            "gridcolor": "#DFE8F3",
            "linecolor": "#A2B1C6",
            "ticks": ""
           },
           "baxis": {
            "gridcolor": "#DFE8F3",
            "linecolor": "#A2B1C6",
            "ticks": ""
           },
           "bgcolor": "white",
           "caxis": {
            "gridcolor": "#DFE8F3",
            "linecolor": "#A2B1C6",
            "ticks": ""
           }
          },
          "title": {
           "x": 0.05
          },
          "xaxis": {
           "automargin": true,
           "gridcolor": "#EBF0F8",
           "linecolor": "#EBF0F8",
           "ticks": "",
           "title": {
            "standoff": 15
           },
           "zerolinecolor": "#EBF0F8",
           "zerolinewidth": 2
          },
          "yaxis": {
           "automargin": true,
           "gridcolor": "#EBF0F8",
           "linecolor": "#EBF0F8",
           "ticks": "",
           "title": {
            "standoff": 15
           },
           "zerolinecolor": "#EBF0F8",
           "zerolinewidth": 2
          }
         }
        },
        "title": {
         "text": "Sample of Random Assets"
        },
        "width": 850,
        "xaxis": {
         "title": {
          "text": "Annualised Risk (Volatility)"
         }
        },
        "yaxis": {
         "title": {
          "text": "Annualised Return"
         }
        }
       }
      }
     },
     "metadata": {},
     "output_type": "display_data"
    }
   ],
   "source": [
    "fig = go.Figure()\n",
    "fig.add_trace(go.Scatter(x=var, y=mus, \n",
    "                      mode='markers',\n",
    "                      text = var.axes[0].tolist()))\n",
    "fig.update_layout(template='plotly_white',\n",
    "                  xaxis=dict(title='Annualised Risk (Volatility)'),\n",
    "                  yaxis=dict(title='Annualised Return'),\n",
    "                  title='Sample of Random Assets',\n",
    "                  width=850,\n",
    "                  height=500)\n",
    "# fig.update_xaxes(range=[0.18, 0.32])\n",
    "# fig.update_yaxes(range=[0.02,0.27])"
   ]
  },
  {
   "cell_type": "code",
   "execution_count": 54,
   "metadata": {},
   "outputs": [],
   "source": [
    "#- How many assests to include in each portfolio\n",
    "n_assets = len(asset_list)\n",
    "#-- How many portfolios to generate\n",
    "n_portfolios = 1000\n",
    "\n",
    "#-- Initialize empty list to store mean-variance pairs for plotting\n",
    "mean_variance_pairs = []\n",
    "\n",
    "np.random.seed(75)\n",
    "#-- Loop through and generate lots of random portfolios\n",
    "for i in range(n_portfolios):\n",
    "    #- Choose assets randomly without replacement\n",
    "    assets = np.random.choice(list(daily_returns.columns), n_assets, replace=False)\n",
    "    #- Choose weights randomly\n",
    "    weights = np.random.rand(n_assets)\n",
    "    #- Ensure weights sum to 1\n",
    "    weights = weights/sum(weights)\n",
    "\n",
    "    #-- Loop over asset pairs and compute portfolio return and variance\n",
    "    #- https://quant.stackexchange.com/questions/43442/portfolio-variance-explanation-for-equation-investments-by-zvi-bodie\n",
    "    portfolio_E_Variance = 0\n",
    "    portfolio_E_Return = 0\n",
    "    for i in range(len(assets)):\n",
    "        portfolio_E_Return += weights[i] * mus.loc[assets[i]]\n",
    "        for j in range(len(assets)):\n",
    "            #-- Add variance/covariance for each asset pair\n",
    "            #- Note that when i==j this adds the variance\n",
    "            portfolio_E_Variance += weights[i] * weights[j] * cov.loc[assets[i], assets[j]]\n",
    "            \n",
    "    #-- Add the mean/variance pairs to a list for plotting\n",
    "    mean_variance_pairs.append([portfolio_E_Return, portfolio_E_Variance])\n",
    "    "
   ]
  },
  {
   "cell_type": "code",
   "execution_count": 56,
   "metadata": {},
   "outputs": [
    {
     "data": {
      "application/vnd.plotly.v1+json": {
       "config": {
        "plotlyServerURL": "https://plot.ly"
       },
       "data": [
        {
         "marker": {
          "color": [
           0.7029796795621466,
           0.6879939299653072,
           0.6858179112285212,
           0.7374487796325018,
           0.7468972059382211,
           0.6094465823710125,
           0.749617330324865,
           0.7631978515655079,
           0.6968701456434938,
           0.7210794112247595,
           0.7517067383482948,
           0.6282777752786161,
           0.7006578634816462,
           0.6153831534432346,
           0.5965968063862715,
           0.6609254330382991,
           0.7608754410051612,
           0.6526256052454787,
           0.690930571407099,
           0.7106161287033271,
           0.7744371321653244,
           0.7252330645867038,
           0.691812715842369,
           0.6690571092817401,
           0.7290491037911149,
           0.7106718158433138,
           0.6748365677685649,
           0.6994852341993247,
           0.7104574393456091,
           0.65140947151175,
           0.72321139486477,
           0.6809209073086869,
           0.7145454984913983,
           0.6254835710540013,
           0.6538559852194538,
           0.7114662694618914,
           0.7358853462303895,
           0.6682638149221423,
           0.6672775341792961,
           0.7098399523995504,
           0.7108179239854117,
           0.7599254091507917,
           0.6355904426930237,
           0.7422780275406224,
           0.7177399189326209,
           0.6941185159206579,
           0.6910902972397509,
           0.6325730046092876,
           0.7161200596647452,
           0.7109507345285293,
           0.5101573091643216,
           0.6853409564195865,
           0.7252811447373647,
           0.667217386590319,
           0.7565807920934458,
           0.6962153046384106,
           0.7051668688123897,
           0.7945839114938547,
           0.722582158692751,
           0.7294207214550886,
           0.7173507202970967,
           0.6804907211027508,
           0.7439773030575432,
           0.7506091893995983,
           0.6742136460438638,
           0.6476952135999628,
           0.7219107072943683,
           0.6480174594741445,
           0.7181051650126176,
           0.6562193045004912,
           0.7404923408868316,
           0.7845160579037456,
           0.6968130959359633,
           0.6883476529906488,
           0.7396475997002839,
           0.6910965073957201,
           0.6985013098781527,
           0.6881704284472047,
           0.6871540442655742,
           0.7045787795907712,
           0.6806906085094102,
           0.7030450386014276,
           0.6869878619155367,
           0.7135521417131796,
           0.7393042002867249,
           0.6923287500333256,
           0.7351252661344169,
           0.6996981511745481,
           0.7281282000547911,
           0.7197127016918476,
           0.6604936740867458,
           0.7179384266683658,
           0.6258230667540972,
           0.6498304592378633,
           0.6964582066513438,
           0.7496782381274282,
           0.6620153853833388,
           0.671614342482088,
           0.7423292807031584,
           0.6984690872876236,
           0.696994413917243,
           0.6905224400359112,
           0.7643243345826526,
           0.7143775938727336,
           0.7641270741479026,
           0.7013971599729801,
           0.7250438996862159,
           0.6860896895821454,
           0.7233527806092103,
           0.7047635269854622,
           0.7333384747059066,
           0.6684929683591799,
           0.7130070742067036,
           0.7558672482983599,
           0.7202711988406287,
           0.6225296374040161,
           0.7396917850663892,
           0.7211922634326784,
           0.7558378974551259,
           0.7477865660234989,
           0.7035669274090107,
           0.6681035332779353,
           0.7108685739312951,
           0.7068180210945859,
           0.6062094294989759,
           0.716692553263613,
           0.6436117125864103,
           0.7792951602673789,
           0.6888999030846695,
           0.7052467266923388,
           0.7009378901657262,
           0.6912383960908649,
           0.678975808968949,
           0.769209937981381,
           0.7487483181824076,
           0.6705519246978586,
           0.6471504394884008,
           0.6768898366644958,
           0.6920299343759126,
           0.6241057018012537,
           0.7058482457278104,
           0.6547352336380917,
           0.7070031018723467,
           0.7798600125056492,
           0.7151808081211368,
           0.6986024333598003,
           0.6789174608657379,
           0.698636623277761,
           0.6845486001140395,
           0.7263667926178172,
           0.6345927367030243,
           0.7200216790768912,
           0.7192514832882201,
           0.6679589198568331,
           0.7126989120080294,
           0.6677423735098339,
           0.6350053574021388,
           0.6964404534047771,
           0.7081945006449913,
           0.5719392804109379,
           0.7246017744748511,
           0.7187430135090599,
           0.6954243680710183,
           0.7345110887504669,
           0.7005322704200817,
           0.6932659842106527,
           0.734063142846014,
           0.7682213889181528,
           0.7356736740212759,
           0.7050356893233457,
           0.6896174661599739,
           0.7209810333965705,
           0.713639904305333,
           0.6465225608691612,
           0.7047839347914145,
           0.724461241950632,
           0.6445052602051137,
           0.6859012068574528,
           0.7217834350542596,
           0.6664449485312566,
           0.7392242790513911,
           0.7546770061695621,
           0.7441104303977323,
           0.7270483744488272,
           0.6956442543908726,
           0.7233682656320902,
           0.7204984315146483,
           0.7435758607509848,
           0.704476016153633,
           0.7364963408510965,
           0.6692373850281751,
           0.758606593732758,
           0.6959921654694369,
           0.7218845465890427,
           0.7074309246544326,
           0.7166327296401395,
           0.6990677532732381,
           0.6973295468351934,
           0.7535146179394504,
           0.7221600435485586,
           0.714002297189984,
           0.6897700271418277,
           0.6484089076951653,
           0.6891750180945627,
           0.6847243311404526,
           0.7578917494076697,
           0.7360812987211653,
           0.7144398841526574,
           0.740736363016074,
           0.7229110282948968,
           0.7436632558126095,
           0.6805879435464629,
           0.6326571404386228,
           0.6619932562637997,
           0.6907783075145517,
           0.6569485838989784,
           0.6966176678899239,
           0.6918370230933122,
           0.615546638680842,
           0.7147387526035875,
           0.6901600469760154,
           0.6807753240285566,
           0.7266936045152377,
           0.6980499178134983,
           0.7460676656288293,
           0.744802730954267,
           0.7002920962346895,
           0.6590213064442688,
           0.774382272460143,
           0.7050967574635774,
           0.6648482931926637,
           0.7306458236366392,
           0.6793333972935213,
           0.6200034891185432,
           0.6808311835211661,
           0.7163728084356664,
           0.7212602766880418,
           0.7107196777147805,
           0.6969450581184826,
           0.710135275996652,
           0.6529721985346595,
           0.6801950992341773,
           0.7179222956498825,
           0.7121345867924306,
           0.6769423383907333,
           0.733561092495273,
           0.7500549021081397,
           0.7627861933554588,
           0.6454024643226577,
           0.6969397894548044,
           0.6643284544206999,
           0.691830810544327,
           0.7263688607702408,
           0.7204340444956708,
           0.6037408595303165,
           0.6741375427704587,
           0.6775918305031673,
           0.7633992810729681,
           0.6280280117281198,
           0.7308555346240513,
           0.7389103261080252,
           0.7395713036016682,
           0.7530942402823407,
           0.7381951386838792,
           0.6767594451233442,
           0.7435741262072388,
           0.7191527080464383,
           0.6769363825254764,
           0.6230970465326934,
           0.7352764717574128,
           0.7199884115921075,
           0.6456896924209181,
           0.7452670418604213,
           0.7775621681071547,
           0.7371372021121111,
           0.6683402824633408,
           0.7431934902714217,
           0.7372119024583146,
           0.7676977847467364,
           0.6343364464549305,
           0.7160922068317327,
           0.7377270981012256,
           0.6988998330600085,
           0.7297185893842528,
           0.6586147979022395,
           0.6632355736137918,
           0.6794243464782916,
           0.70137426961118,
           0.739699427788883,
           0.714603786536378,
           0.7243723441022455,
           0.7189079785950402,
           0.775999174491257,
           0.6928420682808771,
           0.7337490914733497,
           0.7386236617072938,
           0.7341080516212408,
           0.7432511237725853,
           0.7148724602490687,
           0.7342221583012626,
           0.6724806434675245,
           0.7071421620242428,
           0.6489597260315835,
           0.7135232175735219,
           0.7229013341118516,
           0.7311772010741592,
           0.73829535987804,
           0.676631711934506,
           0.7220074646140927,
           0.7017138124322382,
           0.7398310981161575,
           0.7478448536555947,
           0.7340923375546564,
           0.7011170325270559,
           0.6849962823135409,
           0.7043777882598777,
           0.7526241466262383,
           0.7104916400162589,
           0.7355412347457866,
           0.6621475222041957,
           0.6521683164575962,
           0.6823932273395316,
           0.7353925394863304,
           0.7977998217442361,
           0.6725541426474035,
           0.6786014498387019,
           0.6348513240322573,
           0.6856107397543233,
           0.70448329336005,
           0.7267518356703174,
           0.6651293458336899,
           0.7315271654049913,
           0.7675704284391811,
           0.7157764754432119,
           0.667735332836733,
           0.6589226233086253,
           0.6556914203702637,
           0.66336540170563,
           0.7402538592675348,
           0.7314189854826705,
           0.6008532316906802,
           0.710310435241563,
           0.6901284469553854,
           0.5858986757716255,
           0.6379511310853812,
           0.6947928541020157,
           0.7508476598472013,
           0.7095153079637284,
           0.6504623249961415,
           0.7610190849210959,
           0.7041914017904894,
           0.7041129394765644,
           0.6570971688853515,
           0.7123010052944474,
           0.759189965277432,
           0.762149005133424,
           0.6686518431485828,
           0.7515083062160481,
           0.6440150209357677,
           0.7514201043180883,
           0.6505711495576478,
           0.7000129479776179,
           0.6809282229474745,
           0.7307865603492512,
           0.7070372685807524,
           0.6679164804285755,
           0.719426457464749,
           0.6509029062499723,
           0.6444306669429151,
           0.6747959902787588,
           0.6902445806086145,
           0.7419633683695612,
           0.7088582414629551,
           0.7193330722896119,
           0.7063555109380707,
           0.7136199864988432,
           0.7118556650651658,
           0.6323276326524291,
           0.7300495975565169,
           0.6845842902089381,
           0.6668493985618563,
           0.7502661707235062,
           0.657728877895395,
           0.7205509131693512,
           0.7140599347718898,
           0.7095395894790684,
           0.7213191868179316,
           0.7566835642332639,
           0.7641603184019301,
           0.7408057100505351,
           0.6977456476187919,
           0.7364556456849612,
           0.7775239039002317,
           0.7536475515138434,
           0.6719510069494512,
           0.7331900685739041,
           0.7196519802175136,
           0.7780752082908282,
           0.7277902556680172,
           0.7042236315448971,
           0.721648470762966,
           0.745780556267228,
           0.6327574902361309,
           0.7294843622322451,
           0.7419678925395076,
           0.7265220102075929,
           0.7468637639803867,
           0.7532109625047262,
           0.724045160915949,
           0.7749692024623065,
           0.7697707825360209,
           0.7177786374113835,
           0.741245793147803,
           0.7327729313022676,
           0.6868212560136675,
           0.7397752656061434,
           0.646420527245146,
           0.7178275739643785,
           0.6746261978907336,
           0.6785267655269637,
           0.7334621674317758,
           0.6923027977600215,
           0.748184998055566,
           0.6768703396496669,
           0.7029591311228419,
           0.7322956484373023,
           0.7289520164081477,
           0.7167128675703949,
           0.6899066966975798,
           0.6290927176929928,
           0.7097558015565721,
           0.7289092343590682,
           0.6992509960055834,
           0.7491745360069665,
           0.7378636760370179,
           0.710071650252883,
           0.6252037939339584,
           0.621280031652139,
           0.7285193986926054,
           0.659715465520197,
           0.6499342497449614,
           0.6494841202190585,
           0.6854340382555258,
           0.663257190988016,
           0.6513154425034393,
           0.7423193383322583,
           0.7389891351497844,
           0.6669633211871845,
           0.7358585365151966,
           0.7754482565422388,
           0.7347067491543573,
           0.7067983705688837,
           0.7020229599993922,
           0.6689528959476625,
           0.6483712218414395,
           0.6622259889667887,
           0.7136774853910799,
           0.7331630351590852,
           0.7352507093025688,
           0.7229385188125351,
           0.6483000149622227,
           0.7458462003584851,
           0.7744201494760858,
           0.7407199551941942,
           0.760858710002763,
           0.6960725223256489,
           0.769821733564232,
           0.6850688729174643,
           0.7664043959113732,
           0.7447479269711776,
           0.7091099351870065,
           0.733513558010142,
           0.7057129665596158,
           0.7771219137578166,
           0.7018190413359597,
           0.7240227545297431,
           0.6898816479443539,
           0.7262832663695803,
           0.7006911692776826,
           0.7237529175673616,
           0.6823357778957421,
           0.7467629577271124,
           0.7196214193497544,
           0.7489805398824699,
           0.7337357563124565,
           0.6820280468505022,
           0.6966550230876369,
           0.70011241130762,
           0.7383223801158645,
           0.7253318488903691,
           0.7395048794055027,
           0.6801742195217476,
           0.657558205314993,
           0.6510276367755193,
           0.7410628847780074,
           0.7233631379927777,
           0.7012940598827418,
           0.6987237588349666,
           0.6656753009493561,
           0.7580332058854002,
           0.7507823308874662,
           0.7457506339210813,
           0.6810576009254002,
           0.7461048957792604,
           0.7762039401376978,
           0.7080732840064983,
           0.7155278621735788,
           0.7352119782534531,
           0.6629898071270703,
           0.7312533591635567,
           0.6980653484301041,
           0.6975704240838014,
           0.6463677643403128,
           0.6966893544712012,
           0.6491915409268296,
           0.7632212853782112,
           0.7060031362711914,
           0.7098847345403144,
           0.6432972930138273,
           0.7745467208090481,
           0.6961018093956456,
           0.7201479927317376,
           0.7710827775099255,
           0.5953360591565453,
           0.6658251526357684,
           0.728755985918245,
           0.7186933516724369,
           0.7289052001139644,
           0.6804115241957309,
           0.7647536291157436,
           0.6477423572445927,
           0.7097323649779846,
           0.6832395568024231,
           0.7077353465592524,
           0.7295087109965964,
           0.7515991120856367,
           0.7701028090626268,
           0.6779057908223921,
           0.7117683122065909,
           0.7309163639355029,
           0.6563232880571714,
           0.7376214369498895,
           0.749467144217925,
           0.7565173481938748,
           0.6940617831488745,
           0.7153369738342925,
           0.6380054424319681,
           0.750170854332644,
           0.7624199043162362,
           0.7477063679656758,
           0.7311106586117874,
           0.684586887442052,
           0.6716274841595278,
           0.6756994143439882,
           0.6480143545916205,
           0.7688074825896669,
           0.6739282803664602,
           0.7366727320843628,
           0.724120726045188,
           0.6840946948883632,
           0.7168652823328373,
           0.6935675435995655,
           0.7156001073785786,
           0.683538178285296,
           0.6889315688162594,
           0.6726169560425289,
           0.676738017495898,
           0.6910084793016741,
           0.725149632534395,
           0.6156023507600562,
           0.7352779762289269,
           0.7270637661024724,
           0.699355006182394,
           0.6698862179943822,
           0.7140121113654266,
           0.724515843483936,
           0.6656886650801407,
           0.7372584573695582,
           0.7330637001094473,
           0.5898774576459317,
           0.6979414281202859,
           0.7179523932811902,
           0.742890632437061,
           0.6638574702198744,
           0.6947995666601646,
           0.670079931479478,
           0.7168158205690761,
           0.6177945119408937,
           0.6438034139336253,
           0.6937556806833302,
           0.7236750878954241,
           0.7277238745637374,
           0.6719843855319529,
           0.6879425529940322,
           0.6652930476382859,
           0.7166718584939501,
           0.713160646785234,
           0.7161260032240482,
           0.7162987465185803,
           0.7106212751925427,
           0.7068759286206172,
           0.756899840293972,
           0.7103813628070407,
           0.7238532101976992,
           0.7094170684507204,
           0.7190260730439912,
           0.7583825732680036,
           0.6433323875771524,
           0.7312902369144016,
           0.6904862927418385,
           0.7268484822055102,
           0.659463812224827,
           0.7398232438855153,
           0.7114425210177223,
           0.713959694975039,
           0.7080686097937573,
           0.6792076489566123,
           0.6855506834944363,
           0.6799097160784175,
           0.7406782662398903,
           0.7344719101290179,
           0.604693352522365,
           0.7304248203679639,
           0.6951399071695609,
           0.7152170900674393,
           0.6847122591349033,
           0.6762830042355037,
           0.7161305695598557,
           0.6621746110134284,
           0.6939778727158599,
           0.7138800425499333,
           0.6704719024308979,
           0.6930630191866903,
           0.7605047696678513,
           0.6738930094726232,
           0.7508151277058903,
           0.6533467211853805,
           0.6876809873194124,
           0.7067747499982501,
           0.8038658503328198,
           0.790742169725384,
           0.7030287734870825,
           0.703132200969969,
           0.7583790870449599,
           0.6939985863200591,
           0.6861644904131441,
           0.7302047213649782,
           0.7065171426719711,
           0.7149592818122142,
           0.7220797469910398,
           0.6506690682776555,
           0.6782637665034422,
           0.6807745400115469,
           0.718645945964817,
           0.7440163897198476,
           0.6628769982547112,
           0.6697203692880184,
           0.7236821339301226,
           0.6908741583772494,
           0.7549925274049907,
           0.7329749596449956,
           0.7426090044457719,
           0.690337138772969,
           0.6866091491533276,
           0.6912611871520278,
           0.7188647287892752,
           0.7170634477464831,
           0.7098274047615054,
           0.7454484221139874,
           0.7033734201879658,
           0.731193954530582,
           0.7401129101618181,
           0.6767231965078165,
           0.6272344326224476,
           0.7157574686260331,
           0.6583600331210481,
           0.6136042660878669,
           0.7292676569373748,
           0.7401453550956889,
           0.7078776207834502,
           0.7372199930795874,
           0.7115755283282569,
           0.7409466500858186,
           0.6961680495422677,
           0.6934941324778295,
           0.5671836185516782,
           0.7184074270123584,
           0.6773380655372321,
           0.7277526059964309,
           0.7202575880780162,
           0.7061553432944573,
           0.7623068855896987,
           0.7557437459977464,
           0.7502525211660609,
           0.6930681727749597,
           0.7610741557513989,
           0.6997571328391313,
           0.6469793961942911,
           0.7246529522124932,
           0.6987945030828174,
           0.6962345548674003,
           0.7225023852023806,
           0.6385006737819202,
           0.7559191884852536,
           0.7044550979174181,
           0.6557208187426322,
           0.6728612929701192,
           0.7200164857521157,
           0.6968824024822865,
           0.743153600539244,
           0.7055549489445219,
           0.7068452893662333,
           0.7477889101041638,
           0.7226217366057677,
           0.7054323029167496,
           0.7590186407768639,
           0.7135971114401055,
           0.6329793871353013,
           0.63628146307806,
           0.6902223720461333,
           0.7069187074398622,
           0.6922620272828109,
           0.7591721687695991,
           0.7283895410228768,
           0.6520817157725992,
           0.7283485614194489,
           0.6932747630504886,
           0.6749527601350557,
           0.6979942034229888,
           0.6805020187020607,
           0.7194393159401102,
           0.7507284508604523,
           0.7091460784296987,
           0.7612593952024245,
           0.6638670328518704,
           0.7285063314500915,
           0.7323227429304731,
           0.7265106712351154,
           0.660659388124354,
           0.6835462281722221,
           0.6924382286251719,
           0.7064757875502106,
           0.7065137247081005,
           0.682561167935369,
           0.6557751314385091,
           0.7331622871206677,
           0.6487486575641059,
           0.7323304966792719,
           0.7037900019462144,
           0.691447524062185,
           0.6530464867364962,
           0.6269430221797455,
           0.7062959677200458,
           0.7536262135009858,
           0.7471502500634791,
           0.751809378523548,
           0.7229109036506383,
           0.6278097051140651,
           0.6861787978017405,
           0.6720058140638138,
           0.7315547240858221,
           0.7079045457280673,
           0.6939421654627049,
           0.727309726885624,
           0.7519309111265435,
           0.6786811915807484,
           0.6857135291563607,
           0.7279290776971062,
           0.722918565313128,
           0.6984836656626241,
           0.6440718320114038,
           0.6907340762959737,
           0.6822550475463794,
           0.7139156712264128,
           0.7007309847484339,
           0.7169879649634278,
           0.7526024344118812,
           0.608639458747398,
           0.7705699528080976,
           0.6103527970014798,
           0.7479280369776987,
           0.7559270864113224,
           0.649946288839667,
           0.6772806149735208,
           0.6630761224460616,
           0.6400979472499185,
           0.6908442247753822,
           0.7039088160606966,
           0.7514451945664589,
           0.7486697046789119,
           0.7293217312191442,
           0.7544821110167275,
           0.7526224667959497,
           0.7255139616462529,
           0.6517678565859921,
           0.7524612402797053,
           0.7431725051037408,
           0.7490998038330579,
           0.7228969402607706,
           0.7585944314642595,
           0.6966279122833056,
           0.7531400977810682,
           0.7142522938811671,
           0.7157594733023807,
           0.6774277370287145,
           0.712961671960972,
           0.7426185571287675,
           0.5846412311161933,
           0.6909030543342549,
           0.7053906442580568,
           0.6394700849250227,
           0.6534662008852995,
           0.7193662549202278,
           0.7014462382812173,
           0.6907364105555306,
           0.7544305189426652,
           0.6692108818388972,
           0.7034445379224336,
           0.7219152510273789,
           0.722381521510302,
           0.7215152203992783,
           0.7534890986595766,
           0.7076493811069906,
           0.6936845293629699,
           0.6328825762746663,
           0.6844252976882945,
           0.7089608291732314,
           0.6930997591585434,
           0.6872085657010764,
           0.7652726795683,
           0.6998611201364097,
           0.7228193691153324,
           0.6790472271206476,
           0.7384183320049421,
           0.732922706283166,
           0.7113154127574094,
           0.6925343560168644,
           0.6945794914676983,
           0.6591465037980998,
           0.7266849285494109,
           0.5832534241793181,
           0.6925902323273578,
           0.7451212276070787,
           0.6902663970696461,
           0.6998689652272142,
           0.6650546961067872,
           0.6722745061075683,
           0.7261509141121665,
           0.7427471636015578,
           0.688661854136397,
           0.6719488462555426,
           0.6832396082094256,
           0.7151820144492308,
           0.6933301469704672,
           0.7170435330313703,
           0.6713709421393554,
           0.6711293455832076,
           0.5511385200602688,
           0.7351460834606793,
           0.7115328411403008,
           0.6813186847366149,
           0.7584684219551562,
           0.5675342033589159,
           0.7078658915805096,
           0.672414192509706,
           0.7454019646081258,
           0.7765625441186813,
           0.7557486445640349,
           0.6576815153576546,
           0.7010144844904549,
           0.7381958020466391,
           0.6784929842727111,
           0.6701458139913904,
           0.7000684830006801,
           0.7160851247616777,
           0.7256849473869487,
           0.6736165570703033,
           0.6987225750160931,
           0.6858110220808205,
           0.6973129825220344,
           0.67175544673505,
           0.7370494376957378,
           0.7196576910658474,
           0.7571941697101822,
           0.701639034842176,
           0.7327703741245,
           0.7647551989795051,
           0.7171899361249428,
           0.713081345840498,
           0.7372311567289249,
           0.720882512347081,
           0.6830811653070501,
           0.6559372803954959,
           0.6634104726460979,
           0.7000408151846065,
           0.6479816709347564,
           0.7376456515505615,
           0.7627902962644434,
           0.723076096509828,
           0.6630220821128668,
           0.7517015509380394,
           0.7095436795378012,
           0.7131636412665558,
           0.7007662683797107,
           0.643520252097122,
           0.752065023190046,
           0.706208448086827,
           0.7662346181307048,
           0.7269139782542539,
           0.6625328834687233,
           0.5843972566730041,
           0.7630305398373768,
           0.7193500678272524,
           0.7453980647336315,
           0.702809772645306,
           0.7351049677065711,
           0.6419531394757271,
           0.7043494979966926,
           0.7268207656826461,
           0.7472978325861382,
           0.6681461796147408,
           0.7251094020639242,
           0.6988541891252562,
           0.7195820998046629,
           0.6638067150689367,
           0.6984570234383947,
           0.6912788117014066,
           0.64290478848395,
           0.6451122431494802,
           0.7391305100540502,
           0.7544262124703786,
           0.7340003278714459,
           0.6973860665514181,
           0.7613272148462572,
           0.6983824722180972,
           0.71379739439334,
           0.7134652694559709,
           0.759046588926675,
           0.7213999182171353,
           0.7389210814133272,
           0.7216965055848843,
           0.7172885959494849,
           0.730696382160285,
           0.6532998304450173,
           0.6323543189830712,
           0.7330846657595844,
           0.7380044438615455,
           0.7152599522012626,
           0.7411952261830196,
           0.6925723789994479,
           0.6096185951061265,
           0.7428463884485674,
           0.7235567920759147,
           0.6643055211337298,
           0.5556899483730199,
           0.7181864256280623,
           0.749162491450449,
           0.7030961717761054,
           0.750426632211246,
           0.6118290279643815,
           0.6767194084083572,
           0.7570183544595591,
           0.6381072169605054,
           0.7480407587272975,
           0.759602413872159,
           0.7984921688366018,
           0.706325750162765,
           0.7470879118593142,
           0.7102210234752704,
           0.6723262377512171,
           0.6262642546058405,
           0.7349285890282413,
           0.7166289647563543,
           0.695907001243952,
           0.6428758467915526,
           0.6974562052115368,
           0.7375327691814316,
           0.7533194716621324,
           0.7252220026112541,
           0.670994378023843,
           0.7565762664210438,
           0.713340379297366,
           0.730328689584549,
           0.7100908849809848,
           0.7353971229825853,
           0.7133161031295413,
           0.7563603946777638,
           0.6793440245226897,
           0.705913057799083,
           0.7279471061289632,
           0.6825880603301159,
           0.7256659453528427,
           0.7099463134771422,
           0.7405341037249694,
           0.6861740707145753,
           0.6728018642494562,
           0.6925683537895646,
           0.7291362413987578,
           0.6898606897067869,
           0.738459347168305
          ],
          "colorbar": {
           "title": {
            "text": "Sharpe<br>Ratio"
           }
          },
          "colorscale": [
           [
            0,
            "rgb(103,0,31)"
           ],
           [
            0.1,
            "rgb(178,24,43)"
           ],
           [
            0.2,
            "rgb(214,96,77)"
           ],
           [
            0.3,
            "rgb(244,165,130)"
           ],
           [
            0.4,
            "rgb(253,219,199)"
           ],
           [
            0.5,
            "rgb(247,247,247)"
           ],
           [
            0.6,
            "rgb(209,229,240)"
           ],
           [
            0.7,
            "rgb(146,197,222)"
           ],
           [
            0.8,
            "rgb(67,147,195)"
           ],
           [
            0.9,
            "rgb(33,102,172)"
           ],
           [
            1,
            "rgb(5,48,97)"
           ]
          ],
          "line": {
           "width": 1
          },
          "showscale": true,
          "size": 7
         },
         "mode": "markers",
         "type": "scatter",
         "x": [
          0.19151628607685175,
          0.20560245602186492,
          0.1926142567985072,
          0.20463013956120965,
          0.20146780331731778,
          0.20313652567275983,
          0.1917002399092357,
          0.20083466898951527,
          0.19185864423512133,
          0.1938048742399502,
          0.20176171574156757,
          0.19779558001822894,
          0.2043876364497753,
          0.21792904545324285,
          0.19131530753182935,
          0.19299591162550855,
          0.20251284439106484,
          0.20563132605368276,
          0.19603361906879618,
          0.1809251924555267,
          0.2012439802160214,
          0.18358061667889225,
          0.1936418911063611,
          0.18741934114295575,
          0.19510054667505017,
          0.19076949892502343,
          0.19699776644646683,
          0.19917753188325837,
          0.19023699275856784,
          0.19602271353716266,
          0.19581427863151032,
          0.19640804237768808,
          0.1984051570689668,
          0.20225714918075824,
          0.19949651085951317,
          0.19410343640069583,
          0.1899501019326396,
          0.19303062316117056,
          0.1842145596365565,
          0.18951687018744895,
          0.19317161142768863,
          0.2089755223279565,
          0.20418616613188662,
          0.18851279323168454,
          0.20720563534789108,
          0.19518182685627178,
          0.19288516411949466,
          0.19794790538904905,
          0.19047994507089214,
          0.19536710196460677,
          0.19307612803404517,
          0.19521072678566256,
          0.19675818695367447,
          0.18919363336759407,
          0.20365468903483253,
          0.19400432827160588,
          0.1953902370065652,
          0.19340135805216047,
          0.18345246367040446,
          0.20469787641078865,
          0.20122683747085662,
          0.1943854131274512,
          0.1861754349648071,
          0.2063544979740706,
          0.2024851638175794,
          0.180512084690363,
          0.19111916132802176,
          0.19545503446740992,
          0.20034390776280922,
          0.17880781756893616,
          0.20906504526496467,
          0.20960416604293095,
          0.19223637326823026,
          0.18800187554870837,
          0.1945340284366005,
          0.19255027192312685,
          0.19852576475530942,
          0.1938807930655287,
          0.18122553252785706,
          0.18989226037909135,
          0.20288080128268768,
          0.18897456826666006,
          0.1912384818030799,
          0.1992687092617164,
          0.18814018819063488,
          0.20200989258726856,
          0.19792695424724974,
          0.18839020132360032,
          0.18686025395242456,
          0.18805266012582564,
          0.20053218577470192,
          0.181428403531152,
          0.20243745125751064,
          0.17399306514330956,
          0.1940066621082512,
          0.19202083738471915,
          0.20093823452644963,
          0.18465291942508757,
          0.1956222749575143,
          0.19673538433501173,
          0.1979888005526044,
          0.2068502898810626,
          0.1994458346706571,
          0.19621582869616855,
          0.18766726400951325,
          0.20493900329735468,
          0.2077890346255806,
          0.19100541551169387,
          0.20158307590403085,
          0.20182680922522608,
          0.2030755139932655,
          0.18826274739193505,
          0.1943137382472784,
          0.19579269541942926,
          0.18818950324866174,
          0.2008272713230484,
          0.20370009344742823,
          0.20228982008421423,
          0.20604258940011153,
          0.19392764615871916,
          0.2015882418307207,
          0.1886761026174344,
          0.19667252328599957,
          0.1925679591357766,
          0.20414714240735948,
          0.18468163909009,
          0.2047644749778565,
          0.20235279589519478,
          0.1844637685411937,
          0.20360094476023077,
          0.182977800884989,
          0.1848598171160906,
          0.1978014081448125,
          0.19773456803286446,
          0.19076611799642632,
          0.20476478650986712,
          0.20326696808842365,
          0.19096225019594976,
          0.19231863835893542,
          0.18412806996690387,
          0.19060819055477135,
          0.2131676717670751,
          0.19811663622475975,
          0.19945257845350178,
          0.18137070627299576,
          0.19793236884063814,
          0.19443613189776382,
          0.18761089202655884,
          0.19715505561160965,
          0.20509855143355077,
          0.1993054337990354,
          0.18595666093165386,
          0.19560035391611452,
          0.18730089545587703,
          0.18976700807823246,
          0.2040751824159914,
          0.1819277610406062,
          0.18174082795403376,
          0.19872258099855653,
          0.19411838630830458,
          0.19577006463476412,
          0.19322409137090735,
          0.19996660174420194,
          0.20092792732635784,
          0.1919725050946276,
          0.19607657050870264,
          0.2037989576889957,
          0.19819233528343683,
          0.20408819458683572,
          0.1826670884739215,
          0.18818190569276325,
          0.19852942860910286,
          0.18710129242937734,
          0.19579916174395656,
          0.19449444331005047,
          0.18920869095058887,
          0.18152483608225972,
          0.1898469210490319,
          0.19945581656519318,
          0.1978907767018596,
          0.1888084905816715,
          0.2056487306773226,
          0.18036822688505208,
          0.19036757493979772,
          0.19351553877584543,
          0.19055716523040253,
          0.19300999984584685,
          0.18729256767761773,
          0.19305246217915678,
          0.19757766254274187,
          0.19292300931780723,
          0.21296889973985714,
          0.19773043817411257,
          0.2041878026019682,
          0.20143336191069217,
          0.19891216048039514,
          0.19274026030818237,
          0.20364401506820792,
          0.19211686477971862,
          0.20949154596653263,
          0.20693270448968445,
          0.18607140153682747,
          0.19317111092767744,
          0.1905270070269624,
          0.2014818802848552,
          0.1924998162395217,
          0.19431457619601197,
          0.19763138182035309,
          0.1983211201499483,
          0.2112993737113219,
          0.1923894317443721,
          0.20718590205017962,
          0.2029959701831111,
          0.21433032417557177,
          0.19902956348126818,
          0.19702478371660587,
          0.19454604670441242,
          0.1946702295228407,
          0.19611879606051696,
          0.20451028419460462,
          0.1825284958597365,
          0.1934152885011348,
          0.2033154532785759,
          0.19836450704848888,
          0.2004340739274845,
          0.20103341001337527,
          0.19988577149747763,
          0.18910001915927993,
          0.21645863883144636,
          0.19499873909522183,
          0.1823272532598175,
          0.2041095985231752,
          0.19378103242544673,
          0.18792433099348368,
          0.19357411056705578,
          0.19994101520662272,
          0.1922736488393491,
          0.18510190714745156,
          0.20258221281474562,
          0.19817372215203377,
          0.1989914624365321,
          0.18262376958488497,
          0.20189933952651573,
          0.20174877815746114,
          0.1924919045661797,
          0.1880954879183466,
          0.20458125332536928,
          0.1978574368090801,
          0.19652648878496098,
          0.1917777706131733,
          0.19758397215731419,
          0.19879148046054515,
          0.20087600139153336,
          0.20469114481967404,
          0.18699730046929142,
          0.2115576337899639,
          0.19113152675007675,
          0.2011211743670465,
          0.20449165632954802,
          0.1938878129314402,
          0.19974504020995482,
          0.2008834366568678,
          0.2222674172976309,
          0.20697614959515528,
          0.19736958575374935,
          0.18500124606165513,
          0.20873952455343187,
          0.18725691919241022,
          0.21109435313929686,
          0.2112885040462138,
          0.1873317952777143,
          0.19211848102685286,
          0.19861078356713494,
          0.19670876027888112,
          0.19299094446142956,
          0.1800172153744658,
          0.18605361714142152,
          0.20190083611797016,
          0.19355601203757197,
          0.1936584115760173,
          0.18796453239363145,
          0.19959116218530712,
          0.19040242044386502,
          0.1933205989871782,
          0.2038072925967218,
          0.1869241008061228,
          0.1935285544718161,
          0.18230278211994796,
          0.20306633654898915,
          0.19272258923188973,
          0.20094923392869699,
          0.19806582358666242,
          0.2136644749740639,
          0.21191256039342496,
          0.1941678906788762,
          0.21224358890379696,
          0.18935907350698256,
          0.2106819112239311,
          0.20691919713408244,
          0.19220259650194385,
          0.21014959947073908,
          0.19392535956364562,
          0.1903342677247031,
          0.20932176111495107,
          0.18872681402916344,
          0.19481644245816043,
          0.1957314815248936,
          0.1867164810347615,
          0.1905708146677646,
          0.18606865159918257,
          0.2063886949997368,
          0.20026593054526592,
          0.19921637869381795,
          0.1913753513998317,
          0.1814099527048077,
          0.17911203972187162,
          0.2081725043658667,
          0.19561409379391784,
          0.20709286029040894,
          0.20270504612265888,
          0.18433152352418225,
          0.18357005664805298,
          0.18815568876998162,
          0.21902938731294758,
          0.1990075057131753,
          0.20991035794897006,
          0.196643703894819,
          0.20183119195511343,
          0.18646785819649792,
          0.20008127825350214,
          0.1819756904973059,
          0.20240142948567608,
          0.19688240183470748,
          0.20367632819767612,
          0.19602416299087957,
          0.18160109350734702,
          0.18325675831979021,
          0.19245703071352002,
          0.18850257480742103,
          0.21198552211516056,
          0.1979178026790966,
          0.20043273633733327,
          0.2129787581699711,
          0.19422112196749566,
          0.1909211403812973,
          0.20204236112844023,
          0.19760474024233,
          0.2122907553811618,
          0.1922000515138857,
          0.1916210242932996,
          0.19929713254841072,
          0.2046346876745014,
          0.18787108682172796,
          0.19849124410449043,
          0.196872332827857,
          0.21852460096920023,
          0.2020891816992999,
          0.18357632126203402,
          0.19083373410306112,
          0.19553755903136816,
          0.19244354038435066,
          0.19750060015006063,
          0.19643672591222733,
          0.19219669357619357,
          0.19618842186015137,
          0.19999204607064205,
          0.18867870566471792,
          0.19576374832766663,
          0.1958281018176738,
          0.18167629606621089,
          0.192662624840445,
          0.19242016782139776,
          0.20948741844652213,
          0.1976576152203236,
          0.19175551565243756,
          0.19908723464853537,
          0.17871576112065854,
          0.2070531362480236,
          0.20029453528920338,
          0.18867755774183897,
          0.19270712804818618,
          0.19686523440561188,
          0.1874912907817272,
          0.19157952878565981,
          0.20013965982954435,
          0.1890982233983819,
          0.2006223726435529,
          0.19825602271196038,
          0.20006821204509298,
          0.19160687852612115,
          0.18257678201075578,
          0.2043670979086879,
          0.18705079234665625,
          0.1985287076319445,
          0.19688739913026562,
          0.19757187449648053,
          0.18104136708834467,
          0.20615238394673718,
          0.198845573997157,
          0.2010280033139917,
          0.1815010475227358,
          0.20007242024658328,
          0.1922137359745317,
          0.18559420197974058,
          0.19332537064359565,
          0.18609543579777077,
          0.2107586950178796,
          0.20561855394363626,
          0.19869104618821737,
          0.1972223797956363,
          0.1908216205488125,
          0.1997522532946008,
          0.19165279413660188,
          0.20751799850569838,
          0.20555578491898063,
          0.21049627881386293,
          0.19333171654997922,
          0.19406927973641383,
          0.19825197446648618,
          0.20396628923844612,
          0.1888286249357771,
          0.19302352565202907,
          0.19924120896130076,
          0.19865204685556284,
          0.20820326176056037,
          0.19390723819031708,
          0.19554435121782987,
          0.18727362742081943,
          0.18749638711002173,
          0.2069462057846917,
          0.18411723422647638,
          0.1968470160145512,
          0.19887461374382787,
          0.20041351580338176,
          0.2178795733246242,
          0.1847614631438951,
          0.1934577494180895,
          0.2204775230135066,
          0.19812699243538237,
          0.19776090264396076,
          0.19475921581387845,
          0.1912944135584619,
          0.18991684269881717,
          0.20729538373690368,
          0.1917057411426944,
          0.19513018638887242,
          0.19086514475031954,
          0.20049710893938033,
          0.19767392953424942,
          0.21447260788925868,
          0.1999739121613219,
          0.19314520044548977,
          0.18293847514997047,
          0.18906957321612572,
          0.19992168844507804,
          0.20853954890496462,
          0.20699580335189458,
          0.20597956877177506,
          0.2068339491247487,
          0.2078944091827777,
          0.19759253855711126,
          0.1877320991613873,
          0.19530850035177627,
          0.20176497603421178,
          0.21022562721393542,
          0.18954272778451559,
          0.21615683944074732,
          0.20066412765701366,
          0.21020523558451157,
          0.20638866775061016,
          0.21667895694504302,
          0.1937390040311843,
          0.19630896560307384,
          0.21711111856335144,
          0.18656933166305653,
          0.2148751680899056,
          0.19478255365203398,
          0.1929970323496775,
          0.19730486678441136,
          0.19273016232906529,
          0.19378259873631898,
          0.2033180155483198,
          0.18234599668808196,
          0.1946446799536877,
          0.19222737172724005,
          0.18693160067569828,
          0.20240628728304436,
          0.187045273016237,
          0.19246985994280097,
          0.1920282370366245,
          0.19131031674381943,
          0.19412215488604836,
          0.20143816298381192,
          0.19924246017494324,
          0.19711591178079874,
          0.19875492179774967,
          0.20288429897194538,
          0.18622525821600056,
          0.18578554078288273,
          0.20072085030016631,
          0.2007774508249213,
          0.20840259724604182,
          0.19154686137171165,
          0.19799296940219152,
          0.22117446274349842,
          0.19299676456422024,
          0.1949924672620386,
          0.19602844325215016,
          0.20525265273843157,
          0.1935986099373338,
          0.20367580857654832,
          0.17810198155340518,
          0.20094790461405024,
          0.2002160203120403,
          0.1883586006553203,
          0.1958840811532933,
          0.20728032380828873,
          0.20703188519908253,
          0.17843871573967246,
          0.19358706371814732,
          0.18409485733296616,
          0.2075368889121855,
          0.2006239261730382,
          0.20014180962560044,
          0.19562958914666678,
          0.1889886532109368,
          0.20863448868771456,
          0.21789282883240274,
          0.19182799514529328,
          0.2254639707141052,
          0.19599568279004975,
          0.19105150224366077,
          0.1943241385151252,
          0.20224374215822163,
          0.20757968815740135,
          0.1968406307256293,
          0.20749863766638005,
          0.21284130740445584,
          0.2022610242301058,
          0.1976642900366415,
          0.20319057216453779,
          0.19556701594566905,
          0.18917566889581705,
          0.21014591587692763,
          0.19757645316383599,
          0.20915857024881107,
          0.19044103227145032,
          0.20240837946869242,
          0.20744899642953124,
          0.20839418742919172,
          0.1971409728101375,
          0.20375350760869815,
          0.20002030218996183,
          0.1944082251302598,
          0.18754575310406332,
          0.20107435581581376,
          0.186623583150927,
          0.193691120219485,
          0.20628857031584677,
          0.19416164234592992,
          0.18127830541877732,
          0.1914921228277917,
          0.203612143045113,
          0.19140262565437513,
          0.19456050717709977,
          0.20082841634262213,
          0.20908630873869088,
          0.1908622651665567,
          0.21006024346083937,
          0.2001717168225499,
          0.20538859936378354,
          0.20080297897917992,
          0.186094446922553,
          0.20412342513450293,
          0.18348940817335954,
          0.19001729945463877,
          0.18861398582781197,
          0.18853308263165122,
          0.18868007220387342,
          0.18498662551550207,
          0.21241957419918872,
          0.1986055358437702,
          0.20018757412316426,
          0.20249521984344465,
          0.20414467130399386,
          0.19241915220827624,
          0.19100905088282913,
          0.21295656475320043,
          0.18566251844278125,
          0.20576543955676635,
          0.20392531820363377,
          0.19247180244281772,
          0.19236909236451302,
          0.20306405770296723,
          0.1872775566673766,
          0.20209017531071588,
          0.21158899821983565,
          0.18717142587285177,
          0.20206055348677035,
          0.2050526560452045,
          0.1879345552521963,
          0.19828203550861045,
          0.2109006450364707,
          0.20609122935156268,
          0.2027395646018006,
          0.21221489361912235,
          0.21706670057215674,
          0.19224439104819874,
          0.20807148834751724,
          0.19758299943189067,
          0.1976305594522529,
          0.18188076837483377,
          0.19688939103743697,
          0.2003710535704753,
          0.19486754824732172,
          0.20876005102679068,
          0.2111684710970663,
          0.18646047308798486,
          0.1916299430779775,
          0.21062346885766478,
          0.19263504346296118,
          0.20798635563367388,
          0.19367154703088965,
          0.19916642750586028,
          0.2120649220335428,
          0.19514155293300492,
          0.20336177772830685,
          0.18950717748166326,
          0.20653287560614889,
          0.19836952052397958,
          0.18751618282605503,
          0.1901045207586008,
          0.19659420571562428,
          0.18883449076771247,
          0.18509109299018728,
          0.20410513975978314,
          0.1873648649574586,
          0.1917690520254986,
          0.18938645862990272,
          0.20922331754051854,
          0.20416466824700613,
          0.19575216032891563,
          0.19289905537021687,
          0.21863867456786834,
          0.1969266860162009,
          0.20386211538706273,
          0.1928357416739516,
          0.18802680261961505,
          0.19016913118727388,
          0.20748926985458446,
          0.20316403944586317,
          0.19660355610990257,
          0.18636667093997333,
          0.19785698493225473,
          0.18651400851015726,
          0.19020307425182095,
          0.20094929795330005,
          0.19440285092649942,
          0.19522858208798197,
          0.19155857092256853,
          0.19415778818103155,
          0.18727823439195515,
          0.1893101917443912,
          0.18804526479296793,
          0.20911028640577017,
          0.20426682207652613,
          0.1932740600172072,
          0.18893409062831323,
          0.203941530240803,
          0.188542133700282,
          0.18630595612663425,
          0.18766914469004045,
          0.1903830879498029,
          0.20016334945726358,
          0.20025537762794218,
          0.19802236871536405,
          0.19745451592833238,
          0.19316789861443856,
          0.2051938434447348,
          0.2000208521462339,
          0.2025185633171386,
          0.19377455506293073,
          0.1902624629535064,
          0.1992414382459222,
          0.19410619308485555,
          0.1865365505258623,
          0.19156098075150038,
          0.18389081884513422,
          0.20766574445755756,
          0.18263658051579001,
          0.20870829929648535,
          0.19494087653624875,
          0.21016623431976195,
          0.19341910136007373,
          0.18648013238710726,
          0.20697232390292356,
          0.1943560215733959,
          0.186028043891229,
          0.2012731269451046,
          0.19325121475123558,
          0.19003302693281537,
          0.20575576353213632,
          0.20911758646901676,
          0.19018639057323372,
          0.19926222647165873,
          0.18939845179838727,
          0.19356481845185713,
          0.1854685145924092,
          0.18970006385787122,
          0.20508691482069785,
          0.20499096329454805,
          0.1923887288212582,
          0.18898627791170888,
          0.19619438388297758,
          0.20731092519880226,
          0.1937883702398406,
          0.20913107189046612,
          0.1884559929741145,
          0.17538324765142768,
          0.19204337820895565,
          0.19506730370254735,
          0.2094534612967688,
          0.19401022840632537,
          0.1984246609376778,
          0.18942782761234858,
          0.1973557829863285,
          0.20259509217936927,
          0.17676936249176023,
          0.19359313926650867,
          0.1938712953846708,
          0.20297373966153506,
          0.20033046090574955,
          0.18675344290862517,
          0.20033307045498547,
          0.176361122287556,
          0.1970113530711256,
          0.18836992286929136,
          0.2239026968866477,
          0.18937092260679877,
          0.20629519297107535,
          0.19807998672838384,
          0.18660954306171668,
          0.1925832013831459,
          0.213982096934911,
          0.18702555986986122,
          0.18904215303695607,
          0.20657828437608222,
          0.19411553493083697,
          0.2068819294620608,
          0.1898791434444903,
          0.2263061529498514,
          0.1924947655991812,
          0.19593809876373025,
          0.21033418620076028,
          0.2001302573439887,
          0.21503467826702272,
          0.18821961245672328,
          0.20526804153037448,
          0.20219122196677233,
          0.19745656793681968,
          0.20065630759997433,
          0.1952544283384919,
          0.1974357347746656,
          0.20262073732019634,
          0.19594701777014265,
          0.19357411428194535,
          0.20547866680663823,
          0.1929063147617203,
          0.19318638953766187,
          0.19612130600544195,
          0.20098529275085264,
          0.19399287120468803,
          0.1931048792240463,
          0.19816346157722592,
          0.19399469065247177,
          0.1833082350940122,
          0.2026272256869871,
          0.19182085814213987,
          0.1940089076462101,
          0.20819975403766108,
          0.19831679101890573,
          0.20254133284258294,
          0.1972206926351064,
          0.18908161746582144,
          0.19576461614544582,
          0.20092296843706628,
          0.1967144700984436,
          0.20451839106255187,
          0.19784795709611325,
          0.19632989606751755,
          0.19611086044781317,
          0.19808981435108605,
          0.19532731687256913,
          0.18591344205907426,
          0.1996853246532604,
          0.19921278958242455,
          0.1898291462809917,
          0.22031728099631745,
          0.20041549506547168,
          0.1851041760807711,
          0.2014419019178237,
          0.2061841217572373,
          0.19985320805463028,
          0.1935481272032779,
          0.2001390755868823,
          0.20574866053452956,
          0.18569018567913695,
          0.2117512984372699,
          0.2041727526069538,
          0.18935013348976162,
          0.19396862285525054,
          0.2115370283460372,
          0.19029963614933723,
          0.19553689029560709,
          0.18443102813085507,
          0.19680524507426334,
          0.18217062593089273,
          0.1986429729004487,
          0.19178454451219673,
          0.19148498360502034,
          0.1917559457614532,
          0.2006751758396334,
          0.20624538119184516,
          0.17488789450754463,
          0.1859126062984515,
          0.18513277194626968,
          0.19801023994891842,
          0.18185443501859727,
          0.18488379133497038,
          0.19175735068257316,
          0.20527865950579474,
          0.197095000016611,
          0.1982837992610265,
          0.20684253991994017,
          0.21618025364857807,
          0.21353291398161803,
          0.18643682792035868,
          0.1966952207873219,
          0.20760254310267665,
          0.20303084340787012,
          0.18920502490638977,
          0.20273194415137086,
          0.19275682509146633,
          0.20215258468167205,
          0.20291748396963635,
          0.2065517320080451,
          0.19252981070536418,
          0.19632824947153857,
          0.20544705770130342,
          0.19590536419192053,
          0.1970547379194548,
          0.17593242187741684,
          0.19754531844615256,
          0.19171489164284494,
          0.2036787757193076,
          0.20070683743428688,
          0.19044229840174165,
          0.21154210536768814,
          0.19251034187902363,
          0.19078159073666012,
          0.19865919870122567,
          0.1994924607607332,
          0.18519032834578994,
          0.19404310508629108,
          0.19775155131315436,
          0.1934915252206682,
          0.19831116237730742,
          0.19025341600541432,
          0.19379939156811354,
          0.1767661684336071,
          0.20625667298643874,
          0.19250729154489507,
          0.19638599326404674,
          0.19834894832265199,
          0.19272747199545315,
          0.19158294996061842,
          0.18462736327302956,
          0.20889265868339388,
          0.19843491310267639,
          0.19814491466865622,
          0.1975150855232358,
          0.19321571992070077,
          0.19979580558038623,
          0.21119388672061282,
          0.1954525099236753,
          0.20774273017563216,
          0.19572560450336515,
          0.18557240788817495,
          0.204006511023213,
          0.2020369047441122,
          0.18581715915892197,
          0.18942789269855884,
          0.2086669311790735,
          0.1957379855665726,
          0.19732836877293927,
          0.1891563545626959,
          0.19761060698421382,
          0.2085443660135799,
          0.19741248597351152,
          0.19814599575728808,
          0.2068680931482102,
          0.19329659386715853,
          0.19758121474747847,
          0.19168053114539127,
          0.1843843921185965,
          0.2008906331152486,
          0.1965763848751859,
          0.1895696697456691,
          0.17682668886167272,
          0.19077949800580055,
          0.19581890039595076,
          0.19958732776752533,
          0.19232477912552565,
          0.2264404802279821,
          0.20147910752838114,
          0.20818226999473047,
          0.198914172905474,
          0.18956180228035382,
          0.20762182461497847,
          0.19827942295945744,
          0.20991630232412617,
          0.1863452084126915,
          0.2023570746531085,
          0.1854879456351394,
          0.20768462896834616,
          0.21640281378378767,
          0.1915147409321045,
          0.201647923934137,
          0.20461210073362668,
          0.20206406115812117,
          0.2120600407192823,
          0.1934718781362314,
          0.20893661611683523,
          0.20183745148769916,
          0.19083663308137203,
          0.20600285570792293,
          0.1955238433370798,
          0.1912278701627528,
          0.19045771117989532,
          0.19557146774041897,
          0.19802147428435848,
          0.20183606111184244,
          0.20086759877422827,
          0.20066177394405282,
          0.18156650060611856,
          0.19081979053558046,
          0.21598781180276203,
          0.19069387226630188,
          0.19549356608608304,
          0.1807990690953364,
          0.2046160769533675,
          0.20098136290470583,
          0.21829049885110732,
          0.19517086550814508,
          0.1872571709772046,
          0.20390897624493945,
          0.20242139021980934,
          0.18920001994786598,
          0.2024460547904383,
          0.20471906169705004,
          0.19379930055443584,
          0.1938623431519939,
          0.19060496103601418,
          0.18598164893251262,
          0.19922719480603784,
          0.20978051196101777,
          0.20035118253136877,
          0.19068271268372317,
          0.19366941177885874,
          0.20312174989657286,
          0.1826262802816897,
          0.2092446319209958,
          0.19553027356062982,
          0.1964442631570613,
          0.18449871004524865,
          0.1912323638511036,
          0.19075086140432382,
          0.21660149574758758,
          0.1935490642793266,
          0.19969986961014466,
          0.2087648481023896,
          0.20108362050132805,
          0.1873205125836538,
          0.18924318006237265,
          0.194411050626271,
          0.2021710179081803,
          0.19633516792387823,
          0.19208848064152517,
          0.1924343702387882,
          0.19677756609820468,
          0.19209279159175935,
          0.1967146820485336,
          0.1841229434711682,
          0.21141227844335017,
          0.20146442038260234,
          0.19000060944740416,
          0.2147859559088097,
          0.19353642868992812,
          0.18113877609540374,
          0.20425943517209447
         ],
         "y": [
          0.13463205741723763,
          0.1414532417290021,
          0.13209830727038618,
          0.15090424669544258,
          0.1504757393842157,
          0.1238008613259849,
          0.1437018220633974,
          0.153276587892668,
          0.13370056135109226,
          0.13974870460943184,
          0.15166564126364956,
          0.12427056697379638,
          0.143205804676963,
          0.1341098632178906,
          0.1141381014862968,
          0.12755590646571055,
          0.15408704978526105,
          0.1342002686232151,
          0.13544562043820493,
          0.1285683598476508,
          0.1558508109040309,
          0.13313873323274997,
          0.13396392258714396,
          0.12539424260859428,
          0.1422378787026019,
          0.1355745062085655,
          0.13294129656680703,
          0.13932174253660445,
          0.1351552867440613,
          0.1276910522295423,
          0.14161511758353332,
          0.1337383424185384,
          0.14176951186110906,
          0.12650852394078255,
          0.13044198765589043,
          0.13809804778573656,
          0.13978149652719826,
          0.12899538063048227,
          0.12292223711420631,
          0.13452664611277054,
          0.13730984380794625,
          0.15880580930757274,
          0.1297787757235571,
          0.13992890432618801,
          0.14871975591697756,
          0.13547931999215818,
          0.1333010654044797,
          0.12521650126806574,
          0.13640650962910467,
          0.13889638464444726,
          0.09849919794171452,
          0.13378590619864858,
          0.14270500307020945,
          0.1262332816150531,
          0.15408122594351797,
          0.13506878250878632,
          0.13778272162643027,
          0.15367360756930917,
          0.13255947721646433,
          0.14931087269188204,
          0.1443502168028258,
          0.13227746995095538,
          0.1385102980006822,
          0.1548915824532782,
          0.13651826056723926,
          0.11691681325089925,
          0.13797096893181868,
          0.12665827487700232,
          0.14386799494328475,
          0.11733714168433798,
          0.1548110647658651,
          0.16443783406420232,
          0.13395282240853698,
          0.12941064979179345,
          0.14388662719315834,
          0.13307082042416915,
          0.13867050672614564,
          0.1334230284315887,
          0.12452985760069936,
          0.13379405707163314,
          0.1380990560799894,
          0.13285763264172215,
          0.13137851572987114,
          0.14218861427011864,
          0.13909283137207126,
          0.13985725642931002,
          0.145501104916184,
          0.13181627556552405,
          0.13605822037216006,
          0.13534388807949677,
          0.13245024015497872,
          0.13025442258410866,
          0.12669002657185838,
          0.11306599342628032,
          0.13511753197032586,
          0.14395384305432965,
          0.13302420276827526,
          0.12401554906707815,
          0.14521614265872707,
          0.13741358433365547,
          0.13799708800334043,
          0.1428347668908069,
          0.15244130486993174,
          0.14017219158371336,
          0.14340163736093134,
          0.14374363488045777,
          0.1506561719769651,
          0.13104684623692675,
          0.1458156784789382,
          0.14224017390979235,
          0.14892308768193932,
          0.1258523228354891,
          0.13854706998585922,
          0.1479932859236029,
          0.13554747911413598,
          0.12502092839757528,
          0.1506752857403185,
          0.14588985321592374,
          0.1557347975583901,
          0.14501648857804877,
          0.14183081990662477,
          0.1260551708038182,
          0.13980831615978795,
          0.1361105038025727,
          0.12375592273261159,
          0.13235995546038568,
          0.13178881441735538,
          0.15769255450769804,
          0.12707707227066126,
          0.14358889984362044,
          0.12825607369948852,
          0.12778220348497707,
          0.13430237111032134,
          0.15209939481333484,
          0.14283581001601092,
          0.13730542170453752,
          0.1315443077318981,
          0.129260406344221,
          0.13309025468279895,
          0.11491537832800489,
          0.13454045692443756,
          0.13956838537850397,
          0.14006907634342047,
          0.15554509032703187,
          0.12971284828182245,
          0.13827603451273932,
          0.1320060849685855,
          0.1310718400955637,
          0.134962217324333,
          0.1489767769753487,
          0.1264777806743133,
          0.13389282723954155,
          0.14068584468586617,
          0.12510930381692523,
          0.1352467401923752,
          0.1362696466809064,
          0.11552510292096105,
          0.12657166462246686,
          0.1407342390171566,
          0.11102393017970419,
          0.14185533622340638,
          0.13887846571447587,
          0.13906164765327061,
          0.14758379066085778,
          0.13448293485217017,
          0.13593321663436517,
          0.14960130338992603,
          0.15225559108437406,
          0.1501423119360665,
          0.12878681663889982,
          0.12977352898099856,
          0.14313595259822165,
          0.13352294842470497,
          0.12658857546673788,
          0.1370765590511231,
          0.13707436323391692,
          0.1169937117128874,
          0.13021623226570253,
          0.14396390442197743,
          0.1318833084938812,
          0.1395718203290175,
          0.1551983683901324,
          0.13421387893751194,
          0.13840643590774523,
          0.134617972684771,
          0.13784300611648392,
          0.13906340215557517,
          0.13926623222314669,
          0.13600082946462227,
          0.14551522549664214,
          0.12911129026761556,
          0.16155961160266627,
          0.1376188358440212,
          0.14740001930033475,
          0.1425001894727319,
          0.14254696452368304,
          0.13473850073894011,
          0.14200698874321274,
          0.14476286596421473,
          0.15128642395824607,
          0.1477504263693708,
          0.1283464756883754,
          0.12525386903487695,
          0.1313064535153097,
          0.1379595457149682,
          0.14589402249042605,
          0.14303132560681334,
          0.14119574153266265,
          0.14690366524914653,
          0.1527506475277194,
          0.14307295119495755,
          0.14100822700815063,
          0.128426850016611,
          0.14188522921706254,
          0.13748530500695047,
          0.12943515265562672,
          0.13552421335243198,
          0.13468007207797392,
          0.12072026569718478,
          0.1461714254198569,
          0.12597387527701717,
          0.1316723557014368,
          0.14774803959665772,
          0.13846832784231278,
          0.14953738164755456,
          0.14973023279101078,
          0.13997842592945675,
          0.12462094167498491,
          0.16762173263192479,
          0.13749297864552704,
          0.12121996313229619,
          0.1491318257251091,
          0.13164192708862474,
          0.11651374090622788,
          0.13179129079642565,
          0.1432323065850466,
          0.13867934516168834,
          0.131555567792228,
          0.1411886720839437,
          0.14073015087571833,
          0.12993589271680947,
          0.12421979307531036,
          0.14494803732307124,
          0.14367228276904134,
          0.13030591999831556,
          0.13797953161081375,
          0.1534471719361204,
          0.15092292105066646,
          0.12683868016649297,
          0.13365755907325677,
          0.13126065484157112,
          0.1375300710563257,
          0.14591007228684938,
          0.14746646933488686,
          0.11289791091517887,
          0.1426189433974988,
          0.12950916107744959,
          0.15353575992035434,
          0.12842648833963605,
          0.14170398117709576,
          0.14759367279999833,
          0.14856762512030286,
          0.16738831176927732,
          0.152788787454651,
          0.13357173133893172,
          0.1375621398875456,
          0.15011559435892652,
          0.12676102148097562,
          0.13153226798082526,
          0.15535546577800194,
          0.13487672172269938,
          0.12404892292260263,
          0.14801807115065901,
          0.15295329012811737,
          0.142260804833272,
          0.12031275657163452,
          0.13827383710095587,
          0.1488436995024532,
          0.14859252166565665,
          0.12284458862523717,
          0.13459993680785026,
          0.1472438088856177,
          0.1330722198624388,
          0.1410696347918425,
          0.13423049882459254,
          0.1239747132203911,
          0.13148801164690213,
          0.12786248065746458,
          0.150208052948472,
          0.1377202920162034,
          0.14556206762648072,
          0.1423911008634493,
          0.16580345619798142,
          0.14682193663767684,
          0.14247051337892208,
          0.15676813681002005,
          0.1390100205090143,
          0.15658956727574283,
          0.14792083552800356,
          0.1411194052347639,
          0.14132153787652516,
          0.13713279803316505,
          0.1235192742370454,
          0.149355936498896,
          0.13643086564436158,
          0.14244534111978274,
          0.14450764459188326,
          0.12633829220893739,
          0.13759355072771487,
          0.13056694288778828,
          0.152692774860416,
          0.1497678455208259,
          0.14624321711451846,
          0.13417651847227255,
          0.12426514317746856,
          0.1261625423900073,
          0.15667565344940731,
          0.13898217830993498,
          0.15232533816504407,
          0.13422064402840578,
          0.12021517936682972,
          0.1252669633989655,
          0.1383682897833564,
          0.17474160615501882,
          0.13384332238532287,
          0.14244547324033197,
          0.124839515780233,
          0.13837763282184215,
          0.13136349084806365,
          0.14540943625399624,
          0.12103737197810707,
          0.14806214398557485,
          0.15112110952840144,
          0.14578672432854747,
          0.13089225971875698,
          0.11966106892957605,
          0.12015988415515338,
          0.12766933549034698,
          0.1395397584830606,
          0.15505023552248495,
          0.11891955134885354,
          0.14236946418442864,
          0.14698269961032878,
          0.11379389816763506,
          0.12179835745435945,
          0.14037758873793915,
          0.14837105678566756,
          0.15062354068211756,
          0.12501889237210026,
          0.14582725655932996,
          0.14034332714209033,
          0.14408593145736187,
          0.12344955926597152,
          0.14138551271777408,
          0.14946349952366778,
          0.16654830722585443,
          0.13512730382362573,
          0.1379591302530043,
          0.12289979126363364,
          0.146930853005455,
          0.12519821529279063,
          0.1382529773383927,
          0.13375931069703306,
          0.14045476060904552,
          0.1387125259191698,
          0.13357798352521277,
          0.1357404528154021,
          0.12742319272486635,
          0.1261976342605286,
          0.12259443611417575,
          0.1329843326819478,
          0.14276871585900053,
          0.14849688304861589,
          0.14218165961787332,
          0.13544756523387075,
          0.14207262970197984,
          0.1272198269901737,
          0.13092541947697361,
          0.1462249448806525,
          0.12916569194505276,
          0.1285066324375156,
          0.14770132556608387,
          0.12331843630102465,
          0.13804280441106118,
          0.14291171244315265,
          0.13417267580130904,
          0.14471276669273161,
          0.1500170738963971,
          0.15288418861848313,
          0.1419434696971098,
          0.12739215500424977,
          0.15050730304710444,
          0.14543646229300375,
          0.14962067441202265,
          0.1322986861012405,
          0.14485773621034934,
          0.13028677832641306,
          0.1604020590790083,
          0.14471787113784454,
          0.14156867053599884,
          0.13097995338665872,
          0.14921012086522747,
          0.121624681164155,
          0.13538806806519355,
          0.14344121783084784,
          0.13520243010625446,
          0.15740803225264793,
          0.15487414892471624,
          0.1438612905099061,
          0.15284127037794237,
          0.14688890817465106,
          0.1433779001896521,
          0.14206182739877807,
          0.1520635720630002,
          0.14118008237892957,
          0.15571994056863026,
          0.12497359014544668,
          0.13930828025420425,
          0.13374597575865638,
          0.13839658651349998,
          0.13849865251855695,
          0.13363072684240299,
          0.14906928353929944,
          0.13446167842722637,
          0.14635838398414514,
          0.14199742672726468,
          0.1425424491174601,
          0.13422141852908523,
          0.12935501307380576,
          0.13018835101334505,
          0.13067827515879188,
          0.14348360772903376,
          0.13906327174059732,
          0.1501447027115234,
          0.1607654229066842,
          0.1311938770377228,
          0.12095051890211458,
          0.13697828247641658,
          0.14433935739379913,
          0.13046592594945494,
          0.12658068481091012,
          0.12424268389283838,
          0.13017546842378974,
          0.1374901539221216,
          0.12486090962280379,
          0.144848910848838,
          0.14104726824927705,
          0.13372421766663783,
          0.14546004849428087,
          0.16631240986379286,
          0.1469221829197238,
          0.1365147129580726,
          0.12842700982255753,
          0.1264786385385159,
          0.12962346940973885,
          0.1381003090122782,
          0.1477282444226866,
          0.15101660582147414,
          0.1520748078018229,
          0.15029487624400442,
          0.1280992457029988,
          0.14001927284484308,
          0.15125083803637274,
          0.149451344007819,
          0.15995199953151665,
          0.1319354846174516,
          0.16640223286004147,
          0.13746874776895654,
          0.1611022165955555,
          0.15370753245761007,
          0.15364920111568764,
          0.14211018617225524,
          0.1385377824779948,
          0.16872180795605188,
          0.13093790949045706,
          0.155574511080495,
          0.13437690910427474,
          0.14017051505455932,
          0.1382497778113466,
          0.1394890172888922,
          0.13222480025140465,
          0.15183036265007033,
          0.13122008494942317,
          0.1457850774769636,
          0.1410440959782422,
          0.12749259450348452,
          0.14100735674025214,
          0.1309527171150898,
          0.1421048050935359,
          0.1392841962089329,
          0.1414749127126667,
          0.13203688519149775,
          0.13245731693358442,
          0.12971234799303383,
          0.14607528621992594,
          0.14377198392312934,
          0.14228155371249956,
          0.13012001241069615,
          0.12367284577268434,
          0.15215306964107858,
          0.15074016251997802,
          0.15541636900703548,
          0.13045444587060814,
          0.1477235238008484,
          0.1716764894393419,
          0.1366558528876164,
          0.13952254323995802,
          0.14412245955735808,
          0.1360804166513723,
          0.14156963384607046,
          0.1421790242807714,
          0.12423867480237423,
          0.1298862478542541,
          0.13948836994598826,
          0.12228081020624873,
          0.14950290020294635,
          0.14634055869595994,
          0.14696877486593155,
          0.11478914280419511,
          0.14994222539394325,
          0.12814876328991098,
          0.14945727396789998,
          0.15469765422845252,
          0.11915163621496448,
          0.13025510105365207,
          0.13772661229809754,
          0.14994421994943868,
          0.15882321600348032,
          0.13052197856022027,
          0.1724243898384577,
          0.12695470558019029,
          0.1355954345199901,
          0.13276993827508682,
          0.14313504494578907,
          0.15143119073678132,
          0.14794524327575967,
          0.15979528374354746,
          0.1442863548156895,
          0.1439629878414388,
          0.14447606415347464,
          0.13335870442524742,
          0.14425442332184635,
          0.14178094832286375,
          0.15897903101298638,
          0.13713026539112208,
          0.1496188586932918,
          0.12150241505154737,
          0.15184086695011498,
          0.15816324400830242,
          0.15581766098783922,
          0.1441318664705881,
          0.1394869795792391,
          0.13433913234067255,
          0.13136152386417074,
          0.121532340154129,
          0.15458746930809472,
          0.12577091046873135,
          0.14268696671256878,
          0.14937782931193477,
          0.13282494947966242,
          0.12995212359485012,
          0.1328127212483378,
          0.14570487142666536,
          0.13083100205881404,
          0.13403887543920645,
          0.13508059808721617,
          0.14149665406135692,
          0.1318874436088152,
          0.15232510835571322,
          0.12322617943163801,
          0.1510177136806966,
          0.14599657014119816,
          0.13014608307803124,
          0.1367394692674116,
          0.131013659743053,
          0.13767054399091727,
          0.12555819244116073,
          0.13899760966413863,
          0.13831451186668914,
          0.10911944035758439,
          0.1482564209772848,
          0.14258931977792802,
          0.14871747354639853,
          0.13442796437688648,
          0.14183962915799667,
          0.12893621232706098,
          0.13691830954469558,
          0.1315633969863128,
          0.11953016321297724,
          0.14275094258080906,
          0.147575672575117,
          0.14006632581795353,
          0.1292690263279068,
          0.13969640627750674,
          0.12459445642949078,
          0.14483234152329894,
          0.15089694682309773,
          0.13403832512807154,
          0.14473572118342415,
          0.14571477992046108,
          0.13284641326379895,
          0.15007964100963092,
          0.149819887637892,
          0.14917979795971895,
          0.14382690757878483,
          0.1525880416004059,
          0.16461960295070746,
          0.12367704309135343,
          0.15216064800878804,
          0.13642835278653898,
          0.1436474721752959,
          0.11994378488284863,
          0.14566334796396033,
          0.14255248749115604,
          0.1391275753071915,
          0.14781643911101353,
          0.14342724078760075,
          0.12782810477016396,
          0.130291060190271,
          0.1560042257429267,
          0.1414850283300275,
          0.12576796666703513,
          0.14146250495042323,
          0.13844853192771678,
          0.15167245644220886,
          0.1336158135598511,
          0.1375301139887721,
          0.13571188294562417,
          0.13676082656598645,
          0.13766405786489644,
          0.13386406057466524,
          0.1274597396937332,
          0.13625217376787985,
          0.14360953090664516,
          0.12473159368173445,
          0.15324522657417017,
          0.12241422018529718,
          0.13187593103420264,
          0.13385356695120343,
          0.1681874800641625,
          0.16144161275090085,
          0.13761940118348429,
          0.1356335373674885,
          0.1658109984115001,
          0.13666684170393756,
          0.1398829445191095,
          0.14080956901823674,
          0.1328441593325571,
          0.1359631854565061,
          0.14982379947995395,
          0.13219255625376464,
          0.13334906847507336,
          0.12687368468264368,
          0.14218912010238674,
          0.13876947924390415,
          0.12608124291886502,
          0.13457983803345214,
          0.1406858700005886,
          0.1348783823412183,
          0.14462528960691817,
          0.1423127969567532,
          0.13907450319617173,
          0.13068785610938516,
          0.1291135992618119,
          0.14454982482655324,
          0.1468402136526891,
          0.1385897638358993,
          0.13411059522167065,
          0.15202789192151864,
          0.13261552543030408,
          0.1362257888128348,
          0.13889635682412516,
          0.12883665183841939,
          0.12554934492863543,
          0.14333428216972624,
          0.13037001322615546,
          0.12115893333193942,
          0.14087110081806797,
          0.15187327011985244,
          0.14159028492435433,
          0.1493007338471489,
          0.13788523139547784,
          0.14097433456247774,
          0.13870552345165985,
          0.13461150598195598,
          0.10580047571940653,
          0.1376188312976493,
          0.1245562515066208,
          0.1511292867051764,
          0.13154538297711932,
          0.14738048073811194,
          0.14860477246647377,
          0.15883181720705702,
          0.1451131684370692,
          0.129243444612365,
          0.15752128667832263,
          0.13600201240621987,
          0.12035631151195243,
          0.14585316564180995,
          0.1350428865822405,
          0.1323075599166734,
          0.1486590299211055,
          0.13352171986011616,
          0.14376554202305833,
          0.1403712912603351,
          0.12419250788182545,
          0.13024227401704297,
          0.13354038809449148,
          0.13219863625231645,
          0.15241107917248684,
          0.1446323886413732,
          0.13598906669446403,
          0.1413218427842394,
          0.1417743263938159,
          0.1462438233827931,
          0.14708898537780749,
          0.14923532881340967,
          0.11928875893472965,
          0.11159310941503213,
          0.13255263604313808,
          0.13789672619718382,
          0.14499667773870295,
          0.1472871658627153,
          0.14453044770801507,
          0.1235224228445364,
          0.1437438006259013,
          0.14045406452584414,
          0.11931096912112775,
          0.13512688903048245,
          0.131929807877652,
          0.14602728841590082,
          0.15039377657593375,
          0.13243547167189615,
          0.15250543205360692,
          0.11708033496346566,
          0.14352401807986442,
          0.1379475786012411,
          0.162667698606471,
          0.12510967785795207,
          0.14101230104543927,
          0.13715815513629967,
          0.13183512389891122,
          0.13606267492541663,
          0.1460558700011522,
          0.12264671110601899,
          0.13859857728279,
          0.13401738467087945,
          0.14215672610906238,
          0.14560143353874036,
          0.1312914636057413,
          0.14778843811075262,
          0.12068325009853237,
          0.13839028907955475,
          0.15851335631629027,
          0.14952737181982959,
          0.16166508782894146,
          0.13606601012586275,
          0.12886926862252607,
          0.1387393296152247,
          0.13269196167862926,
          0.14679106974237907,
          0.13822149739435358,
          0.13700898132925174,
          0.14736803312171576,
          0.14733861960443237,
          0.13137511054005863,
          0.14089950178232385,
          0.14042211578644673,
          0.1396580275625896,
          0.1369875287332223,
          0.12944896570939,
          0.13399748669957398,
          0.13174677855643957,
          0.1414720006844547,
          0.13593809061687434,
          0.1314297984410934,
          0.15249774333015217,
          0.11674974327609343,
          0.14949743480929067,
          0.12707530221190658,
          0.14832668820648667,
          0.1531064796135596,
          0.12818285726057604,
          0.12806131415743954,
          0.1298068425858639,
          0.1286103796519263,
          0.13589905559725937,
          0.14396229851547943,
          0.14867189661466523,
          0.14698624530850984,
          0.1430279122526751,
          0.14945522130251904,
          0.1470077270572671,
          0.13488279787157006,
          0.1301484760409335,
          0.14989990272877113,
          0.14107580218334906,
          0.16503963197537408,
          0.14487974816367705,
          0.14041899721565274,
          0.14033005157939193,
          0.15528552962114936,
          0.1427456122925298,
          0.13853390558568038,
          0.13557976106584052,
          0.14669090901842866,
          0.1378969777620136,
          0.12379853980881793,
          0.1410635783879766,
          0.133565812652692,
          0.12403713173003675,
          0.13823229825985084,
          0.13689513656943073,
          0.13715861614306066,
          0.12739322636617292,
          0.1484758831720149,
          0.12191056522435659,
          0.13973431428349462,
          0.13845218759469402,
          0.13832521380296983,
          0.13835483346894695,
          0.15120655736675742,
          0.1459494163565846,
          0.12131702679274682,
          0.11766084923610172,
          0.12670955255118477,
          0.14038150389897572,
          0.12604326511330274,
          0.12705372506468207,
          0.14674666158377095,
          0.14366655258182615,
          0.1424640835677932,
          0.13464406407114715,
          0.15273632331534787,
          0.1584434165490971,
          0.15188925284612703,
          0.12911390856165256,
          0.1366204664285847,
          0.13684049046572364,
          0.14753945393517473,
          0.110354478648585,
          0.14041016429997488,
          0.14362720214179633,
          0.1395391362865343,
          0.14201564953233922,
          0.137368199360941,
          0.12943288340293232,
          0.1425639378197992,
          0.1525952193779287,
          0.1349125513396741,
          0.13241070379416597,
          0.12020399899486166,
          0.14128085879133417,
          0.1329217139991609,
          0.14604654894527638,
          0.13474873854206765,
          0.1278114150977228,
          0.11658900288278108,
          0.14152322385804061,
          0.13574736729412187,
          0.13535022396994892,
          0.15130873190514424,
          0.10510184546750397,
          0.13735649558695795,
          0.13297094969377637,
          0.1442289630345088,
          0.15400102078285477,
          0.14378376126976933,
          0.1274582775219084,
          0.123915644439838,
          0.15225781014269552,
          0.1306148467345527,
          0.1316072513124423,
          0.13885784735701928,
          0.13800927582886682,
          0.1390288629624078,
          0.12436804878894633,
          0.1459580163772188,
          0.13608885057146528,
          0.13816902141917467,
          0.13268183451257287,
          0.14240953772152967,
          0.14378458812862172,
          0.1599147797032807,
          0.13713711042032836,
          0.15222771811244304,
          0.14968217361735492,
          0.13309066335987202,
          0.1454732374406571,
          0.14894790098643346,
          0.1339523405316811,
          0.12939462568619042,
          0.13687241934607558,
          0.129854629519515,
          0.13813791213485704,
          0.12256985069746293,
          0.14576660494217233,
          0.15907561873577913,
          0.14274424976002786,
          0.13137517066932441,
          0.1555030664591044,
          0.13715237645462763,
          0.14090773855518107,
          0.13432325053179675,
          0.11865509049893382,
          0.15108281865248246,
          0.13882390369322384,
          0.1452548435067366,
          0.12853779186196568,
          0.12639769092049857,
          0.11443602819611787,
          0.1522912264511543,
          0.13834884290880822,
          0.168788295739292,
          0.1416014857548007,
          0.153035820861557,
          0.12769357778288665,
          0.1335177602755155,
          0.1509038535390867,
          0.14817378302403272,
          0.14025477543671783,
          0.13512066264960407,
          0.14141808932045707,
          0.13347380540858678,
          0.1378624513257888,
          0.15114806517911755,
          0.13239008253484794,
          0.129640415885104,
          0.1319977712797973,
          0.14935171258739488,
          0.1599836533361624,
          0.14200842198589828,
          0.14570948487228336,
          0.15366434479279656,
          0.13327695960114652,
          0.14704430164190258,
          0.13949947157155668,
          0.1451508625547506,
          0.13739617726899928,
          0.14451188043634203,
          0.14291140602178853,
          0.1447747048868879,
          0.1467732277175523,
          0.1310923028944461,
          0.11481436084092149,
          0.1398870623650899,
          0.15939996493036954,
          0.13639568996226875,
          0.1448988979324994,
          0.1252164414042427,
          0.12473776536843896,
          0.1492982795792316,
          0.15794557308935836,
          0.1296530835215094,
          0.10405692767280059,
          0.14644465880283053,
          0.15164651301993592,
          0.13302580972530734,
          0.151920911100842,
          0.12525306452388638,
          0.13114774802115123,
          0.1467573520045968,
          0.12162640122555658,
          0.13912185377683062,
          0.1513334580836452,
          0.16750809597540575,
          0.1415131992974661,
          0.1424567496465523,
          0.13754808784943465,
          0.13656408191340652,
          0.11437231129204971,
          0.15377986209943115,
          0.1401226575202809,
          0.13670693808520828,
          0.11860976445228835,
          0.13337619880522258,
          0.14068501103527442,
          0.1631701243378003,
          0.1403660400001876,
          0.13399748980050155,
          0.15794652933726225,
          0.14344106611890498,
          0.13680554448752588,
          0.13437985720710605,
          0.14296932730658143,
          0.14421184265999587,
          0.14850014510002957,
          0.1304941615034625,
          0.13584193472090383,
          0.14324365979228887,
          0.1311202460160162,
          0.142749145713533,
          0.13071740494391612,
          0.1565580021335,
          0.1382396614380827,
          0.12783276424474635,
          0.14875395590088233,
          0.1411144241887129,
          0.12496052100981848,
          0.1508372891501516
         ]
        }
       ],
       "layout": {
        "coloraxis": {
         "colorbar": {
          "title": {
           "text": "Sharpe Ratio"
          }
         }
        },
        "height": 500,
        "template": {
         "data": {
          "bar": [
           {
            "error_x": {
             "color": "#2a3f5f"
            },
            "error_y": {
             "color": "#2a3f5f"
            },
            "marker": {
             "line": {
              "color": "white",
              "width": 0.5
             }
            },
            "type": "bar"
           }
          ],
          "barpolar": [
           {
            "marker": {
             "line": {
              "color": "white",
              "width": 0.5
             }
            },
            "type": "barpolar"
           }
          ],
          "carpet": [
           {
            "aaxis": {
             "endlinecolor": "#2a3f5f",
             "gridcolor": "#C8D4E3",
             "linecolor": "#C8D4E3",
             "minorgridcolor": "#C8D4E3",
             "startlinecolor": "#2a3f5f"
            },
            "baxis": {
             "endlinecolor": "#2a3f5f",
             "gridcolor": "#C8D4E3",
             "linecolor": "#C8D4E3",
             "minorgridcolor": "#C8D4E3",
             "startlinecolor": "#2a3f5f"
            },
            "type": "carpet"
           }
          ],
          "choropleth": [
           {
            "colorbar": {
             "outlinewidth": 0,
             "ticks": ""
            },
            "type": "choropleth"
           }
          ],
          "contour": [
           {
            "colorbar": {
             "outlinewidth": 0,
             "ticks": ""
            },
            "colorscale": [
             [
              0,
              "#0d0887"
             ],
             [
              0.1111111111111111,
              "#46039f"
             ],
             [
              0.2222222222222222,
              "#7201a8"
             ],
             [
              0.3333333333333333,
              "#9c179e"
             ],
             [
              0.4444444444444444,
              "#bd3786"
             ],
             [
              0.5555555555555556,
              "#d8576b"
             ],
             [
              0.6666666666666666,
              "#ed7953"
             ],
             [
              0.7777777777777778,
              "#fb9f3a"
             ],
             [
              0.8888888888888888,
              "#fdca26"
             ],
             [
              1,
              "#f0f921"
             ]
            ],
            "type": "contour"
           }
          ],
          "contourcarpet": [
           {
            "colorbar": {
             "outlinewidth": 0,
             "ticks": ""
            },
            "type": "contourcarpet"
           }
          ],
          "heatmap": [
           {
            "colorbar": {
             "outlinewidth": 0,
             "ticks": ""
            },
            "colorscale": [
             [
              0,
              "#0d0887"
             ],
             [
              0.1111111111111111,
              "#46039f"
             ],
             [
              0.2222222222222222,
              "#7201a8"
             ],
             [
              0.3333333333333333,
              "#9c179e"
             ],
             [
              0.4444444444444444,
              "#bd3786"
             ],
             [
              0.5555555555555556,
              "#d8576b"
             ],
             [
              0.6666666666666666,
              "#ed7953"
             ],
             [
              0.7777777777777778,
              "#fb9f3a"
             ],
             [
              0.8888888888888888,
              "#fdca26"
             ],
             [
              1,
              "#f0f921"
             ]
            ],
            "type": "heatmap"
           }
          ],
          "heatmapgl": [
           {
            "colorbar": {
             "outlinewidth": 0,
             "ticks": ""
            },
            "colorscale": [
             [
              0,
              "#0d0887"
             ],
             [
              0.1111111111111111,
              "#46039f"
             ],
             [
              0.2222222222222222,
              "#7201a8"
             ],
             [
              0.3333333333333333,
              "#9c179e"
             ],
             [
              0.4444444444444444,
              "#bd3786"
             ],
             [
              0.5555555555555556,
              "#d8576b"
             ],
             [
              0.6666666666666666,
              "#ed7953"
             ],
             [
              0.7777777777777778,
              "#fb9f3a"
             ],
             [
              0.8888888888888888,
              "#fdca26"
             ],
             [
              1,
              "#f0f921"
             ]
            ],
            "type": "heatmapgl"
           }
          ],
          "histogram": [
           {
            "marker": {
             "colorbar": {
              "outlinewidth": 0,
              "ticks": ""
             }
            },
            "type": "histogram"
           }
          ],
          "histogram2d": [
           {
            "colorbar": {
             "outlinewidth": 0,
             "ticks": ""
            },
            "colorscale": [
             [
              0,
              "#0d0887"
             ],
             [
              0.1111111111111111,
              "#46039f"
             ],
             [
              0.2222222222222222,
              "#7201a8"
             ],
             [
              0.3333333333333333,
              "#9c179e"
             ],
             [
              0.4444444444444444,
              "#bd3786"
             ],
             [
              0.5555555555555556,
              "#d8576b"
             ],
             [
              0.6666666666666666,
              "#ed7953"
             ],
             [
              0.7777777777777778,
              "#fb9f3a"
             ],
             [
              0.8888888888888888,
              "#fdca26"
             ],
             [
              1,
              "#f0f921"
             ]
            ],
            "type": "histogram2d"
           }
          ],
          "histogram2dcontour": [
           {
            "colorbar": {
             "outlinewidth": 0,
             "ticks": ""
            },
            "colorscale": [
             [
              0,
              "#0d0887"
             ],
             [
              0.1111111111111111,
              "#46039f"
             ],
             [
              0.2222222222222222,
              "#7201a8"
             ],
             [
              0.3333333333333333,
              "#9c179e"
             ],
             [
              0.4444444444444444,
              "#bd3786"
             ],
             [
              0.5555555555555556,
              "#d8576b"
             ],
             [
              0.6666666666666666,
              "#ed7953"
             ],
             [
              0.7777777777777778,
              "#fb9f3a"
             ],
             [
              0.8888888888888888,
              "#fdca26"
             ],
             [
              1,
              "#f0f921"
             ]
            ],
            "type": "histogram2dcontour"
           }
          ],
          "mesh3d": [
           {
            "colorbar": {
             "outlinewidth": 0,
             "ticks": ""
            },
            "type": "mesh3d"
           }
          ],
          "parcoords": [
           {
            "line": {
             "colorbar": {
              "outlinewidth": 0,
              "ticks": ""
             }
            },
            "type": "parcoords"
           }
          ],
          "pie": [
           {
            "automargin": true,
            "type": "pie"
           }
          ],
          "scatter": [
           {
            "marker": {
             "colorbar": {
              "outlinewidth": 0,
              "ticks": ""
             }
            },
            "type": "scatter"
           }
          ],
          "scatter3d": [
           {
            "line": {
             "colorbar": {
              "outlinewidth": 0,
              "ticks": ""
             }
            },
            "marker": {
             "colorbar": {
              "outlinewidth": 0,
              "ticks": ""
             }
            },
            "type": "scatter3d"
           }
          ],
          "scattercarpet": [
           {
            "marker": {
             "colorbar": {
              "outlinewidth": 0,
              "ticks": ""
             }
            },
            "type": "scattercarpet"
           }
          ],
          "scattergeo": [
           {
            "marker": {
             "colorbar": {
              "outlinewidth": 0,
              "ticks": ""
             }
            },
            "type": "scattergeo"
           }
          ],
          "scattergl": [
           {
            "marker": {
             "colorbar": {
              "outlinewidth": 0,
              "ticks": ""
             }
            },
            "type": "scattergl"
           }
          ],
          "scattermapbox": [
           {
            "marker": {
             "colorbar": {
              "outlinewidth": 0,
              "ticks": ""
             }
            },
            "type": "scattermapbox"
           }
          ],
          "scatterpolar": [
           {
            "marker": {
             "colorbar": {
              "outlinewidth": 0,
              "ticks": ""
             }
            },
            "type": "scatterpolar"
           }
          ],
          "scatterpolargl": [
           {
            "marker": {
             "colorbar": {
              "outlinewidth": 0,
              "ticks": ""
             }
            },
            "type": "scatterpolargl"
           }
          ],
          "scatterternary": [
           {
            "marker": {
             "colorbar": {
              "outlinewidth": 0,
              "ticks": ""
             }
            },
            "type": "scatterternary"
           }
          ],
          "surface": [
           {
            "colorbar": {
             "outlinewidth": 0,
             "ticks": ""
            },
            "colorscale": [
             [
              0,
              "#0d0887"
             ],
             [
              0.1111111111111111,
              "#46039f"
             ],
             [
              0.2222222222222222,
              "#7201a8"
             ],
             [
              0.3333333333333333,
              "#9c179e"
             ],
             [
              0.4444444444444444,
              "#bd3786"
             ],
             [
              0.5555555555555556,
              "#d8576b"
             ],
             [
              0.6666666666666666,
              "#ed7953"
             ],
             [
              0.7777777777777778,
              "#fb9f3a"
             ],
             [
              0.8888888888888888,
              "#fdca26"
             ],
             [
              1,
              "#f0f921"
             ]
            ],
            "type": "surface"
           }
          ],
          "table": [
           {
            "cells": {
             "fill": {
              "color": "#EBF0F8"
             },
             "line": {
              "color": "white"
             }
            },
            "header": {
             "fill": {
              "color": "#C8D4E3"
             },
             "line": {
              "color": "white"
             }
            },
            "type": "table"
           }
          ]
         },
         "layout": {
          "annotationdefaults": {
           "arrowcolor": "#2a3f5f",
           "arrowhead": 0,
           "arrowwidth": 1
          },
          "autotypenumbers": "strict",
          "coloraxis": {
           "colorbar": {
            "outlinewidth": 0,
            "ticks": ""
           }
          },
          "colorscale": {
           "diverging": [
            [
             0,
             "#8e0152"
            ],
            [
             0.1,
             "#c51b7d"
            ],
            [
             0.2,
             "#de77ae"
            ],
            [
             0.3,
             "#f1b6da"
            ],
            [
             0.4,
             "#fde0ef"
            ],
            [
             0.5,
             "#f7f7f7"
            ],
            [
             0.6,
             "#e6f5d0"
            ],
            [
             0.7,
             "#b8e186"
            ],
            [
             0.8,
             "#7fbc41"
            ],
            [
             0.9,
             "#4d9221"
            ],
            [
             1,
             "#276419"
            ]
           ],
           "sequential": [
            [
             0,
             "#0d0887"
            ],
            [
             0.1111111111111111,
             "#46039f"
            ],
            [
             0.2222222222222222,
             "#7201a8"
            ],
            [
             0.3333333333333333,
             "#9c179e"
            ],
            [
             0.4444444444444444,
             "#bd3786"
            ],
            [
             0.5555555555555556,
             "#d8576b"
            ],
            [
             0.6666666666666666,
             "#ed7953"
            ],
            [
             0.7777777777777778,
             "#fb9f3a"
            ],
            [
             0.8888888888888888,
             "#fdca26"
            ],
            [
             1,
             "#f0f921"
            ]
           ],
           "sequentialminus": [
            [
             0,
             "#0d0887"
            ],
            [
             0.1111111111111111,
             "#46039f"
            ],
            [
             0.2222222222222222,
             "#7201a8"
            ],
            [
             0.3333333333333333,
             "#9c179e"
            ],
            [
             0.4444444444444444,
             "#bd3786"
            ],
            [
             0.5555555555555556,
             "#d8576b"
            ],
            [
             0.6666666666666666,
             "#ed7953"
            ],
            [
             0.7777777777777778,
             "#fb9f3a"
            ],
            [
             0.8888888888888888,
             "#fdca26"
            ],
            [
             1,
             "#f0f921"
            ]
           ]
          },
          "colorway": [
           "#636efa",
           "#EF553B",
           "#00cc96",
           "#ab63fa",
           "#FFA15A",
           "#19d3f3",
           "#FF6692",
           "#B6E880",
           "#FF97FF",
           "#FECB52"
          ],
          "font": {
           "color": "#2a3f5f"
          },
          "geo": {
           "bgcolor": "white",
           "lakecolor": "white",
           "landcolor": "white",
           "showlakes": true,
           "showland": true,
           "subunitcolor": "#C8D4E3"
          },
          "hoverlabel": {
           "align": "left"
          },
          "hovermode": "closest",
          "mapbox": {
           "style": "light"
          },
          "paper_bgcolor": "white",
          "plot_bgcolor": "white",
          "polar": {
           "angularaxis": {
            "gridcolor": "#EBF0F8",
            "linecolor": "#EBF0F8",
            "ticks": ""
           },
           "bgcolor": "white",
           "radialaxis": {
            "gridcolor": "#EBF0F8",
            "linecolor": "#EBF0F8",
            "ticks": ""
           }
          },
          "scene": {
           "xaxis": {
            "backgroundcolor": "white",
            "gridcolor": "#DFE8F3",
            "gridwidth": 2,
            "linecolor": "#EBF0F8",
            "showbackground": true,
            "ticks": "",
            "zerolinecolor": "#EBF0F8"
           },
           "yaxis": {
            "backgroundcolor": "white",
            "gridcolor": "#DFE8F3",
            "gridwidth": 2,
            "linecolor": "#EBF0F8",
            "showbackground": true,
            "ticks": "",
            "zerolinecolor": "#EBF0F8"
           },
           "zaxis": {
            "backgroundcolor": "white",
            "gridcolor": "#DFE8F3",
            "gridwidth": 2,
            "linecolor": "#EBF0F8",
            "showbackground": true,
            "ticks": "",
            "zerolinecolor": "#EBF0F8"
           }
          },
          "shapedefaults": {
           "line": {
            "color": "#2a3f5f"
           }
          },
          "ternary": {
           "aaxis": {
            "gridcolor": "#DFE8F3",
            "linecolor": "#A2B1C6",
            "ticks": ""
           },
           "baxis": {
            "gridcolor": "#DFE8F3",
            "linecolor": "#A2B1C6",
            "ticks": ""
           },
           "bgcolor": "white",
           "caxis": {
            "gridcolor": "#DFE8F3",
            "linecolor": "#A2B1C6",
            "ticks": ""
           }
          },
          "title": {
           "x": 0.05
          },
          "xaxis": {
           "automargin": true,
           "gridcolor": "#EBF0F8",
           "linecolor": "#EBF0F8",
           "ticks": "",
           "title": {
            "standoff": 15
           },
           "zerolinecolor": "#EBF0F8",
           "zerolinewidth": 2
          },
          "yaxis": {
           "automargin": true,
           "gridcolor": "#EBF0F8",
           "linecolor": "#EBF0F8",
           "ticks": "",
           "title": {
            "standoff": 15
           },
           "zerolinecolor": "#EBF0F8",
           "zerolinewidth": 2
          }
         }
        },
        "title": {
         "text": "Sample of Random Portfolios"
        },
        "width": 850,
        "xaxis": {
         "title": {
          "text": "Annualised Risk (Volatility)"
         }
        },
        "yaxis": {
         "title": {
          "text": "Annualised Return"
         }
        }
       }
      }
     },
     "metadata": {},
     "output_type": "display_data"
    }
   ],
   "source": [
    "#-- Plot the risk vs. return of randomly generated portfolios\n",
    "#-- Convert the list from before into an array for easy plotting\n",
    "mean_variance_pairs = np.array(mean_variance_pairs)\n",
    "\n",
    "fig = go.Figure()\n",
    "fig.add_trace(go.Scatter(x=mean_variance_pairs[:,1]**0.5, y=mean_variance_pairs[:,0], \n",
    "                      marker=dict(color=(mean_variance_pairs[:,0]-risk_free_rate)/(mean_variance_pairs[:,1]**0.5), \n",
    "                                  showscale=True, \n",
    "                                  size=7,\n",
    "                                  line=dict(width=1),\n",
    "                                  colorscale=\"RdBu\",\n",
    "                                  colorbar=dict(title=\"Sharpe<br>Ratio\")\n",
    "                                 ), \n",
    "                      mode='markers'))\n",
    "fig.update_layout(template='plotly_white',\n",
    "                  xaxis=dict(title='Annualised Risk (Volatility)'),\n",
    "                  yaxis=dict(title='Annualised Return'),\n",
    "                  title='Sample of Random Portfolios',\n",
    "                  width=850,\n",
    "                  height=500)\n",
    "# fig.update_xaxes(range=[0.18, 0.32])\n",
    "# fig.update_yaxes(range=[0.02,0.27])\n",
    "fig.update_layout(coloraxis_colorbar=dict(title=\"Sharpe Ratio\"))"
   ]
  },
  {
   "cell_type": "code",
   "execution_count": 57,
   "metadata": {},
   "outputs": [
    {
     "name": "stderr",
     "output_type": "stream",
     "text": [
      "100%|██████████| 10000/10000 [00:09<00:00, 1070.73it/s]\n"
     ]
    }
   ],
   "source": [
    "#-- Create random portfolio weights and indexes\n",
    "#- How many assests in the portfolio\n",
    "n_assets = 5\n",
    "\n",
    "mean_variance_pairs = []\n",
    "weights_list=[]\n",
    "tickers_list=[]\n",
    "\n",
    "for i in tqdm(range(10000)):\n",
    "    next_i = False\n",
    "    while True:\n",
    "        #- Choose assets randomly without replacement\n",
    "        assets = np.random.choice(list(daily_returns.columns), n_assets, replace=False)\n",
    "        #- Choose weights randomly ensuring they sum to one\n",
    "        weights = np.random.rand(n_assets)\n",
    "        weights = weights/sum(weights)\n",
    "\n",
    "        #-- Loop over asset pairs and compute portfolio return and variance\n",
    "        portfolio_E_Variance = 0\n",
    "        portfolio_E_Return = 0\n",
    "        for i in range(len(assets)):\n",
    "            portfolio_E_Return += weights[i] * mus.loc[assets[i]]\n",
    "            for j in range(len(assets)):\n",
    "                portfolio_E_Variance += weights[i] * weights[j] * cov.loc[assets[i], assets[j]]\n",
    "\n",
    "        #-- Skip over dominated portfolios\n",
    "        for R,V in mean_variance_pairs:\n",
    "            if (R > portfolio_E_Return) & (V < portfolio_E_Variance):\n",
    "                next_i = True\n",
    "                break\n",
    "        if next_i:\n",
    "            break\n",
    "\n",
    "        #-- Add the mean/variance pairs to a list for plotting\n",
    "        mean_variance_pairs.append([portfolio_E_Return, portfolio_E_Variance])\n",
    "        weights_list.append(weights)\n",
    "        tickers_list.append(assets)\n",
    "        break"
   ]
  },
  {
   "cell_type": "code",
   "execution_count": 58,
   "metadata": {},
   "outputs": [
    {
     "data": {
      "application/vnd.plotly.v1+json": {
       "config": {
        "plotlyServerURL": "https://plot.ly"
       },
       "data": [
        {
         "marker": {
          "color": [
           0.7327881054832253,
           0.7542161309105138,
           0.6027726542128208,
           0.7242368960637403,
           0.6194676627525554,
           0.778135472609475,
           0.7565132453706944,
           0.702182452287129,
           0.7181746423866515,
           0.6613947867380725,
           0.7738926054553349,
           0.7308882715413539,
           0.7712216376398701,
           0.7013859453333786,
           0.7600588541436397,
           0.7932213977046887,
           0.7492049554912952,
           0.7417931401251827,
           0.7020391393377587,
           0.7495176273106825,
           0.7002735403757923,
           0.7220543372227703,
           0.7068461318181124,
           0.7666985277339968,
           0.7793754745503244,
           0.7656892238387611,
           0.7736047973357362,
           0.7641604120523675,
           0.7701980414284858,
           0.7976022757564687,
           0.7703961157845667,
           0.7585206054481624,
           0.7636767706953794,
           0.7566960297290416,
           0.792956313275851,
           0.7859428184243107,
           0.7858173181580311,
           0.7597492317818918,
           0.784955887675133,
           0.7757723225136314,
           0.8074953352602449,
           0.7923547376344273,
           0.8065881414220922,
           0.7623839276745413,
           0.7622554173666036,
           0.7904513359781463,
           0.6022272501435304,
           0.7942073805150959,
           0.6717617542921822,
           0.7539947820710052,
           0.7969417419496222,
           0.6875011770615105,
           0.7819747586937331,
           0.7596414465743211,
           0.48846634364286473,
           0.6960587606532316,
           0.80644166211775,
           0.7955963800107585,
           0.7800147936990439,
           0.8116042683304506,
           0.7947962077012921,
           0.6266225283779948,
           0.8136530656558928,
           0.8129351441805924,
           0.6058960188692958,
           0.6980871717202173,
           0.7939362492748606,
           0.7766519025336045,
           0.8001068889445982,
           0.7730266395483939,
           0.8024132558129196,
           0.7701783859296489,
           0.7967138688460423,
           0.6624755227473215,
           0.7868700416126269,
           0.771638180897846,
           0.6913963953929241,
           0.8159577293945967,
           0.7967685859787264,
           0.7142385617633016,
           0.7126594532858171,
           0.8008185557863574,
           0.8133505117462498,
           0.7675496938047867,
           0.7687421796758774,
           0.5854171701853083,
           0.7832189966540978,
           0.7772402963857226,
           0.7827549090308441,
           0.7830911738283622,
           0.694516884665831,
           0.6776451189101439,
           0.8036698543474294,
           0.8017119388663759,
           0.7232252070402606,
           0.7682838491907198,
           0.5675987205720351,
           0.6679115978131024,
           0.7292210080970065,
           0.8123692154322304,
           0.8076267049008005,
           0.8134301646609035,
           0.8097655149047576,
           0.7956971982911627,
           0.7880902365423103,
           0.786745016764662,
           0.695664946767153,
           0.6342903638123076,
           0.7728411946501322,
           0.7870971194881845,
           0.7427216638980922,
           0.6744866336797443,
           0.7329925437947776,
           0.726838043952861,
           0.6942708090004077,
           0.8111199194674283,
           0.8091698510254619,
           0.7831734856349294,
           0.8121967115238881,
           0.7940804350609497,
           0.756651822747655,
           0.7101460836429168,
           0.8009600386228988,
           0.7370886519006943,
           0.6064621539168449,
           0.7930512990254734,
           0.8118794881618221,
           0.7451878925008154,
           0.7920565842664493,
           0.6311146912851904,
           0.7955230454693478,
           0.74195208701393,
           0.795898615462323,
           0.8171988641531467,
           0.7974576832689849,
           0.8060796329256563,
           0.8055310257092881,
           0.7060965183157462,
           0.7584489289928098,
           0.7331603349057869,
           0.7888925458444274,
           0.8007066123087524,
           0.8097386786170979,
           0.7710754496569063,
           0.8040846318445254,
           0.7828939662155168,
           0.8057947797999814,
           0.7362431061157924,
           0.7672986456949326,
           0.7081543182955382,
           0.814597444811661,
           0.790285634918302,
           0.7655932037742411,
           0.5963687807742565,
           0.7044705811205869,
           0.598336395099871,
           0.8104466045270087,
           0.8015218796946866,
           0.8180165845111051,
           0.8040253720584027,
           0.577321379764486,
           0.8072480721945041,
           0.7740314339583028,
           0.8170956361221952,
           0.7466040949996973,
           0.811997107500487,
           0.7629801712379154,
           0.8065703702515742,
           0.8171088981812901,
           0.789499807268342,
           0.8102683082802076,
           0.750671997215938,
           0.8148926263964592,
           0.7803461631553711,
           0.8077395855064046,
           0.63025767612731,
           0.8137861005868826,
           0.6519897715860047,
           0.8076903282406572,
           0.8129060134129215,
           0.7716438363965642,
           0.809176484459526,
           0.7308536472240308,
           0.7942716094678242,
           0.8056381333444803,
           0.8043502049810435,
           0.6918535288182196,
           0.8136191772446119,
           0.8013293874173949,
           0.7792615967608224,
           0.8164554947572825,
           0.7805908754153266,
           0.7933844747320491,
           0.7926531163916437,
           0.8102384043049512,
           0.8101914703866678,
           0.8026967013895489,
           0.8157101134962065,
           0.7983726472393563,
           0.7465477227850821,
           0.8153102887848772,
           0.7035991884714602,
           0.7843299542535133,
           0.8148834674167137,
           0.7814096240076962
          ],
          "colorbar": {
           "title": {
            "text": "Sharpe<br>Ratio"
           }
          },
          "colorscale": [
           [
            0,
            "rgb(103,0,31)"
           ],
           [
            0.1,
            "rgb(178,24,43)"
           ],
           [
            0.2,
            "rgb(214,96,77)"
           ],
           [
            0.3,
            "rgb(244,165,130)"
           ],
           [
            0.4,
            "rgb(253,219,199)"
           ],
           [
            0.5,
            "rgb(247,247,247)"
           ],
           [
            0.6,
            "rgb(209,229,240)"
           ],
           [
            0.7,
            "rgb(146,197,222)"
           ],
           [
            0.8,
            "rgb(67,147,195)"
           ],
           [
            0.9,
            "rgb(33,102,172)"
           ],
           [
            1,
            "rgb(5,48,97)"
           ]
          ],
          "line": {
           "width": 1
          },
          "showscale": true,
          "size": 7
         },
         "mode": "markers",
         "text": [
          "['KO' 'MSFT' 'ABT' 'JPM' 'AAPL']<br>[0.28 0.28 0.26 0.16 0.02]",
          "['JPM' 'TGT' 'GOOGL' 'MSFT' 'ABT']<br>[0.12 0.12 0.03 0.4  0.34]",
          "['KO' 'JPM' 'GOOGL' 'HTH' 'ABT']<br>[0.3  0.   0.27 0.13 0.3 ]",
          "['ABT' 'MSFT' 'GOOGL' 'WMT' 'JPM']<br>[0.13 0.27 0.25 0.31 0.04]",
          "['ABT' 'WMT' 'AAPL' 'HTH' 'AMZN']<br>[0.15 0.34 0.12 0.25 0.13]",
          "['WMT' 'AMZN' 'TGT' 'JPM' 'MSFT']<br>[0.22 0.35 0.01 0.15 0.27]",
          "['ABT' 'AAPL' 'KO' 'JPM' 'MSFT']<br>[0.26 0.21 0.23 0.13 0.18]",
          "['KO' 'AAPL' 'ABT' 'WMT' 'AMZN']<br>[0.25 0.19 0.23 0.3  0.03]",
          "['WMT' 'KO' 'AMZN' 'GOOGL' 'AAPL']<br>[0.19 0.25 0.32 0.2  0.03]",
          "['AMZN' 'ABT' 'HTH' 'TGT' 'GOOGL']<br>[0.71 0.02 0.08 0.04 0.15]",
          "['AMZN' 'ABT' 'MSFT' 'AAPL' 'GOOGL']<br>[0.23 0.14 0.22 0.2  0.21]",
          "['WMT' 'TGT' 'ABT' 'AAPL' 'AMZN']<br>[0.06 0.25 0.28 0.25 0.16]",
          "['AMZN' 'JPM' 'MSFT' 'AAPL' 'GOOGL']<br>[0.23 0.17 0.26 0.16 0.18]",
          "['ABT' 'AMZN' 'KO' 'WMT' 'HTH']<br>[0.18 0.27 0.17 0.29 0.08]",
          "['AAPL' 'ABT' 'JPM' 'AMZN' 'KO']<br>[0.15 0.19 0.16 0.27 0.22]",
          "['GOOGL' 'AMZN' 'TGT' 'AAPL' 'MSFT']<br>[0.05 0.2  0.2  0.23 0.32]",
          "['JPM' 'MSFT' 'KO' 'WMT' 'ABT']<br>[0.21 0.35 0.09 0.25 0.11]",
          "['AMZN' 'MSFT' 'AAPL' 'ABT' 'GOOGL']<br>[0.31 0.1  0.08 0.3  0.21]",
          "['WMT' 'JPM' 'KO' 'GOOGL' 'AMZN']<br>[0.27 0.27 0.13 0.04 0.3 ]",
          "['MSFT' 'JPM' 'AMZN' 'ABT' 'KO']<br>[0.15 0.24 0.23 0.25 0.12]",
          "['GOOGL' 'WMT' 'ABT' 'JPM' 'AMZN']<br>[0.15 0.28 0.28 0.13 0.16]",
          "['TGT' 'AAPL' 'AMZN' 'MSFT' 'KO']<br>[0.08 0.28 0.02 0.09 0.54]",
          "['GOOGL' 'KO' 'JPM' 'WMT' 'AAPL']<br>[0.01 0.3  0.08 0.28 0.33]",
          "['AAPL' 'MSFT' 'ABT' 'WMT' 'TGT']<br>[0.18 0.24 0.26 0.29 0.02]",
          "['HTH' 'TGT' 'MSFT' 'AAPL' 'JPM']<br>[0.02 0.03 0.39 0.33 0.23]",
          "['MSFT' 'WMT' 'ABT' 'AAPL' 'HTH']<br>[0.33 0.09 0.35 0.16 0.07]",
          "['MSFT' 'AMZN' 'ABT' 'WMT' 'KO']<br>[0.19 0.19 0.27 0.11 0.24]",
          "['AAPL' 'ABT' 'GOOGL' 'TGT' 'AMZN']<br>[0.43 0.16 0.02 0.16 0.24]",
          "['HTH' 'AMZN' 'MSFT' 'KO' 'GOOGL']<br>[0.04 0.18 0.33 0.34 0.1 ]",
          "['AMZN' 'TGT' 'ABT' 'KO' 'MSFT']<br>[0.28 0.01 0.12 0.29 0.31]",
          "['ABT' 'MSFT' 'WMT' 'KO' 'AMZN']<br>[0.25 0.14 0.13 0.24 0.25]",
          "['MSFT' 'KO' 'AAPL' 'TGT' 'WMT']<br>[0.25 0.29 0.14 0.04 0.28]",
          "['MSFT' 'AMZN' 'JPM' 'ABT' 'GOOGL']<br>[0.24 0.33 0.27 0.14 0.02]",
          "['AAPL' 'MSFT' 'GOOGL' 'KO' 'WMT']<br>[0.33 0.23 0.27 0.16 0.01]",
          "['AMZN' 'KO' 'AAPL' 'MSFT' 'TGT']<br>[0.31 0.23 0.25 0.12 0.08]",
          "['AAPL' 'ABT' 'MSFT' 'KO' 'TGT']<br>[0.21 0.27 0.27 0.2  0.05]",
          "['MSFT' 'KO' 'JPM' 'GOOGL' 'AAPL']<br>[0.44 0.03 0.05 0.17 0.31]",
          "['WMT' 'MSFT' 'KO' 'GOOGL' 'AAPL']<br>[0.29 0.15 0.13 0.07 0.36]",
          "['ABT' 'KO' 'WMT' 'AMZN' 'MSFT']<br>[0.06 0.31 0.16 0.25 0.22]",
          "['AAPL' 'JPM' 'WMT' 'MSFT' 'KO']<br>[0.12 0.   0.18 0.33 0.37]",
          "['JPM' 'AMZN' 'MSFT' 'KO' 'AAPL']<br>[0.11 0.21 0.27 0.07 0.33]",
          "['AAPL' 'MSFT' 'AMZN' 'WMT' 'TGT']<br>[0.27 0.17 0.28 0.22 0.06]",
          "['KO' 'AMZN' 'AAPL' 'MSFT' 'JPM']<br>[0.27 0.15 0.26 0.25 0.08]",
          "['TGT' 'MSFT' 'ABT' 'GOOGL' 'AAPL']<br>[0.04 0.16 0.24 0.14 0.42]",
          "['WMT' 'JPM' 'AAPL' 'AMZN' 'KO']<br>[0.2  0.02 0.21 0.24 0.33]",
          "['TGT' 'AMZN' 'MSFT' 'WMT' 'GOOGL']<br>[0.03 0.27 0.46 0.15 0.09]",
          "['MSFT' 'KO' 'GOOGL' 'ABT' 'WMT']<br>[0.01 0.4  0.   0.4  0.18]",
          "['WMT' 'AAPL' 'ABT' 'MSFT' 'AMZN']<br>[0.32 0.06 0.14 0.34 0.14]",
          "['GOOGL' 'ABT' 'KO' 'MSFT' 'WMT']<br>[0.07 0.22 0.3  0.11 0.3 ]",
          "['AAPL' 'KO' 'ABT' 'JPM' 'MSFT']<br>[0.16 0.25 0.07 0.25 0.28]",
          "['GOOGL' 'AMZN' 'KO' 'TGT' 'MSFT']<br>[0.01 0.19 0.35 0.05 0.39]",
          "['WMT' 'MSFT' 'GOOGL' 'KO' 'ABT']<br>[0.12 0.11 0.21 0.35 0.21]",
          "['ABT' 'MSFT' 'KO' 'AAPL' 'WMT']<br>[0.06 0.25 0.09 0.29 0.31]",
          "['AMZN' 'HTH' 'GOOGL' 'AAPL' 'MSFT']<br>[0.31 0.05 0.19 0.04 0.41]",
          "['WMT' 'TGT' 'JPM' 'KO' 'HTH']<br>[0.28 0.01 0.03 0.5  0.17]",
          "['WMT' 'MSFT' 'AAPL' 'KO' 'JPM']<br>[0.3  0.15 0.09 0.39 0.07]",
          "['MSFT' 'WMT' 'AMZN' 'ABT' 'AAPL']<br>[0.27 0.25 0.1  0.11 0.28]",
          "['MSFT' 'AMZN' 'WMT' 'TGT' 'AAPL']<br>[0.21 0.28 0.02 0.08 0.42]",
          "['WMT' 'AAPL' 'AMZN' 'GOOGL' 'MSFT']<br>[0.17 0.28 0.25 0.14 0.17]",
          "['KO' 'AMZN' 'AAPL' 'ABT' 'MSFT']<br>[0.28 0.21 0.14 0.1  0.27]",
          "['JPM' 'AAPL' 'ABT' 'MSFT' 'WMT']<br>[0.14 0.29 0.17 0.33 0.08]",
          "['GOOGL' 'WMT' 'KO' 'ABT' 'JPM']<br>[0.1  0.25 0.33 0.3  0.02]",
          "['JPM' 'AMZN' 'WMT' 'AAPL' 'MSFT']<br>[0.05 0.17 0.24 0.2  0.35]",
          "['MSFT' 'WMT' 'AMZN' 'AAPL' 'ABT']<br>[0.28 0.21 0.2  0.25 0.06]",
          "['JPM' 'GOOGL' 'KO' 'HTH' 'WMT']<br>[0.11 0.21 0.39 0.   0.3 ]",
          "['KO' 'ABT' 'MSFT' 'AMZN' 'AAPL']<br>[0.62 0.09 0.02 0.23 0.04]",
          "['KO' 'MSFT' 'TGT' 'AAPL' 'AMZN']<br>[0.06 0.3  0.   0.21 0.42]",
          "['KO' 'GOOGL' 'AAPL' 'MSFT' 'WMT']<br>[0.21 0.1  0.25 0.23 0.21]",
          "['TGT' 'ABT' 'GOOGL' 'MSFT' 'AAPL']<br>[0.04 0.14 0.07 0.42 0.33]",
          "['WMT' 'GOOGL' 'AAPL' 'JPM' 'MSFT']<br>[0.33 0.04 0.2  0.12 0.31]",
          "['JPM' 'MSFT' 'AMZN' 'AAPL' 'KO']<br>[0.17 0.3  0.11 0.31 0.1 ]",
          "['ABT' 'MSFT' 'AAPL' 'KO' 'GOOGL']<br>[0.12 0.22 0.24 0.41 0.01]",
          "['WMT' 'AMZN' 'AAPL' 'KO' 'MSFT']<br>[0.26 0.24 0.13 0.16 0.21]",
          "['GOOGL' 'WMT' 'ABT' 'KO' 'AMZN']<br>[0.15 0.33 0.11 0.32 0.09]",
          "['WMT' 'AMZN' 'JPM' 'MSFT' 'KO']<br>[0.24 0.27 0.01 0.27 0.21]",
          "['MSFT' 'WMT' 'KO' 'AAPL' 'TGT']<br>[0.28 0.26 0.16 0.19 0.12]",
          "['KO' 'AMZN' 'WMT' 'MSFT' 'GOOGL']<br>[0.21 0.11 0.46 0.15 0.07]",
          "['MSFT' 'WMT' 'TGT' 'AAPL' 'AMZN']<br>[0.49 0.13 0.08 0.25 0.05]",
          "['GOOGL' 'MSFT' 'AAPL' 'AMZN' 'KO']<br>[0.1  0.27 0.36 0.19 0.09]",
          "['WMT' 'JPM' 'KO' 'MSFT' 'ABT']<br>[0.16 0.15 0.23 0.2  0.26]",
          "['GOOGL' 'WMT' 'MSFT' 'KO' 'JPM']<br>[0.03 0.27 0.25 0.31 0.14]",
          "['ABT' 'AAPL' 'GOOGL' 'AMZN' 'MSFT']<br>[0.13 0.21 0.04 0.31 0.3 ]",
          "['MSFT' 'KO' 'AAPL' 'AMZN' 'ABT']<br>[0.28 0.22 0.24 0.11 0.15]",
          "['AMZN' 'AAPL' 'KO' 'WMT' 'MSFT']<br>[0.21 0.07 0.3  0.27 0.14]",
          "['AAPL' 'WMT' 'KO' 'MSFT' 'JPM']<br>[0.14 0.2  0.24 0.27 0.14]",
          "['TGT' 'WMT' 'ABT' 'KO' 'MSFT']<br>[0.06 0.37 0.21 0.35 0.01]",
          "['MSFT' 'KO' 'ABT' 'WMT' 'AMZN']<br>[0.24 0.23 0.17 0.2  0.16]",
          "['AMZN' 'ABT' 'WMT' 'AAPL' 'MSFT']<br>[0.06 0.26 0.29 0.17 0.22]",
          "['GOOGL' 'MSFT' 'WMT' 'AMZN' 'AAPL']<br>[0.1  0.22 0.   0.3  0.38]",
          "['KO' 'MSFT' 'AAPL' 'TGT' 'AMZN']<br>[0.43 0.19 0.14 0.07 0.17]",
          "['AMZN' 'AAPL' 'GOOGL' 'WMT' 'KO']<br>[0.08 0.12 0.16 0.27 0.37]",
          "['AMZN' 'KO' 'HTH' 'WMT' 'GOOGL']<br>[0.19 0.44 0.01 0.26 0.09]",
          "['KO' 'TGT' 'AAPL' 'AMZN' 'MSFT']<br>[0.1  0.18 0.26 0.15 0.31]",
          "['AMZN' 'MSFT' 'AAPL' 'JPM' 'KO']<br>[0.31 0.22 0.3  0.08 0.08]",
          "['WMT' 'AMZN' 'KO' 'JPM' 'ABT']<br>[0.27 0.29 0.27 0.06 0.1 ]",
          "['AMZN' 'WMT' 'MSFT' 'KO' 'JPM']<br>[0.23 0.21 0.22 0.14 0.21]",
          "['HTH' 'WMT' 'ABT' 'KO' 'JPM']<br>[0.1  0.31 0.2  0.33 0.06]",
          "['AMZN' 'WMT' 'HTH' 'MSFT' 'KO']<br>[0.04 0.32 0.07 0.17 0.39]",
          "['AMZN' 'MSFT' 'WMT' 'KO' 'JPM']<br>[0.29 0.04 0.21 0.36 0.1 ]",
          "['WMT' 'AAPL' 'KO' 'MSFT' 'AMZN']<br>[0.11 0.25 0.25 0.22 0.17]",
          "['ABT' 'MSFT' 'AAPL' 'AMZN' 'WMT']<br>[0.2  0.22 0.21 0.23 0.13]",
          "['KO' 'MSFT' 'TGT' 'AAPL' 'AMZN']<br>[0.22 0.26 0.03 0.24 0.25]",
          "['KO' 'AMZN' 'MSFT' 'AAPL' 'GOOGL']<br>[0.21 0.26 0.29 0.21 0.03]",
          "['TGT' 'MSFT' 'JPM' 'AMZN' 'WMT']<br>[0.11 0.42 0.09 0.21 0.17]",
          "['AAPL' 'KO' 'WMT' 'HTH' 'MSFT']<br>[0.14 0.38 0.02 0.02 0.43]",
          "['KO' 'MSFT' 'AAPL' 'ABT' 'AMZN']<br>[0.28 0.38 0.1  0.24 0.01]",
          "['JPM' 'KO' 'AMZN' 'TGT' 'WMT']<br>[0.19 0.31 0.23 0.07 0.21]",
          "['AAPL' 'KO' 'AMZN' 'WMT' 'HTH']<br>[0.13 0.39 0.05 0.35 0.08]",
          "['MSFT' 'WMT' 'TGT' 'AMZN' 'KO']<br>[0.21 0.2  0.05 0.22 0.32]",
          "['TGT' 'MSFT' 'WMT' 'GOOGL' 'AMZN']<br>[0.03 0.56 0.02 0.12 0.27]",
          "['KO' 'WMT' 'ABT' 'AAPL' 'MSFT']<br>[0.22 0.25 0.22 0.21 0.1 ]",
          "['ABT' 'KO' 'GOOGL' 'AAPL' 'WMT']<br>[0.13 0.32 0.19 0.1  0.26]",
          "['KO' 'HTH' 'WMT' 'MSFT' 'AMZN']<br>[0.33 0.02 0.32 0.21 0.12]",
          "['KO' 'AMZN' 'MSFT' 'JPM' 'WMT']<br>[0.26 0.23 0.08 0.18 0.25]",
          "['MSFT' 'AAPL' 'WMT' 'KO' 'TGT']<br>[0.13 0.13 0.31 0.34 0.09]",
          "['AMZN' 'AAPL' 'ABT' 'KO' 'MSFT']<br>[0.16 0.19 0.23 0.14 0.28]",
          "['AAPL' 'AMZN' 'ABT' 'MSFT' 'WMT']<br>[0.37 0.06 0.1  0.32 0.16]",
          "['GOOGL' 'MSFT' 'AAPL' 'ABT' 'KO']<br>[0.03 0.35 0.15 0.08 0.39]",
          "['ABT' 'TGT' 'AAPL' 'MSFT' 'WMT']<br>[0.13 0.06 0.3  0.47 0.04]",
          "['TGT' 'WMT' 'KO' 'MSFT' 'AMZN']<br>[0.1  0.19 0.16 0.34 0.22]",
          "['WMT' 'AMZN' 'JPM' 'KO' 'MSFT']<br>[0.24 0.23 0.09 0.3  0.15]",
          "['MSFT' 'ABT' 'WMT' 'TGT' 'KO']<br>[0.2  0.24 0.22 0.04 0.31]",
          "['TGT' 'MSFT' 'KO' 'AAPL' 'AMZN']<br>[0.1  0.19 0.3  0.21 0.19]",
          "['KO' 'MSFT' 'AAPL' 'WMT' 'AMZN']<br>[0.33 0.22 0.02 0.34 0.1 ]",
          "['WMT' 'JPM' 'ABT' 'AMZN' 'KO']<br>[0.43 0.01 0.17 0.06 0.32]",
          "['GOOGL' 'AMZN' 'MSFT' 'HTH' 'AAPL']<br>[0.06 0.27 0.5  0.05 0.12]",
          "['AMZN' 'AAPL' 'WMT' 'KO' 'MSFT']<br>[0.21 0.29 0.07 0.22 0.21]",
          "['AAPL' 'WMT' 'MSFT' 'KO' 'AMZN']<br>[0.21 0.21 0.03 0.41 0.15]",
          "['KO' 'WMT' 'ABT' 'AMZN' 'MSFT']<br>[0.2  0.23 0.08 0.23 0.27]",
          "['KO' 'ABT' 'HTH' 'AAPL' 'WMT']<br>[0.3  0.27 0.06 0.08 0.29]",
          "['TGT' 'AMZN' 'KO' 'MSFT' 'WMT']<br>[0.05 0.13 0.38 0.43 0.01]",
          "['WMT' 'JPM' 'AAPL' 'KO' 'MSFT']<br>[0.25 0.06 0.   0.35 0.34]",
          "['MSFT' 'WMT' 'KO' 'AMZN' 'JPM']<br>[0.36 0.1  0.21 0.18 0.15]",
          "['TGT' 'AAPL' 'MSFT' 'KO' 'AMZN']<br>[0.03 0.27 0.3  0.24 0.16]",
          "['MSFT' 'AMZN' 'AAPL' 'TGT' 'ABT']<br>[0.17 0.27 0.36 0.09 0.1 ]",
          "['AMZN' 'MSFT' 'KO' 'TGT' 'AAPL']<br>[0.25 0.25 0.08 0.03 0.38]",
          "['KO' 'MSFT' 'AMZN' 'AAPL' 'ABT']<br>[0.07 0.25 0.32 0.29 0.08]",
          "['TGT' 'AAPL' 'KO' 'AMZN' 'WMT']<br>[0.02 0.07 0.45 0.21 0.25]",
          "['MSFT' 'AMZN' 'KO' 'WMT' 'ABT']<br>[0.12 0.22 0.23 0.24 0.2 ]",
          "['MSFT' 'WMT' 'KO' 'ABT' 'TGT']<br>[0.29 0.24 0.33 0.07 0.08]",
          "['ABT' 'MSFT' 'AAPL' 'KO' 'WMT']<br>[0.24 0.27 0.2  0.19 0.11]",
          "['MSFT' 'WMT' 'KO' 'AMZN' 'AAPL']<br>[0.21 0.17 0.03 0.31 0.27]",
          "['KO' 'AAPL' 'ABT' 'MSFT' 'AMZN']<br>[0.03 0.29 0.17 0.26 0.25]",
          "['AAPL' 'AMZN' 'ABT' 'MSFT' 'HTH']<br>[0.51 0.36 0.01 0.11 0.02]",
          "['AAPL' 'ABT' 'TGT' 'KO' 'MSFT']<br>[0.4  0.06 0.01 0.17 0.36]",
          "['WMT' 'KO' 'JPM' 'AAPL' 'MSFT']<br>[0.23 0.29 0.01 0.12 0.35]",
          "['AMZN' 'KO' 'MSFT' 'ABT' 'AAPL']<br>[0.27 0.27 0.19 0.06 0.22]",
          "['WMT' 'AAPL' 'AMZN' 'ABT' 'KO']<br>[0.23 0.09 0.21 0.11 0.36]",
          "['WMT' 'AMZN' 'MSFT' 'KO' 'ABT']<br>[0.13 0.07 0.27 0.29 0.24]",
          "['ABT' 'JPM' 'KO' 'WMT' 'AMZN']<br>[0.17 0.14 0.27 0.23 0.19]",
          "['ABT' 'AMZN' 'AAPL' 'MSFT' 'WMT']<br>[0.07 0.22 0.18 0.32 0.2 ]",
          "['KO' 'AAPL' 'AMZN' 'MSFT' 'WMT']<br>[0.25 0.33 0.06 0.17 0.19]",
          "['KO' 'AMZN' 'AAPL' 'WMT' 'MSFT']<br>[0.39 0.19 0.09 0.2  0.13]",
          "['KO' 'WMT' 'GOOGL' 'ABT' 'MSFT']<br>[0.56 0.23 0.03 0.15 0.04]",
          "['KO' 'AMZN' 'AAPL' 'WMT' 'MSFT']<br>[0.36 0.19 0.03 0.36 0.07]",
          "['JPM' 'GOOGL' 'KO' 'ABT' 'WMT']<br>[0.14 0.05 0.35 0.12 0.33]",
          "['TGT' 'AAPL' 'MSFT' 'AMZN' 'ABT']<br>[0.14 0.3  0.34 0.14 0.08]",
          "['MSFT' 'ABT' 'KO' 'AMZN' 'AAPL']<br>[0.22 0.1  0.32 0.25 0.1 ]",
          "['AAPL' 'KO' 'AMZN' 'JPM' 'MSFT']<br>[0.21 0.15 0.25 0.01 0.38]",
          "['KO' 'MSFT' 'AAPL' 'TGT' 'AMZN']<br>[0.09 0.26 0.29 0.15 0.21]",
          "['TGT' 'KO' 'WMT' 'HTH' 'ABT']<br>[0.02 0.43 0.27 0.05 0.23]",
          "['KO' 'GOOGL' 'WMT' 'AMZN' 'MSFT']<br>[0.13 0.02 0.1  0.26 0.5 ]",
          "['KO' 'AAPL' 'MSFT' 'AMZN' 'WMT']<br>[0.43 0.04 0.25 0.14 0.15]",
          "['MSFT' 'WMT' 'AMZN' 'AAPL' 'KO']<br>[0.36 0.15 0.1  0.33 0.06]",
          "['AAPL' 'KO' 'AMZN' 'WMT' 'ABT']<br>[0.24 0.26 0.11 0.28 0.11]",
          "['MSFT' 'AMZN' 'AAPL' 'ABT' 'JPM']<br>[0.31 0.2  0.35 0.13 0.01]",
          "['ABT' 'AAPL' 'MSFT' 'AMZN' 'KO']<br>[0.   0.18 0.22 0.56 0.03]",
          "['KO' 'JPM' 'MSFT' 'AAPL' 'AMZN']<br>[0.02 0.17 0.38 0.18 0.26]",
          "['AMZN' 'ABT' 'MSFT' 'TGT' 'AAPL']<br>[0.13 0.18 0.39 0.03 0.28]",
          "['KO' 'AMZN' 'TGT' 'MSFT' 'WMT']<br>[0.31 0.09 0.07 0.39 0.14]",
          "['AAPL' 'MSFT' 'AMZN' 'WMT' 'KO']<br>[0.22 0.21 0.26 0.07 0.23]",
          "['WMT' 'KO' 'ABT' 'AMZN' 'AAPL']<br>[0.23 0.27 0.17 0.11 0.22]",
          "['AAPL' 'KO' 'TGT' 'MSFT' 'AMZN']<br>[0.22 0.27 0.06 0.3  0.14]",
          "['ABT' 'WMT' 'KO' 'MSFT' 'AMZN']<br>[0.21 0.2  0.19 0.2  0.2 ]",
          "['AAPL' 'MSFT' 'GOOGL' 'AMZN' 'ABT']<br>[0.32 0.36 0.02 0.27 0.03]",
          "['ABT' 'WMT' 'GOOGL' 'AMZN' 'KO']<br>[0.22 0.24 0.   0.07 0.47]",
          "['KO' 'AMZN' 'MSFT' 'JPM' 'AAPL']<br>[0.27 0.17 0.34 0.06 0.16]",
          "['AMZN' 'ABT' 'JPM' 'WMT' 'KO']<br>[0.09 0.17 0.14 0.18 0.42]",
          "['AAPL' 'WMT' 'AMZN' 'JPM' 'MSFT']<br>[0.21 0.16 0.26 0.1  0.27]",
          "['AMZN' 'WMT' 'AAPL' 'MSFT' 'KO']<br>[0.1  0.12 0.29 0.26 0.23]",
          "['WMT' 'MSFT' 'AMZN' 'KO' 'AAPL']<br>[0.3  0.32 0.02 0.26 0.1 ]",
          "['KO' 'AMZN' 'AAPL' 'MSFT' 'GOOGL']<br>[0.16 0.22 0.36 0.25 0.01]",
          "['KO' 'WMT' 'AAPL' 'ABT' 'AMZN']<br>[0.39 0.2  0.07 0.12 0.21]",
          "['AMZN' 'ABT' 'KO' 'MSFT' 'AAPL']<br>[0.1  0.23 0.29 0.25 0.13]",
          "['AMZN' 'MSFT' 'WMT' 'TGT' 'KO']<br>[0.19 0.63 0.02 0.12 0.03]",
          "['KO' 'WMT' 'MSFT' 'AAPL' 'AMZN']<br>[0.25 0.16 0.17 0.26 0.17]",
          "['JPM' 'KO' 'WMT' 'ABT' 'AMZN']<br>[0.03 0.42 0.19 0.19 0.17]",
          "['MSFT' 'AAPL' 'TGT' 'AMZN' 'KO']<br>[0.36 0.29 0.1  0.07 0.18]",
          "['AMZN' 'AAPL' 'ABT' 'KO' 'MSFT']<br>[0.08 0.5  0.06 0.02 0.35]",
          "['MSFT' 'WMT' 'KO' 'ABT' 'AMZN']<br>[0.21 0.15 0.14 0.29 0.21]",
          "['AMZN' 'KO' 'MSFT' 'AAPL' 'ABT']<br>[0.19 0.22 0.26 0.22 0.1 ]",
          "['KO' 'MSFT' 'WMT' 'AMZN' 'ABT']<br>[0.24 0.24 0.1  0.16 0.26]",
          "['AAPL' 'MSFT' 'KO' 'JPM' 'AMZN']<br>[0.04 0.44 0.04 0.09 0.4 ]",
          "['WMT' 'MSFT' 'JPM' 'KO' 'AMZN']<br>[0.01 0.38 0.02 0.4  0.2 ]",
          "['MSFT' 'AMZN' 'JPM' 'ABT' 'AAPL']<br>[0.29 0.18 0.02 0.21 0.3 ]",
          "['MSFT' 'TGT' 'WMT' 'AAPL' 'AMZN']<br>[0.57 0.03 0.22 0.16 0.02]",
          "['MSFT' 'AMZN' 'AAPL' 'WMT' 'KO']<br>[0.17 0.27 0.18 0.14 0.24]",
          "['KO' 'AAPL' 'ABT' 'MSFT' 'AMZN']<br>[0.2  0.21 0.16 0.28 0.16]",
          "['AMZN' 'KO' 'WMT' 'MSFT' 'AAPL']<br>[0.18 0.37 0.11 0.25 0.09]",
          "['MSFT' 'KO' 'ABT' 'AMZN' 'WMT']<br>[0.13 0.24 0.16 0.17 0.3 ]",
          "['ABT' 'AMZN' 'AAPL' 'TGT' 'MSFT']<br>[0.06 0.22 0.29 0.07 0.36]",
          "['MSFT' 'KO' 'AMZN' 'WMT' 'JPM']<br>[0.11 0.39 0.12 0.24 0.14]",
          "['GOOGL' 'MSFT' 'AAPL' 'KO' 'WMT']<br>[0.   0.28 0.22 0.29 0.21]",
          "['MSFT' 'WMT' 'AMZN' 'AAPL' 'KO']<br>[0.25 0.1  0.24 0.21 0.2 ]",
          "['AMZN' 'KO' 'MSFT' 'ABT' 'WMT']<br>[0.14 0.18 0.27 0.15 0.26]"
         ],
         "type": "scatter",
         "x": [
          0.19525083644320132,
          0.21781912763266859,
          0.1880574021203735,
          0.20066802618022792,
          0.19120668195341653,
          0.22199299245671783,
          0.19967454565772727,
          0.17371726809489127,
          0.19951952545315396,
          0.27974817996255824,
          0.2443239800286749,
          0.21308891212910996,
          0.2439369721365457,
          0.17868576238735787,
          0.20143889695561973,
          0.24141537834021293,
          0.1941668445458431,
          0.23600057708041497,
          0.1923754360379519,
          0.2080117215297677,
          0.18998573753165895,
          0.1871246266071463,
          0.18263671653716812,
          0.1997030849368119,
          0.24110727671537416,
          0.21458571762662107,
          0.1901146018178827,
          0.2367133358142319,
          0.206870120450282,
          0.2106483538560537,
          0.18966063805366315,
          0.18150544408379118,
          0.2332835513197565,
          0.2308210561978253,
          0.22013570672628882,
          0.20551283165623313,
          0.24968685564368087,
          0.20182724508069527,
          0.19040011205516927,
          0.1865529638998743,
          0.24060849552273572,
          0.225733947139534,
          0.21317664164093456,
          0.23588262958266168,
          0.18649190702267454,
          0.23902720322016358,
          0.1732857328227761,
          0.2061196403799278,
          0.1695709705111167,
          0.20538999351574413,
          0.20705891661078282,
          0.17810738081598315,
          0.20140998383456774,
          0.2587899148161183,
          0.16849945458144766,
          0.17068012916175065,
          0.21512315335556692,
          0.2537538373257779,
          0.23339628336400386,
          0.20879101056269542,
          0.22401674309525452,
          0.1687004449548677,
          0.221433481231687,
          0.22372993797125557,
          0.1681688306876778,
          0.18015930533585622,
          0.2592064299951451,
          0.19777884682802135,
          0.24379288159757453,
          0.20546049547552342,
          0.23099814764315962,
          0.1951427318532775,
          0.2008141342223316,
          0.1671752632968322,
          0.1974160712954846,
          0.19381527985991617,
          0.17821782218109833,
          0.2340621519849501,
          0.24631793680274064,
          0.18126251673506064,
          0.17667731568325082,
          0.2513625309199373,
          0.21308856858196026,
          0.182040544111167,
          0.18846338966172932,
          0.16615014611914566,
          0.1856531845947902,
          0.20013316742196957,
          0.2637973539215764,
          0.1923742720691211,
          0.17233701087851575,
          0.1693716242319389,
          0.2271590608630895,
          0.2430176365123284,
          0.17841257630023089,
          0.19637718057431053,
          0.16505218234564945,
          0.16782114917180288,
          0.17986226346112233,
          0.2060840253596771,
          0.22312884280626907,
          0.22432870527758292,
          0.228420444580904,
          0.219989708580157,
          0.2040979511555528,
          0.20374620142639985,
          0.17633384617750109,
          0.16593897111744157,
          0.1851435501646469,
          0.2591063009902494,
          0.18104230524744186,
          0.17066238524518512,
          0.17415707348156462,
          0.1792136128391466,
          0.1730001780145076,
          0.21830397194504278,
          0.22916934439573894,
          0.19988175504138267,
          0.2380698344767017,
          0.20341111820592014,
          0.18068785526416475,
          0.17379079348578821,
          0.2056953972025329,
          0.17520164437358077,
          0.16568122889472514,
          0.2588872986461556,
          0.21651389420766437,
          0.1772069564931328,
          0.19358269152857452,
          0.16709520435037023,
          0.20305424027453703,
          0.1802033592004832,
          0.2043828350866981,
          0.22086363166652437,
          0.24490793571782787,
          0.24799853494741042,
          0.24609603431886698,
          0.17082306510085407,
          0.1811878021595578,
          0.17670341755342,
          0.19856646892045618,
          0.23344629043684417,
          0.24178280834202617,
          0.2691365066071084,
          0.23193377979519098,
          0.1891503371186901,
          0.215710861665938,
          0.17307200758076044,
          0.1846729201504351,
          0.1720351483606865,
          0.2242580984833222,
          0.19806051893586182,
          0.17913683056364224,
          0.164593976702273,
          0.1717499847042601,
          0.16536552751840816,
          0.23908680075800032,
          0.20531714778321786,
          0.2374032785968973,
          0.23295914658567007,
          0.1633195433384518,
          0.23217892161079198,
          0.18224300399569976,
          0.22981140939116904,
          0.17898862565186938,
          0.24910352400541882,
          0.2739406444001358,
          0.24500261963575784,
          0.24192766619601175,
          0.1918845701929423,
          0.2149739098796472,
          0.17855912836199375,
          0.2124449486085495,
          0.18834542522716974,
          0.2604741652209021,
          0.16372558054474215,
          0.21407368970034396,
          0.16694802828553149,
          0.22724091992266524,
          0.20822701921016634,
          0.1855301189473843,
          0.23738364665914582,
          0.1720719930492424,
          0.1995679841163448,
          0.247698113324888,
          0.20008943413170552,
          0.1671563225765816,
          0.2234120133020398,
          0.2579337447995127,
          0.19735691975027572,
          0.21731411298651315,
          0.19160615124203542,
          0.25689004777866736,
          0.20421997984320084,
          0.24036691792708115,
          0.2296266811757649,
          0.20429594346661012,
          0.21505119518747512,
          0.19246696675400696,
          0.17642485654498213,
          0.24822081751261252,
          0.17066225459223644,
          0.1908863692648505,
          0.21557554039815202,
          0.18662434627803784
         ],
         "y": [
          0.14307749053122856,
          0.16428269968141468,
          0.11335585942046529,
          0.14533118842000564,
          0.11844635637235415,
          0.17274062210129976,
          0.15105643855344617,
          0.12198121731549139,
          0.14328986384147327,
          0.18502398782670013,
          0.1890805214796084,
          0.15574418667067264,
          0.18812947113205813,
          0.12532768236967246,
          0.15310541720004706,
          0.1914958438344299,
          0.1454707621258536,
          0.17506360914383626,
          0.1350550855458098,
          0.1559084519738019,
          0.13304198504220086,
          0.1351141482428814,
          0.12909605661225837,
          0.15311206120499102,
          0.18791309820758112,
          0.16430597157641105,
          0.14707356800988733,
          0.1808869602340939,
          0.15933096160088214,
          0.16801360641994234,
          0.14611381887376468,
          0.13767561933857486,
          0.17815322912822146,
          0.1746613768027584,
          0.17455799842605194,
          0.16152133413426076,
          0.19620825528122876,
          0.15333809440271384,
          0.1494556889717102,
          0.14472262607640712,
          0.1942902377585946,
          0.17886136246092915,
          0.1719457511757648,
          0.17983312561142856,
          0.14215446642306262,
          0.1889393721204982,
          0.10435739036696695,
          0.16370173965885604,
          0.11391129262757564,
          0.15486298340046867,
          0.16501389368999883,
          0.1224490339543311,
          0.15749752350754478,
          0.19658754524976144,
          0.08230631248521669,
          0.11880339917246165,
          0.17348427335207503,
          0.20188563439022778,
          0.18205255381829707,
          0.1694556753617118,
          0.1780476578737029,
          0.10571149935611193,
          0.18017003084301872,
          0.18187792938217764,
          0.10189282501156863,
          0.1257668999209869,
          0.20579338081827223,
          0.15360531766988514,
          0.19506036404187416,
          0.15882643637739186,
          0.1853559757371012,
          0.15029471424465954,
          0.15999140579524224,
          0.11074951994299001,
          0.15534079223527927,
          0.14955526998131263,
          0.1232191598507885,
          0.19098482207085285,
          0.19625839420751695,
          0.1294646792544461,
          0.12591075920283126,
          0.2012957789901078,
          0.17331569630341323,
          0.139725163892583,
          0.14487975695766203,
          0.09726714836694574,
          0.14540710096396958,
          0.15555156236366507,
          0.2064886737714609,
          0.15064659452898477,
          0.11969096390796817,
          0.11477385444265645,
          0.182560889357538,
          0.194830140547023,
          0.12903247243332078,
          0.15087341618485234,
          0.09368340752701286,
          0.11208969189016987,
          0.131159341079729,
          0.16741631799455675,
          0.18020481208395578,
          0.18247573567211156,
          0.18496699892082935,
          0.1750451947701203,
          0.16084760260398048,
          0.16029630865694916,
          0.12266927571431863,
          0.10525349036072203,
          0.1430865624910124,
          0.20394182315066384,
          0.13446404218932634,
          0.11510949771978057,
          0.12765583631110605,
          0.13025927180573066,
          0.12010897354734675,
          0.17707070014348283,
          0.18543692426430286,
          0.1565420908105868,
          0.1933595366750135,
          0.16152478924119135,
          0.13671779503399473,
          0.12341685136712743,
          0.16475379328789327,
          0.1291391438621075,
          0.10047939493908481,
          0.2053109084925294,
          0.17578318960924144,
          0.13205247844560133,
          0.15332844542522844,
          0.10545623830881971,
          0.1615343276186644,
          0.1337022584457194,
          0.1626680154697673,
          0.18048950893062268,
          0.1953037150317285,
          0.19990656801650913,
          0.1982379909478651,
          0.12061757151573711,
          0.13742169449447772,
          0.12955193679246252,
          0.15664760718599705,
          0.1869219883717306,
          0.19578089173920332,
          0.20752455285116506,
          0.18649438793892537,
          0.14808465763785336,
          0.17381868627656877,
          0.12742307244295503,
          0.14169928152795727,
          0.12182743321023373,
          0.1826800740028361,
          0.15652438295947593,
          0.13714594002518227,
          0.09815870920872091,
          0.12099281153206203,
          0.09894421360915286,
          0.1937670858615468,
          0.16456618622475652,
          0.1941998191095723,
          0.18730506450795137,
          0.09428786410266078,
          0.18742598687451073,
          0.14106181371166018,
          0.18777789974461548,
          0.13363364087005353,
          0.20227134096057822,
          0.20901127977344053,
          0.1976118536322188,
          0.1976812487649941,
          0.1514928311850966,
          0.17418654628256355,
          0.1340393375086349,
          0.17311982213628171,
          0.14697462992388874,
          0.2103952942506582,
          0.1031893039167239,
          0.17421019317948921,
          0.10884840682861752,
          0.1835402932020464,
          0.16926899607099213,
          0.1431631727516705,
          0.1920852646718299,
          0.12575944370514688,
          0.15851118394233835,
          0.19955504565201232,
          0.16094197735837834,
          0.11564769163888461,
          0.1817722984493679,
          0.20668988971446817,
          0.15379266841639735,
          0.1774273016361436,
          0.1495660133329819,
          0.203812575620769,
          0.1618756034521518,
          0.1947545080289374,
          0.18604157846180355,
          0.1639876799279137,
          0.17541943483387018,
          0.1536603617535257,
          0.1317095748963412,
          0.20237698640862642,
          0.12007782383380729,
          0.14971789727311943,
          0.17566894384987797,
          0.14583006025580364
         ]
        }
       ],
       "layout": {
        "coloraxis": {
         "colorbar": {
          "title": {
           "text": "Sharpe Ratio"
          }
         }
        },
        "height": 500,
        "template": {
         "data": {
          "bar": [
           {
            "error_x": {
             "color": "#2a3f5f"
            },
            "error_y": {
             "color": "#2a3f5f"
            },
            "marker": {
             "line": {
              "color": "white",
              "width": 0.5
             }
            },
            "type": "bar"
           }
          ],
          "barpolar": [
           {
            "marker": {
             "line": {
              "color": "white",
              "width": 0.5
             }
            },
            "type": "barpolar"
           }
          ],
          "carpet": [
           {
            "aaxis": {
             "endlinecolor": "#2a3f5f",
             "gridcolor": "#C8D4E3",
             "linecolor": "#C8D4E3",
             "minorgridcolor": "#C8D4E3",
             "startlinecolor": "#2a3f5f"
            },
            "baxis": {
             "endlinecolor": "#2a3f5f",
             "gridcolor": "#C8D4E3",
             "linecolor": "#C8D4E3",
             "minorgridcolor": "#C8D4E3",
             "startlinecolor": "#2a3f5f"
            },
            "type": "carpet"
           }
          ],
          "choropleth": [
           {
            "colorbar": {
             "outlinewidth": 0,
             "ticks": ""
            },
            "type": "choropleth"
           }
          ],
          "contour": [
           {
            "colorbar": {
             "outlinewidth": 0,
             "ticks": ""
            },
            "colorscale": [
             [
              0,
              "#0d0887"
             ],
             [
              0.1111111111111111,
              "#46039f"
             ],
             [
              0.2222222222222222,
              "#7201a8"
             ],
             [
              0.3333333333333333,
              "#9c179e"
             ],
             [
              0.4444444444444444,
              "#bd3786"
             ],
             [
              0.5555555555555556,
              "#d8576b"
             ],
             [
              0.6666666666666666,
              "#ed7953"
             ],
             [
              0.7777777777777778,
              "#fb9f3a"
             ],
             [
              0.8888888888888888,
              "#fdca26"
             ],
             [
              1,
              "#f0f921"
             ]
            ],
            "type": "contour"
           }
          ],
          "contourcarpet": [
           {
            "colorbar": {
             "outlinewidth": 0,
             "ticks": ""
            },
            "type": "contourcarpet"
           }
          ],
          "heatmap": [
           {
            "colorbar": {
             "outlinewidth": 0,
             "ticks": ""
            },
            "colorscale": [
             [
              0,
              "#0d0887"
             ],
             [
              0.1111111111111111,
              "#46039f"
             ],
             [
              0.2222222222222222,
              "#7201a8"
             ],
             [
              0.3333333333333333,
              "#9c179e"
             ],
             [
              0.4444444444444444,
              "#bd3786"
             ],
             [
              0.5555555555555556,
              "#d8576b"
             ],
             [
              0.6666666666666666,
              "#ed7953"
             ],
             [
              0.7777777777777778,
              "#fb9f3a"
             ],
             [
              0.8888888888888888,
              "#fdca26"
             ],
             [
              1,
              "#f0f921"
             ]
            ],
            "type": "heatmap"
           }
          ],
          "heatmapgl": [
           {
            "colorbar": {
             "outlinewidth": 0,
             "ticks": ""
            },
            "colorscale": [
             [
              0,
              "#0d0887"
             ],
             [
              0.1111111111111111,
              "#46039f"
             ],
             [
              0.2222222222222222,
              "#7201a8"
             ],
             [
              0.3333333333333333,
              "#9c179e"
             ],
             [
              0.4444444444444444,
              "#bd3786"
             ],
             [
              0.5555555555555556,
              "#d8576b"
             ],
             [
              0.6666666666666666,
              "#ed7953"
             ],
             [
              0.7777777777777778,
              "#fb9f3a"
             ],
             [
              0.8888888888888888,
              "#fdca26"
             ],
             [
              1,
              "#f0f921"
             ]
            ],
            "type": "heatmapgl"
           }
          ],
          "histogram": [
           {
            "marker": {
             "colorbar": {
              "outlinewidth": 0,
              "ticks": ""
             }
            },
            "type": "histogram"
           }
          ],
          "histogram2d": [
           {
            "colorbar": {
             "outlinewidth": 0,
             "ticks": ""
            },
            "colorscale": [
             [
              0,
              "#0d0887"
             ],
             [
              0.1111111111111111,
              "#46039f"
             ],
             [
              0.2222222222222222,
              "#7201a8"
             ],
             [
              0.3333333333333333,
              "#9c179e"
             ],
             [
              0.4444444444444444,
              "#bd3786"
             ],
             [
              0.5555555555555556,
              "#d8576b"
             ],
             [
              0.6666666666666666,
              "#ed7953"
             ],
             [
              0.7777777777777778,
              "#fb9f3a"
             ],
             [
              0.8888888888888888,
              "#fdca26"
             ],
             [
              1,
              "#f0f921"
             ]
            ],
            "type": "histogram2d"
           }
          ],
          "histogram2dcontour": [
           {
            "colorbar": {
             "outlinewidth": 0,
             "ticks": ""
            },
            "colorscale": [
             [
              0,
              "#0d0887"
             ],
             [
              0.1111111111111111,
              "#46039f"
             ],
             [
              0.2222222222222222,
              "#7201a8"
             ],
             [
              0.3333333333333333,
              "#9c179e"
             ],
             [
              0.4444444444444444,
              "#bd3786"
             ],
             [
              0.5555555555555556,
              "#d8576b"
             ],
             [
              0.6666666666666666,
              "#ed7953"
             ],
             [
              0.7777777777777778,
              "#fb9f3a"
             ],
             [
              0.8888888888888888,
              "#fdca26"
             ],
             [
              1,
              "#f0f921"
             ]
            ],
            "type": "histogram2dcontour"
           }
          ],
          "mesh3d": [
           {
            "colorbar": {
             "outlinewidth": 0,
             "ticks": ""
            },
            "type": "mesh3d"
           }
          ],
          "parcoords": [
           {
            "line": {
             "colorbar": {
              "outlinewidth": 0,
              "ticks": ""
             }
            },
            "type": "parcoords"
           }
          ],
          "pie": [
           {
            "automargin": true,
            "type": "pie"
           }
          ],
          "scatter": [
           {
            "marker": {
             "colorbar": {
              "outlinewidth": 0,
              "ticks": ""
             }
            },
            "type": "scatter"
           }
          ],
          "scatter3d": [
           {
            "line": {
             "colorbar": {
              "outlinewidth": 0,
              "ticks": ""
             }
            },
            "marker": {
             "colorbar": {
              "outlinewidth": 0,
              "ticks": ""
             }
            },
            "type": "scatter3d"
           }
          ],
          "scattercarpet": [
           {
            "marker": {
             "colorbar": {
              "outlinewidth": 0,
              "ticks": ""
             }
            },
            "type": "scattercarpet"
           }
          ],
          "scattergeo": [
           {
            "marker": {
             "colorbar": {
              "outlinewidth": 0,
              "ticks": ""
             }
            },
            "type": "scattergeo"
           }
          ],
          "scattergl": [
           {
            "marker": {
             "colorbar": {
              "outlinewidth": 0,
              "ticks": ""
             }
            },
            "type": "scattergl"
           }
          ],
          "scattermapbox": [
           {
            "marker": {
             "colorbar": {
              "outlinewidth": 0,
              "ticks": ""
             }
            },
            "type": "scattermapbox"
           }
          ],
          "scatterpolar": [
           {
            "marker": {
             "colorbar": {
              "outlinewidth": 0,
              "ticks": ""
             }
            },
            "type": "scatterpolar"
           }
          ],
          "scatterpolargl": [
           {
            "marker": {
             "colorbar": {
              "outlinewidth": 0,
              "ticks": ""
             }
            },
            "type": "scatterpolargl"
           }
          ],
          "scatterternary": [
           {
            "marker": {
             "colorbar": {
              "outlinewidth": 0,
              "ticks": ""
             }
            },
            "type": "scatterternary"
           }
          ],
          "surface": [
           {
            "colorbar": {
             "outlinewidth": 0,
             "ticks": ""
            },
            "colorscale": [
             [
              0,
              "#0d0887"
             ],
             [
              0.1111111111111111,
              "#46039f"
             ],
             [
              0.2222222222222222,
              "#7201a8"
             ],
             [
              0.3333333333333333,
              "#9c179e"
             ],
             [
              0.4444444444444444,
              "#bd3786"
             ],
             [
              0.5555555555555556,
              "#d8576b"
             ],
             [
              0.6666666666666666,
              "#ed7953"
             ],
             [
              0.7777777777777778,
              "#fb9f3a"
             ],
             [
              0.8888888888888888,
              "#fdca26"
             ],
             [
              1,
              "#f0f921"
             ]
            ],
            "type": "surface"
           }
          ],
          "table": [
           {
            "cells": {
             "fill": {
              "color": "#EBF0F8"
             },
             "line": {
              "color": "white"
             }
            },
            "header": {
             "fill": {
              "color": "#C8D4E3"
             },
             "line": {
              "color": "white"
             }
            },
            "type": "table"
           }
          ]
         },
         "layout": {
          "annotationdefaults": {
           "arrowcolor": "#2a3f5f",
           "arrowhead": 0,
           "arrowwidth": 1
          },
          "autotypenumbers": "strict",
          "coloraxis": {
           "colorbar": {
            "outlinewidth": 0,
            "ticks": ""
           }
          },
          "colorscale": {
           "diverging": [
            [
             0,
             "#8e0152"
            ],
            [
             0.1,
             "#c51b7d"
            ],
            [
             0.2,
             "#de77ae"
            ],
            [
             0.3,
             "#f1b6da"
            ],
            [
             0.4,
             "#fde0ef"
            ],
            [
             0.5,
             "#f7f7f7"
            ],
            [
             0.6,
             "#e6f5d0"
            ],
            [
             0.7,
             "#b8e186"
            ],
            [
             0.8,
             "#7fbc41"
            ],
            [
             0.9,
             "#4d9221"
            ],
            [
             1,
             "#276419"
            ]
           ],
           "sequential": [
            [
             0,
             "#0d0887"
            ],
            [
             0.1111111111111111,
             "#46039f"
            ],
            [
             0.2222222222222222,
             "#7201a8"
            ],
            [
             0.3333333333333333,
             "#9c179e"
            ],
            [
             0.4444444444444444,
             "#bd3786"
            ],
            [
             0.5555555555555556,
             "#d8576b"
            ],
            [
             0.6666666666666666,
             "#ed7953"
            ],
            [
             0.7777777777777778,
             "#fb9f3a"
            ],
            [
             0.8888888888888888,
             "#fdca26"
            ],
            [
             1,
             "#f0f921"
            ]
           ],
           "sequentialminus": [
            [
             0,
             "#0d0887"
            ],
            [
             0.1111111111111111,
             "#46039f"
            ],
            [
             0.2222222222222222,
             "#7201a8"
            ],
            [
             0.3333333333333333,
             "#9c179e"
            ],
            [
             0.4444444444444444,
             "#bd3786"
            ],
            [
             0.5555555555555556,
             "#d8576b"
            ],
            [
             0.6666666666666666,
             "#ed7953"
            ],
            [
             0.7777777777777778,
             "#fb9f3a"
            ],
            [
             0.8888888888888888,
             "#fdca26"
            ],
            [
             1,
             "#f0f921"
            ]
           ]
          },
          "colorway": [
           "#636efa",
           "#EF553B",
           "#00cc96",
           "#ab63fa",
           "#FFA15A",
           "#19d3f3",
           "#FF6692",
           "#B6E880",
           "#FF97FF",
           "#FECB52"
          ],
          "font": {
           "color": "#2a3f5f"
          },
          "geo": {
           "bgcolor": "white",
           "lakecolor": "white",
           "landcolor": "white",
           "showlakes": true,
           "showland": true,
           "subunitcolor": "#C8D4E3"
          },
          "hoverlabel": {
           "align": "left"
          },
          "hovermode": "closest",
          "mapbox": {
           "style": "light"
          },
          "paper_bgcolor": "white",
          "plot_bgcolor": "white",
          "polar": {
           "angularaxis": {
            "gridcolor": "#EBF0F8",
            "linecolor": "#EBF0F8",
            "ticks": ""
           },
           "bgcolor": "white",
           "radialaxis": {
            "gridcolor": "#EBF0F8",
            "linecolor": "#EBF0F8",
            "ticks": ""
           }
          },
          "scene": {
           "xaxis": {
            "backgroundcolor": "white",
            "gridcolor": "#DFE8F3",
            "gridwidth": 2,
            "linecolor": "#EBF0F8",
            "showbackground": true,
            "ticks": "",
            "zerolinecolor": "#EBF0F8"
           },
           "yaxis": {
            "backgroundcolor": "white",
            "gridcolor": "#DFE8F3",
            "gridwidth": 2,
            "linecolor": "#EBF0F8",
            "showbackground": true,
            "ticks": "",
            "zerolinecolor": "#EBF0F8"
           },
           "zaxis": {
            "backgroundcolor": "white",
            "gridcolor": "#DFE8F3",
            "gridwidth": 2,
            "linecolor": "#EBF0F8",
            "showbackground": true,
            "ticks": "",
            "zerolinecolor": "#EBF0F8"
           }
          },
          "shapedefaults": {
           "line": {
            "color": "#2a3f5f"
           }
          },
          "ternary": {
           "aaxis": {
            "gridcolor": "#DFE8F3",
            "linecolor": "#A2B1C6",
            "ticks": ""
           },
           "baxis": {
            "gridcolor": "#DFE8F3",
            "linecolor": "#A2B1C6",
            "ticks": ""
           },
           "bgcolor": "white",
           "caxis": {
            "gridcolor": "#DFE8F3",
            "linecolor": "#A2B1C6",
            "ticks": ""
           }
          },
          "title": {
           "x": 0.05
          },
          "xaxis": {
           "automargin": true,
           "gridcolor": "#EBF0F8",
           "linecolor": "#EBF0F8",
           "ticks": "",
           "title": {
            "standoff": 15
           },
           "zerolinecolor": "#EBF0F8",
           "zerolinewidth": 2
          },
          "yaxis": {
           "automargin": true,
           "gridcolor": "#EBF0F8",
           "linecolor": "#EBF0F8",
           "ticks": "",
           "title": {
            "standoff": 15
           },
           "zerolinecolor": "#EBF0F8",
           "zerolinewidth": 2
          }
         }
        },
        "title": {
         "text": "Sample of Random Portfolios"
        },
        "width": 850,
        "xaxis": {
         "title": {
          "text": "Annualised Risk (Volatility)"
         }
        },
        "yaxis": {
         "title": {
          "text": "Annualised Return"
         }
        }
       }
      }
     },
     "metadata": {},
     "output_type": "display_data"
    }
   ],
   "source": [
    "#-- Plot the risk vs. return of randomly generated portfolios\n",
    "#-- Convert the list from before into an array for easy plotting\n",
    "mean_variance_pairs = np.array(mean_variance_pairs)\n",
    "\n",
    "fig = go.Figure()\n",
    "fig.add_trace(go.Scatter(x=mean_variance_pairs[:,1]**0.5, y=mean_variance_pairs[:,0], \n",
    "                      marker=dict(color=(mean_variance_pairs[:,0]-risk_free_rate)/(mean_variance_pairs[:,1]**0.5), \n",
    "                                  showscale=True, \n",
    "                                  size=7,\n",
    "                                  line=dict(width=1),\n",
    "                                  colorscale=\"RdBu\",\n",
    "                                  colorbar=dict(title=\"Sharpe<br>Ratio\")\n",
    "                                 ), \n",
    "                      mode='markers',\n",
    "                      text=[str(np.array(tickers_list[i])) + \"<br>\" + str(np.array(weights_list[i]).round(2)) for i in range(len(tickers_list))]))\n",
    "fig.update_layout(template='plotly_white',\n",
    "                  xaxis=dict(title='Annualised Risk (Volatility)'),\n",
    "                  yaxis=dict(title='Annualised Return'),\n",
    "                  title='Sample of Random Portfolios',\n",
    "                  width=850,\n",
    "                  height=500)\n",
    "# fig.update_xaxes(range=[0.18, 0.35])\n",
    "# fig.update_yaxes(range=[0.05,0.29])\n",
    "fig.update_layout(coloraxis_colorbar=dict(title=\"Sharpe Ratio\"))"
   ]
  }
 ],
 "metadata": {
  "kernelspec": {
   "display_name": "base",
   "language": "python",
   "name": "python3"
  },
  "language_info": {
   "codemirror_mode": {
    "name": "ipython",
    "version": 3
   },
   "file_extension": ".py",
   "mimetype": "text/x-python",
   "name": "python",
   "nbconvert_exporter": "python",
   "pygments_lexer": "ipython3",
   "version": "3.9.7"
  },
  "orig_nbformat": 4,
  "vscode": {
   "interpreter": {
    "hash": "651add51c3cbc36662d3bed529119182c196c96833ac7d541c272038af8218b3"
   }
  }
 },
 "nbformat": 4,
 "nbformat_minor": 2
}
